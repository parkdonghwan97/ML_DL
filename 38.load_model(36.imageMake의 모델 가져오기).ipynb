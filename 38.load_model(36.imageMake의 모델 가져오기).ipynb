{
 "cells": [
  {
   "cell_type": "code",
   "execution_count": 1,
   "id": "425d2279",
   "metadata": {
    "ExecuteTime": {
     "end_time": "2021-12-29T15:13:56.358863Z",
     "start_time": "2021-12-29T15:13:56.347892Z"
    }
   },
   "outputs": [],
   "source": [
    "#         model = Sequential()\n",
    "#         model.add(Conv2D(20, kernel_size = 5, padding=\"same\", input_shape=input_shape))\n",
    "#         model.add(Activation(\"relu\"))\n",
    "#         model.add(MaxPooling2D(pool_size = (2,2), strides = (2,2)))\n",
    "#         model.add(Conv2D(50, kernel_size = 5, padding=\"same\"))\n",
    "#         model.add(Activation(\"relu\"))\n",
    "#         model.add(MaxPooling2D(pool_size = (2,2), strides = (2,2)))\n",
    "#         model.add(Flatten())\n",
    "#         model.add(Dense(500))\n",
    "#         model.add(Activation(\"relu\"))\n",
    "#         model.add(Dense(10))\n",
    "#         model.add(Activation(\"softmax\"))\n"
   ]
  },
  {
   "cell_type": "code",
   "execution_count": 2,
   "id": "8b265954",
   "metadata": {
    "ExecuteTime": {
     "end_time": "2021-12-29T15:13:57.936724Z",
     "start_time": "2021-12-29T15:13:56.359870Z"
    }
   },
   "outputs": [],
   "source": [
    "from tensorflow.keras.models import load_model"
   ]
  },
  {
   "cell_type": "code",
   "execution_count": 3,
   "id": "9cfc6450",
   "metadata": {
    "ExecuteTime": {
     "end_time": "2021-12-29T15:13:59.436355Z",
     "start_time": "2021-12-29T15:13:57.937497Z"
    }
   },
   "outputs": [
    {
     "name": "stdout",
     "output_type": "stream",
     "text": [
      "Model: \"sequential\"\n",
      "_________________________________________________________________\n",
      "Layer (type)                 Output Shape              Param #   \n",
      "=================================================================\n",
      "flatten (Flatten)            (None, 28812)             0         \n",
      "_________________________________________________________________\n",
      "dense (Dense)                (None, 64)                1844032   \n",
      "_________________________________________________________________\n",
      "dense_1 (Dense)              (None, 32)                2080      \n",
      "_________________________________________________________________\n",
      "dense_2 (Dense)              (None, 2)                 66        \n",
      "=================================================================\n",
      "Total params: 1,846,178\n",
      "Trainable params: 1,846,178\n",
      "Non-trainable params: 0\n",
      "_________________________________________________________________\n"
     ]
    }
   ],
   "source": [
    "model = load_model('catdog.h5')\n",
    "model.summary()"
   ]
  },
  {
   "cell_type": "code",
   "execution_count": 4,
   "id": "c71d9aa4",
   "metadata": {
    "ExecuteTime": {
     "end_time": "2021-12-29T15:13:59.451577Z",
     "start_time": "2021-12-29T15:13:59.437190Z"
    }
   },
   "outputs": [],
   "source": [
    "from tensorflow.keras.preprocessing import image"
   ]
  },
  {
   "cell_type": "code",
   "execution_count": 5,
   "id": "a94432b5",
   "metadata": {
    "ExecuteTime": {
     "end_time": "2021-12-29T15:13:59.483496Z",
     "start_time": "2021-12-29T15:13:59.455571Z"
    }
   },
   "outputs": [
    {
     "data": {
      "image/png": "[encoded data removed]",
      "text/plain": [
       "<PIL.Image.Image image mode=RGB size=98x98 at 0x1EE0982EEE0>"
      ]
     },
     "execution_count": 5,
     "metadata": {},
     "output_type": "execute_result"
    }
   ],
   "source": [
    "testImg = image.load_img('image/test.jpg',target_size=(98,98))\n",
    "testImg"
   ]
  },
  {
   "cell_type": "code",
   "execution_count": 6,
   "id": "1b7acdfb",
   "metadata": {
    "ExecuteTime": {
     "end_time": "2021-12-29T15:13:59.498639Z",
     "start_time": "2021-12-29T15:13:59.484493Z"
    }
   },
   "outputs": [],
   "source": [
    "imgArr = image.img_to_array(testImg) #  넘파이 배열로 만듦\n",
    "imgArr = imgArr/255   #  스케일링"
   ]
  },
  {
   "cell_type": "code",
   "execution_count": 7,
   "id": "ea7f2168",
   "metadata": {
    "ExecuteTime": {
     "end_time": "2021-12-29T15:13:59.514541Z",
     "start_time": "2021-12-29T15:13:59.499578Z"
    }
   },
   "outputs": [
    {
     "data": {
      "text/plain": [
       "(98, 98, 3)"
      ]
     },
     "execution_count": 7,
     "metadata": {},
     "output_type": "execute_result"
    }
   ],
   "source": [
    "imgArr.shape"
   ]
  },
  {
   "cell_type": "code",
   "execution_count": 8,
   "id": "d031e743",
   "metadata": {
    "ExecuteTime": {
     "end_time": "2021-12-29T15:13:59.609779Z",
     "start_time": "2021-12-29T15:13:59.515535Z"
    }
   },
   "outputs": [
    {
     "data": {
      "text/plain": [
       "array([[0.00112965, 0.9988703 ]], dtype=float32)"
      ]
     },
     "execution_count": 8,
     "metadata": {},
     "output_type": "execute_result"
    }
   ],
   "source": [
    "model.predict(imgArr.reshape(1,98,98,3))"
   ]
  },
  {
   "cell_type": "code",
   "execution_count": 9,
   "id": "dfd671bb",
   "metadata": {
    "ExecuteTime": {
     "end_time": "2021-12-29T15:13:59.641698Z",
     "start_time": "2021-12-29T15:13:59.610776Z"
    }
   },
   "outputs": [
    {
     "data": {
      "text/plain": [
       "array([1], dtype=int64)"
      ]
     },
     "execution_count": 9,
     "metadata": {},
     "output_type": "execute_result"
    }
   ],
   "source": [
    "model.predict(imgArr.reshape(1,98,98,3)).argmax(axis=1)"
   ]
  },
  {
   "cell_type": "code",
   "execution_count": 10,
   "id": "a5007792",
   "metadata": {
    "ExecuteTime": {
     "end_time": "2021-12-29T15:13:59.673608Z",
     "start_time": "2021-12-29T15:13:59.642692Z"
    }
   },
   "outputs": [
    {
     "data": {
      "text/plain": [
       "{'loss': [0.009779701009392738,\n",
       "  0.009408720768988132,\n",
       "  0.008629078045487404,\n",
       "  0.007868757471442223,\n",
       "  0.00745064252987504,\n",
       "  0.0073776645585894585,\n",
       "  0.007433163933455944,\n",
       "  0.007369150407612324,\n",
       "  0.007073053624480963,\n",
       "  0.006635916419327259,\n",
       "  0.006229227874428034,\n",
       "  0.005995886866003275,\n",
       "  0.005933673586696386,\n",
       "  0.005898968316614628,\n",
       "  0.005806975066661835,\n",
       "  0.005624178797006607,\n",
       "  0.005386196076869965,\n",
       "  0.005155322141945362,\n",
       "  0.005001828074455261,\n",
       "  0.004909210838377476,\n",
       "  0.004855159670114517,\n",
       "  0.0047933561727404594,\n",
       "  0.004687659442424774,\n",
       "  0.004549644887447357,\n",
       "  0.004411218222230673,\n",
       "  0.004296178929507732,\n",
       "  0.004217077046632767,\n",
       "  0.004165045917034149,\n",
       "  0.004118026699870825,\n",
       "  0.0040605803951621056,\n",
       "  0.003987238742411137,\n",
       "  0.003903081640601158,\n",
       "  0.0038216947577893734,\n",
       "  0.003759428160265088,\n",
       "  0.0037080724723637104,\n",
       "  0.003662253962829709,\n",
       "  0.0036180659662932158,\n",
       "  0.0035658315755426884,\n",
       "  0.0035062923561781645,\n",
       "  0.0034442045725882053,\n",
       "  0.0033876008819788694,\n",
       "  0.0033375949133187532,\n",
       "  0.0032930783927440643,\n",
       "  0.0032559833489358425,\n",
       "  0.003215473610907793,\n",
       "  0.003170277224853635,\n",
       "  0.0031226403079926968,\n",
       "  0.0030758106149733067,\n",
       "  0.0030338172800838947,\n",
       "  0.0029980770777910948],\n",
       " 'acc': [1.0,\n",
       "  1.0,\n",
       "  1.0,\n",
       "  1.0,\n",
       "  1.0,\n",
       "  1.0,\n",
       "  1.0,\n",
       "  1.0,\n",
       "  1.0,\n",
       "  1.0,\n",
       "  1.0,\n",
       "  1.0,\n",
       "  1.0,\n",
       "  1.0,\n",
       "  1.0,\n",
       "  1.0,\n",
       "  1.0,\n",
       "  1.0,\n",
       "  1.0,\n",
       "  1.0,\n",
       "  1.0,\n",
       "  1.0,\n",
       "  1.0,\n",
       "  1.0,\n",
       "  1.0,\n",
       "  1.0,\n",
       "  1.0,\n",
       "  1.0,\n",
       "  1.0,\n",
       "  1.0,\n",
       "  1.0,\n",
       "  1.0,\n",
       "  1.0,\n",
       "  1.0,\n",
       "  1.0,\n",
       "  1.0,\n",
       "  1.0,\n",
       "  1.0,\n",
       "  1.0,\n",
       "  1.0,\n",
       "  1.0,\n",
       "  1.0,\n",
       "  1.0,\n",
       "  1.0,\n",
       "  1.0,\n",
       "  1.0,\n",
       "  1.0,\n",
       "  1.0,\n",
       "  1.0,\n",
       "  1.0]}"
      ]
     },
     "execution_count": 10,
     "metadata": {},
     "output_type": "execute_result"
    }
   ],
   "source": [
    "import pickle\n",
    "fp = open('catdog.history','rb')\n",
    "h = pickle.load(fp)\n",
    "h"
   ]
  },
  {
   "cell_type": "code",
   "execution_count": 11,
   "id": "9d507374",
   "metadata": {
    "ExecuteTime": {
     "end_time": "2021-12-29T15:13:59.689015Z",
     "start_time": "2021-12-29T15:13:59.674606Z"
    }
   },
   "outputs": [
    {
     "name": "stdout",
     "output_type": "stream",
     "text": [
      "myh\n"
     ]
    }
   ],
   "source": [
    "import shelve\n",
    "sh = shelve.open('myhist')\n",
    "\n",
    "for k in sh.keys():\n",
    "    print(k)"
   ]
  },
  {
   "cell_type": "code",
   "execution_count": 12,
   "id": "cc08c189",
   "metadata": {
    "ExecuteTime": {
     "end_time": "2021-12-29T15:13:59.704339Z",
     "start_time": "2021-12-29T15:13:59.690007Z"
    }
   },
   "outputs": [
    {
     "data": {
      "text/plain": [
       "{'loss': [0.009779701009392738,\n",
       "  0.009408720768988132,\n",
       "  0.008629078045487404,\n",
       "  0.007868757471442223,\n",
       "  0.00745064252987504,\n",
       "  0.0073776645585894585,\n",
       "  0.007433163933455944,\n",
       "  0.007369150407612324,\n",
       "  0.007073053624480963,\n",
       "  0.006635916419327259,\n",
       "  0.006229227874428034,\n",
       "  0.005995886866003275,\n",
       "  0.005933673586696386,\n",
       "  0.005898968316614628,\n",
       "  0.005806975066661835,\n",
       "  0.005624178797006607,\n",
       "  0.005386196076869965,\n",
       "  0.005155322141945362,\n",
       "  0.005001828074455261,\n",
       "  0.004909210838377476,\n",
       "  0.004855159670114517,\n",
       "  0.0047933561727404594,\n",
       "  0.004687659442424774,\n",
       "  0.004549644887447357,\n",
       "  0.004411218222230673,\n",
       "  0.004296178929507732,\n",
       "  0.004217077046632767,\n",
       "  0.004165045917034149,\n",
       "  0.004118026699870825,\n",
       "  0.0040605803951621056,\n",
       "  0.003987238742411137,\n",
       "  0.003903081640601158,\n",
       "  0.0038216947577893734,\n",
       "  0.003759428160265088,\n",
       "  0.0037080724723637104,\n",
       "  0.003662253962829709,\n",
       "  0.0036180659662932158,\n",
       "  0.0035658315755426884,\n",
       "  0.0035062923561781645,\n",
       "  0.0034442045725882053,\n",
       "  0.0033876008819788694,\n",
       "  0.0033375949133187532,\n",
       "  0.0032930783927440643,\n",
       "  0.0032559833489358425,\n",
       "  0.003215473610907793,\n",
       "  0.003170277224853635,\n",
       "  0.0031226403079926968,\n",
       "  0.0030758106149733067,\n",
       "  0.0030338172800838947,\n",
       "  0.0029980770777910948],\n",
       " 'acc': [1.0,\n",
       "  1.0,\n",
       "  1.0,\n",
       "  1.0,\n",
       "  1.0,\n",
       "  1.0,\n",
       "  1.0,\n",
       "  1.0,\n",
       "  1.0,\n",
       "  1.0,\n",
       "  1.0,\n",
       "  1.0,\n",
       "  1.0,\n",
       "  1.0,\n",
       "  1.0,\n",
       "  1.0,\n",
       "  1.0,\n",
       "  1.0,\n",
       "  1.0,\n",
       "  1.0,\n",
       "  1.0,\n",
       "  1.0,\n",
       "  1.0,\n",
       "  1.0,\n",
       "  1.0,\n",
       "  1.0,\n",
       "  1.0,\n",
       "  1.0,\n",
       "  1.0,\n",
       "  1.0,\n",
       "  1.0,\n",
       "  1.0,\n",
       "  1.0,\n",
       "  1.0,\n",
       "  1.0,\n",
       "  1.0,\n",
       "  1.0,\n",
       "  1.0,\n",
       "  1.0,\n",
       "  1.0,\n",
       "  1.0,\n",
       "  1.0,\n",
       "  1.0,\n",
       "  1.0,\n",
       "  1.0,\n",
       "  1.0,\n",
       "  1.0,\n",
       "  1.0,\n",
       "  1.0,\n",
       "  1.0]}"
      ]
     },
     "execution_count": 12,
     "metadata": {},
     "output_type": "execute_result"
    }
   ],
   "source": [
    "sh['myh']"
   ]
  }
 ],
 "metadata": {
  "kernelspec": {
   "display_name": "Python 3",
   "language": "python",
   "name": "python3"
  },
  "language_info": {
   "codemirror_mode": {
    "name": "ipython",
    "version": 3
   },
   "file_extension": ".py",
   "mimetype": "text/x-python",
   "name": "python",
   "nbconvert_exporter": "python",
   "pygments_lexer": "ipython3",
   "version": "3.8.8"
  },
  "toc": {
   "base_numbering": 1,
   "nav_menu": {},
   "number_sections": true,
   "sideBar": true,
   "skip_h1_title": false,
   "title_cell": "Table of Contents",
   "title_sidebar": "Contents",
   "toc_cell": false,
   "toc_position": {},
   "toc_section_display": true,
   "toc_window_display": false
  }
 },
 "nbformat": 4,
 "nbformat_minor": 5
}
