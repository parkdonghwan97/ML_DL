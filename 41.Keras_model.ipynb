{
 "cells": [
  {
   "cell_type": "code",
   "execution_count": 2,
   "id": "42cde14e",
   "metadata": {},
   "outputs": [],
   "source": [
    "import numpy as np\n",
    "import tensorflow as tf\n",
    "from tensorflow.keras.optimizers import Adam,Adagrad\n",
    "from tensorflow.keras import Sequential, Input, Model\n",
    "from tensorflow.keras.layers import Dense\n",
    "import matplotlib.pyplot  as plt\n",
    "import pandas as pd \n",
    "plt.style.use(['seaborn-white'])"
   ]
  },
  {
   "cell_type": "code",
   "execution_count": 3,
   "id": "14dcc2f0",
   "metadata": {},
   "outputs": [],
   "source": [
    "x_data = np.array( [[0,0],\n",
    "                    [0,1],\n",
    "                    [1,0],\n",
    "                    [1,1]] )\n",
    "\n",
    "y_data = np.array( [[0],\n",
    "                    [1],\n",
    "                    [1],\n",
    "                    [0] ] )"
   ]
  },
  {
   "cell_type": "code",
   "execution_count": null,
   "id": "621aad0c",
   "metadata": {},
   "outputs": [],
   "source": [
    "myin = Iput(shape=(2,))\n",
    "out1  =Dense(units=100   , activation='relu' )(myin)\n",
    "out2  =Dense(units=1   , activation='sigmoid' )(out1)\n",
    "model = Model( myin, out2  )\n",
    "model.compile( loss=\"binary_crossentropy\" ,optimizer=Adam(0.1), metrics=['acc'] )\n",
    "model.fit( x_data, y_data, epochs=500)\n"
   ]
  },
  {
   "cell_type": "code",
   "execution_count": null,
   "id": "08351c4a",
   "metadata": {},
   "outputs": [],
   "source": [
    "dense1 = Dense( units=100, input_dim=2 ,activation=\"sigmoid\") # 2x100, b:100\n",
    "dense2 = Dense( units=1, input_dim=100 ,activation=\"sigmoid\") # 100x1 b: 1\n",
    "model = Sequential( [dense1, dense2])\n",
    "model.compile( loss=\"binary_crossentropy\" ,optimizer=Adam(0.1), metrics=['acc'] )\n",
    "h = model.fit( x_data, y_data, epochs=1000)"
   ]
  },
  {
   "cell_type": "code",
   "execution_count": null,
   "id": "68d331bf",
   "metadata": {},
   "outputs": [],
   "source": [
    "modelNN = Sequential()\n",
    "modelNN.add( Dense( units=64, input_dim=2 ,activation=\"sigmoid\") )\n",
    "modelNN.add( Dense( units=32, activation=\"sigmoid\") )\n",
    "modelNN.add( Dense( units=1,  activation=\"sigmoid\") )\n",
    "modelNN.compile( loss=\"binary_crossentropy\" ,optimizer=Adam(0.1), metrics=['acc'] )\n",
    "h = modelNN.fit( x_data, y_data, epochs=1000)"
   ]
  },
  {
   "cell_type": "code",
   "execution_count": null,
   "id": "35e951aa",
   "metadata": {},
   "outputs": [],
   "source": []
  },
  {
   "cell_type": "code",
   "execution_count": null,
   "id": "362ca0e0",
   "metadata": {},
   "outputs": [],
   "source": []
  },
  {
   "cell_type": "code",
   "execution_count": null,
   "id": "5dddccbf",
   "metadata": {},
   "outputs": [],
   "source": []
  },
  {
   "cell_type": "code",
   "execution_count": null,
   "id": "64f9695d",
   "metadata": {},
   "outputs": [],
   "source": []
  },
  {
   "cell_type": "code",
   "execution_count": null,
   "id": "cdffe413",
   "metadata": {},
   "outputs": [],
   "source": []
  },
  {
   "cell_type": "code",
   "execution_count": null,
   "id": "42d2e02c",
   "metadata": {},
   "outputs": [],
   "source": []
  }
 ],
 "metadata": {
  "kernelspec": {
   "display_name": "Python 3",
   "language": "python",
   "name": "python3"
  },
  "language_info": {
   "codemirror_mode": {
    "name": "ipython",
    "version": 3
   },
   "file_extension": ".py",
   "mimetype": "text/x-python",
   "name": "python",
   "nbconvert_exporter": "python",
   "pygments_lexer": "ipython3",
   "version": "3.8.8"
  },
  "toc": {
   "base_numbering": 1,
   "nav_menu": {},
   "number_sections": true,
   "sideBar": true,
   "skip_h1_title": false,
   "title_cell": "Table of Contents",
   "title_sidebar": "Contents",
   "toc_cell": false,
   "toc_position": {},
   "toc_section_display": true,
   "toc_window_display": false
  }
 },
 "nbformat": 4,
 "nbformat_minor": 5
}
