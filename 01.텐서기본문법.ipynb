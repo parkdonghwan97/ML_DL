{
 "cells": [
  {
   "cell_type": "code",
   "execution_count": 1,
   "id": "dd1b4513",
   "metadata": {},
   "outputs": [],
   "source": [
    "import tensorflow as tf\n",
    "import numpy as np"
   ]
  },
  {
   "cell_type": "markdown",
   "id": "9640fbe3",
   "metadata": {},
   "source": [
    "# Scalar data\n",
    "\n",
    "- 단 하나의 값만을 저장할 수 있는 데이터 타입"
   ]
  },
  {
   "cell_type": "code",
   "execution_count": null,
   "id": "6e9f8c92",
   "metadata": {},
   "outputs": [],
   "source": [
    "s1 = 10 \n",
    "s2 = 'abc'\n",
    "s3 = 3.14"
   ]
  },
  {
   "cell_type": "markdown",
   "id": "def05f29",
   "metadata": {},
   "source": [
    "# Vector data\n",
    "- 스칼라 데이터 모음"
   ]
  },
  {
   "cell_type": "code",
   "execution_count": null,
   "id": "9bcffab5",
   "metadata": {},
   "outputs": [],
   "source": [
    "v = [10,20,30]"
   ]
  },
  {
   "cell_type": "markdown",
   "id": "31ad27d2",
   "metadata": {},
   "source": [
    "# matrix data\n",
    "\n",
    "- 벡터 데이터 모음"
   ]
  },
  {
   "cell_type": "code",
   "execution_count": null,
   "id": "79c1e503",
   "metadata": {},
   "outputs": [],
   "source": [
    "m = [  [10,20,30] , \n",
    "     [40,50,60]  ]   # 2 x 3  ==> 2행 3열"
   ]
  },
  {
   "cell_type": "markdown",
   "id": "30eea587",
   "metadata": {},
   "source": [
    "# 3d tensor\n",
    "\n",
    "- 메트릭스 데이터 모음\n"
   ]
  },
  {
   "cell_type": "code",
   "execution_count": 2,
   "id": "5314d927",
   "metadata": {},
   "outputs": [],
   "source": [
    "# 2x2x3 ==> 2면 2행 3열   2메트릭스 2벡터 3스칼라\n",
    "d3 = [ \n",
    "      [  [10,20,30] , \n",
    "         [40,50,60]  ], \n",
    "    \n",
    "      [  [10,20,30] , \n",
    "         [40,50,60]  ] \n",
    "     ] "
   ]
  },
  {
   "cell_type": "markdown",
   "id": "ec1c40e7",
   "metadata": {},
   "source": [
    "# 4d tensor\n"
   ]
  },
  {
   "cell_type": "code",
   "execution_count": 5,
   "id": "ecc95fc0",
   "metadata": {},
   "outputs": [],
   "source": [
    "# 2 x 2 x 2 x3      2 3dtensor 2매트릭스 2벡터 3스칼라\n",
    "d4 =[ [  [  [10,20,30] , [40,50,60]  ], \n",
    "       [  [10,20,30] , [40,50,60]  ] ] \n",
    "     ,[  [  [10,20,30] , [40,50,60]  ], \n",
    "       [  [10,20,30] , [40,50,60]  ] ] ]"
   ]
  },
  {
   "cell_type": "markdown",
   "id": "9e59366d",
   "metadata": {},
   "source": [
    "# tensor data node 정의\n",
    "```\n",
    "1. constant   - > 읽기 전용 ( 값 고정)\n",
    "2. Variable   - > 읽기 쓰기 \n",
    "```"
   ]
  },
  {
   "cell_type": "markdown",
   "id": "f934b175",
   "metadata": {},
   "source": [
    "## Constant"
   ]
  },
  {
   "cell_type": "code",
   "execution_count": 8,
   "id": "c5801803",
   "metadata": {},
   "outputs": [
    {
     "data": {
      "text/plain": [
       "(<tf.Tensor: shape=(), dtype=int32, numpy=10>, 10)"
      ]
     },
     "execution_count": 8,
     "metadata": {},
     "output_type": "execute_result"
    }
   ],
   "source": [
    "# scalar      shape=()     numpy = value\n",
    "s1 = 10\n",
    "c1  = tf.constant( s1 )\n",
    "c1,c1.numpy()"
   ]
  },
  {
   "cell_type": "code",
   "execution_count": 10,
   "id": "75e18846",
   "metadata": {},
   "outputs": [
    {
     "data": {
      "text/plain": [
       "(<tf.Tensor: shape=(3,), dtype=int32, numpy=array([10, 20, 30])>,\n",
       " array([10, 20, 30]),\n",
       " tensorflow.python.framework.ops.EagerTensor)"
      ]
     },
     "execution_count": 10,
     "metadata": {},
     "output_type": "execute_result"
    }
   ],
   "source": [
    "# vector   shape=(3,)   numpy=array([])\n",
    "v1 = [10,20,30]\n",
    "t1  = tf.constant(v1)\n",
    "t1, t1.numpy() , type(t1)"
   ]
  },
  {
   "cell_type": "code",
   "execution_count": 12,
   "id": "8b1ef98d",
   "metadata": {
    "scrolled": true
   },
   "outputs": [
    {
     "data": {
      "text/plain": [
       "(<tf.Tensor: shape=(2, 3), dtype=int32, numpy=\n",
       " array([[10, 20, 30],\n",
       "        [40, 50, 60]])>,\n",
       " array([[10, 20, 30],\n",
       "        [40, 50, 60]]))"
      ]
     },
     "execution_count": 12,
     "metadata": {},
     "output_type": "execute_result"
    }
   ],
   "source": [
    "# matrix    shape=(2, 3)    numpy=array([ [ ] ])\n",
    "m1 = [[10,20,30], [40,50,60] ]\n",
    "t2 = tf.constant( m1 )\n",
    "t2, t2.numpy()"
   ]
  },
  {
   "cell_type": "markdown",
   "id": "8eb7cb66",
   "metadata": {},
   "source": [
    "## 연산  element wise\n",
    "- 요소별 연산 "
   ]
  },
  {
   "cell_type": "code",
   "execution_count": 14,
   "id": "e3874f08",
   "metadata": {},
   "outputs": [],
   "source": [
    "a = tf.constant( 3 )  # scalar data         shape=()\n",
    "b = tf.constant( [1,2,3] ) # vector data   shape=(3,)"
   ]
  },
  {
   "cell_type": "code",
   "execution_count": 18,
   "id": "08ed9850",
   "metadata": {},
   "outputs": [
    {
     "data": {
      "text/plain": [
       "(<tf.Tensor: shape=(3,), dtype=int32, numpy=array([3, 6, 9])>,\n",
       " array([3, 6, 9]))"
      ]
     },
     "execution_count": 18,
     "metadata": {},
     "output_type": "execute_result"
    }
   ],
   "source": [
    "c = tf.multiply(a , b)  # * 연산      shape=(3,)   \n",
    "c, c.numpy()"
   ]
  },
  {
   "cell_type": "code",
   "execution_count": 19,
   "id": "a4174fe6",
   "metadata": {},
   "outputs": [
    {
     "data": {
      "text/plain": [
       "(<tf.Tensor: shape=(3,), dtype=int32, numpy=array([4, 5, 6])>,\n",
       " array([4, 5, 6]))"
      ]
     },
     "execution_count": 19,
     "metadata": {},
     "output_type": "execute_result"
    }
   ],
   "source": [
    "d = tf.add(a,b) #  + 연산        shape=(3,)\n",
    "d, d.numpy()"
   ]
  },
  {
   "cell_type": "code",
   "execution_count": 21,
   "id": "16917c2a",
   "metadata": {},
   "outputs": [
    {
     "data": {
      "text/plain": [
       "(<tf.Tensor: shape=(3,), dtype=int32, numpy=array([ 4,  8, 12])>,\n",
       " array([ 4,  8, 12]))"
      ]
     },
     "execution_count": 21,
     "metadata": {},
     "output_type": "execute_result"
    }
   ],
   "source": [
    "e = tf.add(c, b)   #               shape=(3,)      c+b\n",
    "e, e.numpy()"
   ]
  },
  {
   "cell_type": "markdown",
   "id": "7c1454c2",
   "metadata": {},
   "source": [
    "## broad casting\n",
    "- 두 행렬 A, B 중 크기가 작은 행렬을 크기가 큰 행렬과 모양(shape)이 맞게끔 늘려주는 것을 의미\n"
   ]
  },
  {
   "cell_type": "code",
   "execution_count": 22,
   "id": "e856872c",
   "metadata": {},
   "outputs": [],
   "source": [
    "f = tf.constant([1,2,3])\n",
    "g = tf.constant([\n",
    "                    [1,2,3],\n",
    "                    [4,5,6],\n",
    "                    [7,8,9]  ])\n",
    "h = f+g  # tf.add( f , g )"
   ]
  },
  {
   "cell_type": "code",
   "execution_count": 25,
   "id": "1cc3e02f",
   "metadata": {},
   "outputs": [
    {
     "data": {
      "text/plain": [
       "array([[ 2,  4,  6],\n",
       "       [ 5,  7,  9],\n",
       "       [ 8, 10, 12]])"
      ]
     },
     "execution_count": 25,
     "metadata": {},
     "output_type": "execute_result"
    }
   ],
   "source": [
    "h.numpy()"
   ]
  },
  {
   "cell_type": "code",
   "execution_count": 27,
   "id": "13c7ef84",
   "metadata": {},
   "outputs": [],
   "source": [
    "# i = tf.constant([1,2,3])\n",
    "i = tf.constant( [  [1],       # 3행 1열 매트릭스\n",
    "                    [2],\n",
    "                    [3]] )\n",
    "j = tf.constant([ [1,2,3],\n",
    "                  [4,5,6],\n",
    "                  [7,8,9] ] )\n",
    "\n",
    "k = i * j   # tf.constant( f, g )"
   ]
  },
  {
   "cell_type": "code",
   "execution_count": 28,
   "id": "ed62ac75",
   "metadata": {},
   "outputs": [
    {
     "data": {
      "text/plain": [
       "array([[ 1,  2,  3],\n",
       "       [ 8, 10, 12],\n",
       "       [21, 24, 27]])"
      ]
     },
     "execution_count": 28,
     "metadata": {},
     "output_type": "execute_result"
    }
   ],
   "source": [
    "k.numpy()"
   ]
  },
  {
   "cell_type": "code",
   "execution_count": 30,
   "id": "c377b638",
   "metadata": {},
   "outputs": [],
   "source": [
    "# # shape error\n",
    "# l = tf.constant( [1,2 ])     \n",
    "# m = tf.constant(  [ [1,2,3],\n",
    "#                     [4,5,6],\n",
    "#                     [7,8,9]] )\n",
    "# n = l - j    # tf.subtrack(l , m )    "
   ]
  },
  {
   "cell_type": "markdown",
   "id": "3a753e41",
   "metadata": {},
   "source": [
    "## 행렬의 곱\n",
    "- tf.matmul( A , B )"
   ]
  },
  {
   "cell_type": "code",
   "execution_count": 32,
   "id": "7bd4c8fa",
   "metadata": {},
   "outputs": [],
   "source": [
    "#   2x2     2x2\n",
    "o = tf.constant([  [1,2],\n",
    "                   [3,4]] )\n",
    "p = tf.constant( [ [5,6],\n",
    "                    [7,8] ] )\n",
    "\n",
    "q = tf.multiply( o ,p )    # o * p \n",
    "\n",
    "r = tf.matmul( o, p )     # 행렬의 곱    \n",
    "# ((1*5)  + (2*6) , (1*6) + (2*8) ) \n",
    "# ((3*5)  + (4*6) , (3*6) + (5*8) ) "
   ]
  },
  {
   "cell_type": "code",
   "execution_count": 33,
   "id": "b8e99f86",
   "metadata": {},
   "outputs": [
    {
     "data": {
      "text/plain": [
       "(<tf.Tensor: shape=(2, 2), dtype=int32, numpy=\n",
       " array([[ 5, 12],\n",
       "        [21, 32]])>,\n",
       " <tf.Tensor: shape=(2, 2), dtype=int32, numpy=\n",
       " array([[19, 22],\n",
       "        [43, 50]])>)"
      ]
     },
     "execution_count": 33,
     "metadata": {},
     "output_type": "execute_result"
    }
   ],
   "source": [
    "q,r"
   ]
  },
  {
   "cell_type": "markdown",
   "id": "87131cbe",
   "metadata": {},
   "source": [
    "## 많이 사용하는 operation\n",
    "```\n",
    "- tf.square()       제곱    s**2\n",
    "- tf.reduce_mean()  평균\n",
    "```"
   ]
  },
  {
   "cell_type": "code",
   "execution_count": 34,
   "id": "5226c2bb",
   "metadata": {},
   "outputs": [],
   "source": [
    "s = [1,2,3,]\n",
    "t = tf.square( s )"
   ]
  },
  {
   "cell_type": "code",
   "execution_count": 37,
   "id": "dfae4c5a",
   "metadata": {},
   "outputs": [
    {
     "data": {
      "text/plain": [
       "array([1, 4, 9])"
      ]
     },
     "execution_count": 37,
     "metadata": {},
     "output_type": "execute_result"
    }
   ],
   "source": [
    "t.numpy()"
   ]
  },
  {
   "cell_type": "code",
   "execution_count": 39,
   "id": "e01e2ef9",
   "metadata": {},
   "outputs": [
    {
     "data": {
      "text/plain": [
       "2"
      ]
     },
     "execution_count": 39,
     "metadata": {},
     "output_type": "execute_result"
    }
   ],
   "source": [
    "u = tf.reduce_mean( s )\n",
    "u.numpy()"
   ]
  },
  {
   "cell_type": "markdown",
   "id": "0a8cae67",
   "metadata": {},
   "source": [
    "## Variable\n",
    "\n",
    "```\n",
    "변수명 =  tf.Variable(10)\n",
    "\n",
    "변수명.assign( 20 )    기존의 값을 10에서 20으로 변경\n",
    "변수명.assign_add( 3 ) 기존의 값에 3을 더함\n",
    "변수명.assign_sub( 3 ) 기존의 값에 3을 뺌\n",
    "\n",
    "```"
   ]
  },
  {
   "cell_type": "code",
   "execution_count": 41,
   "id": "8c2cf914",
   "metadata": {},
   "outputs": [
    {
     "data": {
      "text/plain": [
       "<tf.Variable 'Variable:0' shape=() dtype=int32, numpy=10>"
      ]
     },
     "execution_count": 41,
     "metadata": {},
     "output_type": "execute_result"
    }
   ],
   "source": [
    "v = tf.Variable( 10 )\n",
    "v                       # 10"
   ]
  },
  {
   "cell_type": "code",
   "execution_count": 46,
   "id": "5dee7d9e",
   "metadata": {},
   "outputs": [
    {
     "data": {
      "text/plain": [
       "<tf.Variable 'Variable:0' shape=() dtype=int32, numpy=3>"
      ]
     },
     "execution_count": 46,
     "metadata": {},
     "output_type": "execute_result"
    }
   ],
   "source": [
    "# v = 20   X\n",
    "v.assign(3)\n",
    "v                     #  3 "
   ]
  },
  {
   "cell_type": "code",
   "execution_count": 47,
   "id": "a8c0fc6f",
   "metadata": {},
   "outputs": [
    {
     "data": {
      "text/plain": [
       "<tf.Variable 'Variable:0' shape=() dtype=int32, numpy=6>"
      ]
     },
     "execution_count": 47,
     "metadata": {},
     "output_type": "execute_result"
    }
   ],
   "source": [
    "v.assign_add( 3 )\n",
    "v                   #  3 + 3  = 6"
   ]
  },
  {
   "cell_type": "code",
   "execution_count": 48,
   "id": "de37d490",
   "metadata": {},
   "outputs": [
    {
     "data": {
      "text/plain": [
       "<tf.Variable 'Variable:0' shape=() dtype=int32, numpy=3>"
      ]
     },
     "execution_count": 48,
     "metadata": {},
     "output_type": "execute_result"
    }
   ],
   "source": [
    "v.assign_sub( 3 )  #   6  -  3 =  3\n",
    "v"
   ]
  },
  {
   "cell_type": "code",
   "execution_count": null,
   "id": "f00ae90e",
   "metadata": {},
   "outputs": [],
   "source": []
  },
  {
   "cell_type": "code",
   "execution_count": null,
   "id": "4d6ae4d1",
   "metadata": {},
   "outputs": [],
   "source": []
  },
  {
   "cell_type": "code",
   "execution_count": null,
   "id": "fdaf441a",
   "metadata": {},
   "outputs": [],
   "source": []
  },
  {
   "cell_type": "code",
   "execution_count": null,
   "id": "689b64dc",
   "metadata": {},
   "outputs": [],
   "source": []
  },
  {
   "cell_type": "code",
   "execution_count": null,
   "id": "67dad251",
   "metadata": {},
   "outputs": [],
   "source": []
  },
  {
   "cell_type": "code",
   "execution_count": null,
   "id": "24dab5d4",
   "metadata": {},
   "outputs": [],
   "source": []
  },
  {
   "cell_type": "code",
   "execution_count": null,
   "id": "a502bb44",
   "metadata": {},
   "outputs": [],
   "source": []
  },
  {
   "cell_type": "code",
   "execution_count": null,
   "id": "334b94d3",
   "metadata": {},
   "outputs": [],
   "source": []
  }
 ],
 "metadata": {
  "kernelspec": {
   "display_name": "Python 3",
   "language": "python",
   "name": "python3"
  },
  "language_info": {
   "codemirror_mode": {
    "name": "ipython",
    "version": 3
   },
   "file_extension": ".py",
   "mimetype": "text/x-python",
   "name": "python",
   "nbconvert_exporter": "python",
   "pygments_lexer": "ipython3",
   "version": "3.8.8"
  },
  "toc": {
   "base_numbering": 1,
   "nav_menu": {},
   "number_sections": false,
   "sideBar": false,
   "skip_h1_title": false,
   "title_cell": "Table of Contents",
   "title_sidebar": "Contents",
   "toc_cell": false,
   "toc_position": {
    "height": "789px",
    "left": "41px",
    "top": "342px",
    "width": "384px"
   },
   "toc_section_display": false,
   "toc_window_display": true
  }
 },
 "nbformat": 4,
 "nbformat_minor": 5
}
