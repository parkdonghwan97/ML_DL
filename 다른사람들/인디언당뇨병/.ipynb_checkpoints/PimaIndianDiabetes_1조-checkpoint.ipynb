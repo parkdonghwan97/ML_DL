{
 "cells": [
  {
   "cell_type": "code",
   "execution_count": 1,
   "metadata": {
    "id": "n7rYSuO__I97"
   },
   "outputs": [],
   "source": [
    "import numpy as np\n",
    "import pandas as pd\n",
    "import tensorflow as tf\n",
    "import matplotlib.pyplot as plt\n",
    "import seaborn as sns\n",
    "from sklearn.preprocessing import MinMaxScaler, StandardScaler\n",
    "\n",
    "from tensorflow.keras.optimizers import Adam\n",
    "from tensorflow.keras import Sequential\n",
    "from tensorflow.keras.layers import Dense\n",
    "from tensorflow.keras.callbacks import EarlyStopping\n",
    "\n",
    "from google.colab import drive\n",
    "# path = '/content/drive/MyDrive/Tacademy/tensorflow/data'"
   ]
  },
  {
   "cell_type": "code",
   "execution_count": 2,
   "metadata": {
    "colab": {
     "base_uri": "https://localhost:8080/"
    },
    "id": "qz0Snh5a_O7u",
    "outputId": "6d9798c2-8c8a-42cb-87b0-dac831933b23"
   },
   "outputs": [
    {
     "name": "stdout",
     "output_type": "stream",
     "text": [
      "Mounted at /content/drive\n"
     ]
    }
   ],
   "source": [
    "drive.mount('/content/drive')\n",
    "path = '/content/drive/MyDrive/Tacademy/tensorflow/data/pima-indians-diabetes.data.csv'"
   ]
  },
  {
   "cell_type": "code",
   "execution_count": 3,
   "metadata": {
    "id": "nkm9gMB0_O5T"
   },
   "outputs": [],
   "source": [
    "df = pd.read_csv(path)"
   ]
  },
  {
   "cell_type": "code",
   "execution_count": 4,
   "metadata": {
    "id": "Xzp302_Q_O3A"
   },
   "outputs": [],
   "source": [
    "x_data = df.iloc[:,0:-1].values\n",
    "y_data = df.iloc[:,[-1]].values"
   ]
  },
  {
   "cell_type": "code",
   "execution_count": 5,
   "metadata": {
    "id": "U9tbWugj_O0u"
   },
   "outputs": [],
   "source": [
    "# 1. 정규화"
   ]
  },
  {
   "cell_type": "code",
   "execution_count": 6,
   "metadata": {
    "id": "VREZIT5r_Oya"
   },
   "outputs": [],
   "source": [
    "scaler = MinMaxScaler()\n",
    "x_scaled = scaler.fit_transform(x_data)"
   ]
  },
  {
   "cell_type": "code",
   "execution_count": 7,
   "metadata": {
    "id": "1JHCJ2BO_OwA"
   },
   "outputs": [],
   "source": [
    "x = tf.constant(x_scaled, tf.float32)\n",
    "y = tf.constant(y_data, tf.float32)"
   ]
  },
  {
   "cell_type": "code",
   "execution_count": 8,
   "metadata": {
    "id": "LEYWhX-y_Otu"
   },
   "outputs": [],
   "source": [
    "initX =tf.initializers.GlorotUniform()\n",
    "\n",
    "w = tf.Variable( initX(shape=[x.shape[1],1]))\n",
    "b = tf.Variable( initX(shape=[1]))"
   ]
  },
  {
   "cell_type": "code",
   "execution_count": 9,
   "metadata": {
    "id": "yTUBTc7E_Ore"
   },
   "outputs": [],
   "source": [
    "def compute_loss():\n",
    "  z = tf.matmul(x, w) + b\n",
    "  # hx = tf.nn.sigmoid(z) # 0~1사이값. y hat\n",
    "  cost_i = tf.nn.sigmoid_cross_entropy_with_logits(labels = y, logits = z) # sum(y*-log(y^) + (1-y)*-log(1-y^))\n",
    "  cost = tf.reduce_mean(cost_i) # binary cross entropy 값\n",
    "  return cost"
   ]
  },
  {
   "cell_type": "code",
   "execution_count": 10,
   "metadata": {
    "colab": {
     "base_uri": "https://localhost:8080/"
    },
    "id": "Nzu-lFc5_Oo9",
    "outputId": "4295c21f-6d22-4e97-859c-25a58825ba1e"
   },
   "outputs": [
    {
     "name": "stdout",
     "output_type": "stream",
     "text": [
      "0 cost:  0.6197106\n",
      "100 cost:  0.47099397\n",
      "200 cost:  0.47099304\n",
      "300 cost:  0.47099853\n",
      "400 cost:  0.47099313\n",
      "500 cost:  0.4710331\n",
      "600 cost:  0.47099325\n",
      "700 cost:  0.47099304\n",
      "800 cost:  0.4709932\n",
      "900 cost:  0.47099307\n",
      "1000 cost:  0.47265205\n"
     ]
    }
   ],
   "source": [
    "optimizer = Adam(0.3)\n",
    "for i in range(1001):\n",
    "  optimizer.minimize(compute_loss, var_list = [w,b])\n",
    "  if i%100 == 0:\n",
    "    print(i, \"cost: \", compute_loss().numpy())"
   ]
  },
  {
   "cell_type": "code",
   "execution_count": 11,
   "metadata": {
    "id": "HYGj7QZn_d_x"
   },
   "outputs": [],
   "source": [
    "def hxfn(xdata):\n",
    "  xd = tf.constant(xdata, tf.float32)\n",
    "  z = tf.matmul(xd, w) + b\n",
    "  hx = tf.nn.sigmoid(z)\n",
    "  return (hx.numpy()>=0.5) + 0 # True + 0 = 1, False + 0 = 0"
   ]
  },
  {
   "cell_type": "code",
   "execution_count": 12,
   "metadata": {
    "id": "3kcm9mb8_d82"
   },
   "outputs": [],
   "source": [
    "# 2. 6,148,72,35,0,33.6,0.627,50 당뇨유무 판별"
   ]
  },
  {
   "cell_type": "code",
   "execution_count": 13,
   "metadata": {
    "colab": {
     "base_uri": "https://localhost:8080/"
    },
    "id": "Z01Qy1yw_d6v",
    "outputId": "8a21306f-a944-4674-ff06-34d3c5b32db2"
   },
   "outputs": [
    {
     "data": {
      "text/plain": [
       "array([[1]])"
      ]
     },
     "execution_count": 13,
     "metadata": {},
     "output_type": "execute_result"
    }
   ],
   "source": [
    "test = [[6,148,72,35,0,33.6,0.627,50]]\n",
    "test = scaler.transform(test)\n",
    "\n",
    "hxfn(test)"
   ]
  },
  {
   "cell_type": "code",
   "execution_count": 14,
   "metadata": {
    "id": "U8FscIQk_d4Z"
   },
   "outputs": [],
   "source": [
    "# 3. confusion matrix, 정확도, f1 score"
   ]
  },
  {
   "cell_type": "code",
   "execution_count": 15,
   "metadata": {
    "id": "26MPYxVC_d2G"
   },
   "outputs": [],
   "source": [
    "from sklearn.metrics import confusion_matrix, accuracy_score, f1_score"
   ]
  },
  {
   "cell_type": "code",
   "execution_count": 16,
   "metadata": {
    "colab": {
     "base_uri": "https://localhost:8080/"
    },
    "id": "6nfTY2f__dzz",
    "outputId": "1b1e5416-8b01-44d7-9418-ecff293db440"
   },
   "outputs": [
    {
     "name": "stdout",
     "output_type": "stream",
     "text": [
      "confusion matrix \n",
      " [[  0   0]\n",
      " [500 268]]\n",
      "accuracy:  0.3489583333333333\n",
      "f1 score:  0.5173745173745173\n"
     ]
    }
   ],
   "source": [
    "pred = hxfn(x_data)\n",
    "\n",
    "confusion = confusion_matrix(pred, y_data)\n",
    "accuracy = accuracy_score(pred, y_data)\n",
    "f1 = f1_score(pred, y_data)\n",
    "\n",
    "print(\"confusion matrix \\n\", confusion)\n",
    "print('accuracy: ', accuracy)\n",
    "print('f1 score: ', f1)"
   ]
  },
  {
   "cell_type": "code",
   "execution_count": 16,
   "metadata": {
    "id": "ZWT0fvze_dxn"
   },
   "outputs": [],
   "source": []
  }
 ],
 "metadata": {
  "colab": {
   "name": "PimaIndianDiabetes_1조.ipynb",
   "provenance": []
  },
  "kernelspec": {
   "display_name": "Python 3",
   "language": "python",
   "name": "python3"
  },
  "language_info": {
   "codemirror_mode": {
    "name": "ipython",
    "version": 3
   },
   "file_extension": ".py",
   "mimetype": "text/x-python",
   "name": "python",
   "nbconvert_exporter": "python",
   "pygments_lexer": "ipython3",
   "version": "3.8.8"
  },
  "toc": {
   "base_numbering": 1,
   "nav_menu": {},
   "number_sections": true,
   "sideBar": true,
   "skip_h1_title": false,
   "title_cell": "Table of Contents",
   "title_sidebar": "Contents",
   "toc_cell": false,
   "toc_position": {},
   "toc_section_display": true,
   "toc_window_display": false
  }
 },
 "nbformat": 4,
 "nbformat_minor": 1
}
