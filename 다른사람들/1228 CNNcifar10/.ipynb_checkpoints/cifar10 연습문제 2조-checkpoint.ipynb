{
 "cells": [
  {
   "cell_type": "code",
   "execution_count": 1,
   "id": "baaeddf5",
   "metadata": {
    "ExecuteTime": {
     "end_time": "2021-12-28T16:08:00.710302Z",
     "start_time": "2021-12-28T16:07:55.221065Z"
    }
   },
   "outputs": [],
   "source": [
    "import tensorflow as tf\n",
    "import numpy as np\n",
    "import pandas as pd\n",
    "import matplotlib.pyplot as plt\n",
    "plt.style.use('ggplot')\n",
    "\n",
    "from tensorflow.keras.optimizers import Adam\n",
    "from tensorflow.keras import Sequential\n",
    "from tensorflow.keras.layers import Dense, Flatten, Conv2D, MaxPool2D\n",
    "from tensorflow.keras.datasets.mnist import load_data\n",
    "from tensorflow.keras.utils import to_categorical\n",
    "from tensorflow.keras.callbacks import EarlyStopping"
   ]
  },
  {
   "cell_type": "code",
   "execution_count": 2,
   "id": "54454e86",
   "metadata": {
    "ExecuteTime": {
     "end_time": "2021-12-28T16:08:02.300658Z",
     "start_time": "2021-12-28T16:08:00.712301Z"
    }
   },
   "outputs": [],
   "source": [
    "from sklearn.metrics import accuracy_score, f1_score, confusion_matrix\n",
    "import seaborn as sns"
   ]
  },
  {
   "cell_type": "code",
   "execution_count": 3,
   "id": "fb6908dd",
   "metadata": {
    "ExecuteTime": {
     "end_time": "2021-12-28T16:08:02.315661Z",
     "start_time": "2021-12-28T16:08:02.302658Z"
    }
   },
   "outputs": [],
   "source": [
    "from tensorflow.keras.datasets import cifar10\n",
    "import ssl\n",
    "ssl._create_default_https_context = ssl._create_unverified_context"
   ]
  },
  {
   "cell_type": "code",
   "execution_count": 4,
   "id": "2f56dbde",
   "metadata": {
    "ExecuteTime": {
     "end_time": "2021-12-28T16:08:02.691746Z",
     "start_time": "2021-12-28T16:08:02.316660Z"
    }
   },
   "outputs": [],
   "source": [
    "(x_train, y_train), (x_test, y_test) = cifar10.load_data()"
   ]
  },
  {
   "cell_type": "code",
   "execution_count": 5,
   "id": "7ec4cccb",
   "metadata": {
    "ExecuteTime": {
     "end_time": "2021-12-28T16:08:03.186857Z",
     "start_time": "2021-12-28T16:08:02.693747Z"
    }
   },
   "outputs": [],
   "source": [
    "x_train = x_train.astype('float32') / 255\n",
    "x_test = x_test.astype('float32') / 255"
   ]
  },
  {
   "cell_type": "code",
   "execution_count": 6,
   "id": "1ebb5553",
   "metadata": {
    "ExecuteTime": {
     "end_time": "2021-12-28T16:08:03.201860Z",
     "start_time": "2021-12-28T16:08:03.187859Z"
    }
   },
   "outputs": [
    {
     "data": {
      "text/plain": [
       "((50000, 32, 32, 3), (10000, 32, 32, 3), (50000, 1), (10000, 1))"
      ]
     },
     "execution_count": 6,
     "metadata": {},
     "output_type": "execute_result"
    }
   ],
   "source": [
    "x_train.shape, x_test.shape, y_train.shape, y_test.shape"
   ]
  },
  {
   "cell_type": "code",
   "execution_count": 7,
   "id": "a5fe3486",
   "metadata": {
    "ExecuteTime": {
     "end_time": "2021-12-28T16:08:03.321885Z",
     "start_time": "2021-12-28T16:08:03.203860Z"
    }
   },
   "outputs": [],
   "source": [
    "from sklearn.model_selection import train_test_split\n",
    "x_test, x_valid, y_test, y_valid = train_test_split(x_test, y_test, test_size=0.2, stratify= y_test)"
   ]
  },
  {
   "cell_type": "markdown",
   "id": "ecf19c56",
   "metadata": {},
   "source": [
    "# Cnn model1"
   ]
  },
  {
   "cell_type": "code",
   "execution_count": 8,
   "id": "ec4aa1db",
   "metadata": {
    "ExecuteTime": {
     "end_time": "2021-12-28T16:31:20.765446Z",
     "start_time": "2021-12-28T16:08:03.323886Z"
    }
   },
   "outputs": [
    {
     "name": "stdout",
     "output_type": "stream",
     "text": [
      "Epoch 1/30\n",
      "1563/1563 [==============================] - 56s 35ms/step - loss: 1.3543 - acc: 0.5174 - val_loss: 1.0463 - val_acc: 0.6500\n",
      "Epoch 2/30\n",
      "1563/1563 [==============================] - 52s 33ms/step - loss: 0.9862 - acc: 0.6570 - val_loss: 0.9830 - val_acc: 0.6675\n",
      "Epoch 3/30\n",
      "1563/1563 [==============================] - 52s 33ms/step - loss: 0.8702 - acc: 0.6968 - val_loss: 0.9510 - val_acc: 0.6830\n",
      "Epoch 4/30\n",
      "1563/1563 [==============================] - 51s 33ms/step - loss: 0.7864 - acc: 0.7269 - val_loss: 0.9497 - val_acc: 0.6815\n",
      "Epoch 5/30\n",
      "1563/1563 [==============================] - 52s 33ms/step - loss: 0.7136 - acc: 0.7520 - val_loss: 0.9324 - val_acc: 0.6830\n",
      "Epoch 6/30\n",
      "1563/1563 [==============================] - 59s 38ms/step - loss: 0.6428 - acc: 0.7758 - val_loss: 0.8990 - val_acc: 0.7015\n",
      "Epoch 7/30\n",
      "1563/1563 [==============================] - 59s 38ms/step - loss: 0.5826 - acc: 0.7959 - val_loss: 1.0016 - val_acc: 0.6755\n",
      "Epoch 8/30\n",
      "1563/1563 [==============================] - 55s 35ms/step - loss: 0.5280 - acc: 0.8138 - val_loss: 0.9809 - val_acc: 0.7015\n",
      "Epoch 9/30\n",
      "1563/1563 [==============================] - 53s 34ms/step - loss: 0.4710 - acc: 0.8326 - val_loss: 1.0955 - val_acc: 0.6870\n",
      "Epoch 10/30\n",
      "1563/1563 [==============================] - 53s 34ms/step - loss: 0.4258 - acc: 0.8486 - val_loss: 1.0893 - val_acc: 0.6880\n",
      "Epoch 11/30\n",
      "1563/1563 [==============================] - 53s 34ms/step - loss: 0.3829 - acc: 0.8633 - val_loss: 1.2707 - val_acc: 0.6630\n",
      "Epoch 12/30\n",
      "1563/1563 [==============================] - 54s 35ms/step - loss: 0.3391 - acc: 0.8778 - val_loss: 1.2965 - val_acc: 0.6775\n",
      "Epoch 13/30\n",
      "1563/1563 [==============================] - 53s 34ms/step - loss: 0.3068 - acc: 0.8894 - val_loss: 1.3694 - val_acc: 0.6780\n",
      "Epoch 14/30\n",
      "1563/1563 [==============================] - 53s 34ms/step - loss: 0.2681 - acc: 0.9034 - val_loss: 1.5024 - val_acc: 0.6805\n",
      "Epoch 15/30\n",
      "1563/1563 [==============================] - 53s 34ms/step - loss: 0.2433 - acc: 0.9113 - val_loss: 1.5287 - val_acc: 0.6715\n",
      "Epoch 16/30\n",
      "1563/1563 [==============================] - 53s 34ms/step - loss: 0.2234 - acc: 0.9192 - val_loss: 1.6455 - val_acc: 0.6850\n",
      "Epoch 17/30\n",
      "1563/1563 [==============================] - 53s 34ms/step - loss: 0.2020 - acc: 0.9268 - val_loss: 1.7475 - val_acc: 0.6730\n",
      "Epoch 18/30\n",
      "1563/1563 [==============================] - 53s 34ms/step - loss: 0.1811 - acc: 0.9349 - val_loss: 1.8994 - val_acc: 0.6735\n",
      "Epoch 19/30\n",
      "1563/1563 [==============================] - 53s 34ms/step - loss: 0.1711 - acc: 0.9378 - val_loss: 1.9900 - val_acc: 0.6670\n",
      "Epoch 20/30\n",
      "1563/1563 [==============================] - 53s 34ms/step - loss: 0.1605 - acc: 0.9425 - val_loss: 2.0026 - val_acc: 0.6695\n",
      "Epoch 21/30\n",
      "1563/1563 [==============================] - 54s 34ms/step - loss: 0.1383 - acc: 0.9501 - val_loss: 2.1600 - val_acc: 0.6655\n",
      "Epoch 22/30\n",
      "1563/1563 [==============================] - 53s 34ms/step - loss: 0.1459 - acc: 0.9472 - val_loss: 2.2960 - val_acc: 0.6685\n",
      "Epoch 23/30\n",
      "1563/1563 [==============================] - 54s 34ms/step - loss: 0.1275 - acc: 0.9541 - val_loss: 2.3480 - val_acc: 0.6730\n",
      "Epoch 24/30\n",
      "1563/1563 [==============================] - 54s 34ms/step - loss: 0.1210 - acc: 0.9563 - val_loss: 2.3493 - val_acc: 0.6740\n",
      "Epoch 25/30\n",
      "1563/1563 [==============================] - 52s 33ms/step - loss: 0.1116 - acc: 0.9603 - val_loss: 2.4845 - val_acc: 0.6660\n",
      "Epoch 26/30\n",
      "1563/1563 [==============================] - 52s 33ms/step - loss: 0.1138 - acc: 0.9595 - val_loss: 2.5343 - val_acc: 0.6765\n"
     ]
    },
    {
     "data": {
      "text/plain": [
       "<keras.callbacks.History at 0x2b5ba46fa30>"
      ]
     },
     "execution_count": 8,
     "metadata": {},
     "output_type": "execute_result"
    }
   ],
   "source": [
    "model = Sequential()\n",
    "model.add(Conv2D(filters = 32, kernel_size = (3,3), strides = 1, input_shape = (32, 32, 3), activation = \"relu\", padding = \"same\"))\n",
    "model.add(Conv2D(filters = 64, kernel_size = (3,3), activation = \"relu\"))\n",
    "model.add(MaxPool2D(pool_size = (3,3)))\n",
    "model.add( Flatten(input_shape = (32,32,3)))\n",
    "model.add( Dense(units = 64, activation = \"relu\"))\n",
    "model.add( Dense(units = 10, activation = \"softmax\"))\n",
    "earlyStop = EarlyStopping(monitor = 'val_loss', min_delta=0.01, patience = 20)\n",
    "model.compile( loss = 'sparse_categorical_crossentropy', optimizer = \"adam\", metrics = ['acc'])\n",
    "model.fit(x_train, y_train, epochs = 30, validation_data= (x_valid, y_valid), callbacks= [earlyStop], workers=-1)"
   ]
  },
  {
   "cell_type": "code",
   "execution_count": 9,
   "id": "cf05a3d4",
   "metadata": {
    "ExecuteTime": {
     "end_time": "2021-12-28T16:31:22.835934Z",
     "start_time": "2021-12-28T16:31:20.766446Z"
    }
   },
   "outputs": [],
   "source": [
    "pred = model.predict(x_test).argmax(axis=1)"
   ]
  },
  {
   "cell_type": "code",
   "execution_count": 10,
   "id": "cf0a9d6b",
   "metadata": {
    "ExecuteTime": {
     "end_time": "2021-12-28T16:31:22.850937Z",
     "start_time": "2021-12-28T16:31:22.837934Z"
    }
   },
   "outputs": [
    {
     "data": {
      "text/plain": [
       "((8000, 1), (8000, 1))"
      ]
     },
     "execution_count": 10,
     "metadata": {},
     "output_type": "execute_result"
    }
   ],
   "source": [
    "y_test.shape, pred.reshape(8000, 1).shape"
   ]
  },
  {
   "cell_type": "code",
   "execution_count": 11,
   "id": "5c970a4d",
   "metadata": {
    "ExecuteTime": {
     "end_time": "2021-12-28T16:31:22.865960Z",
     "start_time": "2021-12-28T16:31:22.852937Z"
    }
   },
   "outputs": [
    {
     "data": {
      "text/plain": [
       "(0.670875, 0.672758394569366)"
      ]
     },
     "execution_count": 11,
     "metadata": {},
     "output_type": "execute_result"
    }
   ],
   "source": [
    "accuracy_score(y_test, pred), f1_score(y_test, pred, average=\"macro\")"
   ]
  },
  {
   "cell_type": "code",
   "execution_count": 12,
   "id": "3ec3ce27",
   "metadata": {
    "ExecuteTime": {
     "end_time": "2021-12-28T16:31:22.880964Z",
     "start_time": "2021-12-28T16:31:22.867949Z"
    }
   },
   "outputs": [
    {
     "name": "stdout",
     "output_type": "stream",
     "text": [
      "Model: \"sequential\"\n",
      "_________________________________________________________________\n",
      " Layer (type)                Output Shape              Param #   \n",
      "=================================================================\n",
      " conv2d (Conv2D)             (None, 32, 32, 32)        896       \n",
      "                                                                 \n",
      " conv2d_1 (Conv2D)           (None, 30, 30, 64)        18496     \n",
      "                                                                 \n",
      " max_pooling2d (MaxPooling2D  (None, 10, 10, 64)       0         \n",
      " )                                                               \n",
      "                                                                 \n",
      " flatten (Flatten)           (None, 6400)              0         \n",
      "                                                                 \n",
      " dense (Dense)               (None, 64)                409664    \n",
      "                                                                 \n",
      " dense_1 (Dense)             (None, 10)                650       \n",
      "                                                                 \n",
      "=================================================================\n",
      "Total params: 429,706\n",
      "Trainable params: 429,706\n",
      "Non-trainable params: 0\n",
      "_________________________________________________________________\n"
     ]
    }
   ],
   "source": [
    "model.summary()"
   ]
  },
  {
   "cell_type": "code",
   "execution_count": null,
   "id": "230e4bc2",
   "metadata": {},
   "outputs": [],
   "source": []
  },
  {
   "cell_type": "markdown",
   "id": "395d9486",
   "metadata": {},
   "source": [
    "# deep learning"
   ]
  },
  {
   "cell_type": "code",
   "execution_count": 13,
   "id": "4e9ac8b1",
   "metadata": {
    "ExecuteTime": {
     "end_time": "2021-12-28T16:32:33.681880Z",
     "start_time": "2021-12-28T16:31:22.882953Z"
    }
   },
   "outputs": [
    {
     "name": "stdout",
     "output_type": "stream",
     "text": [
      "Epoch 1/20\n",
      "1563/1563 [==============================] - 4s 2ms/step - loss: 1.8898 - acc: 0.3116\n",
      "Epoch 2/20\n",
      "1563/1563 [==============================] - 3s 2ms/step - loss: 1.7061 - acc: 0.3868\n",
      "Epoch 3/20\n",
      "1563/1563 [==============================] - 4s 2ms/step - loss: 1.6325 - acc: 0.4123\n",
      "Epoch 4/20\n",
      "1563/1563 [==============================] - 3s 2ms/step - loss: 1.5946 - acc: 0.4266\n",
      "Epoch 5/20\n",
      "1563/1563 [==============================] - 3s 2ms/step - loss: 1.5645 - acc: 0.4346\n",
      "Epoch 6/20\n",
      "1563/1563 [==============================] - 3s 2ms/step - loss: 1.5431 - acc: 0.4461\n",
      "Epoch 7/20\n",
      "1563/1563 [==============================] - 4s 2ms/step - loss: 1.5215 - acc: 0.4532\n",
      "Epoch 8/20\n",
      "1563/1563 [==============================] - 4s 2ms/step - loss: 1.5080 - acc: 0.4599\n",
      "Epoch 9/20\n",
      "1563/1563 [==============================] - 3s 2ms/step - loss: 1.4913 - acc: 0.4631\n",
      "Epoch 10/20\n",
      "1563/1563 [==============================] - 3s 2ms/step - loss: 1.4737 - acc: 0.4725\n",
      "Epoch 11/20\n",
      "1563/1563 [==============================] - 3s 2ms/step - loss: 1.4644 - acc: 0.4748\n",
      "Epoch 12/20\n",
      "1563/1563 [==============================] - 4s 2ms/step - loss: 1.4554 - acc: 0.4766\n",
      "Epoch 13/20\n",
      "1563/1563 [==============================] - 4s 2ms/step - loss: 1.4399 - acc: 0.4836\n",
      "Epoch 14/20\n",
      "1563/1563 [==============================] - 3s 2ms/step - loss: 1.4314 - acc: 0.4848\n",
      "Epoch 15/20\n",
      "1563/1563 [==============================] - 3s 2ms/step - loss: 1.4191 - acc: 0.4907\n",
      "Epoch 16/20\n",
      "1563/1563 [==============================] - 4s 2ms/step - loss: 1.4103 - acc: 0.4961\n",
      "Epoch 17/20\n",
      "1563/1563 [==============================] - 3s 2ms/step - loss: 1.4043 - acc: 0.4956\n",
      "Epoch 18/20\n",
      "1563/1563 [==============================] - 3s 2ms/step - loss: 1.3905 - acc: 0.5034\n",
      "Epoch 19/20\n",
      "1563/1563 [==============================] - 3s 2ms/step - loss: 1.3855 - acc: 0.5036\n",
      "Epoch 20/20\n",
      "1563/1563 [==============================] - 4s 2ms/step - loss: 1.3739 - acc: 0.5098\n"
     ]
    }
   ],
   "source": [
    "model2 = Sequential()\n",
    "model2.add( Flatten(input_shape = (32,32,3)))\n",
    "model2.add( Dense( units=128, activation='relu' ))\n",
    "model2.add( Dense( units=64, activation='relu' ))\n",
    "model2.add( Dense( units=32, activation='relu' ))\n",
    "model2.add( Dense( units=10, activation='softmax' ))\n",
    "model2.compile( loss='sparse_categorical_crossentropy', optimizer='adam',\n",
    "             metrics=['acc'] )\n",
    "h2 = model2.fit(x_train, y_train, epochs= 20, workers = -1)"
   ]
  },
  {
   "cell_type": "code",
   "execution_count": 14,
   "id": "94eff338",
   "metadata": {
    "ExecuteTime": {
     "end_time": "2021-12-28T16:32:34.056969Z",
     "start_time": "2021-12-28T16:32:33.682864Z"
    }
   },
   "outputs": [],
   "source": [
    "pred2 = model2.predict(x_test).argmax(axis=1)"
   ]
  },
  {
   "cell_type": "code",
   "execution_count": 15,
   "id": "fc0d0a5f",
   "metadata": {
    "ExecuteTime": {
     "end_time": "2021-12-28T16:32:34.071972Z",
     "start_time": "2021-12-28T16:32:34.058951Z"
    }
   },
   "outputs": [
    {
     "data": {
      "text/plain": [
       "(0.670875, 0.672758394569366)"
      ]
     },
     "execution_count": 15,
     "metadata": {},
     "output_type": "execute_result"
    }
   ],
   "source": [
    "accuracy_score(y_test, pred), f1_score(y_test, pred, average=\"macro\")"
   ]
  },
  {
   "cell_type": "markdown",
   "id": "d6f55fcc",
   "metadata": {},
   "source": [
    "# model 바꿔보기"
   ]
  },
  {
   "cell_type": "code",
   "execution_count": 16,
   "id": "5a165c50",
   "metadata": {
    "ExecuteTime": {
     "end_time": "2021-12-28T17:02:27.612125Z",
     "start_time": "2021-12-28T16:32:34.073960Z"
    }
   },
   "outputs": [
    {
     "name": "stdout",
     "output_type": "stream",
     "text": [
      "Epoch 1/30\n",
      "1563/1563 [==============================] - 59s 38ms/step - loss: 1.5338 - acc: 0.4384 - val_loss: 1.2386 - val_acc: 0.5620\n",
      "Epoch 2/30\n",
      "1563/1563 [==============================] - 59s 38ms/step - loss: 1.1471 - acc: 0.5943 - val_loss: 1.0597 - val_acc: 0.6300\n",
      "Epoch 3/30\n",
      "1563/1563 [==============================] - 60s 38ms/step - loss: 0.9842 - acc: 0.6544 - val_loss: 0.9942 - val_acc: 0.6560\n",
      "Epoch 4/30\n",
      "1563/1563 [==============================] - 60s 38ms/step - loss: 0.8827 - acc: 0.6906 - val_loss: 0.9356 - val_acc: 0.6825\n",
      "Epoch 5/30\n",
      "1563/1563 [==============================] - 59s 38ms/step - loss: 0.8076 - acc: 0.7181 - val_loss: 0.8896 - val_acc: 0.6940\n",
      "Epoch 6/30\n",
      "1563/1563 [==============================] - 60s 38ms/step - loss: 0.7547 - acc: 0.7372 - val_loss: 0.8435 - val_acc: 0.7265\n",
      "Epoch 7/30\n",
      "1563/1563 [==============================] - 60s 38ms/step - loss: 0.7077 - acc: 0.7531 - val_loss: 0.8352 - val_acc: 0.7215\n",
      "Epoch 8/30\n",
      "1563/1563 [==============================] - 60s 38ms/step - loss: 0.6689 - acc: 0.7669 - val_loss: 0.8915 - val_acc: 0.7125\n",
      "Epoch 9/30\n",
      "1563/1563 [==============================] - 60s 38ms/step - loss: 0.6348 - acc: 0.7780 - val_loss: 0.8784 - val_acc: 0.7070\n",
      "Epoch 10/30\n",
      "1563/1563 [==============================] - 60s 38ms/step - loss: 0.6004 - acc: 0.7896 - val_loss: 0.8208 - val_acc: 0.7300\n",
      "Epoch 11/30\n",
      "1563/1563 [==============================] - 60s 38ms/step - loss: 0.5733 - acc: 0.7993 - val_loss: 0.8914 - val_acc: 0.7035\n",
      "Epoch 12/30\n",
      "1563/1563 [==============================] - 60s 38ms/step - loss: 0.5500 - acc: 0.8066 - val_loss: 0.8517 - val_acc: 0.7240\n",
      "Epoch 13/30\n",
      "1563/1563 [==============================] - 60s 38ms/step - loss: 0.5229 - acc: 0.8163 - val_loss: 0.8553 - val_acc: 0.7385\n",
      "Epoch 14/30\n",
      "1563/1563 [==============================] - 60s 38ms/step - loss: 0.4996 - acc: 0.8237 - val_loss: 0.8614 - val_acc: 0.7270\n",
      "Epoch 15/30\n",
      "1563/1563 [==============================] - 60s 38ms/step - loss: 0.4821 - acc: 0.8302 - val_loss: 0.8245 - val_acc: 0.7345\n",
      "Epoch 16/30\n",
      "1563/1563 [==============================] - 60s 38ms/step - loss: 0.4637 - acc: 0.8372 - val_loss: 0.8810 - val_acc: 0.7305\n",
      "Epoch 17/30\n",
      "1563/1563 [==============================] - 60s 38ms/step - loss: 0.4459 - acc: 0.8418 - val_loss: 0.9099 - val_acc: 0.7230\n",
      "Epoch 18/30\n",
      "1563/1563 [==============================] - 60s 38ms/step - loss: 0.4272 - acc: 0.8471 - val_loss: 0.9083 - val_acc: 0.7085\n",
      "Epoch 19/30\n",
      "1563/1563 [==============================] - 60s 38ms/step - loss: 0.4089 - acc: 0.8544 - val_loss: 0.8960 - val_acc: 0.7310\n",
      "Epoch 20/30\n",
      "1563/1563 [==============================] - 60s 38ms/step - loss: 0.3954 - acc: 0.8607 - val_loss: 0.9296 - val_acc: 0.7305\n",
      "Epoch 21/30\n",
      "1563/1563 [==============================] - 60s 38ms/step - loss: 0.3773 - acc: 0.8664 - val_loss: 0.9507 - val_acc: 0.7200\n",
      "Epoch 22/30\n",
      "1563/1563 [==============================] - 60s 38ms/step - loss: 0.3701 - acc: 0.8667 - val_loss: 1.0253 - val_acc: 0.7180\n",
      "Epoch 23/30\n",
      "1563/1563 [==============================] - 60s 38ms/step - loss: 0.3520 - acc: 0.8748 - val_loss: 0.9608 - val_acc: 0.7320\n",
      "Epoch 24/30\n",
      "1563/1563 [==============================] - 60s 38ms/step - loss: 0.3385 - acc: 0.8793 - val_loss: 0.9797 - val_acc: 0.7285\n",
      "Epoch 25/30\n",
      "1563/1563 [==============================] - 60s 38ms/step - loss: 0.3294 - acc: 0.8821 - val_loss: 0.9997 - val_acc: 0.7335\n",
      "Epoch 26/30\n",
      "1563/1563 [==============================] - 60s 39ms/step - loss: 0.3160 - acc: 0.8861 - val_loss: 1.1189 - val_acc: 0.7035\n",
      "Epoch 27/30\n",
      "1563/1563 [==============================] - 60s 38ms/step - loss: 0.3121 - acc: 0.8867 - val_loss: 1.0719 - val_acc: 0.7270\n",
      "Epoch 28/30\n",
      "1563/1563 [==============================] - 60s 38ms/step - loss: 0.2979 - acc: 0.8938 - val_loss: 1.1163 - val_acc: 0.7135\n",
      "Epoch 29/30\n",
      "1563/1563 [==============================] - 60s 38ms/step - loss: 0.2903 - acc: 0.8963 - val_loss: 1.2047 - val_acc: 0.7185\n",
      "Epoch 30/30\n",
      "1563/1563 [==============================] - 60s 38ms/step - loss: 0.2795 - acc: 0.8970 - val_loss: 1.1338 - val_acc: 0.7230\n"
     ]
    },
    {
     "data": {
      "text/plain": [
       "<keras.callbacks.History at 0x2b5bebd61c0>"
      ]
     },
     "execution_count": 16,
     "metadata": {},
     "output_type": "execute_result"
    }
   ],
   "source": [
    "model3 = Sequential()\n",
    "model3.add(Conv2D(filters = 32, kernel_size = (3,3), strides = 1, input_shape = (32, 32, 3), activation = \"relu\", padding = \"same\"))\n",
    "model3.add(Conv2D(filters = 64, kernel_size = (3,3), activation = \"relu\"))\n",
    "model3.add(MaxPool2D(pool_size = (3,3)))\n",
    "model3.add(Conv2D(filters = 32, kernel_size = (3,3), strides = 1, input_shape = (32, 32, 3), activation = \"relu\", padding = \"same\"))\n",
    "model3.add(Conv2D(filters = 64, kernel_size = (3,3), activation = \"relu\"))\n",
    "model3.add(MaxPool2D(pool_size = (3,3)))\n",
    "model3.add( Flatten(input_shape = (32,32,3)))\n",
    "model3.add( Dense(units = 64, activation = \"relu\"))\n",
    "model3.add( Dense(units = 10, activation = \"softmax\"))\n",
    "earlyStop = EarlyStopping(monitor = 'val_loss', min_delta=0.01, patience = 20)\n",
    "model3.compile( loss = 'sparse_categorical_crossentropy', optimizer = \"adam\", metrics = ['acc'])\n",
    "model3.fit(x_train, y_train, epochs = 30, validation_data= (x_valid, y_valid), callbacks= [earlyStop], workers=-1)"
   ]
  },
  {
   "cell_type": "code",
   "execution_count": 17,
   "id": "9e74eda5",
   "metadata": {
    "ExecuteTime": {
     "end_time": "2021-12-28T17:02:30.027670Z",
     "start_time": "2021-12-28T17:02:27.613129Z"
    }
   },
   "outputs": [],
   "source": [
    "pred3 = model3.predict(x_test).argmax(axis = 1)"
   ]
  },
  {
   "cell_type": "code",
   "execution_count": 18,
   "id": "b5ada63a",
   "metadata": {
    "ExecuteTime": {
     "end_time": "2021-12-28T17:02:30.042682Z",
     "start_time": "2021-12-28T17:02:30.029671Z"
    }
   },
   "outputs": [
    {
     "data": {
      "text/plain": [
       "array([0, 5, 9, ..., 7, 1, 4], dtype=int64)"
      ]
     },
     "execution_count": 18,
     "metadata": {},
     "output_type": "execute_result"
    }
   ],
   "source": [
    "pred3 "
   ]
  },
  {
   "cell_type": "code",
   "execution_count": 19,
   "id": "1ecbcc36",
   "metadata": {
    "ExecuteTime": {
     "end_time": "2021-12-28T17:02:30.057685Z",
     "start_time": "2021-12-28T17:02:30.044682Z"
    }
   },
   "outputs": [
    {
     "data": {
      "text/plain": [
       "(0.732625, 0.7342787517007479)"
      ]
     },
     "execution_count": 19,
     "metadata": {},
     "output_type": "execute_result"
    }
   ],
   "source": [
    "accuracy_score(y_test, pred3), f1_score(y_test, pred3, average=\"macro\")"
   ]
  },
  {
   "cell_type": "code",
   "execution_count": 20,
   "id": "d4a881fb",
   "metadata": {
    "ExecuteTime": {
     "end_time": "2021-12-28T17:02:32.759048Z",
     "start_time": "2021-12-28T17:02:30.059688Z"
    }
   },
   "outputs": [
    {
     "name": "stdout",
     "output_type": "stream",
     "text": [
      "250/250 [==============================] - 3s 10ms/step - loss: 1.1328 - acc: 0.7326\n"
     ]
    },
    {
     "data": {
      "text/plain": [
       "[1.1327688694000244, 0.7326250076293945]"
      ]
     },
     "execution_count": 20,
     "metadata": {},
     "output_type": "execute_result"
    }
   ],
   "source": [
    "model3.evaluate(x_test, y_test)"
   ]
  },
  {
   "cell_type": "code",
   "execution_count": 21,
   "id": "ac00c621",
   "metadata": {
    "ExecuteTime": {
     "end_time": "2021-12-28T17:02:32.774052Z",
     "start_time": "2021-12-28T17:02:32.761049Z"
    }
   },
   "outputs": [
    {
     "name": "stdout",
     "output_type": "stream",
     "text": [
      "Model: \"sequential_2\"\n",
      "_________________________________________________________________\n",
      " Layer (type)                Output Shape              Param #   \n",
      "=================================================================\n",
      " conv2d_2 (Conv2D)           (None, 32, 32, 32)        896       \n",
      "                                                                 \n",
      " conv2d_3 (Conv2D)           (None, 30, 30, 64)        18496     \n",
      "                                                                 \n",
      " max_pooling2d_1 (MaxPooling  (None, 10, 10, 64)       0         \n",
      " 2D)                                                             \n",
      "                                                                 \n",
      " conv2d_4 (Conv2D)           (None, 10, 10, 32)        18464     \n",
      "                                                                 \n",
      " conv2d_5 (Conv2D)           (None, 8, 8, 64)          18496     \n",
      "                                                                 \n",
      " max_pooling2d_2 (MaxPooling  (None, 2, 2, 64)         0         \n",
      " 2D)                                                             \n",
      "                                                                 \n",
      " flatten_2 (Flatten)         (None, 256)               0         \n",
      "                                                                 \n",
      " dense_6 (Dense)             (None, 64)                16448     \n",
      "                                                                 \n",
      " dense_7 (Dense)             (None, 10)                650       \n",
      "                                                                 \n",
      "=================================================================\n",
      "Total params: 73,450\n",
      "Trainable params: 73,450\n",
      "Non-trainable params: 0\n",
      "_________________________________________________________________\n"
     ]
    }
   ],
   "source": [
    "model3.summary()"
   ]
  },
  {
   "cell_type": "code",
   "execution_count": null,
   "id": "2f7d2fc4",
   "metadata": {},
   "outputs": [],
   "source": []
  }
 ],
 "metadata": {
  "hide_input": false,
  "kernelspec": {
   "display_name": "Python 3 (ipykernel)",
   "language": "python",
   "name": "python3"
  },
  "language_info": {
   "codemirror_mode": {
    "name": "ipython",
    "version": 3
   },
   "file_extension": ".py",
   "mimetype": "text/x-python",
   "name": "python",
   "nbconvert_exporter": "python",
   "pygments_lexer": "ipython3",
   "version": "3.7.12"
  },
  "toc": {
   "base_numbering": 1,
   "nav_menu": {},
   "number_sections": true,
   "sideBar": true,
   "skip_h1_title": false,
   "title_cell": "Table of Contents",
   "title_sidebar": "Contents",
   "toc_cell": false,
   "toc_position": {},
   "toc_section_display": true,
   "toc_window_display": false
  },
  "varInspector": {
   "cols": {
    "lenName": 16,
    "lenType": 16,
    "lenVar": 40
   },
   "kernels_config": {
    "python": {
     "delete_cmd_postfix": "",
     "delete_cmd_prefix": "del ",
     "library": "var_list.py",
     "varRefreshCmd": "print(var_dic_list())"
    },
    "r": {
     "delete_cmd_postfix": ") ",
     "delete_cmd_prefix": "rm(",
     "library": "var_list.r",
     "varRefreshCmd": "cat(var_dic_list()) "
    }
   },
   "types_to_exclude": [
    "module",
    "function",
    "builtin_function_or_method",
    "instance",
    "_Feature"
   ],
   "window_display": false
  }
 },
 "nbformat": 4,
 "nbformat_minor": 5
}
