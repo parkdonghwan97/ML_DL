{
 "cells": [
  {
   "cell_type": "markdown",
   "id": "e3aa4c1d-9f1f-4028-8bfb-774782609962",
   "metadata": {},
   "source": [
    "# Quiz : 호랑이, 사자 이미지 분류"
   ]
  },
  {
   "cell_type": "code",
   "execution_count": 4,
   "id": "6544f46f-78ce-4942-b7fe-b5180d16d29e",
   "metadata": {
    "ExecuteTime": {
     "end_time": "2021-12-31T12:47:38.803075Z",
     "start_time": "2021-12-31T12:47:38.789141Z"
    },
    "scrolled": true,
    "tags": []
   },
   "outputs": [],
   "source": [
    "import os\n",
    "import numpy as np\n",
    "import pandas as pd\n",
    "import math\n",
    "\n",
    "from sklearn.preprocessing import MinMaxScaler, StandardScaler\n",
    "from sklearn.model_selection import train_test_split\n",
    "from sklearn.metrics import accuracy_score, confusion_matrix, f1_score\n",
    "from sklearn.linear_model import LogisticRegression\n",
    "from sklearn.neural_network import MLPClassifier\n",
    "from sklearn.pipeline import make_pipeline\n",
    "\n",
    "import tensorflow as tf\n",
    "from tensorflow.keras.optimizers import Adam, RMSprop\n",
    "from tensorflow.keras import Sequential, Input, Model\n",
    "from tensorflow.keras.layers import Dense, Flatten, Conv2D, MaxPool2D\n",
    "from tensorflow.keras.callbacks import EarlyStopping\n",
    "from tensorflow.keras.utils import to_categorical\n",
    "\n",
    "from tensorflow.keras.preprocessing import image\n",
    "from tensorflow.keras.applications.resnet50 import ResNet50, decode_predictions, preprocess_input\n",
    "\n",
    "## sklearn 의 분류기를 케라스 분류기로 인식해줌\n",
    "from tensorflow.keras.wrappers.scikit_learn import KerasClassifier\n",
    "# model 불러오기\n",
    "from tensorflow.keras.models import load_model\n",
    "# 이미지 어쩌고 모델\n",
    "from tensorflow.keras.applications import vgg16\n",
    "# from keras.applications import VGG16\n",
    "\n",
    "# 시각화\n",
    "import matplotlib.pyplot as plt\n",
    "import seaborn as sb\n",
    "import matplotlib\n",
    "matplotlib.rcParams['font.family'] = 'Malgun Gothic'\n",
    "matplotlib.rcParams['axes.unicode_minus'] = False\n",
    "%matplotlib inline\n"
   ]
  },
  {
   "cell_type": "raw",
   "id": "aacd9fef-e06f-4c33-b31d-87b7c8990768",
   "metadata": {},
   "source": [
    "Label 별 폴더로 정리된 이미지 데이터셋 로드하기"
   ]
  },
  {
   "cell_type": "code",
   "execution_count": 5,
   "id": "c23a7304-8f38-4618-ad13-d2a04e1498f9",
   "metadata": {
    "ExecuteTime": {
     "end_time": "2021-12-31T12:47:38.834302Z",
     "start_time": "2021-12-31T12:47:38.805213Z"
    }
   },
   "outputs": [
    {
     "ename": "FileNotFoundError",
     "evalue": "[WinError 3] 지정된 경로를 찾을 수 없습니다: 'image/'",
     "output_type": "error",
     "traceback": [
      "\u001b[1;31m---------------------------------------------------------------------------\u001b[0m",
      "\u001b[1;31mFileNotFoundError\u001b[0m                         Traceback (most recent call last)",
      "\u001b[1;32mC:\\Users\\TFG507~1\\AppData\\Local\\Temp/ipykernel_17588/784006197.py\u001b[0m in \u001b[0;36m<module>\u001b[1;34m\u001b[0m\n\u001b[0;32m      2\u001b[0m \u001b[0mbsize\u001b[0m \u001b[1;33m=\u001b[0m \u001b[1;36m400\u001b[0m\u001b[1;33m\u001b[0m\u001b[1;33m\u001b[0m\u001b[0m\n\u001b[0;32m      3\u001b[0m imgGen = dataGen.flow_from_directory('image/', \n\u001b[1;32m----> 4\u001b[1;33m                                      target_size=(98,98), batch_size=bsize)\n\u001b[0m",
      "\u001b[1;32m~\\anaconda3\\envs\\gpu\\lib\\site-packages\\keras\\preprocessing\\image.py\u001b[0m in \u001b[0;36mflow_from_directory\u001b[1;34m(self, directory, target_size, color_mode, classes, class_mode, batch_size, shuffle, seed, save_to_dir, save_prefix, save_format, follow_links, subset, interpolation)\u001b[0m\n\u001b[0;32m    990\u001b[0m         \u001b[0mfollow_links\u001b[0m\u001b[1;33m=\u001b[0m\u001b[0mfollow_links\u001b[0m\u001b[1;33m,\u001b[0m\u001b[1;33m\u001b[0m\u001b[1;33m\u001b[0m\u001b[0m\n\u001b[0;32m    991\u001b[0m         \u001b[0msubset\u001b[0m\u001b[1;33m=\u001b[0m\u001b[0msubset\u001b[0m\u001b[1;33m,\u001b[0m\u001b[1;33m\u001b[0m\u001b[1;33m\u001b[0m\u001b[0m\n\u001b[1;32m--> 992\u001b[1;33m         interpolation=interpolation)\n\u001b[0m\u001b[0;32m    993\u001b[0m \u001b[1;33m\u001b[0m\u001b[0m\n\u001b[0;32m    994\u001b[0m   def flow_from_dataframe(self,\n",
      "\u001b[1;32m~\\anaconda3\\envs\\gpu\\lib\\site-packages\\keras\\preprocessing\\image.py\u001b[0m in \u001b[0;36m__init__\u001b[1;34m(self, directory, image_data_generator, target_size, color_mode, classes, class_mode, batch_size, shuffle, seed, data_format, save_to_dir, save_prefix, save_format, follow_links, subset, interpolation, dtype)\u001b[0m\n\u001b[0;32m    408\u001b[0m         \u001b[0msubset\u001b[0m\u001b[1;33m=\u001b[0m\u001b[0msubset\u001b[0m\u001b[1;33m,\u001b[0m\u001b[1;33m\u001b[0m\u001b[1;33m\u001b[0m\u001b[0m\n\u001b[0;32m    409\u001b[0m         \u001b[0minterpolation\u001b[0m\u001b[1;33m=\u001b[0m\u001b[0minterpolation\u001b[0m\u001b[1;33m,\u001b[0m\u001b[1;33m\u001b[0m\u001b[1;33m\u001b[0m\u001b[0m\n\u001b[1;32m--> 410\u001b[1;33m         **kwargs)\n\u001b[0m\u001b[0;32m    411\u001b[0m \u001b[1;33m\u001b[0m\u001b[0m\n\u001b[0;32m    412\u001b[0m \u001b[1;33m\u001b[0m\u001b[0m\n",
      "\u001b[1;32m~\\anaconda3\\envs\\gpu\\lib\\site-packages\\keras_preprocessing\\image\\directory_iterator.py\u001b[0m in \u001b[0;36m__init__\u001b[1;34m(self, directory, image_data_generator, target_size, color_mode, classes, class_mode, batch_size, shuffle, seed, data_format, save_to_dir, save_prefix, save_format, follow_links, subset, interpolation, dtype)\u001b[0m\n\u001b[0;32m    113\u001b[0m         \u001b[1;32mif\u001b[0m \u001b[1;32mnot\u001b[0m \u001b[0mclasses\u001b[0m\u001b[1;33m:\u001b[0m\u001b[1;33m\u001b[0m\u001b[1;33m\u001b[0m\u001b[0m\n\u001b[0;32m    114\u001b[0m             \u001b[0mclasses\u001b[0m \u001b[1;33m=\u001b[0m \u001b[1;33m[\u001b[0m\u001b[1;33m]\u001b[0m\u001b[1;33m\u001b[0m\u001b[1;33m\u001b[0m\u001b[0m\n\u001b[1;32m--> 115\u001b[1;33m             \u001b[1;32mfor\u001b[0m \u001b[0msubdir\u001b[0m \u001b[1;32min\u001b[0m \u001b[0msorted\u001b[0m\u001b[1;33m(\u001b[0m\u001b[0mos\u001b[0m\u001b[1;33m.\u001b[0m\u001b[0mlistdir\u001b[0m\u001b[1;33m(\u001b[0m\u001b[0mdirectory\u001b[0m\u001b[1;33m)\u001b[0m\u001b[1;33m)\u001b[0m\u001b[1;33m:\u001b[0m\u001b[1;33m\u001b[0m\u001b[1;33m\u001b[0m\u001b[0m\n\u001b[0m\u001b[0;32m    116\u001b[0m                 \u001b[1;32mif\u001b[0m \u001b[0mos\u001b[0m\u001b[1;33m.\u001b[0m\u001b[0mpath\u001b[0m\u001b[1;33m.\u001b[0m\u001b[0misdir\u001b[0m\u001b[1;33m(\u001b[0m\u001b[0mos\u001b[0m\u001b[1;33m.\u001b[0m\u001b[0mpath\u001b[0m\u001b[1;33m.\u001b[0m\u001b[0mjoin\u001b[0m\u001b[1;33m(\u001b[0m\u001b[0mdirectory\u001b[0m\u001b[1;33m,\u001b[0m \u001b[0msubdir\u001b[0m\u001b[1;33m)\u001b[0m\u001b[1;33m)\u001b[0m\u001b[1;33m:\u001b[0m\u001b[1;33m\u001b[0m\u001b[1;33m\u001b[0m\u001b[0m\n\u001b[0;32m    117\u001b[0m                     \u001b[0mclasses\u001b[0m\u001b[1;33m.\u001b[0m\u001b[0mappend\u001b[0m\u001b[1;33m(\u001b[0m\u001b[0msubdir\u001b[0m\u001b[1;33m)\u001b[0m\u001b[1;33m\u001b[0m\u001b[1;33m\u001b[0m\u001b[0m\n",
      "\u001b[1;31mFileNotFoundError\u001b[0m: [WinError 3] 지정된 경로를 찾을 수 없습니다: 'image/'"
     ]
    }
   ],
   "source": [
    "dataGen = image.ImageDataGenerator(rescale=1./255,)\n",
    "bsize = 400\n",
    "imgGen = dataGen.flow_from_directory('image/', \n",
    "                                     target_size=(98,98), batch_size=bsize)"
   ]
  },
  {
   "cell_type": "code",
   "execution_count": null,
   "id": "41b86524-2a2f-4ee7-abee-4c2204728f62",
   "metadata": {
    "ExecuteTime": {
     "end_time": "2021-12-31T12:47:38.837523Z",
     "start_time": "2021-12-31T12:47:38.837523Z"
    }
   },
   "outputs": [],
   "source": [
    "# 이미지 개수\n",
    "n_img = imgGen.n\n",
    "steps = n_img // bsize\n",
    "steps"
   ]
  },
  {
   "cell_type": "code",
   "execution_count": null,
   "id": "373548c0-d0fd-4de3-a57c-7ac11b4bc566",
   "metadata": {
    "ExecuteTime": {
     "end_time": "2021-12-31T12:47:38.838520Z",
     "start_time": "2021-12-31T12:47:38.838520Z"
    }
   },
   "outputs": [],
   "source": [
    "# \n",
    "while True:\n",
    "    try:\n",
    "        x_data, y_data = imgGen.next()\n",
    "        if x_data.shape[0] >= bsize:\n",
    "            break\n",
    "        else:\n",
    "            continue\n",
    "    except:\n",
    "        print('.',end=' ')\n",
    "\n",
    "x_data.shape, y_data.shape"
   ]
  },
  {
   "cell_type": "code",
   "execution_count": null,
   "id": "264e2a00-02bb-47fa-b0a7-10a33f6e95df",
   "metadata": {
    "ExecuteTime": {
     "end_time": "2021-12-31T12:47:38.839518Z",
     "start_time": "2021-12-31T12:47:38.839518Z"
    }
   },
   "outputs": [],
   "source": [
    "imgGen.class_indices"
   ]
  },
  {
   "cell_type": "code",
   "execution_count": null,
   "id": "a7d37de0-b17f-474f-b2c2-b4130b1e25e6",
   "metadata": {
    "ExecuteTime": {
     "end_time": "2021-12-31T12:47:38.840515Z",
     "start_time": "2021-12-31T12:47:38.840515Z"
    }
   },
   "outputs": [],
   "source": [
    "plt.imshow(x_data[0])\n",
    "plt.show()"
   ]
  },
  {
   "cell_type": "code",
   "execution_count": null,
   "id": "3ef60a81-a1a7-4fed-b3fc-3438f4680d59",
   "metadata": {},
   "outputs": [],
   "source": []
  },
  {
   "cell_type": "code",
   "execution_count": null,
   "id": "37f884bc-95c3-440a-ac6c-c2a88ab088c6",
   "metadata": {
    "ExecuteTime": {
     "end_time": "2021-12-31T12:47:38.841512Z",
     "start_time": "2021-12-31T12:47:38.841512Z"
    }
   },
   "outputs": [],
   "source": [
    "x_train, x_test, y_train, y_test = train_test_split(x_data, y_data,\n",
    "                                                    test_size=0.2,\n",
    "                                                    stratify=y_data)\n",
    "x_train.shape, x_test.shape, y_train.shape, y_test.shape"
   ]
  },
  {
   "cell_type": "code",
   "execution_count": null,
   "id": "64ac941b-1375-4724-a22b-375c4984256b",
   "metadata": {},
   "outputs": [],
   "source": []
  },
  {
   "cell_type": "markdown",
   "id": "42aef918-0263-4802-8a49-91e6c924c83d",
   "metadata": {},
   "source": [
    "## 전이학습"
   ]
  },
  {
   "cell_type": "code",
   "execution_count": null,
   "id": "38218608-b004-452a-93ce-fd111694a870",
   "metadata": {
    "ExecuteTime": {
     "end_time": "2021-12-31T12:47:38.843507Z",
     "start_time": "2021-12-31T12:47:38.843507Z"
    }
   },
   "outputs": [],
   "source": [
    "# ResNet50 model 의 특징 추출기까지만 불러온다\n",
    "model_conv = vgg16(weights='imagenet',\n",
    "                      include_top=False,\n",
    "                      input_shape=(98,98,3))\n",
    "# model_conv.summary()"
   ]
  },
  {
   "cell_type": "code",
   "execution_count": null,
   "id": "0f81a187-c9c9-4dd6-9347-2dcb93462475",
   "metadata": {
    "ExecuteTime": {
     "end_time": "2021-12-31T12:47:38.844504Z",
     "start_time": "2021-12-31T12:47:38.844504Z"
    }
   },
   "outputs": [],
   "source": [
    "# 특징 추출기를 학습 제외시키기\n",
    "for layer in model_conv.layers:\n",
    "    layer.trainable = False"
   ]
  },
  {
   "cell_type": "code",
   "execution_count": null,
   "id": "22c78a85-6ab3-4da2-ae09-41a081ee2952",
   "metadata": {
    "ExecuteTime": {
     "end_time": "2021-12-31T12:47:38.845514Z",
     "start_time": "2021-12-31T12:47:38.845514Z"
    },
    "scrolled": true,
    "tags": []
   },
   "outputs": [],
   "source": [
    "# model 학습\n",
    "model = Sequential()\n",
    "model.add(model_conv)\n",
    "model.add(Flatten())\n",
    "model.add(Dense(units=64, activation='relu'))\n",
    "model.add(Dense(units=32, activation='relu'))\n",
    "model.add(Dense(units=2, activation='softmax'))\n",
    "model.compile(loss='categorical_crossentropy', optimizer=Adam(0.001), metrics=['acc'])\n",
    "h = model.fit(x_train, y_train, epochs=30)"
   ]
  },
  {
   "cell_type": "code",
   "execution_count": null,
   "id": "ba3616d4-fcdf-4ca9-839b-df7719d6e487",
   "metadata": {
    "ExecuteTime": {
     "end_time": "2021-12-31T12:47:38.846502Z",
     "start_time": "2021-12-31T12:47:38.846502Z"
    }
   },
   "outputs": [],
   "source": [
    "plt.plot(h.history['loss'], label='loss')\n",
    "plt.plot(h.history['acc'], label='acc')\n",
    "plt.legend()\n",
    "plt.show()"
   ]
  },
  {
   "cell_type": "code",
   "execution_count": null,
   "id": "787790a5-1236-445a-9a8c-81c1c2bb1557",
   "metadata": {
    "ExecuteTime": {
     "end_time": "2021-12-31T12:47:38.848501Z",
     "start_time": "2021-12-31T12:47:38.848501Z"
    }
   },
   "outputs": [],
   "source": [
    "# 정확도 확인\n",
    "\n",
    "labels = imgGen.class_indices.keys()\n",
    "n_train = len(y_train)\n",
    "n_test = len(y_test)\n",
    "\n",
    "# train set\n",
    "print('<<Train Set>> n:', n_train )\n",
    "train_pred = model.predict(x_train).argmax(axis=1)\n",
    "y_train_mx = y_train.argmax(axis=1)\n",
    "train_conf = confusion_matrix(y_train_mx, train_pred)\n",
    "print('Accuracy \\t', accuracy_score(y_train_mx, train_pred))\n",
    "print('F1 \\t\\t', f1_score(y_train_mx, train_pred, average='macro'))\n",
    "print('Confusion matrix')\n",
    "plt.figure()\n",
    "sb.heatmap(train_conf, annot=True,cmap='Reds', fmt='d',\n",
    "           xticklabels=labels, yticklabels=labels)\n",
    "plt.show()\n",
    "\n",
    "print('='*50)\n",
    "# test set\n",
    "print('<<Test Set>> n:', n_test)\n",
    "test_pred = model.predict(x_test).argmax(axis=1)\n",
    "y_train_mx = y_test.argmax(axis=1)\n",
    "test_conf = confusion_matrix(y_train_mx, test_pred)\n",
    "print('Accuracy \\t', accuracy_score(y_train_mx, test_pred))\n",
    "print('F1 \\t\\t', f1_score(y_train_mx, test_pred, average='macro'))\n",
    "print('Confusion matrix')\n",
    "plt.figure()\n",
    "sb.heatmap(test_conf, annot=True,cmap='Reds', fmt='d',\n",
    "           xticklabels=labels, yticklabels=labels)\n",
    "plt.show()"
   ]
  },
  {
   "cell_type": "code",
   "execution_count": null,
   "id": "9e3186d2-f60a-4dc9-abce-2b11c715f346",
   "metadata": {},
   "outputs": [],
   "source": []
  },
  {
   "cell_type": "code",
   "execution_count": null,
   "id": "f2210acc-2b7c-4380-8ace-f9016512e63a",
   "metadata": {},
   "outputs": [],
   "source": []
  },
  {
   "cell_type": "code",
   "execution_count": null,
   "id": "53360037-82f1-4e2c-81ad-a9b33fc67d47",
   "metadata": {},
   "outputs": [],
   "source": []
  },
  {
   "cell_type": "code",
   "execution_count": null,
   "id": "b1d13f3f-bfb7-4150-b6a8-bdbf299ba567",
   "metadata": {},
   "outputs": [],
   "source": []
  }
 ],
 "metadata": {
  "kernelspec": {
   "display_name": "Python 3 (ipykernel)",
   "language": "python",
   "name": "python3"
  },
  "language_info": {
   "codemirror_mode": {
    "name": "ipython",
    "version": 3
   },
   "file_extension": ".py",
   "mimetype": "text/x-python",
   "name": "python",
   "nbconvert_exporter": "python",
   "pygments_lexer": "ipython3",
   "version": "3.7.12"
  },
  "toc": {
   "base_numbering": 1,
   "nav_menu": {},
   "number_sections": true,
   "sideBar": true,
   "skip_h1_title": false,
   "title_cell": "Table of Contents",
   "title_sidebar": "Contents",
   "toc_cell": false,
   "toc_position": {},
   "toc_section_display": true,
   "toc_window_display": false
  }
 },
 "nbformat": 4,
 "nbformat_minor": 5
}
