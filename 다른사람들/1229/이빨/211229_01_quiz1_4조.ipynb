{
 "cells": [
  {
   "cell_type": "code",
   "execution_count": 1,
   "metadata": {},
   "outputs": [],
   "source": [
    "from tensorflow.keras.applications.resnet50 import ResNet50\n",
    "from tensorflow.keras.applications.vgg16 import VGG16,decode_predictions,preprocess_input\n",
    "from tensorflow.keras.preprocessing import image\n",
    "from tensorflow.keras import Sequential\n",
    "from tensorflow.keras.layers import Dense, Flatten\n",
    "from tensorflow.keras.preprocessing import image\n",
    "from tensorflow.keras.optimizers import RMSprop\n",
    "import numpy as np\n",
    "\n"
   ]
  },
  {
   "cell_type": "markdown",
   "metadata": {},
   "source": [
    "### 전이학습"
   ]
  },
  {
   "cell_type": "code",
   "execution_count": 2,
   "metadata": {},
   "outputs": [],
   "source": [
    "# model_conv = ResNet50()"
   ]
  },
  {
   "cell_type": "code",
   "execution_count": 3,
   "metadata": {},
   "outputs": [],
   "source": [
    "# include_top = False --> 특징 추출기 쪽만 가져오기\n",
    "# model_conv = ResNet50(weights='imagenet',\n",
    "#                       include_top = False, input_shape=(98,98,3))\n",
    "\n",
    "model_conv = VGG16(weights='imagenet',\n",
    "                      include_top = False, input_shape=(98,98,3))"
   ]
  },
  {
   "cell_type": "code",
   "execution_count": 4,
   "metadata": {
    "collapsed": true
   },
   "outputs": [
    {
     "name": "stdout",
     "output_type": "stream",
     "text": [
      "Model: \"vgg16\"\n",
      "_________________________________________________________________\n",
      " Layer (type)                Output Shape              Param #   \n",
      "=================================================================\n",
      " input_1 (InputLayer)        [(None, 98, 98, 3)]       0         \n",
      "                                                                 \n",
      " block1_conv1 (Conv2D)       (None, 98, 98, 64)        1792      \n",
      "                                                                 \n",
      " block1_conv2 (Conv2D)       (None, 98, 98, 64)        36928     \n",
      "                                                                 \n",
      " block1_pool (MaxPooling2D)  (None, 49, 49, 64)        0         \n",
      "                                                                 \n",
      " block2_conv1 (Conv2D)       (None, 49, 49, 128)       73856     \n",
      "                                                                 \n",
      " block2_conv2 (Conv2D)       (None, 49, 49, 128)       147584    \n",
      "                                                                 \n",
      " block2_pool (MaxPooling2D)  (None, 24, 24, 128)       0         \n",
      "                                                                 \n",
      " block3_conv1 (Conv2D)       (None, 24, 24, 256)       295168    \n",
      "                                                                 \n",
      " block3_conv2 (Conv2D)       (None, 24, 24, 256)       590080    \n",
      "                                                                 \n",
      " block3_conv3 (Conv2D)       (None, 24, 24, 256)       590080    \n",
      "                                                                 \n",
      " block3_pool (MaxPooling2D)  (None, 12, 12, 256)       0         \n",
      "                                                                 \n",
      " block4_conv1 (Conv2D)       (None, 12, 12, 512)       1180160   \n",
      "                                                                 \n",
      " block4_conv2 (Conv2D)       (None, 12, 12, 512)       2359808   \n",
      "                                                                 \n",
      " block4_conv3 (Conv2D)       (None, 12, 12, 512)       2359808   \n",
      "                                                                 \n",
      " block4_pool (MaxPooling2D)  (None, 6, 6, 512)         0         \n",
      "                                                                 \n",
      " block5_conv1 (Conv2D)       (None, 6, 6, 512)         2359808   \n",
      "                                                                 \n",
      " block5_conv2 (Conv2D)       (None, 6, 6, 512)         2359808   \n",
      "                                                                 \n",
      " block5_conv3 (Conv2D)       (None, 6, 6, 512)         2359808   \n",
      "                                                                 \n",
      " block5_pool (MaxPooling2D)  (None, 3, 3, 512)         0         \n",
      "                                                                 \n",
      "=================================================================\n",
      "Total params: 14,714,688\n",
      "Trainable params: 14,714,688\n",
      "Non-trainable params: 0\n",
      "_________________________________________________________________\n"
     ]
    }
   ],
   "source": [
    "model_conv.summary()"
   ]
  },
  {
   "cell_type": "code",
   "execution_count": 5,
   "metadata": {},
   "outputs": [],
   "source": [
    "from tensorflow.keras.preprocessing import image"
   ]
  },
  {
   "cell_type": "code",
   "execution_count": 6,
   "metadata": {},
   "outputs": [],
   "source": [
    "#특징 추출기는 학습시 제외\n",
    "for layer in model_conv.layers:\n",
    "    layer.trainable = False\n",
    "    "
   ]
  },
  {
   "cell_type": "code",
   "execution_count": 7,
   "metadata": {},
   "outputs": [],
   "source": [
    "dataGen = image.ImageDataGenerator( rescale=1./255 )"
   ]
  },
  {
   "cell_type": "code",
   "execution_count": 8,
   "metadata": {},
   "outputs": [
    {
     "name": "stdout",
     "output_type": "stream",
     "text": [
      "Found 150 images belonging to 3 classes.\n"
     ]
    }
   ],
   "source": [
    "trainGen = dataGen.flow_from_directory( 'dental/train', target_size=(98,98),batch_size=150)"
   ]
  },
  {
   "cell_type": "code",
   "execution_count": 9,
   "metadata": {},
   "outputs": [],
   "source": [
    "x_train , y_train = trainGen.next()"
   ]
  },
  {
   "cell_type": "code",
   "execution_count": 10,
   "metadata": {},
   "outputs": [
    {
     "data": {
      "text/plain": [
       "<keras.engine.functional.Functional at 0x2610bebbeb0>"
      ]
     },
     "execution_count": 10,
     "metadata": {},
     "output_type": "execute_result"
    }
   ],
   "source": [
    "model_conv"
   ]
  },
  {
   "cell_type": "code",
   "execution_count": 11,
   "metadata": {
    "collapsed": true
   },
   "outputs": [
    {
     "name": "stdout",
     "output_type": "stream",
     "text": [
      "Epoch 1/100\n",
      "5/5 [==============================] - 3s 455ms/step - loss: 1.1239 - acc: 0.3800\n",
      "Epoch 2/100\n",
      "5/5 [==============================] - 2s 434ms/step - loss: 1.0038 - acc: 0.5600\n",
      "Epoch 3/100\n",
      "5/5 [==============================] - 2s 451ms/step - loss: 0.9601 - acc: 0.5333\n",
      "Epoch 4/100\n",
      "5/5 [==============================] - 2s 403ms/step - loss: 0.8853 - acc: 0.6667\n",
      "Epoch 5/100\n",
      "5/5 [==============================] - 2s 430ms/step - loss: 0.8204 - acc: 0.7133\n",
      "Epoch 6/100\n",
      "5/5 [==============================] - 2s 375ms/step - loss: 0.7852 - acc: 0.7067\n",
      "Epoch 7/100\n",
      "5/5 [==============================] - 2s 380ms/step - loss: 0.7428 - acc: 0.7533\n",
      "Epoch 8/100\n",
      "5/5 [==============================] - 2s 399ms/step - loss: 0.6949 - acc: 0.7733\n",
      "Epoch 9/100\n",
      "5/5 [==============================] - 2s 414ms/step - loss: 0.6793 - acc: 0.8267\n",
      "Epoch 10/100\n",
      "5/5 [==============================] - 2s 391ms/step - loss: 0.6199 - acc: 0.8400\n",
      "Epoch 11/100\n",
      "5/5 [==============================] - 2s 398ms/step - loss: 0.6540 - acc: 0.7867\n",
      "Epoch 12/100\n",
      "5/5 [==============================] - 2s 410ms/step - loss: 0.5768 - acc: 0.8467\n",
      "Epoch 13/100\n",
      "5/5 [==============================] - 2s 381ms/step - loss: 0.5461 - acc: 0.8667\n",
      "Epoch 14/100\n",
      "5/5 [==============================] - 2s 396ms/step - loss: 0.5485 - acc: 0.8267\n",
      "Epoch 15/100\n",
      "5/5 [==============================] - 2s 392ms/step - loss: 0.5123 - acc: 0.8533\n",
      "Epoch 16/100\n",
      "5/5 [==============================] - 2s 382ms/step - loss: 0.4749 - acc: 0.8933\n",
      "Epoch 17/100\n",
      "5/5 [==============================] - 2s 380ms/step - loss: 0.4569 - acc: 0.8933\n",
      "Epoch 18/100\n",
      "5/5 [==============================] - 2s 380ms/step - loss: 0.4483 - acc: 0.9133\n",
      "Epoch 19/100\n",
      "5/5 [==============================] - 2s 397ms/step - loss: 0.4185 - acc: 0.9400\n",
      "Epoch 20/100\n",
      "5/5 [==============================] - 2s 380ms/step - loss: 0.4121 - acc: 0.9067\n",
      "Epoch 21/100\n",
      "5/5 [==============================] - 2s 376ms/step - loss: 0.3863 - acc: 0.9267\n",
      "Epoch 22/100\n",
      "5/5 [==============================] - 2s 379ms/step - loss: 0.3672 - acc: 0.9333\n",
      "Epoch 23/100\n",
      "5/5 [==============================] - 2s 378ms/step - loss: 0.3455 - acc: 0.9200\n",
      "Epoch 24/100\n",
      "5/5 [==============================] - 2s 377ms/step - loss: 0.3570 - acc: 0.9267\n",
      "Epoch 25/100\n",
      "5/5 [==============================] - 2s 397ms/step - loss: 0.3184 - acc: 0.9333\n",
      "Epoch 26/100\n",
      "5/5 [==============================] - 2s 380ms/step - loss: 0.3134 - acc: 0.9467\n",
      "Epoch 27/100\n",
      "5/5 [==============================] - 2s 380ms/step - loss: 0.2870 - acc: 0.9467\n",
      "Epoch 28/100\n",
      "5/5 [==============================] - 2s 382ms/step - loss: 0.2806 - acc: 0.9467\n",
      "Epoch 29/100\n",
      "5/5 [==============================] - 2s 456ms/step - loss: 0.2709 - acc: 0.9333\n",
      "Epoch 30/100\n",
      "5/5 [==============================] - 2s 379ms/step - loss: 0.2588 - acc: 0.9533\n",
      "Epoch 31/100\n",
      "5/5 [==============================] - 2s 380ms/step - loss: 0.2428 - acc: 0.9600\n",
      "Epoch 32/100\n",
      "5/5 [==============================] - 2s 379ms/step - loss: 0.2372 - acc: 0.9600\n",
      "Epoch 33/100\n",
      "5/5 [==============================] - 2s 382ms/step - loss: 0.2258 - acc: 0.9600\n",
      "Epoch 34/100\n",
      "5/5 [==============================] - 2s 379ms/step - loss: 0.2182 - acc: 0.9667\n",
      "Epoch 35/100\n",
      "5/5 [==============================] - 2s 385ms/step - loss: 0.1981 - acc: 0.9667\n",
      "Epoch 36/100\n",
      "5/5 [==============================] - 2s 397ms/step - loss: 0.1870 - acc: 0.9800\n",
      "Epoch 37/100\n",
      "5/5 [==============================] - 2s 399ms/step - loss: 0.1829 - acc: 0.9800\n",
      "Epoch 38/100\n",
      "5/5 [==============================] - 2s 385ms/step - loss: 0.1785 - acc: 0.9800\n",
      "Epoch 39/100\n",
      "5/5 [==============================] - 2s 384ms/step - loss: 0.1665 - acc: 0.9733\n",
      "Epoch 40/100\n",
      "5/5 [==============================] - 2s 381ms/step - loss: 0.1530 - acc: 0.9867\n",
      "Epoch 41/100\n",
      "5/5 [==============================] - 2s 382ms/step - loss: 0.1429 - acc: 0.9800\n",
      "Epoch 42/100\n",
      "5/5 [==============================] - 2s 398ms/step - loss: 0.1414 - acc: 1.0000\n",
      "Epoch 43/100\n",
      "5/5 [==============================] - 2s 382ms/step - loss: 0.1383 - acc: 0.9933\n",
      "Epoch 44/100\n",
      "5/5 [==============================] - 2s 380ms/step - loss: 0.1195 - acc: 1.0000\n",
      "Epoch 45/100\n",
      "5/5 [==============================] - 2s 403ms/step - loss: 0.1258 - acc: 0.9867\n",
      "Epoch 46/100\n",
      "5/5 [==============================] - 2s 386ms/step - loss: 0.1220 - acc: 0.9933\n",
      "Epoch 47/100\n",
      "5/5 [==============================] - 2s 397ms/step - loss: 0.1028 - acc: 1.0000\n",
      "Epoch 48/100\n",
      "5/5 [==============================] - 2s 390ms/step - loss: 0.1103 - acc: 0.9867\n",
      "Epoch 49/100\n",
      "5/5 [==============================] - 2s 413ms/step - loss: 0.0929 - acc: 0.9933\n",
      "Epoch 50/100\n",
      "5/5 [==============================] - 2s 427ms/step - loss: 0.0880 - acc: 1.0000\n",
      "Epoch 51/100\n",
      "5/5 [==============================] - 2s 401ms/step - loss: 0.0996 - acc: 0.9800\n",
      "Epoch 52/100\n",
      "5/5 [==============================] - 2s 422ms/step - loss: 0.0780 - acc: 1.0000\n",
      "Epoch 53/100\n",
      "5/5 [==============================] - 2s 436ms/step - loss: 0.0861 - acc: 1.0000\n",
      "Epoch 54/100\n",
      "5/5 [==============================] - 2s 422ms/step - loss: 0.0719 - acc: 0.9933\n",
      "Epoch 55/100\n",
      "5/5 [==============================] - 2s 415ms/step - loss: 0.0659 - acc: 1.0000\n",
      "Epoch 56/100\n",
      "5/5 [==============================] - 2s 423ms/step - loss: 0.0673 - acc: 1.0000\n",
      "Epoch 57/100\n",
      "5/5 [==============================] - 2s 439ms/step - loss: 0.0595 - acc: 1.0000\n",
      "Epoch 58/100\n",
      "5/5 [==============================] - 2s 403ms/step - loss: 0.0637 - acc: 1.0000\n",
      "Epoch 59/100\n",
      "5/5 [==============================] - 2s 422ms/step - loss: 0.0530 - acc: 1.0000\n",
      "Epoch 60/100\n",
      "5/5 [==============================] - 2s 420ms/step - loss: 0.0538 - acc: 1.0000\n",
      "Epoch 61/100\n",
      "5/5 [==============================] - 2s 408ms/step - loss: 0.0453 - acc: 1.0000\n",
      "Epoch 62/100\n",
      "5/5 [==============================] - 2s 396ms/step - loss: 0.0463 - acc: 1.0000\n",
      "Epoch 63/100\n",
      "5/5 [==============================] - 2s 404ms/step - loss: 0.0432 - acc: 1.0000\n",
      "Epoch 64/100\n",
      "5/5 [==============================] - 2s 421ms/step - loss: 0.0403 - acc: 1.0000\n",
      "Epoch 65/100\n",
      "5/5 [==============================] - 2s 433ms/step - loss: 0.0344 - acc: 1.0000\n",
      "Epoch 66/100\n",
      "5/5 [==============================] - 2s 414ms/step - loss: 0.0341 - acc: 1.0000\n",
      "Epoch 67/100\n",
      "5/5 [==============================] - 2s 418ms/step - loss: 0.0344 - acc: 1.0000\n",
      "Epoch 68/100\n",
      "5/5 [==============================] - 2s 415ms/step - loss: 0.0341 - acc: 1.0000\n",
      "Epoch 69/100\n",
      "5/5 [==============================] - 2s 400ms/step - loss: 0.0283 - acc: 1.0000\n",
      "Epoch 70/100\n",
      "5/5 [==============================] - 2s 436ms/step - loss: 0.0299 - acc: 1.0000\n",
      "Epoch 71/100\n",
      "5/5 [==============================] - 2s 395ms/step - loss: 0.0281 - acc: 1.0000\n",
      "Epoch 72/100\n",
      "5/5 [==============================] - 2s 409ms/step - loss: 0.0272 - acc: 1.0000\n",
      "Epoch 73/100\n",
      "5/5 [==============================] - 2s 409ms/step - loss: 0.0233 - acc: 1.0000\n",
      "Epoch 74/100\n",
      "5/5 [==============================] - 2s 399ms/step - loss: 0.0204 - acc: 1.0000\n",
      "Epoch 75/100\n",
      "5/5 [==============================] - 2s 427ms/step - loss: 0.0223 - acc: 1.0000\n",
      "Epoch 76/100\n",
      "5/5 [==============================] - 2s 404ms/step - loss: 0.0173 - acc: 1.0000\n",
      "Epoch 77/100\n",
      "5/5 [==============================] - 2s 415ms/step - loss: 0.0160 - acc: 1.0000\n",
      "Epoch 78/100\n",
      "5/5 [==============================] - 2s 381ms/step - loss: 0.0169 - acc: 1.0000\n",
      "Epoch 79/100\n",
      "5/5 [==============================] - 2s 383ms/step - loss: 0.0201 - acc: 1.0000\n",
      "Epoch 80/100\n",
      "5/5 [==============================] - 2s 383ms/step - loss: 0.0126 - acc: 1.0000\n",
      "Epoch 81/100\n",
      "5/5 [==============================] - 2s 411ms/step - loss: 0.0117 - acc: 1.0000\n",
      "Epoch 82/100\n",
      "5/5 [==============================] - 2s 403ms/step - loss: 0.0110 - acc: 1.0000\n",
      "Epoch 83/100\n",
      "5/5 [==============================] - 2s 385ms/step - loss: 0.0112 - acc: 1.0000\n",
      "Epoch 84/100\n",
      "5/5 [==============================] - 2s 399ms/step - loss: 0.0133 - acc: 1.0000\n",
      "Epoch 85/100\n",
      "5/5 [==============================] - 2s 399ms/step - loss: 0.0086 - acc: 1.0000\n",
      "Epoch 86/100\n",
      "5/5 [==============================] - 2s 415ms/step - loss: 0.0120 - acc: 1.0000\n",
      "Epoch 87/100\n"
     ]
    },
    {
     "name": "stdout",
     "output_type": "stream",
     "text": [
      "5/5 [==============================] - 2s 395ms/step - loss: 0.0078 - acc: 1.0000\n",
      "Epoch 88/100\n",
      "5/5 [==============================] - 2s 419ms/step - loss: 0.0072 - acc: 1.0000\n",
      "Epoch 89/100\n",
      "5/5 [==============================] - 2s 391ms/step - loss: 0.0098 - acc: 1.0000\n",
      "Epoch 90/100\n",
      "5/5 [==============================] - 2s 411ms/step - loss: 0.0067 - acc: 1.0000\n",
      "Epoch 91/100\n",
      "5/5 [==============================] - 2s 393ms/step - loss: 0.0055 - acc: 1.0000\n",
      "Epoch 92/100\n",
      "5/5 [==============================] - 2s 380ms/step - loss: 0.0054 - acc: 1.0000\n",
      "Epoch 93/100\n",
      "5/5 [==============================] - 2s 397ms/step - loss: 0.0057 - acc: 1.0000\n",
      "Epoch 94/100\n",
      "5/5 [==============================] - 2s 428ms/step - loss: 0.0046 - acc: 1.0000\n",
      "Epoch 95/100\n",
      "5/5 [==============================] - 2s 395ms/step - loss: 0.0074 - acc: 1.0000\n",
      "Epoch 96/100\n",
      "5/5 [==============================] - 2s 436ms/step - loss: 0.0039 - acc: 1.0000\n",
      "Epoch 97/100\n",
      "5/5 [==============================] - 2s 414ms/step - loss: 0.0038 - acc: 1.0000\n",
      "Epoch 98/100\n",
      "5/5 [==============================] - 2s 394ms/step - loss: 0.0035 - acc: 1.0000\n",
      "Epoch 99/100\n",
      "5/5 [==============================] - 2s 396ms/step - loss: 0.0047 - acc: 1.0000\n",
      "Epoch 100/100\n",
      "5/5 [==============================] - 2s 397ms/step - loss: 0.0030 - acc: 1.0000\n"
     ]
    },
    {
     "data": {
      "text/plain": [
       "<keras.callbacks.History at 0x26112599400>"
      ]
     },
     "execution_count": 11,
     "metadata": {},
     "output_type": "execute_result"
    }
   ],
   "source": [
    "model = Sequential()\n",
    "model.add(model_conv) # con, relu, pool\n",
    "model.add(Flatten())\n",
    "model.add(Dense(units = 128, activation='relu'))\n",
    "model.add(Dense(units = 64, activation='relu'))\n",
    "model.add(Dense(units = 32, activation='relu'))\n",
    "model.add(Dense(units = 3, activation='softmax'))\n",
    "# model.compile(loss = 'categorical_crossentropy',optimizer='adam',metrics=['acc'])\n",
    "#미세조정..\n",
    "model.compile(loss = 'categorical_crossentropy',\n",
    "              optimizer= RMSprop(learning_rate=1e-4), metrics=['acc'])\n",
    "model.fit(x_train,y_train,epochs=100)"
   ]
  },
  {
   "cell_type": "code",
   "execution_count": 12,
   "metadata": {
    "collapsed": true
   },
   "outputs": [
    {
     "data": {
      "image/png": "[encoded data removed]",
      "text/plain": [
       "<PIL.Image.Image image mode=RGB size=98x98 at 0x2610A67F550>"
      ]
     },
     "execution_count": 12,
     "metadata": {},
     "output_type": "execute_result"
    }
   ],
   "source": [
    "testImg = image.load_img( 'dental/test/cured/301.jpg', target_size=(98,98))\n",
    "testImg"
   ]
  },
  {
   "cell_type": "code",
   "execution_count": 13,
   "metadata": {},
   "outputs": [],
   "source": [
    "imgArr = image.img_to_array(testImg)"
   ]
  },
  {
   "cell_type": "code",
   "execution_count": 14,
   "metadata": {},
   "outputs": [
    {
     "data": {
      "text/plain": [
       "0"
      ]
     },
     "execution_count": 14,
     "metadata": {},
     "output_type": "execute_result"
    }
   ],
   "source": [
    "list(model.predict(preprocess_input(np.expand_dims(imgArr, axis=0))).argmax(axis=1))[0]"
   ]
  },
  {
   "cell_type": "code",
   "execution_count": 20,
   "metadata": {},
   "outputs": [
    {
     "name": "stdout",
     "output_type": "stream",
     "text": [
      "Found 60 images belonging to 3 classes.\n"
     ]
    }
   ],
   "source": [
    "trainGen = dataGen.flow_from_directory( 'dental/test', target_size=(98,98),batch_size=60)\n",
    "x_test , y_test = trainGen.next()"
   ]
  },
  {
   "cell_type": "code",
   "execution_count": 21,
   "metadata": {},
   "outputs": [
    {
     "name": "stdout",
     "output_type": "stream",
     "text": [
      "5/5 [==============================] - 2s 385ms/step - loss: 0.0043 - acc: 1.0000\n"
     ]
    },
    {
     "data": {
      "text/plain": [
       "[0.004256121348589659, 1.0]"
      ]
     },
     "execution_count": 21,
     "metadata": {},
     "output_type": "execute_result"
    }
   ],
   "source": [
    "model.evaluate(x_train,y_train)"
   ]
  },
  {
   "cell_type": "code",
   "execution_count": 22,
   "metadata": {},
   "outputs": [
    {
     "name": "stdout",
     "output_type": "stream",
     "text": [
      "2/2 [==============================] - 1s 350ms/step - loss: 1.5330 - acc: 0.6833\n"
     ]
    },
    {
     "data": {
      "text/plain": [
       "[1.5330458879470825, 0.6833333373069763]"
      ]
     },
     "execution_count": 22,
     "metadata": {},
     "output_type": "execute_result"
    }
   ],
   "source": [
    "model.evaluate(x_test,y_test)"
   ]
  },
  {
   "cell_type": "code",
   "execution_count": null,
   "metadata": {},
   "outputs": [],
   "source": []
  }
 ],
 "metadata": {
  "interpreter": {
   "hash": "ff827e81520a642dbfd9e1b824c8f27237972c1aa03759635e70e36cdabc5300"
  },
  "kernelspec": {
   "display_name": "Python 3",
   "language": "python",
   "name": "python3"
  },
  "language_info": {
   "codemirror_mode": {
    "name": "ipython",
    "version": 3
   },
   "file_extension": ".py",
   "mimetype": "text/x-python",
   "name": "python",
   "nbconvert_exporter": "python",
   "pygments_lexer": "ipython3",
   "version": "3.8.8"
  }
 },
 "nbformat": 4,
 "nbformat_minor": 2
}
