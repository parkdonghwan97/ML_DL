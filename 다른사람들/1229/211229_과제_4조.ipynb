{
 "cells": [
  {
   "cell_type": "code",
   "execution_count": 30,
   "metadata": {},
   "outputs": [],
   "source": [
    "from tensorflow.keras.applications.resnet50 import ResNet50\n",
    "from tensorflow.keras.applications.vgg16 import VGG16,decode_predictions,preprocess_input\n",
    "from tensorflow.keras.preprocessing import image\n",
    "from tensorflow.keras import Sequential\n",
    "from tensorflow.keras.layers import Dense, Flatten\n",
    "from tensorflow.keras.preprocessing import image\n",
    "from tensorflow.keras.optimizers import RMSprop\n",
    "import numpy as np\n",
    "from sklearn.metrics import confusion_matrix\n",
    "import seaborn as sns\n",
    "import matplotlib.pyplot as plt"
   ]
  },
  {
   "cell_type": "markdown",
   "metadata": {},
   "source": [
    "### 전이학습"
   ]
  },
  {
   "cell_type": "code",
   "execution_count": 10,
   "metadata": {},
   "outputs": [],
   "source": [
    "# model_conv = ResNet50()"
   ]
  },
  {
   "cell_type": "code",
   "execution_count": 11,
   "metadata": {},
   "outputs": [],
   "source": [
    "# include_top = False --> 특징 추출기 쪽만 가져오기\n",
    "# model_conv = ResNet50(weights='imagenet',\n",
    "#                       include_top = False, input_shape=(98,98,3))\n",
    "\n",
    "model_conv = VGG16(weights='imagenet',\n",
    "                      include_top = False, input_shape=(98,98,3))"
   ]
  },
  {
   "cell_type": "code",
   "execution_count": 12,
   "metadata": {
    "collapsed": true
   },
   "outputs": [
    {
     "name": "stdout",
     "output_type": "stream",
     "text": [
      "Model: \"vgg16\"\n",
      "_________________________________________________________________\n",
      " Layer (type)                Output Shape              Param #   \n",
      "=================================================================\n",
      " input_2 (InputLayer)        [(None, 98, 98, 3)]       0         \n",
      "                                                                 \n",
      " block1_conv1 (Conv2D)       (None, 98, 98, 64)        1792      \n",
      "                                                                 \n",
      " block1_conv2 (Conv2D)       (None, 98, 98, 64)        36928     \n",
      "                                                                 \n",
      " block1_pool (MaxPooling2D)  (None, 49, 49, 64)        0         \n",
      "                                                                 \n",
      " block2_conv1 (Conv2D)       (None, 49, 49, 128)       73856     \n",
      "                                                                 \n",
      " block2_conv2 (Conv2D)       (None, 49, 49, 128)       147584    \n",
      "                                                                 \n",
      " block2_pool (MaxPooling2D)  (None, 24, 24, 128)       0         \n",
      "                                                                 \n",
      " block3_conv1 (Conv2D)       (None, 24, 24, 256)       295168    \n",
      "                                                                 \n",
      " block3_conv2 (Conv2D)       (None, 24, 24, 256)       590080    \n",
      "                                                                 \n",
      " block3_conv3 (Conv2D)       (None, 24, 24, 256)       590080    \n",
      "                                                                 \n",
      " block3_pool (MaxPooling2D)  (None, 12, 12, 256)       0         \n",
      "                                                                 \n",
      " block4_conv1 (Conv2D)       (None, 12, 12, 512)       1180160   \n",
      "                                                                 \n",
      " block4_conv2 (Conv2D)       (None, 12, 12, 512)       2359808   \n",
      "                                                                 \n",
      " block4_conv3 (Conv2D)       (None, 12, 12, 512)       2359808   \n",
      "                                                                 \n",
      " block4_pool (MaxPooling2D)  (None, 6, 6, 512)         0         \n",
      "                                                                 \n",
      " block5_conv1 (Conv2D)       (None, 6, 6, 512)         2359808   \n",
      "                                                                 \n",
      " block5_conv2 (Conv2D)       (None, 6, 6, 512)         2359808   \n",
      "                                                                 \n",
      " block5_conv3 (Conv2D)       (None, 6, 6, 512)         2359808   \n",
      "                                                                 \n",
      " block5_pool (MaxPooling2D)  (None, 3, 3, 512)         0         \n",
      "                                                                 \n",
      "=================================================================\n",
      "Total params: 14,714,688\n",
      "Trainable params: 14,714,688\n",
      "Non-trainable params: 0\n",
      "_________________________________________________________________\n"
     ]
    }
   ],
   "source": [
    "model_conv.summary()"
   ]
  },
  {
   "cell_type": "code",
   "execution_count": 13,
   "metadata": {},
   "outputs": [],
   "source": [
    "from tensorflow.keras.preprocessing import image"
   ]
  },
  {
   "cell_type": "code",
   "execution_count": 14,
   "metadata": {},
   "outputs": [],
   "source": [
    "#특징 추출기는 학습시 제외\n",
    "for layer in model_conv.layers:\n",
    "    layer.trainable = False\n",
    "    "
   ]
  },
  {
   "cell_type": "code",
   "execution_count": 15,
   "metadata": {},
   "outputs": [],
   "source": [
    "dataGen = image.ImageDataGenerator( rescale=1./255 )"
   ]
  },
  {
   "cell_type": "code",
   "execution_count": 16,
   "metadata": {},
   "outputs": [
    {
     "name": "stdout",
     "output_type": "stream",
     "text": [
      "Found 1242 images belonging to 2 classes.\n"
     ]
    }
   ],
   "source": [
    "trainGen = dataGen.flow_from_directory( 'wd/train', target_size=(98,98),batch_size=150)"
   ]
  },
  {
   "cell_type": "code",
   "execution_count": 17,
   "metadata": {},
   "outputs": [],
   "source": [
    "x_train , y_train = trainGen.next()"
   ]
  },
  {
   "cell_type": "code",
   "execution_count": 18,
   "metadata": {},
   "outputs": [
    {
     "data": {
      "text/plain": [
       "<keras.engine.functional.Functional at 0x2af23d7dfd0>"
      ]
     },
     "execution_count": 18,
     "metadata": {},
     "output_type": "execute_result"
    }
   ],
   "source": [
    "model_conv"
   ]
  },
  {
   "cell_type": "code",
   "execution_count": 19,
   "metadata": {
    "collapsed": true
   },
   "outputs": [
    {
     "name": "stdout",
     "output_type": "stream",
     "text": [
      "Epoch 1/100\n",
      "5/5 [==============================] - 2s 378ms/step - loss: 0.5978 - acc: 0.6600\n",
      "Epoch 2/100\n",
      "5/5 [==============================] - 2s 373ms/step - loss: 0.4264 - acc: 0.8933\n",
      "Epoch 3/100\n",
      "5/5 [==============================] - 2s 370ms/step - loss: 0.3651 - acc: 0.8933\n",
      "Epoch 4/100\n",
      "5/5 [==============================] - 2s 373ms/step - loss: 0.2885 - acc: 0.9467\n",
      "Epoch 5/100\n",
      "5/5 [==============================] - 2s 392ms/step - loss: 0.2433 - acc: 0.9733\n",
      "Epoch 6/100\n",
      "5/5 [==============================] - 2s 374ms/step - loss: 0.2119 - acc: 0.9733\n",
      "Epoch 7/100\n",
      "5/5 [==============================] - 2s 372ms/step - loss: 0.1913 - acc: 0.9667\n",
      "Epoch 8/100\n",
      "5/5 [==============================] - 2s 365ms/step - loss: 0.1564 - acc: 0.9733\n",
      "Epoch 9/100\n",
      "5/5 [==============================] - 2s 361ms/step - loss: 0.1328 - acc: 0.9800\n",
      "Epoch 10/100\n",
      "5/5 [==============================] - 2s 367ms/step - loss: 0.1249 - acc: 0.9867\n",
      "Epoch 11/100\n",
      "5/5 [==============================] - 2s 380ms/step - loss: 0.0997 - acc: 0.9867\n",
      "Epoch 12/100\n",
      "5/5 [==============================] - 2s 379ms/step - loss: 0.0974 - acc: 0.9800\n",
      "Epoch 13/100\n",
      "5/5 [==============================] - 2s 391ms/step - loss: 0.0768 - acc: 0.9933\n",
      "Epoch 14/100\n",
      "5/5 [==============================] - 2s 369ms/step - loss: 0.0745 - acc: 0.9867\n",
      "Epoch 15/100\n",
      "5/5 [==============================] - 2s 362ms/step - loss: 0.0583 - acc: 0.9867\n",
      "Epoch 16/100\n",
      "5/5 [==============================] - 2s 370ms/step - loss: 0.0520 - acc: 0.9933\n",
      "Epoch 17/100\n",
      "5/5 [==============================] - 2s 385ms/step - loss: 0.0436 - acc: 1.0000\n",
      "Epoch 18/100\n",
      "5/5 [==============================] - 2s 372ms/step - loss: 0.0471 - acc: 0.9933\n",
      "Epoch 19/100\n",
      "5/5 [==============================] - 2s 377ms/step - loss: 0.0332 - acc: 1.0000\n",
      "Epoch 20/100\n",
      "5/5 [==============================] - 2s 372ms/step - loss: 0.0296 - acc: 1.0000\n",
      "Epoch 21/100\n",
      "5/5 [==============================] - 2s 358ms/step - loss: 0.0241 - acc: 1.0000\n",
      "Epoch 22/100\n",
      "5/5 [==============================] - 2s 357ms/step - loss: 0.0261 - acc: 1.0000\n",
      "Epoch 23/100\n",
      "5/5 [==============================] - 2s 358ms/step - loss: 0.0200 - acc: 1.0000\n",
      "Epoch 24/100\n",
      "5/5 [==============================] - 2s 360ms/step - loss: 0.0148 - acc: 1.0000\n",
      "Epoch 25/100\n",
      "5/5 [==============================] - 2s 359ms/step - loss: 0.0150 - acc: 1.0000\n",
      "Epoch 26/100\n",
      "5/5 [==============================] - 2s 392ms/step - loss: 0.0115 - acc: 1.0000\n",
      "Epoch 27/100\n",
      "5/5 [==============================] - 2s 402ms/step - loss: 0.0103 - acc: 1.0000\n",
      "Epoch 28/100\n",
      "5/5 [==============================] - 2s 379ms/step - loss: 0.0090 - acc: 1.0000\n",
      "Epoch 29/100\n",
      "5/5 [==============================] - 2s 374ms/step - loss: 0.0068 - acc: 1.0000\n",
      "Epoch 30/100\n",
      "5/5 [==============================] - 2s 376ms/step - loss: 0.0057 - acc: 1.0000\n",
      "Epoch 31/100\n",
      "5/5 [==============================] - 2s 380ms/step - loss: 0.0076 - acc: 1.0000\n",
      "Epoch 32/100\n",
      "5/5 [==============================] - 2s 393ms/step - loss: 0.0040 - acc: 1.0000\n",
      "Epoch 33/100\n",
      "5/5 [==============================] - 2s 381ms/step - loss: 0.0034 - acc: 1.0000\n",
      "Epoch 34/100\n",
      "5/5 [==============================] - 2s 377ms/step - loss: 0.0036 - acc: 1.0000\n",
      "Epoch 35/100\n",
      "5/5 [==============================] - 2s 374ms/step - loss: 0.0027 - acc: 1.0000\n",
      "Epoch 36/100\n",
      "5/5 [==============================] - 2s 377ms/step - loss: 0.0036 - acc: 1.0000\n",
      "Epoch 37/100\n",
      "5/5 [==============================] - 2s 398ms/step - loss: 0.0019 - acc: 1.0000\n",
      "Epoch 38/100\n",
      "5/5 [==============================] - 2s 381ms/step - loss: 0.0016 - acc: 1.0000\n",
      "Epoch 39/100\n",
      "5/5 [==============================] - 2s 382ms/step - loss: 0.0014 - acc: 1.0000\n",
      "Epoch 40/100\n",
      "5/5 [==============================] - 2s 379ms/step - loss: 0.0011 - acc: 1.0000\n",
      "Epoch 41/100\n",
      "5/5 [==============================] - 2s 374ms/step - loss: 9.3279e-04 - acc: 1.0000\n",
      "Epoch 42/100\n",
      "5/5 [==============================] - 2s 383ms/step - loss: 0.0010 - acc: 1.0000\n",
      "Epoch 43/100\n",
      "5/5 [==============================] - 2s 365ms/step - loss: 7.1088e-04 - acc: 1.0000\n",
      "Epoch 44/100\n",
      "5/5 [==============================] - 2s 360ms/step - loss: 6.5906e-04 - acc: 1.0000\n",
      "Epoch 45/100\n",
      "5/5 [==============================] - 2s 358ms/step - loss: 4.6087e-04 - acc: 1.0000\n",
      "Epoch 46/100\n",
      "5/5 [==============================] - 2s 358ms/step - loss: 3.6453e-04 - acc: 1.0000\n",
      "Epoch 47/100\n",
      "5/5 [==============================] - 2s 361ms/step - loss: 3.0763e-04 - acc: 1.0000\n",
      "Epoch 48/100\n",
      "5/5 [==============================] - 2s 358ms/step - loss: 2.9619e-04 - acc: 1.0000\n",
      "Epoch 49/100\n",
      "5/5 [==============================] - 2s 363ms/step - loss: 2.2967e-04 - acc: 1.0000\n",
      "Epoch 50/100\n",
      "5/5 [==============================] - 2s 349ms/step - loss: 1.6953e-04 - acc: 1.0000\n",
      "Epoch 51/100\n",
      "5/5 [==============================] - 2s 361ms/step - loss: 1.4519e-04 - acc: 1.0000\n",
      "Epoch 52/100\n",
      "5/5 [==============================] - 2s 355ms/step - loss: 1.2499e-04 - acc: 1.0000\n",
      "Epoch 53/100\n",
      "5/5 [==============================] - 2s 357ms/step - loss: 9.3462e-05 - acc: 1.0000\n",
      "Epoch 54/100\n",
      "5/5 [==============================] - 2s 357ms/step - loss: 8.5456e-05 - acc: 1.0000\n",
      "Epoch 55/100\n",
      "5/5 [==============================] - 2s 354ms/step - loss: 6.9381e-05 - acc: 1.0000\n",
      "Epoch 56/100\n",
      "5/5 [==============================] - 2s 355ms/step - loss: 6.2409e-05 - acc: 1.0000\n",
      "Epoch 57/100\n",
      "5/5 [==============================] - 2s 354ms/step - loss: 4.6445e-05 - acc: 1.0000\n",
      "Epoch 58/100\n",
      "5/5 [==============================] - 2s 357ms/step - loss: 3.2851e-05 - acc: 1.0000\n",
      "Epoch 59/100\n",
      "5/5 [==============================] - 2s 357ms/step - loss: 3.0343e-05 - acc: 1.0000\n",
      "Epoch 60/100\n",
      "5/5 [==============================] - 2s 356ms/step - loss: 2.4463e-05 - acc: 1.0000\n",
      "Epoch 61/100\n",
      "5/5 [==============================] - 2s 357ms/step - loss: 2.5140e-05 - acc: 1.0000\n",
      "Epoch 62/100\n",
      "5/5 [==============================] - 2s 356ms/step - loss: 1.3986e-05 - acc: 1.0000\n",
      "Epoch 63/100\n",
      "5/5 [==============================] - 2s 354ms/step - loss: 1.4870e-05 - acc: 1.0000\n",
      "Epoch 64/100\n",
      "5/5 [==============================] - 2s 355ms/step - loss: 9.3958e-06 - acc: 1.0000\n",
      "Epoch 65/100\n",
      "5/5 [==============================] - 2s 358ms/step - loss: 8.0560e-06 - acc: 1.0000\n",
      "Epoch 66/100\n",
      "5/5 [==============================] - 2s 354ms/step - loss: 7.9646e-06 - acc: 1.0000\n",
      "Epoch 67/100\n",
      "5/5 [==============================] - 2s 355ms/step - loss: 7.5917e-06 - acc: 1.0000\n",
      "Epoch 68/100\n",
      "5/5 [==============================] - 2s 355ms/step - loss: 4.4401e-06 - acc: 1.0000\n",
      "Epoch 69/100\n",
      "5/5 [==============================] - 2s 358ms/step - loss: 3.7304e-06 - acc: 1.0000\n",
      "Epoch 70/100\n",
      "5/5 [==============================] - 2s 355ms/step - loss: 3.0366e-06 - acc: 1.0000\n",
      "Epoch 71/100\n",
      "5/5 [==============================] - 2s 357ms/step - loss: 2.4454e-06 - acc: 1.0000\n",
      "Epoch 72/100\n",
      "5/5 [==============================] - 2s 356ms/step - loss: 2.6369e-06 - acc: 1.0000\n",
      "Epoch 73/100\n",
      "5/5 [==============================] - 2s 354ms/step - loss: 1.6999e-06 - acc: 1.0000\n",
      "Epoch 74/100\n",
      "5/5 [==============================] - 2s 356ms/step - loss: 1.4273e-06 - acc: 1.0000\n",
      "Epoch 75/100\n",
      "5/5 [==============================] - 2s 355ms/step - loss: 1.6014e-06 - acc: 1.0000\n",
      "Epoch 76/100\n",
      "5/5 [==============================] - 2s 355ms/step - loss: 9.7910e-07 - acc: 1.0000\n",
      "Epoch 77/100\n",
      "5/5 [==============================] - 2s 354ms/step - loss: 9.4175e-07 - acc: 1.0000\n",
      "Epoch 78/100\n",
      "5/5 [==============================] - 2s 359ms/step - loss: 7.8996e-07 - acc: 1.0000\n",
      "Epoch 79/100\n",
      "5/5 [==============================] - 2s 354ms/step - loss: 6.7154e-07 - acc: 1.0000\n",
      "Epoch 80/100\n",
      "5/5 [==============================] - 2s 355ms/step - loss: 5.4200e-07 - acc: 1.0000\n",
      "Epoch 81/100\n",
      "5/5 [==============================] - 2s 354ms/step - loss: 4.3948e-07 - acc: 1.0000\n",
      "Epoch 82/100\n",
      "5/5 [==============================] - 2s 355ms/step - loss: 4.0372e-07 - acc: 1.0000\n",
      "Epoch 83/100\n",
      "5/5 [==============================] - 2s 355ms/step - loss: 3.7670e-07 - acc: 1.0000\n",
      "Epoch 84/100\n",
      "5/5 [==============================] - 2s 354ms/step - loss: 2.8610e-07 - acc: 1.0000\n",
      "Epoch 85/100\n",
      "5/5 [==============================] - 2s 355ms/step - loss: 2.8451e-07 - acc: 1.0000\n",
      "Epoch 86/100\n",
      "5/5 [==============================] - 2s 355ms/step - loss: 2.5034e-07 - acc: 1.0000\n",
      "Epoch 87/100\n",
      "5/5 [==============================] - 2s 355ms/step - loss: 1.9550e-07 - acc: 1.0000\n",
      "Epoch 88/100\n",
      "5/5 [==============================] - 2s 354ms/step - loss: 1.7405e-07 - acc: 1.0000\n",
      "Epoch 89/100\n",
      "5/5 [==============================] - 2s 359ms/step - loss: 1.5736e-07 - acc: 1.0000\n",
      "Epoch 90/100\n",
      "5/5 [==============================] - 2s 354ms/step - loss: 1.3828e-07 - acc: 1.0000\n",
      "Epoch 91/100\n",
      "5/5 [==============================] - 2s 354ms/step - loss: 1.2636e-07 - acc: 1.0000\n",
      "Epoch 92/100\n",
      "5/5 [==============================] - 2s 356ms/step - loss: 1.1603e-07 - acc: 1.0000\n",
      "Epoch 93/100\n",
      "5/5 [==============================] - 2s 354ms/step - loss: 1.1047e-07 - acc: 1.0000\n",
      "Epoch 94/100\n",
      "5/5 [==============================] - 2s 355ms/step - loss: 9.0599e-08 - acc: 1.0000\n",
      "Epoch 95/100\n",
      "5/5 [==============================] - 2s 355ms/step - loss: 7.9473e-08 - acc: 1.0000\n",
      "Epoch 96/100\n",
      "5/5 [==============================] - 2s 356ms/step - loss: 7.7089e-08 - acc: 1.0000\n",
      "Epoch 97/100\n",
      "5/5 [==============================] - 2s 353ms/step - loss: 7.0731e-08 - acc: 1.0000\n",
      "Epoch 98/100\n",
      "5/5 [==============================] - 2s 353ms/step - loss: 6.5962e-08 - acc: 1.0000\n",
      "Epoch 99/100\n",
      "5/5 [==============================] - 2s 353ms/step - loss: 6.4373e-08 - acc: 1.0000\n",
      "Epoch 100/100\n",
      "5/5 [==============================] - 2s 354ms/step - loss: 5.1657e-08 - acc: 1.0000\n"
     ]
    },
    {
     "data": {
      "text/plain": [
       "<keras.callbacks.History at 0x2af23f255e0>"
      ]
     },
     "execution_count": 19,
     "metadata": {},
     "output_type": "execute_result"
    }
   ],
   "source": [
    "model = Sequential()\n",
    "model.add(model_conv) # con, relu, pool\n",
    "model.add(Flatten())\n",
    "model.add(Dense(units = 128, activation='relu'))\n",
    "model.add(Dense(units = 64, activation='relu'))\n",
    "model.add(Dense(units = 32, activation='relu'))\n",
    "model.add(Dense(units = 2, activation='softmax'))\n",
    "# model.compile(loss = 'categorical_crossentropy',optimizer='adam',metrics=['acc'])\n",
    "#미세조정..\n",
    "model.compile(loss = 'categorical_crossentropy',\n",
    "              optimizer= RMSprop(learning_rate=1e-4), metrics=['acc'])\n",
    "model.fit(x_train,y_train,epochs=100)"
   ]
  },
  {
   "cell_type": "code",
   "execution_count": 20,
   "metadata": {
    "collapsed": true
   },
   "outputs": [
    {
     "data": {
      "image/png": "[encoded data removed]",
      "text/plain": [
       "<PIL.Image.Image image mode=RGB size=98x98 at 0x2AF5714A580>"
      ]
     },
     "execution_count": 20,
     "metadata": {},
     "output_type": "execute_result"
    }
   ],
   "source": [
    "testImg = image.load_img( 'wd/test/lion/google_0010.jpg', target_size=(98,98))\n",
    "testImg"
   ]
  },
  {
   "cell_type": "code",
   "execution_count": 21,
   "metadata": {},
   "outputs": [],
   "source": [
    "imgArr = image.img_to_array(testImg)"
   ]
  },
  {
   "cell_type": "code",
   "execution_count": 22,
   "metadata": {},
   "outputs": [
    {
     "data": {
      "text/plain": [
       "0"
      ]
     },
     "execution_count": 22,
     "metadata": {},
     "output_type": "execute_result"
    }
   ],
   "source": [
    "list(model.predict(preprocess_input(np.expand_dims(imgArr, axis=0))).argmax(axis=1))[0]"
   ]
  },
  {
   "cell_type": "code",
   "execution_count": 23,
   "metadata": {},
   "outputs": [
    {
     "name": "stdout",
     "output_type": "stream",
     "text": [
      "Found 50 images belonging to 2 classes.\n"
     ]
    }
   ],
   "source": [
    "trainGen = dataGen.flow_from_directory( 'wd/test', target_size=(98,98),batch_size=60)\n",
    "x_test , y_test = trainGen.next()"
   ]
  },
  {
   "cell_type": "code",
   "execution_count": 24,
   "metadata": {},
   "outputs": [
    {
     "name": "stdout",
     "output_type": "stream",
     "text": [
      "5/5 [==============================] - 2s 369ms/step - loss: 4.8478e-08 - acc: 1.0000\n"
     ]
    },
    {
     "data": {
      "text/plain": [
       "[4.8478437264520835e-08, 1.0]"
      ]
     },
     "execution_count": 24,
     "metadata": {},
     "output_type": "execute_result"
    }
   ],
   "source": [
    "model.evaluate(x_train,y_train)"
   ]
  },
  {
   "cell_type": "code",
   "execution_count": 25,
   "metadata": {},
   "outputs": [
    {
     "name": "stdout",
     "output_type": "stream",
     "text": [
      "2/2 [==============================] - 1s 228ms/step - loss: 0.3574 - acc: 0.9200\n"
     ]
    },
    {
     "data": {
      "text/plain": [
       "[0.35742127895355225, 0.9200000166893005]"
      ]
     },
     "execution_count": 25,
     "metadata": {},
     "output_type": "execute_result"
    }
   ],
   "source": [
    "model.evaluate(x_test,y_test)"
   ]
  },
  {
   "cell_type": "code",
   "execution_count": 32,
   "metadata": {},
   "outputs": [
    {
     "data": {
      "text/plain": [
       "<AxesSubplot:>"
      ]
     },
     "execution_count": 32,
     "metadata": {},
     "output_type": "execute_result"
    },
    {
     "data": {
      "image/png": "[encoded data removed]",
      "text/plain": [
       "<Figure size 720x576 with 2 Axes>"
      ]
     },
     "metadata": {
      "needs_background": "light"
     },
     "output_type": "display_data"
    }
   ],
   "source": [
    "plt.rcParams['figure.figsize']=(10,8)\n",
    "plt.tick_params(labelsize=30)\n",
    "sns.heatmap(confusion_matrix(y_test.argmax(axis=1), model.predict(x_test).argmax(axis=1)),\n",
    "            annot=True,\n",
    "            annot_kws={'size': 25},\n",
    "            cmap='Reds',\n",
    "            fmt = 'd', # 정수로 나오게\n",
    "            linewidths=0.5,\n",
    "            yticklabels=['lion','tiger'], # y축에 컬럼명 출력\n",
    "            xticklabels=['lion','tiger'])"
   ]
  },
  {
   "cell_type": "code",
   "execution_count": null,
   "metadata": {},
   "outputs": [],
   "source": []
  }
 ],
 "metadata": {
  "interpreter": {
   "hash": "ff827e81520a642dbfd9e1b824c8f27237972c1aa03759635e70e36cdabc5300"
  },
  "kernelspec": {
   "display_name": "Python 3",
   "language": "python",
   "name": "python3"
  },
  "language_info": {
   "codemirror_mode": {
    "name": "ipython",
    "version": 3
   },
   "file_extension": ".py",
   "mimetype": "text/x-python",
   "name": "python",
   "nbconvert_exporter": "python",
   "pygments_lexer": "ipython3",
   "version": "3.8.8"
  }
 },
 "nbformat": 4,
 "nbformat_minor": 2
}
