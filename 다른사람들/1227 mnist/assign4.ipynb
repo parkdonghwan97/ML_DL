{
 "cells": [
  {
   "cell_type": "markdown",
   "id": "447c188c",
   "metadata": {},
   "source": [
    "# Library Import"
   ]
  },
  {
   "cell_type": "code",
   "execution_count": 24,
   "id": "01bef392",
   "metadata": {
    "ExecuteTime": {
     "end_time": "2021-12-27T07:50:09.049502Z",
     "start_time": "2021-12-27T07:50:09.040577Z"
    }
   },
   "outputs": [],
   "source": [
    "import numpy as np\n",
    "import pandas as pd\n",
    "\n",
    "import tensorflow as tf\n",
    "from tensorflow.keras.optimizers import Adam\n",
    "\n",
    "from sklearn.neural_network import MLPClassifier\n",
    "\n",
    "from tensorflow.keras.layers import Dense, Flatten\n",
    "from tensorflow.keras import Sequential\n",
    "from tensorflow.keras.datasets.mnist import load_data\n",
    "from tensorflow.keras.utils import to_categorical\n",
    "\n",
    "import matplotlib.pyplot as plt\n",
    "\n",
    "from sklearn.model_selection import train_test_split\n",
    "from sklearn.metrics import accuracy_score\n",
    "from sklearn.preprocessing import MinMaxScaler"
   ]
  },
  {
   "cell_type": "code",
   "execution_count": null,
   "id": "9c9850d4",
   "metadata": {},
   "outputs": [],
   "source": []
  },
  {
   "cell_type": "markdown",
   "id": "5aca6686",
   "metadata": {},
   "source": [
    "# Quiz1 (cancer)\n",
    "\n",
    "```\n",
    "1. breast_cancer 데이터셋을 이용하여 딥러닝으로\n",
    "처리하시요(sklearn, 케라스버전)\n",
    "1) train, test 분리\n",
    "2) test 1번째 행 암 여부 예측\n",
    "3)train, test 정확도 구하기\n",
    "```"
   ]
  },
  {
   "cell_type": "markdown",
   "id": "28ee3709",
   "metadata": {},
   "source": [
    "## Data"
   ]
  },
  {
   "cell_type": "code",
   "execution_count": 1,
   "id": "4c7d9b6d",
   "metadata": {
    "ExecuteTime": {
     "end_time": "2021-12-27T07:29:15.990606Z",
     "start_time": "2021-12-27T07:29:15.183365Z"
    }
   },
   "outputs": [],
   "source": [
    "from sklearn.datasets import load_breast_cancer"
   ]
  },
  {
   "cell_type": "code",
   "execution_count": 3,
   "id": "0657301b",
   "metadata": {
    "ExecuteTime": {
     "end_time": "2021-12-27T07:29:56.301640Z",
     "start_time": "2021-12-27T07:29:56.273676Z"
    },
    "collapsed": true
   },
   "outputs": [
    {
     "data": {
      "text/plain": [
       "{'data': array([[1.799e+01, 1.038e+01, 1.228e+02, ..., 2.654e-01, 4.601e-01,\n",
       "         1.189e-01],\n",
       "        [2.057e+01, 1.777e+01, 1.329e+02, ..., 1.860e-01, 2.750e-01,\n",
       "         8.902e-02],\n",
       "        [1.969e+01, 2.125e+01, 1.300e+02, ..., 2.430e-01, 3.613e-01,\n",
       "         8.758e-02],\n",
       "        ...,\n",
       "        [1.660e+01, 2.808e+01, 1.083e+02, ..., 1.418e-01, 2.218e-01,\n",
       "         7.820e-02],\n",
       "        [2.060e+01, 2.933e+01, 1.401e+02, ..., 2.650e-01, 4.087e-01,\n",
       "         1.240e-01],\n",
       "        [7.760e+00, 2.454e+01, 4.792e+01, ..., 0.000e+00, 2.871e-01,\n",
       "         7.039e-02]]),\n",
       " 'target': array([0, 0, 0, 0, 0, 0, 0, 0, 0, 0, 0, 0, 0, 0, 0, 0, 0, 0, 0, 1, 1, 1,\n",
       "        0, 0, 0, 0, 0, 0, 0, 0, 0, 0, 0, 0, 0, 0, 0, 1, 0, 0, 0, 0, 0, 0,\n",
       "        0, 0, 1, 0, 1, 1, 1, 1, 1, 0, 0, 1, 0, 0, 1, 1, 1, 1, 0, 1, 0, 0,\n",
       "        1, 1, 1, 1, 0, 1, 0, 0, 1, 0, 1, 0, 0, 1, 1, 1, 0, 0, 1, 0, 0, 0,\n",
       "        1, 1, 1, 0, 1, 1, 0, 0, 1, 1, 1, 0, 0, 1, 1, 1, 1, 0, 1, 1, 0, 1,\n",
       "        1, 1, 1, 1, 1, 1, 1, 0, 0, 0, 1, 0, 0, 1, 1, 1, 0, 0, 1, 0, 1, 0,\n",
       "        0, 1, 0, 0, 1, 1, 0, 1, 1, 0, 1, 1, 1, 1, 0, 1, 1, 1, 1, 1, 1, 1,\n",
       "        1, 1, 0, 1, 1, 1, 1, 0, 0, 1, 0, 1, 1, 0, 0, 1, 1, 0, 0, 1, 1, 1,\n",
       "        1, 0, 1, 1, 0, 0, 0, 1, 0, 1, 0, 1, 1, 1, 0, 1, 1, 0, 0, 1, 0, 0,\n",
       "        0, 0, 1, 0, 0, 0, 1, 0, 1, 0, 1, 1, 0, 1, 0, 0, 0, 0, 1, 1, 0, 0,\n",
       "        1, 1, 1, 0, 1, 1, 1, 1, 1, 0, 0, 1, 1, 0, 1, 1, 0, 0, 1, 0, 1, 1,\n",
       "        1, 1, 0, 1, 1, 1, 1, 1, 0, 1, 0, 0, 0, 0, 0, 0, 0, 0, 0, 0, 0, 0,\n",
       "        0, 0, 1, 1, 1, 1, 1, 1, 0, 1, 0, 1, 1, 0, 1, 1, 0, 1, 0, 0, 1, 1,\n",
       "        1, 1, 1, 1, 1, 1, 1, 1, 1, 1, 1, 0, 1, 1, 0, 1, 0, 1, 1, 1, 1, 1,\n",
       "        1, 1, 1, 1, 1, 1, 1, 1, 1, 0, 1, 1, 1, 0, 1, 0, 1, 1, 1, 1, 0, 0,\n",
       "        0, 1, 1, 1, 1, 0, 1, 0, 1, 0, 1, 1, 1, 0, 1, 1, 1, 1, 1, 1, 1, 0,\n",
       "        0, 0, 1, 1, 1, 1, 1, 1, 1, 1, 1, 1, 1, 0, 0, 1, 0, 0, 0, 1, 0, 0,\n",
       "        1, 1, 1, 1, 1, 0, 1, 1, 1, 1, 1, 0, 1, 1, 1, 0, 1, 1, 0, 0, 1, 1,\n",
       "        1, 1, 1, 1, 0, 1, 1, 1, 1, 1, 1, 1, 0, 1, 1, 1, 1, 1, 0, 1, 1, 0,\n",
       "        1, 1, 1, 1, 1, 1, 1, 1, 1, 1, 1, 1, 0, 1, 0, 0, 1, 0, 1, 1, 1, 1,\n",
       "        1, 0, 1, 1, 0, 1, 0, 1, 1, 0, 1, 0, 1, 1, 1, 1, 1, 1, 1, 1, 0, 0,\n",
       "        1, 1, 1, 1, 1, 1, 0, 1, 1, 1, 1, 1, 1, 1, 1, 1, 1, 0, 1, 1, 1, 1,\n",
       "        1, 1, 1, 0, 1, 0, 1, 1, 0, 1, 1, 1, 1, 1, 0, 0, 1, 0, 1, 0, 1, 1,\n",
       "        1, 1, 1, 0, 1, 1, 0, 1, 0, 1, 0, 0, 1, 1, 1, 0, 1, 1, 1, 1, 1, 1,\n",
       "        1, 1, 1, 1, 1, 0, 1, 0, 0, 1, 1, 1, 1, 1, 1, 1, 1, 1, 1, 1, 1, 1,\n",
       "        1, 1, 1, 1, 1, 1, 1, 1, 1, 1, 1, 1, 0, 0, 0, 0, 0, 0, 1]),\n",
       " 'frame': None,\n",
       " 'target_names': array(['malignant', 'benign'], dtype='<U9'),\n",
       " 'DESCR': '.. _breast_cancer_dataset:\\n\\nBreast cancer wisconsin (diagnostic) dataset\\n--------------------------------------------\\n\\n**Data Set Characteristics:**\\n\\n    :Number of Instances: 569\\n\\n    :Number of Attributes: 30 numeric, predictive attributes and the class\\n\\n    :Attribute Information:\\n        - radius (mean of distances from center to points on the perimeter)\\n        - texture (standard deviation of gray-scale values)\\n        - perimeter\\n        - area\\n        - smoothness (local variation in radius lengths)\\n        - compactness (perimeter^2 / area - 1.0)\\n        - concavity (severity of concave portions of the contour)\\n        - concave points (number of concave portions of the contour)\\n        - symmetry\\n        - fractal dimension (\"coastline approximation\" - 1)\\n\\n        The mean, standard error, and \"worst\" or largest (mean of the three\\n        worst/largest values) of these features were computed for each image,\\n        resulting in 30 features.  For instance, field 0 is Mean Radius, field\\n        10 is Radius SE, field 20 is Worst Radius.\\n\\n        - class:\\n                - WDBC-Malignant\\n                - WDBC-Benign\\n\\n    :Summary Statistics:\\n\\n    ===================================== ====== ======\\n                                           Min    Max\\n    ===================================== ====== ======\\n    radius (mean):                        6.981  28.11\\n    texture (mean):                       9.71   39.28\\n    perimeter (mean):                     43.79  188.5\\n    area (mean):                          143.5  2501.0\\n    smoothness (mean):                    0.053  0.163\\n    compactness (mean):                   0.019  0.345\\n    concavity (mean):                     0.0    0.427\\n    concave points (mean):                0.0    0.201\\n    symmetry (mean):                      0.106  0.304\\n    fractal dimension (mean):             0.05   0.097\\n    radius (standard error):              0.112  2.873\\n    texture (standard error):             0.36   4.885\\n    perimeter (standard error):           0.757  21.98\\n    area (standard error):                6.802  542.2\\n    smoothness (standard error):          0.002  0.031\\n    compactness (standard error):         0.002  0.135\\n    concavity (standard error):           0.0    0.396\\n    concave points (standard error):      0.0    0.053\\n    symmetry (standard error):            0.008  0.079\\n    fractal dimension (standard error):   0.001  0.03\\n    radius (worst):                       7.93   36.04\\n    texture (worst):                      12.02  49.54\\n    perimeter (worst):                    50.41  251.2\\n    area (worst):                         185.2  4254.0\\n    smoothness (worst):                   0.071  0.223\\n    compactness (worst):                  0.027  1.058\\n    concavity (worst):                    0.0    1.252\\n    concave points (worst):               0.0    0.291\\n    symmetry (worst):                     0.156  0.664\\n    fractal dimension (worst):            0.055  0.208\\n    ===================================== ====== ======\\n\\n    :Missing Attribute Values: None\\n\\n    :Class Distribution: 212 - Malignant, 357 - Benign\\n\\n    :Creator:  Dr. William H. Wolberg, W. Nick Street, Olvi L. Mangasarian\\n\\n    :Donor: Nick Street\\n\\n    :Date: November, 1995\\n\\nThis is a copy of UCI ML Breast Cancer Wisconsin (Diagnostic) datasets.\\nhttps://goo.gl/U2Uwz2\\n\\nFeatures are computed from a digitized image of a fine needle\\naspirate (FNA) of a breast mass.  They describe\\ncharacteristics of the cell nuclei present in the image.\\n\\nSeparating plane described above was obtained using\\nMultisurface Method-Tree (MSM-T) [K. P. Bennett, \"Decision Tree\\nConstruction Via Linear Programming.\" Proceedings of the 4th\\nMidwest Artificial Intelligence and Cognitive Science Society,\\npp. 97-101, 1992], a classification method which uses linear\\nprogramming to construct a decision tree.  Relevant features\\nwere selected using an exhaustive search in the space of 1-4\\nfeatures and 1-3 separating planes.\\n\\nThe actual linear program used to obtain the separating plane\\nin the 3-dimensional space is that described in:\\n[K. P. Bennett and O. L. Mangasarian: \"Robust Linear\\nProgramming Discrimination of Two Linearly Inseparable Sets\",\\nOptimization Methods and Software 1, 1992, 23-34].\\n\\nThis database is also available through the UW CS ftp server:\\n\\nftp ftp.cs.wisc.edu\\ncd math-prog/cpo-dataset/machine-learn/WDBC/\\n\\n.. topic:: References\\n\\n   - W.N. Street, W.H. Wolberg and O.L. Mangasarian. Nuclear feature extraction \\n     for breast tumor diagnosis. IS&T/SPIE 1993 International Symposium on \\n     Electronic Imaging: Science and Technology, volume 1905, pages 861-870,\\n     San Jose, CA, 1993.\\n   - O.L. Mangasarian, W.N. Street and W.H. Wolberg. Breast cancer diagnosis and \\n     prognosis via linear programming. Operations Research, 43(4), pages 570-577, \\n     July-August 1995.\\n   - W.H. Wolberg, W.N. Street, and O.L. Mangasarian. Machine learning techniques\\n     to diagnose breast cancer from fine-needle aspirates. Cancer Letters 77 (1994) \\n     163-171.',\n",
       " 'feature_names': array(['mean radius', 'mean texture', 'mean perimeter', 'mean area',\n",
       "        'mean smoothness', 'mean compactness', 'mean concavity',\n",
       "        'mean concave points', 'mean symmetry', 'mean fractal dimension',\n",
       "        'radius error', 'texture error', 'perimeter error', 'area error',\n",
       "        'smoothness error', 'compactness error', 'concavity error',\n",
       "        'concave points error', 'symmetry error',\n",
       "        'fractal dimension error', 'worst radius', 'worst texture',\n",
       "        'worst perimeter', 'worst area', 'worst smoothness',\n",
       "        'worst compactness', 'worst concavity', 'worst concave points',\n",
       "        'worst symmetry', 'worst fractal dimension'], dtype='<U23'),\n",
       " 'filename': 'C:\\\\Users\\\\TFG5076XG\\\\anaconda3\\\\lib\\\\site-packages\\\\sklearn\\\\datasets\\\\data\\\\breast_cancer.csv'}"
      ]
     },
     "execution_count": 3,
     "metadata": {},
     "output_type": "execute_result"
    }
   ],
   "source": [
    "cancer = load_breast_cancer()\n",
    "cancer"
   ]
  },
  {
   "cell_type": "code",
   "execution_count": 13,
   "id": "63873f35",
   "metadata": {
    "ExecuteTime": {
     "end_time": "2021-12-27T07:41:45.524799Z",
     "start_time": "2021-12-27T07:41:45.507844Z"
    }
   },
   "outputs": [
    {
     "data": {
      "text/plain": [
       "dict_keys(['data', 'target', 'frame', 'target_names', 'DESCR', 'feature_names', 'filename'])"
      ]
     },
     "execution_count": 13,
     "metadata": {},
     "output_type": "execute_result"
    }
   ],
   "source": [
    "cancer.keys()"
   ]
  },
  {
   "cell_type": "markdown",
   "id": "7befc891",
   "metadata": {
    "ExecuteTime": {
     "end_time": "2021-12-27T07:41:15.969044Z",
     "start_time": "2021-12-27T07:41:15.960068Z"
    }
   },
   "source": [
    "### Feature만"
   ]
  },
  {
   "cell_type": "code",
   "execution_count": 11,
   "id": "8cac7e77",
   "metadata": {
    "ExecuteTime": {
     "end_time": "2021-12-27T07:40:46.365388Z",
     "start_time": "2021-12-27T07:40:46.337507Z"
    }
   },
   "outputs": [
    {
     "data": {
      "text/html": [
       "<div>\n",
       "<style scoped>\n",
       "    .dataframe tbody tr th:only-of-type {\n",
       "        vertical-align: middle;\n",
       "    }\n",
       "\n",
       "    .dataframe tbody tr th {\n",
       "        vertical-align: top;\n",
       "    }\n",
       "\n",
       "    .dataframe thead th {\n",
       "        text-align: right;\n",
       "    }\n",
       "</style>\n",
       "<table border=\"1\" class=\"dataframe\">\n",
       "  <thead>\n",
       "    <tr style=\"text-align: right;\">\n",
       "      <th></th>\n",
       "      <th>mean radius</th>\n",
       "      <th>mean texture</th>\n",
       "      <th>mean perimeter</th>\n",
       "      <th>mean area</th>\n",
       "      <th>mean smoothness</th>\n",
       "      <th>mean compactness</th>\n",
       "      <th>mean concavity</th>\n",
       "      <th>mean concave points</th>\n",
       "      <th>mean symmetry</th>\n",
       "      <th>mean fractal dimension</th>\n",
       "      <th>...</th>\n",
       "      <th>worst radius</th>\n",
       "      <th>worst texture</th>\n",
       "      <th>worst perimeter</th>\n",
       "      <th>worst area</th>\n",
       "      <th>worst smoothness</th>\n",
       "      <th>worst compactness</th>\n",
       "      <th>worst concavity</th>\n",
       "      <th>worst concave points</th>\n",
       "      <th>worst symmetry</th>\n",
       "      <th>worst fractal dimension</th>\n",
       "    </tr>\n",
       "  </thead>\n",
       "  <tbody>\n",
       "    <tr>\n",
       "      <th>0</th>\n",
       "      <td>17.99</td>\n",
       "      <td>10.38</td>\n",
       "      <td>122.80</td>\n",
       "      <td>1001.0</td>\n",
       "      <td>0.11840</td>\n",
       "      <td>0.27760</td>\n",
       "      <td>0.30010</td>\n",
       "      <td>0.14710</td>\n",
       "      <td>0.2419</td>\n",
       "      <td>0.07871</td>\n",
       "      <td>...</td>\n",
       "      <td>25.380</td>\n",
       "      <td>17.33</td>\n",
       "      <td>184.60</td>\n",
       "      <td>2019.0</td>\n",
       "      <td>0.16220</td>\n",
       "      <td>0.66560</td>\n",
       "      <td>0.7119</td>\n",
       "      <td>0.2654</td>\n",
       "      <td>0.4601</td>\n",
       "      <td>0.11890</td>\n",
       "    </tr>\n",
       "    <tr>\n",
       "      <th>1</th>\n",
       "      <td>20.57</td>\n",
       "      <td>17.77</td>\n",
       "      <td>132.90</td>\n",
       "      <td>1326.0</td>\n",
       "      <td>0.08474</td>\n",
       "      <td>0.07864</td>\n",
       "      <td>0.08690</td>\n",
       "      <td>0.07017</td>\n",
       "      <td>0.1812</td>\n",
       "      <td>0.05667</td>\n",
       "      <td>...</td>\n",
       "      <td>24.990</td>\n",
       "      <td>23.41</td>\n",
       "      <td>158.80</td>\n",
       "      <td>1956.0</td>\n",
       "      <td>0.12380</td>\n",
       "      <td>0.18660</td>\n",
       "      <td>0.2416</td>\n",
       "      <td>0.1860</td>\n",
       "      <td>0.2750</td>\n",
       "      <td>0.08902</td>\n",
       "    </tr>\n",
       "    <tr>\n",
       "      <th>2</th>\n",
       "      <td>19.69</td>\n",
       "      <td>21.25</td>\n",
       "      <td>130.00</td>\n",
       "      <td>1203.0</td>\n",
       "      <td>0.10960</td>\n",
       "      <td>0.15990</td>\n",
       "      <td>0.19740</td>\n",
       "      <td>0.12790</td>\n",
       "      <td>0.2069</td>\n",
       "      <td>0.05999</td>\n",
       "      <td>...</td>\n",
       "      <td>23.570</td>\n",
       "      <td>25.53</td>\n",
       "      <td>152.50</td>\n",
       "      <td>1709.0</td>\n",
       "      <td>0.14440</td>\n",
       "      <td>0.42450</td>\n",
       "      <td>0.4504</td>\n",
       "      <td>0.2430</td>\n",
       "      <td>0.3613</td>\n",
       "      <td>0.08758</td>\n",
       "    </tr>\n",
       "    <tr>\n",
       "      <th>3</th>\n",
       "      <td>11.42</td>\n",
       "      <td>20.38</td>\n",
       "      <td>77.58</td>\n",
       "      <td>386.1</td>\n",
       "      <td>0.14250</td>\n",
       "      <td>0.28390</td>\n",
       "      <td>0.24140</td>\n",
       "      <td>0.10520</td>\n",
       "      <td>0.2597</td>\n",
       "      <td>0.09744</td>\n",
       "      <td>...</td>\n",
       "      <td>14.910</td>\n",
       "      <td>26.50</td>\n",
       "      <td>98.87</td>\n",
       "      <td>567.7</td>\n",
       "      <td>0.20980</td>\n",
       "      <td>0.86630</td>\n",
       "      <td>0.6869</td>\n",
       "      <td>0.2575</td>\n",
       "      <td>0.6638</td>\n",
       "      <td>0.17300</td>\n",
       "    </tr>\n",
       "    <tr>\n",
       "      <th>4</th>\n",
       "      <td>20.29</td>\n",
       "      <td>14.34</td>\n",
       "      <td>135.10</td>\n",
       "      <td>1297.0</td>\n",
       "      <td>0.10030</td>\n",
       "      <td>0.13280</td>\n",
       "      <td>0.19800</td>\n",
       "      <td>0.10430</td>\n",
       "      <td>0.1809</td>\n",
       "      <td>0.05883</td>\n",
       "      <td>...</td>\n",
       "      <td>22.540</td>\n",
       "      <td>16.67</td>\n",
       "      <td>152.20</td>\n",
       "      <td>1575.0</td>\n",
       "      <td>0.13740</td>\n",
       "      <td>0.20500</td>\n",
       "      <td>0.4000</td>\n",
       "      <td>0.1625</td>\n",
       "      <td>0.2364</td>\n",
       "      <td>0.07678</td>\n",
       "    </tr>\n",
       "    <tr>\n",
       "      <th>...</th>\n",
       "      <td>...</td>\n",
       "      <td>...</td>\n",
       "      <td>...</td>\n",
       "      <td>...</td>\n",
       "      <td>...</td>\n",
       "      <td>...</td>\n",
       "      <td>...</td>\n",
       "      <td>...</td>\n",
       "      <td>...</td>\n",
       "      <td>...</td>\n",
       "      <td>...</td>\n",
       "      <td>...</td>\n",
       "      <td>...</td>\n",
       "      <td>...</td>\n",
       "      <td>...</td>\n",
       "      <td>...</td>\n",
       "      <td>...</td>\n",
       "      <td>...</td>\n",
       "      <td>...</td>\n",
       "      <td>...</td>\n",
       "      <td>...</td>\n",
       "    </tr>\n",
       "    <tr>\n",
       "      <th>564</th>\n",
       "      <td>21.56</td>\n",
       "      <td>22.39</td>\n",
       "      <td>142.00</td>\n",
       "      <td>1479.0</td>\n",
       "      <td>0.11100</td>\n",
       "      <td>0.11590</td>\n",
       "      <td>0.24390</td>\n",
       "      <td>0.13890</td>\n",
       "      <td>0.1726</td>\n",
       "      <td>0.05623</td>\n",
       "      <td>...</td>\n",
       "      <td>25.450</td>\n",
       "      <td>26.40</td>\n",
       "      <td>166.10</td>\n",
       "      <td>2027.0</td>\n",
       "      <td>0.14100</td>\n",
       "      <td>0.21130</td>\n",
       "      <td>0.4107</td>\n",
       "      <td>0.2216</td>\n",
       "      <td>0.2060</td>\n",
       "      <td>0.07115</td>\n",
       "    </tr>\n",
       "    <tr>\n",
       "      <th>565</th>\n",
       "      <td>20.13</td>\n",
       "      <td>28.25</td>\n",
       "      <td>131.20</td>\n",
       "      <td>1261.0</td>\n",
       "      <td>0.09780</td>\n",
       "      <td>0.10340</td>\n",
       "      <td>0.14400</td>\n",
       "      <td>0.09791</td>\n",
       "      <td>0.1752</td>\n",
       "      <td>0.05533</td>\n",
       "      <td>...</td>\n",
       "      <td>23.690</td>\n",
       "      <td>38.25</td>\n",
       "      <td>155.00</td>\n",
       "      <td>1731.0</td>\n",
       "      <td>0.11660</td>\n",
       "      <td>0.19220</td>\n",
       "      <td>0.3215</td>\n",
       "      <td>0.1628</td>\n",
       "      <td>0.2572</td>\n",
       "      <td>0.06637</td>\n",
       "    </tr>\n",
       "    <tr>\n",
       "      <th>566</th>\n",
       "      <td>16.60</td>\n",
       "      <td>28.08</td>\n",
       "      <td>108.30</td>\n",
       "      <td>858.1</td>\n",
       "      <td>0.08455</td>\n",
       "      <td>0.10230</td>\n",
       "      <td>0.09251</td>\n",
       "      <td>0.05302</td>\n",
       "      <td>0.1590</td>\n",
       "      <td>0.05648</td>\n",
       "      <td>...</td>\n",
       "      <td>18.980</td>\n",
       "      <td>34.12</td>\n",
       "      <td>126.70</td>\n",
       "      <td>1124.0</td>\n",
       "      <td>0.11390</td>\n",
       "      <td>0.30940</td>\n",
       "      <td>0.3403</td>\n",
       "      <td>0.1418</td>\n",
       "      <td>0.2218</td>\n",
       "      <td>0.07820</td>\n",
       "    </tr>\n",
       "    <tr>\n",
       "      <th>567</th>\n",
       "      <td>20.60</td>\n",
       "      <td>29.33</td>\n",
       "      <td>140.10</td>\n",
       "      <td>1265.0</td>\n",
       "      <td>0.11780</td>\n",
       "      <td>0.27700</td>\n",
       "      <td>0.35140</td>\n",
       "      <td>0.15200</td>\n",
       "      <td>0.2397</td>\n",
       "      <td>0.07016</td>\n",
       "      <td>...</td>\n",
       "      <td>25.740</td>\n",
       "      <td>39.42</td>\n",
       "      <td>184.60</td>\n",
       "      <td>1821.0</td>\n",
       "      <td>0.16500</td>\n",
       "      <td>0.86810</td>\n",
       "      <td>0.9387</td>\n",
       "      <td>0.2650</td>\n",
       "      <td>0.4087</td>\n",
       "      <td>0.12400</td>\n",
       "    </tr>\n",
       "    <tr>\n",
       "      <th>568</th>\n",
       "      <td>7.76</td>\n",
       "      <td>24.54</td>\n",
       "      <td>47.92</td>\n",
       "      <td>181.0</td>\n",
       "      <td>0.05263</td>\n",
       "      <td>0.04362</td>\n",
       "      <td>0.00000</td>\n",
       "      <td>0.00000</td>\n",
       "      <td>0.1587</td>\n",
       "      <td>0.05884</td>\n",
       "      <td>...</td>\n",
       "      <td>9.456</td>\n",
       "      <td>30.37</td>\n",
       "      <td>59.16</td>\n",
       "      <td>268.6</td>\n",
       "      <td>0.08996</td>\n",
       "      <td>0.06444</td>\n",
       "      <td>0.0000</td>\n",
       "      <td>0.0000</td>\n",
       "      <td>0.2871</td>\n",
       "      <td>0.07039</td>\n",
       "    </tr>\n",
       "  </tbody>\n",
       "</table>\n",
       "<p>569 rows × 30 columns</p>\n",
       "</div>"
      ],
      "text/plain": [
       "     mean radius  mean texture  mean perimeter  mean area  mean smoothness  \\\n",
       "0          17.99         10.38          122.80     1001.0          0.11840   \n",
       "1          20.57         17.77          132.90     1326.0          0.08474   \n",
       "2          19.69         21.25          130.00     1203.0          0.10960   \n",
       "3          11.42         20.38           77.58      386.1          0.14250   \n",
       "4          20.29         14.34          135.10     1297.0          0.10030   \n",
       "..           ...           ...             ...        ...              ...   \n",
       "564        21.56         22.39          142.00     1479.0          0.11100   \n",
       "565        20.13         28.25          131.20     1261.0          0.09780   \n",
       "566        16.60         28.08          108.30      858.1          0.08455   \n",
       "567        20.60         29.33          140.10     1265.0          0.11780   \n",
       "568         7.76         24.54           47.92      181.0          0.05263   \n",
       "\n",
       "     mean compactness  mean concavity  mean concave points  mean symmetry  \\\n",
       "0             0.27760         0.30010              0.14710         0.2419   \n",
       "1             0.07864         0.08690              0.07017         0.1812   \n",
       "2             0.15990         0.19740              0.12790         0.2069   \n",
       "3             0.28390         0.24140              0.10520         0.2597   \n",
       "4             0.13280         0.19800              0.10430         0.1809   \n",
       "..                ...             ...                  ...            ...   \n",
       "564           0.11590         0.24390              0.13890         0.1726   \n",
       "565           0.10340         0.14400              0.09791         0.1752   \n",
       "566           0.10230         0.09251              0.05302         0.1590   \n",
       "567           0.27700         0.35140              0.15200         0.2397   \n",
       "568           0.04362         0.00000              0.00000         0.1587   \n",
       "\n",
       "     mean fractal dimension  ...  worst radius  worst texture  \\\n",
       "0                   0.07871  ...        25.380          17.33   \n",
       "1                   0.05667  ...        24.990          23.41   \n",
       "2                   0.05999  ...        23.570          25.53   \n",
       "3                   0.09744  ...        14.910          26.50   \n",
       "4                   0.05883  ...        22.540          16.67   \n",
       "..                      ...  ...           ...            ...   \n",
       "564                 0.05623  ...        25.450          26.40   \n",
       "565                 0.05533  ...        23.690          38.25   \n",
       "566                 0.05648  ...        18.980          34.12   \n",
       "567                 0.07016  ...        25.740          39.42   \n",
       "568                 0.05884  ...         9.456          30.37   \n",
       "\n",
       "     worst perimeter  worst area  worst smoothness  worst compactness  \\\n",
       "0             184.60      2019.0           0.16220            0.66560   \n",
       "1             158.80      1956.0           0.12380            0.18660   \n",
       "2             152.50      1709.0           0.14440            0.42450   \n",
       "3              98.87       567.7           0.20980            0.86630   \n",
       "4             152.20      1575.0           0.13740            0.20500   \n",
       "..               ...         ...               ...                ...   \n",
       "564           166.10      2027.0           0.14100            0.21130   \n",
       "565           155.00      1731.0           0.11660            0.19220   \n",
       "566           126.70      1124.0           0.11390            0.30940   \n",
       "567           184.60      1821.0           0.16500            0.86810   \n",
       "568            59.16       268.6           0.08996            0.06444   \n",
       "\n",
       "     worst concavity  worst concave points  worst symmetry  \\\n",
       "0             0.7119                0.2654          0.4601   \n",
       "1             0.2416                0.1860          0.2750   \n",
       "2             0.4504                0.2430          0.3613   \n",
       "3             0.6869                0.2575          0.6638   \n",
       "4             0.4000                0.1625          0.2364   \n",
       "..               ...                   ...             ...   \n",
       "564           0.4107                0.2216          0.2060   \n",
       "565           0.3215                0.1628          0.2572   \n",
       "566           0.3403                0.1418          0.2218   \n",
       "567           0.9387                0.2650          0.4087   \n",
       "568           0.0000                0.0000          0.2871   \n",
       "\n",
       "     worst fractal dimension  \n",
       "0                    0.11890  \n",
       "1                    0.08902  \n",
       "2                    0.08758  \n",
       "3                    0.17300  \n",
       "4                    0.07678  \n",
       "..                       ...  \n",
       "564                  0.07115  \n",
       "565                  0.06637  \n",
       "566                  0.07820  \n",
       "567                  0.12400  \n",
       "568                  0.07039  \n",
       "\n",
       "[569 rows x 30 columns]"
      ]
     },
     "execution_count": 11,
     "metadata": {},
     "output_type": "execute_result"
    }
   ],
   "source": [
    "cancer_F = pd.DataFrame(cancer['data'], columns=cancer['feature_names'])\n",
    "cancer_F"
   ]
  },
  {
   "cell_type": "markdown",
   "id": "6e5dba5a",
   "metadata": {},
   "source": [
    "### label만"
   ]
  },
  {
   "cell_type": "code",
   "execution_count": 19,
   "id": "18bc55ca",
   "metadata": {
    "ExecuteTime": {
     "end_time": "2021-12-27T07:43:03.116437Z",
     "start_time": "2021-12-27T07:43:03.096534Z"
    }
   },
   "outputs": [
    {
     "data": {
      "text/html": [
       "<div>\n",
       "<style scoped>\n",
       "    .dataframe tbody tr th:only-of-type {\n",
       "        vertical-align: middle;\n",
       "    }\n",
       "\n",
       "    .dataframe tbody tr th {\n",
       "        vertical-align: top;\n",
       "    }\n",
       "\n",
       "    .dataframe thead th {\n",
       "        text-align: right;\n",
       "    }\n",
       "</style>\n",
       "<table border=\"1\" class=\"dataframe\">\n",
       "  <thead>\n",
       "    <tr style=\"text-align: right;\">\n",
       "      <th></th>\n",
       "      <th>y</th>\n",
       "    </tr>\n",
       "  </thead>\n",
       "  <tbody>\n",
       "    <tr>\n",
       "      <th>0</th>\n",
       "      <td>0</td>\n",
       "    </tr>\n",
       "    <tr>\n",
       "      <th>1</th>\n",
       "      <td>0</td>\n",
       "    </tr>\n",
       "    <tr>\n",
       "      <th>2</th>\n",
       "      <td>0</td>\n",
       "    </tr>\n",
       "    <tr>\n",
       "      <th>3</th>\n",
       "      <td>0</td>\n",
       "    </tr>\n",
       "    <tr>\n",
       "      <th>4</th>\n",
       "      <td>0</td>\n",
       "    </tr>\n",
       "    <tr>\n",
       "      <th>...</th>\n",
       "      <td>...</td>\n",
       "    </tr>\n",
       "    <tr>\n",
       "      <th>564</th>\n",
       "      <td>0</td>\n",
       "    </tr>\n",
       "    <tr>\n",
       "      <th>565</th>\n",
       "      <td>0</td>\n",
       "    </tr>\n",
       "    <tr>\n",
       "      <th>566</th>\n",
       "      <td>0</td>\n",
       "    </tr>\n",
       "    <tr>\n",
       "      <th>567</th>\n",
       "      <td>0</td>\n",
       "    </tr>\n",
       "    <tr>\n",
       "      <th>568</th>\n",
       "      <td>1</td>\n",
       "    </tr>\n",
       "  </tbody>\n",
       "</table>\n",
       "<p>569 rows × 1 columns</p>\n",
       "</div>"
      ],
      "text/plain": [
       "     y\n",
       "0    0\n",
       "1    0\n",
       "2    0\n",
       "3    0\n",
       "4    0\n",
       "..  ..\n",
       "564  0\n",
       "565  0\n",
       "566  0\n",
       "567  0\n",
       "568  1\n",
       "\n",
       "[569 rows x 1 columns]"
      ]
     },
     "execution_count": 19,
     "metadata": {},
     "output_type": "execute_result"
    }
   ],
   "source": [
    "cancer_y = pd.DataFrame(cancer['target'], columns=['y'])\n",
    "cancer_y"
   ]
  },
  {
   "cell_type": "markdown",
   "id": "bd6a4ed2",
   "metadata": {},
   "source": [
    "### Scaling"
   ]
  },
  {
   "cell_type": "code",
   "execution_count": 33,
   "id": "adcc1396",
   "metadata": {
    "ExecuteTime": {
     "end_time": "2021-12-27T07:51:28.688014Z",
     "start_time": "2021-12-27T07:51:28.678037Z"
    }
   },
   "outputs": [
    {
     "data": {
      "text/plain": [
       "array([[0.52103744, 0.0226581 , 0.54598853, ..., 0.91202749, 0.59846245,\n",
       "        0.41886396],\n",
       "       [0.64314449, 0.27257355, 0.61578329, ..., 0.63917526, 0.23358959,\n",
       "        0.22287813],\n",
       "       [0.60149557, 0.3902604 , 0.59574321, ..., 0.83505155, 0.40370589,\n",
       "        0.21343303],\n",
       "       ...,\n",
       "       [0.45525108, 0.62123774, 0.44578813, ..., 0.48728522, 0.12872068,\n",
       "        0.1519087 ],\n",
       "       [0.64456434, 0.66351031, 0.66553797, ..., 0.91065292, 0.49714173,\n",
       "        0.45231536],\n",
       "       [0.03686876, 0.50152181, 0.02853984, ..., 0.        , 0.25744136,\n",
       "        0.10068215]])"
      ]
     },
     "execution_count": 33,
     "metadata": {},
     "output_type": "execute_result"
    }
   ],
   "source": [
    "scaleF = MinMaxScaler()\n",
    "cancer_F_N = scaleF.fit_transform(cancer_F)\n",
    "cancer_F_N"
   ]
  },
  {
   "cell_type": "markdown",
   "id": "f6c0d073",
   "metadata": {},
   "source": [
    "#### DataFrame으로 변경"
   ]
  },
  {
   "cell_type": "code",
   "execution_count": 37,
   "id": "414d229a",
   "metadata": {
    "ExecuteTime": {
     "end_time": "2021-12-27T07:53:04.312235Z",
     "start_time": "2021-12-27T07:53:04.281316Z"
    }
   },
   "outputs": [
    {
     "data": {
      "text/html": [
       "<div>\n",
       "<style scoped>\n",
       "    .dataframe tbody tr th:only-of-type {\n",
       "        vertical-align: middle;\n",
       "    }\n",
       "\n",
       "    .dataframe tbody tr th {\n",
       "        vertical-align: top;\n",
       "    }\n",
       "\n",
       "    .dataframe thead th {\n",
       "        text-align: right;\n",
       "    }\n",
       "</style>\n",
       "<table border=\"1\" class=\"dataframe\">\n",
       "  <thead>\n",
       "    <tr style=\"text-align: right;\">\n",
       "      <th></th>\n",
       "      <th>mean radius</th>\n",
       "      <th>mean texture</th>\n",
       "      <th>mean perimeter</th>\n",
       "      <th>mean area</th>\n",
       "      <th>mean smoothness</th>\n",
       "      <th>mean compactness</th>\n",
       "      <th>mean concavity</th>\n",
       "      <th>mean concave points</th>\n",
       "      <th>mean symmetry</th>\n",
       "      <th>mean fractal dimension</th>\n",
       "      <th>...</th>\n",
       "      <th>worst radius</th>\n",
       "      <th>worst texture</th>\n",
       "      <th>worst perimeter</th>\n",
       "      <th>worst area</th>\n",
       "      <th>worst smoothness</th>\n",
       "      <th>worst compactness</th>\n",
       "      <th>worst concavity</th>\n",
       "      <th>worst concave points</th>\n",
       "      <th>worst symmetry</th>\n",
       "      <th>worst fractal dimension</th>\n",
       "    </tr>\n",
       "  </thead>\n",
       "  <tbody>\n",
       "    <tr>\n",
       "      <th>0</th>\n",
       "      <td>0.521037</td>\n",
       "      <td>0.022658</td>\n",
       "      <td>0.545989</td>\n",
       "      <td>0.363733</td>\n",
       "      <td>0.593753</td>\n",
       "      <td>0.792037</td>\n",
       "      <td>0.703140</td>\n",
       "      <td>0.731113</td>\n",
       "      <td>0.686364</td>\n",
       "      <td>0.605518</td>\n",
       "      <td>...</td>\n",
       "      <td>0.620776</td>\n",
       "      <td>0.141525</td>\n",
       "      <td>0.668310</td>\n",
       "      <td>0.450698</td>\n",
       "      <td>0.601136</td>\n",
       "      <td>0.619292</td>\n",
       "      <td>0.568610</td>\n",
       "      <td>0.912027</td>\n",
       "      <td>0.598462</td>\n",
       "      <td>0.418864</td>\n",
       "    </tr>\n",
       "    <tr>\n",
       "      <th>1</th>\n",
       "      <td>0.643144</td>\n",
       "      <td>0.272574</td>\n",
       "      <td>0.615783</td>\n",
       "      <td>0.501591</td>\n",
       "      <td>0.289880</td>\n",
       "      <td>0.181768</td>\n",
       "      <td>0.203608</td>\n",
       "      <td>0.348757</td>\n",
       "      <td>0.379798</td>\n",
       "      <td>0.141323</td>\n",
       "      <td>...</td>\n",
       "      <td>0.606901</td>\n",
       "      <td>0.303571</td>\n",
       "      <td>0.539818</td>\n",
       "      <td>0.435214</td>\n",
       "      <td>0.347553</td>\n",
       "      <td>0.154563</td>\n",
       "      <td>0.192971</td>\n",
       "      <td>0.639175</td>\n",
       "      <td>0.233590</td>\n",
       "      <td>0.222878</td>\n",
       "    </tr>\n",
       "    <tr>\n",
       "      <th>2</th>\n",
       "      <td>0.601496</td>\n",
       "      <td>0.390260</td>\n",
       "      <td>0.595743</td>\n",
       "      <td>0.449417</td>\n",
       "      <td>0.514309</td>\n",
       "      <td>0.431017</td>\n",
       "      <td>0.462512</td>\n",
       "      <td>0.635686</td>\n",
       "      <td>0.509596</td>\n",
       "      <td>0.211247</td>\n",
       "      <td>...</td>\n",
       "      <td>0.556386</td>\n",
       "      <td>0.360075</td>\n",
       "      <td>0.508442</td>\n",
       "      <td>0.374508</td>\n",
       "      <td>0.483590</td>\n",
       "      <td>0.385375</td>\n",
       "      <td>0.359744</td>\n",
       "      <td>0.835052</td>\n",
       "      <td>0.403706</td>\n",
       "      <td>0.213433</td>\n",
       "    </tr>\n",
       "    <tr>\n",
       "      <th>3</th>\n",
       "      <td>0.210090</td>\n",
       "      <td>0.360839</td>\n",
       "      <td>0.233501</td>\n",
       "      <td>0.102906</td>\n",
       "      <td>0.811321</td>\n",
       "      <td>0.811361</td>\n",
       "      <td>0.565604</td>\n",
       "      <td>0.522863</td>\n",
       "      <td>0.776263</td>\n",
       "      <td>1.000000</td>\n",
       "      <td>...</td>\n",
       "      <td>0.248310</td>\n",
       "      <td>0.385928</td>\n",
       "      <td>0.241347</td>\n",
       "      <td>0.094008</td>\n",
       "      <td>0.915472</td>\n",
       "      <td>0.814012</td>\n",
       "      <td>0.548642</td>\n",
       "      <td>0.884880</td>\n",
       "      <td>1.000000</td>\n",
       "      <td>0.773711</td>\n",
       "    </tr>\n",
       "    <tr>\n",
       "      <th>4</th>\n",
       "      <td>0.629893</td>\n",
       "      <td>0.156578</td>\n",
       "      <td>0.630986</td>\n",
       "      <td>0.489290</td>\n",
       "      <td>0.430351</td>\n",
       "      <td>0.347893</td>\n",
       "      <td>0.463918</td>\n",
       "      <td>0.518390</td>\n",
       "      <td>0.378283</td>\n",
       "      <td>0.186816</td>\n",
       "      <td>...</td>\n",
       "      <td>0.519744</td>\n",
       "      <td>0.123934</td>\n",
       "      <td>0.506948</td>\n",
       "      <td>0.341575</td>\n",
       "      <td>0.437364</td>\n",
       "      <td>0.172415</td>\n",
       "      <td>0.319489</td>\n",
       "      <td>0.558419</td>\n",
       "      <td>0.157500</td>\n",
       "      <td>0.142595</td>\n",
       "    </tr>\n",
       "    <tr>\n",
       "      <th>...</th>\n",
       "      <td>...</td>\n",
       "      <td>...</td>\n",
       "      <td>...</td>\n",
       "      <td>...</td>\n",
       "      <td>...</td>\n",
       "      <td>...</td>\n",
       "      <td>...</td>\n",
       "      <td>...</td>\n",
       "      <td>...</td>\n",
       "      <td>...</td>\n",
       "      <td>...</td>\n",
       "      <td>...</td>\n",
       "      <td>...</td>\n",
       "      <td>...</td>\n",
       "      <td>...</td>\n",
       "      <td>...</td>\n",
       "      <td>...</td>\n",
       "      <td>...</td>\n",
       "      <td>...</td>\n",
       "      <td>...</td>\n",
       "      <td>...</td>\n",
       "    </tr>\n",
       "    <tr>\n",
       "      <th>564</th>\n",
       "      <td>0.690000</td>\n",
       "      <td>0.428813</td>\n",
       "      <td>0.678668</td>\n",
       "      <td>0.566490</td>\n",
       "      <td>0.526948</td>\n",
       "      <td>0.296055</td>\n",
       "      <td>0.571462</td>\n",
       "      <td>0.690358</td>\n",
       "      <td>0.336364</td>\n",
       "      <td>0.132056</td>\n",
       "      <td>...</td>\n",
       "      <td>0.623266</td>\n",
       "      <td>0.383262</td>\n",
       "      <td>0.576174</td>\n",
       "      <td>0.452664</td>\n",
       "      <td>0.461137</td>\n",
       "      <td>0.178527</td>\n",
       "      <td>0.328035</td>\n",
       "      <td>0.761512</td>\n",
       "      <td>0.097575</td>\n",
       "      <td>0.105667</td>\n",
       "    </tr>\n",
       "    <tr>\n",
       "      <th>565</th>\n",
       "      <td>0.622320</td>\n",
       "      <td>0.626987</td>\n",
       "      <td>0.604036</td>\n",
       "      <td>0.474019</td>\n",
       "      <td>0.407782</td>\n",
       "      <td>0.257714</td>\n",
       "      <td>0.337395</td>\n",
       "      <td>0.486630</td>\n",
       "      <td>0.349495</td>\n",
       "      <td>0.113100</td>\n",
       "      <td>...</td>\n",
       "      <td>0.560655</td>\n",
       "      <td>0.699094</td>\n",
       "      <td>0.520892</td>\n",
       "      <td>0.379915</td>\n",
       "      <td>0.300007</td>\n",
       "      <td>0.159997</td>\n",
       "      <td>0.256789</td>\n",
       "      <td>0.559450</td>\n",
       "      <td>0.198502</td>\n",
       "      <td>0.074315</td>\n",
       "    </tr>\n",
       "    <tr>\n",
       "      <th>566</th>\n",
       "      <td>0.455251</td>\n",
       "      <td>0.621238</td>\n",
       "      <td>0.445788</td>\n",
       "      <td>0.303118</td>\n",
       "      <td>0.288165</td>\n",
       "      <td>0.254340</td>\n",
       "      <td>0.216753</td>\n",
       "      <td>0.263519</td>\n",
       "      <td>0.267677</td>\n",
       "      <td>0.137321</td>\n",
       "      <td>...</td>\n",
       "      <td>0.393099</td>\n",
       "      <td>0.589019</td>\n",
       "      <td>0.379949</td>\n",
       "      <td>0.230731</td>\n",
       "      <td>0.282177</td>\n",
       "      <td>0.273705</td>\n",
       "      <td>0.271805</td>\n",
       "      <td>0.487285</td>\n",
       "      <td>0.128721</td>\n",
       "      <td>0.151909</td>\n",
       "    </tr>\n",
       "    <tr>\n",
       "      <th>567</th>\n",
       "      <td>0.644564</td>\n",
       "      <td>0.663510</td>\n",
       "      <td>0.665538</td>\n",
       "      <td>0.475716</td>\n",
       "      <td>0.588336</td>\n",
       "      <td>0.790197</td>\n",
       "      <td>0.823336</td>\n",
       "      <td>0.755467</td>\n",
       "      <td>0.675253</td>\n",
       "      <td>0.425442</td>\n",
       "      <td>...</td>\n",
       "      <td>0.633582</td>\n",
       "      <td>0.730277</td>\n",
       "      <td>0.668310</td>\n",
       "      <td>0.402035</td>\n",
       "      <td>0.619626</td>\n",
       "      <td>0.815758</td>\n",
       "      <td>0.749760</td>\n",
       "      <td>0.910653</td>\n",
       "      <td>0.497142</td>\n",
       "      <td>0.452315</td>\n",
       "    </tr>\n",
       "    <tr>\n",
       "      <th>568</th>\n",
       "      <td>0.036869</td>\n",
       "      <td>0.501522</td>\n",
       "      <td>0.028540</td>\n",
       "      <td>0.015907</td>\n",
       "      <td>0.000000</td>\n",
       "      <td>0.074351</td>\n",
       "      <td>0.000000</td>\n",
       "      <td>0.000000</td>\n",
       "      <td>0.266162</td>\n",
       "      <td>0.187026</td>\n",
       "      <td>...</td>\n",
       "      <td>0.054287</td>\n",
       "      <td>0.489072</td>\n",
       "      <td>0.043578</td>\n",
       "      <td>0.020497</td>\n",
       "      <td>0.124084</td>\n",
       "      <td>0.036043</td>\n",
       "      <td>0.000000</td>\n",
       "      <td>0.000000</td>\n",
       "      <td>0.257441</td>\n",
       "      <td>0.100682</td>\n",
       "    </tr>\n",
       "  </tbody>\n",
       "</table>\n",
       "<p>569 rows × 30 columns</p>\n",
       "</div>"
      ],
      "text/plain": [
       "     mean radius  mean texture  mean perimeter  mean area  mean smoothness  \\\n",
       "0       0.521037      0.022658        0.545989   0.363733         0.593753   \n",
       "1       0.643144      0.272574        0.615783   0.501591         0.289880   \n",
       "2       0.601496      0.390260        0.595743   0.449417         0.514309   \n",
       "3       0.210090      0.360839        0.233501   0.102906         0.811321   \n",
       "4       0.629893      0.156578        0.630986   0.489290         0.430351   \n",
       "..           ...           ...             ...        ...              ...   \n",
       "564     0.690000      0.428813        0.678668   0.566490         0.526948   \n",
       "565     0.622320      0.626987        0.604036   0.474019         0.407782   \n",
       "566     0.455251      0.621238        0.445788   0.303118         0.288165   \n",
       "567     0.644564      0.663510        0.665538   0.475716         0.588336   \n",
       "568     0.036869      0.501522        0.028540   0.015907         0.000000   \n",
       "\n",
       "     mean compactness  mean concavity  mean concave points  mean symmetry  \\\n",
       "0            0.792037        0.703140             0.731113       0.686364   \n",
       "1            0.181768        0.203608             0.348757       0.379798   \n",
       "2            0.431017        0.462512             0.635686       0.509596   \n",
       "3            0.811361        0.565604             0.522863       0.776263   \n",
       "4            0.347893        0.463918             0.518390       0.378283   \n",
       "..                ...             ...                  ...            ...   \n",
       "564          0.296055        0.571462             0.690358       0.336364   \n",
       "565          0.257714        0.337395             0.486630       0.349495   \n",
       "566          0.254340        0.216753             0.263519       0.267677   \n",
       "567          0.790197        0.823336             0.755467       0.675253   \n",
       "568          0.074351        0.000000             0.000000       0.266162   \n",
       "\n",
       "     mean fractal dimension  ...  worst radius  worst texture  \\\n",
       "0                  0.605518  ...      0.620776       0.141525   \n",
       "1                  0.141323  ...      0.606901       0.303571   \n",
       "2                  0.211247  ...      0.556386       0.360075   \n",
       "3                  1.000000  ...      0.248310       0.385928   \n",
       "4                  0.186816  ...      0.519744       0.123934   \n",
       "..                      ...  ...           ...            ...   \n",
       "564                0.132056  ...      0.623266       0.383262   \n",
       "565                0.113100  ...      0.560655       0.699094   \n",
       "566                0.137321  ...      0.393099       0.589019   \n",
       "567                0.425442  ...      0.633582       0.730277   \n",
       "568                0.187026  ...      0.054287       0.489072   \n",
       "\n",
       "     worst perimeter  worst area  worst smoothness  worst compactness  \\\n",
       "0           0.668310    0.450698          0.601136           0.619292   \n",
       "1           0.539818    0.435214          0.347553           0.154563   \n",
       "2           0.508442    0.374508          0.483590           0.385375   \n",
       "3           0.241347    0.094008          0.915472           0.814012   \n",
       "4           0.506948    0.341575          0.437364           0.172415   \n",
       "..               ...         ...               ...                ...   \n",
       "564         0.576174    0.452664          0.461137           0.178527   \n",
       "565         0.520892    0.379915          0.300007           0.159997   \n",
       "566         0.379949    0.230731          0.282177           0.273705   \n",
       "567         0.668310    0.402035          0.619626           0.815758   \n",
       "568         0.043578    0.020497          0.124084           0.036043   \n",
       "\n",
       "     worst concavity  worst concave points  worst symmetry  \\\n",
       "0           0.568610              0.912027        0.598462   \n",
       "1           0.192971              0.639175        0.233590   \n",
       "2           0.359744              0.835052        0.403706   \n",
       "3           0.548642              0.884880        1.000000   \n",
       "4           0.319489              0.558419        0.157500   \n",
       "..               ...                   ...             ...   \n",
       "564         0.328035              0.761512        0.097575   \n",
       "565         0.256789              0.559450        0.198502   \n",
       "566         0.271805              0.487285        0.128721   \n",
       "567         0.749760              0.910653        0.497142   \n",
       "568         0.000000              0.000000        0.257441   \n",
       "\n",
       "     worst fractal dimension  \n",
       "0                   0.418864  \n",
       "1                   0.222878  \n",
       "2                   0.213433  \n",
       "3                   0.773711  \n",
       "4                   0.142595  \n",
       "..                       ...  \n",
       "564                 0.105667  \n",
       "565                 0.074315  \n",
       "566                 0.151909  \n",
       "567                 0.452315  \n",
       "568                 0.100682  \n",
       "\n",
       "[569 rows x 30 columns]"
      ]
     },
     "execution_count": 37,
     "metadata": {},
     "output_type": "execute_result"
    }
   ],
   "source": [
    "cancer_F_N_df = pd.DataFrame(cancer_F_N, columns=cancer_F.columns)\n",
    "cancer_F_N_df"
   ]
  },
  {
   "cell_type": "code",
   "execution_count": null,
   "id": "17f3a46f",
   "metadata": {},
   "outputs": [],
   "source": []
  },
  {
   "cell_type": "markdown",
   "id": "a6a115ee",
   "metadata": {},
   "source": [
    "### Train / Test Split"
   ]
  },
  {
   "cell_type": "code",
   "execution_count": 38,
   "id": "64fe4cb6",
   "metadata": {
    "ExecuteTime": {
     "end_time": "2021-12-27T07:53:43.252926Z",
     "start_time": "2021-12-27T07:53:43.231792Z"
    }
   },
   "outputs": [],
   "source": [
    "x_train, x_test, y_train, y_test = train_test_split(cancer_F_N_df, \n",
    "                                                    cancer_y, \n",
    "                                                    test_size = 0.3, \n",
    "                                                    stratify = cancer_y)"
   ]
  },
  {
   "cell_type": "code",
   "execution_count": 41,
   "id": "7ff6e6cc",
   "metadata": {
    "ExecuteTime": {
     "end_time": "2021-12-27T07:54:00.730692Z",
     "start_time": "2021-12-27T07:54:00.718672Z"
    }
   },
   "outputs": [
    {
     "data": {
      "text/plain": [
       "((398, 30), (171, 30))"
      ]
     },
     "execution_count": 41,
     "metadata": {},
     "output_type": "execute_result"
    }
   ],
   "source": [
    "x_train.shape, x_test.shape"
   ]
  },
  {
   "cell_type": "code",
   "execution_count": null,
   "id": "fe1a019c",
   "metadata": {},
   "outputs": [],
   "source": []
  },
  {
   "cell_type": "markdown",
   "id": "68c348de",
   "metadata": {},
   "source": [
    "## Modeling (sklearn version)"
   ]
  },
  {
   "cell_type": "markdown",
   "id": "c834c103",
   "metadata": {},
   "source": [
    "### MLPClassifier( ) 사용"
   ]
  },
  {
   "cell_type": "code",
   "execution_count": 42,
   "id": "d7ece002",
   "metadata": {
    "ExecuteTime": {
     "end_time": "2021-12-27T07:56:14.345930Z",
     "start_time": "2021-12-27T07:56:13.569843Z"
    }
   },
   "outputs": [
    {
     "name": "stderr",
     "output_type": "stream",
     "text": [
      "C:\\Users\\TFG5076XG\\anaconda3\\lib\\site-packages\\sklearn\\utils\\validation.py:63: DataConversionWarning: A column-vector y was passed when a 1d array was expected. Please change the shape of y to (n_samples, ), for example using ravel().\n",
      "  return f(*args, **kwargs)\n"
     ]
    },
    {
     "name": "stdout",
     "output_type": "stream",
     "text": [
      "Iteration 1, loss = 0.65404583\n",
      "Iteration 2, loss = 0.64254276\n",
      "Iteration 3, loss = 0.63178379\n",
      "Iteration 4, loss = 0.62082941\n",
      "Iteration 5, loss = 0.61049968\n",
      "Iteration 6, loss = 0.60072072\n",
      "Iteration 7, loss = 0.59118145\n",
      "Iteration 8, loss = 0.58160832\n",
      "Iteration 9, loss = 0.57206647\n",
      "Iteration 10, loss = 0.56267510\n",
      "Iteration 11, loss = 0.55350941\n",
      "Iteration 12, loss = 0.54431868\n",
      "Iteration 13, loss = 0.53566105\n",
      "Iteration 14, loss = 0.52697644\n",
      "Iteration 15, loss = 0.51826052\n",
      "Iteration 16, loss = 0.50961339\n",
      "Iteration 17, loss = 0.50106009\n",
      "Iteration 18, loss = 0.49224714\n",
      "Iteration 19, loss = 0.48363698\n",
      "Iteration 20, loss = 0.47504314\n",
      "Iteration 21, loss = 0.46642898\n",
      "Iteration 22, loss = 0.45822579\n",
      "Iteration 23, loss = 0.44992340\n",
      "Iteration 24, loss = 0.44173493\n",
      "Iteration 25, loss = 0.43359244\n",
      "Iteration 26, loss = 0.42578977\n",
      "Iteration 27, loss = 0.41786673\n",
      "Iteration 28, loss = 0.41008918\n",
      "Iteration 29, loss = 0.40243039\n",
      "Iteration 30, loss = 0.39500974\n",
      "Iteration 31, loss = 0.38765113\n",
      "Iteration 32, loss = 0.38052907\n",
      "Iteration 33, loss = 0.37352344\n",
      "Iteration 34, loss = 0.36667500\n",
      "Iteration 35, loss = 0.35986379\n",
      "Iteration 36, loss = 0.35332644\n",
      "Iteration 37, loss = 0.34709244\n",
      "Iteration 38, loss = 0.34075822\n",
      "Iteration 39, loss = 0.33469255\n",
      "Iteration 40, loss = 0.32885775\n",
      "Iteration 41, loss = 0.32319981\n",
      "Iteration 42, loss = 0.31762571\n",
      "Iteration 43, loss = 0.31234291\n",
      "Iteration 44, loss = 0.30710116\n",
      "Iteration 45, loss = 0.30199749\n",
      "Iteration 46, loss = 0.29718182\n",
      "Iteration 47, loss = 0.29230717\n",
      "Iteration 48, loss = 0.28775803\n",
      "Iteration 49, loss = 0.28326457\n",
      "Iteration 50, loss = 0.27884327\n",
      "Iteration 51, loss = 0.27457637\n",
      "Iteration 52, loss = 0.27038881\n",
      "Iteration 53, loss = 0.26625855\n",
      "Iteration 54, loss = 0.26223162\n",
      "Iteration 55, loss = 0.25841076\n",
      "Iteration 56, loss = 0.25468480\n",
      "Iteration 57, loss = 0.25101299\n",
      "Iteration 58, loss = 0.24741407\n",
      "Iteration 59, loss = 0.24406876\n",
      "Iteration 60, loss = 0.24055987\n",
      "Iteration 61, loss = 0.23735532\n",
      "Iteration 62, loss = 0.23406034\n",
      "Iteration 63, loss = 0.23097941\n",
      "Iteration 64, loss = 0.22790468\n",
      "Iteration 65, loss = 0.22498241\n",
      "Iteration 66, loss = 0.22203809\n",
      "Iteration 67, loss = 0.21921672\n",
      "Iteration 68, loss = 0.21640087\n",
      "Iteration 69, loss = 0.21389725\n",
      "Iteration 70, loss = 0.21106656\n",
      "Iteration 71, loss = 0.20871337\n",
      "Iteration 72, loss = 0.20604119\n",
      "Iteration 73, loss = 0.20381204\n",
      "Iteration 74, loss = 0.20121099\n",
      "Iteration 75, loss = 0.19893339\n",
      "Iteration 76, loss = 0.19669921\n",
      "Iteration 77, loss = 0.19460093\n",
      "Iteration 78, loss = 0.19252601\n",
      "Iteration 79, loss = 0.19028486\n",
      "Iteration 80, loss = 0.18824616\n",
      "Iteration 81, loss = 0.18626551\n",
      "Iteration 82, loss = 0.18435404\n",
      "Iteration 83, loss = 0.18242102\n",
      "Iteration 84, loss = 0.18058785\n",
      "Iteration 85, loss = 0.17863504\n",
      "Iteration 86, loss = 0.17676365\n",
      "Iteration 87, loss = 0.17503589\n",
      "Iteration 88, loss = 0.17328481\n",
      "Iteration 89, loss = 0.17158693\n",
      "Iteration 90, loss = 0.16997370\n",
      "Iteration 91, loss = 0.16826164\n",
      "Iteration 92, loss = 0.16659543\n",
      "Iteration 93, loss = 0.16502223\n",
      "Iteration 94, loss = 0.16358510\n",
      "Iteration 95, loss = 0.16189437\n",
      "Iteration 96, loss = 0.16060157\n",
      "Iteration 97, loss = 0.15888810\n",
      "Iteration 98, loss = 0.15743300\n",
      "Iteration 99, loss = 0.15595438\n",
      "Iteration 100, loss = 0.15454292\n",
      "Iteration 101, loss = 0.15322396\n",
      "Iteration 102, loss = 0.15185226\n",
      "Iteration 103, loss = 0.15042369\n",
      "Iteration 104, loss = 0.14905738\n",
      "Iteration 105, loss = 0.14770514\n",
      "Iteration 106, loss = 0.14665726\n",
      "Iteration 107, loss = 0.14516112\n",
      "Iteration 108, loss = 0.14395433\n",
      "Iteration 109, loss = 0.14267124\n",
      "Iteration 110, loss = 0.14137823\n",
      "Iteration 111, loss = 0.14016136\n",
      "Iteration 112, loss = 0.13901587\n",
      "Iteration 113, loss = 0.13775007\n",
      "Iteration 114, loss = 0.13660180\n",
      "Iteration 115, loss = 0.13553907\n",
      "Iteration 116, loss = 0.13436672\n",
      "Iteration 117, loss = 0.13309205\n",
      "Iteration 118, loss = 0.13199449\n",
      "Iteration 119, loss = 0.13091578\n",
      "Iteration 120, loss = 0.12983088\n",
      "Iteration 121, loss = 0.12875736\n",
      "Iteration 122, loss = 0.12779839\n",
      "Iteration 123, loss = 0.12665129\n",
      "Iteration 124, loss = 0.12575803\n",
      "Iteration 125, loss = 0.12458665\n",
      "Iteration 126, loss = 0.12361504\n",
      "Iteration 127, loss = 0.12255170\n",
      "Iteration 128, loss = 0.12170252\n",
      "Iteration 129, loss = 0.12086501\n",
      "Iteration 130, loss = 0.11981402\n",
      "Iteration 131, loss = 0.11879771\n",
      "Iteration 132, loss = 0.11787816\n",
      "Iteration 133, loss = 0.11692420\n",
      "Iteration 134, loss = 0.11607439\n",
      "Iteration 135, loss = 0.11509598\n",
      "Iteration 136, loss = 0.11423876\n",
      "Iteration 137, loss = 0.11338334\n",
      "Iteration 138, loss = 0.11259095\n",
      "Iteration 139, loss = 0.11166403\n",
      "Iteration 140, loss = 0.11082617\n",
      "Iteration 141, loss = 0.11010869\n",
      "Iteration 142, loss = 0.10914747\n",
      "Iteration 143, loss = 0.10845567\n",
      "Iteration 144, loss = 0.10762005\n",
      "Iteration 145, loss = 0.10676822\n",
      "Iteration 146, loss = 0.10598977\n",
      "Iteration 147, loss = 0.10532089\n",
      "Iteration 148, loss = 0.10449123\n",
      "Iteration 149, loss = 0.10379606\n",
      "Iteration 150, loss = 0.10297656\n",
      "Iteration 151, loss = 0.10236347\n",
      "Iteration 152, loss = 0.10150756\n",
      "Iteration 153, loss = 0.10084414\n",
      "Iteration 154, loss = 0.10012089\n",
      "Iteration 155, loss = 0.09937059\n",
      "Iteration 156, loss = 0.09883835\n",
      "Iteration 157, loss = 0.09807116\n",
      "Iteration 158, loss = 0.09735643\n",
      "Iteration 159, loss = 0.09667934\n",
      "Iteration 160, loss = 0.09600744\n",
      "Iteration 161, loss = 0.09535274\n",
      "Iteration 162, loss = 0.09478520\n",
      "Iteration 163, loss = 0.09415063\n",
      "Iteration 164, loss = 0.09345771\n",
      "Iteration 165, loss = 0.09285108\n",
      "Iteration 166, loss = 0.09221022\n",
      "Iteration 167, loss = 0.09162910\n",
      "Iteration 168, loss = 0.09097357\n",
      "Iteration 169, loss = 0.09037044\n",
      "Iteration 170, loss = 0.08978831\n",
      "Iteration 171, loss = 0.08919111\n",
      "Iteration 172, loss = 0.08866047\n",
      "Iteration 173, loss = 0.08804697\n",
      "Iteration 174, loss = 0.08753849\n",
      "Iteration 175, loss = 0.08693095\n",
      "Iteration 176, loss = 0.08631349\n",
      "Iteration 177, loss = 0.08575177\n",
      "Iteration 178, loss = 0.08520216\n",
      "Iteration 179, loss = 0.08471090\n",
      "Iteration 180, loss = 0.08417369\n",
      "Iteration 181, loss = 0.08369831\n",
      "Iteration 182, loss = 0.08310872\n",
      "Iteration 183, loss = 0.08261775\n",
      "Iteration 184, loss = 0.08208300\n",
      "Iteration 185, loss = 0.08156553\n",
      "Iteration 186, loss = 0.08109004\n",
      "Iteration 187, loss = 0.08055227\n",
      "Iteration 188, loss = 0.08012090\n",
      "Iteration 189, loss = 0.07958136\n",
      "Iteration 190, loss = 0.07927447\n",
      "Iteration 191, loss = 0.07862371\n",
      "Iteration 192, loss = 0.07814400\n",
      "Iteration 193, loss = 0.07769006\n",
      "Iteration 194, loss = 0.07731852\n",
      "Iteration 195, loss = 0.07695946\n",
      "Iteration 196, loss = 0.07635452\n",
      "Iteration 197, loss = 0.07587340\n",
      "Iteration 198, loss = 0.07543157\n",
      "Iteration 199, loss = 0.07506061\n",
      "Iteration 200, loss = 0.07453981\n",
      "Iteration 201, loss = 0.07411171\n",
      "Iteration 202, loss = 0.07372758\n",
      "Iteration 203, loss = 0.07324949\n",
      "Iteration 204, loss = 0.07286000\n",
      "Iteration 205, loss = 0.07264777\n",
      "Iteration 206, loss = 0.07207559\n",
      "Iteration 207, loss = 0.07165853\n",
      "Iteration 208, loss = 0.07130113\n",
      "Iteration 209, loss = 0.07081318\n",
      "Iteration 210, loss = 0.07048782\n",
      "Iteration 211, loss = 0.07004457\n",
      "Iteration 212, loss = 0.06965769\n",
      "Iteration 213, loss = 0.06925147\n",
      "Iteration 214, loss = 0.06892790\n",
      "Iteration 215, loss = 0.06849305\n",
      "Iteration 216, loss = 0.06812426\n",
      "Iteration 217, loss = 0.06781217\n",
      "Iteration 218, loss = 0.06735787\n",
      "Iteration 219, loss = 0.06706071\n",
      "Iteration 220, loss = 0.06674467\n",
      "Iteration 221, loss = 0.06630523\n",
      "Iteration 222, loss = 0.06600340\n",
      "Iteration 223, loss = 0.06564254\n",
      "Iteration 224, loss = 0.06529655\n",
      "Iteration 225, loss = 0.06498958\n",
      "Iteration 226, loss = 0.06464029\n",
      "Iteration 227, loss = 0.06438640\n",
      "Iteration 228, loss = 0.06391958\n",
      "Iteration 229, loss = 0.06370142\n",
      "Iteration 230, loss = 0.06336610\n",
      "Iteration 231, loss = 0.06293225\n",
      "Iteration 232, loss = 0.06261938\n",
      "Iteration 233, loss = 0.06251695\n",
      "Iteration 234, loss = 0.06197592\n",
      "Iteration 235, loss = 0.06167761\n",
      "Iteration 236, loss = 0.06145021\n",
      "Iteration 237, loss = 0.06108797\n",
      "Iteration 238, loss = 0.06080771\n",
      "Iteration 239, loss = 0.06048096\n",
      "Iteration 240, loss = 0.06016861\n",
      "Iteration 241, loss = 0.05987519\n",
      "Iteration 242, loss = 0.05962095\n",
      "Iteration 243, loss = 0.05933613\n",
      "Iteration 244, loss = 0.05903570\n",
      "Iteration 245, loss = 0.05878894\n",
      "Iteration 246, loss = 0.05851642\n",
      "Iteration 247, loss = 0.05818230\n",
      "Iteration 248, loss = 0.05810594\n",
      "Iteration 249, loss = 0.05763746\n",
      "Iteration 250, loss = 0.05738270\n",
      "Iteration 251, loss = 0.05724562\n",
      "Iteration 252, loss = 0.05694155\n",
      "Iteration 253, loss = 0.05660090\n",
      "Iteration 254, loss = 0.05638474\n",
      "Iteration 255, loss = 0.05620267\n",
      "Iteration 256, loss = 0.05585916\n",
      "Iteration 257, loss = 0.05561659\n",
      "Iteration 258, loss = 0.05534851\n",
      "Iteration 259, loss = 0.05506396\n",
      "Iteration 260, loss = 0.05484481\n",
      "Iteration 261, loss = 0.05461731\n",
      "Iteration 262, loss = 0.05439127\n",
      "Iteration 263, loss = 0.05413561\n",
      "Iteration 264, loss = 0.05390123\n",
      "Iteration 265, loss = 0.05364150\n",
      "Iteration 266, loss = 0.05356652\n",
      "Iteration 267, loss = 0.05334345\n",
      "Iteration 268, loss = 0.05301876\n",
      "Iteration 269, loss = 0.05282462\n",
      "Iteration 270, loss = 0.05254443\n",
      "Iteration 271, loss = 0.05247363\n",
      "Iteration 272, loss = 0.05214038\n",
      "Iteration 273, loss = 0.05191109\n",
      "Iteration 274, loss = 0.05164881\n",
      "Iteration 275, loss = 0.05142909\n",
      "Iteration 276, loss = 0.05129449\n",
      "Iteration 277, loss = 0.05101016\n",
      "Iteration 278, loss = 0.05081130\n",
      "Iteration 279, loss = 0.05060158\n",
      "Iteration 280, loss = 0.05038526\n",
      "Iteration 281, loss = 0.05019480\n",
      "Iteration 282, loss = 0.05000048\n",
      "Iteration 283, loss = 0.04978310\n",
      "Iteration 284, loss = 0.04965422\n",
      "Iteration 285, loss = 0.04940501\n",
      "Iteration 286, loss = 0.04925833\n",
      "Iteration 287, loss = 0.04899774\n",
      "Iteration 288, loss = 0.04883419\n",
      "Iteration 289, loss = 0.04862755\n",
      "Iteration 290, loss = 0.04850981\n",
      "Iteration 291, loss = 0.04824416\n",
      "Iteration 292, loss = 0.04805805\n",
      "Iteration 293, loss = 0.04813377\n",
      "Iteration 294, loss = 0.04774639\n",
      "Iteration 295, loss = 0.04754407\n",
      "Iteration 296, loss = 0.04734303\n",
      "Iteration 297, loss = 0.04714413\n",
      "Iteration 298, loss = 0.04698949\n",
      "Iteration 299, loss = 0.04683839\n",
      "Iteration 300, loss = 0.04670711\n",
      "Iteration 301, loss = 0.04654833\n",
      "Iteration 302, loss = 0.04633371\n",
      "Iteration 303, loss = 0.04621782\n",
      "Iteration 304, loss = 0.04598601\n",
      "Iteration 305, loss = 0.04583369\n",
      "Iteration 306, loss = 0.04564284\n",
      "Iteration 307, loss = 0.04557618\n",
      "Iteration 308, loss = 0.04540513\n",
      "Iteration 309, loss = 0.04516664\n",
      "Iteration 310, loss = 0.04503375\n",
      "Iteration 311, loss = 0.04483077\n",
      "Iteration 312, loss = 0.04467115\n",
      "Iteration 313, loss = 0.04453680\n",
      "Iteration 314, loss = 0.04435614\n",
      "Iteration 315, loss = 0.04422277\n",
      "Iteration 316, loss = 0.04404313\n",
      "Iteration 317, loss = 0.04390072\n",
      "Iteration 318, loss = 0.04375478\n",
      "Iteration 319, loss = 0.04359071\n",
      "Iteration 320, loss = 0.04347951\n",
      "Iteration 321, loss = 0.04339808\n",
      "Iteration 322, loss = 0.04324554\n",
      "Iteration 323, loss = 0.04305964\n",
      "Iteration 324, loss = 0.04299837\n",
      "Iteration 325, loss = 0.04274863\n",
      "Iteration 326, loss = 0.04260377\n",
      "Iteration 327, loss = 0.04244947\n",
      "Iteration 328, loss = 0.04232348\n",
      "Iteration 329, loss = 0.04214350\n",
      "Iteration 330, loss = 0.04200825\n",
      "Iteration 331, loss = 0.04188841\n",
      "Iteration 332, loss = 0.04189053\n",
      "Iteration 333, loss = 0.04159974\n",
      "Iteration 334, loss = 0.04147137\n",
      "Iteration 335, loss = 0.04134349\n",
      "Iteration 336, loss = 0.04131389\n",
      "Iteration 337, loss = 0.04106098\n",
      "Iteration 338, loss = 0.04094413\n",
      "Iteration 339, loss = 0.04087709\n",
      "Iteration 340, loss = 0.04076923\n",
      "Iteration 341, loss = 0.04055956\n",
      "Iteration 342, loss = 0.04044570\n",
      "Iteration 343, loss = 0.04050005\n",
      "Iteration 344, loss = 0.04032045\n",
      "Iteration 345, loss = 0.04004373\n",
      "Iteration 346, loss = 0.03995327\n",
      "Iteration 347, loss = 0.03979583\n",
      "Iteration 348, loss = 0.03974795\n",
      "Iteration 349, loss = 0.03956658\n",
      "Iteration 350, loss = 0.03944708\n",
      "Iteration 351, loss = 0.03931346\n",
      "Iteration 352, loss = 0.03917897\n",
      "Iteration 353, loss = 0.03907676\n",
      "Iteration 354, loss = 0.03897204\n",
      "Iteration 355, loss = 0.03883881\n",
      "Iteration 356, loss = 0.03874814\n",
      "Iteration 357, loss = 0.03859709\n",
      "Iteration 358, loss = 0.03848506\n",
      "Iteration 359, loss = 0.03851837\n",
      "Iteration 360, loss = 0.03832628\n",
      "Iteration 361, loss = 0.03821689\n",
      "Iteration 362, loss = 0.03804557\n",
      "Iteration 363, loss = 0.03796179\n"
     ]
    },
    {
     "name": "stdout",
     "output_type": "stream",
     "text": [
      "Iteration 364, loss = 0.03791067\n",
      "Iteration 365, loss = 0.03786295\n",
      "Iteration 366, loss = 0.03768939\n",
      "Iteration 367, loss = 0.03752270\n",
      "Iteration 368, loss = 0.03746878\n",
      "Iteration 369, loss = 0.03732764\n",
      "Iteration 370, loss = 0.03721268\n",
      "Iteration 371, loss = 0.03716152\n",
      "Iteration 372, loss = 0.03704465\n",
      "Iteration 373, loss = 0.03687899\n",
      "Iteration 374, loss = 0.03674226\n",
      "Iteration 375, loss = 0.03667210\n",
      "Iteration 376, loss = 0.03665035\n",
      "Iteration 377, loss = 0.03641126\n",
      "Iteration 378, loss = 0.03629508\n",
      "Iteration 379, loss = 0.03625597\n",
      "Iteration 380, loss = 0.03597553\n",
      "Iteration 381, loss = 0.03586444\n",
      "Iteration 382, loss = 0.03582120\n",
      "Iteration 383, loss = 0.03569398\n",
      "Iteration 384, loss = 0.03560667\n",
      "Iteration 385, loss = 0.03548958\n",
      "Iteration 386, loss = 0.03538921\n",
      "Iteration 387, loss = 0.03535023\n",
      "Iteration 388, loss = 0.03518887\n",
      "Iteration 389, loss = 0.03513645\n",
      "Iteration 390, loss = 0.03499799\n",
      "Iteration 391, loss = 0.03492733\n",
      "Iteration 392, loss = 0.03484188\n",
      "Iteration 393, loss = 0.03472533\n",
      "Iteration 394, loss = 0.03462500\n",
      "Iteration 395, loss = 0.03469651\n",
      "Iteration 396, loss = 0.03455219\n",
      "Iteration 397, loss = 0.03436868\n",
      "Iteration 398, loss = 0.03427010\n",
      "Iteration 399, loss = 0.03419733\n",
      "Iteration 400, loss = 0.03409362\n",
      "Iteration 401, loss = 0.03419989\n",
      "Iteration 402, loss = 0.03392648\n",
      "Iteration 403, loss = 0.03384208\n",
      "Iteration 404, loss = 0.03372955\n",
      "Iteration 405, loss = 0.03368208\n",
      "Iteration 406, loss = 0.03358540\n",
      "Iteration 407, loss = 0.03348158\n",
      "Iteration 408, loss = 0.03361502\n",
      "Iteration 409, loss = 0.03351320\n",
      "Iteration 410, loss = 0.03333656\n",
      "Iteration 411, loss = 0.03317436\n",
      "Iteration 412, loss = 0.03325630\n",
      "Iteration 413, loss = 0.03299264\n",
      "Iteration 414, loss = 0.03296880\n",
      "Iteration 415, loss = 0.03282009\n",
      "Iteration 416, loss = 0.03275524\n",
      "Iteration 417, loss = 0.03274049\n",
      "Iteration 418, loss = 0.03264034\n",
      "Iteration 419, loss = 0.03253364\n",
      "Iteration 420, loss = 0.03248660\n",
      "Iteration 421, loss = 0.03235036\n",
      "Iteration 422, loss = 0.03233645\n",
      "Iteration 423, loss = 0.03230008\n",
      "Iteration 424, loss = 0.03221500\n",
      "Iteration 425, loss = 0.03202626\n",
      "Iteration 426, loss = 0.03195149\n",
      "Iteration 427, loss = 0.03187907\n",
      "Iteration 428, loss = 0.03183244\n",
      "Iteration 429, loss = 0.03175320\n",
      "Iteration 430, loss = 0.03173696\n",
      "Iteration 431, loss = 0.03159514\n",
      "Iteration 432, loss = 0.03154661\n",
      "Iteration 433, loss = 0.03144167\n",
      "Iteration 434, loss = 0.03152218\n",
      "Iteration 435, loss = 0.03133133\n",
      "Iteration 436, loss = 0.03125422\n",
      "Iteration 437, loss = 0.03119294\n",
      "Iteration 438, loss = 0.03109210\n",
      "Iteration 439, loss = 0.03103472\n",
      "Iteration 440, loss = 0.03097883\n",
      "Iteration 441, loss = 0.03087360\n",
      "Iteration 442, loss = 0.03103071\n",
      "Iteration 443, loss = 0.03074855\n",
      "Iteration 444, loss = 0.03066152\n",
      "Iteration 445, loss = 0.03076360\n",
      "Iteration 446, loss = 0.03056921\n",
      "Iteration 447, loss = 0.03060071\n",
      "Iteration 448, loss = 0.03045358\n",
      "Iteration 449, loss = 0.03042425\n",
      "Iteration 450, loss = 0.03049801\n",
      "Iteration 451, loss = 0.03042878\n",
      "Iteration 452, loss = 0.03013725\n",
      "Iteration 453, loss = 0.03007224\n",
      "Iteration 454, loss = 0.03008364\n",
      "Iteration 455, loss = 0.02996577\n",
      "Iteration 456, loss = 0.02987136\n",
      "Iteration 457, loss = 0.02979390\n",
      "Iteration 458, loss = 0.02977386\n",
      "Iteration 459, loss = 0.02977697\n",
      "Iteration 460, loss = 0.02976502\n",
      "Iteration 461, loss = 0.02958316\n",
      "Iteration 462, loss = 0.02948145\n",
      "Iteration 463, loss = 0.02958412\n",
      "Iteration 464, loss = 0.02937731\n",
      "Iteration 465, loss = 0.02932215\n",
      "Iteration 466, loss = 0.02924551\n",
      "Iteration 467, loss = 0.02920940\n",
      "Iteration 468, loss = 0.02912953\n",
      "Iteration 469, loss = 0.02909948\n",
      "Iteration 470, loss = 0.02900527\n",
      "Iteration 471, loss = 0.02900344\n",
      "Iteration 472, loss = 0.02888607\n",
      "Iteration 473, loss = 0.02897965\n",
      "Iteration 474, loss = 0.02892560\n",
      "Iteration 475, loss = 0.02870591\n",
      "Iteration 476, loss = 0.02864514\n",
      "Iteration 477, loss = 0.02858116\n",
      "Iteration 478, loss = 0.02855552\n",
      "Iteration 479, loss = 0.02848104\n",
      "Iteration 480, loss = 0.02845271\n",
      "Iteration 481, loss = 0.02835444\n",
      "Iteration 482, loss = 0.02831522\n",
      "Iteration 483, loss = 0.02823417\n",
      "Iteration 484, loss = 0.02817848\n",
      "Iteration 485, loss = 0.02812033\n",
      "Iteration 486, loss = 0.02806927\n",
      "Training loss did not improve more than tol=0.000100 for 10 consecutive epochs. Stopping.\n"
     ]
    },
    {
     "data": {
      "text/plain": [
       "MLPClassifier(max_iter=1000, verbose=True)"
      ]
     },
     "execution_count": 42,
     "metadata": {},
     "output_type": "execute_result"
    }
   ],
   "source": [
    "model_mlp = MLPClassifier( hidden_layer_sizes=(100,), max_iter=1000, verbose=True)\n",
    "model_mlp.fit( x_train, y_train )"
   ]
  },
  {
   "cell_type": "markdown",
   "id": "88789b9c",
   "metadata": {},
   "source": [
    "### Prediction ( test 1st row )"
   ]
  },
  {
   "cell_type": "markdown",
   "id": "64488cca",
   "metadata": {},
   "source": [
    "#### Test data Transform"
   ]
  },
  {
   "cell_type": "code",
   "execution_count": 82,
   "id": "3e4d73bf",
   "metadata": {
    "ExecuteTime": {
     "end_time": "2021-12-27T08:11:54.543307Z",
     "start_time": "2021-12-27T08:11:54.536317Z"
    }
   },
   "outputs": [
    {
     "data": {
      "text/plain": [
       "array([[-0.32047815, -0.32241488, -0.30118503, -0.06082305,  2.61859768,\n",
       "         0.52547029,  0.33932036,  0.58323024, -0.2624222 ,  4.36396188,\n",
       "        -0.0111472 , -0.04308103, -0.03312675, -0.01264886,  6.46275469,\n",
       "         1.95890044,  0.37719365,  6.14328178,  2.61507217,  4.61110813,\n",
       "        -0.27648698, -0.31632767, -0.25034621, -0.04550007,  1.31493035,\n",
       "         0.09938403,  0.1051353 ,  0.74349618, -0.21290752,  0.46629571]])"
      ]
     },
     "execution_count": 82,
     "metadata": {},
     "output_type": "execute_result"
    }
   ],
   "source": [
    "scaleF.transform(x_test.iloc[[0],:])"
   ]
  },
  {
   "cell_type": "markdown",
   "id": "f30a97ff",
   "metadata": {},
   "source": [
    "#### 1st row prediction"
   ]
  },
  {
   "cell_type": "code",
   "execution_count": 83,
   "id": "1721ab4c",
   "metadata": {
    "ExecuteTime": {
     "end_time": "2021-12-27T08:12:07.825287Z",
     "start_time": "2021-12-27T08:12:07.811325Z"
    }
   },
   "outputs": [
    {
     "data": {
      "text/plain": [
       "array([1])"
      ]
     },
     "execution_count": 83,
     "metadata": {},
     "output_type": "execute_result"
    }
   ],
   "source": [
    "model_mlp.predict(scaleF.transform(x_test.iloc[[0],:]))"
   ]
  },
  {
   "cell_type": "markdown",
   "id": "58100111",
   "metadata": {},
   "source": [
    "### Accuracy"
   ]
  },
  {
   "cell_type": "markdown",
   "id": "628f6690",
   "metadata": {},
   "source": [
    "#### Train data"
   ]
  },
  {
   "cell_type": "code",
   "execution_count": 84,
   "id": "01412171",
   "metadata": {
    "ExecuteTime": {
     "end_time": "2021-12-27T08:12:13.057225Z",
     "start_time": "2021-12-27T08:12:13.049247Z"
    }
   },
   "outputs": [
    {
     "data": {
      "text/plain": [
       "0.9949748743718593"
      ]
     },
     "execution_count": 84,
     "metadata": {},
     "output_type": "execute_result"
    }
   ],
   "source": [
    "model_mlp.score( x_train, y_train)"
   ]
  },
  {
   "cell_type": "markdown",
   "id": "4239ddfe",
   "metadata": {},
   "source": [
    "#### Test data"
   ]
  },
  {
   "cell_type": "code",
   "execution_count": 85,
   "id": "ba1ec4fa",
   "metadata": {
    "ExecuteTime": {
     "end_time": "2021-12-27T08:12:14.336508Z",
     "start_time": "2021-12-27T08:12:14.324588Z"
    }
   },
   "outputs": [
    {
     "data": {
      "text/plain": [
       "0.9649122807017544"
      ]
     },
     "execution_count": 85,
     "metadata": {},
     "output_type": "execute_result"
    }
   ],
   "source": [
    "model_mlp.score( x_test, y_test)"
   ]
  },
  {
   "cell_type": "code",
   "execution_count": null,
   "id": "b5b71c3d",
   "metadata": {},
   "outputs": [],
   "source": []
  },
  {
   "cell_type": "markdown",
   "id": "1482d53f",
   "metadata": {},
   "source": [
    "## Modeling(Keras version)"
   ]
  },
  {
   "cell_type": "markdown",
   "id": "8a8dfb0f",
   "metadata": {},
   "source": [
    "### label을 one-hot encoding 하지 않기 위해서 ==> loss='sparse_categorical_crossentropy' 사용"
   ]
  },
  {
   "cell_type": "code",
   "execution_count": 97,
   "id": "69fad755",
   "metadata": {
    "ExecuteTime": {
     "end_time": "2021-12-27T08:16:28.274714Z",
     "start_time": "2021-12-27T08:16:27.838868Z"
    }
   },
   "outputs": [
    {
     "name": "stdout",
     "output_type": "stream",
     "text": [
      "Epoch 1/10\n",
      "13/13 [==============================] - 0s 914us/step - loss: 0.6667 - acc: 0.7387\n",
      "Epoch 2/10\n",
      "13/13 [==============================] - 0s 748us/step - loss: 0.5995 - acc: 0.8869\n",
      "Epoch 3/10\n",
      "13/13 [==============================] - 0s 831us/step - loss: 0.5323 - acc: 0.9045\n",
      "Epoch 4/10\n",
      "13/13 [==============================] - 0s 913us/step - loss: 0.4629 - acc: 0.9171\n",
      "Epoch 5/10\n",
      "13/13 [==============================] - 0s 831us/step - loss: 0.3943 - acc: 0.9095\n",
      "Epoch 6/10\n",
      "13/13 [==============================] - 0s 831us/step - loss: 0.3338 - acc: 0.9221\n",
      "Epoch 7/10\n",
      "13/13 [==============================] - 0s 831us/step - loss: 0.2863 - acc: 0.9196\n",
      "Epoch 8/10\n",
      "13/13 [==============================] - 0s 831us/step - loss: 0.2518 - acc: 0.9271\n",
      "Epoch 9/10\n",
      "13/13 [==============================] - 0s 831us/step - loss: 0.2242 - acc: 0.9347\n",
      "Epoch 10/10\n",
      "13/13 [==============================] - 0s 914us/step - loss: 0.2045 - acc: 0.9347\n"
     ]
    },
    {
     "data": {
      "text/plain": [
       "<keras.callbacks.History at 0x27658ae5b80>"
      ]
     },
     "execution_count": 97,
     "metadata": {},
     "output_type": "execute_result"
    }
   ],
   "source": [
    "model = Sequential()\n",
    "\n",
    "model.add( Dense( units=64, activation='relu' ) )\n",
    "model.add( Dense( units=32, activation='relu' ) )\n",
    "model.add( Dense( units=1, activation='sigmoid' ) )\n",
    "model.compile( loss='binary_crossentropy',\n",
    "               optimizer='adam',\n",
    "               metrics=['acc'])\n",
    "                                                                         \n",
    "model.fit( x_train, y_train, epochs = 10)                    "
   ]
  },
  {
   "cell_type": "markdown",
   "id": "5b49635f",
   "metadata": {
    "ExecuteTime": {
     "end_time": "2021-12-27T08:06:40.289667Z",
     "start_time": "2021-12-27T08:06:40.279647Z"
    }
   },
   "source": [
    "### Prediction ( test 1st row )"
   ]
  },
  {
   "cell_type": "markdown",
   "id": "547f3935",
   "metadata": {},
   "source": [
    "#### Test data Transform"
   ]
  },
  {
   "cell_type": "code",
   "execution_count": 87,
   "id": "c67938fe",
   "metadata": {
    "ExecuteTime": {
     "end_time": "2021-12-27T08:12:45.915027Z",
     "start_time": "2021-12-27T08:12:45.898072Z"
    }
   },
   "outputs": [
    {
     "data": {
      "text/plain": [
       "array([[-0.32047815, -0.32241488, -0.30118503, -0.06082305,  2.61859768,\n",
       "         0.52547029,  0.33932036,  0.58323024, -0.2624222 ,  4.36396188,\n",
       "        -0.0111472 , -0.04308103, -0.03312675, -0.01264886,  6.46275469,\n",
       "         1.95890044,  0.37719365,  6.14328178,  2.61507217,  4.61110813,\n",
       "        -0.27648698, -0.31632767, -0.25034621, -0.04550007,  1.31493035,\n",
       "         0.09938403,  0.1051353 ,  0.74349618, -0.21290752,  0.46629571]])"
      ]
     },
     "execution_count": 87,
     "metadata": {},
     "output_type": "execute_result"
    }
   ],
   "source": [
    "scaleF.transform(x_test.iloc[[0],:])"
   ]
  },
  {
   "cell_type": "markdown",
   "id": "03ad93d3",
   "metadata": {},
   "source": [
    "#### 1st row prediction"
   ]
  },
  {
   "cell_type": "code",
   "execution_count": 88,
   "id": "7fb04948",
   "metadata": {
    "ExecuteTime": {
     "end_time": "2021-12-27T08:13:03.998528Z",
     "start_time": "2021-12-27T08:13:03.937242Z"
    }
   },
   "outputs": [
    {
     "data": {
      "text/plain": [
       "array([[1.]], dtype=float32)"
      ]
     },
     "execution_count": 88,
     "metadata": {},
     "output_type": "execute_result"
    }
   ],
   "source": [
    "model.predict(scaleF.transform(x_test.iloc[[0],:]))"
   ]
  },
  {
   "cell_type": "markdown",
   "id": "fa9efb5f",
   "metadata": {},
   "source": [
    "### Accuracy"
   ]
  },
  {
   "cell_type": "markdown",
   "id": "3572466d",
   "metadata": {},
   "source": [
    "#### Train data"
   ]
  },
  {
   "cell_type": "code",
   "execution_count": 99,
   "id": "62d137a9",
   "metadata": {
    "ExecuteTime": {
     "end_time": "2021-12-27T08:16:34.693740Z",
     "start_time": "2021-12-27T08:16:34.627916Z"
    }
   },
   "outputs": [
    {
     "name": "stdout",
     "output_type": "stream",
     "text": [
      "13/13 [==============================] - 0s 749us/step - loss: 0.1908 - acc: 0.9447\n"
     ]
    },
    {
     "data": {
      "text/plain": [
       "[0.19077038764953613, 0.9447236061096191]"
      ]
     },
     "execution_count": 99,
     "metadata": {},
     "output_type": "execute_result"
    }
   ],
   "source": [
    "model.evaluate(x_train, y_train)"
   ]
  },
  {
   "cell_type": "markdown",
   "id": "aecce62d",
   "metadata": {},
   "source": [
    "#### Test data"
   ]
  },
  {
   "cell_type": "code",
   "execution_count": 98,
   "id": "fdf1517c",
   "metadata": {
    "ExecuteTime": {
     "end_time": "2021-12-27T08:16:32.124606Z",
     "start_time": "2021-12-27T08:16:32.002507Z"
    }
   },
   "outputs": [
    {
     "name": "stdout",
     "output_type": "stream",
     "text": [
      "6/6 [==============================] - 0s 799us/step - loss: 0.2495 - acc: 0.9006\n"
     ]
    },
    {
     "data": {
      "text/plain": [
       "[0.2494667023420334, 0.9005848169326782]"
      ]
     },
     "execution_count": 98,
     "metadata": {},
     "output_type": "execute_result"
    }
   ],
   "source": [
    "model.evaluate(x_test, y_test)"
   ]
  },
  {
   "cell_type": "code",
   "execution_count": null,
   "id": "55178ef4",
   "metadata": {},
   "outputs": [],
   "source": []
  },
  {
   "cell_type": "code",
   "execution_count": null,
   "id": "c9b0631a",
   "metadata": {},
   "outputs": [],
   "source": []
  },
  {
   "cell_type": "code",
   "execution_count": null,
   "id": "ed1c45f3",
   "metadata": {},
   "outputs": [],
   "source": []
  },
  {
   "cell_type": "code",
   "execution_count": null,
   "id": "693ebb3e",
   "metadata": {},
   "outputs": [],
   "source": []
  },
  {
   "cell_type": "code",
   "execution_count": null,
   "id": "fc9ff40a",
   "metadata": {},
   "outputs": [],
   "source": []
  },
  {
   "cell_type": "markdown",
   "id": "71dd41d9",
   "metadata": {},
   "source": [
    "# Quiz2 (fashion)\n",
    "\n",
    "```\n",
    "2. fashion_mnist 데이터셋을 이용하여 딥러닝으로 처리하시요\n",
    "(sklearn, 케라스버전)\n",
    "1) test 1번째 이미지 예측\n",
    "2) train, test 정확도 구하기\n",
    "3) confusion matrix(heat map)을 통해 분류 확인\n",
    "\n",
    "0 : T-shirt/top\n",
    "1 : Trouser\n",
    "2 : Pullover\n",
    "3 : Dress\n",
    "4 : Coat\n",
    "5 : Sandal\n",
    "6 : Shirt\n",
    "7 : Sneaker\n",
    "8 : Bag\n",
    "9 : Ankel boot\n",
    "```"
   ]
  },
  {
   "cell_type": "markdown",
   "id": "021898a6",
   "metadata": {},
   "source": [
    "## Data"
   ]
  },
  {
   "cell_type": "code",
   "execution_count": 2,
   "id": "cd217ddd",
   "metadata": {
    "ExecuteTime": {
     "end_time": "2021-12-27T07:29:32.578031Z",
     "start_time": "2021-12-27T07:29:30.455746Z"
    }
   },
   "outputs": [],
   "source": [
    "from tensorflow.keras.datasets.fashion_mnist import load_data"
   ]
  },
  {
   "cell_type": "code",
   "execution_count": 5,
   "id": "681af5df",
   "metadata": {
    "ExecuteTime": {
     "end_time": "2021-12-27T07:33:13.077579Z",
     "start_time": "2021-12-27T07:32:49.860608Z"
    }
   },
   "outputs": [
    {
     "name": "stdout",
     "output_type": "stream",
     "text": [
      "Downloading data from https://storage.googleapis.com/tensorflow/tf-keras-datasets/train-labels-idx1-ubyte.gz\n",
      "32768/29515 [=================================] - 0s 1us/step\n",
      "40960/29515 [=========================================] - 0s 1us/step\n",
      "Downloading data from https://storage.googleapis.com/tensorflow/tf-keras-datasets/train-images-idx3-ubyte.gz\n",
      "26427392/26421880 [==============================] - 19s 1us/step\n",
      "26435584/26421880 [==============================] - 19s 1us/step\n",
      "Downloading data from https://storage.googleapis.com/tensorflow/tf-keras-datasets/t10k-labels-idx1-ubyte.gz\n",
      "16384/5148 [===============================================================================================] - 0s 0s/step\n",
      "Downloading data from https://storage.googleapis.com/tensorflow/tf-keras-datasets/t10k-images-idx3-ubyte.gz\n",
      "4423680/4422102 [==============================] - 3s 1us/step\n",
      "4431872/4422102 [==============================] - 3s 1us/step\n"
     ]
    },
    {
     "data": {
      "text/plain": [
       "((array([[[0, 0, 0, ..., 0, 0, 0],\n",
       "          [0, 0, 0, ..., 0, 0, 0],\n",
       "          [0, 0, 0, ..., 0, 0, 0],\n",
       "          ...,\n",
       "          [0, 0, 0, ..., 0, 0, 0],\n",
       "          [0, 0, 0, ..., 0, 0, 0],\n",
       "          [0, 0, 0, ..., 0, 0, 0]],\n",
       "  \n",
       "         [[0, 0, 0, ..., 0, 0, 0],\n",
       "          [0, 0, 0, ..., 0, 0, 0],\n",
       "          [0, 0, 0, ..., 0, 0, 0],\n",
       "          ...,\n",
       "          [0, 0, 0, ..., 0, 0, 0],\n",
       "          [0, 0, 0, ..., 0, 0, 0],\n",
       "          [0, 0, 0, ..., 0, 0, 0]],\n",
       "  \n",
       "         [[0, 0, 0, ..., 0, 0, 0],\n",
       "          [0, 0, 0, ..., 0, 0, 0],\n",
       "          [0, 0, 0, ..., 0, 0, 0],\n",
       "          ...,\n",
       "          [0, 0, 0, ..., 0, 0, 0],\n",
       "          [0, 0, 0, ..., 0, 0, 0],\n",
       "          [0, 0, 0, ..., 0, 0, 0]],\n",
       "  \n",
       "         ...,\n",
       "  \n",
       "         [[0, 0, 0, ..., 0, 0, 0],\n",
       "          [0, 0, 0, ..., 0, 0, 0],\n",
       "          [0, 0, 0, ..., 0, 0, 0],\n",
       "          ...,\n",
       "          [0, 0, 0, ..., 0, 0, 0],\n",
       "          [0, 0, 0, ..., 0, 0, 0],\n",
       "          [0, 0, 0, ..., 0, 0, 0]],\n",
       "  \n",
       "         [[0, 0, 0, ..., 0, 0, 0],\n",
       "          [0, 0, 0, ..., 0, 0, 0],\n",
       "          [0, 0, 0, ..., 0, 0, 0],\n",
       "          ...,\n",
       "          [0, 0, 0, ..., 0, 0, 0],\n",
       "          [0, 0, 0, ..., 0, 0, 0],\n",
       "          [0, 0, 0, ..., 0, 0, 0]],\n",
       "  \n",
       "         [[0, 0, 0, ..., 0, 0, 0],\n",
       "          [0, 0, 0, ..., 0, 0, 0],\n",
       "          [0, 0, 0, ..., 0, 0, 0],\n",
       "          ...,\n",
       "          [0, 0, 0, ..., 0, 0, 0],\n",
       "          [0, 0, 0, ..., 0, 0, 0],\n",
       "          [0, 0, 0, ..., 0, 0, 0]]], dtype=uint8),\n",
       "  array([9, 0, 0, ..., 3, 0, 5], dtype=uint8)),\n",
       " (array([[[0, 0, 0, ..., 0, 0, 0],\n",
       "          [0, 0, 0, ..., 0, 0, 0],\n",
       "          [0, 0, 0, ..., 0, 0, 0],\n",
       "          ...,\n",
       "          [0, 0, 0, ..., 0, 0, 0],\n",
       "          [0, 0, 0, ..., 0, 0, 0],\n",
       "          [0, 0, 0, ..., 0, 0, 0]],\n",
       "  \n",
       "         [[0, 0, 0, ..., 0, 0, 0],\n",
       "          [0, 0, 0, ..., 0, 0, 0],\n",
       "          [0, 0, 0, ..., 0, 0, 0],\n",
       "          ...,\n",
       "          [0, 0, 0, ..., 0, 0, 0],\n",
       "          [0, 0, 0, ..., 0, 0, 0],\n",
       "          [0, 0, 0, ..., 0, 0, 0]],\n",
       "  \n",
       "         [[0, 0, 0, ..., 0, 0, 0],\n",
       "          [0, 0, 0, ..., 0, 0, 0],\n",
       "          [0, 0, 0, ..., 0, 0, 0],\n",
       "          ...,\n",
       "          [0, 0, 0, ..., 0, 0, 0],\n",
       "          [0, 0, 0, ..., 0, 0, 0],\n",
       "          [0, 0, 0, ..., 0, 0, 0]],\n",
       "  \n",
       "         ...,\n",
       "  \n",
       "         [[0, 0, 0, ..., 0, 0, 0],\n",
       "          [0, 0, 0, ..., 0, 0, 0],\n",
       "          [0, 0, 0, ..., 0, 0, 0],\n",
       "          ...,\n",
       "          [0, 0, 0, ..., 0, 0, 0],\n",
       "          [0, 0, 0, ..., 0, 0, 0],\n",
       "          [0, 0, 0, ..., 0, 0, 0]],\n",
       "  \n",
       "         [[0, 0, 0, ..., 0, 0, 0],\n",
       "          [0, 0, 0, ..., 0, 0, 0],\n",
       "          [0, 0, 0, ..., 0, 0, 0],\n",
       "          ...,\n",
       "          [0, 0, 0, ..., 0, 0, 0],\n",
       "          [0, 0, 0, ..., 0, 0, 0],\n",
       "          [0, 0, 0, ..., 0, 0, 0]],\n",
       "  \n",
       "         [[0, 0, 0, ..., 0, 0, 0],\n",
       "          [0, 0, 0, ..., 0, 0, 0],\n",
       "          [0, 0, 0, ..., 0, 0, 0],\n",
       "          ...,\n",
       "          [0, 0, 0, ..., 0, 0, 0],\n",
       "          [0, 0, 0, ..., 0, 0, 0],\n",
       "          [0, 0, 0, ..., 0, 0, 0]]], dtype=uint8),\n",
       "  array([9, 2, 1, ..., 8, 1, 5], dtype=uint8)))"
      ]
     },
     "execution_count": 5,
     "metadata": {},
     "output_type": "execute_result"
    }
   ],
   "source": [
    "fashion = load_data()\n",
    "fashion"
   ]
  },
  {
   "cell_type": "markdown",
   "id": "71e92904",
   "metadata": {},
   "source": [
    "### 변수에 초기화"
   ]
  },
  {
   "cell_type": "code",
   "execution_count": 102,
   "id": "25944bce",
   "metadata": {
    "ExecuteTime": {
     "end_time": "2021-12-27T08:19:10.883305Z",
     "start_time": "2021-12-27T08:19:10.878277Z"
    }
   },
   "outputs": [],
   "source": [
    "(x_train, y_train), (x_test, y_test) = fashion"
   ]
  },
  {
   "cell_type": "markdown",
   "id": "cb205c65",
   "metadata": {},
   "source": [
    "### 형태 확인"
   ]
  },
  {
   "cell_type": "code",
   "execution_count": 104,
   "id": "0f27e6c1",
   "metadata": {
    "ExecuteTime": {
     "end_time": "2021-12-27T08:19:57.060859Z",
     "start_time": "2021-12-27T08:19:57.043905Z"
    }
   },
   "outputs": [
    {
     "data": {
      "text/plain": [
       "((60000, 28, 28), (10000, 28, 28))"
      ]
     },
     "execution_count": 104,
     "metadata": {},
     "output_type": "execute_result"
    }
   ],
   "source": [
    "x_train.shape, x_test.shape"
   ]
  },
  {
   "cell_type": "code",
   "execution_count": null,
   "id": "55bfcb01",
   "metadata": {},
   "outputs": [],
   "source": []
  },
  {
   "cell_type": "markdown",
   "id": "717704f5",
   "metadata": {},
   "source": [
    "## Modeling(sklearn version)"
   ]
  },
  {
   "cell_type": "markdown",
   "id": "4f34795f",
   "metadata": {},
   "source": [
    "### 학습 전, shape 확인"
   ]
  },
  {
   "cell_type": "markdown",
   "id": "50e3c065",
   "metadata": {},
   "source": [
    "#### reshape"
   ]
  },
  {
   "cell_type": "code",
   "execution_count": 110,
   "id": "8ae9b55c",
   "metadata": {
    "ExecuteTime": {
     "end_time": "2021-12-27T08:21:28.552669Z",
     "start_time": "2021-12-27T08:21:28.543661Z"
    }
   },
   "outputs": [
    {
     "data": {
      "text/plain": [
       "(60000, 784)"
      ]
     },
     "execution_count": 110,
     "metadata": {},
     "output_type": "execute_result"
    }
   ],
   "source": [
    "x_train.reshape(60000, 28*28).shape"
   ]
  },
  {
   "cell_type": "code",
   "execution_count": 112,
   "id": "8f50b13f",
   "metadata": {
    "ExecuteTime": {
     "end_time": "2021-12-27T08:22:11.889850Z",
     "start_time": "2021-12-27T08:22:11.881927Z"
    }
   },
   "outputs": [
    {
     "data": {
      "text/plain": [
       "(60000,)"
      ]
     },
     "execution_count": 112,
     "metadata": {},
     "output_type": "execute_result"
    }
   ],
   "source": [
    "y_train.shape"
   ]
  },
  {
   "cell_type": "code",
   "execution_count": 113,
   "id": "df19113f",
   "metadata": {
    "ExecuteTime": {
     "end_time": "2021-12-27T08:24:22.574088Z",
     "start_time": "2021-12-27T08:23:07.233495Z"
    },
    "scrolled": true
   },
   "outputs": [
    {
     "name": "stdout",
     "output_type": "stream",
     "text": [
      "Iteration 1, loss = 5.56043930\n",
      "Iteration 2, loss = 2.37616333\n",
      "Iteration 3, loss = 0.94659179\n",
      "Iteration 4, loss = 0.69008752\n",
      "Iteration 5, loss = 0.59238261\n",
      "Iteration 6, loss = 0.53121965\n",
      "Iteration 7, loss = 0.49166288\n",
      "Iteration 8, loss = 0.47039345\n",
      "Iteration 9, loss = 0.44679173\n",
      "Iteration 10, loss = 0.43836080\n",
      "Iteration 11, loss = 0.42207744\n",
      "Iteration 12, loss = 0.40771180\n",
      "Iteration 13, loss = 0.40295265\n",
      "Iteration 14, loss = 0.39054381\n",
      "Iteration 15, loss = 0.38386451\n",
      "Iteration 16, loss = 0.38073445\n",
      "Iteration 17, loss = 0.37901039\n",
      "Iteration 18, loss = 0.37492645\n",
      "Iteration 19, loss = 0.37608614\n",
      "Iteration 20, loss = 0.37306838\n",
      "Iteration 21, loss = 0.36603759\n",
      "Iteration 22, loss = 0.36452429\n",
      "Iteration 23, loss = 0.36184068\n",
      "Iteration 24, loss = 0.35610752\n",
      "Iteration 25, loss = 0.34821292\n",
      "Iteration 26, loss = 0.34918147\n",
      "Iteration 27, loss = 0.33940948\n",
      "Iteration 28, loss = 0.35042118\n",
      "Iteration 29, loss = 0.34278659\n",
      "Iteration 30, loss = 0.33988397\n",
      "Iteration 31, loss = 0.33922612\n",
      "Iteration 32, loss = 0.33088378\n",
      "Iteration 33, loss = 0.32892502\n",
      "Iteration 34, loss = 0.32837848\n",
      "Iteration 35, loss = 0.32465763\n",
      "Iteration 36, loss = 0.32197706\n",
      "Iteration 37, loss = 0.31825290\n",
      "Iteration 38, loss = 0.31878175\n",
      "Iteration 39, loss = 0.31556652\n",
      "Iteration 40, loss = 0.32045114\n",
      "Iteration 41, loss = 0.31962714\n",
      "Iteration 42, loss = 0.30912007\n",
      "Iteration 43, loss = 0.30878247\n",
      "Iteration 44, loss = 0.30504050\n",
      "Iteration 45, loss = 0.30928471\n",
      "Iteration 46, loss = 0.30590663\n",
      "Iteration 47, loss = 0.29693416\n",
      "Iteration 48, loss = 0.29793659\n",
      "Iteration 49, loss = 0.30983899\n",
      "Iteration 50, loss = 0.30267831\n",
      "Iteration 51, loss = 0.30011710\n",
      "Iteration 52, loss = 0.29684466\n",
      "Iteration 53, loss = 0.29522338\n",
      "Iteration 54, loss = 0.29523525\n",
      "Iteration 55, loss = 0.29941912\n",
      "Iteration 56, loss = 0.30106463\n",
      "Iteration 57, loss = 0.29022792\n",
      "Iteration 58, loss = 0.28805324\n",
      "Iteration 59, loss = 0.29417468\n",
      "Iteration 60, loss = 0.28626042\n",
      "Iteration 61, loss = 0.28966181\n",
      "Iteration 62, loss = 0.28782573\n",
      "Iteration 63, loss = 0.28539549\n",
      "Iteration 64, loss = 0.29325105\n",
      "Iteration 65, loss = 0.28060249\n",
      "Iteration 66, loss = 0.32044587\n",
      "Iteration 67, loss = 0.29125146\n",
      "Iteration 68, loss = 0.28907362\n",
      "Iteration 69, loss = 0.28259412\n",
      "Iteration 70, loss = 0.28013710\n",
      "Iteration 71, loss = 0.27607520\n",
      "Iteration 72, loss = 0.27640312\n",
      "Iteration 73, loss = 0.27296523\n",
      "Iteration 74, loss = 0.28210058\n",
      "Iteration 75, loss = 0.28066743\n",
      "Iteration 76, loss = 0.27394527\n",
      "Iteration 77, loss = 0.27733025\n",
      "Iteration 78, loss = 0.28048283\n",
      "Iteration 79, loss = 0.28002239\n",
      "Iteration 80, loss = 0.27461541\n",
      "Iteration 81, loss = 0.27026838\n",
      "Iteration 82, loss = 0.26682789\n",
      "Iteration 83, loss = 0.27567379\n",
      "Iteration 84, loss = 0.27525465\n",
      "Iteration 85, loss = 0.27325692\n",
      "Iteration 86, loss = 0.28315906\n",
      "Iteration 87, loss = 0.27141672\n",
      "Iteration 88, loss = 0.26601295\n",
      "Iteration 89, loss = 0.27428310\n",
      "Iteration 90, loss = 0.28284130\n",
      "Iteration 91, loss = 0.26944020\n",
      "Iteration 92, loss = 0.26800546\n",
      "Iteration 93, loss = 0.26322776\n",
      "Iteration 94, loss = 0.26390871\n",
      "Iteration 95, loss = 0.27511194\n",
      "Iteration 96, loss = 0.26750428\n",
      "Iteration 97, loss = 0.26859218\n",
      "Iteration 98, loss = 0.26561542\n",
      "Iteration 99, loss = 0.25738135\n",
      "Iteration 100, loss = 0.25894932\n",
      "Iteration 101, loss = 0.27348302\n",
      "Iteration 102, loss = 0.29160409\n",
      "Iteration 103, loss = 0.27396410\n",
      "Iteration 104, loss = 0.26550552\n",
      "Iteration 105, loss = 0.28283376\n",
      "Iteration 106, loss = 0.26604274\n",
      "Iteration 107, loss = 0.26569220\n",
      "Iteration 108, loss = 0.26413054\n",
      "Iteration 109, loss = 0.26371643\n",
      "Iteration 110, loss = 0.26408117\n",
      "Training loss did not improve more than tol=0.000100 for 10 consecutive epochs. Stopping.\n"
     ]
    },
    {
     "data": {
      "text/plain": [
       "MLPClassifier(max_iter=1000, verbose=True)"
      ]
     },
     "execution_count": 113,
     "metadata": {},
     "output_type": "execute_result"
    }
   ],
   "source": [
    "model_mlp = MLPClassifier( hidden_layer_sizes=(100,), max_iter=1000, verbose=True)\n",
    "model_mlp.fit( x_train.reshape(60000, 28*28), y_train )"
   ]
  },
  {
   "cell_type": "code",
   "execution_count": null,
   "id": "f96b23a7",
   "metadata": {},
   "outputs": [],
   "source": []
  },
  {
   "cell_type": "markdown",
   "id": "d7975223",
   "metadata": {},
   "source": [
    "### Prediction ( test 1st row )"
   ]
  },
  {
   "cell_type": "code",
   "execution_count": 119,
   "id": "da829189",
   "metadata": {
    "ExecuteTime": {
     "end_time": "2021-12-27T08:26:12.601188Z",
     "start_time": "2021-12-27T08:26:12.587356Z"
    },
    "scrolled": true
   },
   "outputs": [
    {
     "data": {
      "text/plain": [
       "array([[  0,   0,   0,   0,   0,   0,   0,   0,   0,   0,   0,   0,   0,\n",
       "          0,   0,   0,   0,   0,   0,   0,   0,   0,   0,   0,   0,   0,\n",
       "          0,   0,   0,   0,   0,   0,   0,   0,   0,   0,   0,   0,   0,\n",
       "          0,   0,   0,   0,   0,   0,   0,   0,   0,   0,   0,   0,   0,\n",
       "          0,   0,   0,   0,   0,   0,   0,   0,   0,   0,   0,   0,   0,\n",
       "          0,   0,   0,   0,   0,   0,   0,   0,   0,   0,   0,   0,   0,\n",
       "          0,   0,   0,   0,   0,   0,   0,   0,   0,   0,   0,   0,   0,\n",
       "          0,   0,   0,   0,   0,   0,   0,   0,   0,   0,   0,   0,   0,\n",
       "          0,   0,   0,   0,   0,   0,   0,   0,   0,   0,   0,   0,   0,\n",
       "          0,   0,   0,   0,   0,   0,   0,   0,   0,   0,   0,   0,   0,\n",
       "          0,   0,   0,   0,   0,   0,   0,   0,   0,   0,   0,   0,   0,\n",
       "          0,   0,   0,   0,   0,   0,   0,   0,   0,   0,   0,   0,   0,\n",
       "          0,   0,   0,   0,   0,   0,   0,   0,   0,   0,   0,   0,   0,\n",
       "          0,   0,   0,   0,   0,   0,   0,   0,   0,   0,   0,   0,   0,\n",
       "          0,   0,   0,   0,   0,   0,   0,   0,   0,   0,   0,   0,   0,\n",
       "          0,   0,   0,   0,   0,   0,   0,   0,   0,   0,   0,   0,   0,\n",
       "          0,   0,   0,   0,   0,   0,   0,   3,   1,   0,   0,   7,   0,\n",
       "         37,   0,   0,   0,   0,   0,   0,   0,   0,   0,   0,   0,   0,\n",
       "          0,   0,   0,   1,   2,   0,  27,  84,  11,   0,   0,   0,   0,\n",
       "          0,   0, 119,   0,   0,   0,   0,   0,   0,   0,   0,   0,   0,\n",
       "          0,   0,   0,   0,   0,   1,   0,   0,  88, 143, 110,   0,   0,\n",
       "          0,   0,  22,  93, 106,   0,   0,   0,   0,   0,   0,   0,   0,\n",
       "          0,   0,   0,   0,   0,   0,   0,   4,   0,  53, 129, 120, 147,\n",
       "        175, 157, 166, 135, 154, 168, 140,   0,   0,   0,   0,   0,   0,\n",
       "          0,   0,   0,   0,   0,   0,   0,   0,   2,   0,  11, 137, 130,\n",
       "        128, 160, 176, 159, 167, 178, 149, 151, 144,   0,   0,   0,   0,\n",
       "          0,   0,   0,   0,   1,   0,   2,   1,   0,   3,   0,   0, 115,\n",
       "        114, 106, 137, 168, 153, 156, 165, 167, 143, 157, 158,  11,   0,\n",
       "          0,   0,   0,   0,   1,   0,   0,   0,   0,   0,   3,   0,   0,\n",
       "         89, 139,  90,  94, 153, 149, 131, 151, 169, 172, 143, 159, 169,\n",
       "         48,   0,   0,   0,   0,   0,   0,   0,   2,   4,   1,   0,   0,\n",
       "          0,  98, 136, 110, 109, 110, 162, 135, 144, 149, 159, 167, 144,\n",
       "        158, 169, 119,   0,   0,   0,   2,   2,   1,   2,   0,   0,   0,\n",
       "          0,  26, 108, 117,  99, 111, 117, 136, 156, 134, 154, 154, 156,\n",
       "        160, 141, 147, 156, 178,   0,   3,   0,   0,   0,   0,   0,   0,\n",
       "         21,  53,  92, 117, 111, 103, 115, 129, 134, 143, 154, 165, 170,\n",
       "        154, 151, 154, 143, 138, 150, 165,  43,   0,   0,  23,  54,  65,\n",
       "         76,  85, 118, 128, 123, 111, 113, 118, 127, 125, 139, 133, 136,\n",
       "        160, 140, 155, 161, 144, 155, 172, 161, 189,  62,   0,  68,  94,\n",
       "         90, 111, 114, 111, 114, 115, 127, 135, 136, 143, 126, 127, 151,\n",
       "        154, 143, 148, 125, 162, 162, 144, 138, 153, 162, 196,  58,  70,\n",
       "        169, 129, 104,  98, 100,  94,  97,  98, 102, 108, 106, 119, 120,\n",
       "        129, 149, 156, 167, 190, 190, 196, 198, 198, 187, 197, 189, 184,\n",
       "         36,  16, 126, 171, 188, 188, 184, 171, 153, 135, 120, 126, 127,\n",
       "        146, 185, 195, 209, 208, 255, 209, 177, 245, 252, 251, 251, 247,\n",
       "        220, 206,  49,   0,   0,   0,  12,  67, 106, 164, 185, 199, 210,\n",
       "        211, 210, 208, 190, 150,  82,   8,   0,   0,   0, 178, 208, 188,\n",
       "        175, 162, 158, 151,  11,   0,   0,   0,   0,   0,   0,   0,   0,\n",
       "          0,   0,   0,   0,   0,   0,   0,   0,   0,   0,   0,   0,   0,\n",
       "          0,   0,   0,   0,   0,   0,   0,   0,   0,   0,   0,   0,   0,\n",
       "          0,   0,   0,   0,   0,   0,   0,   0,   0,   0,   0,   0,   0,\n",
       "          0,   0,   0,   0,   0,   0,   0,   0,   0,   0,   0,   0,   0,\n",
       "          0,   0,   0,   0,   0,   0,   0,   0,   0,   0,   0,   0,   0,\n",
       "          0,   0,   0,   0,   0,   0,   0,   0,   0,   0,   0,   0,   0,\n",
       "          0,   0,   0,   0,   0,   0,   0,   0,   0,   0,   0,   0,   0,\n",
       "          0,   0,   0,   0,   0,   0,   0,   0,   0,   0,   0,   0,   0,\n",
       "          0,   0,   0,   0,   0,   0,   0,   0,   0,   0,   0,   0,   0,\n",
       "          0,   0,   0,   0,   0,   0,   0,   0,   0,   0,   0,   0,   0,\n",
       "          0,   0,   0,   0,   0,   0,   0,   0,   0,   0,   0,   0,   0,\n",
       "          0,   0,   0,   0,   0,   0,   0,   0,   0,   0,   0,   0,   0,\n",
       "          0,   0,   0,   0]], dtype=uint8)"
      ]
     },
     "execution_count": 119,
     "metadata": {},
     "output_type": "execute_result"
    }
   ],
   "source": [
    "x_test[0].reshape(1, 28*28)"
   ]
  },
  {
   "cell_type": "code",
   "execution_count": 120,
   "id": "0e2e0096",
   "metadata": {
    "ExecuteTime": {
     "end_time": "2021-12-27T08:26:19.221520Z",
     "start_time": "2021-12-27T08:26:19.211548Z"
    }
   },
   "outputs": [
    {
     "data": {
      "text/plain": [
       "array([9], dtype=uint8)"
      ]
     },
     "execution_count": 120,
     "metadata": {},
     "output_type": "execute_result"
    }
   ],
   "source": [
    "model_mlp.predict(x_test[0].reshape(1, 28*28))"
   ]
  },
  {
   "cell_type": "code",
   "execution_count": null,
   "id": "9e1f671a",
   "metadata": {},
   "outputs": [],
   "source": []
  },
  {
   "cell_type": "markdown",
   "id": "b6179a2b",
   "metadata": {},
   "source": [
    "### Accuracy"
   ]
  },
  {
   "cell_type": "markdown",
   "id": "578a70b5",
   "metadata": {},
   "source": [
    "#### Train data"
   ]
  },
  {
   "cell_type": "code",
   "execution_count": 128,
   "id": "236d7327",
   "metadata": {
    "ExecuteTime": {
     "end_time": "2021-12-27T08:27:46.620447Z",
     "start_time": "2021-12-27T08:27:46.411474Z"
    }
   },
   "outputs": [
    {
     "data": {
      "text/plain": [
       "0.9031"
      ]
     },
     "execution_count": 128,
     "metadata": {},
     "output_type": "execute_result"
    }
   ],
   "source": [
    "model_mlp.score( x_train.reshape(60000, 28*28), y_train)"
   ]
  },
  {
   "cell_type": "markdown",
   "id": "05c467ca",
   "metadata": {},
   "source": [
    "#### Test data"
   ]
  },
  {
   "cell_type": "code",
   "execution_count": 125,
   "id": "784ffcec",
   "metadata": {
    "ExecuteTime": {
     "end_time": "2021-12-27T08:27:20.861637Z",
     "start_time": "2021-12-27T08:27:20.811769Z"
    }
   },
   "outputs": [
    {
     "data": {
      "text/plain": [
       "0.8544"
      ]
     },
     "execution_count": 125,
     "metadata": {},
     "output_type": "execute_result"
    }
   ],
   "source": [
    "model_mlp.score( x_test.reshape(10000, 28*28), y_test)"
   ]
  },
  {
   "cell_type": "code",
   "execution_count": null,
   "id": "968b70fd",
   "metadata": {},
   "outputs": [],
   "source": []
  },
  {
   "cell_type": "markdown",
   "id": "6c23ad6b",
   "metadata": {},
   "source": [
    "### confusion matrix(heatmap)"
   ]
  },
  {
   "cell_type": "code",
   "execution_count": 140,
   "id": "c3b67e41",
   "metadata": {
    "ExecuteTime": {
     "end_time": "2021-12-27T08:34:28.560968Z",
     "start_time": "2021-12-27T08:34:28.379416Z"
    }
   },
   "outputs": [],
   "source": [
    "from sklearn.metrics import confusion_matrix\n",
    "import seaborn as sns"
   ]
  },
  {
   "cell_type": "code",
   "execution_count": 141,
   "id": "a17b4862",
   "metadata": {
    "ExecuteTime": {
     "end_time": "2021-12-27T08:34:29.873897Z",
     "start_time": "2021-12-27T08:34:29.857940Z"
    }
   },
   "outputs": [],
   "source": [
    "import numpy as np\n",
    "import pandas as pd\n",
    "import os\n",
    "\n",
    "import matplotlib\n",
    "import matplotlib.pyplot as plt\n",
    "import seaborn as sns\n",
    "\n",
    "%matplotlib inline\n",
    "\n",
    "# 관련 라이브러리 임포트 \n",
    "import matplotlib.font_manager as fm\n",
    "\n",
    "#  한글글꼴로 변경\n",
    "# plt.rcParams['font.family'] = '한글글꼴명'\n",
    "plt.rcParams['font.size'] = 11.0\n",
    "# plt.rcParams['font.family'] = 'batang'\n",
    "plt.rcParams['font.family'] = 'Malgun Gothic'\n",
    "\n",
    "# 그래프에서 마이너스 폰트 깨지는 문제에 대한 대처\n",
    "matplotlib.rcParams['axes.unicode_minus'] = False"
   ]
  },
  {
   "cell_type": "code",
   "execution_count": 142,
   "id": "dad54ae7",
   "metadata": {
    "ExecuteTime": {
     "end_time": "2021-12-27T08:34:32.660514Z",
     "start_time": "2021-12-27T08:34:32.655514Z"
    }
   },
   "outputs": [],
   "source": [
    "plt.rcParams['figure.figsize'] = [14, 9]\n",
    "plt.rcParams['xtick.labelsize'] = 15\n",
    "plt.rcParams['ytick.labelsize'] = 15\n",
    "plt.rcParams['axes.titlesize'] = 30\n",
    "plt.rcParams['axes.labelsize'] = 25"
   ]
  },
  {
   "cell_type": "code",
   "execution_count": null,
   "id": "35e9e298",
   "metadata": {},
   "outputs": [],
   "source": []
  },
  {
   "cell_type": "markdown",
   "id": "caaad609",
   "metadata": {},
   "source": [
    "#### Train data"
   ]
  },
  {
   "cell_type": "code",
   "execution_count": 146,
   "id": "4bf96a3f",
   "metadata": {
    "ExecuteTime": {
     "end_time": "2021-12-27T08:36:48.861698Z",
     "start_time": "2021-12-27T08:36:48.607826Z"
    }
   },
   "outputs": [
    {
     "data": {
      "text/plain": [
       "array([[5108,    7,  113,  233,    8,    0,  500,    0,   31,    0],\n",
       "       [   4, 5908,    2,   61,    2,    0,   20,    0,    3,    0],\n",
       "       [  25,    7, 5106,   42,  371,    0,  443,    0,    6,    0],\n",
       "       [  76,    6,   42, 5657,   85,    0,  133,    0,    1,    0],\n",
       "       [   2,    0,  614,  246, 4626,    0,  506,    0,    6,    0],\n",
       "       [   1,    1,    0,    0,    0, 5970,    5,    6,   12,    5],\n",
       "       [ 765,    0,  650,  112,  185,    0, 4253,    0,   35,    0],\n",
       "       [   2,    0,    0,    0,    0,   36,    3, 5812,   13,  134],\n",
       "       [   3,    1,    0,   14,    4,    0,   98,    0, 5880,    0],\n",
       "       [   0,    0,    0,    0,    0,    5,    4,  121,    4, 5866]],\n",
       "      dtype=int64)"
      ]
     },
     "execution_count": 146,
     "metadata": {},
     "output_type": "execute_result"
    }
   ],
   "source": [
    "confusion_matrix(y_train, model_mlp.predict(x_train.reshape(60000, 28*28)))"
   ]
  },
  {
   "cell_type": "code",
   "execution_count": 147,
   "id": "00795a4f",
   "metadata": {
    "ExecuteTime": {
     "end_time": "2021-12-27T08:37:00.806474Z",
     "start_time": "2021-12-27T08:36:59.634669Z"
    }
   },
   "outputs": [
    {
     "data": {
      "image/png": "[encoded data removed]",
      "text/plain": [
       "<Figure size 1008x648 with 2 Axes>"
      ]
     },
     "metadata": {
      "needs_background": "light"
     },
     "output_type": "display_data"
    }
   ],
   "source": [
    "sns.heatmap(confusion_matrix(y_train, model_mlp.predict(x_train.reshape(60000, 28*28))),\n",
    "            annot=True,\n",
    "            annot_kws={'size': 20},\n",
    "            cmap='Reds',\n",
    "            fmt = 'd',                             # 지수로 안나오고 정수로 나오게\n",
    "            linewidths=0.5\n",
    "           );"
   ]
  },
  {
   "cell_type": "code",
   "execution_count": null,
   "id": "658f44a2",
   "metadata": {},
   "outputs": [],
   "source": []
  },
  {
   "cell_type": "markdown",
   "id": "4cfbd047",
   "metadata": {},
   "source": [
    "#### Test data"
   ]
  },
  {
   "cell_type": "code",
   "execution_count": 148,
   "id": "1784e70f",
   "metadata": {
    "ExecuteTime": {
     "end_time": "2021-12-27T08:37:33.369834Z",
     "start_time": "2021-12-27T08:37:33.307999Z"
    }
   },
   "outputs": [
    {
     "data": {
      "text/plain": [
       "array([[787,   3,  27,  65,   2,   1, 104,   0,  11,   0],\n",
       "       [  3, 954,   3,  32,   2,   0,   3,   0,   3,   0],\n",
       "       [ 12,   3, 793,   7,  72,   0, 108,   0,   5,   0],\n",
       "       [ 25,  17,  11, 876,  21,   0,  42,   0,   8,   0],\n",
       "       [  2,   1, 138,  47, 690,   1, 117,   0,   4,   0],\n",
       "       [  0,   0,   0,   0,   0, 955,   1,  26,   7,  11],\n",
       "       [119,   3, 133,  39,  56,   1, 635,   0,  14,   0],\n",
       "       [  0,   0,   0,   0,   0,  20,   0, 942,   5,  33],\n",
       "       [  3,   0,   3,   6,   1,   4,  22,   2, 959,   0],\n",
       "       [  0,   0,   0,   0,   0,   6,   2,  38,   1, 953]], dtype=int64)"
      ]
     },
     "execution_count": 148,
     "metadata": {},
     "output_type": "execute_result"
    }
   ],
   "source": [
    "confusion_matrix(y_test, model_mlp.predict(x_test.reshape(10000, 28*28)))"
   ]
  },
  {
   "cell_type": "code",
   "execution_count": 149,
   "id": "b7dcfe59",
   "metadata": {
    "ExecuteTime": {
     "end_time": "2021-12-27T08:37:39.585885Z",
     "start_time": "2021-12-27T08:37:38.670868Z"
    }
   },
   "outputs": [
    {
     "data": {
      "image/png": "[encoded data removed]",
      "text/plain": [
       "<Figure size 1008x648 with 2 Axes>"
      ]
     },
     "metadata": {
      "needs_background": "light"
     },
     "output_type": "display_data"
    }
   ],
   "source": [
    "sns.heatmap(confusion_matrix(y_test, model_mlp.predict(x_test.reshape(10000, 28*28))),\n",
    "            annot=True,\n",
    "            annot_kws={'size': 20},\n",
    "            cmap='Reds',\n",
    "            fmt = 'd',                             # 지수로 안나오고 정수로 나오게\n",
    "            linewidths=0.5\n",
    "           );"
   ]
  },
  {
   "cell_type": "code",
   "execution_count": null,
   "id": "c8f937a6",
   "metadata": {},
   "outputs": [],
   "source": []
  },
  {
   "cell_type": "code",
   "execution_count": null,
   "id": "aa0d2e05",
   "metadata": {},
   "outputs": [],
   "source": []
  },
  {
   "cell_type": "markdown",
   "id": "1b3a07f9",
   "metadata": {},
   "source": [
    "## Modeling(Keras version)"
   ]
  },
  {
   "cell_type": "code",
   "execution_count": 129,
   "id": "e3cc0a4d",
   "metadata": {
    "ExecuteTime": {
     "end_time": "2021-12-27T08:29:43.559214Z",
     "start_time": "2021-12-27T08:29:28.513443Z"
    }
   },
   "outputs": [
    {
     "name": "stdout",
     "output_type": "stream",
     "text": [
      "Epoch 1/10\n",
      "1875/1875 [==============================] - 2s 792us/step - loss: 1.8751 - acc: 0.5877\n",
      "Epoch 2/10\n",
      "1875/1875 [==============================] - 1s 773us/step - loss: 0.8628 - acc: 0.6797\n",
      "Epoch 3/10\n",
      "1875/1875 [==============================] - 2s 809us/step - loss: 0.7546 - acc: 0.7042 1s - \n",
      "Epoch 4/10\n",
      "1875/1875 [==============================] - 1s 788us/step - loss: 0.6820 - acc: 0.7263\n",
      "Epoch 5/10\n",
      "1875/1875 [==============================] - 1s 780us/step - loss: 0.6065 - acc: 0.7665\n",
      "Epoch 6/10\n",
      "1875/1875 [==============================] - 1s 773us/step - loss: 0.5394 - acc: 0.8019\n",
      "Epoch 7/10\n",
      "1875/1875 [==============================] - 1s 777us/step - loss: 0.4912 - acc: 0.8246\n",
      "Epoch 8/10\n",
      "1875/1875 [==============================] - 1s 785us/step - loss: 0.4501 - acc: 0.8462\n",
      "Epoch 9/10\n",
      "1875/1875 [==============================] - 2s 824us/step - loss: 0.4257 - acc: 0.8523\n",
      "Epoch 10/10\n",
      "1875/1875 [==============================] - 1s 774us/step - loss: 0.4194 - acc: 0.8533\n"
     ]
    },
    {
     "data": {
      "text/plain": [
       "<keras.callbacks.History at 0x2765ac50e50>"
      ]
     },
     "execution_count": 129,
     "metadata": {},
     "output_type": "execute_result"
    }
   ],
   "source": [
    "model = Sequential()\n",
    "model.add( Flatten( input_shape=(28,28)))                   \n",
    "\n",
    "model.add( Dense( units=64, activation='relu' ) )\n",
    "model.add( Dense( units=32, activation='relu' ) )\n",
    "model.add( Dense( units=10, activation='softmax' ) )\n",
    "model.compile( loss='sparse_categorical_crossentropy',      \n",
    "               optimizer='adam', metrics=['acc'])                                          \n",
    "                                                                         \n",
    "model.fit( x_train, y_train, epochs = 10)                  "
   ]
  },
  {
   "cell_type": "markdown",
   "id": "8f415f95",
   "metadata": {},
   "source": [
    "### Prediction"
   ]
  },
  {
   "cell_type": "markdown",
   "id": "81ab552b",
   "metadata": {},
   "source": [
    "#### 우리가 학습한 model에서 이미 flatten을 해주니까 우리는 3차원 형태로 1장씩 넣어줘야 한다. ==> 그래서 1 by 28 by 28 임!!"
   ]
  },
  {
   "cell_type": "code",
   "execution_count": 130,
   "id": "2f347963",
   "metadata": {
    "ExecuteTime": {
     "end_time": "2021-12-27T08:30:48.288727Z",
     "start_time": "2021-12-27T08:30:48.278737Z"
    },
    "scrolled": true
   },
   "outputs": [
    {
     "data": {
      "text/plain": [
       "array([[  0,   0,   0,   0,   0,   0,   0,   0,   0,   0,   0,   0,   0,\n",
       "          0,   0,   0,   0,   0,   0,   0,   0,   0,   0,   0,   0,   0,\n",
       "          0,   0],\n",
       "       [  0,   0,   0,   0,   0,   0,   0,   0,   0,   0,   0,   0,   0,\n",
       "          0,   0,   0,   0,   0,   0,   0,   0,   0,   0,   0,   0,   0,\n",
       "          0,   0],\n",
       "       [  0,   0,   0,   0,   0,   0,   0,   0,   0,   0,   0,   0,   0,\n",
       "          0,   0,   0,   0,   0,   0,   0,   0,   0,   0,   0,   0,   0,\n",
       "          0,   0],\n",
       "       [  0,   0,   0,   0,   0,   0,   0,   0,   0,   0,   0,   0,   0,\n",
       "          0,   0,   0,   0,   0,   0,   0,   0,   0,   0,   0,   0,   0,\n",
       "          0,   0],\n",
       "       [  0,   0,   0,   0,   0,   0,   0,   0,   0,   0,   0,   0,   0,\n",
       "          0,   0,   0,   0,   0,   0,   0,   0,   0,   0,   0,   0,   0,\n",
       "          0,   0],\n",
       "       [  0,   0,   0,   0,   0,   0,   0,   0,   0,   0,   0,   0,   0,\n",
       "          0,   0,   0,   0,   0,   0,   0,   0,   0,   0,   0,   0,   0,\n",
       "          0,   0],\n",
       "       [  0,   0,   0,   0,   0,   0,   0,   0,   0,   0,   0,   0,   0,\n",
       "          0,   0,   0,   0,   0,   0,   0,   0,   0,   0,   0,   0,   0,\n",
       "          0,   0],\n",
       "       [  0,   0,   0,   0,   0,   0,   0,   0,   0,   0,   0,   0,   0,\n",
       "          0,   0,   0,   0,   0,   0,   3,   1,   0,   0,   7,   0,  37,\n",
       "          0,   0],\n",
       "       [  0,   0,   0,   0,   0,   0,   0,   0,   0,   0,   0,   0,   0,\n",
       "          1,   2,   0,  27,  84,  11,   0,   0,   0,   0,   0,   0, 119,\n",
       "          0,   0],\n",
       "       [  0,   0,   0,   0,   0,   0,   0,   0,   0,   0,   0,   0,   0,\n",
       "          1,   0,   0,  88, 143, 110,   0,   0,   0,   0,  22,  93, 106,\n",
       "          0,   0],\n",
       "       [  0,   0,   0,   0,   0,   0,   0,   0,   0,   0,   0,   0,   0,\n",
       "          4,   0,  53, 129, 120, 147, 175, 157, 166, 135, 154, 168, 140,\n",
       "          0,   0],\n",
       "       [  0,   0,   0,   0,   0,   0,   0,   0,   0,   0,   0,   0,   2,\n",
       "          0,  11, 137, 130, 128, 160, 176, 159, 167, 178, 149, 151, 144,\n",
       "          0,   0],\n",
       "       [  0,   0,   0,   0,   0,   0,   1,   0,   2,   1,   0,   3,   0,\n",
       "          0, 115, 114, 106, 137, 168, 153, 156, 165, 167, 143, 157, 158,\n",
       "         11,   0],\n",
       "       [  0,   0,   0,   0,   1,   0,   0,   0,   0,   0,   3,   0,   0,\n",
       "         89, 139,  90,  94, 153, 149, 131, 151, 169, 172, 143, 159, 169,\n",
       "         48,   0],\n",
       "       [  0,   0,   0,   0,   0,   0,   2,   4,   1,   0,   0,   0,  98,\n",
       "        136, 110, 109, 110, 162, 135, 144, 149, 159, 167, 144, 158, 169,\n",
       "        119,   0],\n",
       "       [  0,   0,   2,   2,   1,   2,   0,   0,   0,   0,  26, 108, 117,\n",
       "         99, 111, 117, 136, 156, 134, 154, 154, 156, 160, 141, 147, 156,\n",
       "        178,   0],\n",
       "       [  3,   0,   0,   0,   0,   0,   0,  21,  53,  92, 117, 111, 103,\n",
       "        115, 129, 134, 143, 154, 165, 170, 154, 151, 154, 143, 138, 150,\n",
       "        165,  43],\n",
       "       [  0,   0,  23,  54,  65,  76,  85, 118, 128, 123, 111, 113, 118,\n",
       "        127, 125, 139, 133, 136, 160, 140, 155, 161, 144, 155, 172, 161,\n",
       "        189,  62],\n",
       "       [  0,  68,  94,  90, 111, 114, 111, 114, 115, 127, 135, 136, 143,\n",
       "        126, 127, 151, 154, 143, 148, 125, 162, 162, 144, 138, 153, 162,\n",
       "        196,  58],\n",
       "       [ 70, 169, 129, 104,  98, 100,  94,  97,  98, 102, 108, 106, 119,\n",
       "        120, 129, 149, 156, 167, 190, 190, 196, 198, 198, 187, 197, 189,\n",
       "        184,  36],\n",
       "       [ 16, 126, 171, 188, 188, 184, 171, 153, 135, 120, 126, 127, 146,\n",
       "        185, 195, 209, 208, 255, 209, 177, 245, 252, 251, 251, 247, 220,\n",
       "        206,  49],\n",
       "       [  0,   0,   0,  12,  67, 106, 164, 185, 199, 210, 211, 210, 208,\n",
       "        190, 150,  82,   8,   0,   0,   0, 178, 208, 188, 175, 162, 158,\n",
       "        151,  11],\n",
       "       [  0,   0,   0,   0,   0,   0,   0,   0,   0,   0,   0,   0,   0,\n",
       "          0,   0,   0,   0,   0,   0,   0,   0,   0,   0,   0,   0,   0,\n",
       "          0,   0],\n",
       "       [  0,   0,   0,   0,   0,   0,   0,   0,   0,   0,   0,   0,   0,\n",
       "          0,   0,   0,   0,   0,   0,   0,   0,   0,   0,   0,   0,   0,\n",
       "          0,   0],\n",
       "       [  0,   0,   0,   0,   0,   0,   0,   0,   0,   0,   0,   0,   0,\n",
       "          0,   0,   0,   0,   0,   0,   0,   0,   0,   0,   0,   0,   0,\n",
       "          0,   0],\n",
       "       [  0,   0,   0,   0,   0,   0,   0,   0,   0,   0,   0,   0,   0,\n",
       "          0,   0,   0,   0,   0,   0,   0,   0,   0,   0,   0,   0,   0,\n",
       "          0,   0],\n",
       "       [  0,   0,   0,   0,   0,   0,   0,   0,   0,   0,   0,   0,   0,\n",
       "          0,   0,   0,   0,   0,   0,   0,   0,   0,   0,   0,   0,   0,\n",
       "          0,   0],\n",
       "       [  0,   0,   0,   0,   0,   0,   0,   0,   0,   0,   0,   0,   0,\n",
       "          0,   0,   0,   0,   0,   0,   0,   0,   0,   0,   0,   0,   0,\n",
       "          0,   0]], dtype=uint8)"
      ]
     },
     "execution_count": 130,
     "metadata": {},
     "output_type": "execute_result"
    }
   ],
   "source": [
    "x_test[0]"
   ]
  },
  {
   "cell_type": "code",
   "execution_count": 131,
   "id": "bfcd8044",
   "metadata": {
    "ExecuteTime": {
     "end_time": "2021-12-27T08:30:56.692533Z",
     "start_time": "2021-12-27T08:30:56.677614Z"
    }
   },
   "outputs": [
    {
     "data": {
      "text/plain": [
       "(28, 28)"
      ]
     },
     "execution_count": 131,
     "metadata": {},
     "output_type": "execute_result"
    }
   ],
   "source": [
    "x_test[0].shape"
   ]
  },
  {
   "cell_type": "code",
   "execution_count": 132,
   "id": "04b12711",
   "metadata": {
    "ExecuteTime": {
     "end_time": "2021-12-27T08:31:08.996978Z",
     "start_time": "2021-12-27T08:31:08.979026Z"
    }
   },
   "outputs": [
    {
     "data": {
      "text/plain": [
       "(1, 28, 28)"
      ]
     },
     "execution_count": 132,
     "metadata": {},
     "output_type": "execute_result"
    }
   ],
   "source": [
    "x_test[0].reshape(1,28,28).shape"
   ]
  },
  {
   "cell_type": "code",
   "execution_count": 134,
   "id": "44cbabd1",
   "metadata": {
    "ExecuteTime": {
     "end_time": "2021-12-27T08:31:17.333442Z",
     "start_time": "2021-12-27T08:31:17.290546Z"
    }
   },
   "outputs": [
    {
     "data": {
      "text/plain": [
       "array([9], dtype=int64)"
      ]
     },
     "execution_count": 134,
     "metadata": {},
     "output_type": "execute_result"
    }
   ],
   "source": [
    "model.predict( x_test[0].reshape(1,28,28)).argmax(axis=1)"
   ]
  },
  {
   "cell_type": "code",
   "execution_count": null,
   "id": "deb4d2d8",
   "metadata": {},
   "outputs": [],
   "source": []
  },
  {
   "cell_type": "markdown",
   "id": "fbf2b8c8",
   "metadata": {},
   "source": [
    "### Accuracy"
   ]
  },
  {
   "cell_type": "markdown",
   "id": "cce8570a",
   "metadata": {},
   "source": [
    "#### Train data"
   ]
  },
  {
   "cell_type": "code",
   "execution_count": 137,
   "id": "4b7677db",
   "metadata": {
    "ExecuteTime": {
     "end_time": "2021-12-27T08:32:33.248901Z",
     "start_time": "2021-12-27T08:32:32.016197Z"
    }
   },
   "outputs": [
    {
     "name": "stdout",
     "output_type": "stream",
     "text": [
      "1875/1875 [==============================] - 1s 599us/step - loss: 0.3778 - acc: 0.8664\n"
     ]
    },
    {
     "data": {
      "text/plain": [
       "[0.37776920199394226, 0.8664000034332275]"
      ]
     },
     "execution_count": 137,
     "metadata": {},
     "output_type": "execute_result"
    }
   ],
   "source": [
    "model.evaluate(x_train, y_train)"
   ]
  },
  {
   "cell_type": "markdown",
   "id": "beb68d37",
   "metadata": {},
   "source": [
    "#### Test data"
   ]
  },
  {
   "cell_type": "code",
   "execution_count": 139,
   "id": "4447e2d8",
   "metadata": {
    "ExecuteTime": {
     "end_time": "2021-12-27T08:32:43.642480Z",
     "start_time": "2021-12-27T08:32:43.253616Z"
    }
   },
   "outputs": [
    {
     "name": "stdout",
     "output_type": "stream",
     "text": [
      "313/313 [==============================] - 0s 883us/step - loss: 0.4569 - acc: 0.8458\n"
     ]
    },
    {
     "data": {
      "text/plain": [
       "[0.45689672231674194, 0.84579998254776]"
      ]
     },
     "execution_count": 139,
     "metadata": {},
     "output_type": "execute_result"
    }
   ],
   "source": [
    "model.evaluate(x_test, y_test)"
   ]
  },
  {
   "cell_type": "code",
   "execution_count": null,
   "id": "2de9afed",
   "metadata": {},
   "outputs": [],
   "source": []
  },
  {
   "cell_type": "markdown",
   "id": "b60ac488",
   "metadata": {},
   "source": [
    "### confusion matrix(heatmap)"
   ]
  },
  {
   "cell_type": "code",
   "execution_count": null,
   "id": "7b5289b8",
   "metadata": {},
   "outputs": [],
   "source": [
    "from sklearn.metrics import confusion_matrix\n",
    "import seaborn as sns"
   ]
  },
  {
   "cell_type": "code",
   "execution_count": null,
   "id": "bd7f40cf",
   "metadata": {},
   "outputs": [],
   "source": [
    "import numpy as np\n",
    "import pandas as pd\n",
    "import os\n",
    "\n",
    "import matplotlib\n",
    "import matplotlib.pyplot as plt\n",
    "import seaborn as sns\n",
    "\n",
    "%matplotlib inline\n",
    "\n",
    "# 관련 라이브러리 임포트 \n",
    "import matplotlib.font_manager as fm\n",
    "\n",
    "#  한글글꼴로 변경\n",
    "# plt.rcParams['font.family'] = '한글글꼴명'\n",
    "plt.rcParams['font.size'] = 11.0\n",
    "# plt.rcParams['font.family'] = 'batang'\n",
    "plt.rcParams['font.family'] = 'Malgun Gothic'\n",
    "\n",
    "# 그래프에서 마이너스 폰트 깨지는 문제에 대한 대처\n",
    "matplotlib.rcParams['axes.unicode_minus'] = False"
   ]
  },
  {
   "cell_type": "code",
   "execution_count": null,
   "id": "bf63022b",
   "metadata": {},
   "outputs": [],
   "source": [
    "plt.rcParams['figure.figsize'] = [14, 9]\n",
    "plt.rcParams['xtick.labelsize'] = 15\n",
    "plt.rcParams['ytick.labelsize'] = 15\n",
    "plt.rcParams['axes.titlesize'] = 30\n",
    "plt.rcParams['axes.labelsize'] = 25"
   ]
  },
  {
   "cell_type": "markdown",
   "id": "0bb69ab9",
   "metadata": {},
   "source": [
    "#### Train data"
   ]
  },
  {
   "cell_type": "code",
   "execution_count": 154,
   "id": "dc95e5e0",
   "metadata": {
    "ExecuteTime": {
     "end_time": "2021-12-27T08:40:26.231494Z",
     "start_time": "2021-12-27T08:40:24.898446Z"
    }
   },
   "outputs": [
    {
     "data": {
      "text/plain": [
       "array([[4514,    2,   90,  304,   14,    2, 1058,    1,   14,    1],\n",
       "       [   4, 5752,   11,  176,   15,    0,   42,    0,    0,    0],\n",
       "       [  14,    1, 4883,   38,  603,    7,  448,    0,    3,    3],\n",
       "       [ 110,   10,   96, 5341,  213,   14,  209,    0,    4,    3],\n",
       "       [   4,    5,  728,  149, 4631,    5,  476,    0,    1,    1],\n",
       "       [   0,    0,    0,    0,    0, 5870,    1,   88,    7,   34],\n",
       "       [ 577,    7,  826,  182,  387,    6, 3997,    1,   17,    0],\n",
       "       [   0,    0,    0,    0,    0,  122,    0, 5696,    0,  182],\n",
       "       [   2,    0,   50,   24,   15,   98,  221,   13, 5575,    2],\n",
       "       [   0,    0,    1,    0,    0,   90,    0,  184,    0, 5725]],\n",
       "      dtype=int64)"
      ]
     },
     "execution_count": 154,
     "metadata": {},
     "output_type": "execute_result"
    }
   ],
   "source": [
    "confusion_matrix(y_train, model.predict( x_train.reshape(60000,28,28)).argmax(axis=1))"
   ]
  },
  {
   "cell_type": "code",
   "execution_count": 155,
   "id": "ff7b5e12",
   "metadata": {
    "ExecuteTime": {
     "end_time": "2021-12-27T08:40:35.679183Z",
     "start_time": "2021-12-27T08:40:33.534913Z"
    }
   },
   "outputs": [
    {
     "data": {
      "image/png": "[encoded data removed]",
      "text/plain": [
       "<Figure size 1008x648 with 2 Axes>"
      ]
     },
     "metadata": {
      "needs_background": "light"
     },
     "output_type": "display_data"
    }
   ],
   "source": [
    "sns.heatmap(confusion_matrix(y_train, model.predict( x_train.reshape(60000,28,28)).argmax(axis=1)),\n",
    "            annot=True,\n",
    "            annot_kws={'size': 20},\n",
    "            cmap='Reds',\n",
    "            fmt = 'd',                             # 지수로 안나오고 정수로 나오게\n",
    "            linewidths=0.5\n",
    "           );"
   ]
  },
  {
   "cell_type": "markdown",
   "id": "c2796f60",
   "metadata": {},
   "source": [
    "#### Test data"
   ]
  },
  {
   "cell_type": "code",
   "execution_count": 153,
   "id": "1993d4ff",
   "metadata": {
    "ExecuteTime": {
     "end_time": "2021-12-27T08:39:58.187140Z",
     "start_time": "2021-12-27T08:39:57.987323Z"
    }
   },
   "outputs": [
    {
     "data": {
      "text/plain": [
       "array([[730,   1,  21,  46,   2,   0, 198,   0,   2,   0],\n",
       "       [  1, 946,   3,  37,   3,   0,  10,   0,   0,   0],\n",
       "       [  6,   0, 791,   7, 106,   0,  90,   0,   0,   0],\n",
       "       [ 12,   3,  30, 866,  39,   3,  46,   0,   1,   0],\n",
       "       [  0,   1, 149,  25, 743,   0,  80,   0,   1,   1],\n",
       "       [  0,   0,   2,   0,   0, 968,   0,  19,   1,  10],\n",
       "       [ 98,   1, 147,  43,  76,   1, 630,   0,   4,   0],\n",
       "       [  0,   0,   0,   0,   0,  24,   0, 946,   0,  30],\n",
       "       [  0,   0,   7,   8,   3,  23,  56,   4, 899,   0],\n",
       "       [  0,   0,   0,   0,   0,  22,   1,  38,   0, 939]], dtype=int64)"
      ]
     },
     "execution_count": 153,
     "metadata": {},
     "output_type": "execute_result"
    }
   ],
   "source": [
    "confusion_matrix(y_test, model.predict( x_test.reshape(10000,28,28)).argmax(axis=1))"
   ]
  },
  {
   "cell_type": "code",
   "execution_count": 159,
   "id": "7ad4b899",
   "metadata": {
    "ExecuteTime": {
     "end_time": "2021-12-27T08:41:21.860507Z",
     "start_time": "2021-12-27T08:41:20.824321Z"
    }
   },
   "outputs": [
    {
     "data": {
      "image/png": "[encoded data removed]",
      "text/plain": [
       "<Figure size 1008x648 with 2 Axes>"
      ]
     },
     "metadata": {
      "needs_background": "light"
     },
     "output_type": "display_data"
    }
   ],
   "source": [
    "sns.heatmap(confusion_matrix(y_test, model.predict( x_test.reshape(10000,28,28)).argmax(axis=1)),\n",
    "            annot=True,\n",
    "            annot_kws={'size': 20},\n",
    "            cmap='Reds',\n",
    "            fmt = 'd',                             # 지수로 안나오고 정수로 나오게\n",
    "            linewidths=0.5\n",
    "           );"
   ]
  },
  {
   "cell_type": "code",
   "execution_count": null,
   "id": "0898daf6",
   "metadata": {},
   "outputs": [],
   "source": []
  },
  {
   "cell_type": "code",
   "execution_count": null,
   "id": "a9ab7c8e",
   "metadata": {},
   "outputs": [],
   "source": []
  },
  {
   "cell_type": "code",
   "execution_count": null,
   "id": "53ce115f",
   "metadata": {},
   "outputs": [],
   "source": []
  },
  {
   "cell_type": "code",
   "execution_count": null,
   "id": "621a64ef",
   "metadata": {},
   "outputs": [],
   "source": []
  }
 ],
 "metadata": {
  "kernelspec": {
   "display_name": "Python 3 (ipykernel)",
   "language": "python",
   "name": "python3"
  },
  "language_info": {
   "codemirror_mode": {
    "name": "ipython",
    "version": 3
   },
   "file_extension": ".py",
   "mimetype": "text/x-python",
   "name": "python",
   "nbconvert_exporter": "python",
   "pygments_lexer": "ipython3",
   "version": "3.7.12"
  },
  "toc": {
   "base_numbering": 1,
   "nav_menu": {},
   "number_sections": true,
   "sideBar": true,
   "skip_h1_title": false,
   "title_cell": "Table of Contents",
   "title_sidebar": "Contents",
   "toc_cell": false,
   "toc_position": {
    "height": "calc(100% - 180px)",
    "left": "10px",
    "top": "150px",
    "width": "191.594px"
   },
   "toc_section_display": true,
   "toc_window_display": true
  },
  "varInspector": {
   "cols": {
    "lenName": 16,
    "lenType": 16,
    "lenVar": 40
   },
   "kernels_config": {
    "python": {
     "delete_cmd_postfix": "",
     "delete_cmd_prefix": "del ",
     "library": "var_list.py",
     "varRefreshCmd": "print(var_dic_list())"
    },
    "r": {
     "delete_cmd_postfix": ") ",
     "delete_cmd_prefix": "rm(",
     "library": "var_list.r",
     "varRefreshCmd": "cat(var_dic_list()) "
    }
   },
   "types_to_exclude": [
    "module",
    "function",
    "builtin_function_or_method",
    "instance",
    "_Feature"
   ],
   "window_display": false
  }
 },
 "nbformat": 4,
 "nbformat_minor": 5
}
