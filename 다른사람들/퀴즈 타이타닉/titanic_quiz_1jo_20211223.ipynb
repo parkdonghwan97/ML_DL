{
 "cells": [
  {
   "cell_type": "code",
   "execution_count": null,
   "metadata": {},
   "outputs": [],
   "source": [
    "import tensorflow as tf\n",
    "import numpy as np\n",
    "import pandas as pd\n",
    "import seaborn as sns\n",
    "\n",
    "from sklearn.preprocessing import MinMaxScaler, StandardScaler\n",
    "from sklearn.model_selection import train_test_split\n",
    "\n",
    "from tensorflow.keras.wrappers.scikit_learn import KerasClassifier\n",
    "from sklearn.pipeline import make_pipeline\n",
    "\n",
    "from tensorflow.keras import Sequential\n",
    "from tensorflow.keras.layers import Dense\n",
    "from tensorflow.keras.optimizers import Adam\n",
    "from tensorflow.keras.callbacks import EarlyStopping\n",
    "\n",
    "import matplotlib.pyplot as plt\n",
    "import matplotlib.font_manager as fm\n",
    "import matplotlib\n",
    "\n",
    "matplotlib.rcParams['axes.unicode_minus'] = False\n",
    "plt.rcParams['font.family'] = 'Malgun Gothic'\n"
   ]
  },
  {
   "cell_type": "markdown",
   "metadata": {},
   "source": [
    "# Titanic 과제"
   ]
  },
  {
   "cell_type": "markdown",
   "metadata": {},
   "source": [
    "## Perprocessing"
   ]
  },
  {
   "cell_type": "code",
   "execution_count": null,
   "metadata": {},
   "outputs": [
    {
     "data": {
      "text/html": [
       "<div>\n",
       "<style scoped>\n",
       "    .dataframe tbody tr th:only-of-type {\n",
       "        vertical-align: middle;\n",
       "    }\n",
       "\n",
       "    .dataframe tbody tr th {\n",
       "        vertical-align: top;\n",
       "    }\n",
       "\n",
       "    .dataframe thead th {\n",
       "        text-align: right;\n",
       "    }\n",
       "</style>\n",
       "<table border=\"1\" class=\"dataframe\">\n",
       "  <thead>\n",
       "    <tr style=\"text-align: right;\">\n",
       "      <th></th>\n",
       "      <th>Fare</th>\n",
       "      <th>Sex</th>\n",
       "      <th>Pclass</th>\n",
       "      <th>Age</th>\n",
       "      <th>Survived</th>\n",
       "    </tr>\n",
       "  </thead>\n",
       "  <tbody>\n",
       "    <tr>\n",
       "      <th>0</th>\n",
       "      <td>7.2500</td>\n",
       "      <td>male</td>\n",
       "      <td>3</td>\n",
       "      <td>22.0</td>\n",
       "      <td>0</td>\n",
       "    </tr>\n",
       "    <tr>\n",
       "      <th>1</th>\n",
       "      <td>71.2833</td>\n",
       "      <td>female</td>\n",
       "      <td>1</td>\n",
       "      <td>38.0</td>\n",
       "      <td>1</td>\n",
       "    </tr>\n",
       "    <tr>\n",
       "      <th>2</th>\n",
       "      <td>7.9250</td>\n",
       "      <td>female</td>\n",
       "      <td>3</td>\n",
       "      <td>26.0</td>\n",
       "      <td>1</td>\n",
       "    </tr>\n",
       "    <tr>\n",
       "      <th>3</th>\n",
       "      <td>53.1000</td>\n",
       "      <td>female</td>\n",
       "      <td>1</td>\n",
       "      <td>35.0</td>\n",
       "      <td>1</td>\n",
       "    </tr>\n",
       "    <tr>\n",
       "      <th>4</th>\n",
       "      <td>8.0500</td>\n",
       "      <td>male</td>\n",
       "      <td>3</td>\n",
       "      <td>35.0</td>\n",
       "      <td>0</td>\n",
       "    </tr>\n",
       "    <tr>\n",
       "      <th>...</th>\n",
       "      <td>...</td>\n",
       "      <td>...</td>\n",
       "      <td>...</td>\n",
       "      <td>...</td>\n",
       "      <td>...</td>\n",
       "    </tr>\n",
       "    <tr>\n",
       "      <th>886</th>\n",
       "      <td>13.0000</td>\n",
       "      <td>male</td>\n",
       "      <td>2</td>\n",
       "      <td>27.0</td>\n",
       "      <td>0</td>\n",
       "    </tr>\n",
       "    <tr>\n",
       "      <th>887</th>\n",
       "      <td>30.0000</td>\n",
       "      <td>female</td>\n",
       "      <td>1</td>\n",
       "      <td>19.0</td>\n",
       "      <td>1</td>\n",
       "    </tr>\n",
       "    <tr>\n",
       "      <th>888</th>\n",
       "      <td>23.4500</td>\n",
       "      <td>female</td>\n",
       "      <td>3</td>\n",
       "      <td>NaN</td>\n",
       "      <td>0</td>\n",
       "    </tr>\n",
       "    <tr>\n",
       "      <th>889</th>\n",
       "      <td>30.0000</td>\n",
       "      <td>male</td>\n",
       "      <td>1</td>\n",
       "      <td>26.0</td>\n",
       "      <td>1</td>\n",
       "    </tr>\n",
       "    <tr>\n",
       "      <th>890</th>\n",
       "      <td>7.7500</td>\n",
       "      <td>male</td>\n",
       "      <td>3</td>\n",
       "      <td>32.0</td>\n",
       "      <td>0</td>\n",
       "    </tr>\n",
       "  </tbody>\n",
       "</table>\n",
       "<p>891 rows × 5 columns</p>\n",
       "</div>"
      ],
      "text/plain": [
       "        Fare     Sex  Pclass   Age  Survived\n",
       "0     7.2500    male       3  22.0         0\n",
       "1    71.2833  female       1  38.0         1\n",
       "2     7.9250  female       3  26.0         1\n",
       "3    53.1000  female       1  35.0         1\n",
       "4     8.0500    male       3  35.0         0\n",
       "..       ...     ...     ...   ...       ...\n",
       "886  13.0000    male       2  27.0         0\n",
       "887  30.0000  female       1  19.0         1\n",
       "888  23.4500  female       3   NaN         0\n",
       "889  30.0000    male       1  26.0         1\n",
       "890   7.7500    male       3  32.0         0\n",
       "\n",
       "[891 rows x 5 columns]"
      ]
     },
     "metadata": {},
     "output_type": "display_data"
    }
   ],
   "source": [
    "df = pd.read_csv('tdata/titanic.csv')\n",
    "df = df[['Fare','Sex', 'Pclass', 'Age', 'Survived']]\n",
    "df"
   ]
  },
  {
   "cell_type": "code",
   "execution_count": null,
   "metadata": {},
   "outputs": [
    {
     "data": {
      "text/plain": [
       "Fare          0\n",
       "Sex           0\n",
       "Pclass        0\n",
       "Age         177\n",
       "Survived      0\n",
       "dtype: int64"
      ]
     },
     "metadata": {},
     "output_type": "display_data"
    }
   ],
   "source": [
    "df.isnull().sum()"
   ]
  },
  {
   "cell_type": "code",
   "execution_count": null,
   "metadata": {},
   "outputs": [
    {
     "data": {
      "text/plain": [
       "Fare        0\n",
       "Sex         0\n",
       "Pclass      0\n",
       "Age         0\n",
       "Survived    0\n",
       "dtype: int64"
      ]
     },
     "metadata": {},
     "output_type": "display_data"
    }
   ],
   "source": [
    "df['Age'].fillna(df['Age'].mean(), inplace=True)\n",
    "df.isnull().sum()"
   ]
  },
  {
   "cell_type": "code",
   "execution_count": null,
   "metadata": {},
   "outputs": [],
   "source": [
    "from sklearn.preprocessing import LabelEncoder\n",
    "encoder = LabelEncoder()\n",
    "temp = encoder.fit_transform(df['Sex'])\n",
    "df['Sex'] = temp #male = 1, female = 0"
   ]
  },
  {
   "cell_type": "markdown",
   "metadata": {},
   "source": [
    "## TENSORFLOW"
   ]
  },
  {
   "cell_type": "code",
   "execution_count": null,
   "metadata": {},
   "outputs": [],
   "source": [
    "x_data = df.iloc[:,:-1]\n",
    "y_data = df.iloc[:,[-1]].values\n",
    "\n",
    "scaler = MinMaxScaler()\n",
    "x_scaled = scaler.fit_transform(x_data)\n",
    "test = scaler.transform([[30, 0, 1, 25]])"
   ]
  },
  {
   "cell_type": "code",
   "execution_count": null,
   "metadata": {},
   "outputs": [],
   "source": [
    "x_train, x_test, y_train, y_test = train_test_split(x_scaled,\n",
    "                                                    y_data,\n",
    "                                                    test_size = 0.3,\n",
    "                                                    stratify = y_data,\n",
    "                                                    random_state= 111)"
   ]
  },
  {
   "cell_type": "code",
   "execution_count": null,
   "metadata": {},
   "outputs": [],
   "source": [
    "x = tf.constant(x_train, tf.float32)\n",
    "y = tf.constant(y_train, tf.float32)\n",
    "\n",
    "initX = tf.initializers.GlorotUniform()\n",
    "w = tf.Variable(initX(shape= [x_train.shape[1],y_train.shape[1]])) #[feature, label]\n",
    "b = tf.Variable(initX(shape = [y_train.shape[1]])) # label"
   ]
  },
  {
   "cell_type": "code",
   "execution_count": null,
   "metadata": {},
   "outputs": [
    {
     "data": {
      "text/plain": [
       "(TensorShape([4, 1]), TensorShape([1]))"
      ]
     },
     "metadata": {},
     "output_type": "display_data"
    }
   ],
   "source": [
    "w.shape, b.shape"
   ]
  },
  {
   "cell_type": "code",
   "execution_count": null,
   "metadata": {},
   "outputs": [],
   "source": [
    "def compute_loss():\n",
    "    z = tf.matmul(x,w) + b\n",
    "    hx = tf.nn.sigmoid_cross_entropy_with_logits(labels = y, logits = z)\n",
    "    cost = tf.reduce_mean(hx)\n",
    "    return cost"
   ]
  },
  {
   "cell_type": "code",
   "execution_count": null,
   "metadata": {},
   "outputs": [
    {
     "name": "stdout",
     "output_type": "stream",
     "text": [
      "0 cost:  0.7362361\n",
      "1 cost:  0.7174829\n",
      "2 cost:  0.6993508\n",
      "3 cost:  0.6820705\n",
      "4 cost:  0.66580224\n",
      "5 cost:  0.6505354\n",
      "6 cost:  0.63607454\n",
      "7 cost:  0.6222267\n",
      "8 cost:  0.6089513\n",
      "9 cost:  0.59629554\n",
      "10 cost:  0.5842922\n",
      "11 cost:  0.5729312\n",
      "12 cost:  0.5621808\n",
      "13 cost:  0.5520208\n",
      "14 cost:  0.54245996\n",
      "15 cost:  0.53352356\n",
      "16 cost:  0.5252253\n",
      "17 cost:  0.51755047\n",
      "18 cost:  0.51046485\n",
      "19 cost:  0.50393486\n",
      "20 cost:  0.4979388\n",
      "21 cost:  0.49246085\n",
      "22 cost:  0.4874766\n",
      "23 cost:  0.48294747\n",
      "24 cost:  0.47882843\n",
      "25 cost:  0.47508046\n",
      "26 cost:  0.47167605\n",
      "27 cost:  0.46859267\n",
      "28 cost:  0.46580684\n",
      "29 cost:  0.46329093\n",
      "30 cost:  0.46101823\n",
      "31 cost:  0.45896673\n",
      "32 cost:  0.45712066\n",
      "33 cost:  0.45546573\n",
      "34 cost:  0.4539865\n",
      "35 cost:  0.45266518\n",
      "36 cost:  0.4514844\n",
      "37 cost:  0.45042917\n",
      "38 cost:  0.4494873\n",
      "39 cost:  0.4486476\n",
      "40 cost:  0.44789803\n",
      "41 cost:  0.4472263\n",
      "42 cost:  0.44662094\n",
      "43 cost:  0.4460729\n",
      "44 cost:  0.4455753\n",
      "45 cost:  0.44512224\n",
      "46 cost:  0.44470808\n",
      "47 cost:  0.44432703\n",
      "48 cost:  0.44397473\n",
      "49 cost:  0.4436479\n",
      "50 cost:  0.44334432\n",
      "51 cost:  0.44306198\n",
      "52 cost:  0.44279844\n",
      "53 cost:  0.44255146\n",
      "54 cost:  0.44231918\n",
      "55 cost:  0.4421\n",
      "56 cost:  0.441893\n",
      "57 cost:  0.4416972\n",
      "58 cost:  0.44151106\n",
      "59 cost:  0.4413335\n",
      "60 cost:  0.44116393\n",
      "61 cost:  0.4410016\n",
      "62 cost:  0.44084626\n",
      "63 cost:  0.44069758\n",
      "64 cost:  0.44055513\n",
      "65 cost:  0.44041848\n",
      "66 cost:  0.4402876\n",
      "67 cost:  0.44016212\n",
      "68 cost:  0.44004232\n",
      "69 cost:  0.43992755\n",
      "70 cost:  0.43981758\n",
      "71 cost:  0.43971217\n",
      "72 cost:  0.43961102\n",
      "73 cost:  0.43951407\n",
      "74 cost:  0.43942094\n",
      "75 cost:  0.4393313\n",
      "76 cost:  0.43924513\n",
      "77 cost:  0.4391621\n",
      "78 cost:  0.43908206\n",
      "79 cost:  0.43900487\n",
      "80 cost:  0.43893042\n",
      "81 cost:  0.43885854\n",
      "82 cost:  0.43878913\n",
      "83 cost:  0.43872193\n",
      "84 cost:  0.43865708\n",
      "85 cost:  0.4385943\n",
      "86 cost:  0.43853357\n",
      "87 cost:  0.43847466\n",
      "88 cost:  0.43841758\n",
      "89 cost:  0.43836227\n",
      "90 cost:  0.43830854\n",
      "91 cost:  0.4382564\n",
      "92 cost:  0.4382058\n",
      "93 cost:  0.43815678\n",
      "94 cost:  0.43810928\n",
      "95 cost:  0.43806317\n",
      "96 cost:  0.43801844\n",
      "97 cost:  0.43797514\n",
      "98 cost:  0.43793333\n",
      "99 cost:  0.4378929\n",
      "100 cost:  0.43785378\n",
      "101 cost:  0.4378159\n",
      "102 cost:  0.43777946\n",
      "103 cost:  0.4377443\n",
      "104 cost:  0.43771034\n",
      "105 cost:  0.4376777\n",
      "106 cost:  0.43764627\n",
      "107 cost:  0.437616\n",
      "108 cost:  0.43758693\n",
      "109 cost:  0.43755913\n",
      "110 cost:  0.43753234\n",
      "111 cost:  0.4375068\n",
      "112 cost:  0.4374822\n",
      "113 cost:  0.43745875\n",
      "114 cost:  0.43743628\n",
      "115 cost:  0.43741482\n",
      "116 cost:  0.43739435\n",
      "117 cost:  0.4373748\n",
      "118 cost:  0.43735614\n",
      "119 cost:  0.43733835\n",
      "120 cost:  0.4373214\n",
      "121 cost:  0.43730524\n",
      "122 cost:  0.4372899\n",
      "123 cost:  0.43727532\n",
      "124 cost:  0.43726134\n",
      "125 cost:  0.43724817\n",
      "126 cost:  0.43723568\n",
      "127 cost:  0.43722373\n",
      "128 cost:  0.4372124\n",
      "129 cost:  0.43720174\n",
      "130 cost:  0.4371915\n",
      "131 cost:  0.4371819\n",
      "132 cost:  0.43717274\n",
      "133 cost:  0.43716407\n",
      "134 cost:  0.43715593\n",
      "135 cost:  0.43714818\n",
      "136 cost:  0.43714085\n",
      "137 cost:  0.43713388\n",
      "early stop\n"
     ]
    }
   ],
   "source": [
    "optimizer = Adam(0.1)\n",
    "patience = 100\n",
    "min_delta = 0.001\n",
    "pcnt = 0\n",
    "hist_cost = []\n",
    "\n",
    "for i in range(1000):\n",
    "    optimizer.minimize(compute_loss, var_list = [w,b])\n",
    "    c = compute_loss().numpy()\n",
    "    hist_cost.append(c)\n",
    "    print(i, \"cost: \", compute_loss().numpy())\n",
    "\n",
    "    if i >0:\n",
    "        if hist_cost[i-1] - hist_cost[i] > min_delta:\n",
    "            pcnt = 0\n",
    "        else:\n",
    "            pcnt += 1\n",
    "        if pcnt >= patience:\n",
    "            print('early stop')\n",
    "            break"
   ]
  },
  {
   "cell_type": "code",
   "execution_count": null,
   "metadata": {},
   "outputs": [
    {
     "data": {
      "text/plain": [
       "[<matplotlib.lines.Line2D at 0x29655bcd640>]"
      ]
     },
     "metadata": {},
     "output_type": "display_data"
    },
    {
     "data": {
      "image/png": "[encoded data removed]",
      "text/plain": [
       "<Figure size 432x288 with 1 Axes>"
      ]
     },
     "metadata": {},
     "output_type": "display_data"
    }
   ],
   "source": [
    "plt.plot(hist_cost)"
   ]
  },
  {
   "cell_type": "code",
   "execution_count": null,
   "metadata": {},
   "outputs": [],
   "source": [
    "def hxFn(xData):\n",
    "    xd = tf.constant(xData, tf.float32)\n",
    "    z = tf.matmul(xd, w) + b\n",
    "    hx = tf.nn.sigmoid(z)\n",
    "    return (hx.numpy()>0.5) + 0\n",
    "#['Survived' if (hx.numpy()>0.5) + 0 else 'Dead']"
   ]
  },
  {
   "cell_type": "code",
   "execution_count": null,
   "metadata": {},
   "outputs": [
    {
     "data": {
      "text/plain": [
       "0.7798507462686567"
      ]
     },
     "metadata": {},
     "output_type": "display_data"
    }
   ],
   "source": [
    "pred = hxFn(x_test)\n",
    "(pred == y_test).mean()"
   ]
  },
  {
   "cell_type": "code",
   "execution_count": null,
   "metadata": {},
   "outputs": [],
   "source": [
    "def resultFn(x):\n",
    "    return ['Survived' if x==1 else 'Dead']"
   ]
  },
  {
   "cell_type": "code",
   "execution_count": null,
   "metadata": {},
   "outputs": [
    {
     "data": {
      "text/plain": [
       "['Survived']"
      ]
     },
     "metadata": {},
     "output_type": "display_data"
    }
   ],
   "source": [
    "resultFn(hxFn(test))"
   ]
  },
  {
   "cell_type": "code",
   "execution_count": null,
   "metadata": {},
   "outputs": [
    {
     "name": "stdout",
     "output_type": "stream",
     "text": [
      "0.7005076142131981\n",
      "******************************\n",
      "[[140  25]\n",
      " [ 34  69]]\n"
     ]
    }
   ],
   "source": [
    "from sklearn.metrics import f1_score, classification_report, confusion_matrix\n",
    "print(f1_score(y_test, pred))\n",
    "print(\"*\"*30)\n",
    "print(confusion_matrix(y_test, pred))"
   ]
  },
  {
   "cell_type": "markdown",
   "metadata": {},
   "source": [
    "## KERAS"
   ]
  },
  {
   "cell_type": "code",
   "execution_count": null,
   "metadata": {},
   "outputs": [],
   "source": [
    "x_train, x_valid, y_train, y_valid = train_test_split(x_train,\n",
    "                                                      y_train,\n",
    "                                                      test_size = 0.2,\n",
    "                                                      stratify = y_train,\n",
    "                                                      random_state= 111)"
   ]
  },
  {
   "cell_type": "code",
   "execution_count": null,
   "metadata": {},
   "outputs": [],
   "source": [
    "def createModel():\n",
    "    dense = Dense(units= 1, input_dim = 4, activation = 'sigmoid')\n",
    "    model = Sequential([dense])\n",
    "    model.compile(loss='binary_crossentropy', optimizer=Adam(0.1), metrics=['acc'])\n",
    "    return model"
   ]
  },
  {
   "cell_type": "code",
   "execution_count": null,
   "metadata": {},
   "outputs": [
    {
     "name": "stderr",
     "output_type": "stream",
     "text": [
      "<ipython-input-284-8233eceb7c7e>:2: DeprecationWarning: KerasClassifier is deprecated, use Sci-Keras (https://github.com/adriangb/scikeras) instead.\n",
      "  kcf = KerasClassifier(build_fn = createModel, epochs = 1000, verbose = 1, callbacks = [earlyStop],validation_data=(x_valid, y_valid))\n"
     ]
    }
   ],
   "source": [
    "earlyStop = EarlyStopping(monitor = 'val_loss', min_delta = 0.001, patience = 100)\n",
    "kcf = KerasClassifier(build_fn = createModel, epochs = 1000, verbose = 1, callbacks = [earlyStop],validation_data=(x_valid, y_valid))"
   ]
  },
  {
   "cell_type": "code",
   "execution_count": null,
   "metadata": {},
   "outputs": [
    {
     "name": "stdout",
     "output_type": "stream",
     "text": [
      "Epoch 1/1000\n",
      "16/16 [==============================] - 0s 6ms/step - loss: 0.5737 - acc: 0.7008 - val_loss: 0.5333 - val_acc: 0.8000\n",
      "Epoch 2/1000\n",
      "16/16 [==============================] - 0s 2ms/step - loss: 0.5002 - acc: 0.7570 - val_loss: 0.4864 - val_acc: 0.7920\n",
      "Epoch 3/1000\n",
      "16/16 [==============================] - 0s 1ms/step - loss: 0.4662 - acc: 0.7952 - val_loss: 0.4805 - val_acc: 0.7920\n",
      "Epoch 4/1000\n",
      "16/16 [==============================] - 0s 2ms/step - loss: 0.4625 - acc: 0.7952 - val_loss: 0.4833 - val_acc: 0.8000\n",
      "Epoch 5/1000\n",
      "16/16 [==============================] - 0s 2ms/step - loss: 0.4553 - acc: 0.7952 - val_loss: 0.4800 - val_acc: 0.7920\n",
      "Epoch 6/1000\n",
      "16/16 [==============================] - 0s 2ms/step - loss: 0.4534 - acc: 0.7972 - val_loss: 0.4764 - val_acc: 0.7920\n",
      "Epoch 7/1000\n",
      "16/16 [==============================] - 0s 1ms/step - loss: 0.4498 - acc: 0.7952 - val_loss: 0.4804 - val_acc: 0.8000\n",
      "Epoch 8/1000\n",
      "16/16 [==============================] - 0s 1ms/step - loss: 0.4492 - acc: 0.7952 - val_loss: 0.4737 - val_acc: 0.8000\n",
      "Epoch 9/1000\n",
      "16/16 [==============================] - 0s 2ms/step - loss: 0.4458 - acc: 0.7972 - val_loss: 0.4696 - val_acc: 0.7920\n",
      "Epoch 10/1000\n",
      "16/16 [==============================] - 0s 2ms/step - loss: 0.4445 - acc: 0.7972 - val_loss: 0.4739 - val_acc: 0.7840\n",
      "Epoch 11/1000\n",
      "16/16 [==============================] - 0s 2ms/step - loss: 0.4446 - acc: 0.8032 - val_loss: 0.4673 - val_acc: 0.7920\n",
      "Epoch 12/1000\n",
      "16/16 [==============================] - 0s 2ms/step - loss: 0.4477 - acc: 0.7851 - val_loss: 0.4762 - val_acc: 0.7760\n",
      "Epoch 13/1000\n",
      "16/16 [==============================] - 0s 2ms/step - loss: 0.4461 - acc: 0.7992 - val_loss: 0.4644 - val_acc: 0.7920\n",
      "Epoch 14/1000\n",
      "16/16 [==============================] - 0s 2ms/step - loss: 0.4405 - acc: 0.7972 - val_loss: 0.4682 - val_acc: 0.7760\n",
      "Epoch 15/1000\n",
      "16/16 [==============================] - 0s 2ms/step - loss: 0.4418 - acc: 0.7992 - val_loss: 0.4642 - val_acc: 0.7840\n",
      "Epoch 16/1000\n",
      "16/16 [==============================] - 0s 2ms/step - loss: 0.4414 - acc: 0.7972 - val_loss: 0.4624 - val_acc: 0.7840\n",
      "Epoch 17/1000\n",
      "16/16 [==============================] - 0s 2ms/step - loss: 0.4408 - acc: 0.8012 - val_loss: 0.4668 - val_acc: 0.7680\n",
      "Epoch 18/1000\n",
      "16/16 [==============================] - 0s 2ms/step - loss: 0.4382 - acc: 0.7932 - val_loss: 0.4622 - val_acc: 0.7920\n",
      "Epoch 19/1000\n",
      "16/16 [==============================] - 0s 2ms/step - loss: 0.4376 - acc: 0.7972 - val_loss: 0.4611 - val_acc: 0.7840\n",
      "Epoch 20/1000\n",
      "16/16 [==============================] - 0s 2ms/step - loss: 0.4374 - acc: 0.7972 - val_loss: 0.4625 - val_acc: 0.7840\n",
      "Epoch 21/1000\n",
      "16/16 [==============================] - 0s 2ms/step - loss: 0.4370 - acc: 0.7972 - val_loss: 0.4622 - val_acc: 0.7760\n",
      "Epoch 22/1000\n",
      "16/16 [==============================] - 0s 2ms/step - loss: 0.4371 - acc: 0.7972 - val_loss: 0.4597 - val_acc: 0.7840\n",
      "Epoch 23/1000\n",
      "16/16 [==============================] - 0s 2ms/step - loss: 0.4418 - acc: 0.7972 - val_loss: 0.4556 - val_acc: 0.8000\n",
      "Epoch 24/1000\n",
      "16/16 [==============================] - 0s 2ms/step - loss: 0.4391 - acc: 0.7972 - val_loss: 0.4693 - val_acc: 0.7680\n",
      "Epoch 25/1000\n",
      "16/16 [==============================] - 0s 2ms/step - loss: 0.4365 - acc: 0.8012 - val_loss: 0.4566 - val_acc: 0.8000\n",
      "Epoch 26/1000\n",
      "16/16 [==============================] - 0s 2ms/step - loss: 0.4387 - acc: 0.7992 - val_loss: 0.4582 - val_acc: 0.7840\n",
      "Epoch 27/1000\n",
      "16/16 [==============================] - 0s 2ms/step - loss: 0.4379 - acc: 0.8012 - val_loss: 0.4559 - val_acc: 0.8000\n",
      "Epoch 28/1000\n",
      "16/16 [==============================] - 0s 2ms/step - loss: 0.4396 - acc: 0.7992 - val_loss: 0.4611 - val_acc: 0.7920\n",
      "Epoch 29/1000\n",
      "16/16 [==============================] - 0s 2ms/step - loss: 0.4393 - acc: 0.8012 - val_loss: 0.4566 - val_acc: 0.7920\n",
      "Epoch 30/1000\n",
      "16/16 [==============================] - 0s 2ms/step - loss: 0.4391 - acc: 0.8032 - val_loss: 0.4561 - val_acc: 0.7920\n",
      "Epoch 31/1000\n",
      "16/16 [==============================] - 0s 2ms/step - loss: 0.4362 - acc: 0.8012 - val_loss: 0.4602 - val_acc: 0.7680\n",
      "Epoch 32/1000\n",
      "16/16 [==============================] - 0s 2ms/step - loss: 0.4381 - acc: 0.7912 - val_loss: 0.4569 - val_acc: 0.7920\n",
      "Epoch 33/1000\n",
      "16/16 [==============================] - 0s 2ms/step - loss: 0.4362 - acc: 0.7992 - val_loss: 0.4588 - val_acc: 0.7920\n",
      "Epoch 34/1000\n",
      "16/16 [==============================] - 0s 2ms/step - loss: 0.4382 - acc: 0.8092 - val_loss: 0.4602 - val_acc: 0.7680\n",
      "Epoch 35/1000\n",
      "16/16 [==============================] - 0s 2ms/step - loss: 0.4386 - acc: 0.7912 - val_loss: 0.4553 - val_acc: 0.8000\n",
      "Epoch 36/1000\n",
      "16/16 [==============================] - 0s 2ms/step - loss: 0.4390 - acc: 0.7851 - val_loss: 0.4580 - val_acc: 0.7840\n",
      "Epoch 37/1000\n",
      "16/16 [==============================] - 0s 2ms/step - loss: 0.4418 - acc: 0.8072 - val_loss: 0.4674 - val_acc: 0.7680\n",
      "Epoch 38/1000\n",
      "16/16 [==============================] - 0s 2ms/step - loss: 0.4396 - acc: 0.7912 - val_loss: 0.4592 - val_acc: 0.8080\n",
      "Epoch 39/1000\n",
      "16/16 [==============================] - 0s 2ms/step - loss: 0.4419 - acc: 0.7892 - val_loss: 0.4637 - val_acc: 0.7600\n",
      "Epoch 40/1000\n",
      "16/16 [==============================] - 0s 2ms/step - loss: 0.4361 - acc: 0.8052 - val_loss: 0.4567 - val_acc: 0.7840\n",
      "Epoch 41/1000\n",
      "16/16 [==============================] - 0s 2ms/step - loss: 0.4351 - acc: 0.8092 - val_loss: 0.4620 - val_acc: 0.7680\n",
      "Epoch 42/1000\n",
      "16/16 [==============================] - 0s 2ms/step - loss: 0.4366 - acc: 0.7972 - val_loss: 0.4565 - val_acc: 0.8080\n",
      "Epoch 43/1000\n",
      "16/16 [==============================] - 0s 2ms/step - loss: 0.4389 - acc: 0.7992 - val_loss: 0.4564 - val_acc: 0.7840\n",
      "Epoch 44/1000\n",
      "16/16 [==============================] - 0s 2ms/step - loss: 0.4383 - acc: 0.7912 - val_loss: 0.4705 - val_acc: 0.7680\n",
      "Epoch 45/1000\n",
      "16/16 [==============================] - 0s 2ms/step - loss: 0.4372 - acc: 0.8032 - val_loss: 0.4563 - val_acc: 0.7840\n",
      "Epoch 46/1000\n",
      "16/16 [==============================] - 0s 2ms/step - loss: 0.4380 - acc: 0.8012 - val_loss: 0.4614 - val_acc: 0.7680\n",
      "Epoch 47/1000\n",
      "16/16 [==============================] - 0s 2ms/step - loss: 0.4411 - acc: 0.7892 - val_loss: 0.4555 - val_acc: 0.8080\n",
      "Epoch 48/1000\n",
      "16/16 [==============================] - 0s 2ms/step - loss: 0.4396 - acc: 0.7992 - val_loss: 0.4635 - val_acc: 0.7760\n",
      "Epoch 49/1000\n",
      "16/16 [==============================] - 0s 2ms/step - loss: 0.4386 - acc: 0.8072 - val_loss: 0.4593 - val_acc: 0.7760\n",
      "Epoch 50/1000\n",
      "16/16 [==============================] - 0s 2ms/step - loss: 0.4367 - acc: 0.8072 - val_loss: 0.4654 - val_acc: 0.7680\n",
      "Epoch 51/1000\n",
      "16/16 [==============================] - 0s 2ms/step - loss: 0.4385 - acc: 0.7952 - val_loss: 0.4573 - val_acc: 0.7680\n",
      "Epoch 52/1000\n",
      "16/16 [==============================] - 0s 2ms/step - loss: 0.4355 - acc: 0.7952 - val_loss: 0.4530 - val_acc: 0.7920\n",
      "Epoch 53/1000\n",
      "16/16 [==============================] - 0s 2ms/step - loss: 0.4364 - acc: 0.8012 - val_loss: 0.4567 - val_acc: 0.7760\n",
      "Epoch 54/1000\n",
      "16/16 [==============================] - 0s 2ms/step - loss: 0.4361 - acc: 0.7992 - val_loss: 0.4551 - val_acc: 0.7920\n",
      "Epoch 55/1000\n",
      "16/16 [==============================] - 0s 2ms/step - loss: 0.4384 - acc: 0.7992 - val_loss: 0.4599 - val_acc: 0.7760\n",
      "Epoch 56/1000\n",
      "16/16 [==============================] - 0s 2ms/step - loss: 0.4363 - acc: 0.7992 - val_loss: 0.4537 - val_acc: 0.7920\n",
      "Epoch 57/1000\n",
      "16/16 [==============================] - 0s 2ms/step - loss: 0.4371 - acc: 0.7992 - val_loss: 0.4561 - val_acc: 0.7840\n",
      "Epoch 58/1000\n",
      "16/16 [==============================] - 0s 2ms/step - loss: 0.4391 - acc: 0.7992 - val_loss: 0.4611 - val_acc: 0.7760\n",
      "Epoch 59/1000\n",
      "16/16 [==============================] - 0s 2ms/step - loss: 0.4370 - acc: 0.7952 - val_loss: 0.4616 - val_acc: 0.7760\n",
      "Epoch 60/1000\n",
      "16/16 [==============================] - 0s 2ms/step - loss: 0.4355 - acc: 0.8052 - val_loss: 0.4612 - val_acc: 0.7600\n",
      "Epoch 61/1000\n",
      "16/16 [==============================] - 0s 2ms/step - loss: 0.4367 - acc: 0.8012 - val_loss: 0.4591 - val_acc: 0.7680\n",
      "Epoch 62/1000\n",
      "16/16 [==============================] - 0s 2ms/step - loss: 0.4372 - acc: 0.8032 - val_loss: 0.4567 - val_acc: 0.7920\n",
      "Epoch 63/1000\n",
      "16/16 [==============================] - 0s 2ms/step - loss: 0.4372 - acc: 0.8012 - val_loss: 0.4623 - val_acc: 0.7760\n",
      "Epoch 64/1000\n",
      "16/16 [==============================] - 0s 2ms/step - loss: 0.4370 - acc: 0.7892 - val_loss: 0.4572 - val_acc: 0.7760\n",
      "Epoch 65/1000\n",
      "16/16 [==============================] - 0s 2ms/step - loss: 0.4364 - acc: 0.8012 - val_loss: 0.4631 - val_acc: 0.7760\n",
      "Epoch 66/1000\n",
      "16/16 [==============================] - 0s 2ms/step - loss: 0.4357 - acc: 0.7992 - val_loss: 0.4562 - val_acc: 0.7760\n",
      "Epoch 67/1000\n",
      "16/16 [==============================] - 0s 2ms/step - loss: 0.4358 - acc: 0.8112 - val_loss: 0.4552 - val_acc: 0.7840\n",
      "Epoch 68/1000\n",
      "16/16 [==============================] - 0s 2ms/step - loss: 0.4380 - acc: 0.7972 - val_loss: 0.4586 - val_acc: 0.7760\n",
      "Epoch 69/1000\n",
      "16/16 [==============================] - 0s 2ms/step - loss: 0.4357 - acc: 0.7992 - val_loss: 0.4554 - val_acc: 0.7840\n",
      "Epoch 70/1000\n",
      "16/16 [==============================] - 0s 2ms/step - loss: 0.4374 - acc: 0.8012 - val_loss: 0.4566 - val_acc: 0.7920\n",
      "Epoch 71/1000\n",
      "16/16 [==============================] - 0s 2ms/step - loss: 0.4405 - acc: 0.8012 - val_loss: 0.4654 - val_acc: 0.7680\n",
      "Epoch 72/1000\n",
      "16/16 [==============================] - 0s 2ms/step - loss: 0.4408 - acc: 0.8012 - val_loss: 0.4575 - val_acc: 0.7840\n",
      "Epoch 73/1000\n",
      "16/16 [==============================] - 0s 2ms/step - loss: 0.4369 - acc: 0.8012 - val_loss: 0.4562 - val_acc: 0.8000\n",
      "Epoch 74/1000\n",
      "16/16 [==============================] - 0s 2ms/step - loss: 0.4383 - acc: 0.8032 - val_loss: 0.4545 - val_acc: 0.8000\n",
      "Epoch 75/1000\n",
      "16/16 [==============================] - 0s 2ms/step - loss: 0.4364 - acc: 0.8032 - val_loss: 0.4603 - val_acc: 0.7760\n",
      "Epoch 76/1000\n",
      "16/16 [==============================] - 0s 2ms/step - loss: 0.4405 - acc: 0.8012 - val_loss: 0.4555 - val_acc: 0.8080\n",
      "Epoch 77/1000\n",
      "16/16 [==============================] - 0s 2ms/step - loss: 0.4421 - acc: 0.8052 - val_loss: 0.4536 - val_acc: 0.7920\n",
      "Epoch 78/1000\n",
      "16/16 [==============================] - 0s 2ms/step - loss: 0.4403 - acc: 0.8092 - val_loss: 0.4601 - val_acc: 0.7600\n",
      "Epoch 79/1000\n",
      "16/16 [==============================] - 0s 2ms/step - loss: 0.4396 - acc: 0.8012 - val_loss: 0.4639 - val_acc: 0.7760\n",
      "Epoch 80/1000\n",
      "16/16 [==============================] - 0s 2ms/step - loss: 0.4393 - acc: 0.7952 - val_loss: 0.4553 - val_acc: 0.7840\n",
      "Epoch 81/1000\n",
      "16/16 [==============================] - 0s 2ms/step - loss: 0.4398 - acc: 0.7912 - val_loss: 0.4560 - val_acc: 0.7920\n",
      "Epoch 82/1000\n",
      "16/16 [==============================] - 0s 2ms/step - loss: 0.4354 - acc: 0.7972 - val_loss: 0.4593 - val_acc: 0.7680\n",
      "Epoch 83/1000\n",
      "16/16 [==============================] - 0s 2ms/step - loss: 0.4372 - acc: 0.7992 - val_loss: 0.4556 - val_acc: 0.8000\n",
      "Epoch 84/1000\n",
      "16/16 [==============================] - 0s 2ms/step - loss: 0.4389 - acc: 0.7912 - val_loss: 0.4617 - val_acc: 0.7600\n",
      "Epoch 85/1000\n",
      "16/16 [==============================] - 0s 2ms/step - loss: 0.4549 - acc: 0.7932 - val_loss: 0.4554 - val_acc: 0.8080\n",
      "Epoch 86/1000\n",
      "16/16 [==============================] - 0s 2ms/step - loss: 0.4361 - acc: 0.8072 - val_loss: 0.4696 - val_acc: 0.7680\n",
      "Epoch 87/1000\n",
      "16/16 [==============================] - 0s 2ms/step - loss: 0.4385 - acc: 0.7952 - val_loss: 0.4563 - val_acc: 0.7840\n",
      "Epoch 88/1000\n",
      "16/16 [==============================] - 0s 2ms/step - loss: 0.4377 - acc: 0.8032 - val_loss: 0.4623 - val_acc: 0.7760\n",
      "Epoch 89/1000\n",
      "16/16 [==============================] - 0s 2ms/step - loss: 0.4409 - acc: 0.7992 - val_loss: 0.4547 - val_acc: 0.7840\n",
      "Epoch 90/1000\n",
      "16/16 [==============================] - 0s 2ms/step - loss: 0.4368 - acc: 0.8072 - val_loss: 0.4618 - val_acc: 0.7760\n",
      "Epoch 91/1000\n",
      "16/16 [==============================] - 0s 2ms/step - loss: 0.4398 - acc: 0.7952 - val_loss: 0.4544 - val_acc: 0.7920\n",
      "Epoch 92/1000\n",
      "16/16 [==============================] - 0s 2ms/step - loss: 0.4395 - acc: 0.7992 - val_loss: 0.4607 - val_acc: 0.7600\n",
      "Epoch 93/1000\n",
      "16/16 [==============================] - 0s 2ms/step - loss: 0.4370 - acc: 0.7952 - val_loss: 0.4551 - val_acc: 0.8000\n",
      "Epoch 94/1000\n",
      "16/16 [==============================] - 0s 2ms/step - loss: 0.4376 - acc: 0.7992 - val_loss: 0.4582 - val_acc: 0.7680\n",
      "Epoch 95/1000\n",
      "16/16 [==============================] - 0s 2ms/step - loss: 0.4387 - acc: 0.7972 - val_loss: 0.4595 - val_acc: 0.7680\n",
      "Epoch 96/1000\n",
      "16/16 [==============================] - 0s 2ms/step - loss: 0.4357 - acc: 0.8032 - val_loss: 0.4561 - val_acc: 0.8000\n",
      "Epoch 97/1000\n",
      "16/16 [==============================] - 0s 2ms/step - loss: 0.4350 - acc: 0.8072 - val_loss: 0.4614 - val_acc: 0.7760\n",
      "Epoch 98/1000\n",
      "16/16 [==============================] - 0s 2ms/step - loss: 0.4394 - acc: 0.7972 - val_loss: 0.4543 - val_acc: 0.7920\n",
      "Epoch 99/1000\n",
      "16/16 [==============================] - 0s 2ms/step - loss: 0.4367 - acc: 0.8032 - val_loss: 0.4665 - val_acc: 0.7680\n",
      "Epoch 100/1000\n",
      "16/16 [==============================] - 0s 2ms/step - loss: 0.4399 - acc: 0.7892 - val_loss: 0.4612 - val_acc: 0.7760\n",
      "Epoch 101/1000\n",
      "16/16 [==============================] - 0s 2ms/step - loss: 0.4362 - acc: 0.8012 - val_loss: 0.4573 - val_acc: 0.7760\n",
      "Epoch 102/1000\n",
      "16/16 [==============================] - 0s 2ms/step - loss: 0.4356 - acc: 0.8072 - val_loss: 0.4561 - val_acc: 0.7920\n",
      "Epoch 103/1000\n",
      "16/16 [==============================] - 0s 2ms/step - loss: 0.4384 - acc: 0.8032 - val_loss: 0.4658 - val_acc: 0.7680\n",
      "Epoch 104/1000\n",
      "16/16 [==============================] - 0s 2ms/step - loss: 0.4413 - acc: 0.7892 - val_loss: 0.4557 - val_acc: 0.8080\n",
      "Epoch 105/1000\n",
      "16/16 [==============================] - 0s 2ms/step - loss: 0.4416 - acc: 0.7952 - val_loss: 0.4612 - val_acc: 0.7760\n",
      "Epoch 106/1000\n",
      "16/16 [==============================] - 0s 2ms/step - loss: 0.4381 - acc: 0.7952 - val_loss: 0.4546 - val_acc: 0.8000\n",
      "Epoch 107/1000\n",
      "16/16 [==============================] - 0s 2ms/step - loss: 0.4390 - acc: 0.7972 - val_loss: 0.4578 - val_acc: 0.7760\n",
      "Epoch 108/1000\n",
      "16/16 [==============================] - 0s 2ms/step - loss: 0.4356 - acc: 0.8072 - val_loss: 0.4566 - val_acc: 0.7920\n",
      "Epoch 109/1000\n",
      "16/16 [==============================] - 0s 2ms/step - loss: 0.4381 - acc: 0.7952 - val_loss: 0.4614 - val_acc: 0.7760\n",
      "Epoch 110/1000\n",
      "16/16 [==============================] - 0s 2ms/step - loss: 0.4481 - acc: 0.8072 - val_loss: 0.4580 - val_acc: 0.8080\n",
      "Epoch 111/1000\n",
      "16/16 [==============================] - 0s 2ms/step - loss: 0.4460 - acc: 0.8213 - val_loss: 0.4733 - val_acc: 0.7680\n",
      "Epoch 112/1000\n",
      "16/16 [==============================] - 0s 2ms/step - loss: 0.4402 - acc: 0.8052 - val_loss: 0.4565 - val_acc: 0.7840\n",
      "Epoch 113/1000\n",
      "16/16 [==============================] - 0s 2ms/step - loss: 0.4418 - acc: 0.7952 - val_loss: 0.4630 - val_acc: 0.7680\n",
      "Epoch 114/1000\n",
      "16/16 [==============================] - 0s 2ms/step - loss: 0.4357 - acc: 0.8032 - val_loss: 0.4559 - val_acc: 0.7920\n",
      "Epoch 115/1000\n",
      "16/16 [==============================] - 0s 2ms/step - loss: 0.4365 - acc: 0.8052 - val_loss: 0.4634 - val_acc: 0.7680\n",
      "Epoch 116/1000\n",
      "16/16 [==============================] - 0s 2ms/step - loss: 0.4403 - acc: 0.7932 - val_loss: 0.4651 - val_acc: 0.7680\n",
      "Epoch 117/1000\n",
      "16/16 [==============================] - 0s 2ms/step - loss: 0.4372 - acc: 0.7972 - val_loss: 0.4599 - val_acc: 0.7680\n",
      "Epoch 118/1000\n",
      "16/16 [==============================] - 0s 2ms/step - loss: 0.4355 - acc: 0.7992 - val_loss: 0.4602 - val_acc: 0.7760\n",
      "Epoch 119/1000\n",
      "16/16 [==============================] - 0s 2ms/step - loss: 0.4389 - acc: 0.7972 - val_loss: 0.4535 - val_acc: 0.8080\n",
      "Epoch 120/1000\n",
      "16/16 [==============================] - 0s 2ms/step - loss: 0.4347 - acc: 0.8052 - val_loss: 0.4665 - val_acc: 0.7680\n",
      "Epoch 121/1000\n",
      "16/16 [==============================] - 0s 2ms/step - loss: 0.4513 - acc: 0.7811 - val_loss: 0.4594 - val_acc: 0.8160\n",
      "Epoch 122/1000\n",
      "16/16 [==============================] - 0s 2ms/step - loss: 0.4408 - acc: 0.8092 - val_loss: 0.4615 - val_acc: 0.7600\n",
      "Epoch 123/1000\n",
      "16/16 [==============================] - 0s 2ms/step - loss: 0.4391 - acc: 0.7952 - val_loss: 0.4550 - val_acc: 0.8080\n",
      "Epoch 124/1000\n",
      "16/16 [==============================] - 0s 2ms/step - loss: 0.4445 - acc: 0.7992 - val_loss: 0.4625 - val_acc: 0.7600\n",
      "Epoch 125/1000\n",
      "16/16 [==============================] - 0s 2ms/step - loss: 0.4408 - acc: 0.7972 - val_loss: 0.4598 - val_acc: 0.7680\n",
      "Epoch 126/1000\n",
      "16/16 [==============================] - 0s 2ms/step - loss: 0.4362 - acc: 0.7992 - val_loss: 0.4554 - val_acc: 0.8000\n",
      "Epoch 127/1000\n",
      "16/16 [==============================] - 0s 2ms/step - loss: 0.4375 - acc: 0.8012 - val_loss: 0.4567 - val_acc: 0.7680\n",
      "Epoch 128/1000\n",
      "16/16 [==============================] - 0s 2ms/step - loss: 0.4394 - acc: 0.8012 - val_loss: 0.4583 - val_acc: 0.7680\n",
      "Epoch 129/1000\n",
      "16/16 [==============================] - 0s 2ms/step - loss: 0.4434 - acc: 0.7972 - val_loss: 0.4531 - val_acc: 0.8000\n",
      "Epoch 130/1000\n",
      "16/16 [==============================] - 0s 2ms/step - loss: 0.4414 - acc: 0.7992 - val_loss: 0.4544 - val_acc: 0.7920\n",
      "Epoch 131/1000\n",
      "16/16 [==============================] - 0s 2ms/step - loss: 0.4350 - acc: 0.8012 - val_loss: 0.4597 - val_acc: 0.7680\n",
      "Epoch 132/1000\n",
      "16/16 [==============================] - 0s 2ms/step - loss: 0.4410 - acc: 0.7952 - val_loss: 0.4656 - val_acc: 0.7680\n",
      "Epoch 133/1000\n",
      "16/16 [==============================] - 0s 2ms/step - loss: 0.4381 - acc: 0.7952 - val_loss: 0.4535 - val_acc: 0.8000\n",
      "Epoch 134/1000\n",
      "16/16 [==============================] - 0s 2ms/step - loss: 0.4435 - acc: 0.8032 - val_loss: 0.4562 - val_acc: 0.7920\n",
      "Epoch 135/1000\n",
      "16/16 [==============================] - 0s 2ms/step - loss: 0.4423 - acc: 0.7871 - val_loss: 0.4577 - val_acc: 0.7760\n",
      "Epoch 136/1000\n",
      "16/16 [==============================] - 0s 2ms/step - loss: 0.4403 - acc: 0.8052 - val_loss: 0.4543 - val_acc: 0.7920\n",
      "Epoch 137/1000\n",
      "16/16 [==============================] - 0s 2ms/step - loss: 0.4379 - acc: 0.7972 - val_loss: 0.4667 - val_acc: 0.7680\n",
      "Epoch 138/1000\n",
      "16/16 [==============================] - 0s 2ms/step - loss: 0.4361 - acc: 0.7952 - val_loss: 0.4537 - val_acc: 0.8000\n",
      "Epoch 139/1000\n",
      "16/16 [==============================] - 0s 2ms/step - loss: 0.4384 - acc: 0.7992 - val_loss: 0.4632 - val_acc: 0.7760\n",
      "Epoch 140/1000\n",
      "16/16 [==============================] - 0s 2ms/step - loss: 0.4364 - acc: 0.7932 - val_loss: 0.4593 - val_acc: 0.7680\n",
      "Epoch 141/1000\n",
      "16/16 [==============================] - 0s 2ms/step - loss: 0.4379 - acc: 0.7912 - val_loss: 0.4558 - val_acc: 0.7920\n",
      "Epoch 142/1000\n",
      "16/16 [==============================] - 0s 2ms/step - loss: 0.4380 - acc: 0.8032 - val_loss: 0.4573 - val_acc: 0.7680\n",
      "Epoch 143/1000\n",
      "16/16 [==============================] - 0s 2ms/step - loss: 0.4370 - acc: 0.7871 - val_loss: 0.4547 - val_acc: 0.7920\n",
      "Epoch 144/1000\n",
      "16/16 [==============================] - 0s 2ms/step - loss: 0.4396 - acc: 0.7952 - val_loss: 0.4685 - val_acc: 0.7680\n",
      "Epoch 145/1000\n",
      "16/16 [==============================] - 0s 2ms/step - loss: 0.4389 - acc: 0.7952 - val_loss: 0.4565 - val_acc: 0.7840\n",
      "Epoch 146/1000\n",
      "16/16 [==============================] - 0s 2ms/step - loss: 0.4346 - acc: 0.8052 - val_loss: 0.4632 - val_acc: 0.7760\n",
      "Epoch 147/1000\n",
      "16/16 [==============================] - 0s 2ms/step - loss: 0.4372 - acc: 0.7952 - val_loss: 0.4553 - val_acc: 0.7920\n",
      "Epoch 148/1000\n",
      "16/16 [==============================] - 0s 2ms/step - loss: 0.4380 - acc: 0.7912 - val_loss: 0.4654 - val_acc: 0.7680\n",
      "Epoch 149/1000\n",
      "16/16 [==============================] - 0s 2ms/step - loss: 0.4368 - acc: 0.7932 - val_loss: 0.4544 - val_acc: 0.8080\n",
      "Epoch 150/1000\n",
      "16/16 [==============================] - 0s 2ms/step - loss: 0.4375 - acc: 0.8012 - val_loss: 0.4653 - val_acc: 0.7680\n",
      "Epoch 151/1000\n",
      "16/16 [==============================] - 0s 2ms/step - loss: 0.4375 - acc: 0.7952 - val_loss: 0.4569 - val_acc: 0.7680\n",
      "Epoch 152/1000\n",
      "16/16 [==============================] - 0s 2ms/step - loss: 0.4417 - acc: 0.7912 - val_loss: 0.4708 - val_acc: 0.7680\n"
     ]
    },
    {
     "data": {
      "text/plain": [
       "Pipeline(steps=[('minmaxscaler', MinMaxScaler()),\n",
       "                ('kerasclassifier',\n",
       "                 <keras.wrappers.scikit_learn.KerasClassifier object at 0x0000029657056AF0>)])"
      ]
     },
     "metadata": {},
     "output_type": "display_data"
    }
   ],
   "source": [
    "pmodel = make_pipeline(MinMaxScaler(), kcf)\n",
    "pmodel.fit(x_train, y_train)"
   ]
  },
  {
   "cell_type": "code",
   "execution_count": null,
   "metadata": {},
   "outputs": [
    {
     "data": {
      "text/plain": [
       "[<matplotlib.lines.Line2D at 0x2965713a6a0>]"
      ]
     },
     "metadata": {},
     "output_type": "display_data"
    },
    {
     "data": {
      "image/png": "[encoded data removed]",
      "text/plain": [
       "<Figure size 432x288 with 1 Axes>"
      ]
     },
     "metadata": {},
     "output_type": "display_data"
    }
   ],
   "source": [
    "plt.plot(h.history['loss'])\n",
    "plt.plot(h.history['val_loss'])"
   ]
  },
  {
   "cell_type": "code",
   "execution_count": null,
   "metadata": {},
   "outputs": [
    {
     "data": {
      "text/plain": [
       "[<matplotlib.lines.Line2D at 0x2965719a280>]"
      ]
     },
     "metadata": {},
     "output_type": "display_data"
    },
    {
     "data": {
      "image/png": "[encoded data removed]",
      "text/plain": [
       "<Figure size 432x288 with 1 Axes>"
      ]
     },
     "metadata": {},
     "output_type": "display_data"
    }
   ],
   "source": [
    "plt.plot(h.history['acc'])\n",
    "plt.plot(h.history['val_acc'])"
   ]
  },
  {
   "cell_type": "code",
   "execution_count": null,
   "metadata": {},
   "outputs": [
    {
     "data": {
      "text/plain": [
       "['Survived']"
      ]
     },
     "metadata": {},
     "output_type": "display_data"
    }
   ],
   "source": [
    "def resultFn(x):\n",
    "    res = int(x)\n",
    "    return ['Survived' if res ==1 else 'Dead']\n",
    "\n",
    "resultFn(pmodel.predict(test))"
   ]
  },
  {
   "cell_type": "code",
   "execution_count": null,
   "metadata": {},
   "outputs": [
    {
     "name": "stdout",
     "output_type": "stream",
     "text": [
      "0.6944444444444445\n",
      "******************************\n",
      "[[127  38]\n",
      " [ 28  75]]\n"
     ]
    }
   ],
   "source": [
    "print(f1_score(y_test, pmodel.predict(x_test)))\n",
    "print(\"*\"*30)\n",
    "print(confusion_matrix(y_test, pmodel.predict(x_test)))"
   ]
  },
  {
   "cell_type": "code",
   "execution_count": null,
   "metadata": {},
   "outputs": [
    {
     "data": {
      "text/plain": [
       "Text(34.0, 0.5, 'Real')"
      ]
     },
     "metadata": {},
     "output_type": "display_data"
    },
    {
     "data": {
      "image/png": "[encoded data removed]",
      "text/plain": [
       "<Figure size 432x288 with 2 Axes>"
      ]
     },
     "metadata": {},
     "output_type": "display_data"
    }
   ],
   "source": [
    "sns.heatmap(confusion_matrix(y_test,\n",
    "                             pmodel.predict(x_test)),\n",
    "                             annot= True,\n",
    "                             fmt= 'd',\n",
    "                             linewidths= 0.2,\n",
    "                             cmap = 'Reds',\n",
    "                             vmin= 0,\n",
    "                             vmax =450,\n",
    "                             xticklabels=['DEAD','SURVIVED'],\n",
    "                             yticklabels=['DEAD','SURVIVED']\n",
    "                             )\n",
    "plt.xlabel('Prediction')\n",
    "plt.ylabel('Real')"
   ]
  }
 ],
 "metadata": {
  "language_info": {
   "name": "python"
  },
  "orig_nbformat": 4
 },
 "nbformat": 4,
 "nbformat_minor": 2
}
