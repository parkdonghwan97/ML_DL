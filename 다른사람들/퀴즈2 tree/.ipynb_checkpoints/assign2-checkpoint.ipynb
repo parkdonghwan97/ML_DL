{
 "cells": [
  {
   "cell_type": "markdown",
   "id": "363adce9",
   "metadata": {},
   "source": [
    "# Library Import"
   ]
  },
  {
   "cell_type": "code",
   "execution_count": 1,
   "id": "fd41e198",
   "metadata": {
    "ExecuteTime": {
     "end_time": "2021-12-22T07:34:09.155480Z",
     "start_time": "2021-12-22T07:34:05.440426Z"
    }
   },
   "outputs": [],
   "source": [
    "import numpy as np\n",
    "import pandas as pd\n",
    "\n",
    "import tensorflow as tf\n",
    "\n",
    "import matplotlib.pyplot as plt\n",
    "import seaborn as sb\n",
    "from sklearn.datasets import load_boston"
   ]
  },
  {
   "cell_type": "code",
   "execution_count": 32,
   "id": "22f738b7",
   "metadata": {
    "ExecuteTime": {
     "end_time": "2021-12-22T07:49:25.123341Z",
     "start_time": "2021-12-22T07:49:25.120354Z"
    }
   },
   "outputs": [],
   "source": [
    "plt.rcParams['figure.figsize'] = [14, 9]\n",
    "plt.rcParams['xtick.labelsize'] = 15\n",
    "plt.rcParams['ytick.labelsize'] = 15\n",
    "plt.rcParams['axes.titlesize'] = 30\n",
    "plt.rcParams['axes.labelsize'] = 25"
   ]
  },
  {
   "cell_type": "code",
   "execution_count": null,
   "id": "519ea7f2",
   "metadata": {},
   "outputs": [],
   "source": []
  },
  {
   "cell_type": "markdown",
   "id": "69fa48c5",
   "metadata": {},
   "source": [
    "# assign 2\n",
    "\n",
    "```\n",
    "1번) trees.csv를 읽어들여서 아래에 대해 Volume을 예측해 보시오.(텐서, 케라스, 정규화후 처리)\n",
    "Girth 8.8, 10.5\n",
    "Height 63, 72\n",
    "\n",
    "2. volume이 40 이상이면 크다, 30이상이면 보통 미만이면 적음으로 아래와 같이 출력하시오.\n",
    "volume  정도\n",
    "============\n",
    " 10.3    적음\n",
    "...\n",
    "\n",
    "3. Height이 가장 작은값과 큰값을 구하시오.\n",
    "\n",
    "4. girth(테두리) 가 가장큰 top5를 출력하세오.(girth, height, volume)\n",
    "```"
   ]
  },
  {
   "cell_type": "code",
   "execution_count": null,
   "id": "852b249c",
   "metadata": {},
   "outputs": [],
   "source": []
  },
  {
   "cell_type": "markdown",
   "id": "c541d270",
   "metadata": {},
   "source": [
    "# 1번) trees.csv를 읽어들여서 아래에 대해 Volume을 예측해 보시오.(텐서, 케라스, 정규화후 처리)"
   ]
  },
  {
   "cell_type": "code",
   "execution_count": 3,
   "id": "0b453175",
   "metadata": {
    "ExecuteTime": {
     "end_time": "2021-12-22T07:34:50.765276Z",
     "start_time": "2021-12-22T07:34:50.750301Z"
    },
    "scrolled": true
   },
   "outputs": [
    {
     "data": {
      "text/html": [
       "<div>\n",
       "<style scoped>\n",
       "    .dataframe tbody tr th:only-of-type {\n",
       "        vertical-align: middle;\n",
       "    }\n",
       "\n",
       "    .dataframe tbody tr th {\n",
       "        vertical-align: top;\n",
       "    }\n",
       "\n",
       "    .dataframe thead th {\n",
       "        text-align: right;\n",
       "    }\n",
       "</style>\n",
       "<table border=\"1\" class=\"dataframe\">\n",
       "  <thead>\n",
       "    <tr style=\"text-align: right;\">\n",
       "      <th></th>\n",
       "      <th>Girth</th>\n",
       "      <th>Height</th>\n",
       "      <th>Volume</th>\n",
       "    </tr>\n",
       "  </thead>\n",
       "  <tbody>\n",
       "    <tr>\n",
       "      <th>0</th>\n",
       "      <td>8.3</td>\n",
       "      <td>70</td>\n",
       "      <td>10.3</td>\n",
       "    </tr>\n",
       "    <tr>\n",
       "      <th>1</th>\n",
       "      <td>8.6</td>\n",
       "      <td>65</td>\n",
       "      <td>10.3</td>\n",
       "    </tr>\n",
       "    <tr>\n",
       "      <th>2</th>\n",
       "      <td>8.8</td>\n",
       "      <td>63</td>\n",
       "      <td>10.2</td>\n",
       "    </tr>\n",
       "    <tr>\n",
       "      <th>3</th>\n",
       "      <td>10.5</td>\n",
       "      <td>72</td>\n",
       "      <td>16.4</td>\n",
       "    </tr>\n",
       "    <tr>\n",
       "      <th>4</th>\n",
       "      <td>10.7</td>\n",
       "      <td>81</td>\n",
       "      <td>18.8</td>\n",
       "    </tr>\n",
       "    <tr>\n",
       "      <th>5</th>\n",
       "      <td>10.8</td>\n",
       "      <td>83</td>\n",
       "      <td>19.7</td>\n",
       "    </tr>\n",
       "    <tr>\n",
       "      <th>6</th>\n",
       "      <td>11.0</td>\n",
       "      <td>66</td>\n",
       "      <td>15.6</td>\n",
       "    </tr>\n",
       "    <tr>\n",
       "      <th>7</th>\n",
       "      <td>11.0</td>\n",
       "      <td>75</td>\n",
       "      <td>18.2</td>\n",
       "    </tr>\n",
       "    <tr>\n",
       "      <th>8</th>\n",
       "      <td>11.1</td>\n",
       "      <td>80</td>\n",
       "      <td>22.6</td>\n",
       "    </tr>\n",
       "    <tr>\n",
       "      <th>9</th>\n",
       "      <td>11.2</td>\n",
       "      <td>75</td>\n",
       "      <td>19.9</td>\n",
       "    </tr>\n",
       "    <tr>\n",
       "      <th>10</th>\n",
       "      <td>11.3</td>\n",
       "      <td>79</td>\n",
       "      <td>24.2</td>\n",
       "    </tr>\n",
       "    <tr>\n",
       "      <th>11</th>\n",
       "      <td>11.4</td>\n",
       "      <td>76</td>\n",
       "      <td>21.0</td>\n",
       "    </tr>\n",
       "    <tr>\n",
       "      <th>12</th>\n",
       "      <td>11.4</td>\n",
       "      <td>76</td>\n",
       "      <td>21.4</td>\n",
       "    </tr>\n",
       "    <tr>\n",
       "      <th>13</th>\n",
       "      <td>11.7</td>\n",
       "      <td>69</td>\n",
       "      <td>21.3</td>\n",
       "    </tr>\n",
       "    <tr>\n",
       "      <th>14</th>\n",
       "      <td>12.0</td>\n",
       "      <td>75</td>\n",
       "      <td>19.1</td>\n",
       "    </tr>\n",
       "    <tr>\n",
       "      <th>15</th>\n",
       "      <td>12.9</td>\n",
       "      <td>74</td>\n",
       "      <td>22.2</td>\n",
       "    </tr>\n",
       "    <tr>\n",
       "      <th>16</th>\n",
       "      <td>12.9</td>\n",
       "      <td>85</td>\n",
       "      <td>33.8</td>\n",
       "    </tr>\n",
       "    <tr>\n",
       "      <th>17</th>\n",
       "      <td>13.3</td>\n",
       "      <td>86</td>\n",
       "      <td>27.4</td>\n",
       "    </tr>\n",
       "    <tr>\n",
       "      <th>18</th>\n",
       "      <td>13.7</td>\n",
       "      <td>71</td>\n",
       "      <td>25.7</td>\n",
       "    </tr>\n",
       "    <tr>\n",
       "      <th>19</th>\n",
       "      <td>13.8</td>\n",
       "      <td>64</td>\n",
       "      <td>24.9</td>\n",
       "    </tr>\n",
       "    <tr>\n",
       "      <th>20</th>\n",
       "      <td>14.0</td>\n",
       "      <td>78</td>\n",
       "      <td>34.5</td>\n",
       "    </tr>\n",
       "    <tr>\n",
       "      <th>21</th>\n",
       "      <td>14.2</td>\n",
       "      <td>80</td>\n",
       "      <td>31.7</td>\n",
       "    </tr>\n",
       "    <tr>\n",
       "      <th>22</th>\n",
       "      <td>14.5</td>\n",
       "      <td>74</td>\n",
       "      <td>36.3</td>\n",
       "    </tr>\n",
       "    <tr>\n",
       "      <th>23</th>\n",
       "      <td>16.0</td>\n",
       "      <td>72</td>\n",
       "      <td>38.3</td>\n",
       "    </tr>\n",
       "    <tr>\n",
       "      <th>24</th>\n",
       "      <td>16.3</td>\n",
       "      <td>77</td>\n",
       "      <td>42.6</td>\n",
       "    </tr>\n",
       "    <tr>\n",
       "      <th>25</th>\n",
       "      <td>17.3</td>\n",
       "      <td>81</td>\n",
       "      <td>55.4</td>\n",
       "    </tr>\n",
       "    <tr>\n",
       "      <th>26</th>\n",
       "      <td>17.5</td>\n",
       "      <td>82</td>\n",
       "      <td>55.7</td>\n",
       "    </tr>\n",
       "    <tr>\n",
       "      <th>27</th>\n",
       "      <td>17.9</td>\n",
       "      <td>80</td>\n",
       "      <td>58.3</td>\n",
       "    </tr>\n",
       "    <tr>\n",
       "      <th>28</th>\n",
       "      <td>18.0</td>\n",
       "      <td>80</td>\n",
       "      <td>51.5</td>\n",
       "    </tr>\n",
       "    <tr>\n",
       "      <th>29</th>\n",
       "      <td>18.0</td>\n",
       "      <td>80</td>\n",
       "      <td>51.0</td>\n",
       "    </tr>\n",
       "    <tr>\n",
       "      <th>30</th>\n",
       "      <td>20.6</td>\n",
       "      <td>87</td>\n",
       "      <td>77.0</td>\n",
       "    </tr>\n",
       "  </tbody>\n",
       "</table>\n",
       "</div>"
      ],
      "text/plain": [
       "    Girth  Height  Volume\n",
       "0     8.3      70    10.3\n",
       "1     8.6      65    10.3\n",
       "2     8.8      63    10.2\n",
       "3    10.5      72    16.4\n",
       "4    10.7      81    18.8\n",
       "5    10.8      83    19.7\n",
       "6    11.0      66    15.6\n",
       "7    11.0      75    18.2\n",
       "8    11.1      80    22.6\n",
       "9    11.2      75    19.9\n",
       "10   11.3      79    24.2\n",
       "11   11.4      76    21.0\n",
       "12   11.4      76    21.4\n",
       "13   11.7      69    21.3\n",
       "14   12.0      75    19.1\n",
       "15   12.9      74    22.2\n",
       "16   12.9      85    33.8\n",
       "17   13.3      86    27.4\n",
       "18   13.7      71    25.7\n",
       "19   13.8      64    24.9\n",
       "20   14.0      78    34.5\n",
       "21   14.2      80    31.7\n",
       "22   14.5      74    36.3\n",
       "23   16.0      72    38.3\n",
       "24   16.3      77    42.6\n",
       "25   17.3      81    55.4\n",
       "26   17.5      82    55.7\n",
       "27   17.9      80    58.3\n",
       "28   18.0      80    51.5\n",
       "29   18.0      80    51.0\n",
       "30   20.6      87    77.0"
      ]
     },
     "execution_count": 3,
     "metadata": {},
     "output_type": "execute_result"
    }
   ],
   "source": [
    "df_trees = pd.read_csv('data/trees.csv')\n",
    "df_trees"
   ]
  },
  {
   "cell_type": "code",
   "execution_count": 5,
   "id": "00dcb826",
   "metadata": {
    "ExecuteTime": {
     "end_time": "2021-12-22T07:35:28.966222Z",
     "start_time": "2021-12-22T07:35:28.950265Z"
    }
   },
   "outputs": [
    {
     "data": {
      "text/plain": [
       "(31, 3)"
      ]
     },
     "execution_count": 5,
     "metadata": {},
     "output_type": "execute_result"
    }
   ],
   "source": [
    "df_trees.shape"
   ]
  },
  {
   "cell_type": "code",
   "execution_count": 4,
   "id": "5a4e358b",
   "metadata": {
    "ExecuteTime": {
     "end_time": "2021-12-22T07:35:20.260114Z",
     "start_time": "2021-12-22T07:35:20.238226Z"
    }
   },
   "outputs": [
    {
     "name": "stdout",
     "output_type": "stream",
     "text": [
      "<class 'pandas.core.frame.DataFrame'>\n",
      "RangeIndex: 31 entries, 0 to 30\n",
      "Data columns (total 3 columns):\n",
      " #   Column  Non-Null Count  Dtype  \n",
      "---  ------  --------------  -----  \n",
      " 0   Girth   31 non-null     float64\n",
      " 1   Height  31 non-null     int64  \n",
      " 2   Volume  31 non-null     float64\n",
      "dtypes: float64(2), int64(1)\n",
      "memory usage: 872.0 bytes\n"
     ]
    }
   ],
   "source": [
    "df_trees.info()"
   ]
  },
  {
   "cell_type": "code",
   "execution_count": null,
   "id": "ae0045f6",
   "metadata": {},
   "outputs": [],
   "source": []
  },
  {
   "cell_type": "markdown",
   "id": "95abce79",
   "metadata": {},
   "source": [
    "## Tensor version"
   ]
  },
  {
   "cell_type": "code",
   "execution_count": 7,
   "id": "43dbb16e",
   "metadata": {
    "ExecuteTime": {
     "end_time": "2021-12-22T07:36:58.457799Z",
     "start_time": "2021-12-22T07:36:58.451815Z"
    }
   },
   "outputs": [],
   "source": [
    "x_data = df_trees.iloc[:, :-1]\n",
    "y_data = df_trees.iloc[:, [-1]]"
   ]
  },
  {
   "cell_type": "code",
   "execution_count": 9,
   "id": "f781d734",
   "metadata": {
    "ExecuteTime": {
     "end_time": "2021-12-22T07:37:08.553890Z",
     "start_time": "2021-12-22T07:37:08.537950Z"
    },
    "scrolled": true
   },
   "outputs": [
    {
     "data": {
      "text/html": [
       "<div>\n",
       "<style scoped>\n",
       "    .dataframe tbody tr th:only-of-type {\n",
       "        vertical-align: middle;\n",
       "    }\n",
       "\n",
       "    .dataframe tbody tr th {\n",
       "        vertical-align: top;\n",
       "    }\n",
       "\n",
       "    .dataframe thead th {\n",
       "        text-align: right;\n",
       "    }\n",
       "</style>\n",
       "<table border=\"1\" class=\"dataframe\">\n",
       "  <thead>\n",
       "    <tr style=\"text-align: right;\">\n",
       "      <th></th>\n",
       "      <th>Girth</th>\n",
       "      <th>Height</th>\n",
       "    </tr>\n",
       "  </thead>\n",
       "  <tbody>\n",
       "    <tr>\n",
       "      <th>0</th>\n",
       "      <td>8.3</td>\n",
       "      <td>70</td>\n",
       "    </tr>\n",
       "    <tr>\n",
       "      <th>1</th>\n",
       "      <td>8.6</td>\n",
       "      <td>65</td>\n",
       "    </tr>\n",
       "    <tr>\n",
       "      <th>2</th>\n",
       "      <td>8.8</td>\n",
       "      <td>63</td>\n",
       "    </tr>\n",
       "    <tr>\n",
       "      <th>3</th>\n",
       "      <td>10.5</td>\n",
       "      <td>72</td>\n",
       "    </tr>\n",
       "    <tr>\n",
       "      <th>4</th>\n",
       "      <td>10.7</td>\n",
       "      <td>81</td>\n",
       "    </tr>\n",
       "    <tr>\n",
       "      <th>5</th>\n",
       "      <td>10.8</td>\n",
       "      <td>83</td>\n",
       "    </tr>\n",
       "    <tr>\n",
       "      <th>6</th>\n",
       "      <td>11.0</td>\n",
       "      <td>66</td>\n",
       "    </tr>\n",
       "    <tr>\n",
       "      <th>7</th>\n",
       "      <td>11.0</td>\n",
       "      <td>75</td>\n",
       "    </tr>\n",
       "    <tr>\n",
       "      <th>8</th>\n",
       "      <td>11.1</td>\n",
       "      <td>80</td>\n",
       "    </tr>\n",
       "    <tr>\n",
       "      <th>9</th>\n",
       "      <td>11.2</td>\n",
       "      <td>75</td>\n",
       "    </tr>\n",
       "    <tr>\n",
       "      <th>10</th>\n",
       "      <td>11.3</td>\n",
       "      <td>79</td>\n",
       "    </tr>\n",
       "    <tr>\n",
       "      <th>11</th>\n",
       "      <td>11.4</td>\n",
       "      <td>76</td>\n",
       "    </tr>\n",
       "    <tr>\n",
       "      <th>12</th>\n",
       "      <td>11.4</td>\n",
       "      <td>76</td>\n",
       "    </tr>\n",
       "    <tr>\n",
       "      <th>13</th>\n",
       "      <td>11.7</td>\n",
       "      <td>69</td>\n",
       "    </tr>\n",
       "    <tr>\n",
       "      <th>14</th>\n",
       "      <td>12.0</td>\n",
       "      <td>75</td>\n",
       "    </tr>\n",
       "    <tr>\n",
       "      <th>15</th>\n",
       "      <td>12.9</td>\n",
       "      <td>74</td>\n",
       "    </tr>\n",
       "    <tr>\n",
       "      <th>16</th>\n",
       "      <td>12.9</td>\n",
       "      <td>85</td>\n",
       "    </tr>\n",
       "    <tr>\n",
       "      <th>17</th>\n",
       "      <td>13.3</td>\n",
       "      <td>86</td>\n",
       "    </tr>\n",
       "    <tr>\n",
       "      <th>18</th>\n",
       "      <td>13.7</td>\n",
       "      <td>71</td>\n",
       "    </tr>\n",
       "    <tr>\n",
       "      <th>19</th>\n",
       "      <td>13.8</td>\n",
       "      <td>64</td>\n",
       "    </tr>\n",
       "    <tr>\n",
       "      <th>20</th>\n",
       "      <td>14.0</td>\n",
       "      <td>78</td>\n",
       "    </tr>\n",
       "    <tr>\n",
       "      <th>21</th>\n",
       "      <td>14.2</td>\n",
       "      <td>80</td>\n",
       "    </tr>\n",
       "    <tr>\n",
       "      <th>22</th>\n",
       "      <td>14.5</td>\n",
       "      <td>74</td>\n",
       "    </tr>\n",
       "    <tr>\n",
       "      <th>23</th>\n",
       "      <td>16.0</td>\n",
       "      <td>72</td>\n",
       "    </tr>\n",
       "    <tr>\n",
       "      <th>24</th>\n",
       "      <td>16.3</td>\n",
       "      <td>77</td>\n",
       "    </tr>\n",
       "    <tr>\n",
       "      <th>25</th>\n",
       "      <td>17.3</td>\n",
       "      <td>81</td>\n",
       "    </tr>\n",
       "    <tr>\n",
       "      <th>26</th>\n",
       "      <td>17.5</td>\n",
       "      <td>82</td>\n",
       "    </tr>\n",
       "    <tr>\n",
       "      <th>27</th>\n",
       "      <td>17.9</td>\n",
       "      <td>80</td>\n",
       "    </tr>\n",
       "    <tr>\n",
       "      <th>28</th>\n",
       "      <td>18.0</td>\n",
       "      <td>80</td>\n",
       "    </tr>\n",
       "    <tr>\n",
       "      <th>29</th>\n",
       "      <td>18.0</td>\n",
       "      <td>80</td>\n",
       "    </tr>\n",
       "    <tr>\n",
       "      <th>30</th>\n",
       "      <td>20.6</td>\n",
       "      <td>87</td>\n",
       "    </tr>\n",
       "  </tbody>\n",
       "</table>\n",
       "</div>"
      ],
      "text/plain": [
       "    Girth  Height\n",
       "0     8.3      70\n",
       "1     8.6      65\n",
       "2     8.8      63\n",
       "3    10.5      72\n",
       "4    10.7      81\n",
       "5    10.8      83\n",
       "6    11.0      66\n",
       "7    11.0      75\n",
       "8    11.1      80\n",
       "9    11.2      75\n",
       "10   11.3      79\n",
       "11   11.4      76\n",
       "12   11.4      76\n",
       "13   11.7      69\n",
       "14   12.0      75\n",
       "15   12.9      74\n",
       "16   12.9      85\n",
       "17   13.3      86\n",
       "18   13.7      71\n",
       "19   13.8      64\n",
       "20   14.0      78\n",
       "21   14.2      80\n",
       "22   14.5      74\n",
       "23   16.0      72\n",
       "24   16.3      77\n",
       "25   17.3      81\n",
       "26   17.5      82\n",
       "27   17.9      80\n",
       "28   18.0      80\n",
       "29   18.0      80\n",
       "30   20.6      87"
      ]
     },
     "execution_count": 9,
     "metadata": {},
     "output_type": "execute_result"
    }
   ],
   "source": [
    "x_data"
   ]
  },
  {
   "cell_type": "code",
   "execution_count": 10,
   "id": "8bf696a8",
   "metadata": {
    "ExecuteTime": {
     "end_time": "2021-12-22T07:37:12.362466Z",
     "start_time": "2021-12-22T07:37:12.350543Z"
    },
    "scrolled": true
   },
   "outputs": [
    {
     "data": {
      "text/html": [
       "<div>\n",
       "<style scoped>\n",
       "    .dataframe tbody tr th:only-of-type {\n",
       "        vertical-align: middle;\n",
       "    }\n",
       "\n",
       "    .dataframe tbody tr th {\n",
       "        vertical-align: top;\n",
       "    }\n",
       "\n",
       "    .dataframe thead th {\n",
       "        text-align: right;\n",
       "    }\n",
       "</style>\n",
       "<table border=\"1\" class=\"dataframe\">\n",
       "  <thead>\n",
       "    <tr style=\"text-align: right;\">\n",
       "      <th></th>\n",
       "      <th>Volume</th>\n",
       "    </tr>\n",
       "  </thead>\n",
       "  <tbody>\n",
       "    <tr>\n",
       "      <th>0</th>\n",
       "      <td>10.3</td>\n",
       "    </tr>\n",
       "    <tr>\n",
       "      <th>1</th>\n",
       "      <td>10.3</td>\n",
       "    </tr>\n",
       "    <tr>\n",
       "      <th>2</th>\n",
       "      <td>10.2</td>\n",
       "    </tr>\n",
       "    <tr>\n",
       "      <th>3</th>\n",
       "      <td>16.4</td>\n",
       "    </tr>\n",
       "    <tr>\n",
       "      <th>4</th>\n",
       "      <td>18.8</td>\n",
       "    </tr>\n",
       "    <tr>\n",
       "      <th>5</th>\n",
       "      <td>19.7</td>\n",
       "    </tr>\n",
       "    <tr>\n",
       "      <th>6</th>\n",
       "      <td>15.6</td>\n",
       "    </tr>\n",
       "    <tr>\n",
       "      <th>7</th>\n",
       "      <td>18.2</td>\n",
       "    </tr>\n",
       "    <tr>\n",
       "      <th>8</th>\n",
       "      <td>22.6</td>\n",
       "    </tr>\n",
       "    <tr>\n",
       "      <th>9</th>\n",
       "      <td>19.9</td>\n",
       "    </tr>\n",
       "    <tr>\n",
       "      <th>10</th>\n",
       "      <td>24.2</td>\n",
       "    </tr>\n",
       "    <tr>\n",
       "      <th>11</th>\n",
       "      <td>21.0</td>\n",
       "    </tr>\n",
       "    <tr>\n",
       "      <th>12</th>\n",
       "      <td>21.4</td>\n",
       "    </tr>\n",
       "    <tr>\n",
       "      <th>13</th>\n",
       "      <td>21.3</td>\n",
       "    </tr>\n",
       "    <tr>\n",
       "      <th>14</th>\n",
       "      <td>19.1</td>\n",
       "    </tr>\n",
       "    <tr>\n",
       "      <th>15</th>\n",
       "      <td>22.2</td>\n",
       "    </tr>\n",
       "    <tr>\n",
       "      <th>16</th>\n",
       "      <td>33.8</td>\n",
       "    </tr>\n",
       "    <tr>\n",
       "      <th>17</th>\n",
       "      <td>27.4</td>\n",
       "    </tr>\n",
       "    <tr>\n",
       "      <th>18</th>\n",
       "      <td>25.7</td>\n",
       "    </tr>\n",
       "    <tr>\n",
       "      <th>19</th>\n",
       "      <td>24.9</td>\n",
       "    </tr>\n",
       "    <tr>\n",
       "      <th>20</th>\n",
       "      <td>34.5</td>\n",
       "    </tr>\n",
       "    <tr>\n",
       "      <th>21</th>\n",
       "      <td>31.7</td>\n",
       "    </tr>\n",
       "    <tr>\n",
       "      <th>22</th>\n",
       "      <td>36.3</td>\n",
       "    </tr>\n",
       "    <tr>\n",
       "      <th>23</th>\n",
       "      <td>38.3</td>\n",
       "    </tr>\n",
       "    <tr>\n",
       "      <th>24</th>\n",
       "      <td>42.6</td>\n",
       "    </tr>\n",
       "    <tr>\n",
       "      <th>25</th>\n",
       "      <td>55.4</td>\n",
       "    </tr>\n",
       "    <tr>\n",
       "      <th>26</th>\n",
       "      <td>55.7</td>\n",
       "    </tr>\n",
       "    <tr>\n",
       "      <th>27</th>\n",
       "      <td>58.3</td>\n",
       "    </tr>\n",
       "    <tr>\n",
       "      <th>28</th>\n",
       "      <td>51.5</td>\n",
       "    </tr>\n",
       "    <tr>\n",
       "      <th>29</th>\n",
       "      <td>51.0</td>\n",
       "    </tr>\n",
       "    <tr>\n",
       "      <th>30</th>\n",
       "      <td>77.0</td>\n",
       "    </tr>\n",
       "  </tbody>\n",
       "</table>\n",
       "</div>"
      ],
      "text/plain": [
       "    Volume\n",
       "0     10.3\n",
       "1     10.3\n",
       "2     10.2\n",
       "3     16.4\n",
       "4     18.8\n",
       "5     19.7\n",
       "6     15.6\n",
       "7     18.2\n",
       "8     22.6\n",
       "9     19.9\n",
       "10    24.2\n",
       "11    21.0\n",
       "12    21.4\n",
       "13    21.3\n",
       "14    19.1\n",
       "15    22.2\n",
       "16    33.8\n",
       "17    27.4\n",
       "18    25.7\n",
       "19    24.9\n",
       "20    34.5\n",
       "21    31.7\n",
       "22    36.3\n",
       "23    38.3\n",
       "24    42.6\n",
       "25    55.4\n",
       "26    55.7\n",
       "27    58.3\n",
       "28    51.5\n",
       "29    51.0\n",
       "30    77.0"
      ]
     },
     "execution_count": 10,
     "metadata": {},
     "output_type": "execute_result"
    }
   ],
   "source": [
    "y_data"
   ]
  },
  {
   "cell_type": "markdown",
   "id": "1d3d56fa",
   "metadata": {},
   "source": [
    "### Scaling"
   ]
  },
  {
   "cell_type": "code",
   "execution_count": 12,
   "id": "402b04fa",
   "metadata": {
    "ExecuteTime": {
     "end_time": "2021-12-22T07:38:16.440310Z",
     "start_time": "2021-12-22T07:38:16.426302Z"
    }
   },
   "outputs": [],
   "source": [
    "from sklearn.preprocessing import MinMaxScaler, StandardScaler"
   ]
  },
  {
   "cell_type": "markdown",
   "id": "08ed8cd7",
   "metadata": {},
   "source": [
    "#### Feature"
   ]
  },
  {
   "cell_type": "code",
   "execution_count": 15,
   "id": "e9a6f85d",
   "metadata": {
    "ExecuteTime": {
     "end_time": "2021-12-22T07:38:46.048284Z",
     "start_time": "2021-12-22T07:38:46.032284Z"
    }
   },
   "outputs": [],
   "source": [
    "scaleF = MinMaxScaler()                 \n",
    "x_dataN = scaleF.fit_transform( x_data)  "
   ]
  },
  {
   "cell_type": "code",
   "execution_count": 16,
   "id": "ab3b3863",
   "metadata": {
    "ExecuteTime": {
     "end_time": "2021-12-22T07:38:46.470971Z",
     "start_time": "2021-12-22T07:38:46.453019Z"
    },
    "scrolled": true
   },
   "outputs": [
    {
     "data": {
      "text/plain": [
       "array([[0.        , 0.29166667],\n",
       "       [0.02439024, 0.08333333],\n",
       "       [0.04065041, 0.        ],\n",
       "       [0.17886179, 0.375     ],\n",
       "       [0.19512195, 0.75      ],\n",
       "       [0.20325203, 0.83333333],\n",
       "       [0.2195122 , 0.125     ],\n",
       "       [0.2195122 , 0.5       ],\n",
       "       [0.22764228, 0.70833333],\n",
       "       [0.23577236, 0.5       ],\n",
       "       [0.24390244, 0.66666667],\n",
       "       [0.25203252, 0.54166667],\n",
       "       [0.25203252, 0.54166667],\n",
       "       [0.27642276, 0.25      ],\n",
       "       [0.30081301, 0.5       ],\n",
       "       [0.37398374, 0.45833333],\n",
       "       [0.37398374, 0.91666667],\n",
       "       [0.40650407, 0.95833333],\n",
       "       [0.43902439, 0.33333333],\n",
       "       [0.44715447, 0.04166667],\n",
       "       [0.46341463, 0.625     ],\n",
       "       [0.4796748 , 0.70833333],\n",
       "       [0.50406504, 0.45833333],\n",
       "       [0.62601626, 0.375     ],\n",
       "       [0.6504065 , 0.58333333],\n",
       "       [0.73170732, 0.75      ],\n",
       "       [0.74796748, 0.79166667],\n",
       "       [0.7804878 , 0.70833333],\n",
       "       [0.78861789, 0.70833333],\n",
       "       [0.78861789, 0.70833333],\n",
       "       [1.        , 1.        ]])"
      ]
     },
     "execution_count": 16,
     "metadata": {},
     "output_type": "execute_result"
    }
   ],
   "source": [
    "x_dataN"
   ]
  },
  {
   "cell_type": "markdown",
   "id": "c904a730",
   "metadata": {},
   "source": [
    "#### Label"
   ]
  },
  {
   "cell_type": "code",
   "execution_count": 17,
   "id": "dbc4fbfc",
   "metadata": {
    "ExecuteTime": {
     "end_time": "2021-12-22T07:39:03.301278Z",
     "start_time": "2021-12-22T07:39:03.288303Z"
    }
   },
   "outputs": [],
   "source": [
    "scaleL = MinMaxScaler()                \n",
    "y_dataN = scaleL.fit_transform( y_data) "
   ]
  },
  {
   "cell_type": "code",
   "execution_count": 18,
   "id": "5d9c2ea6",
   "metadata": {
    "ExecuteTime": {
     "end_time": "2021-12-22T07:39:08.307594Z",
     "start_time": "2021-12-22T07:39:08.301609Z"
    },
    "scrolled": true
   },
   "outputs": [
    {
     "data": {
      "text/plain": [
       "array([[0.00149701],\n",
       "       [0.00149701],\n",
       "       [0.        ],\n",
       "       [0.09281437],\n",
       "       [0.12874251],\n",
       "       [0.14221557],\n",
       "       [0.08083832],\n",
       "       [0.11976048],\n",
       "       [0.18562874],\n",
       "       [0.14520958],\n",
       "       [0.20958084],\n",
       "       [0.16167665],\n",
       "       [0.16766467],\n",
       "       [0.16616766],\n",
       "       [0.13323353],\n",
       "       [0.17964072],\n",
       "       [0.35329341],\n",
       "       [0.25748503],\n",
       "       [0.23203593],\n",
       "       [0.22005988],\n",
       "       [0.36377246],\n",
       "       [0.32185629],\n",
       "       [0.39071856],\n",
       "       [0.42065868],\n",
       "       [0.48502994],\n",
       "       [0.67664671],\n",
       "       [0.68113772],\n",
       "       [0.72005988],\n",
       "       [0.61826347],\n",
       "       [0.61077844],\n",
       "       [1.        ]])"
      ]
     },
     "execution_count": 18,
     "metadata": {},
     "output_type": "execute_result"
    }
   ],
   "source": [
    "y_dataN"
   ]
  },
  {
   "cell_type": "markdown",
   "id": "4be85ddc",
   "metadata": {},
   "source": [
    "### Tensor Node 생성"
   ]
  },
  {
   "cell_type": "code",
   "execution_count": 25,
   "id": "7ac0ceac",
   "metadata": {
    "ExecuteTime": {
     "end_time": "2021-12-22T07:47:40.793115Z",
     "start_time": "2021-12-22T07:47:40.782099Z"
    }
   },
   "outputs": [],
   "source": [
    "from tensorflow.keras.optimizers import Adam"
   ]
  },
  {
   "cell_type": "code",
   "execution_count": 21,
   "id": "4ed1de70",
   "metadata": {
    "ExecuteTime": {
     "end_time": "2021-12-22T07:46:01.719729Z",
     "start_time": "2021-12-22T07:46:01.705766Z"
    }
   },
   "outputs": [],
   "source": [
    "x = tf.constant( x_dataN, tf.float32 )\n",
    "y = tf.constant( y_dataN, tf.float32 )"
   ]
  },
  {
   "cell_type": "code",
   "execution_count": 22,
   "id": "890e50e4",
   "metadata": {
    "ExecuteTime": {
     "end_time": "2021-12-22T07:46:02.281298Z",
     "start_time": "2021-12-22T07:46:02.269344Z"
    }
   },
   "outputs": [],
   "source": [
    "w = tf.Variable( tf.random.uniform( [2,1] ) )\n",
    "b = tf.Variable( tf.random.uniform( [1] ) )"
   ]
  },
  {
   "cell_type": "markdown",
   "id": "fa613c17",
   "metadata": {},
   "source": [
    "### cost func."
   ]
  },
  {
   "cell_type": "code",
   "execution_count": 23,
   "id": "aba0f40f",
   "metadata": {
    "ExecuteTime": {
     "end_time": "2021-12-22T07:46:08.161819Z",
     "start_time": "2021-12-22T07:46:08.144909Z"
    }
   },
   "outputs": [],
   "source": [
    "def compute_loss():\n",
    "    hx = tf.matmul(x, w) + b\n",
    "    cost = tf.reduce_mean( (hx-y)**2 )\n",
    "    return cost"
   ]
  },
  {
   "cell_type": "markdown",
   "id": "ec7a69d7",
   "metadata": {},
   "source": [
    "### early stopping"
   ]
  },
  {
   "cell_type": "code",
   "execution_count": 75,
   "id": "91af5a56",
   "metadata": {
    "ExecuteTime": {
     "end_time": "2021-12-22T08:09:14.552178Z",
     "start_time": "2021-12-22T08:09:14.269261Z"
    }
   },
   "outputs": [
    {
     "name": "stdout",
     "output_type": "stream",
     "text": [
      "0 cost: 0.03978611\n",
      "1 cost: 0.004924062\n",
      "2 cost: 0.012396507\n",
      "3 cost: 0.025047837\n",
      "4 cost: 0.01827159\n",
      "5 cost: 0.006629314\n",
      "6 cost: 0.003270892\n",
      "7 cost: 0.00877619\n",
      "8 cost: 0.013858893\n",
      "9 cost: 0.012435033\n",
      "10 cost: 0.0070476863\n",
      "11 cost: 0.0033004936\n",
      "12 cost: 0.0040292447\n",
      "13 cost: 0.007266431\n",
      "14 cost: 0.0089669805\n",
      "15 cost: 0.0074909003\n",
      "16 cost: 0.004612397\n",
      "17 cost: 0.003069218\n",
      "18 cost: 0.0038778456\n",
      "19 cost: 0.005642147\n",
      "20 cost: 0.0062832646\n",
      "21 cost: 0.005219296\n",
      "22 cost: 0.0036464368\n",
      "23 cost: 0.0030565073\n",
      "24 cost: 0.0037447237\n",
      "25 cost: 0.0046905302\n",
      "26 cost: 0.004789028\n",
      "27 cost: 0.0039955783\n",
      "28 cost: 0.0031904299\n",
      "29 cost: 0.003128661\n",
      "30 cost: 0.0036790376\n",
      "31 cost: 0.004091085\n",
      "32 cost: 0.0038900694\n",
      "33 cost: 0.0033429363\n",
      "34 cost: 0.0030511385\n",
      "35 cost: 0.0032454818\n",
      "36 cost: 0.0035872855\n",
      "37 cost: 0.00363159\n",
      "38 cost: 0.0033448492\n",
      "39 cost: 0.0030776123\n",
      "40 cost: 0.0031039852\n",
      "41 cost: 0.0033169803\n",
      "42 cost: 0.003411303\n",
      "43 cost: 0.0032739267\n",
      "44 cost: 0.0030878396\n",
      "45 cost: 0.0030661975\n",
      "46 cost: 0.0031901246\n",
      "47 cost: 0.0032676652\n",
      "48 cost: 0.0031971652\n",
      "49 cost: 0.0030789317\n",
      "50 cost: 0.003057567\n",
      "51 cost: 0.0031325913\n",
      "52 cost: 0.0031819243\n",
      "53 cost: 0.0031377443\n",
      "54 cost: 0.003065335\n",
      "55 cost: 0.0030565925\n",
      "56 cost: 0.003105137\n",
      "57 cost: 0.0031304904\n",
      "58 cost: 0.0030972392\n",
      "59 cost: 0.0030551914\n",
      "60 cost: 0.0030581236\n",
      "61 cost: 0.0030898827\n",
      "62 cost: 0.0030979\n",
      "63 cost: 0.0030717233\n",
      "64 cost: 0.0030505904\n",
      "65 cost: 0.0030602983\n",
      "66 cost: 0.0030790304\n",
      "67 cost: 0.0030761482\n",
      "68 cost: 0.0030573797\n",
      "69 cost: 0.003050525\n",
      "70 cost: 0.0030615628\n",
      "71 cost: 0.003069567\n",
      "72 cost: 0.0030618226\n",
      "73 cost: 0.00305117\n",
      "74 cost: 0.0030526763\n",
      "75 cost: 0.003060787\n",
      "76 cost: 0.0030611088\n",
      "77 cost: 0.0030536023\n",
      "78 cost: 0.0030502055\n",
      "79 cost: 0.003054592\n",
      "80 cost: 0.0030579236\n",
      "81 cost: 0.0030546025\n",
      "82 cost: 0.0030503902\n",
      "83 cost: 0.0030514891\n",
      "84 cost: 0.00305474\n",
      "85 cost: 0.003054191\n",
      "86 cost: 0.0030509967\n",
      "87 cost: 0.00305036\n",
      "88 cost: 0.0030525133\n",
      "89 cost: 0.0030531893\n",
      "90 cost: 0.0030512924\n",
      "91 cost: 0.0030501226\n",
      "92 cost: 0.0030512372\n",
      "93 cost: 0.0030521916\n",
      "94 cost: 0.0030512593\n",
      "95 cost: 0.003050158\n",
      "96 cost: 0.0030505995\n",
      "97 cost: 0.0030514302\n",
      "98 cost: 0.003051061\n",
      "99 cost: 0.003050219\n",
      "100 cost: 0.0030503138\n",
      "101 cost: 0.003050922\n",
      "102 cost: 0.0030508263\n",
      "103 cost: 0.0030502426\n",
      "104 cost: 0.0030501958\n",
      "105 cost: 0.003050607\n",
      "early stop\n"
     ]
    }
   ],
   "source": [
    "patience = 100     \n",
    "min_delta = 0.01   \n",
    "hist_cost = []      \n",
    "pcnt = 0           \n",
    "\n",
    "\n",
    "optimizer = Adam(0.1)\n",
    "for i in range( 10000):\n",
    "    optimizer.minimize( compute_loss, var_list=[w,b] )\n",
    "    c = compute_loss().numpy()\n",
    "    hist_cost.append( c )\n",
    "    print(i, \"cost:\", c)\n",
    "    \n",
    "    if i>0:  \n",
    "        if hist_cost[i-1] - hist_cost[i] > min_delta:\n",
    "            pcnt = 0                                   \n",
    "                                                       \n",
    "        else:\n",
    "            pcnt += 1                                  \n",
    "                                   \n",
    "\n",
    "        if pcnt >= patience:                   \n",
    "            print( 'early stop' )\n",
    "            break"
   ]
  },
  {
   "cell_type": "code",
   "execution_count": 76,
   "id": "cf0457ce",
   "metadata": {
    "ExecuteTime": {
     "end_time": "2021-12-22T08:09:16.953399Z",
     "start_time": "2021-12-22T08:09:16.943472Z"
    }
   },
   "outputs": [
    {
     "data": {
      "text/plain": [
       "array([[0.8665727 ],\n",
       "       [0.12153711]], dtype=float32)"
      ]
     },
     "execution_count": 76,
     "metadata": {},
     "output_type": "execute_result"
    }
   ],
   "source": [
    "w.numpy()"
   ]
  },
  {
   "cell_type": "code",
   "execution_count": 77,
   "id": "09af60ec",
   "metadata": {
    "ExecuteTime": {
     "end_time": "2021-12-22T08:09:17.404383Z",
     "start_time": "2021-12-22T08:09:17.395406Z"
    }
   },
   "outputs": [
    {
     "data": {
      "text/plain": [
       "array([-0.11617534], dtype=float32)"
      ]
     },
     "execution_count": 77,
     "metadata": {},
     "output_type": "execute_result"
    }
   ],
   "source": [
    "b.numpy()"
   ]
  },
  {
   "cell_type": "code",
   "execution_count": 78,
   "id": "416ff584",
   "metadata": {
    "ExecuteTime": {
     "end_time": "2021-12-22T08:09:17.951748Z",
     "start_time": "2021-12-22T08:09:17.819581Z"
    }
   },
   "outputs": [
    {
     "data": {
      "image/png": "[encoded data removed]",
      "text/plain": [
       "<Figure size 1008x648 with 1 Axes>"
      ]
     },
     "metadata": {
      "needs_background": "light"
     },
     "output_type": "display_data"
    }
   ],
   "source": [
    "plt.plot(hist_cost)\n",
    "plt.show()"
   ]
  },
  {
   "cell_type": "markdown",
   "id": "b98b1784",
   "metadata": {},
   "source": [
    "### Prediction"
   ]
  },
  {
   "cell_type": "code",
   "execution_count": 79,
   "id": "fb4c2aad",
   "metadata": {
    "ExecuteTime": {
     "end_time": "2021-12-22T08:09:20.222948Z",
     "start_time": "2021-12-22T08:09:20.205043Z"
    }
   },
   "outputs": [],
   "source": [
    "def hxfn( xdata):\n",
    "    xd = tf.constant( xdata, tf.float32)\n",
    "    hx = tf.matmul(xd, w) + b\n",
    "    return hx.numpy()"
   ]
  },
  {
   "cell_type": "markdown",
   "id": "b2f89b60",
   "metadata": {},
   "source": [
    "#### Test data sacling(transform)"
   ]
  },
  {
   "cell_type": "code",
   "execution_count": 80,
   "id": "a01dd689",
   "metadata": {
    "ExecuteTime": {
     "end_time": "2021-12-22T08:09:21.218124Z",
     "start_time": "2021-12-22T08:09:21.206198Z"
    }
   },
   "outputs": [
    {
     "data": {
      "text/plain": [
       "array([[0.04065041, 0.        ],\n",
       "       [0.17886179, 0.375     ]])"
      ]
     },
     "execution_count": 80,
     "metadata": {},
     "output_type": "execute_result"
    }
   ],
   "source": [
    "xn = scaleF.transform( [[8.8, 63], [10.5, 72]] )\n",
    "xn"
   ]
  },
  {
   "cell_type": "markdown",
   "id": "390eb836",
   "metadata": {},
   "source": [
    "#### Prediction result"
   ]
  },
  {
   "cell_type": "code",
   "execution_count": 81,
   "id": "485de60b",
   "metadata": {
    "ExecuteTime": {
     "end_time": "2021-12-22T08:09:22.238717Z",
     "start_time": "2021-12-22T08:09:22.218771Z"
    }
   },
   "outputs": [
    {
     "data": {
      "text/plain": [
       "array([[-0.08094881],\n",
       "       [ 0.08439781]], dtype=float32)"
      ]
     },
     "execution_count": 81,
     "metadata": {},
     "output_type": "execute_result"
    }
   ],
   "source": [
    "result = hxfn(xn)\n",
    "result"
   ]
  },
  {
   "cell_type": "code",
   "execution_count": 82,
   "id": "c259c04c",
   "metadata": {
    "ExecuteTime": {
     "end_time": "2021-12-22T08:09:22.737371Z",
     "start_time": "2021-12-22T08:09:22.718474Z"
    }
   },
   "outputs": [
    {
     "data": {
      "text/plain": [
       "array([[ 4.7926197],\n",
       "       [15.837773 ]], dtype=float32)"
      ]
     },
     "execution_count": 82,
     "metadata": {},
     "output_type": "execute_result"
    }
   ],
   "source": [
    "scaleL.inverse_transform(result)"
   ]
  },
  {
   "cell_type": "markdown",
   "id": "4a56c661",
   "metadata": {},
   "source": [
    "### 스케일링 이전 시각화"
   ]
  },
  {
   "cell_type": "code",
   "execution_count": 116,
   "id": "b5d2d6d5",
   "metadata": {
    "ExecuteTime": {
     "end_time": "2021-12-22T08:17:46.003137Z",
     "start_time": "2021-12-22T08:17:45.860144Z"
    }
   },
   "outputs": [
    {
     "data": {
      "image/png": "[encoded data removed]",
      "text/plain": [
       "<Figure size 1008x648 with 1 Axes>"
      ]
     },
     "metadata": {
      "needs_background": "light"
     },
     "output_type": "display_data"
    }
   ],
   "source": [
    "plt.plot(y_data)\n",
    "plt.plot(hxfn(x_data))\n",
    "plt.show()"
   ]
  },
  {
   "cell_type": "markdown",
   "id": "bdcf5986",
   "metadata": {},
   "source": [
    "### 스케일링 후 시각화"
   ]
  },
  {
   "cell_type": "code",
   "execution_count": 117,
   "id": "cfe50bb4",
   "metadata": {
    "ExecuteTime": {
     "end_time": "2021-12-22T08:17:48.859953Z",
     "start_time": "2021-12-22T08:17:48.721919Z"
    }
   },
   "outputs": [
    {
     "data": {
      "image/png": "[encoded data removed]",
      "text/plain": [
       "<Figure size 1008x648 with 1 Axes>"
      ]
     },
     "metadata": {
      "needs_background": "light"
     },
     "output_type": "display_data"
    }
   ],
   "source": [
    "plt.plot(y_dataN)\n",
    "plt.plot(hxfn(x_dataN))\n",
    "plt.show()"
   ]
  },
  {
   "cell_type": "code",
   "execution_count": null,
   "id": "b19ed7a5",
   "metadata": {},
   "outputs": [],
   "source": []
  },
  {
   "cell_type": "code",
   "execution_count": null,
   "id": "4ff2baf2",
   "metadata": {},
   "outputs": [],
   "source": []
  },
  {
   "cell_type": "code",
   "execution_count": null,
   "id": "b0d7b320",
   "metadata": {},
   "outputs": [],
   "source": []
  },
  {
   "cell_type": "code",
   "execution_count": 54,
   "id": "3f5c4e61",
   "metadata": {
    "ExecuteTime": {
     "end_time": "2021-12-22T08:02:24.662676Z",
     "start_time": "2021-12-22T08:02:24.651706Z"
    }
   },
   "outputs": [
    {
     "data": {
      "text/plain": [
       "2"
      ]
     },
     "execution_count": 54,
     "metadata": {},
     "output_type": "execute_result"
    }
   ],
   "source": []
  },
  {
   "cell_type": "markdown",
   "id": "98da5170",
   "metadata": {},
   "source": [
    "## Keras version"
   ]
  },
  {
   "cell_type": "code",
   "execution_count": 84,
   "id": "8fa1bb07",
   "metadata": {
    "ExecuteTime": {
     "end_time": "2021-12-22T08:09:28.572872Z",
     "start_time": "2021-12-22T08:09:28.568883Z"
    }
   },
   "outputs": [],
   "source": [
    "from tensorflow.keras.optimizers import Adam\n",
    "from tensorflow.keras import Sequential\n",
    "from tensorflow.keras.layers import Dense"
   ]
  },
  {
   "cell_type": "markdown",
   "id": "4032376a",
   "metadata": {},
   "source": [
    "### dense 객체 생성\n",
    "### early stopping"
   ]
  },
  {
   "cell_type": "code",
   "execution_count": 87,
   "id": "5fe6c88a",
   "metadata": {
    "ExecuteTime": {
     "end_time": "2021-12-22T08:11:43.891219Z",
     "start_time": "2021-12-22T08:11:43.882275Z"
    }
   },
   "outputs": [],
   "source": [
    "from tensorflow.keras.callbacks import EarlyStopping"
   ]
  },
  {
   "cell_type": "code",
   "execution_count": 88,
   "id": "0a9828d4",
   "metadata": {
    "ExecuteTime": {
     "end_time": "2021-12-22T08:11:46.537550Z",
     "start_time": "2021-12-22T08:11:46.069438Z"
    }
   },
   "outputs": [
    {
     "name": "stdout",
     "output_type": "stream",
     "text": [
      "Epoch 1/10000\n",
      "1/1 [==============================] - 0s 144ms/step - loss: 0.3058\n",
      "Epoch 2/10000\n",
      "1/1 [==============================] - 0s 998us/step - loss: 0.1360\n",
      "Epoch 3/10000\n",
      "1/1 [==============================] - 0s 997us/step - loss: 0.0477\n",
      "Epoch 4/10000\n",
      "1/1 [==============================] - 0s 997us/step - loss: 0.0308\n",
      "Epoch 5/10000\n",
      "1/1 [==============================] - 0s 998us/step - loss: 0.0574\n",
      "Epoch 6/10000\n",
      "1/1 [==============================] - 0s 2ms/step - loss: 0.0894\n",
      "Epoch 7/10000\n",
      "1/1 [==============================] - 0s 998us/step - loss: 0.1022\n",
      "Epoch 8/10000\n",
      "1/1 [==============================] - 0s 996us/step - loss: 0.0928\n",
      "Epoch 9/10000\n",
      "1/1 [==============================] - 0s 2ms/step - loss: 0.0703\n",
      "Epoch 10/10000\n",
      "1/1 [==============================] - 0s 2ms/step - loss: 0.0454\n",
      "Epoch 11/10000\n",
      "1/1 [==============================] - 0s 997us/step - loss: 0.0269\n",
      "Epoch 12/10000\n",
      "1/1 [==============================] - 0s 2ms/step - loss: 0.0189\n",
      "Epoch 13/10000\n",
      "1/1 [==============================] - 0s 2ms/step - loss: 0.0211\n",
      "Epoch 14/10000\n",
      "1/1 [==============================] - 0s 2ms/step - loss: 0.0292\n",
      "Epoch 15/10000\n",
      "1/1 [==============================] - 0s 2ms/step - loss: 0.0373\n",
      "Epoch 16/10000\n",
      "1/1 [==============================] - 0s 996us/step - loss: 0.0410\n",
      "Epoch 17/10000\n",
      "1/1 [==============================] - 0s 2ms/step - loss: 0.0385\n",
      "Epoch 18/10000\n",
      "1/1 [==============================] - 0s 3ms/step - loss: 0.0312\n",
      "Epoch 19/10000\n",
      "1/1 [==============================] - 0s 997us/step - loss: 0.0220\n",
      "Epoch 20/10000\n",
      "1/1 [==============================] - 0s 998us/step - loss: 0.0141\n",
      "Epoch 21/10000\n",
      "1/1 [==============================] - 0s 2ms/step - loss: 0.0098\n",
      "Epoch 22/10000\n",
      "1/1 [==============================] - 0s 997us/step - loss: 0.0094\n",
      "Epoch 23/10000\n",
      "1/1 [==============================] - 0s 2ms/step - loss: 0.0119\n",
      "Epoch 24/10000\n",
      "1/1 [==============================] - 0s 2ms/step - loss: 0.0151\n",
      "Epoch 25/10000\n",
      "1/1 [==============================] - 0s 2ms/step - loss: 0.0171\n",
      "Epoch 26/10000\n",
      "1/1 [==============================] - 0s 2ms/step - loss: 0.0167\n",
      "Epoch 27/10000\n",
      "1/1 [==============================] - 0s 2ms/step - loss: 0.0142\n",
      "Epoch 28/10000\n",
      "1/1 [==============================] - 0s 2ms/step - loss: 0.0105\n",
      "Epoch 29/10000\n",
      "1/1 [==============================] - 0s 2ms/step - loss: 0.0071\n",
      "Epoch 30/10000\n",
      "1/1 [==============================] - 0s 1ms/step - loss: 0.0052\n",
      "Epoch 31/10000\n",
      "1/1 [==============================] - 0s 2ms/step - loss: 0.0050\n",
      "Epoch 32/10000\n",
      "1/1 [==============================] - 0s 2ms/step - loss: 0.0061\n",
      "Epoch 33/10000\n",
      "1/1 [==============================] - 0s 997us/step - loss: 0.0075\n",
      "Epoch 34/10000\n",
      "1/1 [==============================] - 0s 998us/step - loss: 0.0084\n",
      "Epoch 35/10000\n",
      "1/1 [==============================] - 0s 998us/step - loss: 0.0082\n",
      "Epoch 36/10000\n",
      "1/1 [==============================] - 0s 995us/step - loss: 0.0070\n",
      "Epoch 37/10000\n",
      "1/1 [==============================] - 0s 2ms/step - loss: 0.0055\n",
      "Epoch 38/10000\n",
      "1/1 [==============================] - 0s 2ms/step - loss: 0.0042\n",
      "Epoch 39/10000\n",
      "1/1 [==============================] - 0s 2ms/step - loss: 0.0036\n",
      "Epoch 40/10000\n",
      "1/1 [==============================] - 0s 997us/step - loss: 0.0038\n",
      "Epoch 41/10000\n",
      "1/1 [==============================] - 0s 2ms/step - loss: 0.0045\n",
      "Epoch 42/10000\n",
      "1/1 [==============================] - 0s 1ms/step - loss: 0.0051\n",
      "Epoch 43/10000\n",
      "1/1 [==============================] - 0s 998us/step - loss: 0.0053\n",
      "Epoch 44/10000\n",
      "1/1 [==============================] - 0s 2ms/step - loss: 0.0050\n",
      "Epoch 45/10000\n",
      "1/1 [==============================] - 0s 2ms/step - loss: 0.0044\n",
      "Epoch 46/10000\n",
      "1/1 [==============================] - 0s 2ms/step - loss: 0.0037\n",
      "Epoch 47/10000\n",
      "1/1 [==============================] - 0s 2ms/step - loss: 0.0034\n",
      "Epoch 48/10000\n",
      "1/1 [==============================] - 0s 2ms/step - loss: 0.0034\n",
      "Epoch 49/10000\n",
      "1/1 [==============================] - 0s 2ms/step - loss: 0.0037\n",
      "Epoch 50/10000\n",
      "1/1 [==============================] - 0s 997us/step - loss: 0.0040\n",
      "Epoch 51/10000\n",
      "1/1 [==============================] - 0s 998us/step - loss: 0.0041\n",
      "Epoch 52/10000\n",
      "1/1 [==============================] - 0s 997us/step - loss: 0.0040\n",
      "Epoch 53/10000\n",
      "1/1 [==============================] - 0s 997us/step - loss: 0.0037\n",
      "Epoch 54/10000\n",
      "1/1 [==============================] - 0s 2ms/step - loss: 0.0034\n",
      "Epoch 55/10000\n",
      "1/1 [==============================] - 0s 2ms/step - loss: 0.0032\n",
      "Epoch 56/10000\n",
      "1/1 [==============================] - 0s 997us/step - loss: 0.0032\n",
      "Epoch 57/10000\n",
      "1/1 [==============================] - 0s 2ms/step - loss: 0.0034\n",
      "Epoch 58/10000\n",
      "1/1 [==============================] - 0s 998us/step - loss: 0.0035\n",
      "Epoch 59/10000\n",
      "1/1 [==============================] - 0s 990us/step - loss: 0.0035\n",
      "Epoch 60/10000\n",
      "1/1 [==============================] - 0s 996us/step - loss: 0.0034\n",
      "Epoch 61/10000\n",
      "1/1 [==============================] - 0s 2ms/step - loss: 0.0033\n",
      "Epoch 62/10000\n",
      "1/1 [==============================] - 0s 2ms/step - loss: 0.0031\n",
      "Epoch 63/10000\n",
      "1/1 [==============================] - 0s 997us/step - loss: 0.0031\n",
      "Epoch 64/10000\n",
      "1/1 [==============================] - 0s 998us/step - loss: 0.0031\n",
      "Epoch 65/10000\n",
      "1/1 [==============================] - 0s 2ms/step - loss: 0.0032\n",
      "Epoch 66/10000\n",
      "1/1 [==============================] - 0s 998us/step - loss: 0.0032\n",
      "Epoch 67/10000\n",
      "1/1 [==============================] - 0s 997us/step - loss: 0.0032\n",
      "Epoch 68/10000\n",
      "1/1 [==============================] - 0s 997us/step - loss: 0.0032\n",
      "Epoch 69/10000\n",
      "1/1 [==============================] - 0s 997us/step - loss: 0.0031\n",
      "Epoch 70/10000\n",
      "1/1 [==============================] - 0s 997us/step - loss: 0.0031\n",
      "Epoch 71/10000\n",
      "1/1 [==============================] - 0s 997us/step - loss: 0.0031\n",
      "Epoch 72/10000\n",
      "1/1 [==============================] - 0s 2ms/step - loss: 0.0031\n",
      "Epoch 73/10000\n",
      "1/1 [==============================] - 0s 2ms/step - loss: 0.0031\n",
      "Epoch 74/10000\n",
      "1/1 [==============================] - 0s 997us/step - loss: 0.0031\n",
      "Epoch 75/10000\n",
      "1/1 [==============================] - 0s 2ms/step - loss: 0.0031\n",
      "Epoch 76/10000\n",
      "1/1 [==============================] - 0s 996us/step - loss: 0.0031\n",
      "Epoch 77/10000\n",
      "1/1 [==============================] - 0s 997us/step - loss: 0.0031\n",
      "Epoch 78/10000\n",
      "1/1 [==============================] - 0s 998us/step - loss: 0.0031\n",
      "Epoch 79/10000\n",
      "1/1 [==============================] - 0s 2ms/step - loss: 0.0031\n",
      "Epoch 80/10000\n",
      "1/1 [==============================] - 0s 2ms/step - loss: 0.0031\n",
      "Epoch 81/10000\n",
      "1/1 [==============================] - 0s 997us/step - loss: 0.0031\n",
      "Epoch 82/10000\n",
      "1/1 [==============================] - 0s 2ms/step - loss: 0.0031\n",
      "Epoch 83/10000\n",
      "1/1 [==============================] - 0s 2ms/step - loss: 0.0031\n",
      "Epoch 84/10000\n",
      "1/1 [==============================] - 0s 997us/step - loss: 0.0031\n",
      "Epoch 85/10000\n",
      "1/1 [==============================] - 0s 2ms/step - loss: 0.0031\n",
      "Epoch 86/10000\n",
      "1/1 [==============================] - 0s 997us/step - loss: 0.0031\n",
      "Epoch 87/10000\n",
      "1/1 [==============================] - 0s 997us/step - loss: 0.0031\n",
      "Epoch 88/10000\n",
      "1/1 [==============================] - 0s 2ms/step - loss: 0.0031\n",
      "Epoch 89/10000\n",
      "1/1 [==============================] - 0s 996us/step - loss: 0.0031\n",
      "Epoch 90/10000\n",
      "1/1 [==============================] - 0s 997us/step - loss: 0.0031\n",
      "Epoch 91/10000\n",
      "1/1 [==============================] - 0s 997us/step - loss: 0.0031\n",
      "Epoch 92/10000\n",
      "1/1 [==============================] - 0s 2ms/step - loss: 0.0031\n",
      "Epoch 93/10000\n",
      "1/1 [==============================] - 0s 998us/step - loss: 0.0031\n",
      "Epoch 94/10000\n",
      "1/1 [==============================] - 0s 997us/step - loss: 0.0031\n",
      "Epoch 95/10000\n",
      "1/1 [==============================] - 0s 998us/step - loss: 0.0031\n",
      "Epoch 96/10000\n",
      "1/1 [==============================] - 0s 997us/step - loss: 0.0031\n",
      "Epoch 97/10000\n",
      "1/1 [==============================] - 0s 997us/step - loss: 0.0031\n",
      "Epoch 98/10000\n",
      "1/1 [==============================] - 0s 2ms/step - loss: 0.0031\n",
      "Epoch 99/10000\n",
      "1/1 [==============================] - 0s 2ms/step - loss: 0.0031\n",
      "Epoch 100/10000\n",
      "1/1 [==============================] - 0s 997us/step - loss: 0.0031\n"
     ]
    },
    {
     "name": "stdout",
     "output_type": "stream",
     "text": [
      "Epoch 101/10000\n",
      "1/1 [==============================] - 0s 2ms/step - loss: 0.0031\n",
      "Epoch 102/10000\n",
      "1/1 [==============================] - 0s 2ms/step - loss: 0.0031\n",
      "Epoch 103/10000\n",
      "1/1 [==============================] - 0s 997us/step - loss: 0.0031\n",
      "Epoch 104/10000\n",
      "1/1 [==============================] - 0s 998us/step - loss: 0.0031\n",
      "Epoch 105/10000\n",
      "1/1 [==============================] - 0s 2ms/step - loss: 0.0031\n",
      "Epoch 106/10000\n",
      "1/1 [==============================] - 0s 993us/step - loss: 0.0031\n",
      "Epoch 107/10000\n",
      "1/1 [==============================] - 0s 997us/step - loss: 0.0031\n",
      "Epoch 108/10000\n",
      "1/1 [==============================] - 0s 2ms/step - loss: 0.0031\n",
      "Epoch 109/10000\n",
      "1/1 [==============================] - 0s 996us/step - loss: 0.0031\n",
      "Epoch 110/10000\n",
      "1/1 [==============================] - 0s 997us/step - loss: 0.0031\n",
      "Epoch 111/10000\n",
      "1/1 [==============================] - 0s 997us/step - loss: 0.0031\n",
      "Epoch 112/10000\n",
      "1/1 [==============================] - 0s 3ms/step - loss: 0.0031\n",
      "Epoch 113/10000\n",
      "1/1 [==============================] - 0s 2ms/step - loss: 0.0031\n",
      "Epoch 114/10000\n",
      "1/1 [==============================] - 0s 2ms/step - loss: 0.0031\n",
      "Epoch 115/10000\n",
      "1/1 [==============================] - 0s 2ms/step - loss: 0.0031\n",
      "Epoch 116/10000\n",
      "1/1 [==============================] - 0s 2ms/step - loss: 0.0031\n",
      "Epoch 117/10000\n",
      "1/1 [==============================] - 0s 2ms/step - loss: 0.0031\n",
      "Epoch 118/10000\n",
      "1/1 [==============================] - 0s 998us/step - loss: 0.0031\n",
      "Epoch 119/10000\n",
      "1/1 [==============================] - 0s 997us/step - loss: 0.0031\n",
      "Epoch 120/10000\n",
      "1/1 [==============================] - 0s 997us/step - loss: 0.0031\n",
      "Epoch 121/10000\n",
      "1/1 [==============================] - 0s 2ms/step - loss: 0.0031\n",
      "Epoch 122/10000\n",
      "1/1 [==============================] - 0s 2ms/step - loss: 0.0031\n",
      "Epoch 123/10000\n",
      "1/1 [==============================] - 0s 998us/step - loss: 0.0031\n",
      "Epoch 124/10000\n",
      "1/1 [==============================] - 0s 2ms/step - loss: 0.0031\n",
      "Epoch 125/10000\n",
      "1/1 [==============================] - 0s 998us/step - loss: 0.0031\n",
      "Epoch 126/10000\n",
      "1/1 [==============================] - 0s 1ms/step - loss: 0.0031\n",
      "Epoch 127/10000\n",
      "1/1 [==============================] - 0s 2ms/step - loss: 0.0031\n",
      "Epoch 128/10000\n",
      "1/1 [==============================] - 0s 998us/step - loss: 0.0031\n",
      "Epoch 129/10000\n",
      "1/1 [==============================] - 0s 996us/step - loss: 0.0031\n"
     ]
    }
   ],
   "source": [
    "dense = Dense( units=1, input_dim= x_data.shape[1] )               # xavier 알고리즘 // he 알고리즘 ==> w,b의 초기화방법이 다름\n",
    "model = Sequential( [dense] )\n",
    "model.compile( loss='mse', optimizer=Adam(0.1) )\n",
    "\n",
    "earlyStop = EarlyStopping(monitor='loss', min_delta=0.01, patience=100)  # loss를 monitor하겠다.\n",
    "h = model.fit( x_dataN, y_dataN, epochs=10000, callbacks=[earlyStop])"
   ]
  },
  {
   "cell_type": "markdown",
   "id": "141f9fab",
   "metadata": {},
   "source": [
    "### Loss 시각화로 확인"
   ]
  },
  {
   "cell_type": "code",
   "execution_count": 89,
   "id": "dd63f37e",
   "metadata": {
    "ExecuteTime": {
     "end_time": "2021-12-22T08:12:04.560270Z",
     "start_time": "2021-12-22T08:12:04.417496Z"
    }
   },
   "outputs": [
    {
     "data": {
      "image/png": "[encoded data removed]",
      "text/plain": [
       "<Figure size 1008x648 with 1 Axes>"
      ]
     },
     "metadata": {
      "needs_background": "light"
     },
     "output_type": "display_data"
    }
   ],
   "source": [
    "plt.plot(h.history['loss'])\n",
    "plt.show()"
   ]
  },
  {
   "cell_type": "markdown",
   "id": "33f914a9",
   "metadata": {},
   "source": [
    "### 매개변수 확인"
   ]
  },
  {
   "cell_type": "code",
   "execution_count": 90,
   "id": "3c9706c3",
   "metadata": {
    "ExecuteTime": {
     "end_time": "2021-12-22T08:12:17.825214Z",
     "start_time": "2021-12-22T08:12:17.806203Z"
    }
   },
   "outputs": [
    {
     "data": {
      "text/plain": [
       "array([[0.86819226],\n",
       "       [0.12141621]], dtype=float32)"
      ]
     },
     "execution_count": 90,
     "metadata": {},
     "output_type": "execute_result"
    }
   ],
   "source": [
    "w, b = model.get_weights()\n",
    "w"
   ]
  },
  {
   "cell_type": "markdown",
   "id": "e59fea33",
   "metadata": {},
   "source": [
    "### Prediction"
   ]
  },
  {
   "cell_type": "markdown",
   "id": "442b6ddf",
   "metadata": {},
   "source": [
    "#### Test data sacling(transform)"
   ]
  },
  {
   "cell_type": "code",
   "execution_count": 91,
   "id": "94cb1cb6",
   "metadata": {
    "ExecuteTime": {
     "end_time": "2021-12-22T08:13:22.676238Z",
     "start_time": "2021-12-22T08:13:22.671265Z"
    }
   },
   "outputs": [
    {
     "data": {
      "text/plain": [
       "array([[0.04065041, 0.        ],\n",
       "       [0.17886179, 0.375     ]])"
      ]
     },
     "execution_count": 91,
     "metadata": {},
     "output_type": "execute_result"
    }
   ],
   "source": [
    "xn = scaleF.transform( [[8.8, 63], [10.5, 72]] )\n",
    "xn"
   ]
  },
  {
   "cell_type": "markdown",
   "id": "e218b867",
   "metadata": {},
   "source": [
    "#### Prediction result"
   ]
  },
  {
   "cell_type": "code",
   "execution_count": 94,
   "id": "afca8424",
   "metadata": {
    "ExecuteTime": {
     "end_time": "2021-12-22T08:13:55.908830Z",
     "start_time": "2021-12-22T08:13:55.871927Z"
    }
   },
   "outputs": [
    {
     "data": {
      "text/plain": [
       "array([[-0.08072285],\n",
       "       [ 0.08480227]], dtype=float32)"
      ]
     },
     "execution_count": 94,
     "metadata": {},
     "output_type": "execute_result"
    }
   ],
   "source": [
    "result = model.predict(xn)\n",
    "result"
   ]
  },
  {
   "cell_type": "code",
   "execution_count": 95,
   "id": "a5592be8",
   "metadata": {
    "ExecuteTime": {
     "end_time": "2021-12-22T08:13:56.598229Z",
     "start_time": "2021-12-22T08:13:56.583269Z"
    }
   },
   "outputs": [
    {
     "data": {
      "text/plain": [
       "array([[ 4.8077135],\n",
       "       [15.864792 ]], dtype=float32)"
      ]
     },
     "execution_count": 95,
     "metadata": {},
     "output_type": "execute_result"
    }
   ],
   "source": [
    "scaleL.inverse_transform(result)"
   ]
  },
  {
   "cell_type": "markdown",
   "id": "b51aa805",
   "metadata": {},
   "source": [
    "### 스케일링 이전 시각화"
   ]
  },
  {
   "cell_type": "code",
   "execution_count": 109,
   "id": "9c012404",
   "metadata": {
    "ExecuteTime": {
     "end_time": "2021-12-22T08:16:37.184280Z",
     "start_time": "2021-12-22T08:16:37.134412Z"
    },
    "scrolled": true
   },
   "outputs": [
    {
     "data": {
      "text/plain": [
       "array([[-0.08060217],\n",
       "       [-0.08472179],\n",
       "       [-0.08072285],\n",
       "       [ 0.08480227],\n",
       "       [ 0.14445028],\n",
       "       [ 0.16162679],\n",
       "       [ 0.08974059],\n",
       "       [ 0.13527167],\n",
       "       [ 0.16762519],\n",
       "       [ 0.14938861],\n",
       "       [ 0.17668313],\n",
       "       [ 0.16856456],\n",
       "       [ 0.16856456],\n",
       "       [ 0.15432695],\n",
       "       [ 0.20585641],\n",
       "       [ 0.26432365],\n",
       "       [ 0.31997275],\n",
       "       [ 0.35326567],\n",
       "       [ 0.3056144 ],\n",
       "       [ 0.27725983],\n",
       "       [ 0.3622029 ],\n",
       "       [ 0.38643786],\n",
       "       [ 0.37725922],\n",
       "       [ 0.47301832],\n",
       "       [ 0.5194888 ],\n",
       "       [ 0.6103096 ],\n",
       "       [ 0.6294855 ],\n",
       "       [ 0.64760137],\n",
       "       [ 0.65465987],\n",
       "       [ 0.65465987],\n",
       "       [ 0.8735932 ]], dtype=float32)"
      ]
     },
     "execution_count": 109,
     "metadata": {},
     "output_type": "execute_result"
    }
   ],
   "source": [
    "result = model.predict(x_dataN)\n",
    "result"
   ]
  },
  {
   "cell_type": "code",
   "execution_count": 110,
   "id": "03d37225",
   "metadata": {
    "ExecuteTime": {
     "end_time": "2021-12-22T08:16:41.202378Z",
     "start_time": "2021-12-22T08:16:41.184365Z"
    },
    "scrolled": true
   },
   "outputs": [
    {
     "data": {
      "text/plain": [
       "array([[ 4.8157754],\n",
       "       [ 4.5405846],\n",
       "       [ 4.8077135],\n",
       "       [15.864792 ],\n",
       "       [19.84928  ],\n",
       "       [20.99667  ],\n",
       "       [16.194672 ],\n",
       "       [19.236147 ],\n",
       "       [21.397364 ],\n",
       "       [20.17916  ],\n",
       "       [22.002434 ],\n",
       "       [21.460114 ],\n",
       "       [21.460114 ],\n",
       "       [20.50904  ],\n",
       "       [23.951208 ],\n",
       "       [27.85682  ],\n",
       "       [31.57418  ],\n",
       "       [33.798145 ],\n",
       "       [30.615044 ],\n",
       "       [28.720957 ],\n",
       "       [34.395153 ],\n",
       "       [36.01405  ],\n",
       "       [35.400917 ],\n",
       "       [41.797623 ],\n",
       "       [44.90185  ],\n",
       "       [50.96868  ],\n",
       "       [52.24963  ],\n",
       "       [53.45977  ],\n",
       "       [53.93128  ],\n",
       "       [53.93128  ],\n",
       "       [68.55602  ]], dtype=float32)"
      ]
     },
     "execution_count": 110,
     "metadata": {},
     "output_type": "execute_result"
    }
   ],
   "source": [
    "r = scaleL.inverse_transform( result)\n",
    "r"
   ]
  },
  {
   "cell_type": "code",
   "execution_count": 112,
   "id": "4c21f893",
   "metadata": {
    "ExecuteTime": {
     "end_time": "2021-12-22T08:16:49.470023Z",
     "start_time": "2021-12-22T08:16:49.320918Z"
    }
   },
   "outputs": [
    {
     "data": {
      "image/png": "[encoded data removed]",
      "text/plain": [
       "<Figure size 1008x648 with 1 Axes>"
      ]
     },
     "metadata": {
      "needs_background": "light"
     },
     "output_type": "display_data"
    }
   ],
   "source": [
    "plt.plot(y_data)\n",
    "plt.plot( r )\n",
    "plt.show()"
   ]
  },
  {
   "cell_type": "markdown",
   "id": "87e7761b",
   "metadata": {},
   "source": [
    "### 스케일링 후 시각화"
   ]
  },
  {
   "cell_type": "code",
   "execution_count": 118,
   "id": "613b5071",
   "metadata": {
    "ExecuteTime": {
     "end_time": "2021-12-22T08:18:52.509027Z",
     "start_time": "2021-12-22T08:18:52.348162Z"
    }
   },
   "outputs": [
    {
     "data": {
      "image/png": "[encoded data removed]",
      "text/plain": [
       "<Figure size 1008x648 with 1 Axes>"
      ]
     },
     "metadata": {
      "needs_background": "light"
     },
     "output_type": "display_data"
    }
   ],
   "source": [
    "plt.plot(y_dataN)\n",
    "plt.plot( model.predict(x_dataN) )\n",
    "plt.show()"
   ]
  },
  {
   "cell_type": "code",
   "execution_count": null,
   "id": "6c26c24f",
   "metadata": {},
   "outputs": [],
   "source": []
  },
  {
   "cell_type": "code",
   "execution_count": null,
   "id": "bc0deae5",
   "metadata": {},
   "outputs": [],
   "source": []
  },
  {
   "cell_type": "code",
   "execution_count": null,
   "id": "1cf49506",
   "metadata": {},
   "outputs": [],
   "source": []
  },
  {
   "cell_type": "code",
   "execution_count": null,
   "id": "dd71b95f",
   "metadata": {},
   "outputs": [],
   "source": []
  },
  {
   "cell_type": "code",
   "execution_count": null,
   "id": "3b03470a",
   "metadata": {},
   "outputs": [],
   "source": []
  },
  {
   "cell_type": "markdown",
   "id": "1ece3b40",
   "metadata": {},
   "source": [
    "# 2번)\n",
    "\n",
    "```\n",
    "volume이 40 이상이면 크다, 30이상이면 보통 미만이면 적음으로 아래와 같이 출력하시오.\n",
    "volume  정도\n",
    "============\n",
    " 10.3    적음\n",
    "...\n",
    "```"
   ]
  },
  {
   "cell_type": "code",
   "execution_count": 158,
   "id": "f9b787e2",
   "metadata": {
    "ExecuteTime": {
     "end_time": "2021-12-22T08:36:46.336524Z",
     "start_time": "2021-12-22T08:36:46.331537Z"
    }
   },
   "outputs": [],
   "source": [
    "def disc(x):\n",
    "    if x >=40:\n",
    "        return \"크다\"\n",
    "    elif x>=30:\n",
    "        return \"보통\"\n",
    "    else:\n",
    "        return \"적음\""
   ]
  },
  {
   "cell_type": "code",
   "execution_count": 159,
   "id": "13b5379a",
   "metadata": {
    "ExecuteTime": {
     "end_time": "2021-12-22T08:36:46.943622Z",
     "start_time": "2021-12-22T08:36:46.931617Z"
    },
    "scrolled": true
   },
   "outputs": [
    {
     "data": {
      "text/plain": [
       "0     적음\n",
       "1     적음\n",
       "2     적음\n",
       "3     적음\n",
       "4     적음\n",
       "5     적음\n",
       "6     적음\n",
       "7     적음\n",
       "8     적음\n",
       "9     적음\n",
       "10    적음\n",
       "11    적음\n",
       "12    적음\n",
       "13    적음\n",
       "14    적음\n",
       "15    적음\n",
       "16    보통\n",
       "17    적음\n",
       "18    적음\n",
       "19    적음\n",
       "20    보통\n",
       "21    보통\n",
       "22    보통\n",
       "23    보통\n",
       "24    크다\n",
       "25    크다\n",
       "26    크다\n",
       "27    크다\n",
       "28    크다\n",
       "29    크다\n",
       "30    크다\n",
       "Name: Volume, dtype: object"
      ]
     },
     "execution_count": 159,
     "metadata": {},
     "output_type": "execute_result"
    }
   ],
   "source": [
    "df_trees['Volume'].apply(lambda x: disc(x))"
   ]
  },
  {
   "cell_type": "code",
   "execution_count": 160,
   "id": "201a5729",
   "metadata": {
    "ExecuteTime": {
     "end_time": "2021-12-22T08:37:01.215037Z",
     "start_time": "2021-12-22T08:37:01.194085Z"
    },
    "scrolled": true
   },
   "outputs": [
    {
     "data": {
      "text/html": [
       "<div>\n",
       "<style scoped>\n",
       "    .dataframe tbody tr th:only-of-type {\n",
       "        vertical-align: middle;\n",
       "    }\n",
       "\n",
       "    .dataframe tbody tr th {\n",
       "        vertical-align: top;\n",
       "    }\n",
       "\n",
       "    .dataframe thead th {\n",
       "        text-align: right;\n",
       "    }\n",
       "</style>\n",
       "<table border=\"1\" class=\"dataframe\">\n",
       "  <thead>\n",
       "    <tr style=\"text-align: right;\">\n",
       "      <th></th>\n",
       "      <th>Girth</th>\n",
       "      <th>Height</th>\n",
       "      <th>Volume</th>\n",
       "      <th>정도</th>\n",
       "    </tr>\n",
       "  </thead>\n",
       "  <tbody>\n",
       "    <tr>\n",
       "      <th>0</th>\n",
       "      <td>8.3</td>\n",
       "      <td>70</td>\n",
       "      <td>10.3</td>\n",
       "      <td>적음</td>\n",
       "    </tr>\n",
       "    <tr>\n",
       "      <th>1</th>\n",
       "      <td>8.6</td>\n",
       "      <td>65</td>\n",
       "      <td>10.3</td>\n",
       "      <td>적음</td>\n",
       "    </tr>\n",
       "    <tr>\n",
       "      <th>2</th>\n",
       "      <td>8.8</td>\n",
       "      <td>63</td>\n",
       "      <td>10.2</td>\n",
       "      <td>적음</td>\n",
       "    </tr>\n",
       "    <tr>\n",
       "      <th>3</th>\n",
       "      <td>10.5</td>\n",
       "      <td>72</td>\n",
       "      <td>16.4</td>\n",
       "      <td>적음</td>\n",
       "    </tr>\n",
       "    <tr>\n",
       "      <th>4</th>\n",
       "      <td>10.7</td>\n",
       "      <td>81</td>\n",
       "      <td>18.8</td>\n",
       "      <td>적음</td>\n",
       "    </tr>\n",
       "    <tr>\n",
       "      <th>5</th>\n",
       "      <td>10.8</td>\n",
       "      <td>83</td>\n",
       "      <td>19.7</td>\n",
       "      <td>적음</td>\n",
       "    </tr>\n",
       "    <tr>\n",
       "      <th>6</th>\n",
       "      <td>11.0</td>\n",
       "      <td>66</td>\n",
       "      <td>15.6</td>\n",
       "      <td>적음</td>\n",
       "    </tr>\n",
       "    <tr>\n",
       "      <th>7</th>\n",
       "      <td>11.0</td>\n",
       "      <td>75</td>\n",
       "      <td>18.2</td>\n",
       "      <td>적음</td>\n",
       "    </tr>\n",
       "    <tr>\n",
       "      <th>8</th>\n",
       "      <td>11.1</td>\n",
       "      <td>80</td>\n",
       "      <td>22.6</td>\n",
       "      <td>적음</td>\n",
       "    </tr>\n",
       "    <tr>\n",
       "      <th>9</th>\n",
       "      <td>11.2</td>\n",
       "      <td>75</td>\n",
       "      <td>19.9</td>\n",
       "      <td>적음</td>\n",
       "    </tr>\n",
       "    <tr>\n",
       "      <th>10</th>\n",
       "      <td>11.3</td>\n",
       "      <td>79</td>\n",
       "      <td>24.2</td>\n",
       "      <td>적음</td>\n",
       "    </tr>\n",
       "    <tr>\n",
       "      <th>11</th>\n",
       "      <td>11.4</td>\n",
       "      <td>76</td>\n",
       "      <td>21.0</td>\n",
       "      <td>적음</td>\n",
       "    </tr>\n",
       "    <tr>\n",
       "      <th>12</th>\n",
       "      <td>11.4</td>\n",
       "      <td>76</td>\n",
       "      <td>21.4</td>\n",
       "      <td>적음</td>\n",
       "    </tr>\n",
       "    <tr>\n",
       "      <th>13</th>\n",
       "      <td>11.7</td>\n",
       "      <td>69</td>\n",
       "      <td>21.3</td>\n",
       "      <td>적음</td>\n",
       "    </tr>\n",
       "    <tr>\n",
       "      <th>14</th>\n",
       "      <td>12.0</td>\n",
       "      <td>75</td>\n",
       "      <td>19.1</td>\n",
       "      <td>적음</td>\n",
       "    </tr>\n",
       "    <tr>\n",
       "      <th>15</th>\n",
       "      <td>12.9</td>\n",
       "      <td>74</td>\n",
       "      <td>22.2</td>\n",
       "      <td>적음</td>\n",
       "    </tr>\n",
       "    <tr>\n",
       "      <th>16</th>\n",
       "      <td>12.9</td>\n",
       "      <td>85</td>\n",
       "      <td>33.8</td>\n",
       "      <td>보통</td>\n",
       "    </tr>\n",
       "    <tr>\n",
       "      <th>17</th>\n",
       "      <td>13.3</td>\n",
       "      <td>86</td>\n",
       "      <td>27.4</td>\n",
       "      <td>적음</td>\n",
       "    </tr>\n",
       "    <tr>\n",
       "      <th>18</th>\n",
       "      <td>13.7</td>\n",
       "      <td>71</td>\n",
       "      <td>25.7</td>\n",
       "      <td>적음</td>\n",
       "    </tr>\n",
       "    <tr>\n",
       "      <th>19</th>\n",
       "      <td>13.8</td>\n",
       "      <td>64</td>\n",
       "      <td>24.9</td>\n",
       "      <td>적음</td>\n",
       "    </tr>\n",
       "    <tr>\n",
       "      <th>20</th>\n",
       "      <td>14.0</td>\n",
       "      <td>78</td>\n",
       "      <td>34.5</td>\n",
       "      <td>보통</td>\n",
       "    </tr>\n",
       "    <tr>\n",
       "      <th>21</th>\n",
       "      <td>14.2</td>\n",
       "      <td>80</td>\n",
       "      <td>31.7</td>\n",
       "      <td>보통</td>\n",
       "    </tr>\n",
       "    <tr>\n",
       "      <th>22</th>\n",
       "      <td>14.5</td>\n",
       "      <td>74</td>\n",
       "      <td>36.3</td>\n",
       "      <td>보통</td>\n",
       "    </tr>\n",
       "    <tr>\n",
       "      <th>23</th>\n",
       "      <td>16.0</td>\n",
       "      <td>72</td>\n",
       "      <td>38.3</td>\n",
       "      <td>보통</td>\n",
       "    </tr>\n",
       "    <tr>\n",
       "      <th>24</th>\n",
       "      <td>16.3</td>\n",
       "      <td>77</td>\n",
       "      <td>42.6</td>\n",
       "      <td>크다</td>\n",
       "    </tr>\n",
       "    <tr>\n",
       "      <th>25</th>\n",
       "      <td>17.3</td>\n",
       "      <td>81</td>\n",
       "      <td>55.4</td>\n",
       "      <td>크다</td>\n",
       "    </tr>\n",
       "    <tr>\n",
       "      <th>26</th>\n",
       "      <td>17.5</td>\n",
       "      <td>82</td>\n",
       "      <td>55.7</td>\n",
       "      <td>크다</td>\n",
       "    </tr>\n",
       "    <tr>\n",
       "      <th>27</th>\n",
       "      <td>17.9</td>\n",
       "      <td>80</td>\n",
       "      <td>58.3</td>\n",
       "      <td>크다</td>\n",
       "    </tr>\n",
       "    <tr>\n",
       "      <th>28</th>\n",
       "      <td>18.0</td>\n",
       "      <td>80</td>\n",
       "      <td>51.5</td>\n",
       "      <td>크다</td>\n",
       "    </tr>\n",
       "    <tr>\n",
       "      <th>29</th>\n",
       "      <td>18.0</td>\n",
       "      <td>80</td>\n",
       "      <td>51.0</td>\n",
       "      <td>크다</td>\n",
       "    </tr>\n",
       "    <tr>\n",
       "      <th>30</th>\n",
       "      <td>20.6</td>\n",
       "      <td>87</td>\n",
       "      <td>77.0</td>\n",
       "      <td>크다</td>\n",
       "    </tr>\n",
       "  </tbody>\n",
       "</table>\n",
       "</div>"
      ],
      "text/plain": [
       "    Girth  Height  Volume  정도\n",
       "0     8.3      70    10.3  적음\n",
       "1     8.6      65    10.3  적음\n",
       "2     8.8      63    10.2  적음\n",
       "3    10.5      72    16.4  적음\n",
       "4    10.7      81    18.8  적음\n",
       "5    10.8      83    19.7  적음\n",
       "6    11.0      66    15.6  적음\n",
       "7    11.0      75    18.2  적음\n",
       "8    11.1      80    22.6  적음\n",
       "9    11.2      75    19.9  적음\n",
       "10   11.3      79    24.2  적음\n",
       "11   11.4      76    21.0  적음\n",
       "12   11.4      76    21.4  적음\n",
       "13   11.7      69    21.3  적음\n",
       "14   12.0      75    19.1  적음\n",
       "15   12.9      74    22.2  적음\n",
       "16   12.9      85    33.8  보통\n",
       "17   13.3      86    27.4  적음\n",
       "18   13.7      71    25.7  적음\n",
       "19   13.8      64    24.9  적음\n",
       "20   14.0      78    34.5  보통\n",
       "21   14.2      80    31.7  보통\n",
       "22   14.5      74    36.3  보통\n",
       "23   16.0      72    38.3  보통\n",
       "24   16.3      77    42.6  크다\n",
       "25   17.3      81    55.4  크다\n",
       "26   17.5      82    55.7  크다\n",
       "27   17.9      80    58.3  크다\n",
       "28   18.0      80    51.5  크다\n",
       "29   18.0      80    51.0  크다\n",
       "30   20.6      87    77.0  크다"
      ]
     },
     "execution_count": 160,
     "metadata": {},
     "output_type": "execute_result"
    }
   ],
   "source": [
    "df_trees['정도'] = df_trees['Volume'].apply(lambda x: disc(x))\n",
    "df_trees"
   ]
  },
  {
   "cell_type": "code",
   "execution_count": 171,
   "id": "c1e83ca9",
   "metadata": {
    "ExecuteTime": {
     "end_time": "2021-12-22T08:38:11.882279Z",
     "start_time": "2021-12-22T08:38:11.869287Z"
    },
    "scrolled": true
   },
   "outputs": [
    {
     "data": {
      "text/html": [
       "<div>\n",
       "<style scoped>\n",
       "    .dataframe tbody tr th:only-of-type {\n",
       "        vertical-align: middle;\n",
       "    }\n",
       "\n",
       "    .dataframe tbody tr th {\n",
       "        vertical-align: top;\n",
       "    }\n",
       "\n",
       "    .dataframe thead th {\n",
       "        text-align: right;\n",
       "    }\n",
       "</style>\n",
       "<table border=\"1\" class=\"dataframe\">\n",
       "  <thead>\n",
       "    <tr style=\"text-align: right;\">\n",
       "      <th></th>\n",
       "      <th>Volume</th>\n",
       "      <th>정도</th>\n",
       "    </tr>\n",
       "  </thead>\n",
       "  <tbody>\n",
       "    <tr>\n",
       "      <th>0</th>\n",
       "      <td>10.3</td>\n",
       "      <td>적음</td>\n",
       "    </tr>\n",
       "    <tr>\n",
       "      <th>1</th>\n",
       "      <td>10.3</td>\n",
       "      <td>적음</td>\n",
       "    </tr>\n",
       "    <tr>\n",
       "      <th>2</th>\n",
       "      <td>10.2</td>\n",
       "      <td>적음</td>\n",
       "    </tr>\n",
       "    <tr>\n",
       "      <th>3</th>\n",
       "      <td>16.4</td>\n",
       "      <td>적음</td>\n",
       "    </tr>\n",
       "    <tr>\n",
       "      <th>4</th>\n",
       "      <td>18.8</td>\n",
       "      <td>적음</td>\n",
       "    </tr>\n",
       "    <tr>\n",
       "      <th>5</th>\n",
       "      <td>19.7</td>\n",
       "      <td>적음</td>\n",
       "    </tr>\n",
       "    <tr>\n",
       "      <th>6</th>\n",
       "      <td>15.6</td>\n",
       "      <td>적음</td>\n",
       "    </tr>\n",
       "    <tr>\n",
       "      <th>7</th>\n",
       "      <td>18.2</td>\n",
       "      <td>적음</td>\n",
       "    </tr>\n",
       "    <tr>\n",
       "      <th>8</th>\n",
       "      <td>22.6</td>\n",
       "      <td>적음</td>\n",
       "    </tr>\n",
       "    <tr>\n",
       "      <th>9</th>\n",
       "      <td>19.9</td>\n",
       "      <td>적음</td>\n",
       "    </tr>\n",
       "    <tr>\n",
       "      <th>10</th>\n",
       "      <td>24.2</td>\n",
       "      <td>적음</td>\n",
       "    </tr>\n",
       "    <tr>\n",
       "      <th>11</th>\n",
       "      <td>21.0</td>\n",
       "      <td>적음</td>\n",
       "    </tr>\n",
       "    <tr>\n",
       "      <th>12</th>\n",
       "      <td>21.4</td>\n",
       "      <td>적음</td>\n",
       "    </tr>\n",
       "    <tr>\n",
       "      <th>13</th>\n",
       "      <td>21.3</td>\n",
       "      <td>적음</td>\n",
       "    </tr>\n",
       "    <tr>\n",
       "      <th>14</th>\n",
       "      <td>19.1</td>\n",
       "      <td>적음</td>\n",
       "    </tr>\n",
       "    <tr>\n",
       "      <th>15</th>\n",
       "      <td>22.2</td>\n",
       "      <td>적음</td>\n",
       "    </tr>\n",
       "    <tr>\n",
       "      <th>16</th>\n",
       "      <td>33.8</td>\n",
       "      <td>보통</td>\n",
       "    </tr>\n",
       "    <tr>\n",
       "      <th>17</th>\n",
       "      <td>27.4</td>\n",
       "      <td>적음</td>\n",
       "    </tr>\n",
       "    <tr>\n",
       "      <th>18</th>\n",
       "      <td>25.7</td>\n",
       "      <td>적음</td>\n",
       "    </tr>\n",
       "    <tr>\n",
       "      <th>19</th>\n",
       "      <td>24.9</td>\n",
       "      <td>적음</td>\n",
       "    </tr>\n",
       "    <tr>\n",
       "      <th>20</th>\n",
       "      <td>34.5</td>\n",
       "      <td>보통</td>\n",
       "    </tr>\n",
       "    <tr>\n",
       "      <th>21</th>\n",
       "      <td>31.7</td>\n",
       "      <td>보통</td>\n",
       "    </tr>\n",
       "    <tr>\n",
       "      <th>22</th>\n",
       "      <td>36.3</td>\n",
       "      <td>보통</td>\n",
       "    </tr>\n",
       "    <tr>\n",
       "      <th>23</th>\n",
       "      <td>38.3</td>\n",
       "      <td>보통</td>\n",
       "    </tr>\n",
       "    <tr>\n",
       "      <th>24</th>\n",
       "      <td>42.6</td>\n",
       "      <td>크다</td>\n",
       "    </tr>\n",
       "    <tr>\n",
       "      <th>25</th>\n",
       "      <td>55.4</td>\n",
       "      <td>크다</td>\n",
       "    </tr>\n",
       "    <tr>\n",
       "      <th>26</th>\n",
       "      <td>55.7</td>\n",
       "      <td>크다</td>\n",
       "    </tr>\n",
       "    <tr>\n",
       "      <th>27</th>\n",
       "      <td>58.3</td>\n",
       "      <td>크다</td>\n",
       "    </tr>\n",
       "    <tr>\n",
       "      <th>28</th>\n",
       "      <td>51.5</td>\n",
       "      <td>크다</td>\n",
       "    </tr>\n",
       "    <tr>\n",
       "      <th>29</th>\n",
       "      <td>51.0</td>\n",
       "      <td>크다</td>\n",
       "    </tr>\n",
       "    <tr>\n",
       "      <th>30</th>\n",
       "      <td>77.0</td>\n",
       "      <td>크다</td>\n",
       "    </tr>\n",
       "  </tbody>\n",
       "</table>\n",
       "</div>"
      ],
      "text/plain": [
       "    Volume  정도\n",
       "0     10.3  적음\n",
       "1     10.3  적음\n",
       "2     10.2  적음\n",
       "3     16.4  적음\n",
       "4     18.8  적음\n",
       "5     19.7  적음\n",
       "6     15.6  적음\n",
       "7     18.2  적음\n",
       "8     22.6  적음\n",
       "9     19.9  적음\n",
       "10    24.2  적음\n",
       "11    21.0  적음\n",
       "12    21.4  적음\n",
       "13    21.3  적음\n",
       "14    19.1  적음\n",
       "15    22.2  적음\n",
       "16    33.8  보통\n",
       "17    27.4  적음\n",
       "18    25.7  적음\n",
       "19    24.9  적음\n",
       "20    34.5  보통\n",
       "21    31.7  보통\n",
       "22    36.3  보통\n",
       "23    38.3  보통\n",
       "24    42.6  크다\n",
       "25    55.4  크다\n",
       "26    55.7  크다\n",
       "27    58.3  크다\n",
       "28    51.5  크다\n",
       "29    51.0  크다\n",
       "30    77.0  크다"
      ]
     },
     "execution_count": 171,
     "metadata": {},
     "output_type": "execute_result"
    }
   ],
   "source": [
    "df_trees.iloc[:,2:4]"
   ]
  },
  {
   "cell_type": "code",
   "execution_count": null,
   "id": "c93362ef",
   "metadata": {},
   "outputs": [],
   "source": []
  },
  {
   "cell_type": "code",
   "execution_count": null,
   "id": "4d8950ba",
   "metadata": {},
   "outputs": [],
   "source": []
  },
  {
   "cell_type": "code",
   "execution_count": null,
   "id": "fd100ae4",
   "metadata": {},
   "outputs": [],
   "source": []
  },
  {
   "cell_type": "markdown",
   "id": "599f9aef",
   "metadata": {},
   "source": [
    "# 3번) Height이 가장 작은값과 큰값을 구하시오."
   ]
  },
  {
   "cell_type": "markdown",
   "id": "8aab752f",
   "metadata": {},
   "source": [
    "## 가장 작은 값"
   ]
  },
  {
   "cell_type": "code",
   "execution_count": 146,
   "id": "a8c4f1fa",
   "metadata": {
    "ExecuteTime": {
     "end_time": "2021-12-22T08:29:18.511105Z",
     "start_time": "2021-12-22T08:29:18.502145Z"
    }
   },
   "outputs": [
    {
     "data": {
      "text/plain": [
       "2    63\n",
       "Name: Height, dtype: int64"
      ]
     },
     "execution_count": 146,
     "metadata": {},
     "output_type": "execute_result"
    }
   ],
   "source": [
    "df_trees.nsmallest(1,'Height', keep=\"all\")['Height']"
   ]
  },
  {
   "cell_type": "markdown",
   "id": "09e30931",
   "metadata": {},
   "source": [
    "## 가장 큰 값"
   ]
  },
  {
   "cell_type": "code",
   "execution_count": 144,
   "id": "07496262",
   "metadata": {
    "ExecuteTime": {
     "end_time": "2021-12-22T08:28:47.992100Z",
     "start_time": "2021-12-22T08:28:47.975145Z"
    }
   },
   "outputs": [
    {
     "data": {
      "text/plain": [
       "30    87\n",
       "Name: Height, dtype: int64"
      ]
     },
     "execution_count": 144,
     "metadata": {},
     "output_type": "execute_result"
    }
   ],
   "source": [
    "df_trees.nlargest(1,'Height', keep=\"all\")['Height']"
   ]
  },
  {
   "cell_type": "code",
   "execution_count": null,
   "id": "cba4a78c",
   "metadata": {},
   "outputs": [],
   "source": []
  },
  {
   "cell_type": "code",
   "execution_count": null,
   "id": "d89523b9",
   "metadata": {},
   "outputs": [],
   "source": []
  },
  {
   "cell_type": "code",
   "execution_count": null,
   "id": "d4b1aeb1",
   "metadata": {},
   "outputs": [],
   "source": []
  },
  {
   "cell_type": "markdown",
   "id": "8e177dde",
   "metadata": {},
   "source": [
    "# 4번) girth(테두리) 가 가장큰 top5를 출력하세오.(girth, height, volume)"
   ]
  },
  {
   "cell_type": "code",
   "execution_count": 149,
   "id": "ed4c9efc",
   "metadata": {
    "ExecuteTime": {
     "end_time": "2021-12-22T08:31:02.716654Z",
     "start_time": "2021-12-22T08:31:02.703727Z"
    },
    "scrolled": true
   },
   "outputs": [
    {
     "data": {
      "text/html": [
       "<div>\n",
       "<style scoped>\n",
       "    .dataframe tbody tr th:only-of-type {\n",
       "        vertical-align: middle;\n",
       "    }\n",
       "\n",
       "    .dataframe tbody tr th {\n",
       "        vertical-align: top;\n",
       "    }\n",
       "\n",
       "    .dataframe thead th {\n",
       "        text-align: right;\n",
       "    }\n",
       "</style>\n",
       "<table border=\"1\" class=\"dataframe\">\n",
       "  <thead>\n",
       "    <tr style=\"text-align: right;\">\n",
       "      <th></th>\n",
       "      <th>Girth</th>\n",
       "      <th>Height</th>\n",
       "      <th>Volume</th>\n",
       "    </tr>\n",
       "  </thead>\n",
       "  <tbody>\n",
       "    <tr>\n",
       "      <th>30</th>\n",
       "      <td>20.6</td>\n",
       "      <td>87</td>\n",
       "      <td>77.0</td>\n",
       "    </tr>\n",
       "    <tr>\n",
       "      <th>28</th>\n",
       "      <td>18.0</td>\n",
       "      <td>80</td>\n",
       "      <td>51.5</td>\n",
       "    </tr>\n",
       "    <tr>\n",
       "      <th>29</th>\n",
       "      <td>18.0</td>\n",
       "      <td>80</td>\n",
       "      <td>51.0</td>\n",
       "    </tr>\n",
       "    <tr>\n",
       "      <th>27</th>\n",
       "      <td>17.9</td>\n",
       "      <td>80</td>\n",
       "      <td>58.3</td>\n",
       "    </tr>\n",
       "    <tr>\n",
       "      <th>26</th>\n",
       "      <td>17.5</td>\n",
       "      <td>82</td>\n",
       "      <td>55.7</td>\n",
       "    </tr>\n",
       "  </tbody>\n",
       "</table>\n",
       "</div>"
      ],
      "text/plain": [
       "    Girth  Height  Volume\n",
       "30   20.6      87    77.0\n",
       "28   18.0      80    51.5\n",
       "29   18.0      80    51.0\n",
       "27   17.9      80    58.3\n",
       "26   17.5      82    55.7"
      ]
     },
     "execution_count": 149,
     "metadata": {},
     "output_type": "execute_result"
    }
   ],
   "source": [
    "df_trees.nlargest(5, 'Girth', keep=\"all\")"
   ]
  },
  {
   "cell_type": "code",
   "execution_count": null,
   "id": "309a6c08",
   "metadata": {},
   "outputs": [],
   "source": []
  },
  {
   "cell_type": "code",
   "execution_count": null,
   "id": "5a62b946",
   "metadata": {},
   "outputs": [],
   "source": []
  },
  {
   "cell_type": "code",
   "execution_count": null,
   "id": "aad141ca",
   "metadata": {},
   "outputs": [],
   "source": []
  },
  {
   "cell_type": "code",
   "execution_count": null,
   "id": "33406cd3",
   "metadata": {},
   "outputs": [],
   "source": []
  }
 ],
 "metadata": {
  "kernelspec": {
   "display_name": "Python 3",
   "language": "python",
   "name": "python3"
  },
  "language_info": {
   "codemirror_mode": {
    "name": "ipython",
    "version": 3
   },
   "file_extension": ".py",
   "mimetype": "text/x-python",
   "name": "python",
   "nbconvert_exporter": "python",
   "pygments_lexer": "ipython3",
   "version": "3.8.8"
  },
  "toc": {
   "base_numbering": 1,
   "nav_menu": {},
   "number_sections": true,
   "sideBar": true,
   "skip_h1_title": false,
   "title_cell": "Table of Contents",
   "title_sidebar": "Contents",
   "toc_cell": false,
   "toc_position": {
    "height": "calc(100% - 180px)",
    "left": "10px",
    "top": "150px",
    "width": "426.667px"
   },
   "toc_section_display": true,
   "toc_window_display": false
  },
  "varInspector": {
   "cols": {
    "lenName": 16,
    "lenType": 16,
    "lenVar": 40
   },
   "kernels_config": {
    "python": {
     "delete_cmd_postfix": "",
     "delete_cmd_prefix": "del ",
     "library": "var_list.py",
     "varRefreshCmd": "print(var_dic_list())"
    },
    "r": {
     "delete_cmd_postfix": ") ",
     "delete_cmd_prefix": "rm(",
     "library": "var_list.r",
     "varRefreshCmd": "cat(var_dic_list()) "
    }
   },
   "types_to_exclude": [
    "module",
    "function",
    "builtin_function_or_method",
    "instance",
    "_Feature"
   ],
   "window_display": false
  }
 },
 "nbformat": 4,
 "nbformat_minor": 5
}
