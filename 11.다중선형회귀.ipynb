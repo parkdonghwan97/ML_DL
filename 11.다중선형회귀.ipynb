{
 "cells": [
  {
   "cell_type": "code",
   "execution_count": 1,
   "id": "de7d8580",
   "metadata": {},
   "outputs": [],
   "source": [
    "import tensorflow as tf\n",
    "import numpy as np\n",
    "import pandas as pd\n",
    "from tensorflow.keras.optimizers import Adam\n",
    "import matplotlib.pyplot as plt\n",
    "plt.style.use('ggplot')"
   ]
  },
  {
   "cell_type": "code",
   "execution_count": 3,
   "id": "1cdb1aec",
   "metadata": {},
   "outputs": [],
   "source": [
    "x1_data = [1,0,3,4,5]  #공부한시간\n",
    "x2_data = [0,1,2,3,4] #출석일수\n",
    "y_data = [1,2,3,4,5] #점수"
   ]
  },
  {
   "cell_type": "code",
   "execution_count": 4,
   "id": "92b4be61",
   "metadata": {},
   "outputs": [],
   "source": [
    "x1 = tf.constant( x1_data , tf.float32)\n",
    "x2 = tf.constant( x2_data , tf.float32)\n",
    "y = tf.constant( y_data , tf.float32)"
   ]
  },
  {
   "cell_type": "code",
   "execution_count": 5,
   "id": "77f57cb5",
   "metadata": {},
   "outputs": [],
   "source": [
    "w1 = tf.Variable(tf.random.uniform([1])) # x1 의 가중치\n",
    "w2 = tf.Variable(tf.random.uniform([1])) # x2 의 가중치\n",
    "b = tf.Variable(tf.random.uniform([1])) "
   ]
  },
  {
   "cell_type": "code",
   "execution_count": 6,
   "id": "5393560c",
   "metadata": {},
   "outputs": [],
   "source": [
    "# cost 구하는 함수\n",
    "def compute_loss():\n",
    "    hx = w1*x1 + w2*x2 + b\n",
    "    cost = tf.reduce_mean( (hx - y)**2 )\n",
    "    return cost"
   ]
  },
  {
   "cell_type": "code",
   "execution_count": null,
   "id": "c565b65f",
   "metadata": {},
   "outputs": [],
   "source": [
    "# \n",
    "optimizer = Adam(0.1)\n",
    "for i in range(1000):\n",
    "    optimizer.minimize(compute_loss, var_list=[w1,w2,b] ) # 미분\n",
    "    print(i,'cost: ',compute_loss().numpy())"
   ]
  },
  {
   "cell_type": "code",
   "execution_count": 8,
   "id": "21dad696",
   "metadata": {},
   "outputs": [
    {
     "data": {
      "text/plain": [
       "(array([0.2768271], dtype=float32), array([0.70823777], dtype=float32))"
      ]
     },
     "execution_count": 8,
     "metadata": {},
     "output_type": "execute_result"
    }
   ],
   "source": [
    "w1.numpy(),w2.numpy()"
   ]
  },
  {
   "cell_type": "code",
   "execution_count": 10,
   "id": "601f513d",
   "metadata": {},
   "outputs": [
    {
     "data": {
      "text/plain": [
       "5.354536414146423"
      ]
     },
     "execution_count": 10,
     "metadata": {},
     "output_type": "execute_result"
    }
   ],
   "source": [
    "# 5시간 공부하고 5시간 출석한 학생의 점수는?\n",
    "# w1*5 + w2*5 + b\n",
    "\n",
    "w1.numpy()[0]*5 + w2.numpy()[0]*5 + b.numpy()[0]"
   ]
  },
  {
   "cell_type": "code",
   "execution_count": null,
   "id": "a0d4b133",
   "metadata": {},
   "outputs": [],
   "source": []
  },
  {
   "cell_type": "code",
   "execution_count": null,
   "id": "6f286f8f",
   "metadata": {},
   "outputs": [],
   "source": []
  },
  {
   "cell_type": "code",
   "execution_count": null,
   "id": "2f01c41d",
   "metadata": {},
   "outputs": [],
   "source": []
  },
  {
   "cell_type": "code",
   "execution_count": null,
   "id": "4161a1c9",
   "metadata": {},
   "outputs": [],
   "source": []
  },
  {
   "cell_type": "code",
   "execution_count": null,
   "id": "338d1158",
   "metadata": {},
   "outputs": [],
   "source": []
  },
  {
   "cell_type": "code",
   "execution_count": null,
   "id": "ac6e4974",
   "metadata": {},
   "outputs": [],
   "source": []
  },
  {
   "cell_type": "code",
   "execution_count": null,
   "id": "f6d86df2",
   "metadata": {},
   "outputs": [],
   "source": []
  },
  {
   "cell_type": "code",
   "execution_count": null,
   "id": "5f841652",
   "metadata": {},
   "outputs": [],
   "source": []
  }
 ],
 "metadata": {
  "kernelspec": {
   "display_name": "Python 3",
   "language": "python",
   "name": "python3"
  },
  "language_info": {
   "codemirror_mode": {
    "name": "ipython",
    "version": 3
   },
   "file_extension": ".py",
   "mimetype": "text/x-python",
   "name": "python",
   "nbconvert_exporter": "python",
   "pygments_lexer": "ipython3",
   "version": "3.8.8"
  },
  "toc": {
   "base_numbering": 1,
   "nav_menu": {},
   "number_sections": true,
   "sideBar": true,
   "skip_h1_title": false,
   "title_cell": "Table of Contents",
   "title_sidebar": "Contents",
   "toc_cell": false,
   "toc_position": {},
   "toc_section_display": true,
   "toc_window_display": false
  }
 },
 "nbformat": 4,
 "nbformat_minor": 5
}
