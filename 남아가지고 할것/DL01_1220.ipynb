{
 "cells": [
  {
   "cell_type": "code",
   "execution_count": 1,
   "id": "75d57ae0",
   "metadata": {
    "ExecuteTime": {
     "end_time": "2021-12-30T13:59:05.732020Z",
     "start_time": "2021-12-30T13:59:03.869288Z"
    }
   },
   "outputs": [],
   "source": [
    "import tensorflow as tf\n",
    "import numpy as np"
   ]
  },
  {
   "cell_type": "markdown",
   "id": "1d023031",
   "metadata": {},
   "source": [
    "# 기본 데이터"
   ]
  },
  {
   "cell_type": "markdown",
   "id": "36e95984",
   "metadata": {},
   "source": [
    "## Scalar data\n",
    "- 단 하나의 값만을 저장할 수 있는 데이터 타입"
   ]
  },
  {
   "cell_type": "code",
   "execution_count": 2,
   "id": "13fdf2f1",
   "metadata": {
    "ExecuteTime": {
     "end_time": "2021-12-30T13:59:05.747977Z",
     "start_time": "2021-12-30T13:59:05.733018Z"
    }
   },
   "outputs": [],
   "source": [
    "s1 = 10 \n",
    "s2 = 'abc'\n",
    "s3 = 3.14"
   ]
  },
  {
   "cell_type": "markdown",
   "id": "3996fbbc",
   "metadata": {},
   "source": [
    "## 백터\n",
    "\n",
    "- Scalar data 모음\n",
    "- 숫자로 원고를 가지는 리스트(list) or 배열(array)\n",
    "- 공간에서 한 점을 나타냄\n",
    "- 원점으로부터 상대적 위치를 표현\n",
    "- 숫자를 곱해주면 길이만 변함\n",
    "\n",
    "벡터의 노름 (norm) : 원점에서의 거리\n",
    "(기하학적 성질 차이)\n",
    "L1-노름은 각 성분의 변화량의 절대값을 모두 더함.\n",
    "L2-노름은 피타고라스 정리를 이용해 유클리드 거리 계산\n",
    "\n",
    "\n"
   ]
  },
  {
   "cell_type": "code",
   "execution_count": 3,
   "id": "a000a7b6",
   "metadata": {
    "ExecuteTime": {
     "end_time": "2021-12-30T13:59:05.763939Z",
     "start_time": "2021-12-30T13:59:05.748975Z"
    }
   },
   "outputs": [],
   "source": [
    "v = [10,20,30]"
   ]
  },
  {
   "cell_type": "code",
   "execution_count": 4,
   "id": "057ceab7",
   "metadata": {
    "ExecuteTime": {
     "end_time": "2021-12-30T13:59:05.779892Z",
     "start_time": "2021-12-30T13:59:05.765929Z"
    }
   },
   "outputs": [],
   "source": [
    "import numpy as np\n",
    "def l1_norm(x):\n",
    "    x_norm = np.abs(x)\n",
    "    x_norm = np.sum(x_norm)\n",
    "    return x_norm\n",
    "\n",
    "def l2_norm(x):\n",
    "    x_norm = x*x\n",
    "    x_norm = np.sum(x_norm)\n",
    "    x_norm = np.sqrt(x_norm)\n",
    "    return x_norm"
   ]
  },
  {
   "cell_type": "markdown",
   "id": "850e794b",
   "metadata": {},
   "source": [
    "이건 나중에\n",
    "### 두 벡터 사이의 거리\n",
    "\n",
    " L1, L2노름을 이용해 두 벡터 사이의 거리 계산.\n",
    " 두 벡터 사이의 거리를 계산할 때는 벡터의 뺄셈 이용\n",
    " \n",
    " ### 두 벡터 사이의 각도\n",
    " - L2노름에서만 이용 가능\n",
    " - 제 2코사인 법칙에 의해 두 벡터 사이의 각도 계산 \n",
    " - 분자를 쉽게 계산하는 바법 -> 내적\n",
    " - 내적 : 정사영된 벡터의 길이와 관련  "
   ]
  },
  {
   "cell_type": "markdown",
   "id": "3a71eb1d",
   "metadata": {},
   "source": [
    "## Matrix 행렬\n",
    "- 벡터를 원소로 가지는 2차원 배열\n",
    "- 행(row)과 열(column)이라는 인덱스를 가짐 \n",
    "- 특정 행(열)을 고정하면 행(열) 벡터라고 부른다.\n",
    "\n",
    "\n",
    "- 전치행렬 : 열과 행이 바뀐행렬\n",
    "\n",
    "```\n",
    "- 벡터가 공간에서 한 점을 의미한다면 행렬은 여러점을 나타냄\n",
    "\n",
    "- 행렬의 Xij는 i번째 데이터의 j번재 변수의 값\n",
    "\n",
    "행렬 곱셈\n",
    "- 행렬 i번째 행벡터와 j번째 열 벡터사이의 내적을 성분으로 가지는 행렬\n",
    "\n",
    "XY\n",
    "행렬곱은 X의 열의 개수와 Y의 행의 개수가 같아야함\n",
    "i의 행벡터와 j번재 열 벡터 사이의 내적을 성분으로 가지는 행렬\n",
    "\n",
    "```"
   ]
  },
  {
   "cell_type": "code",
   "execution_count": 5,
   "id": "8b43639f",
   "metadata": {
    "ExecuteTime": {
     "end_time": "2021-12-30T13:59:05.795889Z",
     "start_time": "2021-12-30T13:59:05.780890Z"
    }
   },
   "outputs": [],
   "source": [
    "m = [  [10,20,30] , \n",
    "     [40,50,60]  ]   # 2 x 3  ==> 2행 3열"
   ]
  },
  {
   "cell_type": "code",
   "execution_count": 6,
   "id": "94feec49",
   "metadata": {
    "ExecuteTime": {
     "end_time": "2021-12-30T13:59:05.811842Z",
     "start_time": "2021-12-30T13:59:05.796882Z"
    }
   },
   "outputs": [
    {
     "data": {
      "text/plain": [
       "array([[-8,  6],\n",
       "       [ 5,  2],\n",
       "       [-5,  1]])"
      ]
     },
     "execution_count": 6,
     "metadata": {},
     "output_type": "execute_result"
    }
   ],
   "source": [
    "x = np.array([[1,-2,3],\n",
    "              [7,5,0],\n",
    "              [-2,-1,2]]      )\n",
    "y = np.array([[0,1],\n",
    "              [1,-1],\n",
    "              [-2,1]    ] )\n",
    "x@y"
   ]
  },
  {
   "cell_type": "markdown",
   "id": "deb51a28",
   "metadata": {},
   "source": [
    "```\n",
    "넘파이의 np.inner는 i번째 행벡터와 j번째 행벡터 사이의 내적을 성분으로 가지는 행렬 계산\n",
    "\n",
    "수학에서 말하는 내적과는 다르다.  x행의 개수 y의 행의개수같아야함\n",
    "XY^T\n",
    "```"
   ]
  },
  {
   "cell_type": "code",
   "execution_count": 7,
   "id": "a1df62c6",
   "metadata": {
    "ExecuteTime": {
     "end_time": "2021-12-30T13:59:05.826802Z",
     "start_time": "2021-12-30T13:59:05.812840Z"
    }
   },
   "outputs": [
    {
     "data": {
      "text/plain": [
       "array([[-5,  3],\n",
       "       [ 5,  2],\n",
       "       [-3, -1]])"
      ]
     },
     "execution_count": 7,
     "metadata": {},
     "output_type": "execute_result"
    }
   ],
   "source": [
    "x = np.array([[1,-2,3],\n",
    "              [7,5,0],\n",
    "              [-2,-1,2]]      )\n",
    "y = np.array([[0,1,-1],\n",
    "              [1,-1,0]                ] )\n",
    "np.inner(x,y)"
   ]
  },
  {
   "cell_type": "markdown",
   "id": "a302a4ff",
   "metadata": {},
   "source": [
    "```\n",
    "행렬은 벡터공간에서 사용되는 연산자(operator)로 이해\n",
    "행렬곱을 통해 벡터를 다른 차원의 공간으로 보낼 수 있다.\n",
    "행렬곱을 통해 패턴을 추출할 수 있고 데이터를 압축할 수도 있다.\n",
    "\n",
    "- 모든 선형변환은 행렬곱으로 계산 가능\n",
    "\n",
    "\n",
    "```"
   ]
  },
  {
   "cell_type": "markdown",
   "id": "e34beab9",
   "metadata": {},
   "source": [
    "### 역행렬\n",
    "```\n",
    "행렬 A의 연산을 거꾸로 되돌리는 행렬 A-1 표기\n",
    "역행렬은 행과 열 숫자가 같고 행렬식이 아닌 0이 아닌경우에만 계산가능\n",
    "A*A-1 = A-1*A = I\n",
    "행과열의 숫자 같아야함\n",
    "주어진 행렬이 0이 아니어야함\n",
    "\n",
    "np.linalg.inv(X)\n",
    "역행렬으ㅡㄹ 계산할 수 없다면 유사역행렬 or 무어펜로즈 역행렬 A+를 사용\n",
    "```"
   ]
  },
  {
   "cell_type": "code",
   "execution_count": 8,
   "id": "859043a3",
   "metadata": {
    "ExecuteTime": {
     "end_time": "2021-12-30T13:59:05.842759Z",
     "start_time": "2021-12-30T13:59:05.827799Z"
    }
   },
   "outputs": [
    {
     "data": {
      "text/plain": [
       "array([[ 0.21276596,  0.0212766 , -0.31914894],\n",
       "       [-0.29787234,  0.17021277,  0.44680851],\n",
       "       [ 0.06382979,  0.10638298,  0.40425532]])"
      ]
     },
     "execution_count": 8,
     "metadata": {},
     "output_type": "execute_result"
    }
   ],
   "source": [
    "x= np.array([[1,-2,3],\n",
    "             [7,5,0],\n",
    "            [-2,-1,2]]\n",
    ")\n",
    "np.linalg.inv(x)"
   ]
  },
  {
   "cell_type": "code",
   "execution_count": 9,
   "id": "fcd74ed4",
   "metadata": {
    "ExecuteTime": {
     "end_time": "2021-12-30T13:59:05.858721Z",
     "start_time": "2021-12-30T13:59:05.843763Z"
    }
   },
   "outputs": [
    {
     "data": {
      "text/plain": [
       "array([[ 5.00000000e-01,  1.11022302e-16, -5.00000000e-01],\n",
       "       [ 8.33333333e-01, -3.33333333e-01, -1.66666667e-01]])"
      ]
     },
     "execution_count": 9,
     "metadata": {},
     "output_type": "execute_result"
    }
   ],
   "source": [
    "y = np.array([[0,1],\n",
    "             [1,-1],\n",
    "             [-2,1]])\n",
    "np.linalg.pinv( y)   #유사 역행렬"
   ]
  },
  {
   "cell_type": "code",
   "execution_count": 10,
   "id": "3ea4b253",
   "metadata": {
    "ExecuteTime": {
     "end_time": "2021-12-30T13:59:05.874674Z",
     "start_time": "2021-12-30T13:59:05.860712Z"
    }
   },
   "outputs": [
    {
     "data": {
      "text/plain": [
       "array([[ 1.00000000e+00, -2.22044605e-16],\n",
       "       [ 1.11022302e-16,  1.00000000e+00]])"
      ]
     },
     "execution_count": 10,
     "metadata": {},
     "output_type": "execute_result"
    }
   ],
   "source": [
    "np.linalg.pinv(y)@y "
   ]
  },
  {
   "cell_type": "markdown",
   "id": "6be2b8f6",
   "metadata": {},
   "source": [
    "### 응용1 연립방정식풀기\n",
    "- np.linalg.pinv 이용하여 연립방정식의 해 구할 수 있음.\n",
    "```\n",
    "a11x1 + a12x2 + --- + a1mxm = b1\n",
    "a12x1 + a22x2 + --- + a2mxm = b2\n",
    "- - - - - -\n",
    "an1x1 + an2x2 + --- + anmxm = bn\n",
    "\n",
    "== > Ax + b"
   ]
  },
  {
   "cell_type": "markdown",
   "id": "fcf46571",
   "metadata": {},
   "source": [
    "유사역행렬 이용하면 변수의 개수가 식의 개수보다 많으면 풀수있다.  \n",
    "변수의 개수보다 식의 개수가 많은 경우 선형회귀분석에서 많이 봄.  \n",
    "-> np.linalg.pinv  선형모델로 해석하는 선형회귀식  \n",
    "sklearn의 LineraRegression과 같은 결과를 가져옴\n"
   ]
  },
  {
   "cell_type": "markdown",
   "id": "b4517ec3",
   "metadata": {},
   "source": [
    "# tensor data node 정의\n",
    "```\n",
    "1. constant   - > 읽기 전용 ( 값 고정)\n",
    "2. Variable   - > 읽기 쓰기 \n",
    "```"
   ]
  },
  {
   "cell_type": "markdown",
   "id": "945ce067",
   "metadata": {},
   "source": [
    "## Constant"
   ]
  },
  {
   "cell_type": "code",
   "execution_count": 11,
   "id": "1198a790",
   "metadata": {
    "ExecuteTime": {
     "end_time": "2021-12-30T13:59:06.452244Z",
     "start_time": "2021-12-30T13:59:05.877705Z"
    }
   },
   "outputs": [
    {
     "data": {
      "text/plain": [
       "(<tf.Tensor: shape=(), dtype=int32, numpy=10>, 10)"
      ]
     },
     "execution_count": 11,
     "metadata": {},
     "output_type": "execute_result"
    }
   ],
   "source": [
    "# scalar      shape=()     numpy = value\n",
    "s1 = 10\n",
    "c1  = tf.constant( s1 )\n",
    "c1,c1.numpy()"
   ]
  },
  {
   "cell_type": "code",
   "execution_count": 12,
   "id": "647048ef",
   "metadata": {
    "ExecuteTime": {
     "end_time": "2021-12-30T13:59:06.468202Z",
     "start_time": "2021-12-30T13:59:06.453241Z"
    }
   },
   "outputs": [
    {
     "data": {
      "text/plain": [
       "(<tf.Tensor: shape=(3,), dtype=int32, numpy=array([10, 20, 30])>,\n",
       " array([10, 20, 30]),\n",
       " tensorflow.python.framework.ops.EagerTensor)"
      ]
     },
     "execution_count": 12,
     "metadata": {},
     "output_type": "execute_result"
    }
   ],
   "source": [
    "# vector   shape=(3,)   numpy=array([])\n",
    "v1 = [10,20,30]\n",
    "t1  = tf.constant(v1)\n",
    "t1, t1.numpy() , type(t1)"
   ]
  },
  {
   "cell_type": "code",
   "execution_count": 13,
   "id": "15167fcd",
   "metadata": {
    "ExecuteTime": {
     "end_time": "2021-12-30T13:59:06.483161Z",
     "start_time": "2021-12-30T13:59:06.471197Z"
    }
   },
   "outputs": [
    {
     "data": {
      "text/plain": [
       "(<tf.Tensor: shape=(2, 3), dtype=int32, numpy=\n",
       " array([[10, 20, 30],\n",
       "        [40, 50, 60]])>,\n",
       " array([[10, 20, 30],\n",
       "        [40, 50, 60]]))"
      ]
     },
     "execution_count": 13,
     "metadata": {},
     "output_type": "execute_result"
    }
   ],
   "source": [
    "# matrix    shape=(2, 3)    numpy=array([ [ ] ])\n",
    "m1 = [[10,20,30], [40,50,60] ]\n",
    "t2 = tf.constant( m1 )\n",
    "t2, t2.numpy()"
   ]
  },
  {
   "cell_type": "markdown",
   "id": "4fca9131",
   "metadata": {},
   "source": [
    "## 연산  element wise\n",
    "- 요소별 연산 \n",
    "\n",
    "사칙연산\n",
    "```\n",
    "+\n",
    "-\n",
    "*\n",
    "/\n",
    "\n",
    "```"
   ]
  },
  {
   "cell_type": "code",
   "execution_count": 14,
   "id": "4dbd8cfa",
   "metadata": {
    "ExecuteTime": {
     "end_time": "2021-12-30T13:59:06.499119Z",
     "start_time": "2021-12-30T13:59:06.488148Z"
    }
   },
   "outputs": [],
   "source": [
    "a =tf.constant(3)       # scalar data \n",
    "b = tf.constant([1,2,3])# vector data"
   ]
  },
  {
   "cell_type": "code",
   "execution_count": 15,
   "id": "aaa697ef",
   "metadata": {
    "ExecuteTime": {
     "end_time": "2021-12-30T13:59:06.515076Z",
     "start_time": "2021-12-30T13:59:06.501113Z"
    }
   },
   "outputs": [
    {
     "data": {
      "text/plain": [
       "<tf.Tensor: shape=(3,), dtype=int32, numpy=array([4, 5, 6])>"
      ]
     },
     "execution_count": 15,
     "metadata": {},
     "output_type": "execute_result"
    }
   ],
   "source": [
    "c = tf.add(a,b) # 덧셈\n",
    "c"
   ]
  },
  {
   "cell_type": "code",
   "execution_count": 16,
   "id": "02560854",
   "metadata": {
    "ExecuteTime": {
     "end_time": "2021-12-30T13:59:06.530035Z",
     "start_time": "2021-12-30T13:59:06.516073Z"
    }
   },
   "outputs": [
    {
     "data": {
      "text/plain": [
       "<tf.Tensor: shape=(3,), dtype=int32, numpy=array([2, 1, 0])>"
      ]
     },
     "execution_count": 16,
     "metadata": {},
     "output_type": "execute_result"
    }
   ],
   "source": [
    "d = tf.subtract(a,b) # 뺄셈\n",
    "d"
   ]
  },
  {
   "cell_type": "code",
   "execution_count": 17,
   "id": "25dcd75c",
   "metadata": {
    "ExecuteTime": {
     "end_time": "2021-12-30T13:59:06.545994Z",
     "start_time": "2021-12-30T13:59:06.531033Z"
    }
   },
   "outputs": [
    {
     "data": {
      "text/plain": [
       "<tf.Tensor: shape=(3,), dtype=int32, numpy=array([3, 6, 9])>"
      ]
     },
     "execution_count": 17,
     "metadata": {},
     "output_type": "execute_result"
    }
   ],
   "source": [
    "f = tf.multiply(a,b) # 곱셈\n",
    "f"
   ]
  },
  {
   "cell_type": "code",
   "execution_count": 18,
   "id": "3c77c220",
   "metadata": {
    "ExecuteTime": {
     "end_time": "2021-12-30T13:59:07.292997Z",
     "start_time": "2021-12-30T13:59:06.549983Z"
    }
   },
   "outputs": [
    {
     "data": {
      "text/plain": [
       "<tf.Tensor: shape=(3,), dtype=float64, numpy=array([3. , 1.5, 1. ])>"
      ]
     },
     "execution_count": 18,
     "metadata": {},
     "output_type": "execute_result"
    }
   ],
   "source": [
    "g = tf.divide(a,b)  # 나눗셈\n",
    "g "
   ]
  },
  {
   "cell_type": "markdown",
   "id": "413c0a34",
   "metadata": {},
   "source": [
    "## broad casting \n",
    "- 두 행렬 A,B 중 크기가 작은 행렬을 크기가 큰 행렬과 모양이 맞게끔늘려줌"
   ]
  },
  {
   "cell_type": "markdown",
   "id": "cc610262",
   "metadata": {},
   "source": [
    "### 1x3  +  3x3    =  3x3"
   ]
  },
  {
   "cell_type": "code",
   "execution_count": 19,
   "id": "6b683b1f",
   "metadata": {
    "ExecuteTime": {
     "end_time": "2021-12-30T13:59:07.308957Z",
     "start_time": "2021-12-30T13:59:07.294992Z"
    }
   },
   "outputs": [
    {
     "data": {
      "text/plain": [
       "<tf.Tensor: shape=(3, 3), dtype=int32, numpy=\n",
       "array([[ 2,  4,  6],\n",
       "       [ 5,  7,  9],\n",
       "       [ 8, 10, 12]])>"
      ]
     },
     "execution_count": 19,
     "metadata": {},
     "output_type": "execute_result"
    }
   ],
   "source": [
    "a = tf.constant([1,2,3])\n",
    "b = tf.constant([\n",
    "                [1,2,3],\n",
    "                [4,5,6],\n",
    "                [7,8,9]\n",
    "])\n",
    "\n",
    "c = a+b\n",
    "c"
   ]
  },
  {
   "cell_type": "markdown",
   "id": "6dec8bcb",
   "metadata": {},
   "source": [
    "###  3x1  *  3*3 = 3 * 3"
   ]
  },
  {
   "cell_type": "code",
   "execution_count": 20,
   "id": "960ea810",
   "metadata": {
    "ExecuteTime": {
     "end_time": "2021-12-30T13:59:07.323914Z",
     "start_time": "2021-12-30T13:59:07.310957Z"
    }
   },
   "outputs": [
    {
     "data": {
      "text/plain": [
       "<tf.Tensor: shape=(3, 3), dtype=int32, numpy=\n",
       "array([[ 1,  2,  3],\n",
       "       [ 8, 10, 12],\n",
       "       [21, 24, 27]])>"
      ]
     },
     "execution_count": 20,
     "metadata": {},
     "output_type": "execute_result"
    }
   ],
   "source": [
    "a = tf.constant( [  [1],       # 3행 1열 매트릭스\n",
    "                    [2],\n",
    "                    [3]] )\n",
    "b = tf.constant([ [1,2,3],\n",
    "                  [4,5,6],\n",
    "                  [7,8,9] ] )\n",
    "c = a * b \n",
    "c"
   ]
  },
  {
   "cell_type": "markdown",
   "id": "1ecc3526",
   "metadata": {},
   "source": [
    "### 행렬의 곱\n",
    "- tf.matmul( A, B )"
   ]
  },
  {
   "cell_type": "code",
   "execution_count": 21,
   "id": "edeff293",
   "metadata": {
    "ExecuteTime": {
     "end_time": "2021-12-30T13:59:07.339871Z",
     "start_time": "2021-12-30T13:59:07.324911Z"
    }
   },
   "outputs": [
    {
     "data": {
      "text/plain": [
       "(<tf.Tensor: shape=(2, 2), dtype=int32, numpy=\n",
       " array([[ 5, 12],\n",
       "        [21, 32]])>,\n",
       " <tf.Tensor: shape=(2, 2), dtype=int32, numpy=\n",
       " array([[19, 22],\n",
       "        [43, 50]])>)"
      ]
     },
     "execution_count": 21,
     "metadata": {},
     "output_type": "execute_result"
    }
   ],
   "source": [
    "a = tf.constant( [ [1,2],\n",
    "                   [3,4]    ])\n",
    "b = tf.constant( [ [5,6],\n",
    "                    [7,8]])\n",
    "\n",
    "tf.multiply(a,b) , tf.matmul(a,b)"
   ]
  },
  {
   "cell_type": "markdown",
   "id": "deaa9326",
   "metadata": {},
   "source": [
    "### 행렬의 제곱, 평균\n",
    "```\n",
    "- tf.square()       제곱    s**2\n",
    "- tf.reduce_mean()  평균\n",
    "```"
   ]
  },
  {
   "cell_type": "code",
   "execution_count": 22,
   "id": "6d7abac1",
   "metadata": {
    "ExecuteTime": {
     "end_time": "2021-12-30T13:59:07.355830Z",
     "start_time": "2021-12-30T13:59:07.340868Z"
    }
   },
   "outputs": [
    {
     "data": {
      "text/plain": [
       "<tf.Tensor: shape=(3,), dtype=int32, numpy=array([1, 4, 9])>"
      ]
     },
     "execution_count": 22,
     "metadata": {},
     "output_type": "execute_result"
    }
   ],
   "source": [
    "s = [1,2,3,]\n",
    "t = tf.square( s )\n",
    "t"
   ]
  },
  {
   "cell_type": "code",
   "execution_count": 23,
   "id": "9eebbae4",
   "metadata": {
    "ExecuteTime": {
     "end_time": "2021-12-30T13:59:07.371786Z",
     "start_time": "2021-12-30T13:59:07.357826Z"
    }
   },
   "outputs": [
    {
     "data": {
      "text/plain": [
       "2"
      ]
     },
     "execution_count": 23,
     "metadata": {},
     "output_type": "execute_result"
    }
   ],
   "source": [
    "u = tf.reduce_mean( s )\n",
    "u.numpy()"
   ]
  },
  {
   "cell_type": "markdown",
   "id": "6f819bef",
   "metadata": {},
   "source": [
    "## Variable\n",
    "\n",
    "```\n",
    "변수명 =  tf.Variable(10)\n",
    "\n",
    "변수명.assign( 20 )    기존의 값을 10에서 20으로 변경\n",
    "변수명.assign_add( 3 ) 기존의 값에 3을 더함\n",
    "변수명.assign_sub( 3 ) 기존의 값에 3을 뺌\n",
    "\n",
    "```"
   ]
  },
  {
   "cell_type": "code",
   "execution_count": 24,
   "id": "2a729f4a",
   "metadata": {
    "ExecuteTime": {
     "end_time": "2021-12-30T13:59:07.387742Z",
     "start_time": "2021-12-30T13:59:07.372782Z"
    }
   },
   "outputs": [
    {
     "data": {
      "text/plain": [
       "<tf.Variable 'Variable:0' shape=() dtype=int32, numpy=10>"
      ]
     },
     "execution_count": 24,
     "metadata": {},
     "output_type": "execute_result"
    }
   ],
   "source": [
    "v = tf.Variable(10)\n",
    "v"
   ]
  },
  {
   "cell_type": "code",
   "execution_count": 25,
   "id": "d14bc1fe",
   "metadata": {
    "ExecuteTime": {
     "end_time": "2021-12-30T13:59:07.403702Z",
     "start_time": "2021-12-30T13:59:07.389737Z"
    }
   },
   "outputs": [
    {
     "data": {
      "text/plain": [
       "<tf.Variable 'Variable:0' shape=() dtype=int32, numpy=3>"
      ]
     },
     "execution_count": 25,
     "metadata": {},
     "output_type": "execute_result"
    }
   ],
   "source": [
    "# v = 20  으로 값 변경 X\n",
    "v.assign(3)  \n",
    "v          # 3"
   ]
  },
  {
   "cell_type": "code",
   "execution_count": 26,
   "id": "ad266a75",
   "metadata": {
    "ExecuteTime": {
     "end_time": "2021-12-30T13:59:07.419661Z",
     "start_time": "2021-12-30T13:59:07.404697Z"
    }
   },
   "outputs": [
    {
     "data": {
      "text/plain": [
       "<tf.Variable 'Variable:0' shape=() dtype=int32, numpy=6>"
      ]
     },
     "execution_count": 26,
     "metadata": {},
     "output_type": "execute_result"
    }
   ],
   "source": [
    "v.assign_add( 3 )\n",
    "v                   #  3 + 3  = 6"
   ]
  },
  {
   "cell_type": "code",
   "execution_count": 27,
   "id": "b9430a73",
   "metadata": {
    "ExecuteTime": {
     "end_time": "2021-12-30T13:59:07.435615Z",
     "start_time": "2021-12-30T13:59:07.421652Z"
    }
   },
   "outputs": [
    {
     "data": {
      "text/plain": [
       "<tf.Variable 'Variable:0' shape=() dtype=int32, numpy=3>"
      ]
     },
     "execution_count": 27,
     "metadata": {},
     "output_type": "execute_result"
    }
   ],
   "source": [
    "v.assign_sub( 3 )  #   6  -  3 =  3\n",
    "v"
   ]
  },
  {
   "cell_type": "code",
   "execution_count": 28,
   "id": "ea117bd4",
   "metadata": {
    "ExecuteTime": {
     "end_time": "2021-12-30T13:59:08.281355Z",
     "start_time": "2021-12-30T13:59:07.438607Z"
    }
   },
   "outputs": [],
   "source": [
    "import matplotlib.pyplot as plt\n",
    "import numpy as np\n",
    "plt.style.use(['seaborn-white'])"
   ]
  },
  {
   "cell_type": "markdown",
   "id": "f8de8add",
   "metadata": {},
   "source": [
    "# 미분 \n",
    "```\n",
    "함수에서 h를 0으로 보내면 (x, f(x)) 에서 점선의 기울기로 수렴\n",
    "미분은 함수 f의 주어진 점 (x,f(x))에서의 접선의 기울기구한다.\n",
    "\n",
    "한 점에서 접선의 기울기를 알면 어느 방향으로 점을 움직여야 함수 값이 증가/감소 하는지 알 수 있다.\n",
    "\n",
    "증가 시키고 싶다면 미분값을 더하고\n",
    "\n",
    "감소 시키고 싶다면 미분값을 빼자.\n",
    "\n",
    "미분값을 더하면 경사 상승법(gradient ascent) , 함수의 극대값의 위치를 구할때 사용\n",
    "\n",
    "- 목적함수를 최대화할 때 사용\n",
    "\n",
    "미분값을 빼면 경사 하강법(gradient descent), 함수의 극소값의 위치를 구할 때 사용\n",
    "\n",
    "- 목적함수 최소화\n",
    "\n",
    "\n",
    "경사 상승/ 경사 하강 방법은 극값에 도달하면 움직임을 멈춘다.\n",
    "\n",
    " gradient: 미분을 계산하는 함수\n",
    " init: 시작점\n",
    " lr : 학습률\n",
    " eps : 알고리즘 종료 조건\n",
    "\n",
    "\n"
   ]
  },
  {
   "cell_type": "code",
   "execution_count": 29,
   "id": "cb9917ee",
   "metadata": {
    "ExecuteTime": {
     "end_time": "2021-12-30T13:59:08.297311Z",
     "start_time": "2021-12-30T13:59:08.283348Z"
    }
   },
   "outputs": [],
   "source": [
    "# def func(val) : \n",
    "#     fun = sym.poly(x**2 + 2*x +3)\n",
    "#     return fun.subs(x,val),fun\n",
    "\n",
    "# def func_gradient(fun,vall):\n",
    "#         _, function = fun(val)\n",
    "#         diff = sym.diff(function,x)\n",
    "#         return diff.subs(x,val),diff\n",
    "# def gradient_descent(fun,init_point,lr_rate=1e-2, epslion = 1e-5):\n",
    "#     cnt = 0\n",
    "#     val =init_point\n",
    "#     diff, _ = func_gradient(fun, init_point)\n",
    "#     while np.abs(diff) > epslion:\n",
    "#         val =val - lr_rate_diff\n",
    "#         diff, _ = func_gradient(fun,val)\n",
    "#         cnt+=1\n",
    "#     print('함수: {},연산횟수: {}, 최소점: {}, {}'.format(fun(val)[1],cnt,fun(val))[0])\n",
    "    \n",
    "    \n",
    "# gradient_descent(fun-func, init_point=np.random.uniform(-2,2))"
   ]
  },
  {
   "cell_type": "code",
   "execution_count": 30,
   "id": "d9fd4d27",
   "metadata": {
    "ExecuteTime": {
     "end_time": "2021-12-30T13:59:08.566591Z",
     "start_time": "2021-12-30T13:59:08.298308Z"
    }
   },
   "outputs": [
    {
     "ename": "ModuleNotFoundError",
     "evalue": "No module named 'sympy'",
     "output_type": "error",
     "traceback": [
      "\u001b[1;31m---------------------------------------------------------------------------\u001b[0m",
      "\u001b[1;31mModuleNotFoundError\u001b[0m                       Traceback (most recent call last)",
      "\u001b[1;32mC:\\Users\\TFG507~1\\AppData\\Local\\Temp/ipykernel_12348/2425493469.py\u001b[0m in \u001b[0;36m<module>\u001b[1;34m\u001b[0m\n\u001b[1;32m----> 1\u001b[1;33m \u001b[1;32mimport\u001b[0m \u001b[0msympy\u001b[0m \u001b[1;32mas\u001b[0m \u001b[0msym\u001b[0m\u001b[1;33m\u001b[0m\u001b[1;33m\u001b[0m\u001b[0m\n\u001b[0m\u001b[0;32m      2\u001b[0m \u001b[1;32mfrom\u001b[0m \u001b[0msympy\u001b[0m\u001b[1;33m.\u001b[0m\u001b[0mabc\u001b[0m \u001b[1;32mimport\u001b[0m \u001b[0mx\u001b[0m\u001b[1;33m\u001b[0m\u001b[1;33m\u001b[0m\u001b[0m\n\u001b[0;32m      3\u001b[0m \u001b[0msym\u001b[0m\u001b[1;33m.\u001b[0m\u001b[0mdiff\u001b[0m\u001b[1;33m(\u001b[0m\u001b[0msym\u001b[0m\u001b[1;33m.\u001b[0m\u001b[0mpoly\u001b[0m\u001b[1;33m(\u001b[0m\u001b[0mx\u001b[0m\u001b[1;33m**\u001b[0m\u001b[1;36m2\u001b[0m \u001b[1;33m+\u001b[0m \u001b[1;36m2\u001b[0m\u001b[1;33m*\u001b[0m\u001b[0mx\u001b[0m \u001b[1;33m+\u001b[0m\u001b[1;36m3\u001b[0m\u001b[1;33m)\u001b[0m\u001b[1;33m,\u001b[0m \u001b[0mx\u001b[0m\u001b[1;33m)\u001b[0m\u001b[1;33m\u001b[0m\u001b[1;33m\u001b[0m\u001b[0m\n",
      "\u001b[1;31mModuleNotFoundError\u001b[0m: No module named 'sympy'"
     ]
    }
   ],
   "source": [
    "# import sympy as sym\n",
    "# from sympy.abc import x\n",
    "# sym.diff(sym.poly(x**2 + 2*x +3), x)"
   ]
  },
  {
   "cell_type": "code",
   "execution_count": 31,
   "id": "5d0ed0f5",
   "metadata": {
    "ExecuteTime": {
     "end_time": "2021-12-30T13:59:27.463492Z",
     "start_time": "2021-12-30T13:59:27.458502Z"
    }
   },
   "outputs": [],
   "source": [
    "# import sympy as sym\n",
    "# from sympy.abc import x,y\n",
    "# sym.diff(sym.poly(x**2 + 2*x*y +3) + sym.cos(x+2*y),x)"
   ]
  },
  {
   "cell_type": "code",
   "execution_count": 32,
   "id": "c96dd07d",
   "metadata": {
    "ExecuteTime": {
     "end_time": "2021-12-30T13:59:29.109028Z",
     "start_time": "2021-12-30T13:59:28.975197Z"
    }
   },
   "outputs": [
    {
     "data": {
      "image/png": "[encoded data removed]",
      "text/plain": [
       "<Figure size 432x432 with 1 Axes>"
      ]
     },
     "metadata": {},
     "output_type": "display_data"
    }
   ],
   "source": [
    "x_data = [1,2,3]\n",
    "y_data = [1,2,3]\n",
    "plt.figure(figsize=(6,6))\n",
    "plt.scatter(x_data,y_data)\n",
    "plt.show()"
   ]
  },
  {
   "cell_type": "code",
   "execution_count": null,
   "id": "0c90961a",
   "metadata": {},
   "outputs": [],
   "source": []
  },
  {
   "cell_type": "code",
   "execution_count": null,
   "id": "2cbda6e1",
   "metadata": {},
   "outputs": [],
   "source": []
  },
  {
   "cell_type": "code",
   "execution_count": null,
   "id": "fa3ceffc",
   "metadata": {},
   "outputs": [],
   "source": []
  },
  {
   "cell_type": "code",
   "execution_count": null,
   "id": "0b26efbe",
   "metadata": {},
   "outputs": [],
   "source": []
  },
  {
   "cell_type": "code",
   "execution_count": null,
   "id": "64f092b7",
   "metadata": {},
   "outputs": [],
   "source": []
  },
  {
   "cell_type": "code",
   "execution_count": null,
   "id": "248d00bf",
   "metadata": {},
   "outputs": [],
   "source": []
  },
  {
   "cell_type": "code",
   "execution_count": null,
   "id": "f2943acb",
   "metadata": {},
   "outputs": [],
   "source": []
  },
  {
   "cell_type": "code",
   "execution_count": null,
   "id": "76f15a6f",
   "metadata": {},
   "outputs": [],
   "source": []
  },
  {
   "cell_type": "code",
   "execution_count": null,
   "id": "42db295a",
   "metadata": {},
   "outputs": [],
   "source": []
  },
  {
   "cell_type": "code",
   "execution_count": null,
   "id": "fe25e49e",
   "metadata": {},
   "outputs": [],
   "source": []
  },
  {
   "cell_type": "code",
   "execution_count": null,
   "id": "55c87753",
   "metadata": {},
   "outputs": [],
   "source": []
  },
  {
   "cell_type": "code",
   "execution_count": null,
   "id": "36dd5aed",
   "metadata": {},
   "outputs": [],
   "source": []
  },
  {
   "cell_type": "code",
   "execution_count": null,
   "id": "33e46ef7",
   "metadata": {},
   "outputs": [],
   "source": []
  }
 ],
 "metadata": {
  "kernelspec": {
   "display_name": "Python 3 (ipykernel)",
   "language": "python",
   "name": "python3"
  },
  "language_info": {
   "codemirror_mode": {
    "name": "ipython",
    "version": 3
   },
   "file_extension": ".py",
   "mimetype": "text/x-python",
   "name": "python",
   "nbconvert_exporter": "python",
   "pygments_lexer": "ipython3",
   "version": "3.7.12"
  },
  "toc": {
   "base_numbering": 1,
   "nav_menu": {},
   "number_sections": true,
   "sideBar": true,
   "skip_h1_title": false,
   "title_cell": "Table of Contents",
   "title_sidebar": "Contents",
   "toc_cell": false,
   "toc_position": {},
   "toc_section_display": true,
   "toc_window_display": false
  }
 },
 "nbformat": 4,
 "nbformat_minor": 5
}
