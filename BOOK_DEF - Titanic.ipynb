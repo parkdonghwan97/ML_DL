{
 "cells": [
  {
   "cell_type": "markdown",
   "id": "007451cd",
   "metadata": {},
   "source": [
    "# NULL 처리 함수"
   ]
  },
  {
   "cell_type": "code",
   "execution_count": null,
   "id": "cc8ad07b",
   "metadata": {},
   "outputs": [],
   "source": [
    "def fillna(df):\n",
    "    df['Age'].fillna(df['Age'].meadn(),inplace=True)\n",
    "    df['Cabin'].fillna('N',inplace=True)\n",
    "    df['Embarked'].fillna('N',inplace=True)\n",
    "    df['Fare'].fillna(0,inplace=True)\n",
    "    return df"
   ]
  },
  {
   "cell_type": "markdown",
   "id": "b5fb140e",
   "metadata": {},
   "source": [
    "# 머신러닝 알고리즘에 불필요한 속성 제거"
   ]
  },
  {
   "cell_type": "code",
   "execution_count": null,
   "id": "e4e26c78",
   "metadata": {},
   "outputs": [],
   "source": [
    "def drop_features(df):\n",
    "    df.drop(['PassengerId','Name','Ticket',axis=1,inplace=True])\n",
    "    return df"
   ]
  },
  {
   "cell_type": "markdown",
   "id": "8d41b24f",
   "metadata": {},
   "source": [
    "# 레이블 인코딩 수행"
   ]
  },
  {
   "cell_type": "code",
   "execution_count": null,
   "id": "754a9720",
   "metadata": {},
   "outputs": [],
   "source": [
    "def format_features(df):\n",
    "    df['Cabin']"
   ]
  },
  {
   "cell_type": "code",
   "execution_count": null,
   "id": "93e4c839",
   "metadata": {},
   "outputs": [],
   "source": []
  }
 ],
 "metadata": {
  "kernelspec": {
   "display_name": "Python 3",
   "language": "python",
   "name": "python3"
  },
  "language_info": {
   "codemirror_mode": {
    "name": "ipython",
    "version": 3
   },
   "file_extension": ".py",
   "mimetype": "text/x-python",
   "name": "python",
   "nbconvert_exporter": "python",
   "pygments_lexer": "ipython3",
   "version": "3.8.8"
  },
  "toc": {
   "base_numbering": 1,
   "nav_menu": {},
   "number_sections": true,
   "sideBar": true,
   "skip_h1_title": false,
   "title_cell": "Table of Contents",
   "title_sidebar": "Contents",
   "toc_cell": false,
   "toc_position": {},
   "toc_section_display": true,
   "toc_window_display": false
  }
 },
 "nbformat": 4,
 "nbformat_minor": 5
}
