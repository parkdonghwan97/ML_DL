{
 "cells": [
  {
   "cell_type": "code",
   "execution_count": 6,
   "id": "ea9eb4a2",
   "metadata": {},
   "outputs": [],
   "source": [
    "import tensorflow as tf\n",
    "import numpy as np\n",
    "import math\n",
    "import matplotlib.pyplot as plt \n",
    "\n",
    "plt.style.use('ggplot')"
   ]
  },
  {
   "cell_type": "markdown",
   "id": "5fdc0bf9",
   "metadata": {},
   "source": [
    "```\n",
    "시그모이드 공식\n",
    "def sigmoid( z ) : \n",
    "    return 1 / (1 + math.e ** -z)\n",
    "Z = w * x + b\n",
    "Hx = sigmoid( z )\n",
    "```"
   ]
  },
  {
   "cell_type": "code",
   "execution_count": 7,
   "id": "0a23d2a7",
   "metadata": {},
   "outputs": [],
   "source": [
    "\n",
    "x_data1 = [1,2,3]\n",
    "y_data1 = [1,2,3]"
   ]
  },
  {
   "cell_type": "code",
   "execution_count": 8,
   "id": "ea4e85b8",
   "metadata": {},
   "outputs": [],
   "source": [
    "def cost(x,y,z):\n",
    "    hx = w * x\n",
    "#     z = w * x\n",
    "#     hx = tf.nn.sigmoid( z )\n",
    "    cost = tf.reduce_mean( (hx - y)** 2 )\n",
    "    return cost.numpy()"
   ]
  },
  {
   "cell_type": "code",
   "execution_count": 9,
   "id": "0179cfe6",
   "metadata": {},
   "outputs": [],
   "source": [
    "x_data = tf.constant(x_data1,tf.float32)\n",
    "y_data = tf.constant(y_data1,tf.float32)"
   ]
  },
  {
   "cell_type": "code",
   "execution_count": 17,
   "id": "127eb040",
   "metadata": {},
   "outputs": [],
   "source": [
    "# cost(x_data,y_data,3)"
   ]
  },
  {
   "cell_type": "code",
   "execution_count": 11,
   "id": "3e40b17b",
   "metadata": {},
   "outputs": [
    {
     "data": {
      "image/png": "[encoded data removed]",
      "text/plain": [
       "<Figure size 432x288 with 1 Axes>"
      ]
     },
     "metadata": {},
     "output_type": "display_data"
    }
   ],
   "source": [
    "for w in np.linspace(-3,5,50):\n",
    "    c = cost(x_data,y_data, w)\n",
    "    plt.plot(w,c,'ro')"
   ]
  },
  {
   "cell_type": "code",
   "execution_count": 12,
   "id": "9e2e965d",
   "metadata": {},
   "outputs": [],
   "source": [
    "x_data1 = np.array( [1,2,3,4,2,6,7,8,9,10]) # 출석일수\n",
    "y_data1 = np.array( [0,0,0,0,0,1,1,1,1,1])  # 합격 여부"
   ]
  },
  {
   "cell_type": "code",
   "execution_count": 13,
   "id": "30f35f50",
   "metadata": {},
   "outputs": [],
   "source": [
    "def cost(x,y,w):\n",
    "    z = w * x\n",
    "    hx = tf.nn.sigmoid( z ) # 0  ~   1 값\n",
    "    cost = tf.reduce_mean((hx-y)**2)\n",
    "    return cost.numpy()"
   ]
  },
  {
   "cell_type": "code",
   "execution_count": 14,
   "id": "667be344",
   "metadata": {},
   "outputs": [],
   "source": [
    "x_data = tf.constant(x_data1,tf.float32)\n",
    "\n",
    "y_data = tf.constant(y_data1,tf.float32)"
   ]
  },
  {
   "cell_type": "code",
   "execution_count": 15,
   "id": "b6c55520",
   "metadata": {},
   "outputs": [
    {
     "data": {
      "text/plain": [
       "0.48972607"
      ]
     },
     "execution_count": 15,
     "metadata": {},
     "output_type": "execute_result"
    }
   ],
   "source": [
    "cost(x_data,y_data,3)"
   ]
  },
  {
   "cell_type": "code",
   "execution_count": 16,
   "id": "e6ddddbf",
   "metadata": {},
   "outputs": [
    {
     "data": {
      "image/png": "[encoded data removed]",
      "text/plain": [
       "<Figure size 432x288 with 1 Axes>"
      ]
     },
     "metadata": {},
     "output_type": "display_data"
    }
   ],
   "source": [
    "for w in np.linspace(-3,5,50):\n",
    "    c = cost(x_data,y_data, w)\n",
    "    plt.plot(w,c,'ro')"
   ]
  },
  {
   "cell_type": "code",
   "execution_count": 18,
   "id": "c9c83ca7",
   "metadata": {},
   "outputs": [],
   "source": [
    "x_data1 = np.array( [1,2,3,4,2,6,7,8,9,10]) #출석일수\n",
    "y_data1 = np.array( [0,0,0,0,0,1,1,1,1,1]) #합격여부"
   ]
  },
  {
   "cell_type": "code",
   "execution_count": 23,
   "id": "ff503b33",
   "metadata": {},
   "outputs": [],
   "source": [
    "def cost( x,y,w):\n",
    "#     hx = w*x\n",
    "    z = w*x\n",
    "    hx = tf.nn.sigmoid( z ) # 0~1사이값\n",
    "    cost = -tf.reduce_mean( y * tf.math.log(hx) + (1 - y) * (tf.math.log(1 - hx)) )\n",
    "    return cost.numpy()"
   ]
  },
  {
   "cell_type": "code",
   "execution_count": 20,
   "id": "790d8bcd",
   "metadata": {},
   "outputs": [],
   "source": [
    "x_data = tf.constant( x_data1, tf.float32 )\n",
    "y_data = tf.constant( y_data1 , tf.float32)"
   ]
  },
  {
   "cell_type": "code",
   "execution_count": 21,
   "id": "3e06374a",
   "metadata": {},
   "outputs": [
    {
     "data": {
      "text/plain": [
       "nan"
      ]
     },
     "execution_count": 21,
     "metadata": {},
     "output_type": "execute_result"
    }
   ],
   "source": [
    "cost( x_data, y_data, 3)"
   ]
  },
  {
   "cell_type": "code",
   "execution_count": 22,
   "id": "ffd0dd0a",
   "metadata": {},
   "outputs": [
    {
     "data": {
      "image/png": "[encoded data removed]",
      "text/plain": [
       "<Figure size 432x288 with 1 Axes>"
      ]
     },
     "metadata": {},
     "output_type": "display_data"
    }
   ],
   "source": [
    "# for w in np.linspace( -3,5, 50):\n",
    "for w in np.linspace( -1,5, 50):\n",
    "    c = cost( x_data, y_data, w)\n",
    "    plt.plot( w, c, 'ro')\n",
    "plt.show()"
   ]
  }
 ],
 "metadata": {
  "kernelspec": {
   "display_name": "Python 3",
   "language": "python",
   "name": "python3"
  },
  "language_info": {
   "codemirror_mode": {
    "name": "ipython",
    "version": 3
   },
   "file_extension": ".py",
   "mimetype": "text/x-python",
   "name": "python",
   "nbconvert_exporter": "python",
   "pygments_lexer": "ipython3",
   "version": "3.8.8"
  },
  "toc": {
   "base_numbering": 1,
   "nav_menu": {},
   "number_sections": true,
   "sideBar": true,
   "skip_h1_title": false,
   "title_cell": "Table of Contents",
   "title_sidebar": "Contents",
   "toc_cell": false,
   "toc_position": {},
   "toc_section_display": true,
   "toc_window_display": false
  }
 },
 "nbformat": 4,
 "nbformat_minor": 5
}
