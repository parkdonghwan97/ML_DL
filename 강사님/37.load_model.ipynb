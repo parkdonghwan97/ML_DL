{
 "cells": [
  {
   "cell_type": "code",
   "execution_count": 12,
   "id": "424a75ed",
   "metadata": {},
   "outputs": [],
   "source": [
    "from tensorflow.keras.models import load_model\n",
    "from tensorflow.keras.preprocessing import image\n",
    "import pickle\n",
    "import shelve"
   ]
  },
  {
   "cell_type": "code",
   "execution_count": 2,
   "id": "5a298caa",
   "metadata": {},
   "outputs": [],
   "source": [
    "model = load_model('catdog.h5')"
   ]
  },
  {
   "cell_type": "code",
   "execution_count": 14,
   "id": "4ec99127",
   "metadata": {},
   "outputs": [
    {
     "name": "stdout",
     "output_type": "stream",
     "text": [
      "myh\n"
     ]
    }
   ],
   "source": [
    "sh = shelve.open( 'myhist')\n",
    "for k in sh.keys():\n",
    "    print( k )"
   ]
  },
  {
   "cell_type": "code",
   "execution_count": 15,
   "id": "a8950a58",
   "metadata": {},
   "outputs": [
    {
     "data": {
      "text/plain": [
       "{'loss': [0.696823000907898,\n",
       "  4.824589729309082,\n",
       "  5.900790214538574,\n",
       "  0.6029187440872192,\n",
       "  3.5911083221435547,\n",
       "  2.6781351566314697,\n",
       "  0.37350884079933167,\n",
       "  2.0917491912841797,\n",
       "  1.335868000984192,\n",
       "  0.34657377004623413,\n",
       "  1.1524020433425903,\n",
       "  0.8450496792793274,\n",
       "  0.20665815472602844,\n",
       "  0.7076443433761597,\n",
       "  0.7655048370361328,\n",
       "  0.24114203453063965,\n",
       "  0.31771573424339294,\n",
       "  0.5722719430923462,\n",
       "  0.4382185935974121,\n",
       "  0.15458154678344727,\n",
       "  0.24867908656597137,\n",
       "  0.3915296196937561,\n",
       "  0.19906233251094818,\n",
       "  0.10658274590969086,\n",
       "  0.21749743819236755,\n",
       "  0.24785205721855164,\n",
       "  0.14345328509807587,\n",
       "  0.0664302408695221,\n",
       "  0.10901959240436554,\n",
       "  0.16109809279441833,\n",
       "  0.10120437294244766,\n",
       "  0.04750440642237663,\n",
       "  0.05922341346740723,\n",
       "  0.09089326113462448,\n",
       "  0.08866062760353088,\n",
       "  0.05378974601626396,\n",
       "  0.031111055985093117,\n",
       "  0.03337749093770981,\n",
       "  0.048991523683071136,\n",
       "  0.052696436643600464,\n",
       "  0.03722742944955826,\n",
       "  0.02372172102332115,\n",
       "  0.020469484850764275,\n",
       "  0.024561580270528793,\n",
       "  0.0300370492041111,\n",
       "  0.03034529648721218,\n",
       "  0.02483156882226467,\n",
       "  0.01863604225218296,\n",
       "  0.015380635857582092,\n",
       "  0.015356394462287426],\n",
       " 'acc': [0.5,\n",
       "  0.5,\n",
       "  0.5,\n",
       "  0.6000000238418579,\n",
       "  0.5,\n",
       "  0.5,\n",
       "  0.8500000238418579,\n",
       "  0.5,\n",
       "  0.5,\n",
       "  0.8500000238418579,\n",
       "  0.6000000238418579,\n",
       "  0.699999988079071,\n",
       "  0.949999988079071,\n",
       "  0.75,\n",
       "  0.75,\n",
       "  0.8500000238418579,\n",
       "  0.8999999761581421,\n",
       "  0.800000011920929,\n",
       "  0.8500000238418579,\n",
       "  0.949999988079071,\n",
       "  0.8500000238418579,\n",
       "  0.8500000238418579,\n",
       "  0.8999999761581421,\n",
       "  0.949999988079071,\n",
       "  0.8999999761581421,\n",
       "  0.8999999761581421,\n",
       "  0.949999988079071,\n",
       "  1.0,\n",
       "  0.949999988079071,\n",
       "  0.8999999761581421,\n",
       "  0.949999988079071,\n",
       "  1.0,\n",
       "  0.949999988079071,\n",
       "  0.949999988079071,\n",
       "  0.949999988079071,\n",
       "  1.0,\n",
       "  1.0,\n",
       "  1.0,\n",
       "  1.0,\n",
       "  1.0,\n",
       "  1.0,\n",
       "  1.0,\n",
       "  1.0,\n",
       "  1.0,\n",
       "  1.0,\n",
       "  1.0,\n",
       "  1.0,\n",
       "  1.0,\n",
       "  1.0,\n",
       "  1.0]}"
      ]
     },
     "execution_count": 15,
     "metadata": {},
     "output_type": "execute_result"
    }
   ],
   "source": [
    "sh['myh']"
   ]
  },
  {
   "cell_type": "code",
   "execution_count": 11,
   "id": "4a82354b",
   "metadata": {},
   "outputs": [
    {
     "data": {
      "text/plain": [
       "{'loss': [0.696823000907898,\n",
       "  4.824589729309082,\n",
       "  5.900790214538574,\n",
       "  0.6029187440872192,\n",
       "  3.5911083221435547,\n",
       "  2.6781351566314697,\n",
       "  0.37350884079933167,\n",
       "  2.0917491912841797,\n",
       "  1.335868000984192,\n",
       "  0.34657377004623413,\n",
       "  1.1524020433425903,\n",
       "  0.8450496792793274,\n",
       "  0.20665815472602844,\n",
       "  0.7076443433761597,\n",
       "  0.7655048370361328,\n",
       "  0.24114203453063965,\n",
       "  0.31771573424339294,\n",
       "  0.5722719430923462,\n",
       "  0.4382185935974121,\n",
       "  0.15458154678344727,\n",
       "  0.24867908656597137,\n",
       "  0.3915296196937561,\n",
       "  0.19906233251094818,\n",
       "  0.10658274590969086,\n",
       "  0.21749743819236755,\n",
       "  0.24785205721855164,\n",
       "  0.14345328509807587,\n",
       "  0.0664302408695221,\n",
       "  0.10901959240436554,\n",
       "  0.16109809279441833,\n",
       "  0.10120437294244766,\n",
       "  0.04750440642237663,\n",
       "  0.05922341346740723,\n",
       "  0.09089326113462448,\n",
       "  0.08866062760353088,\n",
       "  0.05378974601626396,\n",
       "  0.031111055985093117,\n",
       "  0.03337749093770981,\n",
       "  0.048991523683071136,\n",
       "  0.052696436643600464,\n",
       "  0.03722742944955826,\n",
       "  0.02372172102332115,\n",
       "  0.020469484850764275,\n",
       "  0.024561580270528793,\n",
       "  0.0300370492041111,\n",
       "  0.03034529648721218,\n",
       "  0.02483156882226467,\n",
       "  0.01863604225218296,\n",
       "  0.015380635857582092,\n",
       "  0.015356394462287426],\n",
       " 'acc': [0.5,\n",
       "  0.5,\n",
       "  0.5,\n",
       "  0.6000000238418579,\n",
       "  0.5,\n",
       "  0.5,\n",
       "  0.8500000238418579,\n",
       "  0.5,\n",
       "  0.5,\n",
       "  0.8500000238418579,\n",
       "  0.6000000238418579,\n",
       "  0.699999988079071,\n",
       "  0.949999988079071,\n",
       "  0.75,\n",
       "  0.75,\n",
       "  0.8500000238418579,\n",
       "  0.8999999761581421,\n",
       "  0.800000011920929,\n",
       "  0.8500000238418579,\n",
       "  0.949999988079071,\n",
       "  0.8500000238418579,\n",
       "  0.8500000238418579,\n",
       "  0.8999999761581421,\n",
       "  0.949999988079071,\n",
       "  0.8999999761581421,\n",
       "  0.8999999761581421,\n",
       "  0.949999988079071,\n",
       "  1.0,\n",
       "  0.949999988079071,\n",
       "  0.8999999761581421,\n",
       "  0.949999988079071,\n",
       "  1.0,\n",
       "  0.949999988079071,\n",
       "  0.949999988079071,\n",
       "  0.949999988079071,\n",
       "  1.0,\n",
       "  1.0,\n",
       "  1.0,\n",
       "  1.0,\n",
       "  1.0,\n",
       "  1.0,\n",
       "  1.0,\n",
       "  1.0,\n",
       "  1.0,\n",
       "  1.0,\n",
       "  1.0,\n",
       "  1.0,\n",
       "  1.0,\n",
       "  1.0,\n",
       "  1.0]}"
      ]
     },
     "execution_count": 11,
     "metadata": {},
     "output_type": "execute_result"
    }
   ],
   "source": [
    "fp = open('catdog.history','rb')\n",
    "history = pickle.load(fp)\n",
    "history"
   ]
  },
  {
   "cell_type": "code",
   "execution_count": 3,
   "id": "e0f6897c",
   "metadata": {},
   "outputs": [
    {
     "name": "stdout",
     "output_type": "stream",
     "text": [
      "Model: \"sequential\"\n",
      "_________________________________________________________________\n",
      " Layer (type)                Output Shape              Param #   \n",
      "=================================================================\n",
      " flatten (Flatten)           (None, 28812)             0         \n",
      "                                                                 \n",
      " dense (Dense)               (None, 64)                1844032   \n",
      "                                                                 \n",
      " dense_1 (Dense)             (None, 32)                2080      \n",
      "                                                                 \n",
      " dense_2 (Dense)             (None, 2)                 66        \n",
      "                                                                 \n",
      "=================================================================\n",
      "Total params: 1,846,178\n",
      "Trainable params: 1,846,178\n",
      "Non-trainable params: 0\n",
      "_________________________________________________________________\n"
     ]
    }
   ],
   "source": [
    "model.summary()"
   ]
  },
  {
   "cell_type": "code",
   "execution_count": 6,
   "id": "cd6af3c5",
   "metadata": {
    "collapsed": true
   },
   "outputs": [
    {
     "data": {
      "image/png": "[encoded data removed]",
      "text/plain": [
       "<PIL.Image.Image image mode=RGB size=98x98 at 0x2AD9264D9A0>"
      ]
     },
     "execution_count": 6,
     "metadata": {},
     "output_type": "execute_result"
    }
   ],
   "source": [
    "testImg = image.load_img( 'image/test.jpg', target_size=(98,98))\n",
    "testImg"
   ]
  },
  {
   "cell_type": "code",
   "execution_count": 7,
   "id": "3d941fea",
   "metadata": {
    "collapsed": true
   },
   "outputs": [
    {
     "data": {
      "text/plain": [
       "array([[[0.92941177, 0.93333334, 0.9529412 ],\n",
       "        [0.92941177, 0.93333334, 0.9529412 ],\n",
       "        [0.92941177, 0.93333334, 0.9529412 ],\n",
       "        ...,\n",
       "        [0.9098039 , 0.9137255 , 0.93333334],\n",
       "        [0.9098039 , 0.9137255 , 0.93333334],\n",
       "        [0.9098039 , 0.9137255 , 0.93333334]],\n",
       "\n",
       "       [[0.92941177, 0.93333334, 0.9529412 ],\n",
       "        [0.92941177, 0.93333334, 0.9529412 ],\n",
       "        [0.92941177, 0.93333334, 0.9529412 ],\n",
       "        ...,\n",
       "        [0.9098039 , 0.9137255 , 0.93333334],\n",
       "        [0.9098039 , 0.9137255 , 0.93333334],\n",
       "        [0.9098039 , 0.9137255 , 0.93333334]],\n",
       "\n",
       "       [[0.92941177, 0.93333334, 0.9529412 ],\n",
       "        [0.92941177, 0.93333334, 0.9529412 ],\n",
       "        [0.92941177, 0.93333334, 0.9529412 ],\n",
       "        ...,\n",
       "        [0.9098039 , 0.9137255 , 0.93333334],\n",
       "        [0.9098039 , 0.9137255 , 0.93333334],\n",
       "        [0.9098039 , 0.9137255 , 0.93333334]],\n",
       "\n",
       "       ...,\n",
       "\n",
       "       [[0.9529412 , 0.95686275, 0.9764706 ],\n",
       "        [0.9529412 , 0.95686275, 0.9764706 ],\n",
       "        [0.9529412 , 0.95686275, 0.9764706 ],\n",
       "        ...,\n",
       "        [0.9529412 , 0.95686275, 0.9764706 ],\n",
       "        [0.9529412 , 0.95686275, 0.9764706 ],\n",
       "        [0.9529412 , 0.95686275, 0.9764706 ]],\n",
       "\n",
       "       [[0.9529412 , 0.95686275, 0.9764706 ],\n",
       "        [0.9529412 , 0.95686275, 0.9764706 ],\n",
       "        [0.9529412 , 0.95686275, 0.9764706 ],\n",
       "        ...,\n",
       "        [0.9529412 , 0.95686275, 0.9764706 ],\n",
       "        [0.9529412 , 0.95686275, 0.9764706 ],\n",
       "        [0.9529412 , 0.95686275, 0.9764706 ]],\n",
       "\n",
       "       [[0.9529412 , 0.95686275, 0.9764706 ],\n",
       "        [0.9529412 , 0.95686275, 0.9764706 ],\n",
       "        [0.9529412 , 0.95686275, 0.9764706 ],\n",
       "        ...,\n",
       "        [0.9529412 , 0.95686275, 0.9764706 ],\n",
       "        [0.9529412 , 0.95686275, 0.9764706 ],\n",
       "        [0.9529412 , 0.95686275, 0.9764706 ]]], dtype=float32)"
      ]
     },
     "execution_count": 7,
     "metadata": {},
     "output_type": "execute_result"
    }
   ],
   "source": [
    "imgArr = image.img_to_array( testImg )/255\n",
    "imgArr"
   ]
  },
  {
   "cell_type": "code",
   "execution_count": 8,
   "id": "1da9748b",
   "metadata": {},
   "outputs": [
    {
     "data": {
      "text/plain": [
       "array([[0.9105883 , 0.08941174]], dtype=float32)"
      ]
     },
     "execution_count": 8,
     "metadata": {},
     "output_type": "execute_result"
    }
   ],
   "source": [
    "model.predict( imgArr.reshape(1,98,98,3) )"
   ]
  }
 ],
 "metadata": {
  "kernelspec": {
   "display_name": "Python 3",
   "language": "python",
   "name": "python3"
  },
  "language_info": {
   "codemirror_mode": {
    "name": "ipython",
    "version": 3
   },
   "file_extension": ".py",
   "mimetype": "text/x-python",
   "name": "python",
   "nbconvert_exporter": "python",
   "pygments_lexer": "ipython3",
   "version": "3.8.8"
  }
 },
 "nbformat": 4,
 "nbformat_minor": 5
}
