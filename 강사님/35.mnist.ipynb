{
 "cells": [
  {
   "cell_type": "code",
   "execution_count": 5,
   "id": "5fa52bf8",
   "metadata": {},
   "outputs": [],
   "source": [
    "import tensorflow as tf\n",
    "import numpy as np\n",
    "import matplotlib.pyplot as plt\n",
    "from tensorflow.keras.layers import Dense, Flatten\n",
    "from tensorflow.keras import Sequential\n",
    "from tensorflow.keras.datasets.mnist import load_data\n",
    "from tensorflow.keras.utils import to_categorical"
   ]
  },
  {
   "cell_type": "code",
   "execution_count": 3,
   "id": "566732f5",
   "metadata": {},
   "outputs": [],
   "source": [
    "mnistData = load_data()"
   ]
  },
  {
   "cell_type": "code",
   "execution_count": 4,
   "id": "1fe23650",
   "metadata": {},
   "outputs": [],
   "source": [
    "(x_train,y_train),(x_test,y_test) = mnistData"
   ]
  },
  {
   "cell_type": "code",
   "execution_count": 6,
   "id": "b5241c6b",
   "metadata": {},
   "outputs": [
    {
     "data": {
      "text/plain": [
       "(60000, 28, 28)"
      ]
     },
     "execution_count": 6,
     "metadata": {},
     "output_type": "execute_result"
    }
   ],
   "source": [
    "x_train.shape"
   ]
  },
  {
   "cell_type": "code",
   "execution_count": 7,
   "id": "1dafdaa1",
   "metadata": {
    "collapsed": true
   },
   "outputs": [
    {
     "name": "stdout",
     "output_type": "stream",
     "text": [
      "Epoch 1/10\n",
      "1875/1875 [==============================] - 2s 730us/step - loss: 1.6264 - acc: 0.7315\n",
      "Epoch 2/10\n",
      "1875/1875 [==============================] - 2s 828us/step - loss: 0.3886 - acc: 0.9011\n",
      "Epoch 3/10\n",
      "1875/1875 [==============================] - 1s 711us/step - loss: 0.2506 - acc: 0.9326\n",
      "Epoch 4/10\n",
      "1875/1875 [==============================] - 1s 749us/step - loss: 0.2007 - acc: 0.9454\n",
      "Epoch 5/10\n",
      "1875/1875 [==============================] - 2s 908us/step - loss: 0.1656 - acc: 0.9551\n",
      "Epoch 6/10\n",
      "1875/1875 [==============================] - 2s 827us/step - loss: 0.1420 - acc: 0.9602\n",
      "Epoch 7/10\n",
      "1875/1875 [==============================] - 2s 837us/step - loss: 0.1290 - acc: 0.9640\n",
      "Epoch 8/10\n",
      "1875/1875 [==============================] - 2s 888us/step - loss: 0.1226 - acc: 0.9656\n",
      "Epoch 9/10\n",
      "1875/1875 [==============================] - 2s 853us/step - loss: 0.1054 - acc: 0.9704\n",
      "Epoch 10/10\n",
      "1875/1875 [==============================] - 1s 721us/step - loss: 0.0985 - acc: 0.9726\n"
     ]
    },
    {
     "data": {
      "text/plain": [
       "<keras.callbacks.History at 0x263086866d0>"
      ]
     },
     "execution_count": 7,
     "metadata": {},
     "output_type": "execute_result"
    }
   ],
   "source": [
    "model = Sequential()\n",
    "model.add( Flatten( input_shape=(28,28)))\n",
    "model.add( Dense( units=64, activation='relu' ))\n",
    "model.add( Dense( units=32, activation='relu' ))\n",
    "model.add( Dense( units=10, activation='softmax' ))\n",
    "model.compile( loss='sparse_categorical_crossentropy', optimizer='adam',\n",
    "             metrics=['acc'] )\n",
    "model.fit( x_train, y_train, epochs= 10)"
   ]
  },
  {
   "cell_type": "code",
   "execution_count": 8,
   "id": "e710cebb",
   "metadata": {},
   "outputs": [
    {
     "data": {
      "text/plain": [
       "(28, 28)"
      ]
     },
     "execution_count": 8,
     "metadata": {},
     "output_type": "execute_result"
    }
   ],
   "source": [
    "x_test[0].shape"
   ]
  },
  {
   "cell_type": "code",
   "execution_count": 10,
   "id": "f4dc7a6f",
   "metadata": {},
   "outputs": [
    {
     "data": {
      "text/plain": [
       "array([7], dtype=int64)"
      ]
     },
     "execution_count": 10,
     "metadata": {},
     "output_type": "execute_result"
    }
   ],
   "source": [
    "model.predict( x_test[0].reshape(1,28,28)).argmax(axis=1)"
   ]
  },
  {
   "cell_type": "code",
   "execution_count": 12,
   "id": "434470c0",
   "metadata": {},
   "outputs": [
    {
     "data": {
      "text/plain": [
       "array([7, 2, 1, ..., 4, 5, 6], dtype=int64)"
      ]
     },
     "execution_count": 12,
     "metadata": {},
     "output_type": "execute_result"
    }
   ],
   "source": [
    "model.predict( x_test ).argmax( axis=1)"
   ]
  },
  {
   "cell_type": "code",
   "execution_count": 13,
   "id": "60f8e3ef",
   "metadata": {},
   "outputs": [
    {
     "name": "stdout",
     "output_type": "stream",
     "text": [
      "313/313 [==============================] - 0s 577us/step - loss: 0.1625 - acc: 0.9655\n"
     ]
    },
    {
     "data": {
      "text/plain": [
       "[0.16245007514953613, 0.965499997138977]"
      ]
     },
     "execution_count": 13,
     "metadata": {},
     "output_type": "execute_result"
    }
   ],
   "source": [
    "model.evaluate( x_test, y_test)"
   ]
  }
 ],
 "metadata": {
  "kernelspec": {
   "display_name": "Python 3",
   "language": "python",
   "name": "python3"
  },
  "language_info": {
   "codemirror_mode": {
    "name": "ipython",
    "version": 3
   },
   "file_extension": ".py",
   "mimetype": "text/x-python",
   "name": "python",
   "nbconvert_exporter": "python",
   "pygments_lexer": "ipython3",
   "version": "3.8.8"
  },
  "toc": {
   "base_numbering": 1,
   "nav_menu": {},
   "number_sections": true,
   "sideBar": true,
   "skip_h1_title": false,
   "title_cell": "Table of Contents",
   "title_sidebar": "Contents",
   "toc_cell": false,
   "toc_position": {},
   "toc_section_display": true,
   "toc_window_display": false
  }
 },
 "nbformat": 4,
 "nbformat_minor": 5
}
