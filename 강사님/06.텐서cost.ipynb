{
 "cells": [
  {
   "cell_type": "code",
   "execution_count": 1,
   "id": "caae068f",
   "metadata": {},
   "outputs": [],
   "source": [
    "import tensorflow as tf\n",
    "import numpy as np"
   ]
  },
  {
   "cell_type": "code",
   "execution_count": 2,
   "id": "b82e956e",
   "metadata": {},
   "outputs": [],
   "source": [
    "x_data = [1,2,3]\n",
    "y_data = [1,2,3]"
   ]
  },
  {
   "cell_type": "code",
   "execution_count": 8,
   "id": "b430145d",
   "metadata": {},
   "outputs": [],
   "source": [
    "w = 3\n",
    "x = tf.constant( x_data ,tf.float32)\n",
    "y= tf.constant( y_data, tf.float32 )"
   ]
  },
  {
   "cell_type": "code",
   "execution_count": 9,
   "id": "9b654c90",
   "metadata": {},
   "outputs": [
    {
     "data": {
      "text/plain": [
       "<tf.Tensor: shape=(3,), dtype=float32, numpy=array([1., 2., 3.], dtype=float32)>"
      ]
     },
     "execution_count": 9,
     "metadata": {},
     "output_type": "execute_result"
    }
   ],
   "source": [
    "x"
   ]
  },
  {
   "cell_type": "code",
   "execution_count": 10,
   "id": "785655c7",
   "metadata": {},
   "outputs": [],
   "source": [
    "hx =  tf.multiply( w, x) #w*x #  [3,6,9]\n",
    "m = tf.subtract( hx, y ) # hx - y\n",
    "sq = tf.square( m ) # (hx-y)**2\n",
    "cost = tf.reduce_mean( sq )"
   ]
  },
  {
   "cell_type": "code",
   "execution_count": 16,
   "id": "c0d9bec0",
   "metadata": {},
   "outputs": [],
   "source": [
    "def cost(w):\n",
    "    hx = w*x\n",
    "    cost = tf.reduce_mean( (hx-y)**2 )\n",
    "    return cost"
   ]
  },
  {
   "cell_type": "code",
   "execution_count": 18,
   "id": "cf79a83b",
   "metadata": {},
   "outputs": [
    {
     "data": {
      "text/plain": [
       "18.666666"
      ]
     },
     "execution_count": 18,
     "metadata": {},
     "output_type": "execute_result"
    }
   ],
   "source": [
    "cost(3).numpy()"
   ]
  },
  {
   "cell_type": "code",
   "execution_count": 19,
   "id": "6f604704",
   "metadata": {},
   "outputs": [
    {
     "data": {
      "text/plain": [
       "4.6666665"
      ]
     },
     "execution_count": 19,
     "metadata": {},
     "output_type": "execute_result"
    }
   ],
   "source": [
    "cost(2).numpy()"
   ]
  },
  {
   "cell_type": "code",
   "execution_count": 12,
   "id": "c18471c1",
   "metadata": {},
   "outputs": [
    {
     "data": {
      "text/plain": [
       "<tf.Tensor: shape=(3,), dtype=float32, numpy=array([3., 6., 9.], dtype=float32)>"
      ]
     },
     "execution_count": 12,
     "metadata": {},
     "output_type": "execute_result"
    }
   ],
   "source": [
    "hx"
   ]
  },
  {
   "cell_type": "code",
   "execution_count": 13,
   "id": "58ef4a69",
   "metadata": {},
   "outputs": [
    {
     "data": {
      "text/plain": [
       "<tf.Tensor: shape=(3,), dtype=float32, numpy=array([ 4., 16., 36.], dtype=float32)>"
      ]
     },
     "execution_count": 13,
     "metadata": {},
     "output_type": "execute_result"
    }
   ],
   "source": [
    "sq"
   ]
  },
  {
   "cell_type": "code",
   "execution_count": 11,
   "id": "010b2df5",
   "metadata": {},
   "outputs": [
    {
     "data": {
      "text/plain": [
       "18.666666"
      ]
     },
     "execution_count": 11,
     "metadata": {},
     "output_type": "execute_result"
    }
   ],
   "source": [
    "cost.numpy()"
   ]
  }
 ],
 "metadata": {
  "kernelspec": {
   "display_name": "Python 3",
   "language": "python",
   "name": "python3"
  },
  "language_info": {
   "codemirror_mode": {
    "name": "ipython",
    "version": 3
   },
   "file_extension": ".py",
   "mimetype": "text/x-python",
   "name": "python",
   "nbconvert_exporter": "python",
   "pygments_lexer": "ipython3",
   "version": "3.8.8"
  }
 },
 "nbformat": 4,
 "nbformat_minor": 5
}
