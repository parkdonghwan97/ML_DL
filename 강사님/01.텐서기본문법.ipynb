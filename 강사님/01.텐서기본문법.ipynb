{
 "cells": [
  {
   "cell_type": "code",
   "execution_count": 1,
   "id": "dc010fde",
   "metadata": {},
   "outputs": [],
   "source": [
    "import tensorflow as tf\n",
    "import numpy as np"
   ]
  },
  {
   "cell_type": "markdown",
   "id": "b129fbc8",
   "metadata": {},
   "source": [
    "## scalar data"
   ]
  },
  {
   "cell_type": "code",
   "execution_count": null,
   "id": "4f87abc0",
   "metadata": {},
   "outputs": [],
   "source": [
    "s1 = 10 # 'abc' \n",
    "s2 = 'abc'\n",
    "s3 = 3.14"
   ]
  },
  {
   "cell_type": "markdown",
   "id": "93b97b48",
   "metadata": {},
   "source": [
    "### vector data"
   ]
  },
  {
   "cell_type": "code",
   "execution_count": null,
   "id": "736dce11",
   "metadata": {},
   "outputs": [],
   "source": [
    "v = [10,20,30]"
   ]
  },
  {
   "cell_type": "markdown",
   "id": "092116b2",
   "metadata": {},
   "source": [
    "## matrix data"
   ]
  },
  {
   "cell_type": "code",
   "execution_count": null,
   "id": "b06a0a97",
   "metadata": {},
   "outputs": [],
   "source": [
    "m = [[10,20,30], [40,50,60]] # 2 x 3"
   ]
  },
  {
   "cell_type": "markdown",
   "id": "18ea6c2c",
   "metadata": {},
   "source": [
    "## 3d tensor"
   ]
  },
  {
   "cell_type": "code",
   "execution_count": null,
   "id": "3d51c5fe",
   "metadata": {},
   "outputs": [],
   "source": [
    "# 2x2x3\n",
    "d3 =[ [[10,20,30], [40,50,60]], [[10,20,30], [40,50,60]] ]"
   ]
  },
  {
   "cell_type": "markdown",
   "id": "98e32713",
   "metadata": {},
   "source": [
    "### 4d tensor"
   ]
  },
  {
   "cell_type": "code",
   "execution_count": null,
   "id": "98154f69",
   "metadata": {},
   "outputs": [],
   "source": [
    "#2 x2 x2 x3\n",
    "d4 =[ [ [[10,20,30], [40,50,60]], [[10,20,30], [40,50,60]] ],\n",
    "[ [[10,20,30], [40,50,60]], [[10,20,30], [40,50,60]] ] ]"
   ]
  },
  {
   "cell_type": "markdown",
   "id": "f9977990",
   "metadata": {},
   "source": [
    "### 텐서 데이터 노드정의하는 방법\n",
    "## 1. constant:읽기전용\n",
    "## 2. Variable: 읽기 쓰기"
   ]
  },
  {
   "cell_type": "code",
   "execution_count": 3,
   "id": "a2b69ea3",
   "metadata": {},
   "outputs": [
    {
     "data": {
      "text/plain": [
       "<tf.Tensor: shape=(), dtype=int32, numpy=10>"
      ]
     },
     "execution_count": 3,
     "metadata": {},
     "output_type": "execute_result"
    }
   ],
   "source": [
    "s1 = 10\n",
    "c1 = tf.constant( s1 )\n",
    "c1 # 텐서객체"
   ]
  },
  {
   "cell_type": "code",
   "execution_count": 4,
   "id": "a1ecfcbc",
   "metadata": {},
   "outputs": [
    {
     "data": {
      "text/plain": [
       "10"
      ]
     },
     "execution_count": 4,
     "metadata": {},
     "output_type": "execute_result"
    }
   ],
   "source": [
    "c1.numpy()"
   ]
  },
  {
   "cell_type": "code",
   "execution_count": 5,
   "id": "6d928bb5",
   "metadata": {},
   "outputs": [
    {
     "data": {
      "text/plain": [
       "<tf.Tensor: shape=(3,), dtype=int32, numpy=array([10, 20, 30])>"
      ]
     },
     "execution_count": 5,
     "metadata": {},
     "output_type": "execute_result"
    }
   ],
   "source": [
    "v1 = [10,20,30]\n",
    "t1 = tf.constant( v1 )\n",
    "t1"
   ]
  },
  {
   "cell_type": "code",
   "execution_count": 7,
   "id": "15248b77",
   "metadata": {},
   "outputs": [
    {
     "data": {
      "text/plain": [
       "tensorflow.python.framework.ops.EagerTensor"
      ]
     },
     "execution_count": 7,
     "metadata": {},
     "output_type": "execute_result"
    }
   ],
   "source": [
    "type(t1)"
   ]
  },
  {
   "cell_type": "code",
   "execution_count": 6,
   "id": "6df7167f",
   "metadata": {},
   "outputs": [
    {
     "data": {
      "text/plain": [
       "array([10, 20, 30])"
      ]
     },
     "execution_count": 6,
     "metadata": {},
     "output_type": "execute_result"
    }
   ],
   "source": [
    "t1.numpy()"
   ]
  },
  {
   "cell_type": "code",
   "execution_count": 8,
   "id": "72338b0c",
   "metadata": {},
   "outputs": [
    {
     "data": {
      "text/plain": [
       "<tf.Tensor: shape=(2, 3), dtype=int32, numpy=\n",
       "array([[10, 20, 30],\n",
       "       [40, 50, 60]])>"
      ]
     },
     "execution_count": 8,
     "metadata": {},
     "output_type": "execute_result"
    }
   ],
   "source": [
    "m = [[10,20,30], [40,50,60]]\n",
    "t2 = tf.constant( m )\n",
    "t2"
   ]
  },
  {
   "cell_type": "markdown",
   "id": "957cfa04",
   "metadata": {},
   "source": [
    "# 연산: element wise (요소별 연산)"
   ]
  },
  {
   "cell_type": "code",
   "execution_count": 9,
   "id": "08a8c995",
   "metadata": {},
   "outputs": [],
   "source": [
    "a = tf.constant( 3 )\n",
    "b = tf.constant( [1,2,3] )"
   ]
  },
  {
   "cell_type": "code",
   "execution_count": 10,
   "id": "609ddb25",
   "metadata": {},
   "outputs": [
    {
     "data": {
      "text/plain": [
       "<tf.Tensor: shape=(3,), dtype=int32, numpy=array([3, 6, 9])>"
      ]
     },
     "execution_count": 10,
     "metadata": {},
     "output_type": "execute_result"
    }
   ],
   "source": [
    "c = tf.multiply( a, b)  # <===  a x b\n",
    "c "
   ]
  },
  {
   "cell_type": "code",
   "execution_count": 11,
   "id": "1951890d",
   "metadata": {},
   "outputs": [
    {
     "data": {
      "text/plain": [
       "array([3, 6, 9])"
      ]
     },
     "execution_count": 11,
     "metadata": {},
     "output_type": "execute_result"
    }
   ],
   "source": [
    "c.numpy()"
   ]
  },
  {
   "cell_type": "code",
   "execution_count": 12,
   "id": "02e1ce8e",
   "metadata": {},
   "outputs": [
    {
     "data": {
      "text/plain": [
       "<tf.Tensor: shape=(3,), dtype=int32, numpy=array([4, 5, 6])>"
      ]
     },
     "execution_count": 12,
     "metadata": {},
     "output_type": "execute_result"
    }
   ],
   "source": [
    "#d = a + b\n",
    "d = tf.add( a,b) # <= a + b\n",
    "d"
   ]
  },
  {
   "cell_type": "code",
   "execution_count": 13,
   "id": "c9120379",
   "metadata": {},
   "outputs": [
    {
     "data": {
      "text/plain": [
       "<tf.Tensor: shape=(3,), dtype=int32, numpy=array([ 4,  8, 12])>"
      ]
     },
     "execution_count": 13,
     "metadata": {},
     "output_type": "execute_result"
    }
   ],
   "source": [
    "e = c+d #tf.add( c, b)\n",
    "e"
   ]
  },
  {
   "cell_type": "markdown",
   "id": "4cc6e1f3",
   "metadata": {},
   "source": [
    "### broad casting"
   ]
  },
  {
   "cell_type": "code",
   "execution_count": 14,
   "id": "bfa5a10a",
   "metadata": {},
   "outputs": [],
   "source": [
    "f = tf.constant( [1,2,3])\n",
    "g = tf.constant( [[1,2,3],[4,5,6],[7,8,9]] )\n",
    "h = f + g # tf.add( f, g )"
   ]
  },
  {
   "cell_type": "code",
   "execution_count": 15,
   "id": "e8a527e6",
   "metadata": {
    "collapsed": true
   },
   "outputs": [
    {
     "data": {
      "text/plain": [
       "array([[ 2,  4,  6],\n",
       "       [ 5,  7,  9],\n",
       "       [ 8, 10, 12]])"
      ]
     },
     "execution_count": 15,
     "metadata": {},
     "output_type": "execute_result"
    }
   ],
   "source": [
    "h.numpy()"
   ]
  },
  {
   "cell_type": "code",
   "execution_count": 16,
   "id": "6396f84c",
   "metadata": {},
   "outputs": [],
   "source": [
    "i = tf.constant( [ [1],[2],[3] ] ) # 3x1\n",
    "j = tf.constant( [[1,2,3],[4,5,6],[7,8,9]] )\n",
    "k = i * j # tf.multiply( f, g )"
   ]
  },
  {
   "cell_type": "code",
   "execution_count": 17,
   "id": "50ca4042",
   "metadata": {},
   "outputs": [
    {
     "data": {
      "text/plain": [
       "array([[ 1,  2,  3],\n",
       "       [ 8, 10, 12],\n",
       "       [21, 24, 27]])"
      ]
     },
     "execution_count": 17,
     "metadata": {},
     "output_type": "execute_result"
    }
   ],
   "source": [
    "k.numpy()"
   ]
  },
  {
   "cell_type": "code",
   "execution_count": 20,
   "id": "ceda7594",
   "metadata": {
    "collapsed": true
   },
   "outputs": [
    {
     "ename": "InvalidArgumentError",
     "evalue": "Incompatible shapes: [2] vs. [3,3] [Op:Sub]",
     "output_type": "error",
     "traceback": [
      "\u001b[1;31m-----------------------------------------------------------\u001b[0m",
      "\u001b[1;31mInvalidArgumentError\u001b[0m      Traceback (most recent call last)",
      "\u001b[1;32m<ipython-input-20-d1020c87d83f>\u001b[0m in \u001b[0;36m<module>\u001b[1;34m\u001b[0m\n\u001b[0;32m      1\u001b[0m \u001b[0ml\u001b[0m \u001b[1;33m=\u001b[0m \u001b[0mtf\u001b[0m\u001b[1;33m.\u001b[0m\u001b[0mconstant\u001b[0m\u001b[1;33m(\u001b[0m \u001b[1;33m[\u001b[0m \u001b[1;36m1\u001b[0m\u001b[1;33m,\u001b[0m\u001b[1;36m2\u001b[0m \u001b[1;33m]\u001b[0m \u001b[1;33m)\u001b[0m \u001b[1;31m# 3x1\u001b[0m\u001b[1;33m\u001b[0m\u001b[1;33m\u001b[0m\u001b[0m\n\u001b[0;32m      2\u001b[0m \u001b[0mm\u001b[0m \u001b[1;33m=\u001b[0m \u001b[0mtf\u001b[0m\u001b[1;33m.\u001b[0m\u001b[0mconstant\u001b[0m\u001b[1;33m(\u001b[0m \u001b[1;33m[\u001b[0m\u001b[1;33m[\u001b[0m\u001b[1;36m1\u001b[0m\u001b[1;33m,\u001b[0m\u001b[1;36m2\u001b[0m\u001b[1;33m,\u001b[0m\u001b[1;36m3\u001b[0m\u001b[1;33m]\u001b[0m\u001b[1;33m,\u001b[0m\u001b[1;33m[\u001b[0m\u001b[1;36m4\u001b[0m\u001b[1;33m,\u001b[0m\u001b[1;36m5\u001b[0m\u001b[1;33m,\u001b[0m\u001b[1;36m6\u001b[0m\u001b[1;33m]\u001b[0m\u001b[1;33m,\u001b[0m\u001b[1;33m[\u001b[0m\u001b[1;36m7\u001b[0m\u001b[1;33m,\u001b[0m\u001b[1;36m8\u001b[0m\u001b[1;33m,\u001b[0m\u001b[1;36m9\u001b[0m\u001b[1;33m]\u001b[0m\u001b[1;33m]\u001b[0m \u001b[1;33m)\u001b[0m\u001b[1;33m\u001b[0m\u001b[1;33m\u001b[0m\u001b[0m\n\u001b[1;32m----> 3\u001b[1;33m \u001b[0mn\u001b[0m \u001b[1;33m=\u001b[0m \u001b[0ml\u001b[0m \u001b[1;33m-\u001b[0m \u001b[0mm\u001b[0m \u001b[1;31m# tf.subtract( f, g )\u001b[0m\u001b[1;33m\u001b[0m\u001b[1;33m\u001b[0m\u001b[0m\n\u001b[0m",
      "\u001b[1;32m~\\anaconda3\\lib\\site-packages\\tensorflow\\python\\util\\traceback_utils.py\u001b[0m in \u001b[0;36merror_handler\u001b[1;34m(*args, **kwargs)\u001b[0m\n\u001b[0;32m    151\u001b[0m     \u001b[1;32mexcept\u001b[0m \u001b[0mException\u001b[0m \u001b[1;32mas\u001b[0m \u001b[0me\u001b[0m\u001b[1;33m:\u001b[0m\u001b[1;33m\u001b[0m\u001b[1;33m\u001b[0m\u001b[0m\n\u001b[0;32m    152\u001b[0m       \u001b[0mfiltered_tb\u001b[0m \u001b[1;33m=\u001b[0m \u001b[0m_process_traceback_frames\u001b[0m\u001b[1;33m(\u001b[0m\u001b[0me\u001b[0m\u001b[1;33m.\u001b[0m\u001b[0m__traceback__\u001b[0m\u001b[1;33m)\u001b[0m\u001b[1;33m\u001b[0m\u001b[1;33m\u001b[0m\u001b[0m\n\u001b[1;32m--> 153\u001b[1;33m       \u001b[1;32mraise\u001b[0m \u001b[0me\u001b[0m\u001b[1;33m.\u001b[0m\u001b[0mwith_traceback\u001b[0m\u001b[1;33m(\u001b[0m\u001b[0mfiltered_tb\u001b[0m\u001b[1;33m)\u001b[0m \u001b[1;32mfrom\u001b[0m \u001b[1;32mNone\u001b[0m\u001b[1;33m\u001b[0m\u001b[1;33m\u001b[0m\u001b[0m\n\u001b[0m\u001b[0;32m    154\u001b[0m     \u001b[1;32mfinally\u001b[0m\u001b[1;33m:\u001b[0m\u001b[1;33m\u001b[0m\u001b[1;33m\u001b[0m\u001b[0m\n\u001b[0;32m    155\u001b[0m       \u001b[1;32mdel\u001b[0m \u001b[0mfiltered_tb\u001b[0m\u001b[1;33m\u001b[0m\u001b[1;33m\u001b[0m\u001b[0m\n",
      "\u001b[1;32m~\\anaconda3\\lib\\site-packages\\tensorflow\\python\\framework\\ops.py\u001b[0m in \u001b[0;36mraise_from_not_ok_status\u001b[1;34m(e, name)\u001b[0m\n\u001b[0;32m   7105\u001b[0m \u001b[1;32mdef\u001b[0m \u001b[0mraise_from_not_ok_status\u001b[0m\u001b[1;33m(\u001b[0m\u001b[0me\u001b[0m\u001b[1;33m,\u001b[0m \u001b[0mname\u001b[0m\u001b[1;33m)\u001b[0m\u001b[1;33m:\u001b[0m\u001b[1;33m\u001b[0m\u001b[1;33m\u001b[0m\u001b[0m\n\u001b[0;32m   7106\u001b[0m   \u001b[0me\u001b[0m\u001b[1;33m.\u001b[0m\u001b[0mmessage\u001b[0m \u001b[1;33m+=\u001b[0m \u001b[1;33m(\u001b[0m\u001b[1;34m\" name: \"\u001b[0m \u001b[1;33m+\u001b[0m \u001b[0mname\u001b[0m \u001b[1;32mif\u001b[0m \u001b[0mname\u001b[0m \u001b[1;32mis\u001b[0m \u001b[1;32mnot\u001b[0m \u001b[1;32mNone\u001b[0m \u001b[1;32melse\u001b[0m \u001b[1;34m\"\"\u001b[0m\u001b[1;33m)\u001b[0m\u001b[1;33m\u001b[0m\u001b[1;33m\u001b[0m\u001b[0m\n\u001b[1;32m-> 7107\u001b[1;33m   \u001b[1;32mraise\u001b[0m \u001b[0mcore\u001b[0m\u001b[1;33m.\u001b[0m\u001b[0m_status_to_exception\u001b[0m\u001b[1;33m(\u001b[0m\u001b[0me\u001b[0m\u001b[1;33m)\u001b[0m \u001b[1;32mfrom\u001b[0m \u001b[1;32mNone\u001b[0m  \u001b[1;31m# pylint: disable=protected-access\u001b[0m\u001b[1;33m\u001b[0m\u001b[1;33m\u001b[0m\u001b[0m\n\u001b[0m\u001b[0;32m   7108\u001b[0m \u001b[1;33m\u001b[0m\u001b[0m\n\u001b[0;32m   7109\u001b[0m \u001b[1;33m\u001b[0m\u001b[0m\n",
      "\u001b[1;31mInvalidArgumentError\u001b[0m: Incompatible shapes: [2] vs. [3,3] [Op:Sub]"
     ]
    }
   ],
   "source": [
    "l = tf.constant( [ [1],[2] ] ) # 3x1\n",
    "m = tf.constant( [[1,2,3],[4,5,6],[7,8,9]] )\n",
    "n = l - m # tf.subtract( f, g )"
   ]
  },
  {
   "cell_type": "markdown",
   "id": "378067c8",
   "metadata": {},
   "source": [
    "### 행열곱"
   ]
  },
  {
   "cell_type": "code",
   "execution_count": 22,
   "id": "1ff568c5",
   "metadata": {},
   "outputs": [],
   "source": [
    "o = tf.constant( [[1,2],[3,4] ] ) # 2x2\n",
    "p = tf.constant( [[5,6],[7,8] ] ) # 2x2\n",
    "q = tf.multiply( o, p)  # o*p\n",
    "r = tf.matmul( o, p) # 별 5개 "
   ]
  },
  {
   "cell_type": "code",
   "execution_count": 23,
   "id": "7a6fb93f",
   "metadata": {},
   "outputs": [
    {
     "data": {
      "text/plain": [
       "array([[ 5, 12],\n",
       "       [21, 32]])"
      ]
     },
     "execution_count": 23,
     "metadata": {},
     "output_type": "execute_result"
    }
   ],
   "source": [
    "q.numpy()"
   ]
  },
  {
   "cell_type": "code",
   "execution_count": 24,
   "id": "a3979b45",
   "metadata": {},
   "outputs": [
    {
     "data": {
      "text/plain": [
       "array([[19, 22],\n",
       "       [43, 50]])"
      ]
     },
     "execution_count": 24,
     "metadata": {},
     "output_type": "execute_result"
    }
   ],
   "source": [
    "r.numpy()"
   ]
  },
  {
   "cell_type": "markdown",
   "id": "d64eb5fe",
   "metadata": {},
   "source": [
    "### 많이 사용하는 operation"
   ]
  },
  {
   "cell_type": "code",
   "execution_count": 25,
   "id": "8cb728b0",
   "metadata": {},
   "outputs": [
    {
     "data": {
      "text/plain": [
       "<tf.Tensor: shape=(3,), dtype=int32, numpy=array([1, 4, 9])>"
      ]
     },
     "execution_count": 25,
     "metadata": {},
     "output_type": "execute_result"
    }
   ],
   "source": [
    "s = [1,2,3]\n",
    "t = tf.square( s ) # s**2\n",
    "t"
   ]
  },
  {
   "cell_type": "code",
   "execution_count": 26,
   "id": "0042f0cf",
   "metadata": {},
   "outputs": [
    {
     "data": {
      "text/plain": [
       "<tf.Tensor: shape=(), dtype=int32, numpy=2>"
      ]
     },
     "execution_count": 26,
     "metadata": {},
     "output_type": "execute_result"
    }
   ],
   "source": [
    "u = tf.reduce_mean( s )\n",
    "u"
   ]
  },
  {
   "cell_type": "markdown",
   "id": "38a8c834",
   "metadata": {},
   "source": [
    "### Variable"
   ]
  },
  {
   "cell_type": "code",
   "execution_count": 27,
   "id": "6583280d",
   "metadata": {},
   "outputs": [
    {
     "data": {
      "text/plain": [
       "<tf.Variable 'Variable:0' shape=() dtype=int32, numpy=10>"
      ]
     },
     "execution_count": 27,
     "metadata": {},
     "output_type": "execute_result"
    }
   ],
   "source": [
    "v = tf.Variable(10)\n",
    "v"
   ]
  },
  {
   "cell_type": "code",
   "execution_count": null,
   "id": "10219b8d",
   "metadata": {},
   "outputs": [],
   "source": [
    "#v = 20 # x"
   ]
  },
  {
   "cell_type": "code",
   "execution_count": null,
   "id": "b9e9ebe5",
   "metadata": {},
   "outputs": [],
   "source": [
    "# v.assign(3)\n",
    "# v.assign_add( 3 )\n",
    "v.assign_sub( 3 )"
   ]
  }
 ],
 "metadata": {
  "kernelspec": {
   "display_name": "Python 3",
   "language": "python",
   "name": "python3"
  },
  "language_info": {
   "codemirror_mode": {
    "name": "ipython",
    "version": 3
   },
   "file_extension": ".py",
   "mimetype": "text/x-python",
   "name": "python",
   "nbconvert_exporter": "python",
   "pygments_lexer": "ipython3",
   "version": "3.8.8"
  }
 },
 "nbformat": 4,
 "nbformat_minor": 5
}
