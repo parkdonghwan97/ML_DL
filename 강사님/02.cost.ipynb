{
 "cells": [
  {
   "cell_type": "code",
   "execution_count": 1,
   "id": "04c36b90",
   "metadata": {},
   "outputs": [],
   "source": [
    "import matplotlib.pyplot as plt\n",
    "import numpy as np"
   ]
  },
  {
   "cell_type": "code",
   "execution_count": 4,
   "id": "9f8fffd2",
   "metadata": {},
   "outputs": [],
   "source": [
    "x_data = [1,2,3]\n",
    "y_data = [1,2,3]"
   ]
  },
  {
   "cell_type": "code",
   "execution_count": 8,
   "id": "68c8de63",
   "metadata": {
    "collapsed": true
   },
   "outputs": [
    {
     "name": "stdout",
     "output_type": "stream",
     "text": [
      "0\n",
      "1\n",
      "2\n"
     ]
    }
   ],
   "source": [
    "for i in range(3): #[0,1,2]\n",
    "    print(i)"
   ]
  },
  {
   "cell_type": "code",
   "execution_count": 6,
   "id": "307513a0",
   "metadata": {},
   "outputs": [],
   "source": [
    "def cost( x, y, w ):\n",
    "    c = 0\n",
    "    for i in range( len(x)):\n",
    "        hx = w*x[i]\n",
    "        c = c+ (hx-y[i])**2\n",
    "    return c/len(x)"
   ]
  },
  {
   "cell_type": "code",
   "execution_count": 11,
   "id": "b8257a58",
   "metadata": {},
   "outputs": [
    {
     "name": "stdout",
     "output_type": "stream",
     "text": [
      "18.666666666666668\n",
      "4.666666666666667\n",
      "0.0\n",
      "4.666666666666667\n",
      "18.666666666666668\n"
     ]
    }
   ],
   "source": [
    "print( cost( x_data, y_data, -1))\n",
    "print( cost( x_data, y_data, 0))\n",
    "print( cost( x_data, y_data, 1))\n",
    "print( cost( x_data, y_data, 2))\n",
    "print( cost( x_data, y_data, 3))"
   ]
  },
  {
   "cell_type": "code",
   "execution_count": 5,
   "id": "f42dee53",
   "metadata": {},
   "outputs": [
    {
     "data": {
      "image/png": "[encoded data removed]",
      "text/plain": [
       "<Figure size 432x288 with 1 Axes>"
      ]
     },
     "metadata": {
      "needs_background": "light"
     },
     "output_type": "display_data"
    }
   ],
   "source": [
    "plt.scatter( x_data, y_data)\n",
    "plt.show()"
   ]
  },
  {
   "cell_type": "code",
   "execution_count": 15,
   "id": "cc67d1eb",
   "metadata": {
    "scrolled": true
   },
   "outputs": [
    {
     "name": "stdout",
     "output_type": "stream",
     "text": [
      "w= -3.0 cost: 74.66666666666667\n",
      "w= -2.836734693877551 cost: 68.69582118561709\n",
      "w= -2.673469387755102 cost: 62.97376093294461\n",
      "w= -2.510204081632653 cost: 57.500485908649175\n",
      "w= -2.3469387755102042 cost: 52.275996112730816\n",
      "w= -2.183673469387755 cost: 47.3002915451895\n",
      "w= -2.020408163265306 cost: 42.57337220602526\n",
      "w= -1.8571428571428572 cost: 38.095238095238095\n",
      "w= -1.6938775510204083 cost: 33.86588921282799\n",
      "w= -1.5306122448979593 cost: 29.88532555879495\n",
      "w= -1.3673469387755104 cost: 26.15354713313897\n",
      "w= -1.2040816326530615 cost: 22.670553935860067\n",
      "w= -1.0408163265306123 cost: 19.436345966958214\n",
      "w= -0.8775510204081636 cost: 16.450923226433435\n",
      "w= -0.7142857142857144 cost: 13.714285714285717\n",
      "w= -0.5510204081632657 cost: 11.226433430515067\n",
      "w= -0.38775510204081653 cost: 8.98736637512148\n",
      "w= -0.22448979591836737 cost: 6.997084548104957\n",
      "w= -0.06122448979591866 cost: 5.255587949465504\n",
      "w= 0.1020408163265305 cost: 3.7628765792031107\n",
      "w= 0.2653061224489792 cost: 2.518950437317787\n",
      "w= 0.4285714285714284 cost: 1.5238095238095248\n",
      "w= 0.5918367346938771 cost: 0.7774538386783302\n",
      "w= 0.7551020408163263 cost: 0.27988338192419887\n",
      "w= 0.9183673469387754 cost: 0.031098153547133207\n",
      "w= 1.0816326530612246 cost: 0.031098153547133207\n",
      "w= 1.2448979591836729 cost: 0.2798833819241968\n",
      "w= 1.408163265306122 cost: 0.7774538386783268\n",
      "w= 1.5714285714285712 cost: 1.5238095238095226\n",
      "w= 1.7346938775510203 cost: 2.5189504373177836\n",
      "w= 1.8979591836734686 cost: 3.762876579203103\n",
      "w= 2.0612244897959178 cost: 5.255587949465494\n",
      "w= 2.224489795918367 cost: 6.997084548104951\n",
      "w= 2.387755102040816 cost: 8.987366375121475\n",
      "w= 2.5510204081632653 cost: 11.226433430515064\n",
      "w= 2.7142857142857135 cost: 13.714285714285703\n",
      "w= 2.8775510204081627 cost: 16.45092322643342\n",
      "w= 3.040816326530612 cost: 19.436345966958203\n",
      "w= 3.204081632653061 cost: 22.670553935860056\n",
      "w= 3.3673469387755093 cost: 26.153547133138954\n",
      "w= 3.5306122448979584 cost: 29.88532555879492\n",
      "w= 3.6938775510204076 cost: 33.86588921282798\n",
      "w= 3.8571428571428568 cost: 38.09523809523808\n",
      "w= 4.020408163265306 cost: 42.57337220602526\n",
      "w= 4.183673469387754 cost: 47.30029154518948\n",
      "w= 4.346938775510203 cost: 52.27599611273078\n",
      "w= 4.5102040816326525 cost: 57.50048590864915\n",
      "w= 4.673469387755102 cost: 62.97376093294459\n",
      "w= 4.836734693877551 cost: 68.69582118561709\n",
      "w= 5.0 cost: 74.66666666666667\n"
     ]
    },
    {
     "data": {
      "image/png": "[encoded data removed]",
      "text/plain": [
       "<Figure size 432x288 with 1 Axes>"
      ]
     },
     "metadata": {
      "needs_background": "light"
     },
     "output_type": "display_data"
    }
   ],
   "source": [
    "for w in np.linspace( -3,5, 50):\n",
    "    c = cost( x_data, y_data, w)\n",
    "    print( \"w=\",w , \"cost:\", c)\n",
    "    plt.plot( w,c, 'ro')\n",
    "plt.xlabel(\"w\")\n",
    "plt.ylabel(\"cost\")\n",
    "plt.show()"
   ]
  },
  {
   "cell_type": "code",
   "execution_count": null,
   "id": "7b7f3a92",
   "metadata": {},
   "outputs": [],
   "source": [
    "y = 2  미분 0 \n",
    "y = x  미분 1\n",
    "y = 2x  2 \n",
    "y = x^2   2x\n",
    "y = x^3   3x^2"
   ]
  },
  {
   "cell_type": "code",
   "execution_count": null,
   "id": "835796d4",
   "metadata": {},
   "outputs": [],
   "source": [
    "w = 10\n",
    "w = w - 런닝레이트(a)*기울기\n",
    "\n",
    "예) w = 10-0.01X기울기(w=10)\n",
    "w = 4.5\n",
    "w = 4.5-0.01X기울기(w=4.5)\n",
    "...\n"
   ]
  }
 ],
 "metadata": {
  "kernelspec": {
   "display_name": "Python 3",
   "language": "python",
   "name": "python3"
  },
  "language_info": {
   "codemirror_mode": {
    "name": "ipython",
    "version": 3
   },
   "file_extension": ".py",
   "mimetype": "text/x-python",
   "name": "python",
   "nbconvert_exporter": "python",
   "pygments_lexer": "ipython3",
   "version": "3.8.8"
  }
 },
 "nbformat": 4,
 "nbformat_minor": 5
}
