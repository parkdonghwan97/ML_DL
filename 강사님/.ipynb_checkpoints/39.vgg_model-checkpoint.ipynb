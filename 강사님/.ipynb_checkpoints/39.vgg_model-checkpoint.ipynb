{
 "cells": [
  {
   "cell_type": "code",
   "execution_count": 1,
   "id": "c14117c9",
   "metadata": {},
   "outputs": [],
   "source": [
    "from tensorflow.keras.applications import vgg16"
   ]
  },
  {
   "cell_type": "code",
   "execution_count": 2,
   "id": "6c48ce04",
   "metadata": {},
   "outputs": [],
   "source": [
    "modelvgg16 = vgg16.VGG16()"
   ]
  },
  {
   "cell_type": "code",
   "execution_count": 3,
   "id": "a4b68ce7",
   "metadata": {
    "collapsed": true
   },
   "outputs": [
    {
     "name": "stdout",
     "output_type": "stream",
     "text": [
      "Model: \"vgg16\"\n",
      "_________________________________________________________________\n",
      " Layer (type)                Output Shape              Param #   \n",
      "=================================================================\n",
      " input_1 (InputLayer)        [(None, 224, 224, 3)]     0         \n",
      "                                                                 \n",
      " block1_conv1 (Conv2D)       (None, 224, 224, 64)      1792      \n",
      "                                                                 \n",
      " block1_conv2 (Conv2D)       (None, 224, 224, 64)      36928     \n",
      "                                                                 \n",
      " block1_pool (MaxPooling2D)  (None, 112, 112, 64)      0         \n",
      "                                                                 \n",
      " block2_conv1 (Conv2D)       (None, 112, 112, 128)     73856     \n",
      "                                                                 \n",
      " block2_conv2 (Conv2D)       (None, 112, 112, 128)     147584    \n",
      "                                                                 \n",
      " block2_pool (MaxPooling2D)  (None, 56, 56, 128)       0         \n",
      "                                                                 \n",
      " block3_conv1 (Conv2D)       (None, 56, 56, 256)       295168    \n",
      "                                                                 \n",
      " block3_conv2 (Conv2D)       (None, 56, 56, 256)       590080    \n",
      "                                                                 \n",
      " block3_conv3 (Conv2D)       (None, 56, 56, 256)       590080    \n",
      "                                                                 \n",
      " block3_pool (MaxPooling2D)  (None, 28, 28, 256)       0         \n",
      "                                                                 \n",
      " block4_conv1 (Conv2D)       (None, 28, 28, 512)       1180160   \n",
      "                                                                 \n",
      " block4_conv2 (Conv2D)       (None, 28, 28, 512)       2359808   \n",
      "                                                                 \n",
      " block4_conv3 (Conv2D)       (None, 28, 28, 512)       2359808   \n",
      "                                                                 \n",
      " block4_pool (MaxPooling2D)  (None, 14, 14, 512)       0         \n",
      "                                                                 \n",
      " block5_conv1 (Conv2D)       (None, 14, 14, 512)       2359808   \n",
      "                                                                 \n",
      " block5_conv2 (Conv2D)       (None, 14, 14, 512)       2359808   \n",
      "                                                                 \n",
      " block5_conv3 (Conv2D)       (None, 14, 14, 512)       2359808   \n",
      "                                                                 \n",
      " block5_pool (MaxPooling2D)  (None, 7, 7, 512)         0         \n",
      "                                                                 \n",
      " flatten (Flatten)           (None, 25088)             0         \n",
      "                                                                 \n",
      " fc1 (Dense)                 (None, 4096)              102764544 \n",
      "                                                                 \n",
      " fc2 (Dense)                 (None, 4096)              16781312  \n",
      "                                                                 \n",
      " predictions (Dense)         (None, 1000)              4097000   \n",
      "                                                                 \n",
      "=================================================================\n",
      "Total params: 138,357,544\n",
      "Trainable params: 138,357,544\n",
      "Non-trainable params: 0\n",
      "_________________________________________________________________\n"
     ]
    }
   ],
   "source": [
    "modelvgg16.summary()"
   ]
  },
  {
   "cell_type": "code",
   "execution_count": 10,
   "id": "e8ed18e4",
   "metadata": {},
   "outputs": [],
   "source": [
    "from tensorflow.keras.preprocessing import image\n",
    "from tensorflow.keras.applications.vgg16 import preprocess_input,decode_predictions"
   ]
  },
  {
   "cell_type": "code",
   "execution_count": 6,
   "id": "6f18dffe",
   "metadata": {
    "collapsed": true
   },
   "outputs": [
    {
     "data": {
      "image/png": "[encoded data removed]",
      "text/plain": [
       "<PIL.Image.Image image mode=RGB size=224x224 at 0x1F71C096340>"
      ]
     },
     "execution_count": 6,
     "metadata": {},
     "output_type": "execute_result"
    }
   ],
   "source": [
    "testImg = image.load_img( 'image/test.jpg', target_size=(224,224))"
   ]
  },
  {
   "cell_type": "code",
   "execution_count": 13,
   "id": "9cadaa34",
   "metadata": {},
   "outputs": [],
   "source": [
    "imgArr = image.img_to_array( testImg ).reshape(1,224,224,3)"
   ]
  },
  {
   "cell_type": "code",
   "execution_count": 14,
   "id": "1cd30580",
   "metadata": {
    "collapsed": true
   },
   "outputs": [
    {
     "data": {
      "text/plain": [
       "array([[9.34201481e-08, 6.24120673e-07, 1.38171754e-06, 6.08001528e-06,\n",
       "        1.90018602e-06, 7.73751992e-07, 3.10032853e-08, 4.97377016e-07,\n",
       "        1.15756495e-06, 6.69270321e-07, 2.11275363e-07, 7.01989151e-08,\n",
       "        8.74962382e-07, 8.98239364e-07, 8.68975576e-08, 8.17606690e-07,\n",
       "        7.40617622e-07, 2.45311139e-06, 4.40608716e-07, 1.02126741e-07,\n",
       "        1.03494745e-06, 5.12705901e-06, 2.26562292e-07, 3.52336428e-07,\n",
       "        1.28389893e-05, 4.70941700e-07, 3.58701527e-07, 4.56693954e-07,\n",
       "        6.39484540e-07, 1.06883010e-06, 2.49528910e-07, 3.89817899e-07,\n",
       "        4.60140257e-07, 1.21828791e-07, 1.93682581e-07, 8.76344899e-08,\n",
       "        1.08925838e-06, 3.28402365e-07, 5.30994066e-06, 5.55261693e-07,\n",
       "        7.20824232e-07, 1.86651539e-06, 4.21406440e-07, 4.90386981e-07,\n",
       "        6.78064498e-06, 1.44343815e-07, 1.84994224e-06, 6.24179620e-07,\n",
       "        4.20478905e-08, 1.25087979e-07, 4.14404127e-07, 1.06313273e-05,\n",
       "        9.61887054e-07, 2.50361524e-07, 6.48384002e-07, 8.30716189e-08,\n",
       "        2.27188451e-07, 1.09159451e-07, 1.14543312e-07, 1.20398136e-06,\n",
       "        2.12181908e-06, 6.71193305e-08, 9.22740753e-07, 2.75732219e-07,\n",
       "        5.03927652e-07, 1.07663737e-07, 1.01920668e-05, 1.91818458e-07,\n",
       "        1.70745636e-06, 2.56153754e-07, 6.66660114e-08, 1.56041119e-06,\n",
       "        5.00560475e-07, 7.49902540e-07, 1.53980608e-07, 3.12619306e-07,\n",
       "        2.64870067e-07, 9.34455045e-07, 3.94289418e-06, 3.23031304e-06,\n",
       "        4.05356900e-07, 3.00313474e-07, 2.11528504e-06, 4.05606170e-06,\n",
       "        3.60617179e-07, 4.45250123e-07, 8.04658384e-07, 9.26760913e-06,\n",
       "        3.02890925e-07, 3.88270180e-08, 1.99838524e-07, 1.84778397e-08,\n",
       "        4.02791827e-08, 1.41603266e-07, 3.68935480e-06, 6.39090985e-08,\n",
       "        1.39283799e-07, 5.49615216e-08, 6.90592287e-07, 2.17152220e-07,\n",
       "        6.45515357e-08, 9.30427646e-09, 1.28563869e-07, 4.50665311e-07,\n",
       "        4.41278416e-06, 8.73097804e-07, 4.24859627e-06, 1.40442225e-07,\n",
       "        1.33073073e-07, 1.15257542e-07, 2.06718212e-07, 8.47872059e-07,\n",
       "        2.06249069e-06, 5.21637958e-07, 5.02140938e-06, 1.80160839e-07,\n",
       "        6.20219751e-08, 7.92923345e-07, 7.33762988e-07, 9.65393383e-08,\n",
       "        2.63677080e-08, 2.11867970e-07, 1.01501291e-06, 2.04063340e-07,\n",
       "        2.53948224e-06, 1.49709774e-06, 1.13047713e-06, 3.07410772e-08,\n",
       "        5.06826865e-08, 2.12858406e-08, 1.36727607e-08, 5.20761390e-08,\n",
       "        1.35694975e-07, 2.35339840e-07, 6.88800270e-08, 1.94578380e-08,\n",
       "        5.13895841e-08, 1.23534136e-07, 4.07799689e-07, 1.56375037e-07,\n",
       "        3.59328794e-07, 4.72335103e-07, 2.98269427e-08, 2.01327907e-07,\n",
       "        4.74158632e-08, 6.37998198e-07, 1.12043097e-06, 8.65541040e-07,\n",
       "        2.32689445e-07, 9.24009171e-08, 3.20730095e-07, 9.56661097e-06,\n",
       "        4.01149919e-06, 2.92206664e-07, 2.62309709e-06, 2.71271210e-06,\n",
       "        9.70978249e-07, 2.75360253e-06, 1.44251283e-06, 2.98043084e-08,\n",
       "        2.00849945e-06, 1.16014223e-06, 6.89032447e-07, 3.44257586e-07,\n",
       "        2.56786143e-06, 1.16111899e-07, 1.10590896e-07, 1.81523490e-07,\n",
       "        1.96654781e-07, 4.06493336e-06, 2.33277933e-06, 1.18862977e-06,\n",
       "        2.79647475e-06, 1.32651451e-06, 1.99398601e-05, 1.17546881e-06,\n",
       "        1.57756986e-07, 1.81434632e-06, 1.47956291e-06, 1.34857842e-07,\n",
       "        1.38282942e-07, 1.58009561e-06, 2.96633061e-07, 3.32329250e-07,\n",
       "        1.97405072e-07, 1.29333887e-06, 5.33370303e-06, 6.58840509e-06,\n",
       "        1.54647933e-06, 4.16604934e-07, 3.29528660e-07, 2.33094568e-07,\n",
       "        9.67991014e-07, 4.46631657e-06, 9.98964993e-07, 6.92289950e-06,\n",
       "        4.96654411e-06, 1.15535261e-06, 6.11345286e-06, 2.15987279e-06,\n",
       "        5.87305465e-07, 3.04239302e-06, 2.34885775e-07, 5.69748954e-06,\n",
       "        1.25240103e-06, 3.35484003e-07, 1.15909323e-07, 6.49702429e-07,\n",
       "        6.50068728e-07, 1.16023905e-07, 1.56829879e-06, 2.46555715e-07,\n",
       "        6.91922287e-06, 1.56666701e-07, 4.09342675e-07, 1.47613946e-06,\n",
       "        6.74455123e-07, 3.00794636e-06, 1.50041092e-06, 1.53737994e-06,\n",
       "        2.19567212e-07, 3.04611916e-07, 1.60858724e-06, 3.12922816e-06,\n",
       "        1.76139815e-06, 1.11890770e-07, 7.80258745e-07, 4.93214429e-06,\n",
       "        3.17982028e-07, 6.11528412e-06, 1.15721400e-06, 5.42872840e-06,\n",
       "        1.35997752e-05, 7.24658230e-06, 2.17054279e-07, 6.52826202e-06,\n",
       "        4.08139726e-07, 6.95930339e-07, 1.55339620e-07, 1.00642944e-06,\n",
       "        5.29359113e-07, 3.65031610e-07, 1.85273436e-07, 1.85945382e-07,\n",
       "        4.78079244e-07, 1.57497152e-06, 8.76469869e-07, 1.51050392e-06,\n",
       "        2.88912153e-04, 1.19561155e-04, 1.63100995e-04, 1.26395780e-05,\n",
       "        1.19529568e-06, 1.39291296e-06, 3.29353014e-07, 1.72907761e-07,\n",
       "        1.39609278e-06, 1.99024612e-06, 3.58349212e-06, 4.27927762e-06,\n",
       "        3.15615239e-07, 8.83395114e-06, 8.33702302e-07, 2.02040064e-06,\n",
       "        1.03367347e-05, 2.11166503e-06, 3.63670551e-07, 1.15984065e-07,\n",
       "        1.51578263e-06, 1.07642081e-05, 3.62370383e-06, 1.42801355e-06,\n",
       "        1.50301394e-05, 3.77986282e-07, 1.13244209e-06, 5.51308005e-07,\n",
       "        9.57325483e-06, 1.17336940e-05, 1.96217570e-05, 4.91449755e-05,\n",
       "        2.54836323e-05, 4.24097627e-01, 7.37350136e-02, 1.36376743e-03,\n",
       "        1.78878487e-04, 4.80515182e-01, 1.04385617e-05, 9.53868497e-03,\n",
       "        5.22619712e-06, 3.12153541e-04, 8.26764847e-07, 1.15425948e-07,\n",
       "        1.11156278e-05, 4.44850957e-06, 6.94850328e-08, 1.63330412e-07,\n",
       "        3.57804026e-07, 5.78880694e-08, 2.66546454e-06, 1.88197555e-05,\n",
       "        6.05252879e-08, 1.12140100e-07, 1.06609313e-07, 3.96423275e-07,\n",
       "        8.27348412e-09, 3.79077747e-08, 5.40419990e-07, 9.35974285e-08,\n",
       "        5.56258101e-07, 3.60144952e-07, 2.40402983e-07, 9.94763923e-07,\n",
       "        3.58561977e-07, 5.04005982e-07, 2.86808017e-07, 6.00986539e-07,\n",
       "        2.01940566e-07, 1.06462707e-07, 2.67028599e-06, 2.59111943e-07,\n",
       "        4.60366927e-08, 3.59360996e-07, 7.65950219e-08, 6.02758732e-08,\n",
       "        3.53766040e-07, 1.06297541e-07, 1.27594103e-06, 1.22646622e-06,\n",
       "        3.78634269e-07, 6.42743373e-07, 1.43053594e-05, 1.37744219e-05,\n",
       "        3.75316704e-05, 3.67742396e-05, 1.84587392e-07, 1.25871920e-05,\n",
       "        1.16943816e-07, 3.81440174e-07, 7.99582153e-07, 6.67009514e-09,\n",
       "        1.48731692e-06, 2.13694264e-07, 1.30107509e-07, 4.22134292e-08,\n",
       "        6.91225139e-08, 5.63070337e-08, 9.15178422e-09, 8.35714697e-09,\n",
       "        5.09355260e-08, 4.27751878e-08, 2.58639631e-07, 3.88625061e-08,\n",
       "        1.65921712e-08, 8.83437252e-08, 5.66476732e-09, 9.98699306e-07,\n",
       "        4.29154861e-05, 1.51978138e-05, 2.99186086e-05, 2.78834850e-05,\n",
       "        5.73962154e-07, 1.15936418e-05, 6.81562824e-06, 7.25937116e-06,\n",
       "        6.48503615e-08, 8.70331576e-08, 1.13828520e-07, 3.59096873e-07,\n",
       "        1.26890598e-07, 2.21359372e-07, 7.46484034e-07, 1.59983543e-07,\n",
       "        1.15160304e-07, 3.76514299e-06, 9.96101903e-08, 4.91063865e-08,\n",
       "        1.66134217e-08, 4.63009201e-06, 3.43644871e-07, 6.24275103e-08,\n",
       "        7.00695637e-06, 4.34125980e-08, 5.61955346e-07, 5.86842507e-05,\n",
       "        3.91292315e-06, 1.70506933e-08, 1.73264691e-08, 5.96995847e-07,\n",
       "        3.70384718e-08, 4.17732281e-06, 4.14095211e-07, 9.94258880e-06,\n",
       "        4.61404028e-07, 4.19084927e-08, 5.81808820e-07, 4.04915545e-06,\n",
       "        2.65011177e-08, 6.85599161e-07, 7.76165416e-06, 3.20378831e-07,\n",
       "        1.78741368e-06, 1.28909539e-06, 6.60344256e-07, 1.74842603e-06,\n",
       "        1.53402766e-06, 3.16841010e-06, 3.58900866e-06, 2.64237826e-07,\n",
       "        1.95355028e-06, 1.87172845e-05, 3.84420673e-08, 2.96214409e-07,\n",
       "        3.77137258e-05, 1.97487475e-06, 9.52978269e-07, 6.47554089e-07,\n",
       "        3.50426171e-06, 4.41252314e-06, 1.06045336e-05, 8.08383083e-06,\n",
       "        7.00261751e-07, 1.00941986e-06, 3.76706816e-06, 7.19709419e-07,\n",
       "        1.62144158e-06, 1.79205017e-07, 1.30182852e-05, 1.56031149e-06,\n",
       "        5.58409420e-06, 9.01003204e-06, 6.24456447e-07, 7.73846841e-06,\n",
       "        5.50681591e-07, 2.00206614e-06, 9.46058663e-06, 2.15695909e-05,\n",
       "        3.12179253e-07, 1.60342324e-07, 5.31527076e-06, 7.36927916e-07,\n",
       "        4.12944291e-06, 5.32034210e-06, 1.33053084e-06, 1.59159265e-06,\n",
       "        2.79465752e-07, 5.64164452e-07, 5.55638053e-06, 6.81987729e-07,\n",
       "        1.59500701e-06, 3.96271105e-08, 8.74182604e-07, 9.31963996e-07,\n",
       "        2.65449435e-05, 1.86153520e-05, 5.18721799e-06, 8.07719607e-06,\n",
       "        2.52772747e-06, 2.24014202e-05, 1.20319282e-06, 8.72302110e-07,\n",
       "        1.96687424e-07, 2.46513287e-06, 1.03602033e-05, 2.66588013e-05,\n",
       "        5.75774402e-06, 4.44727732e-07, 1.18769208e-07, 4.33262983e-07,\n",
       "        8.75022522e-07, 5.23624931e-06, 3.97354052e-05, 1.43285229e-06,\n",
       "        1.04439387e-07, 1.03463999e-05, 1.79615142e-07, 9.71229269e-07,\n",
       "        2.89094714e-07, 2.05999131e-05, 3.30924755e-04, 4.26980750e-06,\n",
       "        6.91481318e-07, 4.84389830e-06, 1.35971754e-06, 2.48172370e-07,\n",
       "        1.01707690e-06, 2.68543272e-06, 1.86611373e-07, 7.16744580e-06,\n",
       "        1.44060868e-06, 4.91855303e-07, 5.34411242e-07, 3.13318623e-07,\n",
       "        6.00890598e-06, 7.53553024e-07, 1.12004852e-06, 1.26000839e-06,\n",
       "        1.53231322e-05, 7.16866623e-07, 4.44896796e-06, 8.30319459e-06,\n",
       "        1.96204724e-08, 1.82155850e-06, 1.63754493e-07, 2.72059060e-06,\n",
       "        1.61275220e-05, 8.87683086e-07, 8.72353667e-07, 4.68854068e-06,\n",
       "        1.71471649e-04, 1.78596778e-07, 1.02096215e-06, 2.47822811e-07,\n",
       "        2.40393365e-05, 1.03501452e-06, 3.76354910e-06, 1.38622809e-05,\n",
       "        5.14981139e-06, 1.26617465e-06, 2.92451023e-06, 2.97387942e-05,\n",
       "        2.50280709e-06, 7.36475795e-06, 2.91523037e-07, 1.03277034e-06,\n",
       "        1.29423157e-07, 9.76163221e-08, 1.82843087e-05, 5.52269448e-05,\n",
       "        1.18470848e-06, 1.19112849e-06, 2.79255582e-05, 1.00104785e-06,\n",
       "        9.85147017e-06, 9.34060381e-07, 1.70627391e-05, 1.24276153e-06,\n",
       "        1.87697992e-07, 1.11506074e-06, 3.60070061e-07, 1.20877498e-03,\n",
       "        2.27240676e-07, 1.33548110e-06, 1.68060415e-05, 4.66654674e-05,\n",
       "        1.33918149e-07, 2.12944724e-06, 1.71290219e-06, 3.33563328e-08,\n",
       "        2.37928157e-06, 9.95088976e-06, 2.76331252e-06, 2.90817047e-06,\n",
       "        1.55993053e-04, 3.71902843e-06, 1.04337505e-06, 7.07452102e-07,\n",
       "        7.61052115e-06, 1.25674005e-05, 6.75286685e-07, 1.96229257e-06,\n",
       "        9.50016442e-07, 1.43684792e-06, 4.67590826e-06, 1.30731514e-05,\n",
       "        3.13562396e-06, 2.39978863e-06, 5.52836411e-07, 7.09645838e-06,\n",
       "        8.78585979e-06, 5.42210330e-07, 7.82024358e-07, 2.36177357e-07,\n",
       "        7.58921260e-06, 1.23466634e-07, 5.11477174e-06, 3.35832731e-08,\n",
       "        1.24877005e-07, 1.59158208e-06, 3.19714985e-07, 7.75042224e-07,\n",
       "        2.11238699e-07, 8.31315674e-07, 5.83125882e-07, 5.13960094e-06,\n",
       "        2.38659686e-06, 4.28409157e-06, 1.18313628e-05, 7.71516497e-05,\n",
       "        1.09441207e-05, 5.10314612e-06, 4.16869443e-06, 5.37421874e-06,\n",
       "        6.22413927e-06, 4.87847365e-06, 3.11270156e-07, 1.64147096e-07,\n",
       "        2.56930562e-05, 2.77363142e-07, 2.17637898e-06, 6.48139803e-07,\n",
       "        3.76632997e-05, 2.19030753e-07, 9.05084050e-07, 1.93116520e-07,\n",
       "        8.30648059e-06, 2.98146574e-06, 4.16803705e-05, 3.28424153e-06,\n",
       "        2.08249253e-06, 2.22742173e-07, 3.06803770e-07, 7.89307232e-05,\n",
       "        2.09184464e-07, 1.17846748e-05, 9.62238573e-07, 2.05195306e-06,\n",
       "        3.78541313e-06, 1.62566846e-06, 1.68998781e-06, 6.39100745e-06,\n",
       "        1.44628721e-04, 6.18451054e-07, 5.33006496e-05, 1.66635546e-05,\n",
       "        3.16617479e-06, 1.69667743e-07, 7.14313956e-06, 3.74331904e-07,\n",
       "        2.68276381e-07, 2.02598367e-05, 1.94568244e-07, 5.28275132e-06,\n",
       "        8.01946135e-06, 5.31464184e-06, 1.29513651e-07, 6.70935378e-06,\n",
       "        2.96752341e-06, 2.10460826e-06, 7.91797390e-07, 3.97354768e-07,\n",
       "        1.56013880e-06, 3.94430072e-06, 3.46800505e-07, 3.02348531e-06,\n",
       "        4.24160498e-06, 1.11337584e-07, 1.06608775e-06, 5.44004206e-06,\n",
       "        9.31896011e-06, 5.22003745e-07, 7.80620121e-06, 8.45788054e-06,\n",
       "        2.79966366e-06, 1.26434293e-06, 1.34301970e-07, 4.77370861e-07,\n",
       "        4.26958536e-07, 1.17331574e-05, 3.54735789e-06, 7.03838714e-06,\n",
       "        2.66318409e-07, 1.70320916e-07, 7.45135139e-06, 2.13478557e-07,\n",
       "        7.70329789e-05, 2.53741973e-06, 7.80548635e-06, 2.14687243e-05,\n",
       "        3.18068351e-06, 4.63486089e-07, 4.53142775e-06, 3.51300685e-07,\n",
       "        6.47001954e-08, 3.37962614e-04, 8.66303380e-05, 1.42541478e-06,\n",
       "        4.40638360e-06, 1.87104488e-05, 4.04721476e-07, 5.67216887e-07,\n",
       "        2.20162092e-05, 8.82781605e-05, 5.03297269e-06, 1.73199123e-06,\n",
       "        1.56831823e-06, 4.65991548e-07, 9.74794875e-06, 1.21827512e-07,\n",
       "        2.42959741e-05, 1.28901732e-07, 4.34355414e-08, 9.70307156e-07,\n",
       "        1.65682886e-05, 2.39388328e-07, 9.79965122e-08, 5.95782694e-07,\n",
       "        1.42321769e-05, 4.11200244e-06, 1.72429395e-07, 3.63877848e-06,\n",
       "        4.49401647e-04, 4.65074118e-06, 1.34786796e-06, 8.70978738e-07,\n",
       "        7.58329065e-07, 9.40702805e-08, 7.22760547e-07, 2.44680876e-07,\n",
       "        2.36097858e-05, 6.79793902e-06, 6.17185196e-06, 8.70276017e-06,\n",
       "        1.60527776e-07, 5.06758261e-06, 6.83430198e-06, 2.69250268e-06,\n",
       "        1.63669154e-06, 2.34101066e-07, 1.98055275e-07, 2.71760587e-06,\n",
       "        3.88137323e-06, 5.46905267e-06, 1.04432271e-04, 1.26266868e-05,\n",
       "        3.30248497e-07, 1.34897073e-05, 4.03930244e-07, 2.69702156e-07,\n",
       "        4.25936996e-05, 4.56308453e-06, 2.43243477e-07, 3.83250626e-05,\n",
       "        1.17729860e-06, 3.81484779e-06, 1.52111525e-07, 3.29407044e-07,\n",
       "        7.71968007e-06, 2.06494087e-06, 3.89260867e-06, 4.28245130e-07,\n",
       "        2.17865618e-05, 6.53778852e-06, 3.76920798e-05, 3.05957286e-07,\n",
       "        2.47598637e-05, 2.80443624e-06, 3.79040171e-06, 2.69802258e-05,\n",
       "        2.41034400e-06, 2.87102102e-06, 6.63881510e-05, 1.10783401e-06,\n",
       "        6.95692108e-07, 3.72674345e-04, 2.05588149e-05, 3.61958854e-07,\n",
       "        2.03041986e-06, 7.86089004e-07, 1.05905815e-06, 5.43711451e-07,\n",
       "        1.01090773e-05, 6.17481011e-04, 1.15393323e-06, 3.62962169e-06,\n",
       "        1.84744226e-06, 4.03685908e-06, 1.71423403e-06, 2.56923959e-05,\n",
       "        3.79922881e-06, 1.19325581e-04, 1.29843247e-05, 1.02999854e-06,\n",
       "        2.87977673e-06, 3.91760568e-06, 3.31788385e-07, 3.02090399e-07,\n",
       "        5.31938042e-07, 1.44049750e-06, 2.86402155e-05, 2.20684015e-07,\n",
       "        1.21300548e-06, 2.92944264e-06, 1.94836583e-04, 4.13189919e-05,\n",
       "        4.06080107e-05, 3.52429510e-07, 1.84906582e-06, 6.32205865e-06,\n",
       "        9.32265323e-07, 6.78683000e-06, 1.07354163e-06, 4.03775800e-07,\n",
       "        5.25227370e-06, 1.14784880e-05, 1.84024411e-05, 9.90540411e-06,\n",
       "        3.67306166e-06, 3.39858052e-05, 2.08222241e-06, 6.50065294e-06,\n",
       "        3.54568868e-07, 3.50067268e-07, 4.24029224e-07, 1.57601266e-06,\n",
       "        7.95514825e-06, 6.66688720e-06, 1.77819093e-05, 2.32625894e-06,\n",
       "        3.12136535e-06, 3.59249134e-06, 3.80423194e-06, 2.40619411e-04,\n",
       "        2.42973738e-06, 6.43212161e-06, 4.58528632e-07, 1.50332482e-07,\n",
       "        2.97751899e-06, 4.58718006e-07, 4.44816869e-05, 5.94227345e-07,\n",
       "        2.51645048e-07, 8.37982483e-08, 1.86826483e-07, 5.59161890e-06,\n",
       "        1.88492027e-06, 3.30864140e-07, 1.75834680e-06, 8.65085167e-06,\n",
       "        3.59962473e-06, 1.57048760e-07, 2.38749385e-06, 1.93596916e-05,\n",
       "        2.25602179e-07, 2.37747500e-07, 3.11837681e-07, 5.80711503e-06,\n",
       "        7.68765858e-07, 2.44511648e-06, 3.82162443e-06, 6.37009308e-08,\n",
       "        4.40186232e-05, 5.12191264e-06, 4.76301267e-07, 9.16327679e-07,\n",
       "        5.75352260e-06, 6.78635406e-05, 1.54175614e-05, 5.82048870e-06,\n",
       "        1.07189044e-06, 2.34602703e-06, 6.29462193e-07, 7.78939138e-05,\n",
       "        6.22174484e-05, 6.67128788e-08, 3.74810770e-06, 9.68242166e-05,\n",
       "        6.05290722e-07, 2.23748270e-06, 1.08265367e-05, 2.79178221e-06,\n",
       "        6.33511900e-06, 2.72313064e-05, 5.93954519e-06, 2.46584523e-06,\n",
       "        4.72534254e-07, 8.56271811e-07, 6.28976750e-07, 4.92796471e-06,\n",
       "        6.77256003e-06, 1.97607761e-07, 2.25929580e-06, 2.87665284e-06,\n",
       "        1.28889008e-06, 3.35221921e-06, 1.27141575e-07, 3.23856881e-07,\n",
       "        3.98111879e-05, 4.65378662e-07, 8.52798451e-07, 1.51258055e-05,\n",
       "        3.87026967e-06, 1.05420406e-06, 1.28584852e-05, 2.31528011e-05,\n",
       "        4.86440399e-07, 3.80743654e-06, 5.37747098e-07, 8.48613809e-07,\n",
       "        2.64182268e-06, 5.53714983e-07, 2.19849227e-07, 7.33884508e-06,\n",
       "        3.55814773e-05, 7.78946196e-06, 4.75218258e-05, 5.61566185e-06,\n",
       "        1.11011104e-04, 2.95026675e-05, 5.02879402e-06, 4.32196066e-06,\n",
       "        3.18779399e-07, 1.60695194e-07, 1.06505718e-06, 4.83160329e-06,\n",
       "        1.50988912e-04, 3.04259775e-05, 1.72197099e-06, 1.66085090e-06,\n",
       "        5.89558886e-06, 6.17725755e-06, 2.35488369e-06, 1.48284005e-06,\n",
       "        2.47849044e-07, 1.79265356e-07, 9.11865186e-07, 3.88998131e-08,\n",
       "        1.08399354e-05, 6.95927338e-06, 1.23514401e-04, 6.24820768e-06,\n",
       "        4.48508899e-06, 6.24667064e-06, 6.88751982e-07, 1.04685444e-06,\n",
       "        7.14522798e-07, 2.24915610e-07, 7.09159380e-08, 1.25796964e-06,\n",
       "        1.61752496e-06, 2.37818040e-05, 7.36973220e-08, 2.30629524e-07,\n",
       "        9.04617195e-07, 1.08019172e-07, 6.50494144e-07, 3.93561891e-07,\n",
       "        1.05423931e-06, 1.13687502e-05, 7.40672021e-07, 3.01569844e-06,\n",
       "        2.08017497e-07, 1.86085515e-07, 4.07409402e-07, 3.63597565e-06,\n",
       "        1.14563413e-07, 1.20328230e-06, 3.06993712e-07, 5.16957215e-08,\n",
       "        1.81381336e-06, 3.74035585e-06, 6.27283589e-06, 7.22879179e-07,\n",
       "        3.67604173e-07, 1.01924943e-05, 7.60815510e-06, 8.70109176e-08,\n",
       "        7.41532119e-07, 1.35089215e-06, 5.21552693e-06, 3.07119933e-07,\n",
       "        9.31701891e-07, 3.74107060e-07, 3.00910642e-07, 3.90662336e-07,\n",
       "        1.09301745e-07, 8.33766705e-07, 7.48465345e-06, 2.84724280e-07,\n",
       "        4.30503060e-05, 2.61859304e-06, 1.22378128e-06, 9.85138172e-07,\n",
       "        2.02987863e-07, 8.26889064e-08, 2.37004178e-06, 4.85271521e-08,\n",
       "        1.40812517e-07, 1.99618526e-07, 9.89728846e-07, 1.11173762e-07,\n",
       "        5.53107498e-07, 6.23625681e-07, 6.28234247e-08, 4.54626985e-08,\n",
       "        1.48509656e-07, 3.09948433e-07, 3.25795320e-08, 1.12901243e-05,\n",
       "        8.14660666e-07, 1.35052892e-06, 1.57571137e-07, 1.02216966e-07,\n",
       "        1.18368810e-07, 3.09404840e-08, 4.01373015e-08, 8.31113169e-08,\n",
       "        1.42815850e-07, 2.70835585e-08, 4.83460371e-06, 1.89033635e-05]],\n",
       "      dtype=float32)"
      ]
     },
     "execution_count": 14,
     "metadata": {},
     "output_type": "execute_result"
    }
   ],
   "source": [
    "pred = modelvgg16.predict( preprocess_input(imgArr) )\n",
    "pred"
   ]
  },
  {
   "cell_type": "code",
   "execution_count": 15,
   "id": "2458ff9c",
   "metadata": {
    "scrolled": true
   },
   "outputs": [
    {
     "name": "stdout",
     "output_type": "stream",
     "text": [
      "[[('n02124075', 'Egyptian_cat', 0.48051518), ('n02123045', 'tabby', 0.42409763), ('n02123159', 'tiger_cat', 0.07373501), ('n02127052', 'lynx', 0.009538685), ('n02123394', 'Persian_cat', 0.0013637674)]]\n"
     ]
    }
   ],
   "source": [
    "label = decode_predictions(pred)\n",
    "print( label)"
   ]
  },
  {
   "cell_type": "code",
   "execution_count": 17,
   "id": "6591d7de",
   "metadata": {},
   "outputs": [
    {
     "data": {
      "text/plain": [
       "('n02124075', 'Egyptian_cat', 0.48051518)"
      ]
     },
     "execution_count": 17,
     "metadata": {},
     "output_type": "execute_result"
    }
   ],
   "source": [
    "label[0][0]"
   ]
  },
  {
   "cell_type": "code",
   "execution_count": 18,
   "id": "af709019",
   "metadata": {
    "collapsed": true
   },
   "outputs": [
    {
     "data": {
      "image/png": "[encoded data removed]",
      "text/plain": [
       "<PIL.Image.Image image mode=RGB size=224x224 at 0x1F71C096340>"
      ]
     },
     "execution_count": 18,
     "metadata": {},
     "output_type": "execute_result"
    }
   ],
   "source": [
    "testImg"
   ]
  },
  {
   "cell_type": "code",
   "execution_count": 1,
   "id": "32f06850",
   "metadata": {
    "ExecuteTime": {
     "end_time": "2021-12-31T12:43:02.057205Z",
     "start_time": "2021-12-31T12:42:56.331206Z"
    }
   },
   "outputs": [],
   "source": [
    "import tensorflow as tf\n",
    "import numpy as np\n",
    "import matplotlib.pyplot as plt\n",
    "from tensorflow.keras.layers import Dense,Flatten\n",
    "from tensorflow.keras import Sequential\n",
    "from tensorflow.keras.utils import to_categorical\n",
    "from tensorflow.keras.preprocessing import image\n",
    "plt.style.use('ggplot')"
   ]
  },
  {
   "cell_type": "code",
   "execution_count": 2,
   "id": "f7682c75",
   "metadata": {
    "ExecuteTime": {
     "end_time": "2021-12-31T12:43:06.303099Z",
     "start_time": "2021-12-31T12:43:02.060194Z"
    }
   },
   "outputs": [
    {
     "ename": "NameError",
     "evalue": "name 'model_vgg_conv' is not defined",
     "output_type": "error",
     "traceback": [
      "\u001b[1;31m---------------------------------------------------------------------------\u001b[0m",
      "\u001b[1;31mNameError\u001b[0m                                 Traceback (most recent call last)",
      "\u001b[1;32mC:\\Users\\TFG507~1\\AppData\\Local\\Temp/ipykernel_16308/1563054407.py\u001b[0m in \u001b[0;36m<module>\u001b[1;34m\u001b[0m\n\u001b[0;32m      1\u001b[0m \u001b[0mmodel\u001b[0m \u001b[1;33m=\u001b[0m \u001b[0mSequential\u001b[0m\u001b[1;33m(\u001b[0m\u001b[1;33m)\u001b[0m\u001b[1;33m\u001b[0m\u001b[1;33m\u001b[0m\u001b[0m\n\u001b[1;32m----> 2\u001b[1;33m \u001b[0mmodel\u001b[0m\u001b[1;33m.\u001b[0m\u001b[0madd\u001b[0m\u001b[1;33m(\u001b[0m \u001b[0mmodel_vgg_conv\u001b[0m\u001b[1;33m)\u001b[0m \u001b[1;31m# model_vgg_conv는 특징추출기만을 가져온거다. ( con, relu, pool )\u001b[0m\u001b[1;33m\u001b[0m\u001b[1;33m\u001b[0m\u001b[0m\n\u001b[0m\u001b[0;32m      3\u001b[0m \u001b[1;33m\u001b[0m\u001b[0m\n\u001b[0;32m      4\u001b[0m \u001b[0mmodel\u001b[0m\u001b[1;33m.\u001b[0m\u001b[0madd\u001b[0m\u001b[1;33m(\u001b[0m \u001b[0mFlatten\u001b[0m\u001b[1;33m(\u001b[0m\u001b[1;33m)\u001b[0m\u001b[1;33m)\u001b[0m\u001b[1;33m\u001b[0m\u001b[1;33m\u001b[0m\u001b[0m\n\u001b[0;32m      5\u001b[0m \u001b[0mmodel\u001b[0m\u001b[1;33m.\u001b[0m\u001b[0madd\u001b[0m\u001b[1;33m(\u001b[0m \u001b[0mDense\u001b[0m\u001b[1;33m(\u001b[0m \u001b[0munits\u001b[0m\u001b[1;33m=\u001b[0m\u001b[1;36m128\u001b[0m\u001b[1;33m,\u001b[0m \u001b[0mactivation\u001b[0m\u001b[1;33m=\u001b[0m\u001b[1;34m'relu'\u001b[0m\u001b[1;33m)\u001b[0m\u001b[1;33m)\u001b[0m\u001b[1;33m\u001b[0m\u001b[1;33m\u001b[0m\u001b[0m\n",
      "\u001b[1;31mNameError\u001b[0m: name 'model_vgg_conv' is not defined"
     ]
    }
   ],
   "source": [
    "model = Sequential()\n",
    "model.add( model_vgg_conv) # model_vgg_conv는 특징추출기만을 가져온거다. ( con, relu, pool )\n",
    "\n",
    "model.add( Flatten())\n",
    "model.add( Dense( units=128, activation='relu'))\n",
    "model.add(Dense(units = 64, activation='relu'))\n",
    "model.add(Dense(units = 32, activation='relu'))\n",
    "model.add( Dense( units=2, activation='softmax'))\n",
    "\n",
    "# model.compile( loss=\"categorical_crossentropy\", optimizer='adam', metrics=['acc'])\n",
    "model.compile( loss=\"categorical_crossentropy\",\n",
    "              optimizer=RMSprop(learning_rate=1e-4),\n",
    "              metrics=['acc'])\n",
    "\n",
    "model.fit( x_train, y_train, epochs=100, validation_data=(x_valid, y_valid))"
   ]
  }
 ],
 "metadata": {
  "kernelspec": {
   "display_name": "Python 3 (ipykernel)",
   "language": "python",
   "name": "python3"
  },
  "language_info": {
   "codemirror_mode": {
    "name": "ipython",
    "version": 3
   },
   "file_extension": ".py",
   "mimetype": "text/x-python",
   "name": "python",
   "nbconvert_exporter": "python",
   "pygments_lexer": "ipython3",
   "version": "3.7.12"
  },
  "toc": {
   "base_numbering": 1,
   "nav_menu": {},
   "number_sections": true,
   "sideBar": true,
   "skip_h1_title": false,
   "title_cell": "Table of Contents",
   "title_sidebar": "Contents",
   "toc_cell": false,
   "toc_position": {},
   "toc_section_display": true,
   "toc_window_display": false
  }
 },
 "nbformat": 4,
 "nbformat_minor": 5
}
