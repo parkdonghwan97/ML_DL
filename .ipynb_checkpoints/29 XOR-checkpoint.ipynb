{
 "cells": [
  {
   "cell_type": "code",
   "execution_count": 1,
   "id": "1bda456c",
   "metadata": {},
   "outputs": [],
   "source": [
    "import numpy as np\n"
   ]
  },
  {
   "cell_type": "code",
   "execution_count": 2,
   "id": "e8baf93b",
   "metadata": {},
   "outputs": [],
   "source": [
    "data=[            # 4행 2열 \n",
    "    [1,1],\n",
    "    [1,0],\n",
    "    [0,1],\n",
    "    [0,0]\n",
    "     ]"
   ]
  },
  {
   "cell_type": "code",
   "execution_count": 3,
   "id": "3bff21e1",
   "metadata": {},
   "outputs": [],
   "source": [
    "def common( w1, w2, theta, x1,x2):\n",
    "    value = w1 *x1  + w1 * x2\n",
    "    print( 'value : ', value)\n",
    "    return value > theta"
   ]
  },
  {
   "cell_type": "code",
   "execution_count": 4,
   "id": "c9b9b576",
   "metadata": {},
   "outputs": [],
   "source": [
    "def AND(x1,x2):\n",
    "    return common(0.5,0.5,0.5 ,x1,x2)"
   ]
  },
  {
   "cell_type": "code",
   "execution_count": 7,
   "id": "bdebaa6d",
   "metadata": {},
   "outputs": [],
   "source": [
    "def OR(x1,x2):\n",
    "    return common(0.5,0.5,0.2 ,x1,x2)"
   ]
  },
  {
   "cell_type": "code",
   "execution_count": 9,
   "id": "ac45d802",
   "metadata": {},
   "outputs": [],
   "source": [
    "def NAND(x1,x2):\n",
    "    return common(-0.5,-0.5,-0.7 ,x1,x2)"
   ]
  },
  {
   "cell_type": "code",
   "execution_count": 11,
   "id": "f774cbc7",
   "metadata": {},
   "outputs": [],
   "source": [
    "def XOR(x1,x2):\n",
    "    y1 = OR(x1,x2)\n",
    "    y2 = NAND(x1,x2)\n",
    "    return AND(y1,y2)"
   ]
  },
  {
   "cell_type": "code",
   "execution_count": 5,
   "id": "fd1474d9",
   "metadata": {},
   "outputs": [],
   "source": [
    "def show_operation( op ):\n",
    "    for x1, x2 in data:\n",
    "        print(op(x1,x2))"
   ]
  },
  {
   "cell_type": "code",
   "execution_count": 6,
   "id": "aeba9e27",
   "metadata": {},
   "outputs": [
    {
     "name": "stdout",
     "output_type": "stream",
     "text": [
      "value :  1.0\n",
      "True\n",
      "value :  0.5\n",
      "False\n",
      "value :  0.5\n",
      "False\n",
      "value :  0.0\n",
      "False\n"
     ]
    }
   ],
   "source": [
    "show_operation(AND)"
   ]
  },
  {
   "cell_type": "code",
   "execution_count": 8,
   "id": "1a6d90ee",
   "metadata": {},
   "outputs": [
    {
     "name": "stdout",
     "output_type": "stream",
     "text": [
      "value :  1.0\n",
      "True\n",
      "value :  0.5\n",
      "True\n",
      "value :  0.5\n",
      "True\n",
      "value :  0.0\n",
      "False\n"
     ]
    }
   ],
   "source": [
    "show_operation(OR)"
   ]
  },
  {
   "cell_type": "code",
   "execution_count": 10,
   "id": "a443278d",
   "metadata": {},
   "outputs": [
    {
     "name": "stdout",
     "output_type": "stream",
     "text": [
      "value :  -1.0\n",
      "False\n",
      "value :  -0.5\n",
      "True\n",
      "value :  -0.5\n",
      "True\n",
      "value :  -0.0\n",
      "True\n"
     ]
    }
   ],
   "source": [
    "show_operation(NAND)"
   ]
  },
  {
   "cell_type": "code",
   "execution_count": 12,
   "id": "f7e82c0d",
   "metadata": {},
   "outputs": [
    {
     "name": "stdout",
     "output_type": "stream",
     "text": [
      "value :  1.0\n",
      "value :  -1.0\n",
      "value :  0.5\n",
      "False\n",
      "value :  0.5\n",
      "value :  -0.5\n",
      "value :  1.0\n",
      "True\n",
      "value :  0.5\n",
      "value :  -0.5\n",
      "value :  1.0\n",
      "True\n",
      "value :  0.0\n",
      "value :  -0.0\n",
      "value :  0.5\n",
      "False\n"
     ]
    }
   ],
   "source": [
    "show_operation(XOR)"
   ]
  },
  {
   "cell_type": "code",
   "execution_count": null,
   "id": "f25cfcd1",
   "metadata": {},
   "outputs": [],
   "source": []
  },
  {
   "cell_type": "code",
   "execution_count": null,
   "id": "531211c6",
   "metadata": {},
   "outputs": [],
   "source": []
  }
 ],
 "metadata": {
  "kernelspec": {
   "display_name": "Python 3",
   "language": "python",
   "name": "python3"
  },
  "language_info": {
   "codemirror_mode": {
    "name": "ipython",
    "version": 3
   },
   "file_extension": ".py",
   "mimetype": "text/x-python",
   "name": "python",
   "nbconvert_exporter": "python",
   "pygments_lexer": "ipython3",
   "version": "3.8.8"
  },
  "toc": {
   "base_numbering": 1,
   "nav_menu": {},
   "number_sections": true,
   "sideBar": true,
   "skip_h1_title": false,
   "title_cell": "Table of Contents",
   "title_sidebar": "Contents",
   "toc_cell": false,
   "toc_position": {},
   "toc_section_display": true,
   "toc_window_display": false
  }
 },
 "nbformat": 4,
 "nbformat_minor": 5
}
