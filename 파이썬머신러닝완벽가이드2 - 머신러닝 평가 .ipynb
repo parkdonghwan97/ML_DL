{
 "cells": [
  {
   "cell_type": "code",
   "execution_count": 20,
   "id": "42431503",
   "metadata": {},
   "outputs": [],
   "source": [
    "import numpy as np\n",
    "import pandas as pd\n",
    "import matplotlib.pylab as plt \n",
    "%matplotlib inline\n",
    "plt.style.use('ggplot')\n",
    "from sklearn.model_selection import train_test_split\n",
    "from sklearn.metrics import accuracy_score,precision_score,recall_score, roc_auc_score\n",
    "from sklearn.metrics import f1_score, confusion_matrix, precision_recall_curve, roc_curve\n",
    "from sklearn.preprocessing import StandardScaler\n",
    "from sklearn.linear_model import LinearRegression\n",
    "from sklearn.linear_model import LogisticRegression"
   ]
  },
  {
   "cell_type": "markdown",
   "id": "d1c9c2ca",
   "metadata": {},
   "source": [
    "정확도는 직관적으로 모델 예측 성능을 평가하는 지표.\n",
    "\n",
    "이진 분류의 경우 데이터의 구성에 따라 ML 모델의 성능을 왜곡할 수있기 때문에 정확도 수치 하나만 가지고 성능 평가하지 않는다."
   ]
  },
  {
   "cell_type": "markdown",
   "id": "a56cef2d",
   "metadata": {},
   "source": [
    "불균형한 데이터 세트에 모든 데이터를 0으로 예측하는 clasifier을 이용하면 높은 예측 정확도를나타냄.\n",
    "\n",
    "파무것도 하지 않고 무조건 특정한 결과로 찍어도   \n",
    "데이터 분포도가 균일하지 않은 경우 높은 수치가 나타날 수 있는 것이 정확도 평가 지표의 맹점"
   ]
  },
  {
   "cell_type": "markdown",
   "id": "d09c214a",
   "metadata": {},
   "source": [
    "# 정확도 평가 지표는 불균형한 레이블 데이터 세트에서는 성능 수치로 사용되어서는 안된다.\n",
    "\n",
    "- 이러한 한계점을 극복하기 위해 다양한 분류지표와 함께 적용"
   ]
  },
  {
   "cell_type": "markdown",
   "id": "89f3e24b",
   "metadata": {},
   "source": [
    "\n",
    "## 오차행렬\n",
    "\n",
    "- TN : 예측이 0 인데 실제값은 0  FP : 예측이 1 인데 실제값은 0\n",
    "- FN : 예측이 1 인데 실제값은 1  TP : 예측이 0 인데 실제값은 1"
   ]
  },
  {
   "cell_type": "markdown",
   "id": "1cef7c84",
   "metadata": {},
   "source": [
    "정확도 = 예측 결과와 실제 값이 동일한 건수 / 전체 데이터 수  \n",
    "(TN + TP) / (TN + FP + FN + TP)"
   ]
  },
  {
   "cell_type": "markdown",
   "id": "e65c8484",
   "metadata": {},
   "source": [
    "정밀도 = TP / (FP + TP)  \n",
    "\n",
    "- 스펨메일 여부 판단하는 모델\n",
    "- 실제 positive인 스펨 메일을 Negative인 일반 메일로 분류하더라고 불편함을 느끼는 정도지만\n",
    "실제 Neagetive인 일반 메일을 Positive 스팸 메일로 분류할 경우 메일을 아예 받지 못함.\n",
    "\n",
    "재현율 = TP / (FN + TP)\n",
    "- 보험 사기, 금융사기, 암 환자 진단.\n",
    "- 실제Positive인 암 환자를 Neagative로 잘못 판단하면 오류의 대가가 심각함"
   ]
  },
  {
   "cell_type": "markdown",
   "id": "3c451ca7",
   "metadata": {},
   "source": [
    "## 오차행렬,accuacy, precision,recall 평가를 한번에 호출하는 get_clf_eval()함수"
   ]
  },
  {
   "cell_type": "code",
   "execution_count": 6,
   "id": "652ef479",
   "metadata": {},
   "outputs": [],
   "source": [
    "from sklearn.metrics import accuracy_score,precision_score,recall_score,confusion_matrix\n",
    "\n",
    "def get_clf_eval(y_test, pred):\n",
    "    confustion = confusion_matrix(y_test,pred)\n",
    "    accuracy = accuracy_score(y_test,pred)\n",
    "    precision = precision_score(y_test,pred)\n",
    "    recall = recall_score(y_test,pred)\n",
    "    print('오차행렬')\n",
    "    print(confustion)\n",
    "    print('정확도:{0:.4f},정밀도: {1:.4f}, 재현율: {2:.4f}'.format(accuracy,precision,recall))\n",
    "    \n",
    "    "
   ]
  },
  {
   "cell_type": "markdown",
   "id": "4e20eec0",
   "metadata": {},
   "source": [
    "###### 이전 파일 없어서 잠깐 보류"
   ]
  },
  {
   "cell_type": "code",
   "execution_count": 7,
   "id": "7c0ba2a6",
   "metadata": {},
   "outputs": [],
   "source": [
    "# 로지스틱 회귀 기반으로 타이타닉 생존자 예측하고 오차행렬,정확도,정밀도,재현율 평가 수행\n",
    "# import pandas as pd\n",
    "# from sklearn.model_selection import train_test_split\n",
    "# from sklearn.linear_model import LinearRegression\n",
    "\n",
    "# # 원본 데이터를 재로딩, 데이터 가공, 학습데이터/테스트 데이터 분할\n",
    "# titanic_df = pd.read_csv('../titanic_train.csv')\n",
    "# y = titanic_df['Survived']\n",
    "# X = titanic_df.drop('Survived',axis=1)\n",
    "# X = transform_features(X)\n"
   ]
  },
  {
   "cell_type": "markdown",
   "id": "80810155",
   "metadata": {},
   "source": [
    "### 정밀도/ 재현율 트레이드오프"
   ]
  },
  {
   "cell_type": "markdown",
   "id": "529b04d6",
   "metadata": {},
   "source": [
    "### 임계값을 내리면 재현율은 오르고 정밀도는 내려감\n",
    "### 임계값을 올리면 재현율은 내리고 정밀도는 올라감"
   ]
  },
  {
   "cell_type": "markdown",
   "id": "03cef260",
   "metadata": {},
   "source": [
    "## F1 스코어\n",
    "- 정밀도와 재현율이 어느 한 쪽으로 치우치지 않는 수치를 나타낼 대 상대적으로 높은 값을 가짐\n"
   ]
  },
  {
   "cell_type": "code",
   "execution_count": 8,
   "id": "c3c2fdfc",
   "metadata": {},
   "outputs": [
    {
     "ename": "NameError",
     "evalue": "name 'y_test' is not defined",
     "output_type": "error",
     "traceback": [
      "\u001b[1;31m---------------------------------------------------------------------------\u001b[0m",
      "\u001b[1;31mNameError\u001b[0m                                 Traceback (most recent call last)",
      "\u001b[1;32m<ipython-input-8-54ee8b95876a>\u001b[0m in \u001b[0;36m<module>\u001b[1;34m\u001b[0m\n\u001b[0;32m      1\u001b[0m \u001b[1;32mfrom\u001b[0m \u001b[0msklearn\u001b[0m\u001b[1;33m.\u001b[0m\u001b[0mmetrics\u001b[0m \u001b[1;32mimport\u001b[0m \u001b[0mf1_score\u001b[0m\u001b[1;33m\u001b[0m\u001b[1;33m\u001b[0m\u001b[0m\n\u001b[1;32m----> 2\u001b[1;33m \u001b[0mf1\u001b[0m \u001b[1;33m=\u001b[0m \u001b[0mf1_score\u001b[0m\u001b[1;33m(\u001b[0m\u001b[0my_test\u001b[0m\u001b[1;33m,\u001b[0m \u001b[0mpred\u001b[0m\u001b[1;33m)\u001b[0m\u001b[1;33m\u001b[0m\u001b[1;33m\u001b[0m\u001b[0m\n\u001b[0m\u001b[0;32m      3\u001b[0m \u001b[0mprint\u001b[0m\u001b[1;33m(\u001b[0m\u001b[1;34m'F1스코어: '\u001b[0m\u001b[1;33m,\u001b[0m\u001b[0mf1\u001b[0m\u001b[1;33m)\u001b[0m\u001b[1;33m\u001b[0m\u001b[1;33m\u001b[0m\u001b[0m\n",
      "\u001b[1;31mNameError\u001b[0m: name 'y_test' is not defined"
     ]
    }
   ],
   "source": [
    "from sklearn.metrics import f1_score\n",
    "f1 = f1_score(y_test, pred)\n",
    "print('F1스코어: ',f1)"
   ]
  },
  {
   "cell_type": "code",
   "execution_count": null,
   "id": "ab92ba36",
   "metadata": {},
   "outputs": [],
   "source": [
    "from sklearn.metrics import accuracy_score,precision_score,recall_score,confusion_matrix\n",
    "\n",
    "def get_clf_eval(y_test, pred):\n",
    "    confustion = confusion_matrix(y_test,pred)\n",
    "    accuracy = accuracy_score(y_test,pred)\n",
    "    precision = precision_score(y_test,pred)\n",
    "    recall = recall_score(y_test,pred)\n",
    "    print('오차행렬')\n",
    "    print(confustion)\n",
    "    print('정확도:{0:.4f},정밀도: {1:.4f}, 재현율: {2:.4f}'.format(accuracy,precision,recall))\n",
    "    \n",
    "    # f1 추가 \n",
    "    print('f1 : ',f1)"
   ]
  },
  {
   "cell_type": "markdown",
   "id": "9e3880ef",
   "metadata": {},
   "source": [
    "## ROC와 AUC\n",
    "- x : FPR\n",
    "- y : TPR = 민감도, 재현율\n",
    "\n"
   ]
  },
  {
   "cell_type": "code",
   "execution_count": null,
   "id": "15cbde7a",
   "metadata": {},
   "outputs": [],
   "source": [
    "from sklearn.metrics import roc_curve\n",
    "# 레이블 값이 1일때의 예측 확률 추출\n",
    "pred_proba_class1 = lr_clf.predict_proba(X_test)[:,1]\n",
    "\n",
    "fprs, tprs,thresholds = roc_curve(y_test,pred_proba_class1)\n",
    "\n",
    "# 반환된 임곗값 배열에서 샘플로 데이터를 추출하되, 임계값을 5단계로 추출\n",
    "# thresholds 0은 max(예측확률)+1로 임의 설정. 이를 제외하기 위해 np.arange()1 부터 시작\n",
    "thr_index = np.arange(1,thresholds.shape[0],5)\n",
    "print('샘플 추출을 위한 임곗값 배열의 인덱스: ',thr_index)\n",
    "print('샘플 인덱스로 추출한 임곗값: ',np.round(thresholds[thr_index],2))\n",
    "\n",
    "# 5단계 단위로 추출된 임계값에 따른  FPR,TPR 값\n",
    "print('샘풀 임곗값별  FPR: ',np.round(fprs[thr_index],3))\n",
    "print('샘풀 임곗값별  TPR: ',np.round(tprs[thr_index],3))"
   ]
  },
  {
   "cell_type": "markdown",
   "id": "48f229af",
   "metadata": {},
   "source": [
    "# 피마 인디언 당뇨병 예측\n",
    "https://www.kaggle.com/uciml/pima-indians-diabetes-database#\n",
    "\n",
    "\n",
    "\n",
    "\n",
    "<!-- 아래그림 확인 -->\n",
    "<img src=\"https://thebook.io/img/080228/137.jpg\">\n",
    "<br>\n",
    "<img src=\"http://health.chosun.com/site/data/img_dir/2005/09/29/c2005092956311_01.jpg\">\n",
    "\n",
    "* Pregnancies: 임신 횟수\n",
    "* Glucose: 포도당 부하 검사 수치\n",
    "* BloodPressure: 혈압(mm Hg)\n",
    "* SkinThickness: 팔 삼두근 뒤쪽의 피하지방 측정값(mm)\n",
    "* Insulin: 혈청 인슐린(mu U/ml)\n",
    "* BMI: 체질량지수(체중(kg)/(키(m))^2)\n",
    "* DiabetesPedigreeFunction: 당뇨 내력 가중치 값\n",
    "* Age: 나이\n",
    "* Outcome: 클래스 결정 값(0 또는 1)"
   ]
  },
  {
   "cell_type": "markdown",
   "id": "d9ae2897",
   "metadata": {},
   "source": [
    "# 두고두고 쓸 함수"
   ]
  },
  {
   "cell_type": "code",
   "execution_count": 15,
   "id": "f8cb5aa6",
   "metadata": {},
   "outputs": [],
   "source": [
    "import numpy as np\n",
    "import pandas as pd\n",
    "import matplotlib.pylab as plt \n",
    "%matplotlib inline\n",
    "\n",
    "from sklearn.model_selection import train_test_split\n",
    "from sklearn.metrics import accuracy_score,precision_score,recall_score, roc_auc_score\n",
    "from sklearn.metrics import f1_score, confusion_matrix, precision_recall_curve, roc_curve\n",
    "from sklearn.preprocessing import StandardScaler\n",
    "from sklearn.linear_model import LinearRegression\n",
    "from sklearn.linear_model import LogisticRegression\n",
    "from sklearn.preprocessing import Binarizer\n",
    "\n",
    "binarizer = Binarizer(threshold=1.1)\n",
    "pred_proba_class1 = lr_clf.predict_proba(X_test)[:,1]\n",
    "\n",
    "fprs, tprs,thresholds = roc_curve(y_test,pred_proba_class1)\n",
    "\n",
    "# 반환된 임곗값 배열에서 샘플로 데이터를 추출하되, 임계값을 5단계로 추출\n",
    "# thresholds 0은 max(예측확률)+1로 임의 설정. 이를 제외하기 위해 np.arange()1 부터 시작\n",
    "thr_index = np.arange(1,thresholds.shape[0],5)\n",
    "\n",
    "\n",
    "\n",
    "\n",
    "def get_clf_eval(y_test, pred=None , pred_proba=None ):\n",
    "    confustion = confusion_matrix(y_test,pred)\n",
    "    accuracy = accuracy_score(y_test,pred)\n",
    "    precision = precision_score(y_test,pred)\n",
    "    recall = recall_score(y_test,pred)\n",
    "    f1 =f1_score(y_test,pred)\n",
    "    \n",
    "    roc_auc = roc_auc_score(y_test,pred)\n",
    "    \n",
    "    print('오차행렬')\n",
    "    print(confustion)\n",
    "    print('정확도:{0:.4f},정밀도: {1:.4f}, 재현율: {2:.4f}'.format(accuracy,precision,recall))\n",
    "    \n",
    "    # f1 추가 \n",
    "    print('f1 : ',f1)\n",
    "\n",
    "    # ROC-AUC 추가\n",
    "    print('ROC_AUC: ',roc_auc)\n",
    "    \n",
    "def roc_curve_plot(y_test,pred_proba_C1):\n",
    "    \n",
    "    # 임계값에 따른 FPR, TPR 값 반환\n",
    "    fprs,tprs,thresholds = roc_curve(y_test,pred_proba_C1)\n",
    "    \n",
    "    # ROC 곡선을 그래프 곡선으로 그림\n",
    "    plt.plot(fprs,tprs,label='ROC')\n",
    "    \n",
    "    # 가운데 대각선 직선 그림\n",
    "    plt.plot([0,1],[0,1],'k--',label='Random')\n",
    "    \n",
    "    # FPR X축의 Scale을 0.1 단위로 변경 , X, Y축 명 설정\n",
    "    start, end = plt.xlim()\n",
    "    plt.xticks(np.round(np.arange(start,end,0.1),2))\n",
    "    plt.xlim(0,1);plt.ylim(0,1)\n",
    "    plt.xlabel('FPR(1-Sensitivity)'); plt.ylabel('TPR(RECALL)')\n",
    "    plt.legend()\n",
    "    \n",
    "def precision_recall_curve_plot(y_test,pred_proba_C1):\n",
    "    # threshold 배열과 정밀도, 재현율 넘파이배열 추출\n",
    "    precisions,recalls,thresholds = precision_recall_curve(y_test,pred_proba_C1)\n",
    "    \n",
    "    # X축을 thresholds값으로, y축은 정밀도 재현율 값으로 plot 수행, 정밀도는 점선으로 표시\n",
    "    plt.figure(figsize=(8.6))\n",
    "    threshold_bounary = thresholds.shape[0]\n",
    "    plt.plot(thresholds, precisions[0:threshold_bounary],linestyle='--',label='precision')\n",
    "    plt.plot(thresholds, recalls[0:threshold_bounary],label='recall')\n",
    "    \n",
    "    # threshold 값 X축의 스케일 0.1단위로 변경\n",
    "    start, end = plt.xlim()\n",
    "    plt.xticks(np.round(np.arange(start,end,0.1),2))\n",
    "    \n",
    "    # X 축 y축 라벨, 레전드 그리드 설정\n",
    "    plt.xlabel('Threshold value'); plt.ylabel('Precision and Recall value')\n",
    "    plt.legend();plt.grid()\n",
    "    plt.show()\n"
   ]
  },
  {
   "cell_type": "code",
   "execution_count": 16,
   "id": "6ff69ff8",
   "metadata": {},
   "outputs": [],
   "source": [
    "def precision_recall_curve_plot(y_test, pred_proba):\n",
    "    # threshold ndarray와 이 threshold에 따른 정밀도, 재현율 ndarray 추출\n",
    "    precisions, recalls, thresholds = precision_recall_curve(y_test, pred_proba)\n",
    "    \n",
    "    # x축을 threshold, y축을 정밀도, 재현율로 그래프 그리기\n",
    "    plt.figure(figsize=(8, 6))\n",
    "    thresholds_boundary = thresholds.shape[0]\n",
    "    plt.plot(thresholds, precisions[:thresholds_boundary], linestyle='--', label='precision')\n",
    "    plt.plot(thresholds, recalls[:thresholds_boundary], linestyle=':', label='recall')\n",
    "    \n",
    "    # threshold의 값 X축의 scale을 0.1 단위로 변경\n",
    "    stard, end = plt.xlim()\n",
    "    plt.xticks(np.round(np.arange(stard, end, 0.1), 2))\n",
    "    \n",
    "    plt.xlim()\n",
    "    plt.xlabel('thresholds')\n",
    "    plt.ylabel('precision & recall value')\n",
    "    plt.legend()\n",
    "    plt.grid()"
   ]
  },
  {
   "cell_type": "code",
   "execution_count": 12,
   "id": "779e5b80",
   "metadata": {},
   "outputs": [
    {
     "name": "stdout",
     "output_type": "stream",
     "text": [
      "0    500\n",
      "1    268\n",
      "Name: Outcome, dtype: int64\n"
     ]
    },
    {
     "data": {
      "text/html": [
       "<div>\n",
       "<style scoped>\n",
       "    .dataframe tbody tr th:only-of-type {\n",
       "        vertical-align: middle;\n",
       "    }\n",
       "\n",
       "    .dataframe tbody tr th {\n",
       "        vertical-align: top;\n",
       "    }\n",
       "\n",
       "    .dataframe thead th {\n",
       "        text-align: right;\n",
       "    }\n",
       "</style>\n",
       "<table border=\"1\" class=\"dataframe\">\n",
       "  <thead>\n",
       "    <tr style=\"text-align: right;\">\n",
       "      <th></th>\n",
       "      <th>Pregnancies</th>\n",
       "      <th>Glucose</th>\n",
       "      <th>BloodPressure</th>\n",
       "      <th>SkinThickness</th>\n",
       "      <th>Insulin</th>\n",
       "      <th>BMI</th>\n",
       "      <th>DiabetesPedigreeFunction</th>\n",
       "      <th>Age</th>\n",
       "      <th>Outcome</th>\n",
       "    </tr>\n",
       "  </thead>\n",
       "  <tbody>\n",
       "    <tr>\n",
       "      <th>0</th>\n",
       "      <td>6</td>\n",
       "      <td>148</td>\n",
       "      <td>72</td>\n",
       "      <td>35</td>\n",
       "      <td>0</td>\n",
       "      <td>33.6</td>\n",
       "      <td>0.627</td>\n",
       "      <td>50</td>\n",
       "      <td>1</td>\n",
       "    </tr>\n",
       "    <tr>\n",
       "      <th>1</th>\n",
       "      <td>1</td>\n",
       "      <td>85</td>\n",
       "      <td>66</td>\n",
       "      <td>29</td>\n",
       "      <td>0</td>\n",
       "      <td>26.6</td>\n",
       "      <td>0.351</td>\n",
       "      <td>31</td>\n",
       "      <td>0</td>\n",
       "    </tr>\n",
       "    <tr>\n",
       "      <th>2</th>\n",
       "      <td>8</td>\n",
       "      <td>183</td>\n",
       "      <td>64</td>\n",
       "      <td>0</td>\n",
       "      <td>0</td>\n",
       "      <td>23.3</td>\n",
       "      <td>0.672</td>\n",
       "      <td>32</td>\n",
       "      <td>1</td>\n",
       "    </tr>\n",
       "  </tbody>\n",
       "</table>\n",
       "</div>"
      ],
      "text/plain": [
       "   Pregnancies  Glucose  BloodPressure  SkinThickness  Insulin   BMI  \\\n",
       "0            6      148             72             35        0  33.6   \n",
       "1            1       85             66             29        0  26.6   \n",
       "2            8      183             64              0        0  23.3   \n",
       "\n",
       "   DiabetesPedigreeFunction  Age  Outcome  \n",
       "0                     0.627   50        1  \n",
       "1                     0.351   31        0  \n",
       "2                     0.672   32        1  "
      ]
     },
     "execution_count": 12,
     "metadata": {},
     "output_type": "execute_result"
    }
   ],
   "source": [
    "df = pd.read_csv('data/diabetes.csv')\n",
    "print(df['Outcome'].value_counts())\n",
    "df.head(3)"
   ]
  },
  {
   "cell_type": "markdown",
   "id": "e0ba1d25",
   "metadata": {},
   "source": [
    "768개중 N = 0 ->500개 ,  P = 1 -> 268개"
   ]
  },
  {
   "cell_type": "code",
   "execution_count": 13,
   "id": "659c8ebe",
   "metadata": {},
   "outputs": [
    {
     "name": "stdout",
     "output_type": "stream",
     "text": [
      "<class 'pandas.core.frame.DataFrame'>\n",
      "RangeIndex: 768 entries, 0 to 767\n",
      "Data columns (total 9 columns):\n",
      " #   Column                    Non-Null Count  Dtype  \n",
      "---  ------                    --------------  -----  \n",
      " 0   Pregnancies               768 non-null    int64  \n",
      " 1   Glucose                   768 non-null    int64  \n",
      " 2   BloodPressure             768 non-null    int64  \n",
      " 3   SkinThickness             768 non-null    int64  \n",
      " 4   Insulin                   768 non-null    int64  \n",
      " 5   BMI                       768 non-null    float64\n",
      " 6   DiabetesPedigreeFunction  768 non-null    float64\n",
      " 7   Age                       768 non-null    int64  \n",
      " 8   Outcome                   768 non-null    int64  \n",
      "dtypes: float64(2), int64(7)\n",
      "memory usage: 54.1 KB\n"
     ]
    }
   ],
   "source": [
    "df.info()"
   ]
  },
  {
   "cell_type": "markdown",
   "id": "6d78fbe6",
   "metadata": {},
   "source": [
    "Null값은 없음. 피처의 타입은 모두 숫자.  \n",
    "임신 횟수, 나이와 같은 숫자형 피처와 당뇨 검사 수치 피처로 구성된 특징으로 볼 때 별도의 피처 인코디은 필요하지 않아 보임"
   ]
  },
  {
   "cell_type": "code",
   "execution_count": 17,
   "id": "f4d8b268",
   "metadata": {},
   "outputs": [
    {
     "name": "stdout",
     "output_type": "stream",
     "text": [
      "오차행렬\n",
      "[[88 12]\n",
      " [23 31]]\n",
      "정확도:0.7727,정밀도: 0.7209, 재현율: 0.5741\n",
      "f1 :  0.6391752577319588\n",
      "ROC_AUC:  0.7270370370370369\n"
     ]
    },
    {
     "name": "stderr",
     "output_type": "stream",
     "text": [
      "C:\\Users\\PDH\\anaconda3\\lib\\site-packages\\sklearn\\linear_model\\_logistic.py:763: ConvergenceWarning: lbfgs failed to converge (status=1):\n",
      "STOP: TOTAL NO. of ITERATIONS REACHED LIMIT.\n",
      "\n",
      "Increase the number of iterations (max_iter) or scale the data as shown in:\n",
      "    https://scikit-learn.org/stable/modules/preprocessing.html\n",
      "Please also refer to the documentation for alternative solver options:\n",
      "    https://scikit-learn.org/stable/modules/linear_model.html#logistic-regression\n",
      "  n_iter_i = _check_optimize_result(\n"
     ]
    }
   ],
   "source": [
    "# 피처 데이터 세트 X, 레이블 데이터 세트 y 추출\n",
    "X = df.iloc[:,:-1]\n",
    "y = df.iloc[:,-1]\n",
    "\n",
    "X_train,X_test,y_train,y_test = train_test_split(X,y,test_size=0.2,random_state=156,stratify=y)\n",
    "\n",
    "# 로지스틱 회귀로 학습, 예측 및 평가 수행\n",
    "lr_clf = LogisticRegression()\n",
    "lr_clf.fit(X_train,y_train)\n",
    "pred  = lr_clf.predict(X_test)\n",
    "pred_proba = lr_clf.predict_proba(X_test)[:,1] # Age\n",
    "\n",
    "get_clf_eval(y_test,pred,pred_proba)"
   ]
  },
  {
   "cell_type": "code",
   "execution_count": 21,
   "id": "dc20c19a",
   "metadata": {},
   "outputs": [
    {
     "data": {
      "image/png": "[encoded data removed]",
      "text/plain": [
       "<Figure size 576x432 with 1 Axes>"
      ]
     },
     "metadata": {},
     "output_type": "display_data"
    }
   ],
   "source": [
    "pred_proba_C1 = lr_clf.predict_proba(X_test)[:,1]\n",
    "precision_recall_curve_plot(y_test,pred_proba_C1)"
   ]
  },
  {
   "cell_type": "markdown",
   "id": "fa47d8b6",
   "metadata": {},
   "source": [
    "임계 값이 0.42 정도에서 정밀도와 재현율이 어느정도 균형을 맞추고 있다."
   ]
  },
  {
   "cell_type": "code",
   "execution_count": 23,
   "id": "e06524a8",
   "metadata": {},
   "outputs": [
    {
     "data": {
      "text/html": [
       "<div>\n",
       "<style scoped>\n",
       "    .dataframe tbody tr th:only-of-type {\n",
       "        vertical-align: middle;\n",
       "    }\n",
       "\n",
       "    .dataframe tbody tr th {\n",
       "        vertical-align: top;\n",
       "    }\n",
       "\n",
       "    .dataframe thead th {\n",
       "        text-align: right;\n",
       "    }\n",
       "</style>\n",
       "<table border=\"1\" class=\"dataframe\">\n",
       "  <thead>\n",
       "    <tr style=\"text-align: right;\">\n",
       "      <th></th>\n",
       "      <th>Pregnancies</th>\n",
       "      <th>Glucose</th>\n",
       "      <th>BloodPressure</th>\n",
       "      <th>SkinThickness</th>\n",
       "      <th>Insulin</th>\n",
       "      <th>BMI</th>\n",
       "      <th>DiabetesPedigreeFunction</th>\n",
       "      <th>Age</th>\n",
       "      <th>Outcome</th>\n",
       "    </tr>\n",
       "  </thead>\n",
       "  <tbody>\n",
       "    <tr>\n",
       "      <th>count</th>\n",
       "      <td>768.000000</td>\n",
       "      <td>768.000000</td>\n",
       "      <td>768.000000</td>\n",
       "      <td>768.000000</td>\n",
       "      <td>768.000000</td>\n",
       "      <td>768.000000</td>\n",
       "      <td>768.000000</td>\n",
       "      <td>768.000000</td>\n",
       "      <td>768.000000</td>\n",
       "    </tr>\n",
       "    <tr>\n",
       "      <th>mean</th>\n",
       "      <td>3.845052</td>\n",
       "      <td>120.894531</td>\n",
       "      <td>69.105469</td>\n",
       "      <td>20.536458</td>\n",
       "      <td>79.799479</td>\n",
       "      <td>31.992578</td>\n",
       "      <td>0.471876</td>\n",
       "      <td>33.240885</td>\n",
       "      <td>0.348958</td>\n",
       "    </tr>\n",
       "    <tr>\n",
       "      <th>std</th>\n",
       "      <td>3.369578</td>\n",
       "      <td>31.972618</td>\n",
       "      <td>19.355807</td>\n",
       "      <td>15.952218</td>\n",
       "      <td>115.244002</td>\n",
       "      <td>7.884160</td>\n",
       "      <td>0.331329</td>\n",
       "      <td>11.760232</td>\n",
       "      <td>0.476951</td>\n",
       "    </tr>\n",
       "    <tr>\n",
       "      <th>min</th>\n",
       "      <td>0.000000</td>\n",
       "      <td>0.000000</td>\n",
       "      <td>0.000000</td>\n",
       "      <td>0.000000</td>\n",
       "      <td>0.000000</td>\n",
       "      <td>0.000000</td>\n",
       "      <td>0.078000</td>\n",
       "      <td>21.000000</td>\n",
       "      <td>0.000000</td>\n",
       "    </tr>\n",
       "    <tr>\n",
       "      <th>25%</th>\n",
       "      <td>1.000000</td>\n",
       "      <td>99.000000</td>\n",
       "      <td>62.000000</td>\n",
       "      <td>0.000000</td>\n",
       "      <td>0.000000</td>\n",
       "      <td>27.300000</td>\n",
       "      <td>0.243750</td>\n",
       "      <td>24.000000</td>\n",
       "      <td>0.000000</td>\n",
       "    </tr>\n",
       "    <tr>\n",
       "      <th>50%</th>\n",
       "      <td>3.000000</td>\n",
       "      <td>117.000000</td>\n",
       "      <td>72.000000</td>\n",
       "      <td>23.000000</td>\n",
       "      <td>30.500000</td>\n",
       "      <td>32.000000</td>\n",
       "      <td>0.372500</td>\n",
       "      <td>29.000000</td>\n",
       "      <td>0.000000</td>\n",
       "    </tr>\n",
       "    <tr>\n",
       "      <th>75%</th>\n",
       "      <td>6.000000</td>\n",
       "      <td>140.250000</td>\n",
       "      <td>80.000000</td>\n",
       "      <td>32.000000</td>\n",
       "      <td>127.250000</td>\n",
       "      <td>36.600000</td>\n",
       "      <td>0.626250</td>\n",
       "      <td>41.000000</td>\n",
       "      <td>1.000000</td>\n",
       "    </tr>\n",
       "    <tr>\n",
       "      <th>max</th>\n",
       "      <td>17.000000</td>\n",
       "      <td>199.000000</td>\n",
       "      <td>122.000000</td>\n",
       "      <td>99.000000</td>\n",
       "      <td>846.000000</td>\n",
       "      <td>67.100000</td>\n",
       "      <td>2.420000</td>\n",
       "      <td>81.000000</td>\n",
       "      <td>1.000000</td>\n",
       "    </tr>\n",
       "  </tbody>\n",
       "</table>\n",
       "</div>"
      ],
      "text/plain": [
       "       Pregnancies     Glucose  BloodPressure  SkinThickness     Insulin  \\\n",
       "count   768.000000  768.000000     768.000000     768.000000  768.000000   \n",
       "mean      3.845052  120.894531      69.105469      20.536458   79.799479   \n",
       "std       3.369578   31.972618      19.355807      15.952218  115.244002   \n",
       "min       0.000000    0.000000       0.000000       0.000000    0.000000   \n",
       "25%       1.000000   99.000000      62.000000       0.000000    0.000000   \n",
       "50%       3.000000  117.000000      72.000000      23.000000   30.500000   \n",
       "75%       6.000000  140.250000      80.000000      32.000000  127.250000   \n",
       "max      17.000000  199.000000     122.000000      99.000000  846.000000   \n",
       "\n",
       "              BMI  DiabetesPedigreeFunction         Age     Outcome  \n",
       "count  768.000000                768.000000  768.000000  768.000000  \n",
       "mean    31.992578                  0.471876   33.240885    0.348958  \n",
       "std      7.884160                  0.331329   11.760232    0.476951  \n",
       "min      0.000000                  0.078000   21.000000    0.000000  \n",
       "25%     27.300000                  0.243750   24.000000    0.000000  \n",
       "50%     32.000000                  0.372500   29.000000    0.000000  \n",
       "75%     36.600000                  0.626250   41.000000    1.000000  \n",
       "max     67.100000                  2.420000   81.000000    1.000000  "
      ]
     },
     "execution_count": 23,
     "metadata": {},
     "output_type": "execute_result"
    }
   ],
   "source": [
    "df.describe()"
   ]
  },
  {
   "cell_type": "markdown",
   "id": "12ada070",
   "metadata": {},
   "source": [
    "ㄴ> 포도당Glucose가 0 ?? 시각화를 해보자"
   ]
  },
  {
   "cell_type": "code",
   "execution_count": 24,
   "id": "c0f97544",
   "metadata": {},
   "outputs": [
    {
     "data": {
      "text/plain": [
       "(array([  5.,   0.,   4.,  32., 156., 211., 163.,  95.,  56.,  46.]),\n",
       " array([  0. ,  19.9,  39.8,  59.7,  79.6,  99.5, 119.4, 139.3, 159.2,\n",
       "        179.1, 199. ]),\n",
       " <BarContainer object of 10 artists>)"
      ]
     },
     "execution_count": 24,
     "metadata": {},
     "output_type": "execute_result"
    },
    {
     "data": {
      "image/png": "[encoded data removed]",
      "text/plain": [
       "<Figure size 432x288 with 1 Axes>"
      ]
     },
     "metadata": {},
     "output_type": "display_data"
    }
   ],
   "source": [
    "plt.hist(df['Glucose'])"
   ]
  },
  {
   "cell_type": "markdown",
   "id": "381a1ade",
   "metadata": {},
   "source": [
    "min()값이 0으로 되어있는 피처에 대해 0값의 건수 및 전체 데이터 건수 대비 몇 퍼센트의 비율로 존재하는지 확인."
   ]
  },
  {
   "cell_type": "code",
   "execution_count": 30,
   "id": "e3007486",
   "metadata": {},
   "outputs": [
    {
     "name": "stdout",
     "output_type": "stream",
     "text": [
      "Glucose 0 건수는 5, 퍼센트는 0.65 %\n",
      "BloodPressure 0 건수는 35, 퍼센트는 4.56 %\n",
      "Insulin 0 건수는 374, 퍼센트는 48.70 %\n",
      "BMI 0 건수는 11, 퍼센트는 1.43 %\n"
     ]
    }
   ],
   "source": [
    "# 0값을 검사할 피처 명 리스트\n",
    "zefo_features =['Glucose','BloodPressure','Insulin','BMI']\n",
    "\n",
    "# 전체 데이터 건 수\n",
    "total_count = df['Glucose'].count()\n",
    "\n",
    "# 피처별로 반복하며 데이터 값이 0인 데이터 건수 추출하고 퍼센트 계산\n",
    "for feature in zefo_features:\n",
    "    zero_count = df[df[feature]==0][feature].count()\n",
    "    print(\"{0} 0 건수는 {1}, 퍼센트는 {2:.2f} %\".format(feature,zero_count,100*zero_count/total_count))"
   ]
  },
  {
   "cell_type": "code",
   "execution_count": null,
   "id": "fd5e4614",
   "metadata": {},
   "outputs": [],
   "source": [
    "# zero_features 리스트 내부에 저장된 개별 피처들에 대해 0값을 평균값으로 대체"
   ]
  },
  {
   "cell_type": "code",
   "execution_count": null,
   "id": "1c31f386",
   "metadata": {},
   "outputs": [],
   "source": []
  },
  {
   "cell_type": "code",
   "execution_count": null,
   "id": "86cb3e17",
   "metadata": {},
   "outputs": [],
   "source": []
  },
  {
   "cell_type": "code",
   "execution_count": null,
   "id": "879ae6c0",
   "metadata": {},
   "outputs": [],
   "source": []
  },
  {
   "cell_type": "code",
   "execution_count": null,
   "id": "d7e5ec78",
   "metadata": {},
   "outputs": [],
   "source": []
  },
  {
   "cell_type": "code",
   "execution_count": null,
   "id": "40fb958c",
   "metadata": {},
   "outputs": [],
   "source": []
  },
  {
   "cell_type": "code",
   "execution_count": null,
   "id": "db3217d0",
   "metadata": {},
   "outputs": [],
   "source": []
  },
  {
   "cell_type": "code",
   "execution_count": null,
   "id": "cf259110",
   "metadata": {},
   "outputs": [],
   "source": []
  }
 ],
 "metadata": {
  "kernelspec": {
   "display_name": "Python 3",
   "language": "python",
   "name": "python3"
  },
  "language_info": {
   "codemirror_mode": {
    "name": "ipython",
    "version": 3
   },
   "file_extension": ".py",
   "mimetype": "text/x-python",
   "name": "python",
   "nbconvert_exporter": "python",
   "pygments_lexer": "ipython3",
   "version": "3.8.8"
  },
  "toc": {
   "base_numbering": 1,
   "nav_menu": {},
   "number_sections": false,
   "sideBar": false,
   "skip_h1_title": false,
   "title_cell": "Table of Contents",
   "title_sidebar": "Contents",
   "toc_cell": false,
   "toc_position": {
    "height": "787px",
    "left": "33px",
    "top": "138px",
    "width": "200px"
   },
   "toc_section_display": true,
   "toc_window_display": true
  }
 },
 "nbformat": 4,
 "nbformat_minor": 5
}
