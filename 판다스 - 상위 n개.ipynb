{
 "cells": [
  {
   "cell_type": "code",
   "execution_count": null,
   "id": "9db9dd7d",
   "metadata": {},
   "outputs": [],
   "source": [
    "import tensorflow as tf\n",
    "import numpy as np\n",
    "import pandas as pd\n",
    "from tensorflow.keras.optimizers import Adam,Adagrad\n",
    "\n",
    "import matplotlib.pyplot as plt\n",
    "import seaborn as sns\n",
    "from sklearn.datasets import load_boston\n",
    "from tensorflow.keras import Sequential\n",
    "from tensorflow.keras.layers import Dense\n",
    "\n",
    "# 관련 라이브러리 임포트 \n",
    "import matplotlib.font_manager as fm\n",
    "plt.rcParams['font.family'] = 'Malgun Gothic'\n",
    "plt.style.use('ggplot')"
   ]
  },
  {
   "cell_type": "markdown",
   "id": "c4671347",
   "metadata": {},
   "source": [
    "# Pandas 기초??\n",
    "\n",
    "## 특정 컬럼을 기준으로 n개 출력\n",
    "df_test.nlargest(n, 컬럼 ,keep=)\n",
    "\n",
    "keep = all 은 동률일경우  모두 출력  \n",
    "keep = last 는 동률인 경우 하나만 출력"
   ]
  },
  {
   "cell_type": "code",
   "execution_count": null,
   "id": "06ada009",
   "metadata": {},
   "outputs": [],
   "source": [
    "data =  {'eng':[10,30,50,70],\n",
    "         'kor':[20,40,60,80],\n",
    "         'math':[90,50,50,70]}\n",
    "df_test = pd.DataFrame(data, index=['a','b','c','d'] )\n",
    "df_test"
   ]
  },
  {
   "cell_type": "code",
   "execution_count": null,
   "id": "0c89250c",
   "metadata": {},
   "outputs": [],
   "source": [
    "# 수학 기준으로 가장 높은 데이터\n",
    "df_test.nlargest(1, 'math')"
   ]
  },
  {
   "cell_type": "code",
   "execution_count": null,
   "id": "f5b273e8",
   "metadata": {},
   "outputs": [],
   "source": [
    "# 수학 기준으로 상위 2개\n",
    "df_test.nlargest(2, 'math')"
   ]
  },
  {
   "cell_type": "code",
   "execution_count": null,
   "id": "24bd7985",
   "metadata": {},
   "outputs": [],
   "source": [
    "# 수학 기준으로 상위 3개\n",
    "df_test.nlargest(3, 'math')"
   ]
  },
  {
   "cell_type": "code",
   "execution_count": null,
   "id": "0423f7c8",
   "metadata": {},
   "outputs": [],
   "source": [
    "# 수학 기준으로 상위 3개 동률인 경우 하나만 출력\n",
    "df_test.nlargest(3, 'math', keep='last')"
   ]
  },
  {
   "cell_type": "code",
   "execution_count": null,
   "id": "e177dfe8",
   "metadata": {},
   "outputs": [],
   "source": [
    "# 수학 기준으로 상위 3개, 동률인겨우 모두 출력\n",
    "df_test.nlargest(3, 'math', keep='all')"
   ]
  },
  {
   "cell_type": "code",
   "execution_count": null,
   "id": "d9306d39",
   "metadata": {},
   "outputs": [],
   "source": [
    "# 수학 기준으로 하위 1개\n",
    "df_test.nsmallest(1, 'math')"
   ]
  },
  {
   "cell_type": "code",
   "execution_count": null,
   "id": "76185301",
   "metadata": {},
   "outputs": [],
   "source": [
    "df.round(3)"
   ]
  }
 ],
 "metadata": {
  "kernelspec": {
   "display_name": "Python 3",
   "language": "python",
   "name": "python3"
  },
  "language_info": {
   "codemirror_mode": {
    "name": "ipython",
    "version": 3
   },
   "file_extension": ".py",
   "mimetype": "text/x-python",
   "name": "python",
   "nbconvert_exporter": "python",
   "pygments_lexer": "ipython3",
   "version": "3.8.8"
  },
  "toc": {
   "base_numbering": 1,
   "nav_menu": {},
   "number_sections": true,
   "sideBar": true,
   "skip_h1_title": false,
   "title_cell": "Table of Contents",
   "title_sidebar": "Contents",
   "toc_cell": false,
   "toc_position": {},
   "toc_section_display": true,
   "toc_window_display": false
  }
 },
 "nbformat": 4,
 "nbformat_minor": 5
}
