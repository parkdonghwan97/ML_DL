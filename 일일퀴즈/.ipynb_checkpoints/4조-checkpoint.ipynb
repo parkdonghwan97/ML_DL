{
 "cells": [
  {
   "cell_type": "code",
   "execution_count": 2,
   "id": "ba8d1e66",
   "metadata": {},
   "outputs": [],
   "source": [
    "import numpy as np\n",
    "import pandas as pd\n",
    "\n",
    "from sklearn.model_selection import train_test_split\n",
    "from sklearn.metrics import accuracy_score\n",
    "from sklearn.preprocessing import MinMaxScaler\n",
    "\n",
    "import tensorflow as tf\n",
    "from tensorflow.keras.optimizers import Adam\n",
    "\n",
    "from sklearn.neural_network import MLPClassifier\n",
    "\n",
    "from tensorflow.keras.layers import Dense, Flatten\n",
    "from tensorflow.keras import Sequential\n",
    "from tensorflow.keras.datasets.mnist import load_data\n",
    "from tensorflow.keras.utils import to_categorical\n",
    "\n",
    "import matplotlib.pyplot as plt\n",
    "\n",
    "\n",
    "plt.style.use('ggplot')\n",
    "\n"
   ]
  },
  {
   "cell_type": "markdown",
   "id": "6430ce7f",
   "metadata": {},
   "source": [
    "1. breast_cancer 데이터셋을 이용하여 딥러닝으로  \n",
    "처리하시요(sklearn, 케라스버전)  \n",
    "1) train, test 분리  \n",
    "2) test 1번째 행 암 여부 예측  \n",
    "3)train, test 정확도 구하기"
   ]
  },
  {
   "cell_type": "markdown",
   "id": "cba9c178",
   "metadata": {},
   "source": [
    "# 1번 퀴즈"
   ]
  },
  {
   "cell_type": "markdown",
   "id": "372e806c",
   "metadata": {},
   "source": [
    "## 데이터 로드"
   ]
  },
  {
   "cell_type": "code",
   "execution_count": 2,
   "id": "be87810c",
   "metadata": {
    "collapsed": true
   },
   "outputs": [
    {
     "data": {
      "text/plain": [
       "{'data': array([[1.799e+01, 1.038e+01, 1.228e+02, ..., 2.654e-01, 4.601e-01,\n",
       "         1.189e-01],\n",
       "        [2.057e+01, 1.777e+01, 1.329e+02, ..., 1.860e-01, 2.750e-01,\n",
       "         8.902e-02],\n",
       "        [1.969e+01, 2.125e+01, 1.300e+02, ..., 2.430e-01, 3.613e-01,\n",
       "         8.758e-02],\n",
       "        ...,\n",
       "        [1.660e+01, 2.808e+01, 1.083e+02, ..., 1.418e-01, 2.218e-01,\n",
       "         7.820e-02],\n",
       "        [2.060e+01, 2.933e+01, 1.401e+02, ..., 2.650e-01, 4.087e-01,\n",
       "         1.240e-01],\n",
       "        [7.760e+00, 2.454e+01, 4.792e+01, ..., 0.000e+00, 2.871e-01,\n",
       "         7.039e-02]]),\n",
       " 'target': array([0, 0, 0, 0, 0, 0, 0, 0, 0, 0, 0, 0, 0, 0, 0, 0, 0, 0, 0, 1, 1, 1,\n",
       "        0, 0, 0, 0, 0, 0, 0, 0, 0, 0, 0, 0, 0, 0, 0, 1, 0, 0, 0, 0, 0, 0,\n",
       "        0, 0, 1, 0, 1, 1, 1, 1, 1, 0, 0, 1, 0, 0, 1, 1, 1, 1, 0, 1, 0, 0,\n",
       "        1, 1, 1, 1, 0, 1, 0, 0, 1, 0, 1, 0, 0, 1, 1, 1, 0, 0, 1, 0, 0, 0,\n",
       "        1, 1, 1, 0, 1, 1, 0, 0, 1, 1, 1, 0, 0, 1, 1, 1, 1, 0, 1, 1, 0, 1,\n",
       "        1, 1, 1, 1, 1, 1, 1, 0, 0, 0, 1, 0, 0, 1, 1, 1, 0, 0, 1, 0, 1, 0,\n",
       "        0, 1, 0, 0, 1, 1, 0, 1, 1, 0, 1, 1, 1, 1, 0, 1, 1, 1, 1, 1, 1, 1,\n",
       "        1, 1, 0, 1, 1, 1, 1, 0, 0, 1, 0, 1, 1, 0, 0, 1, 1, 0, 0, 1, 1, 1,\n",
       "        1, 0, 1, 1, 0, 0, 0, 1, 0, 1, 0, 1, 1, 1, 0, 1, 1, 0, 0, 1, 0, 0,\n",
       "        0, 0, 1, 0, 0, 0, 1, 0, 1, 0, 1, 1, 0, 1, 0, 0, 0, 0, 1, 1, 0, 0,\n",
       "        1, 1, 1, 0, 1, 1, 1, 1, 1, 0, 0, 1, 1, 0, 1, 1, 0, 0, 1, 0, 1, 1,\n",
       "        1, 1, 0, 1, 1, 1, 1, 1, 0, 1, 0, 0, 0, 0, 0, 0, 0, 0, 0, 0, 0, 0,\n",
       "        0, 0, 1, 1, 1, 1, 1, 1, 0, 1, 0, 1, 1, 0, 1, 1, 0, 1, 0, 0, 1, 1,\n",
       "        1, 1, 1, 1, 1, 1, 1, 1, 1, 1, 1, 0, 1, 1, 0, 1, 0, 1, 1, 1, 1, 1,\n",
       "        1, 1, 1, 1, 1, 1, 1, 1, 1, 0, 1, 1, 1, 0, 1, 0, 1, 1, 1, 1, 0, 0,\n",
       "        0, 1, 1, 1, 1, 0, 1, 0, 1, 0, 1, 1, 1, 0, 1, 1, 1, 1, 1, 1, 1, 0,\n",
       "        0, 0, 1, 1, 1, 1, 1, 1, 1, 1, 1, 1, 1, 0, 0, 1, 0, 0, 0, 1, 0, 0,\n",
       "        1, 1, 1, 1, 1, 0, 1, 1, 1, 1, 1, 0, 1, 1, 1, 0, 1, 1, 0, 0, 1, 1,\n",
       "        1, 1, 1, 1, 0, 1, 1, 1, 1, 1, 1, 1, 0, 1, 1, 1, 1, 1, 0, 1, 1, 0,\n",
       "        1, 1, 1, 1, 1, 1, 1, 1, 1, 1, 1, 1, 0, 1, 0, 0, 1, 0, 1, 1, 1, 1,\n",
       "        1, 0, 1, 1, 0, 1, 0, 1, 1, 0, 1, 0, 1, 1, 1, 1, 1, 1, 1, 1, 0, 0,\n",
       "        1, 1, 1, 1, 1, 1, 0, 1, 1, 1, 1, 1, 1, 1, 1, 1, 1, 0, 1, 1, 1, 1,\n",
       "        1, 1, 1, 0, 1, 0, 1, 1, 0, 1, 1, 1, 1, 1, 0, 0, 1, 0, 1, 0, 1, 1,\n",
       "        1, 1, 1, 0, 1, 1, 0, 1, 0, 1, 0, 0, 1, 1, 1, 0, 1, 1, 1, 1, 1, 1,\n",
       "        1, 1, 1, 1, 1, 0, 1, 0, 0, 1, 1, 1, 1, 1, 1, 1, 1, 1, 1, 1, 1, 1,\n",
       "        1, 1, 1, 1, 1, 1, 1, 1, 1, 1, 1, 1, 0, 0, 0, 0, 0, 0, 1]),\n",
       " 'frame': None,\n",
       " 'target_names': array(['malignant', 'benign'], dtype='<U9'),\n",
       " 'DESCR': '.. _breast_cancer_dataset:\\n\\nBreast cancer wisconsin (diagnostic) dataset\\n--------------------------------------------\\n\\n**Data Set Characteristics:**\\n\\n    :Number of Instances: 569\\n\\n    :Number of Attributes: 30 numeric, predictive attributes and the class\\n\\n    :Attribute Information:\\n        - radius (mean of distances from center to points on the perimeter)\\n        - texture (standard deviation of gray-scale values)\\n        - perimeter\\n        - area\\n        - smoothness (local variation in radius lengths)\\n        - compactness (perimeter^2 / area - 1.0)\\n        - concavity (severity of concave portions of the contour)\\n        - concave points (number of concave portions of the contour)\\n        - symmetry\\n        - fractal dimension (\"coastline approximation\" - 1)\\n\\n        The mean, standard error, and \"worst\" or largest (mean of the three\\n        worst/largest values) of these features were computed for each image,\\n        resulting in 30 features.  For instance, field 0 is Mean Radius, field\\n        10 is Radius SE, field 20 is Worst Radius.\\n\\n        - class:\\n                - WDBC-Malignant\\n                - WDBC-Benign\\n\\n    :Summary Statistics:\\n\\n    ===================================== ====== ======\\n                                           Min    Max\\n    ===================================== ====== ======\\n    radius (mean):                        6.981  28.11\\n    texture (mean):                       9.71   39.28\\n    perimeter (mean):                     43.79  188.5\\n    area (mean):                          143.5  2501.0\\n    smoothness (mean):                    0.053  0.163\\n    compactness (mean):                   0.019  0.345\\n    concavity (mean):                     0.0    0.427\\n    concave points (mean):                0.0    0.201\\n    symmetry (mean):                      0.106  0.304\\n    fractal dimension (mean):             0.05   0.097\\n    radius (standard error):              0.112  2.873\\n    texture (standard error):             0.36   4.885\\n    perimeter (standard error):           0.757  21.98\\n    area (standard error):                6.802  542.2\\n    smoothness (standard error):          0.002  0.031\\n    compactness (standard error):         0.002  0.135\\n    concavity (standard error):           0.0    0.396\\n    concave points (standard error):      0.0    0.053\\n    symmetry (standard error):            0.008  0.079\\n    fractal dimension (standard error):   0.001  0.03\\n    radius (worst):                       7.93   36.04\\n    texture (worst):                      12.02  49.54\\n    perimeter (worst):                    50.41  251.2\\n    area (worst):                         185.2  4254.0\\n    smoothness (worst):                   0.071  0.223\\n    compactness (worst):                  0.027  1.058\\n    concavity (worst):                    0.0    1.252\\n    concave points (worst):               0.0    0.291\\n    symmetry (worst):                     0.156  0.664\\n    fractal dimension (worst):            0.055  0.208\\n    ===================================== ====== ======\\n\\n    :Missing Attribute Values: None\\n\\n    :Class Distribution: 212 - Malignant, 357 - Benign\\n\\n    :Creator:  Dr. William H. Wolberg, W. Nick Street, Olvi L. Mangasarian\\n\\n    :Donor: Nick Street\\n\\n    :Date: November, 1995\\n\\nThis is a copy of UCI ML Breast Cancer Wisconsin (Diagnostic) datasets.\\nhttps://goo.gl/U2Uwz2\\n\\nFeatures are computed from a digitized image of a fine needle\\naspirate (FNA) of a breast mass.  They describe\\ncharacteristics of the cell nuclei present in the image.\\n\\nSeparating plane described above was obtained using\\nMultisurface Method-Tree (MSM-T) [K. P. Bennett, \"Decision Tree\\nConstruction Via Linear Programming.\" Proceedings of the 4th\\nMidwest Artificial Intelligence and Cognitive Science Society,\\npp. 97-101, 1992], a classification method which uses linear\\nprogramming to construct a decision tree.  Relevant features\\nwere selected using an exhaustive search in the space of 1-4\\nfeatures and 1-3 separating planes.\\n\\nThe actual linear program used to obtain the separating plane\\nin the 3-dimensional space is that described in:\\n[K. P. Bennett and O. L. Mangasarian: \"Robust Linear\\nProgramming Discrimination of Two Linearly Inseparable Sets\",\\nOptimization Methods and Software 1, 1992, 23-34].\\n\\nThis database is also available through the UW CS ftp server:\\n\\nftp ftp.cs.wisc.edu\\ncd math-prog/cpo-dataset/machine-learn/WDBC/\\n\\n.. topic:: References\\n\\n   - W.N. Street, W.H. Wolberg and O.L. Mangasarian. Nuclear feature extraction \\n     for breast tumor diagnosis. IS&T/SPIE 1993 International Symposium on \\n     Electronic Imaging: Science and Technology, volume 1905, pages 861-870,\\n     San Jose, CA, 1993.\\n   - O.L. Mangasarian, W.N. Street and W.H. Wolberg. Breast cancer diagnosis and \\n     prognosis via linear programming. Operations Research, 43(4), pages 570-577, \\n     July-August 1995.\\n   - W.H. Wolberg, W.N. Street, and O.L. Mangasarian. Machine learning techniques\\n     to diagnose breast cancer from fine-needle aspirates. Cancer Letters 77 (1994) \\n     163-171.',\n",
       " 'feature_names': array(['mean radius', 'mean texture', 'mean perimeter', 'mean area',\n",
       "        'mean smoothness', 'mean compactness', 'mean concavity',\n",
       "        'mean concave points', 'mean symmetry', 'mean fractal dimension',\n",
       "        'radius error', 'texture error', 'perimeter error', 'area error',\n",
       "        'smoothness error', 'compactness error', 'concavity error',\n",
       "        'concave points error', 'symmetry error',\n",
       "        'fractal dimension error', 'worst radius', 'worst texture',\n",
       "        'worst perimeter', 'worst area', 'worst smoothness',\n",
       "        'worst compactness', 'worst concavity', 'worst concave points',\n",
       "        'worst symmetry', 'worst fractal dimension'], dtype='<U23'),\n",
       " 'filename': 'C:\\\\Users\\\\TFG5076XG\\\\anaconda3\\\\lib\\\\site-packages\\\\sklearn\\\\datasets\\\\data\\\\breast_cancer.csv'}"
      ]
     },
     "execution_count": 2,
     "metadata": {},
     "output_type": "execute_result"
    }
   ],
   "source": [
    "from sklearn.datasets import load_breast_cancer\n",
    "cancer = load_breast_cancer()\n",
    "cancer"
   ]
  },
  {
   "cell_type": "code",
   "execution_count": 4,
   "id": "42c6bc81",
   "metadata": {
    "scrolled": true
   },
   "outputs": [
    {
     "data": {
      "text/html": [
       "<div>\n",
       "<style scoped>\n",
       "    .dataframe tbody tr th:only-of-type {\n",
       "        vertical-align: middle;\n",
       "    }\n",
       "\n",
       "    .dataframe tbody tr th {\n",
       "        vertical-align: top;\n",
       "    }\n",
       "\n",
       "    .dataframe thead th {\n",
       "        text-align: right;\n",
       "    }\n",
       "</style>\n",
       "<table border=\"1\" class=\"dataframe\">\n",
       "  <thead>\n",
       "    <tr style=\"text-align: right;\">\n",
       "      <th></th>\n",
       "      <th>mean radius</th>\n",
       "      <th>mean texture</th>\n",
       "      <th>mean perimeter</th>\n",
       "      <th>mean area</th>\n",
       "      <th>mean smoothness</th>\n",
       "      <th>mean compactness</th>\n",
       "      <th>mean concavity</th>\n",
       "      <th>mean concave points</th>\n",
       "      <th>mean symmetry</th>\n",
       "      <th>mean fractal dimension</th>\n",
       "      <th>...</th>\n",
       "      <th>worst texture</th>\n",
       "      <th>worst perimeter</th>\n",
       "      <th>worst area</th>\n",
       "      <th>worst smoothness</th>\n",
       "      <th>worst compactness</th>\n",
       "      <th>worst concavity</th>\n",
       "      <th>worst concave points</th>\n",
       "      <th>worst symmetry</th>\n",
       "      <th>worst fractal dimension</th>\n",
       "      <th>target</th>\n",
       "    </tr>\n",
       "  </thead>\n",
       "  <tbody>\n",
       "    <tr>\n",
       "      <th>0</th>\n",
       "      <td>17.99</td>\n",
       "      <td>10.38</td>\n",
       "      <td>122.8</td>\n",
       "      <td>1001.0</td>\n",
       "      <td>0.11840</td>\n",
       "      <td>0.27760</td>\n",
       "      <td>0.3001</td>\n",
       "      <td>0.14710</td>\n",
       "      <td>0.2419</td>\n",
       "      <td>0.07871</td>\n",
       "      <td>...</td>\n",
       "      <td>17.33</td>\n",
       "      <td>184.6</td>\n",
       "      <td>2019.0</td>\n",
       "      <td>0.1622</td>\n",
       "      <td>0.6656</td>\n",
       "      <td>0.7119</td>\n",
       "      <td>0.2654</td>\n",
       "      <td>0.4601</td>\n",
       "      <td>0.11890</td>\n",
       "      <td>0</td>\n",
       "    </tr>\n",
       "    <tr>\n",
       "      <th>1</th>\n",
       "      <td>20.57</td>\n",
       "      <td>17.77</td>\n",
       "      <td>132.9</td>\n",
       "      <td>1326.0</td>\n",
       "      <td>0.08474</td>\n",
       "      <td>0.07864</td>\n",
       "      <td>0.0869</td>\n",
       "      <td>0.07017</td>\n",
       "      <td>0.1812</td>\n",
       "      <td>0.05667</td>\n",
       "      <td>...</td>\n",
       "      <td>23.41</td>\n",
       "      <td>158.8</td>\n",
       "      <td>1956.0</td>\n",
       "      <td>0.1238</td>\n",
       "      <td>0.1866</td>\n",
       "      <td>0.2416</td>\n",
       "      <td>0.1860</td>\n",
       "      <td>0.2750</td>\n",
       "      <td>0.08902</td>\n",
       "      <td>0</td>\n",
       "    </tr>\n",
       "    <tr>\n",
       "      <th>2</th>\n",
       "      <td>19.69</td>\n",
       "      <td>21.25</td>\n",
       "      <td>130.0</td>\n",
       "      <td>1203.0</td>\n",
       "      <td>0.10960</td>\n",
       "      <td>0.15990</td>\n",
       "      <td>0.1974</td>\n",
       "      <td>0.12790</td>\n",
       "      <td>0.2069</td>\n",
       "      <td>0.05999</td>\n",
       "      <td>...</td>\n",
       "      <td>25.53</td>\n",
       "      <td>152.5</td>\n",
       "      <td>1709.0</td>\n",
       "      <td>0.1444</td>\n",
       "      <td>0.4245</td>\n",
       "      <td>0.4504</td>\n",
       "      <td>0.2430</td>\n",
       "      <td>0.3613</td>\n",
       "      <td>0.08758</td>\n",
       "      <td>0</td>\n",
       "    </tr>\n",
       "  </tbody>\n",
       "</table>\n",
       "<p>3 rows × 31 columns</p>\n",
       "</div>"
      ],
      "text/plain": [
       "   mean radius  mean texture  mean perimeter  mean area  mean smoothness  \\\n",
       "0        17.99         10.38           122.8     1001.0          0.11840   \n",
       "1        20.57         17.77           132.9     1326.0          0.08474   \n",
       "2        19.69         21.25           130.0     1203.0          0.10960   \n",
       "\n",
       "   mean compactness  mean concavity  mean concave points  mean symmetry  \\\n",
       "0           0.27760          0.3001              0.14710         0.2419   \n",
       "1           0.07864          0.0869              0.07017         0.1812   \n",
       "2           0.15990          0.1974              0.12790         0.2069   \n",
       "\n",
       "   mean fractal dimension  ...  worst texture  worst perimeter  worst area  \\\n",
       "0                 0.07871  ...          17.33            184.6      2019.0   \n",
       "1                 0.05667  ...          23.41            158.8      1956.0   \n",
       "2                 0.05999  ...          25.53            152.5      1709.0   \n",
       "\n",
       "   worst smoothness  worst compactness  worst concavity  worst concave points  \\\n",
       "0            0.1622             0.6656           0.7119                0.2654   \n",
       "1            0.1238             0.1866           0.2416                0.1860   \n",
       "2            0.1444             0.4245           0.4504                0.2430   \n",
       "\n",
       "   worst symmetry  worst fractal dimension  target  \n",
       "0          0.4601                  0.11890       0  \n",
       "1          0.2750                  0.08902       0  \n",
       "2          0.3613                  0.08758       0  \n",
       "\n",
       "[3 rows x 31 columns]"
      ]
     },
     "execution_count": 4,
     "metadata": {},
     "output_type": "execute_result"
    }
   ],
   "source": [
    "df = pd.DataFrame(cancer['data'],columns=cancer['feature_names'])\n",
    "df['target'] = cancer['target']\n",
    "df.head(3)"
   ]
  },
  {
   "cell_type": "markdown",
   "id": "09ff1b00",
   "metadata": {},
   "source": [
    "## 스케일링"
   ]
  },
  {
   "cell_type": "code",
   "execution_count": 6,
   "id": "e4b63497",
   "metadata": {},
   "outputs": [],
   "source": [
    "x_data = df.iloc[:,:-1]\n",
    "y_data = df.iloc[:,-1]"
   ]
  },
  {
   "cell_type": "code",
   "execution_count": 7,
   "id": "9b9b1400",
   "metadata": {},
   "outputs": [],
   "source": [
    "scaleF = MinMaxScaler()\n",
    "x_dataN = scaleF.fit_transform(x_data)"
   ]
  },
  {
   "cell_type": "code",
   "execution_count": 9,
   "id": "c3c4e13f",
   "metadata": {},
   "outputs": [],
   "source": [
    "x = tf.constant(x_dataN, tf.float32)\n",
    "y = tf.constant(y_data, tf.float32)"
   ]
  },
  {
   "cell_type": "markdown",
   "id": "b03c678b",
   "metadata": {},
   "source": [
    "## 훈련 검증"
   ]
  },
  {
   "cell_type": "code",
   "execution_count": 10,
   "id": "07a0429e",
   "metadata": {},
   "outputs": [],
   "source": [
    "x_train, x_test, y_train, y_test = train_test_split(x_dataN,y_data,test_size=0.2,stratify=y)"
   ]
  },
  {
   "cell_type": "code",
   "execution_count": 12,
   "id": "5f5aac07",
   "metadata": {},
   "outputs": [
    {
     "data": {
      "text/plain": [
       "((455, 30), (114, 30), (455,), (114,))"
      ]
     },
     "execution_count": 12,
     "metadata": {},
     "output_type": "execute_result"
    }
   ],
   "source": [
    "x_train.shape, x_test.shape,y_train.shape, y_test.shape"
   ]
  },
  {
   "cell_type": "markdown",
   "id": "af389bcb",
   "metadata": {},
   "source": [
    "# Sklearn MLP"
   ]
  },
  {
   "cell_type": "code",
   "execution_count": 13,
   "id": "ff5fb490",
   "metadata": {},
   "outputs": [
    {
     "name": "stdout",
     "output_type": "stream",
     "text": [
      "Iteration 1, loss = 0.67455664\n",
      "Iteration 2, loss = 0.65446872\n",
      "Iteration 3, loss = 0.63655470\n",
      "Iteration 4, loss = 0.61922168\n",
      "Iteration 5, loss = 0.60236931\n",
      "Iteration 6, loss = 0.58599623\n",
      "Iteration 7, loss = 0.57019263\n",
      "Iteration 8, loss = 0.55499703\n",
      "Iteration 9, loss = 0.54051407\n",
      "Iteration 10, loss = 0.52683355\n",
      "Iteration 11, loss = 0.51372652\n",
      "Iteration 12, loss = 0.50147625\n",
      "Iteration 13, loss = 0.48942714\n",
      "Iteration 14, loss = 0.47764178\n",
      "Iteration 15, loss = 0.46564585\n",
      "Iteration 16, loss = 0.45436300\n",
      "Iteration 17, loss = 0.44306430\n",
      "Iteration 18, loss = 0.43186882\n",
      "Iteration 19, loss = 0.42117945\n",
      "Iteration 20, loss = 0.41063077\n",
      "Iteration 21, loss = 0.40032181\n",
      "Iteration 22, loss = 0.39036764\n",
      "Iteration 23, loss = 0.38057297\n",
      "Iteration 24, loss = 0.37128096\n",
      "Iteration 25, loss = 0.36238482\n",
      "Iteration 26, loss = 0.35335527\n",
      "Iteration 27, loss = 0.34430665\n",
      "Iteration 28, loss = 0.33607171\n",
      "Iteration 29, loss = 0.32893706\n",
      "Iteration 30, loss = 0.32208239\n",
      "Iteration 31, loss = 0.31475893\n",
      "Iteration 32, loss = 0.30743856\n",
      "Iteration 33, loss = 0.30045026\n",
      "Iteration 34, loss = 0.29379618\n",
      "Iteration 35, loss = 0.28785841\n",
      "Iteration 36, loss = 0.28186827\n",
      "Iteration 37, loss = 0.27622469\n",
      "Iteration 38, loss = 0.27059635\n",
      "Iteration 39, loss = 0.26510118\n",
      "Iteration 40, loss = 0.25984289\n",
      "Iteration 41, loss = 0.25476367\n",
      "Iteration 42, loss = 0.24975287\n",
      "Iteration 43, loss = 0.24517778\n",
      "Iteration 44, loss = 0.24121931\n",
      "Iteration 45, loss = 0.23709986\n",
      "Iteration 46, loss = 0.23263814\n",
      "Iteration 47, loss = 0.22842419\n",
      "Iteration 48, loss = 0.22519782\n",
      "Iteration 49, loss = 0.22257942\n",
      "Iteration 50, loss = 0.21919175\n",
      "Iteration 51, loss = 0.21526547\n",
      "Iteration 52, loss = 0.21201250\n",
      "Iteration 53, loss = 0.20919866\n",
      "Iteration 54, loss = 0.20622460\n",
      "Iteration 55, loss = 0.20325173\n",
      "Iteration 56, loss = 0.20043658\n",
      "Iteration 57, loss = 0.19769687\n",
      "Iteration 58, loss = 0.19517611\n",
      "Iteration 59, loss = 0.19255571\n",
      "Iteration 60, loss = 0.19004198\n",
      "Iteration 61, loss = 0.18770076\n",
      "Iteration 62, loss = 0.18537090\n",
      "Iteration 63, loss = 0.18332831\n",
      "Iteration 64, loss = 0.18111934\n",
      "Iteration 65, loss = 0.17907590\n",
      "Iteration 66, loss = 0.17676377\n",
      "Iteration 67, loss = 0.17474813\n",
      "Iteration 68, loss = 0.17305862\n",
      "Iteration 69, loss = 0.17124393\n",
      "Iteration 70, loss = 0.16911937\n",
      "Iteration 71, loss = 0.16713557\n",
      "Iteration 72, loss = 0.16541331\n",
      "Iteration 73, loss = 0.16368675\n",
      "Iteration 74, loss = 0.16216712\n",
      "Iteration 75, loss = 0.16060730\n",
      "Iteration 76, loss = 0.15875552\n",
      "Iteration 77, loss = 0.15712145\n",
      "Iteration 78, loss = 0.15598945\n",
      "Iteration 79, loss = 0.15458687\n",
      "Iteration 80, loss = 0.15288157\n",
      "Iteration 81, loss = 0.15126844\n",
      "Iteration 82, loss = 0.15020719\n",
      "Iteration 83, loss = 0.14888166\n",
      "Iteration 84, loss = 0.14807749\n",
      "Iteration 85, loss = 0.14671582\n",
      "Iteration 86, loss = 0.14484031\n",
      "Iteration 87, loss = 0.14320829\n",
      "Iteration 88, loss = 0.14245713\n",
      "Iteration 89, loss = 0.14218408\n",
      "Iteration 90, loss = 0.14097340\n",
      "Iteration 91, loss = 0.13920093\n",
      "Iteration 92, loss = 0.13737619\n",
      "Iteration 93, loss = 0.13665913\n",
      "Iteration 94, loss = 0.13538836\n",
      "Iteration 95, loss = 0.13409741\n",
      "Iteration 96, loss = 0.13303743\n",
      "Iteration 97, loss = 0.13191136\n",
      "Iteration 98, loss = 0.13081044\n",
      "Iteration 99, loss = 0.12977773\n",
      "Iteration 100, loss = 0.12883821\n",
      "Iteration 101, loss = 0.12805226\n",
      "Iteration 102, loss = 0.12722649\n",
      "Iteration 103, loss = 0.12604868\n",
      "Iteration 104, loss = 0.12497585\n",
      "Iteration 105, loss = 0.12400668\n",
      "Iteration 106, loss = 0.12304317\n",
      "Iteration 107, loss = 0.12208471\n",
      "Iteration 108, loss = 0.12120984\n",
      "Iteration 109, loss = 0.12031909\n",
      "Iteration 110, loss = 0.11967595\n",
      "Iteration 111, loss = 0.11866218\n",
      "Iteration 112, loss = 0.11778176\n",
      "Iteration 113, loss = 0.11703993\n",
      "Iteration 114, loss = 0.11668390\n",
      "Iteration 115, loss = 0.11580933\n",
      "Iteration 116, loss = 0.11467312\n",
      "Iteration 117, loss = 0.11373528\n",
      "Iteration 118, loss = 0.11294123\n",
      "Iteration 119, loss = 0.11236386\n",
      "Iteration 120, loss = 0.11151181\n",
      "Iteration 121, loss = 0.11055052\n",
      "Iteration 122, loss = 0.10987546\n",
      "Iteration 123, loss = 0.10920548\n",
      "Iteration 124, loss = 0.10854421\n",
      "Iteration 125, loss = 0.10769125\n",
      "Iteration 126, loss = 0.10706893\n",
      "Iteration 127, loss = 0.10644806\n",
      "Iteration 128, loss = 0.10570516\n",
      "Iteration 129, loss = 0.10495666\n",
      "Iteration 130, loss = 0.10439194\n",
      "Iteration 131, loss = 0.10380707\n",
      "Iteration 132, loss = 0.10312852\n",
      "Iteration 133, loss = 0.10255797\n",
      "Iteration 134, loss = 0.10193282\n",
      "Iteration 135, loss = 0.10184992\n",
      "Iteration 136, loss = 0.10152815\n",
      "Iteration 137, loss = 0.10110794\n",
      "Iteration 138, loss = 0.09972019\n",
      "Iteration 139, loss = 0.09917441\n",
      "Iteration 140, loss = 0.09860875\n",
      "Iteration 141, loss = 0.09814808\n",
      "Iteration 142, loss = 0.09756999\n",
      "Iteration 143, loss = 0.09729669\n",
      "Iteration 144, loss = 0.09656419\n",
      "Iteration 145, loss = 0.09612873\n",
      "Iteration 146, loss = 0.09583142\n",
      "Iteration 147, loss = 0.09516999\n",
      "Iteration 148, loss = 0.09509508\n",
      "Iteration 149, loss = 0.09447945\n",
      "Iteration 150, loss = 0.09404571\n",
      "Iteration 151, loss = 0.09324953\n",
      "Iteration 152, loss = 0.09277041\n",
      "Iteration 153, loss = 0.09264609\n",
      "Iteration 154, loss = 0.09194979\n",
      "Iteration 155, loss = 0.09171333\n",
      "Iteration 156, loss = 0.09140616\n",
      "Iteration 157, loss = 0.09105811\n",
      "Iteration 158, loss = 0.09030211\n",
      "Iteration 159, loss = 0.08976441\n",
      "Iteration 160, loss = 0.08940411\n",
      "Iteration 161, loss = 0.08928322\n",
      "Iteration 162, loss = 0.08893519\n",
      "Iteration 163, loss = 0.08842949\n",
      "Iteration 164, loss = 0.08807211\n",
      "Iteration 165, loss = 0.08753345\n",
      "Iteration 166, loss = 0.08737478\n",
      "Iteration 167, loss = 0.08686508\n",
      "Iteration 168, loss = 0.08649077\n",
      "Iteration 169, loss = 0.08613208\n",
      "Iteration 170, loss = 0.08583032\n",
      "Iteration 171, loss = 0.08545307\n",
      "Iteration 172, loss = 0.08506198\n",
      "Iteration 173, loss = 0.08519519\n",
      "Iteration 174, loss = 0.08490505\n",
      "Iteration 175, loss = 0.08430759\n",
      "Iteration 176, loss = 0.08382914\n",
      "Iteration 177, loss = 0.08357535\n",
      "Iteration 178, loss = 0.08328708\n",
      "Iteration 179, loss = 0.08293429\n",
      "Iteration 180, loss = 0.08252289\n",
      "Iteration 181, loss = 0.08216756\n",
      "Iteration 182, loss = 0.08191772\n",
      "Iteration 183, loss = 0.08181532\n",
      "Iteration 184, loss = 0.08138577\n",
      "Iteration 185, loss = 0.08118246\n",
      "Iteration 186, loss = 0.08046731\n",
      "Iteration 187, loss = 0.08053699\n",
      "Iteration 188, loss = 0.08067002\n",
      "Iteration 189, loss = 0.08033506\n",
      "Iteration 190, loss = 0.07992099\n",
      "Iteration 191, loss = 0.07931438\n",
      "Iteration 192, loss = 0.07916830\n",
      "Iteration 193, loss = 0.07862851\n",
      "Iteration 194, loss = 0.07860265\n",
      "Iteration 195, loss = 0.07841358\n",
      "Iteration 196, loss = 0.07798281\n",
      "Iteration 197, loss = 0.07761451\n",
      "Iteration 198, loss = 0.07743180\n",
      "Iteration 199, loss = 0.07717595\n",
      "Iteration 200, loss = 0.07694486\n",
      "Iteration 201, loss = 0.07651426\n",
      "Iteration 202, loss = 0.07684364\n",
      "Iteration 203, loss = 0.07707191\n",
      "Iteration 204, loss = 0.07653077\n",
      "Iteration 205, loss = 0.07574252\n",
      "Iteration 206, loss = 0.07534203\n",
      "Iteration 207, loss = 0.07619700\n",
      "Iteration 208, loss = 0.07636034\n",
      "Iteration 209, loss = 0.07557855\n",
      "Iteration 210, loss = 0.07484635\n",
      "Iteration 211, loss = 0.07439173\n",
      "Iteration 212, loss = 0.07439788\n",
      "Iteration 213, loss = 0.07429344\n",
      "Iteration 214, loss = 0.07404800\n",
      "Iteration 215, loss = 0.07356605\n",
      "Iteration 216, loss = 0.07356233\n",
      "Iteration 217, loss = 0.07392462\n",
      "Iteration 218, loss = 0.07362800\n",
      "Iteration 219, loss = 0.07290034\n",
      "Iteration 220, loss = 0.07282878\n",
      "Iteration 221, loss = 0.07313876\n",
      "Iteration 222, loss = 0.07305804\n",
      "Iteration 223, loss = 0.07243017\n",
      "Iteration 224, loss = 0.07204467\n",
      "Iteration 225, loss = 0.07189061\n",
      "Iteration 226, loss = 0.07179266\n",
      "Iteration 227, loss = 0.07121848\n",
      "Iteration 228, loss = 0.07204287\n",
      "Iteration 229, loss = 0.07223363\n",
      "Iteration 230, loss = 0.07193666\n",
      "Iteration 231, loss = 0.07077611\n",
      "Iteration 232, loss = 0.07072414\n",
      "Iteration 233, loss = 0.07128329\n",
      "Iteration 234, loss = 0.07133002\n",
      "Iteration 235, loss = 0.07025862\n",
      "Iteration 236, loss = 0.07018496\n",
      "Iteration 237, loss = 0.06999335\n",
      "Iteration 238, loss = 0.07008813\n",
      "Iteration 239, loss = 0.07012542\n",
      "Iteration 240, loss = 0.07010979\n",
      "Iteration 241, loss = 0.06945163\n",
      "Iteration 242, loss = 0.06920433\n",
      "Iteration 243, loss = 0.06928226\n",
      "Iteration 244, loss = 0.06933123\n",
      "Iteration 245, loss = 0.06883241\n",
      "Iteration 246, loss = 0.06831633\n",
      "Iteration 247, loss = 0.06933623\n",
      "Iteration 248, loss = 0.06952970\n",
      "Iteration 249, loss = 0.06877864\n",
      "Iteration 250, loss = 0.06826351\n",
      "Iteration 251, loss = 0.06797058\n",
      "Iteration 252, loss = 0.06794298\n",
      "Iteration 253, loss = 0.06773353\n",
      "Iteration 254, loss = 0.06755180\n",
      "Iteration 255, loss = 0.06747609\n",
      "Iteration 256, loss = 0.06751058\n",
      "Iteration 257, loss = 0.06728004\n",
      "Iteration 258, loss = 0.06706529\n",
      "Iteration 259, loss = 0.06694021\n",
      "Iteration 260, loss = 0.06731631\n",
      "Iteration 261, loss = 0.06773140\n",
      "Iteration 262, loss = 0.06787623\n",
      "Iteration 263, loss = 0.06723028\n",
      "Iteration 264, loss = 0.06702442\n",
      "Iteration 265, loss = 0.06653442\n",
      "Iteration 266, loss = 0.06659366\n",
      "Iteration 267, loss = 0.06646598\n",
      "Iteration 268, loss = 0.06593446\n",
      "Iteration 269, loss = 0.06579524\n",
      "Iteration 270, loss = 0.06567949\n",
      "Iteration 271, loss = 0.06569855\n",
      "Iteration 272, loss = 0.06557256\n",
      "Iteration 273, loss = 0.06539519\n",
      "Iteration 274, loss = 0.06569292\n",
      "Iteration 275, loss = 0.06516720\n",
      "Iteration 276, loss = 0.06501778\n",
      "Iteration 277, loss = 0.06495652\n",
      "Iteration 278, loss = 0.06484802\n",
      "Iteration 279, loss = 0.06469657\n",
      "Iteration 280, loss = 0.06454211\n",
      "Iteration 281, loss = 0.06450698\n",
      "Iteration 282, loss = 0.06453175\n",
      "Iteration 283, loss = 0.06492325\n",
      "Iteration 284, loss = 0.06484912\n",
      "Iteration 285, loss = 0.06395880\n",
      "Iteration 286, loss = 0.06437592\n",
      "Iteration 287, loss = 0.06474223\n",
      "Iteration 288, loss = 0.06454486\n",
      "Iteration 289, loss = 0.06398986\n"
     ]
    },
    {
     "name": "stdout",
     "output_type": "stream",
     "text": [
      "Iteration 290, loss = 0.06359464\n",
      "Iteration 291, loss = 0.06342609\n",
      "Iteration 292, loss = 0.06341367\n",
      "Iteration 293, loss = 0.06383646\n",
      "Iteration 294, loss = 0.06337084\n",
      "Iteration 295, loss = 0.06310335\n",
      "Iteration 296, loss = 0.06298827\n",
      "Iteration 297, loss = 0.06291063\n",
      "Iteration 298, loss = 0.06326680\n",
      "Iteration 299, loss = 0.06297497\n",
      "Iteration 300, loss = 0.06261852\n",
      "Iteration 301, loss = 0.06273732\n",
      "Iteration 302, loss = 0.06292637\n",
      "Iteration 303, loss = 0.06279849\n",
      "Iteration 304, loss = 0.06230507\n",
      "Iteration 305, loss = 0.06263269\n",
      "Iteration 306, loss = 0.06234300\n",
      "Iteration 307, loss = 0.06200956\n",
      "Iteration 308, loss = 0.06190397\n",
      "Iteration 309, loss = 0.06188943\n",
      "Iteration 310, loss = 0.06177624\n",
      "Iteration 311, loss = 0.06187093\n",
      "Iteration 312, loss = 0.06164791\n",
      "Iteration 313, loss = 0.06156643\n",
      "Iteration 314, loss = 0.06137956\n",
      "Iteration 315, loss = 0.06144039\n",
      "Iteration 316, loss = 0.06118866\n",
      "Iteration 317, loss = 0.06141599\n",
      "Iteration 318, loss = 0.06127925\n",
      "Iteration 319, loss = 0.06096660\n",
      "Iteration 320, loss = 0.06098022\n",
      "Iteration 321, loss = 0.06086409\n",
      "Iteration 322, loss = 0.06112188\n",
      "Iteration 323, loss = 0.06118500\n",
      "Iteration 324, loss = 0.06081815\n",
      "Iteration 325, loss = 0.06060900\n",
      "Iteration 326, loss = 0.06050509\n",
      "Iteration 327, loss = 0.06034994\n",
      "Iteration 328, loss = 0.06030748\n",
      "Iteration 329, loss = 0.06041012\n",
      "Iteration 330, loss = 0.06037450\n",
      "Iteration 331, loss = 0.06028517\n",
      "Iteration 332, loss = 0.06000818\n",
      "Iteration 333, loss = 0.06007566\n",
      "Iteration 334, loss = 0.05996823\n",
      "Iteration 335, loss = 0.05976636\n",
      "Iteration 336, loss = 0.05977068\n",
      "Iteration 337, loss = 0.05988378\n",
      "Iteration 338, loss = 0.05976057\n",
      "Iteration 339, loss = 0.05972785\n",
      "Iteration 340, loss = 0.05948156\n",
      "Iteration 341, loss = 0.05937264\n",
      "Iteration 342, loss = 0.05934762\n",
      "Iteration 343, loss = 0.05933660\n",
      "Iteration 344, loss = 0.05909842\n",
      "Iteration 345, loss = 0.05902226\n",
      "Iteration 346, loss = 0.05904171\n",
      "Iteration 347, loss = 0.05887396\n",
      "Iteration 348, loss = 0.05882483\n",
      "Iteration 349, loss = 0.05917843\n",
      "Iteration 350, loss = 0.05961977\n",
      "Iteration 351, loss = 0.05906873\n",
      "Iteration 352, loss = 0.05840404\n",
      "Iteration 353, loss = 0.05987809\n",
      "Iteration 354, loss = 0.05991890\n",
      "Iteration 355, loss = 0.05928856\n",
      "Iteration 356, loss = 0.05840975\n",
      "Iteration 357, loss = 0.05843396\n",
      "Iteration 358, loss = 0.05834345\n",
      "Iteration 359, loss = 0.05831952\n",
      "Iteration 360, loss = 0.05870143\n",
      "Iteration 361, loss = 0.05856636\n",
      "Iteration 362, loss = 0.05858540\n",
      "Iteration 363, loss = 0.05792003\n",
      "Iteration 364, loss = 0.05801285\n",
      "Iteration 365, loss = 0.05812782\n",
      "Iteration 366, loss = 0.05774529\n",
      "Iteration 367, loss = 0.05787716\n",
      "Iteration 368, loss = 0.05771214\n",
      "Iteration 369, loss = 0.05848177\n",
      "Iteration 370, loss = 0.05843433\n",
      "Iteration 371, loss = 0.05790104\n",
      "Iteration 372, loss = 0.05786378\n",
      "Iteration 373, loss = 0.05758343\n",
      "Iteration 374, loss = 0.05745635\n",
      "Iteration 375, loss = 0.05727609\n",
      "Iteration 376, loss = 0.05713486\n",
      "Iteration 377, loss = 0.05709120\n",
      "Iteration 378, loss = 0.05723316\n",
      "Iteration 379, loss = 0.05703375\n",
      "Iteration 380, loss = 0.05704871\n",
      "Iteration 381, loss = 0.05730330\n",
      "Iteration 382, loss = 0.05697777\n",
      "Iteration 383, loss = 0.05666856\n",
      "Iteration 384, loss = 0.05709551\n",
      "Iteration 385, loss = 0.05730820\n",
      "Iteration 386, loss = 0.05711834\n",
      "Iteration 387, loss = 0.05662736\n",
      "Iteration 388, loss = 0.05660536\n",
      "Iteration 389, loss = 0.05643349\n",
      "Iteration 390, loss = 0.05647249\n",
      "Iteration 391, loss = 0.05660344\n",
      "Iteration 392, loss = 0.05641638\n",
      "Iteration 393, loss = 0.05657400\n",
      "Iteration 394, loss = 0.05651214\n",
      "Iteration 395, loss = 0.05687594\n",
      "Iteration 396, loss = 0.05613228\n",
      "Iteration 397, loss = 0.05601808\n",
      "Iteration 398, loss = 0.05607480\n",
      "Iteration 399, loss = 0.05588265\n",
      "Iteration 400, loss = 0.05612857\n",
      "Iteration 401, loss = 0.05633501\n",
      "Iteration 402, loss = 0.05597983\n",
      "Iteration 403, loss = 0.05583091\n",
      "Iteration 404, loss = 0.05570548\n",
      "Iteration 405, loss = 0.05637051\n",
      "Iteration 406, loss = 0.05680264\n",
      "Iteration 407, loss = 0.05605730\n",
      "Iteration 408, loss = 0.05580255\n",
      "Iteration 409, loss = 0.05570750\n",
      "Iteration 410, loss = 0.05558252\n",
      "Iteration 411, loss = 0.05536968\n",
      "Iteration 412, loss = 0.05551423\n",
      "Iteration 413, loss = 0.05544431\n",
      "Iteration 414, loss = 0.05554449\n",
      "Iteration 415, loss = 0.05519795\n",
      "Iteration 416, loss = 0.05524857\n",
      "Iteration 417, loss = 0.05531127\n",
      "Iteration 418, loss = 0.05514866\n",
      "Iteration 419, loss = 0.05497115\n",
      "Iteration 420, loss = 0.05487353\n",
      "Iteration 421, loss = 0.05500960\n",
      "Iteration 422, loss = 0.05545508\n",
      "Iteration 423, loss = 0.05587954\n",
      "Iteration 424, loss = 0.05474186\n",
      "Iteration 425, loss = 0.05466890\n",
      "Iteration 426, loss = 0.05536929\n",
      "Iteration 427, loss = 0.05527480\n",
      "Iteration 428, loss = 0.05595892\n",
      "Iteration 429, loss = 0.05443904\n",
      "Iteration 430, loss = 0.05504273\n",
      "Iteration 431, loss = 0.05524866\n",
      "Iteration 432, loss = 0.05480468\n",
      "Iteration 433, loss = 0.05468668\n",
      "Iteration 434, loss = 0.05453146\n",
      "Iteration 435, loss = 0.05433264\n",
      "Iteration 436, loss = 0.05430672\n",
      "Iteration 437, loss = 0.05455591\n",
      "Iteration 438, loss = 0.05453001\n",
      "Iteration 439, loss = 0.05416592\n",
      "Iteration 440, loss = 0.05413405\n",
      "Iteration 441, loss = 0.05595690\n",
      "Iteration 442, loss = 0.05541423\n",
      "Iteration 443, loss = 0.05401642\n",
      "Iteration 444, loss = 0.05390873\n",
      "Iteration 445, loss = 0.05385070\n",
      "Iteration 446, loss = 0.05424116\n",
      "Iteration 447, loss = 0.05460748\n",
      "Iteration 448, loss = 0.05441447\n",
      "Iteration 449, loss = 0.05422317\n",
      "Iteration 450, loss = 0.05392919\n",
      "Iteration 451, loss = 0.05386860\n",
      "Iteration 452, loss = 0.05380580\n",
      "Iteration 453, loss = 0.05368581\n",
      "Iteration 454, loss = 0.05372603\n",
      "Iteration 455, loss = 0.05362246\n",
      "Iteration 456, loss = 0.05356994\n",
      "Iteration 457, loss = 0.05358699\n",
      "Iteration 458, loss = 0.05343671\n",
      "Iteration 459, loss = 0.05348675\n",
      "Iteration 460, loss = 0.05345617\n",
      "Iteration 461, loss = 0.05353731\n",
      "Iteration 462, loss = 0.05348784\n",
      "Iteration 463, loss = 0.05397713\n",
      "Iteration 464, loss = 0.05321479\n",
      "Iteration 465, loss = 0.05395469\n",
      "Iteration 466, loss = 0.05374602\n",
      "Iteration 467, loss = 0.05294682\n",
      "Iteration 468, loss = 0.05316995\n",
      "Iteration 469, loss = 0.05373020\n",
      "Iteration 470, loss = 0.05339775\n",
      "Iteration 471, loss = 0.05283315\n",
      "Iteration 472, loss = 0.05278956\n",
      "Iteration 473, loss = 0.05374035\n",
      "Iteration 474, loss = 0.05347691\n",
      "Iteration 475, loss = 0.05302359\n",
      "Iteration 476, loss = 0.05281572\n",
      "Iteration 477, loss = 0.05272321\n",
      "Iteration 478, loss = 0.05301397\n",
      "Iteration 479, loss = 0.05291456\n",
      "Iteration 480, loss = 0.05257812\n",
      "Iteration 481, loss = 0.05297949\n",
      "Iteration 482, loss = 0.05268777\n",
      "Iteration 483, loss = 0.05247918\n",
      "Iteration 484, loss = 0.05262816\n",
      "Iteration 485, loss = 0.05229684\n",
      "Iteration 486, loss = 0.05250993\n",
      "Iteration 487, loss = 0.05297386\n",
      "Iteration 488, loss = 0.05286426\n",
      "Iteration 489, loss = 0.05247043\n",
      "Iteration 490, loss = 0.05219658\n",
      "Iteration 491, loss = 0.05232523\n",
      "Iteration 492, loss = 0.05219234\n",
      "Iteration 493, loss = 0.05212249\n",
      "Iteration 494, loss = 0.05212140\n",
      "Iteration 495, loss = 0.05198082\n",
      "Iteration 496, loss = 0.05234042\n",
      "Iteration 497, loss = 0.05189196\n",
      "Iteration 498, loss = 0.05165079\n",
      "Iteration 499, loss = 0.05292215\n",
      "Iteration 500, loss = 0.05351404\n",
      "Iteration 501, loss = 0.05295393\n",
      "Iteration 502, loss = 0.05221678\n",
      "Iteration 503, loss = 0.05195173\n",
      "Iteration 504, loss = 0.05171707\n",
      "Iteration 505, loss = 0.05248539\n",
      "Iteration 506, loss = 0.05188729\n",
      "Iteration 507, loss = 0.05170187\n",
      "Iteration 508, loss = 0.05150357\n",
      "Iteration 509, loss = 0.05170677\n",
      "Iteration 510, loss = 0.05223778\n",
      "Iteration 511, loss = 0.05268526\n",
      "Iteration 512, loss = 0.05272007\n",
      "Iteration 513, loss = 0.05126471\n",
      "Iteration 514, loss = 0.05169199\n",
      "Iteration 515, loss = 0.05190292\n",
      "Iteration 516, loss = 0.05174513\n",
      "Iteration 517, loss = 0.05141271\n",
      "Iteration 518, loss = 0.05147881\n",
      "Iteration 519, loss = 0.05122248\n",
      "Iteration 520, loss = 0.05111080\n",
      "Iteration 521, loss = 0.05105740\n",
      "Iteration 522, loss = 0.05134642\n",
      "Iteration 523, loss = 0.05128218\n",
      "Iteration 524, loss = 0.05083850\n",
      "Iteration 525, loss = 0.05104301\n",
      "Iteration 526, loss = 0.05159092\n",
      "Iteration 527, loss = 0.05193268\n",
      "Iteration 528, loss = 0.05142073\n",
      "Iteration 529, loss = 0.05165111\n",
      "Iteration 530, loss = 0.05083425\n",
      "Iteration 531, loss = 0.05088822\n",
      "Iteration 532, loss = 0.05102910\n",
      "Iteration 533, loss = 0.05099327\n",
      "Iteration 534, loss = 0.05089337\n",
      "Iteration 535, loss = 0.05070454\n",
      "Iteration 536, loss = 0.05068817\n",
      "Iteration 537, loss = 0.05061742\n",
      "Iteration 538, loss = 0.05075854\n",
      "Iteration 539, loss = 0.05058709\n",
      "Iteration 540, loss = 0.05061357\n",
      "Iteration 541, loss = 0.05118505\n",
      "Iteration 542, loss = 0.05141403\n",
      "Iteration 543, loss = 0.05163270\n",
      "Iteration 544, loss = 0.05087214\n",
      "Iteration 545, loss = 0.05051650\n",
      "Iteration 546, loss = 0.05049568\n",
      "Training loss did not improve more than tol=0.000100 for 10 consecutive epochs. Stopping.\n"
     ]
    },
    {
     "data": {
      "text/plain": [
       "MLPClassifier(max_iter=1000, verbose=True)"
      ]
     },
     "execution_count": 13,
     "metadata": {},
     "output_type": "execute_result"
    }
   ],
   "source": [
    "from sklearn.linear_model import LogisticRegression\n",
    "from sklearn.neural_network import MLPClassifier\n",
    "model_mlp = MLPClassifier(hidden_layer_sizes=(100,) ,max_iter=1000,verbose=True  )\n",
    "model_mlp.fit(x_train,y_train)"
   ]
  },
  {
   "cell_type": "code",
   "execution_count": 14,
   "id": "38e9e12f",
   "metadata": {},
   "outputs": [
    {
     "data": {
      "text/plain": [
       "array([1, 0, 1, 0, 0, 1, 1, 1, 0, 1, 0, 0, 0, 1, 0, 1, 1, 1, 1, 1, 1, 1,\n",
       "       1, 0, 1, 1, 1, 1, 1, 0, 1, 1, 0, 0, 0, 1, 1, 1, 0, 0, 1, 1, 1, 1,\n",
       "       1, 0, 1, 1, 1, 1, 1, 1, 1, 1, 1, 0, 1, 1, 1, 1, 0, 1, 1, 1, 1, 1,\n",
       "       1, 0, 1, 1, 0, 1, 0, 0, 0, 0, 1, 1, 0, 1, 0, 0, 0, 0, 1, 1, 1, 1,\n",
       "       0, 1, 0, 0, 0, 1, 0, 1, 0, 0, 1, 0, 1, 1, 1, 1, 0, 1, 1, 0, 1, 1,\n",
       "       0, 1, 0, 1])"
      ]
     },
     "execution_count": 14,
     "metadata": {},
     "output_type": "execute_result"
    }
   ],
   "source": [
    "model_mlp.predict(x_test)"
   ]
  },
  {
   "cell_type": "code",
   "execution_count": 29,
   "id": "6fcdefa9",
   "metadata": {
    "scrolled": false
   },
   "outputs": [
    {
     "data": {
      "text/plain": [
       "array([[1.799e+01, 1.038e+01, 1.228e+02, 1.001e+03, 1.184e-01, 2.776e-01,\n",
       "        3.001e-01, 1.471e-01, 2.419e-01, 7.871e-02, 1.095e+00, 9.053e-01,\n",
       "        8.589e+00, 1.534e+02, 6.399e-03, 4.904e-02, 5.373e-02, 1.587e-02,\n",
       "        3.003e-02, 6.193e-03, 2.538e+01, 1.733e+01, 1.846e+02, 2.019e+03,\n",
       "        1.622e-01, 6.656e-01, 7.119e-01, 2.654e-01, 4.601e-01, 1.189e-01]])"
      ]
     },
     "execution_count": 29,
     "metadata": {},
     "output_type": "execute_result"
    }
   ],
   "source": [
    "np.array(x_data.iloc[0]).reshape(1,-1)"
   ]
  },
  {
   "cell_type": "code",
   "execution_count": 33,
   "id": "2df17053",
   "metadata": {},
   "outputs": [
    {
     "data": {
      "text/plain": [
       "array([[0.52103744, 0.0226581 , 0.54598853, 0.36373277, 0.59375282,\n",
       "        0.7920373 , 0.70313964, 0.73111332, 0.68636364, 0.60551811,\n",
       "        0.35614702, 0.12046941, 0.3690336 , 0.27381126, 0.15929565,\n",
       "        0.35139844, 0.13568182, 0.30062512, 0.31164518, 0.18304244,\n",
       "        0.62077552, 0.14152452, 0.66831017, 0.45069799, 0.60113584,\n",
       "        0.61929156, 0.56861022, 0.91202749, 0.59846245, 0.41886396]])"
      ]
     },
     "execution_count": 33,
     "metadata": {},
     "output_type": "execute_result"
    }
   ],
   "source": [
    "x_dataN[0].reshape(1,-1)"
   ]
  },
  {
   "cell_type": "code",
   "execution_count": 38,
   "id": "2de1acbe",
   "metadata": {},
   "outputs": [
    {
     "data": {
      "text/plain": [
       "array([1.99678167e-01, 6.64863037e-01, 1.85750812e-01, 1.02863203e-01,\n",
       "       1.97345852e-01, 4.96902031e-02, 0.00000000e+00, 0.00000000e+00,\n",
       "       0.00000000e+00, 1.06571188e-01, 7.33659243e-02, 7.81426803e-01,\n",
       "       6.05004005e-02, 2.98992525e-02, 1.99918415e-01, 4.97641722e-02,\n",
       "       0.00000000e+00, 0.00000000e+00, 1.68964935e-01, 3.03400909e-02,\n",
       "       1.41942369e-01, 7.00426439e-01, 1.23412521e-01, 6.25245773e-02,\n",
       "       1.41979793e-01, 2.68261684e-02, 0.00000000e+00, 0.00000000e+00,\n",
       "       1.97122019e-04, 2.63019808e-02])"
      ]
     },
     "execution_count": 38,
     "metadata": {},
     "output_type": "execute_result"
    }
   ],
   "source": [
    "x_test[0]"
   ]
  },
  {
   "cell_type": "code",
   "execution_count": 40,
   "id": "afec52bf",
   "metadata": {
    "scrolled": false
   },
   "outputs": [
    {
     "data": {
      "text/plain": [
       "array([[-3.20948546e-01, -3.05888974e-01, -3.01321603e-01,\n",
       "        -6.08259329e-02,  1.30645348e+00,  9.29703793e-02,\n",
       "         0.00000000e+00,  0.00000000e+00, -5.35353535e-01,\n",
       "         1.19231651e+00, -1.38091891e-02,  9.30929109e-02,\n",
       "        -3.28181501e-02, -1.26487225e-02,  6.73778477e+00,\n",
       "         3.56837295e-01,  0.00000000e+00,  0.00000000e+00,\n",
       "         2.26660290e+00,  1.01727716e+00, -2.77056479e-01,\n",
       "        -3.01694391e-01, -2.50443685e-01, -4.55017389e-02,\n",
       "         4.67607427e-01, -4.50011769e-04,  0.00000000e+00,\n",
       "         0.00000000e+00, -3.08107388e-01, -1.88495469e-01]])"
      ]
     },
     "execution_count": 40,
     "metadata": {},
     "output_type": "execute_result"
    }
   ],
   "source": [
    "scaleF.transform([x_test[0]])"
   ]
  },
  {
   "cell_type": "markdown",
   "id": "78b0d7b0",
   "metadata": {},
   "source": [
    "## 첫 행 예측"
   ]
  },
  {
   "cell_type": "code",
   "execution_count": 41,
   "id": "3c671af9",
   "metadata": {},
   "outputs": [
    {
     "data": {
      "text/plain": [
       "array([1])"
      ]
     },
     "execution_count": 41,
     "metadata": {},
     "output_type": "execute_result"
    }
   ],
   "source": [
    "model_mlp.predict(scaleF.transform([x_test[0]]))"
   ]
  },
  {
   "cell_type": "markdown",
   "id": "c6319cfe",
   "metadata": {},
   "source": [
    "\n",
    "## 훈련, 테스트 정확도"
   ]
  },
  {
   "cell_type": "code",
   "execution_count": 42,
   "id": "7dc22077",
   "metadata": {},
   "outputs": [
    {
     "data": {
      "text/plain": [
       "0.989010989010989"
      ]
     },
     "execution_count": 42,
     "metadata": {},
     "output_type": "execute_result"
    }
   ],
   "source": [
    "model_mlp.score(x_train,y_train)"
   ]
  },
  {
   "cell_type": "code",
   "execution_count": 43,
   "id": "7ae2a741",
   "metadata": {},
   "outputs": [
    {
     "data": {
      "text/plain": [
       "0.9912280701754386"
      ]
     },
     "execution_count": 43,
     "metadata": {},
     "output_type": "execute_result"
    }
   ],
   "source": [
    "model_mlp.score(x_test,y_test)"
   ]
  },
  {
   "cell_type": "markdown",
   "id": "83695440",
   "metadata": {},
   "source": [
    "# 케라스"
   ]
  },
  {
   "cell_type": "code",
   "execution_count": 44,
   "id": "fa26548f",
   "metadata": {},
   "outputs": [
    {
     "name": "stdout",
     "output_type": "stream",
     "text": [
      "Epoch 1/10\n",
      "15/15 [==============================] - 0s 926us/step - loss: 0.6745 - acc: 0.6264\n",
      "Epoch 2/10\n",
      "15/15 [==============================] - 0s 855us/step - loss: 0.6155 - acc: 0.7560\n",
      "Epoch 3/10\n",
      "15/15 [==============================] - 0s 784us/step - loss: 0.5551 - acc: 0.8066\n",
      "Epoch 4/10\n",
      "15/15 [==============================] - 0s 855us/step - loss: 0.4838 - acc: 0.8571\n",
      "Epoch 5/10\n",
      "15/15 [==============================] - 0s 712us/step - loss: 0.4074 - acc: 0.8813\n",
      "Epoch 6/10\n",
      "15/15 [==============================] - 0s 712us/step - loss: 0.3359 - acc: 0.9165\n",
      "Epoch 7/10\n",
      "15/15 [==============================] - 0s 784us/step - loss: 0.2794 - acc: 0.9143\n",
      "Epoch 8/10\n",
      "15/15 [==============================] - 0s 712us/step - loss: 0.2426 - acc: 0.9143\n",
      "Epoch 9/10\n",
      "15/15 [==============================] - 0s 712us/step - loss: 0.2103 - acc: 0.9077\n",
      "Epoch 10/10\n",
      "15/15 [==============================] - 0s 783us/step - loss: 0.1878 - acc: 0.9253\n"
     ]
    },
    {
     "data": {
      "text/plain": [
       "<keras.callbacks.History at 0x27567f743a0>"
      ]
     },
     "execution_count": 44,
     "metadata": {},
     "output_type": "execute_result"
    }
   ],
   "source": [
    "modelNN = Sequential()\n",
    "modelNN.add( Dense( units=64, activation='relu' ) )\n",
    "modelNN.add( Dense( units=32, activation='relu' ) )\n",
    "modelNN.add( Dense( units=1, activation='sigmoid' ) )\n",
    "modelNN.compile( loss='binary_crossentropy', optimizer='adam',metrics=['acc'])\n",
    "                                                                         \n",
    "modelNN.fit( x_train, y_train, epochs = 10)                    "
   ]
  },
  {
   "cell_type": "markdown",
   "id": "9f74b25e",
   "metadata": {},
   "source": [
    "## 첫 행 예측\n"
   ]
  },
  {
   "cell_type": "code",
   "execution_count": 46,
   "id": "fcbeab0f",
   "metadata": {},
   "outputs": [
    {
     "data": {
      "text/plain": [
       "array([[1.]], dtype=float32)"
      ]
     },
     "execution_count": 46,
     "metadata": {},
     "output_type": "execute_result"
    }
   ],
   "source": [
    "modelNN.predict(scaleF.transform([x_test[0]]))"
   ]
  },
  {
   "cell_type": "markdown",
   "id": "d4ac2773",
   "metadata": {},
   "source": [
    "##  훈련 테스트 정확도"
   ]
  },
  {
   "cell_type": "code",
   "execution_count": 47,
   "id": "f72981eb",
   "metadata": {},
   "outputs": [
    {
     "name": "stdout",
     "output_type": "stream",
     "text": [
      "15/15 [==============================] - 0s 551us/step - loss: 0.1771 - acc: 0.9231\n"
     ]
    },
    {
     "data": {
      "text/plain": [
       "[0.17708858847618103, 0.9230769276618958]"
      ]
     },
     "execution_count": 47,
     "metadata": {},
     "output_type": "execute_result"
    }
   ],
   "source": [
    "modelNN.evaluate(x_train,y_train)"
   ]
  },
  {
   "cell_type": "code",
   "execution_count": 48,
   "id": "d79f2e9f",
   "metadata": {},
   "outputs": [
    {
     "name": "stdout",
     "output_type": "stream",
     "text": [
      "4/4 [==============================] - 0s 997us/step - loss: 0.1835 - acc: 0.9211\n"
     ]
    },
    {
     "data": {
      "text/plain": [
       "[0.18354715406894684, 0.9210526347160339]"
      ]
     },
     "execution_count": 48,
     "metadata": {},
     "output_type": "execute_result"
    }
   ],
   "source": [
    "modelNN.evaluate(x_test,y_test)"
   ]
  },
  {
   "cell_type": "markdown",
   "id": "2d016df2",
   "metadata": {},
   "source": [
    "# 2번 퀴즈\n",
    "```\n",
    "2. fashion_mnist 데이터셋을 이용하여 딥러닝으로 처리하시요\n",
    "(sklearn, 케라스버전)\n",
    "1) test 1번째 이미지 예측\n",
    "2) train, test 정확도 구하기\n",
    "0 : T-shirt/top\n",
    "1 : Trouser\n",
    "2 : Pullover\n",
    "3 : Dress\n",
    "4 : Coat\n",
    "5 : Sandal\n",
    "6 : Shirt\n",
    "7 : Sneaker\n",
    "8 : Bag\n",
    "9 : Ankel boot\n",
    "```"
   ]
  },
  {
   "cell_type": "markdown",
   "id": "447c9604",
   "metadata": {},
   "source": [
    "# Sklearn MLP"
   ]
  },
  {
   "cell_type": "code",
   "execution_count": 49,
   "id": "fccb1cbe",
   "metadata": {},
   "outputs": [
    {
     "data": {
      "text/plain": [
       "((array([[[0, 0, 0, ..., 0, 0, 0],\n",
       "          [0, 0, 0, ..., 0, 0, 0],\n",
       "          [0, 0, 0, ..., 0, 0, 0],\n",
       "          ...,\n",
       "          [0, 0, 0, ..., 0, 0, 0],\n",
       "          [0, 0, 0, ..., 0, 0, 0],\n",
       "          [0, 0, 0, ..., 0, 0, 0]],\n",
       "  \n",
       "         [[0, 0, 0, ..., 0, 0, 0],\n",
       "          [0, 0, 0, ..., 0, 0, 0],\n",
       "          [0, 0, 0, ..., 0, 0, 0],\n",
       "          ...,\n",
       "          [0, 0, 0, ..., 0, 0, 0],\n",
       "          [0, 0, 0, ..., 0, 0, 0],\n",
       "          [0, 0, 0, ..., 0, 0, 0]],\n",
       "  \n",
       "         [[0, 0, 0, ..., 0, 0, 0],\n",
       "          [0, 0, 0, ..., 0, 0, 0],\n",
       "          [0, 0, 0, ..., 0, 0, 0],\n",
       "          ...,\n",
       "          [0, 0, 0, ..., 0, 0, 0],\n",
       "          [0, 0, 0, ..., 0, 0, 0],\n",
       "          [0, 0, 0, ..., 0, 0, 0]],\n",
       "  \n",
       "         ...,\n",
       "  \n",
       "         [[0, 0, 0, ..., 0, 0, 0],\n",
       "          [0, 0, 0, ..., 0, 0, 0],\n",
       "          [0, 0, 0, ..., 0, 0, 0],\n",
       "          ...,\n",
       "          [0, 0, 0, ..., 0, 0, 0],\n",
       "          [0, 0, 0, ..., 0, 0, 0],\n",
       "          [0, 0, 0, ..., 0, 0, 0]],\n",
       "  \n",
       "         [[0, 0, 0, ..., 0, 0, 0],\n",
       "          [0, 0, 0, ..., 0, 0, 0],\n",
       "          [0, 0, 0, ..., 0, 0, 0],\n",
       "          ...,\n",
       "          [0, 0, 0, ..., 0, 0, 0],\n",
       "          [0, 0, 0, ..., 0, 0, 0],\n",
       "          [0, 0, 0, ..., 0, 0, 0]],\n",
       "  \n",
       "         [[0, 0, 0, ..., 0, 0, 0],\n",
       "          [0, 0, 0, ..., 0, 0, 0],\n",
       "          [0, 0, 0, ..., 0, 0, 0],\n",
       "          ...,\n",
       "          [0, 0, 0, ..., 0, 0, 0],\n",
       "          [0, 0, 0, ..., 0, 0, 0],\n",
       "          [0, 0, 0, ..., 0, 0, 0]]], dtype=uint8),\n",
       "  array([9, 0, 0, ..., 3, 0, 5], dtype=uint8)),\n",
       " (array([[[0, 0, 0, ..., 0, 0, 0],\n",
       "          [0, 0, 0, ..., 0, 0, 0],\n",
       "          [0, 0, 0, ..., 0, 0, 0],\n",
       "          ...,\n",
       "          [0, 0, 0, ..., 0, 0, 0],\n",
       "          [0, 0, 0, ..., 0, 0, 0],\n",
       "          [0, 0, 0, ..., 0, 0, 0]],\n",
       "  \n",
       "         [[0, 0, 0, ..., 0, 0, 0],\n",
       "          [0, 0, 0, ..., 0, 0, 0],\n",
       "          [0, 0, 0, ..., 0, 0, 0],\n",
       "          ...,\n",
       "          [0, 0, 0, ..., 0, 0, 0],\n",
       "          [0, 0, 0, ..., 0, 0, 0],\n",
       "          [0, 0, 0, ..., 0, 0, 0]],\n",
       "  \n",
       "         [[0, 0, 0, ..., 0, 0, 0],\n",
       "          [0, 0, 0, ..., 0, 0, 0],\n",
       "          [0, 0, 0, ..., 0, 0, 0],\n",
       "          ...,\n",
       "          [0, 0, 0, ..., 0, 0, 0],\n",
       "          [0, 0, 0, ..., 0, 0, 0],\n",
       "          [0, 0, 0, ..., 0, 0, 0]],\n",
       "  \n",
       "         ...,\n",
       "  \n",
       "         [[0, 0, 0, ..., 0, 0, 0],\n",
       "          [0, 0, 0, ..., 0, 0, 0],\n",
       "          [0, 0, 0, ..., 0, 0, 0],\n",
       "          ...,\n",
       "          [0, 0, 0, ..., 0, 0, 0],\n",
       "          [0, 0, 0, ..., 0, 0, 0],\n",
       "          [0, 0, 0, ..., 0, 0, 0]],\n",
       "  \n",
       "         [[0, 0, 0, ..., 0, 0, 0],\n",
       "          [0, 0, 0, ..., 0, 0, 0],\n",
       "          [0, 0, 0, ..., 0, 0, 0],\n",
       "          ...,\n",
       "          [0, 0, 0, ..., 0, 0, 0],\n",
       "          [0, 0, 0, ..., 0, 0, 0],\n",
       "          [0, 0, 0, ..., 0, 0, 0]],\n",
       "  \n",
       "         [[0, 0, 0, ..., 0, 0, 0],\n",
       "          [0, 0, 0, ..., 0, 0, 0],\n",
       "          [0, 0, 0, ..., 0, 0, 0],\n",
       "          ...,\n",
       "          [0, 0, 0, ..., 0, 0, 0],\n",
       "          [0, 0, 0, ..., 0, 0, 0],\n",
       "          [0, 0, 0, ..., 0, 0, 0]]], dtype=uint8),\n",
       "  array([9, 2, 1, ..., 8, 1, 5], dtype=uint8)))"
      ]
     },
     "execution_count": 49,
     "metadata": {},
     "output_type": "execute_result"
    }
   ],
   "source": [
    "from tensorflow.keras.datasets.fashion_mnist import load_data\n",
    "mnist = load_data()\n",
    "mnist"
   ]
  },
  {
   "cell_type": "markdown",
   "id": "0ee9a7e6",
   "metadata": {},
   "source": [
    "## 훈련 검증"
   ]
  },
  {
   "cell_type": "code",
   "execution_count": 67,
   "id": "8f3b75f3",
   "metadata": {},
   "outputs": [],
   "source": [
    "(x_train, y_train), (x_test, y_test) = mnist"
   ]
  },
  {
   "cell_type": "code",
   "execution_count": 68,
   "id": "acfb1b0e",
   "metadata": {},
   "outputs": [
    {
     "data": {
      "text/plain": [
       "((60000, 28, 28), (10000, 28, 28), (10000,), (10000,))"
      ]
     },
     "execution_count": 68,
     "metadata": {},
     "output_type": "execute_result"
    }
   ],
   "source": [
    "x_train.shape,x_test.shape,y_test.shape , y_test.shape"
   ]
  },
  {
   "cell_type": "code",
   "execution_count": 69,
   "id": "ace3b0ee",
   "metadata": {},
   "outputs": [
    {
     "data": {
      "text/plain": [
       "(60000, 784)"
      ]
     },
     "execution_count": 69,
     "metadata": {},
     "output_type": "execute_result"
    }
   ],
   "source": [
    "x_train.reshape(60000,-1).shape"
   ]
  },
  {
   "cell_type": "code",
   "execution_count": 70,
   "id": "ab74a63e",
   "metadata": {
    "scrolled": false
   },
   "outputs": [
    {
     "name": "stdout",
     "output_type": "stream",
     "text": [
      "Iteration 1, loss = 5.38932558\n",
      "Iteration 2, loss = 1.19527937\n",
      "Iteration 3, loss = 0.79885190\n",
      "Iteration 4, loss = 0.68856957\n",
      "Iteration 5, loss = 0.62238057\n",
      "Iteration 6, loss = 0.58393227\n",
      "Iteration 7, loss = 0.54830582\n",
      "Iteration 8, loss = 0.50600126\n",
      "Iteration 9, loss = 0.47890802\n",
      "Iteration 10, loss = 0.44767311\n",
      "Iteration 11, loss = 0.43123315\n",
      "Iteration 12, loss = 0.41660778\n",
      "Iteration 13, loss = 0.39930476\n",
      "Iteration 14, loss = 0.38721944\n",
      "Iteration 15, loss = 0.38061301\n",
      "Iteration 16, loss = 0.37766950\n",
      "Iteration 17, loss = 0.37437769\n",
      "Iteration 18, loss = 0.36307941\n",
      "Iteration 19, loss = 0.36265773\n",
      "Iteration 20, loss = 0.35781692\n",
      "Iteration 21, loss = 0.35417307\n",
      "Iteration 22, loss = 0.36332353\n",
      "Iteration 23, loss = 0.35322540\n",
      "Iteration 24, loss = 0.34689153\n",
      "Iteration 25, loss = 0.35406182\n",
      "Iteration 26, loss = 0.34127772\n",
      "Iteration 27, loss = 0.33717350\n",
      "Iteration 28, loss = 0.33584680\n",
      "Iteration 29, loss = 0.33304167\n",
      "Iteration 30, loss = 0.33176975\n",
      "Iteration 31, loss = 0.32871828\n",
      "Iteration 32, loss = 0.33127021\n",
      "Iteration 33, loss = 0.32609902\n",
      "Iteration 34, loss = 0.32527879\n",
      "Iteration 35, loss = 0.33107634\n",
      "Iteration 36, loss = 0.32129015\n",
      "Iteration 37, loss = 0.32100872\n",
      "Iteration 38, loss = 0.32010488\n",
      "Iteration 39, loss = 0.32111710\n",
      "Iteration 40, loss = 0.31980277\n",
      "Iteration 41, loss = 0.31520057\n",
      "Iteration 42, loss = 0.30850543\n",
      "Iteration 43, loss = 0.31235042\n",
      "Iteration 44, loss = 0.31474672\n",
      "Iteration 45, loss = 0.31143352\n",
      "Iteration 46, loss = 0.30879630\n",
      "Iteration 47, loss = 0.30615109\n",
      "Iteration 48, loss = 0.31034039\n",
      "Iteration 49, loss = 0.31072270\n",
      "Iteration 50, loss = 0.30968535\n",
      "Iteration 51, loss = 0.30586181\n",
      "Iteration 52, loss = 0.30077034\n",
      "Iteration 53, loss = 0.30668153\n",
      "Iteration 54, loss = 0.29702714\n",
      "Iteration 55, loss = 0.30053873\n",
      "Iteration 56, loss = 0.29832637\n",
      "Iteration 57, loss = 0.29820460\n",
      "Iteration 58, loss = 0.29933492\n",
      "Iteration 59, loss = 0.30132266\n",
      "Iteration 60, loss = 0.30593336\n",
      "Iteration 61, loss = 0.29592152\n",
      "Iteration 62, loss = 0.28999810\n",
      "Iteration 63, loss = 0.29810313\n",
      "Iteration 64, loss = 0.29954018\n",
      "Iteration 65, loss = 0.29173976\n",
      "Iteration 66, loss = 0.29091041\n",
      "Iteration 67, loss = 0.29778359\n",
      "Iteration 68, loss = 0.29679943\n",
      "Iteration 69, loss = 0.29225863\n",
      "Iteration 70, loss = 0.28835383\n",
      "Iteration 71, loss = 0.28518189\n",
      "Iteration 72, loss = 0.29749872\n",
      "Iteration 73, loss = 0.29366803\n",
      "Iteration 74, loss = 0.28527903\n",
      "Iteration 75, loss = 0.28667374\n",
      "Iteration 76, loss = 0.28775839\n",
      "Iteration 77, loss = 0.29063195\n",
      "Iteration 78, loss = 0.28274760\n",
      "Iteration 79, loss = 0.28223388\n",
      "Iteration 80, loss = 0.28839986\n",
      "Iteration 81, loss = 0.28176809\n",
      "Iteration 82, loss = 0.29079597\n",
      "Iteration 83, loss = 0.28377165\n",
      "Iteration 84, loss = 0.28396982\n",
      "Iteration 85, loss = 0.29515903\n",
      "Iteration 86, loss = 0.28522464\n",
      "Iteration 87, loss = 0.28232406\n",
      "Iteration 88, loss = 0.28265923\n",
      "Iteration 89, loss = 0.28532137\n",
      "Iteration 90, loss = 0.27846449\n",
      "Iteration 91, loss = 0.29492559\n",
      "Iteration 92, loss = 0.27857918\n",
      "Iteration 93, loss = 0.29053129\n",
      "Iteration 94, loss = 0.28479500\n",
      "Iteration 95, loss = 0.27829575\n",
      "Iteration 96, loss = 0.27610828\n",
      "Iteration 97, loss = 0.28326256\n",
      "Iteration 98, loss = 0.28181776\n",
      "Iteration 99, loss = 0.27810283\n",
      "Iteration 100, loss = 0.27548358\n",
      "Iteration 101, loss = 0.28246229\n",
      "Iteration 102, loss = 0.28823628\n",
      "Iteration 103, loss = 0.27514130\n",
      "Iteration 104, loss = 0.27770847\n",
      "Iteration 105, loss = 0.28077986\n",
      "Iteration 106, loss = 0.27223559\n",
      "Iteration 107, loss = 0.27273142\n",
      "Iteration 108, loss = 0.27603386\n",
      "Iteration 109, loss = 0.27788440\n",
      "Iteration 110, loss = 0.27656986\n",
      "Iteration 111, loss = 0.28143903\n",
      "Iteration 112, loss = 0.27342435\n",
      "Iteration 113, loss = 0.27261297\n",
      "Iteration 114, loss = 0.27451686\n",
      "Iteration 115, loss = 0.27684424\n",
      "Iteration 116, loss = 0.26724150\n",
      "Iteration 117, loss = 0.26771957\n",
      "Iteration 118, loss = 0.28417182\n",
      "Iteration 119, loss = 0.26980397\n",
      "Iteration 120, loss = 0.27509391\n",
      "Iteration 121, loss = 0.27294630\n",
      "Iteration 122, loss = 0.27406021\n",
      "Iteration 123, loss = 0.27288645\n",
      "Iteration 124, loss = 0.27969366\n",
      "Iteration 125, loss = 0.27095689\n",
      "Iteration 126, loss = 0.27422190\n",
      "Iteration 127, loss = 0.27779681\n",
      "Training loss did not improve more than tol=0.000100 for 10 consecutive epochs. Stopping.\n"
     ]
    },
    {
     "data": {
      "text/plain": [
       "MLPClassifier(max_iter=1000, verbose=True)"
      ]
     },
     "execution_count": 70,
     "metadata": {},
     "output_type": "execute_result"
    }
   ],
   "source": [
    "model_mlp = MLPClassifier( hidden_layer_sizes=(100,), max_iter=1000, verbose=True)\n",
    "model_mlp.fit( x_train.reshape(60000, 28*28), y_train )"
   ]
  },
  {
   "cell_type": "markdown",
   "id": "bd8412bd",
   "metadata": {},
   "source": [
    "## test 1 이미지"
   ]
  },
  {
   "cell_type": "code",
   "execution_count": 71,
   "id": "3b2703f4",
   "metadata": {},
   "outputs": [
    {
     "data": {
      "text/plain": [
       "array([9], dtype=uint8)"
      ]
     },
     "execution_count": 71,
     "metadata": {},
     "output_type": "execute_result"
    }
   ],
   "source": [
    "model_mlp.predict(x_test[0].reshape(1, -1))\n",
    "\n",
    "# 9 - > 부츠"
   ]
  },
  {
   "cell_type": "code",
   "execution_count": 72,
   "id": "f6c21980",
   "metadata": {},
   "outputs": [
    {
     "data": {
      "image/png": "[encoded data removed]",
      "text/plain": [
       "<Figure size 432x288 with 1 Axes>"
      ]
     },
     "metadata": {},
     "output_type": "display_data"
    }
   ],
   "source": [
    "plt.imshow(x_test[0])   # [면, 행, 열]\n",
    "plt.show()"
   ]
  },
  {
   "cell_type": "markdown",
   "id": "0383459c",
   "metadata": {},
   "source": [
    "## 훈련 , 테스트 정확도"
   ]
  },
  {
   "cell_type": "code",
   "execution_count": 73,
   "id": "9cc77542",
   "metadata": {},
   "outputs": [
    {
     "data": {
      "text/plain": [
       "((60000, 28, 28), (10000, 28, 28))"
      ]
     },
     "execution_count": 73,
     "metadata": {},
     "output_type": "execute_result"
    }
   ],
   "source": [
    "x_train.shape,x_test.shape"
   ]
  },
  {
   "cell_type": "code",
   "execution_count": 74,
   "id": "e16563e0",
   "metadata": {},
   "outputs": [
    {
     "data": {
      "text/plain": [
       "0.8961166666666667"
      ]
     },
     "execution_count": 74,
     "metadata": {},
     "output_type": "execute_result"
    }
   ],
   "source": [
    "model_mlp.score(x_train.reshape(60000,28*28),y_train)"
   ]
  },
  {
   "cell_type": "code",
   "execution_count": 75,
   "id": "7001d819",
   "metadata": {},
   "outputs": [
    {
     "data": {
      "text/plain": [
       "0.8512"
      ]
     },
     "execution_count": 75,
     "metadata": {},
     "output_type": "execute_result"
    }
   ],
   "source": [
    "model_mlp.score(x_test.reshape(-1,28*28),y_test)"
   ]
  },
  {
   "cell_type": "markdown",
   "id": "d304347f",
   "metadata": {},
   "source": [
    "# 케라스"
   ]
  },
  {
   "cell_type": "code",
   "execution_count": 55,
   "id": "e0fcca96",
   "metadata": {},
   "outputs": [
    {
     "name": "stdout",
     "output_type": "stream",
     "text": [
      "Epoch 1/10\n",
      "1875/1875 [==============================] - 2s 804us/step - loss: 1.8585 - acc: 0.6015\n",
      "Epoch 2/10\n",
      "1875/1875 [==============================] - 1s 791us/step - loss: 0.7395 - acc: 0.7054\n",
      "Epoch 3/10\n",
      "1875/1875 [==============================] - 1s 793us/step - loss: 0.6231 - acc: 0.7631\n",
      "Epoch 4/10\n",
      "1875/1875 [==============================] - 2s 805us/step - loss: 0.5378 - acc: 0.8099\n",
      "Epoch 5/10\n",
      "1875/1875 [==============================] - 1s 791us/step - loss: 0.4947 - acc: 0.8235\n",
      "Epoch 6/10\n",
      "1875/1875 [==============================] - 1s 798us/step - loss: 0.4612 - acc: 0.8363\n",
      "Epoch 7/10\n",
      "1875/1875 [==============================] - 1s 791us/step - loss: 0.4345 - acc: 0.8456\n",
      "Epoch 8/10\n",
      "1875/1875 [==============================] - 2s 801us/step - loss: 0.4053 - acc: 0.8565\n",
      "Epoch 9/10\n",
      "1875/1875 [==============================] - 1s 796us/step - loss: 0.3971 - acc: 0.8573\n",
      "Epoch 10/10\n",
      "1875/1875 [==============================] - 2s 805us/step - loss: 0.3810 - acc: 0.8640\n"
     ]
    },
    {
     "data": {
      "text/plain": [
       "<keras.callbacks.History at 0x275699d4ee0>"
      ]
     },
     "execution_count": 55,
     "metadata": {},
     "output_type": "execute_result"
    }
   ],
   "source": [
    "# flatten 쓰면 인코딩 안해도됨. 3차원 데이터\n",
    "model = Sequential()\n",
    "model.add(Flatten(input_shape = (28,28)))\n",
    "model.add(Dense(units=64,  activation='relu' )  )\n",
    "model.add(Dense(units=32,  activation='relu' )  )\n",
    "model.add(Dense(units=10,  activation='softmax' )  )\n",
    "\n",
    "model.compile(loss = 'sparse_categorical_crossentropy',optimizer='adam',metrics=['acc'])\n",
    "model.fit(x_train, y_train,epochs=10)"
   ]
  },
  {
   "cell_type": "markdown",
   "id": "cbd0639e",
   "metadata": {},
   "source": [
    "##  test 1 이미지"
   ]
  },
  {
   "cell_type": "code",
   "execution_count": 60,
   "id": "efb89d1d",
   "metadata": {},
   "outputs": [
    {
     "data": {
      "image/png": "[encoded data removed]",
      "text/plain": [
       "<Figure size 432x288 with 1 Axes>"
      ]
     },
     "metadata": {},
     "output_type": "display_data"
    }
   ],
   "source": [
    "plt.imshow(x_test[0])   # [면, 행, 열]\n",
    "plt.show()"
   ]
  },
  {
   "cell_type": "code",
   "execution_count": 66,
   "id": "a13e0099",
   "metadata": {},
   "outputs": [
    {
     "data": {
      "text/plain": [
       "array([9], dtype=int64)"
      ]
     },
     "execution_count": 66,
     "metadata": {},
     "output_type": "execute_result"
    }
   ],
   "source": [
    "model.predict(x_test[0].reshape(1,28,28)).argmax(axis=1)\n",
    "\n",
    "# 9  -> 부츠"
   ]
  },
  {
   "cell_type": "markdown",
   "id": "0f509e13",
   "metadata": {},
   "source": [
    "## 훈련, 테스트 정확도"
   ]
  },
  {
   "cell_type": "code",
   "execution_count": 56,
   "id": "044be5b8",
   "metadata": {
    "scrolled": true
   },
   "outputs": [
    {
     "name": "stdout",
     "output_type": "stream",
     "text": [
      "1875/1875 [==============================] - 1s 579us/step - loss: 0.3594 - acc: 0.8709\n"
     ]
    },
    {
     "data": {
      "text/plain": [
       "[0.359395831823349, 0.8708999752998352]"
      ]
     },
     "execution_count": 56,
     "metadata": {},
     "output_type": "execute_result"
    }
   ],
   "source": [
    "model.evaluate(x_train,y_train)"
   ]
  },
  {
   "cell_type": "code",
   "execution_count": 57,
   "id": "bfd0d425",
   "metadata": {},
   "outputs": [
    {
     "name": "stdout",
     "output_type": "stream",
     "text": [
      "313/313 [==============================] - 0s 834us/step - loss: 0.4323 - acc: 0.8501\n"
     ]
    },
    {
     "data": {
      "text/plain": [
       "[0.4322527348995209, 0.8500999808311462]"
      ]
     },
     "execution_count": 57,
     "metadata": {},
     "output_type": "execute_result"
    }
   ],
   "source": [
    "model.evaluate(x_test,y_test)"
   ]
  }
 ],
 "metadata": {
  "kernelspec": {
   "display_name": "Python 3",
   "language": "python",
   "name": "python3"
  },
  "language_info": {
   "codemirror_mode": {
    "name": "ipython",
    "version": 3
   },
   "file_extension": ".py",
   "mimetype": "text/x-python",
   "name": "python",
   "nbconvert_exporter": "python",
   "pygments_lexer": "ipython3",
   "version": "3.8.8"
  },
  "toc": {
   "base_numbering": 1,
   "nav_menu": {},
   "number_sections": true,
   "sideBar": true,
   "skip_h1_title": false,
   "title_cell": "Table of Contents",
   "title_sidebar": "Contents",
   "toc_cell": false,
   "toc_position": {
    "height": "calc(100% - 180px)",
    "left": "10px",
    "top": "150px",
    "width": "191.594px"
   },
   "toc_section_display": true,
   "toc_window_display": true
  }
 },
 "nbformat": 4,
 "nbformat_minor": 5
}
