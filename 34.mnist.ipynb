{
 "cells": [
  {
   "cell_type": "code",
   "execution_count": 1,
   "id": "5aa1dd15",
   "metadata": {
    "ExecuteTime": {
     "end_time": "2021-12-29T15:04:10.286751Z",
     "start_time": "2021-12-29T15:04:08.375408Z"
    }
   },
   "outputs": [],
   "source": [
    "import tensorflow as tf\n",
    "import numpy as np\n",
    "import matplotlib.pyplot as plt\n",
    "from tensorflow.keras.layers import Dense\n",
    "from tensorflow.keras import Sequential\n",
    "import tensorflow as tf\n",
    "import numpy as np\n",
    "import matplotlib.pyplot as plt\n",
    "from tensorflow.keras.layers import Dense,Flatten\n",
    "from tensorflow.keras import Sequential\n",
    "from tensorflow.keras.optimizers import Adam\n",
    "from tensorflow.keras.datasets.mnist import load_data\n",
    "from tensorflow.keras.utils import to_categorical\n",
    "plt.style.use(\"ggplot\")"
   ]
  },
  {
   "cell_type": "code",
   "execution_count": 2,
   "id": "9ec3cdfa",
   "metadata": {
    "ExecuteTime": {
     "end_time": "2021-12-29T15:04:10.493907Z",
     "start_time": "2021-12-29T15:04:10.288794Z"
    }
   },
   "outputs": [],
   "source": [
    "mnistData = load_data()"
   ]
  },
  {
   "cell_type": "code",
   "execution_count": 3,
   "id": "095e3346",
   "metadata": {
    "ExecuteTime": {
     "end_time": "2021-12-29T15:04:10.509341Z",
     "start_time": "2021-12-29T15:04:10.494379Z"
    }
   },
   "outputs": [
    {
     "data": {
      "text/plain": [
       "((array([[[0, 0, 0, ..., 0, 0, 0],\n",
       "          [0, 0, 0, ..., 0, 0, 0],\n",
       "          [0, 0, 0, ..., 0, 0, 0],\n",
       "          ...,\n",
       "          [0, 0, 0, ..., 0, 0, 0],\n",
       "          [0, 0, 0, ..., 0, 0, 0],\n",
       "          [0, 0, 0, ..., 0, 0, 0]],\n",
       "  \n",
       "         [[0, 0, 0, ..., 0, 0, 0],\n",
       "          [0, 0, 0, ..., 0, 0, 0],\n",
       "          [0, 0, 0, ..., 0, 0, 0],\n",
       "          ...,\n",
       "          [0, 0, 0, ..., 0, 0, 0],\n",
       "          [0, 0, 0, ..., 0, 0, 0],\n",
       "          [0, 0, 0, ..., 0, 0, 0]],\n",
       "  \n",
       "         [[0, 0, 0, ..., 0, 0, 0],\n",
       "          [0, 0, 0, ..., 0, 0, 0],\n",
       "          [0, 0, 0, ..., 0, 0, 0],\n",
       "          ...,\n",
       "          [0, 0, 0, ..., 0, 0, 0],\n",
       "          [0, 0, 0, ..., 0, 0, 0],\n",
       "          [0, 0, 0, ..., 0, 0, 0]],\n",
       "  \n",
       "         ...,\n",
       "  \n",
       "         [[0, 0, 0, ..., 0, 0, 0],\n",
       "          [0, 0, 0, ..., 0, 0, 0],\n",
       "          [0, 0, 0, ..., 0, 0, 0],\n",
       "          ...,\n",
       "          [0, 0, 0, ..., 0, 0, 0],\n",
       "          [0, 0, 0, ..., 0, 0, 0],\n",
       "          [0, 0, 0, ..., 0, 0, 0]],\n",
       "  \n",
       "         [[0, 0, 0, ..., 0, 0, 0],\n",
       "          [0, 0, 0, ..., 0, 0, 0],\n",
       "          [0, 0, 0, ..., 0, 0, 0],\n",
       "          ...,\n",
       "          [0, 0, 0, ..., 0, 0, 0],\n",
       "          [0, 0, 0, ..., 0, 0, 0],\n",
       "          [0, 0, 0, ..., 0, 0, 0]],\n",
       "  \n",
       "         [[0, 0, 0, ..., 0, 0, 0],\n",
       "          [0, 0, 0, ..., 0, 0, 0],\n",
       "          [0, 0, 0, ..., 0, 0, 0],\n",
       "          ...,\n",
       "          [0, 0, 0, ..., 0, 0, 0],\n",
       "          [0, 0, 0, ..., 0, 0, 0],\n",
       "          [0, 0, 0, ..., 0, 0, 0]]], dtype=uint8),\n",
       "  array([5, 0, 4, ..., 5, 6, 8], dtype=uint8)),\n",
       " (array([[[0, 0, 0, ..., 0, 0, 0],\n",
       "          [0, 0, 0, ..., 0, 0, 0],\n",
       "          [0, 0, 0, ..., 0, 0, 0],\n",
       "          ...,\n",
       "          [0, 0, 0, ..., 0, 0, 0],\n",
       "          [0, 0, 0, ..., 0, 0, 0],\n",
       "          [0, 0, 0, ..., 0, 0, 0]],\n",
       "  \n",
       "         [[0, 0, 0, ..., 0, 0, 0],\n",
       "          [0, 0, 0, ..., 0, 0, 0],\n",
       "          [0, 0, 0, ..., 0, 0, 0],\n",
       "          ...,\n",
       "          [0, 0, 0, ..., 0, 0, 0],\n",
       "          [0, 0, 0, ..., 0, 0, 0],\n",
       "          [0, 0, 0, ..., 0, 0, 0]],\n",
       "  \n",
       "         [[0, 0, 0, ..., 0, 0, 0],\n",
       "          [0, 0, 0, ..., 0, 0, 0],\n",
       "          [0, 0, 0, ..., 0, 0, 0],\n",
       "          ...,\n",
       "          [0, 0, 0, ..., 0, 0, 0],\n",
       "          [0, 0, 0, ..., 0, 0, 0],\n",
       "          [0, 0, 0, ..., 0, 0, 0]],\n",
       "  \n",
       "         ...,\n",
       "  \n",
       "         [[0, 0, 0, ..., 0, 0, 0],\n",
       "          [0, 0, 0, ..., 0, 0, 0],\n",
       "          [0, 0, 0, ..., 0, 0, 0],\n",
       "          ...,\n",
       "          [0, 0, 0, ..., 0, 0, 0],\n",
       "          [0, 0, 0, ..., 0, 0, 0],\n",
       "          [0, 0, 0, ..., 0, 0, 0]],\n",
       "  \n",
       "         [[0, 0, 0, ..., 0, 0, 0],\n",
       "          [0, 0, 0, ..., 0, 0, 0],\n",
       "          [0, 0, 0, ..., 0, 0, 0],\n",
       "          ...,\n",
       "          [0, 0, 0, ..., 0, 0, 0],\n",
       "          [0, 0, 0, ..., 0, 0, 0],\n",
       "          [0, 0, 0, ..., 0, 0, 0]],\n",
       "  \n",
       "         [[0, 0, 0, ..., 0, 0, 0],\n",
       "          [0, 0, 0, ..., 0, 0, 0],\n",
       "          [0, 0, 0, ..., 0, 0, 0],\n",
       "          ...,\n",
       "          [0, 0, 0, ..., 0, 0, 0],\n",
       "          [0, 0, 0, ..., 0, 0, 0],\n",
       "          [0, 0, 0, ..., 0, 0, 0]]], dtype=uint8),\n",
       "  array([7, 2, 1, ..., 4, 5, 6], dtype=uint8)))"
      ]
     },
     "execution_count": 3,
     "metadata": {},
     "output_type": "execute_result"
    }
   ],
   "source": [
    "mnistData"
   ]
  },
  {
   "cell_type": "code",
   "execution_count": 4,
   "id": "b69d31b6",
   "metadata": {
    "ExecuteTime": {
     "end_time": "2021-12-29T15:04:10.525299Z",
     "start_time": "2021-12-29T15:04:10.510356Z"
    }
   },
   "outputs": [],
   "source": [
    "(x_train,y_train),(x_test,y_test) = mnistData"
   ]
  },
  {
   "cell_type": "code",
   "execution_count": 5,
   "id": "8ef0e7c3",
   "metadata": {
    "ExecuteTime": {
     "end_time": "2021-12-29T15:04:10.541256Z",
     "start_time": "2021-12-29T15:04:10.526296Z"
    }
   },
   "outputs": [
    {
     "data": {
      "text/plain": [
       "((60000, 28, 28), (10000, 28, 28), (10000,), (10000,))"
      ]
     },
     "execution_count": 5,
     "metadata": {},
     "output_type": "execute_result"
    }
   ],
   "source": [
    "x_train.shape,x_test.shape,y_test.shape , y_test.shape"
   ]
  },
  {
   "cell_type": "code",
   "execution_count": 6,
   "id": "bcbcbc49",
   "metadata": {
    "ExecuteTime": {
     "end_time": "2021-12-29T15:04:10.668963Z",
     "start_time": "2021-12-29T15:04:10.542253Z"
    }
   },
   "outputs": [
    {
     "data": {
      "image/png": "[encoded data removed]",
      "text/plain": [
       "<Figure size 432x288 with 1 Axes>"
      ]
     },
     "metadata": {},
     "output_type": "display_data"
    }
   ],
   "source": [
    "plt.imshow(x_train[0])   # [면, 행, 열]\n",
    "plt.show()"
   ]
  },
  {
   "cell_type": "code",
   "execution_count": 7,
   "id": "83e48120",
   "metadata": {
    "ExecuteTime": {
     "end_time": "2021-12-29T15:04:10.684872Z",
     "start_time": "2021-12-29T15:04:10.670922Z"
    }
   },
   "outputs": [
    {
     "data": {
      "text/plain": [
       "5"
      ]
     },
     "execution_count": 7,
     "metadata": {},
     "output_type": "execute_result"
    }
   ],
   "source": [
    "y_train[0]"
   ]
  },
  {
   "cell_type": "code",
   "execution_count": 8,
   "id": "fb48dfcb",
   "metadata": {
    "ExecuteTime": {
     "end_time": "2021-12-29T15:04:10.700829Z",
     "start_time": "2021-12-29T15:04:10.686868Z"
    }
   },
   "outputs": [
    {
     "data": {
      "text/plain": [
       "array([5, 0, 4, ..., 5, 6, 8], dtype=uint8)"
      ]
     },
     "execution_count": 8,
     "metadata": {},
     "output_type": "execute_result"
    }
   ],
   "source": [
    "y_train  # y값을 인코딩해야함."
   ]
  },
  {
   "cell_type": "code",
   "execution_count": 9,
   "id": "bf482398",
   "metadata": {
    "ExecuteTime": {
     "end_time": "2021-12-29T15:04:10.716788Z",
     "start_time": "2021-12-29T15:04:10.702824Z"
    },
    "scrolled": true
   },
   "outputs": [
    {
     "data": {
      "text/plain": [
       "array([[0., 0., 0., ..., 0., 0., 0.],\n",
       "       [1., 0., 0., ..., 0., 0., 0.],\n",
       "       [0., 0., 0., ..., 0., 0., 0.],\n",
       "       ...,\n",
       "       [0., 0., 0., ..., 0., 0., 0.],\n",
       "       [0., 0., 0., ..., 0., 0., 0.],\n",
       "       [0., 0., 0., ..., 0., 1., 0.]], dtype=float32)"
      ]
     },
     "execution_count": 9,
     "metadata": {},
     "output_type": "execute_result"
    }
   ],
   "source": [
    "y_trainOne = to_categorical(y_train)\n",
    "y_trainOne"
   ]
  },
  {
   "cell_type": "code",
   "execution_count": 10,
   "id": "90ac22a0",
   "metadata": {
    "ExecuteTime": {
     "end_time": "2021-12-29T15:04:10.732744Z",
     "start_time": "2021-12-29T15:04:10.717784Z"
    },
    "scrolled": true
   },
   "outputs": [
    {
     "data": {
      "text/plain": [
       "(60000, 28, 28)"
      ]
     },
     "execution_count": 10,
     "metadata": {},
     "output_type": "execute_result"
    }
   ],
   "source": [
    "x_train.shape"
   ]
  },
  {
   "cell_type": "code",
   "execution_count": 11,
   "id": "b1e69b2a",
   "metadata": {
    "ExecuteTime": {
     "end_time": "2021-12-29T15:04:10.748701Z",
     "start_time": "2021-12-29T15:04:10.733742Z"
    }
   },
   "outputs": [
    {
     "data": {
      "text/plain": [
       "(60000, 784)"
      ]
     },
     "execution_count": 11,
     "metadata": {},
     "output_type": "execute_result"
    }
   ],
   "source": [
    "x_trainM = x_train.reshape(60000,-1, )  # 2차원으로 변경\n",
    "x_trainM.shape"
   ]
  },
  {
   "cell_type": "code",
   "execution_count": 12,
   "id": "31c77790",
   "metadata": {
    "ExecuteTime": {
     "end_time": "2021-12-29T15:04:23.536119Z",
     "start_time": "2021-12-29T15:04:10.749698Z"
    }
   },
   "outputs": [
    {
     "name": "stdout",
     "output_type": "stream",
     "text": [
      "Epoch 1/10\n",
      "1875/1875 [==============================] - 1s 623us/step - loss: 1.7113 - acc: 0.6338\n",
      "Epoch 2/10\n",
      "1875/1875 [==============================] - 1s 566us/step - loss: 0.5328 - acc: 0.8568\n",
      "Epoch 3/10\n",
      "1875/1875 [==============================] - 1s 588us/step - loss: 0.3066 - acc: 0.9219\n",
      "Epoch 4/10\n",
      "1875/1875 [==============================] - 1s 573us/step - loss: 0.2241 - acc: 0.9410\n",
      "Epoch 5/10\n",
      "1875/1875 [==============================] - 1s 586us/step - loss: 0.1963 - acc: 0.9476\n",
      "Epoch 6/10\n",
      "1875/1875 [==============================] - 1s 587us/step - loss: 0.1684 - acc: 0.9548\n",
      "Epoch 7/10\n",
      "1875/1875 [==============================] - 1s 576us/step - loss: 0.1475 - acc: 0.9587\n",
      "Epoch 8/10\n",
      "1875/1875 [==============================] - 1s 566us/step - loss: 0.1321 - acc: 0.9643\n",
      "Epoch 9/10\n",
      "1875/1875 [==============================] - 1s 580us/step - loss: 0.1222 - acc: 0.9656\n",
      "Epoch 10/10\n",
      "1875/1875 [==============================] - 1s 575us/step - loss: 0.1141 - acc: 0.9687\n"
     ]
    },
    {
     "data": {
      "text/plain": [
       "<tensorflow.python.keras.callbacks.History at 0x260a62b2490>"
      ]
     },
     "execution_count": 12,
     "metadata": {},
     "output_type": "execute_result"
    }
   ],
   "source": [
    "model = Sequential()\n",
    "model.add(Dense(units=64, input_dim = 784, activation='relu' )  )\n",
    "model.add(Dense(units=32, input_dim = 64, activation='relu' )  )\n",
    "model.add(Dense(units=10, input_dim = 32, activation='softmax' )  )\n",
    "\n",
    "model.compile(loss = 'categorical_crossentropy',optimizer='adam',metrics=['acc'])\n",
    "model.fit(x_trainM, y_trainOne,epochs=10)"
   ]
  },
  {
   "cell_type": "code",
   "execution_count": 13,
   "id": "e428ba4d",
   "metadata": {
    "ExecuteTime": {
     "end_time": "2021-12-29T15:04:23.647820Z",
     "start_time": "2021-12-29T15:04:23.537130Z"
    }
   },
   "outputs": [
    {
     "data": {
      "text/plain": [
       "<matplotlib.image.AxesImage at 0x260ae570af0>"
      ]
     },
     "execution_count": 13,
     "metadata": {},
     "output_type": "execute_result"
    },
    {
     "data": {
      "image/png": "[encoded data removed]",
      "text/plain": [
       "<Figure size 432x288 with 1 Axes>"
      ]
     },
     "metadata": {},
     "output_type": "display_data"
    }
   ],
   "source": [
    "plt.imshow(x_test[0])"
   ]
  },
  {
   "cell_type": "code",
   "execution_count": 14,
   "id": "264356e7",
   "metadata": {
    "ExecuteTime": {
     "end_time": "2021-12-29T15:04:23.662781Z",
     "start_time": "2021-12-29T15:04:23.648818Z"
    },
    "scrolled": true
   },
   "outputs": [
    {
     "data": {
      "text/plain": [
       "(28, 28)"
      ]
     },
     "execution_count": 14,
     "metadata": {},
     "output_type": "execute_result"
    }
   ],
   "source": [
    "x_test[0].shape"
   ]
  },
  {
   "cell_type": "code",
   "execution_count": 15,
   "id": "87ca9a0c",
   "metadata": {
    "ExecuteTime": {
     "end_time": "2021-12-29T15:04:23.742039Z",
     "start_time": "2021-12-29T15:04:23.663778Z"
    }
   },
   "outputs": [
    {
     "data": {
      "text/plain": [
       "array([7], dtype=int64)"
      ]
     },
     "execution_count": 15,
     "metadata": {},
     "output_type": "execute_result"
    }
   ],
   "source": [
    "model.predict( x_test[0].reshape(1,-1)).argmax(axis=1) "
   ]
  },
  {
   "cell_type": "code",
   "execution_count": 16,
   "id": "81062ae9",
   "metadata": {
    "ExecuteTime": {
     "end_time": "2021-12-29T15:04:23.758053Z",
     "start_time": "2021-12-29T15:04:23.743033Z"
    },
    "scrolled": true
   },
   "outputs": [
    {
     "data": {
      "text/plain": [
       "((10000, 28, 28), (10000,))"
      ]
     },
     "execution_count": 16,
     "metadata": {},
     "output_type": "execute_result"
    }
   ],
   "source": [
    "x_test.shape, y_test.shape     #  x_test를 수정해야함"
   ]
  },
  {
   "cell_type": "code",
   "execution_count": 17,
   "id": "5476414b",
   "metadata": {
    "ExecuteTime": {
     "end_time": "2021-12-29T15:04:23.773992Z",
     "start_time": "2021-12-29T15:04:23.758993Z"
    }
   },
   "outputs": [
    {
     "data": {
      "text/plain": [
       "7"
      ]
     },
     "execution_count": 17,
     "metadata": {},
     "output_type": "execute_result"
    }
   ],
   "source": [
    "y_test[0]"
   ]
  },
  {
   "cell_type": "code",
   "execution_count": 18,
   "id": "9494ca29",
   "metadata": {
    "ExecuteTime": {
     "end_time": "2021-12-29T15:04:23.789908Z",
     "start_time": "2021-12-29T15:04:23.774949Z"
    },
    "scrolled": true
   },
   "outputs": [
    {
     "data": {
      "text/plain": [
       "array([[0, 0, 0, ..., 0, 0, 0],\n",
       "       [0, 0, 0, ..., 0, 0, 0],\n",
       "       [0, 0, 0, ..., 0, 0, 0],\n",
       "       ...,\n",
       "       [0, 0, 0, ..., 0, 0, 0],\n",
       "       [0, 0, 0, ..., 0, 0, 0],\n",
       "       [0, 0, 0, ..., 0, 0, 0]], dtype=uint8)"
      ]
     },
     "execution_count": 18,
     "metadata": {},
     "output_type": "execute_result"
    }
   ],
   "source": [
    "x_test.reshape(-1,28*28)"
   ]
  },
  {
   "cell_type": "code",
   "execution_count": 19,
   "id": "c5a1edf3",
   "metadata": {
    "ExecuteTime": {
     "end_time": "2021-12-29T15:04:23.805873Z",
     "start_time": "2021-12-29T15:04:23.790905Z"
    }
   },
   "outputs": [
    {
     "data": {
      "text/plain": [
       "array([355,  97, 406, ..., 711, 464,  75], dtype=int64)"
      ]
     },
     "execution_count": 19,
     "metadata": {},
     "output_type": "execute_result"
    }
   ],
   "source": [
    "x_test.reshape(-1,28*28).argmax(axis=1)"
   ]
  },
  {
   "cell_type": "code",
   "execution_count": 20,
   "id": "38c71bca",
   "metadata": {
    "ExecuteTime": {
     "end_time": "2021-12-29T15:04:23.821825Z",
     "start_time": "2021-12-29T15:04:23.806863Z"
    }
   },
   "outputs": [],
   "source": [
    "y_test = to_categorical(y_test)"
   ]
  },
  {
   "cell_type": "code",
   "execution_count": 21,
   "id": "b5965695",
   "metadata": {
    "ExecuteTime": {
     "end_time": "2021-12-29T15:04:24.105387Z",
     "start_time": "2021-12-29T15:04:23.822820Z"
    },
    "scrolled": false
   },
   "outputs": [
    {
     "name": "stdout",
     "output_type": "stream",
     "text": [
      "313/313 [==============================] - 0s 526us/step - loss: 0.1786 - acc: 0.9521\n"
     ]
    },
    {
     "data": {
      "text/plain": [
       "[0.17864486575126648, 0.9520999789237976]"
      ]
     },
     "execution_count": 21,
     "metadata": {},
     "output_type": "execute_result"
    }
   ],
   "source": [
    "model.evaluate(x_test.reshape(-1,28*28),y_test)"
   ]
  },
  {
   "cell_type": "code",
   "execution_count": 22,
   "id": "5ed4a81e",
   "metadata": {
    "ExecuteTime": {
     "end_time": "2021-12-29T15:04:24.328793Z",
     "start_time": "2021-12-29T15:04:24.106385Z"
    }
   },
   "outputs": [
    {
     "data": {
      "text/plain": [
       "(60000, 28, 28)"
      ]
     },
     "execution_count": 22,
     "metadata": {},
     "output_type": "execute_result"
    }
   ],
   "source": [
    "mnistData = load_data()\n",
    "\n",
    "(x_train,y_train),(x_test,y_test) = mnistData\n",
    "\n",
    "x_train.shape"
   ]
  },
  {
   "cell_type": "markdown",
   "id": "d0efab7d",
   "metadata": {},
   "source": [
    "\n",
    " # onehot인코딩 안하는 방법\n",
    " ## Flatten -> 1차원\n",
    " ## sparse_categorical_crossentropy"
   ]
  },
  {
   "cell_type": "code",
   "execution_count": 23,
   "id": "31049370",
   "metadata": {
    "ExecuteTime": {
     "end_time": "2021-12-29T15:04:35.838417Z",
     "start_time": "2021-12-29T15:04:24.332779Z"
    }
   },
   "outputs": [
    {
     "name": "stdout",
     "output_type": "stream",
     "text": [
      "Epoch 1/10\n",
      "1875/1875 [==============================] - 1s 665us/step - loss: 1.6990 - acc: 0.7749\n",
      "Epoch 2/10\n",
      "1875/1875 [==============================] - 1s 593us/step - loss: 0.3992 - acc: 0.8954\n",
      "Epoch 3/10\n",
      "1875/1875 [==============================] - 1s 583us/step - loss: 0.2623 - acc: 0.9281\n",
      "Epoch 4/10\n",
      "1875/1875 [==============================] - 1s 593us/step - loss: 0.2076 - acc: 0.9429\n",
      "Epoch 5/10\n",
      "1875/1875 [==============================] - 1s 593us/step - loss: 0.1735 - acc: 0.9510\n",
      "Epoch 6/10\n",
      "1875/1875 [==============================] - 1s 585us/step - loss: 0.1563 - acc: 0.9568\n",
      "Epoch 7/10\n",
      "1875/1875 [==============================] - 1s 591us/step - loss: 0.1388 - acc: 0.9618\n",
      "Epoch 8/10\n",
      "1875/1875 [==============================] - 1s 601us/step - loss: 0.1272 - acc: 0.9648\n",
      "Epoch 9/10\n",
      "1875/1875 [==============================] - 1s 598us/step - loss: 0.1149 - acc: 0.9686\n",
      "Epoch 10/10\n",
      "1875/1875 [==============================] - 1s 595us/step - loss: 0.1061 - acc: 0.9714\n"
     ]
    },
    {
     "data": {
      "text/plain": [
       "<tensorflow.python.keras.callbacks.History at 0x260ae63fbb0>"
      ]
     },
     "execution_count": 23,
     "metadata": {},
     "output_type": "execute_result"
    }
   ],
   "source": [
    "model = Sequential()\n",
    "model.add(Flatten(input_shape = (28,28)))\n",
    "model.add(Dense(units=64,  activation='relu' )  )\n",
    "model.add(Dense(units=32,  activation='relu' )  )\n",
    "model.add(Dense(units=10,  activation='softmax' )  )\n",
    "\n",
    "model.compile(loss = 'sparse_categorical_crossentropy',optimizer='adam',metrics=['acc'])\n",
    "model.fit(x_train, y_train,epochs=10)"
   ]
  },
  {
   "cell_type": "code",
   "execution_count": 24,
   "id": "ed76b26b",
   "metadata": {
    "ExecuteTime": {
     "end_time": "2021-12-29T15:04:35.979743Z",
     "start_time": "2021-12-29T15:04:35.839415Z"
    }
   },
   "outputs": [
    {
     "data": {
      "text/plain": [
       "array([[1.63298211e-08, 8.46469295e-09, 4.58227987e-06, ...,\n",
       "        9.99963880e-01, 1.62059539e-08, 6.93516489e-09],\n",
       "       [1.92750605e-07, 5.88898511e-05, 9.99896646e-01, ...,\n",
       "        2.20098832e-06, 6.38638448e-06, 5.54641742e-25],\n",
       "       [3.16361086e-23, 1.00000000e+00, 5.93466113e-14, ...,\n",
       "        1.27822150e-27, 4.68795358e-19, 7.86854644e-16],\n",
       "       ...,\n",
       "       [4.69429140e-12, 5.30438315e-09, 1.76920576e-08, ...,\n",
       "        5.62429886e-06, 2.36957037e-10, 4.71415342e-06],\n",
       "       [1.42447627e-15, 1.58174684e-21, 7.20035884e-23, ...,\n",
       "        3.81009678e-19, 1.27445464e-05, 1.25932069e-11],\n",
       "       [9.81488120e-06, 1.00015416e-15, 2.29277014e-12, ...,\n",
       "        1.91627072e-37, 2.44347675e-09, 1.04836506e-14]], dtype=float32)"
      ]
     },
     "execution_count": 24,
     "metadata": {},
     "output_type": "execute_result"
    }
   ],
   "source": [
    "model.predict( x_test )"
   ]
  },
  {
   "cell_type": "code",
   "execution_count": 25,
   "id": "2658d900",
   "metadata": {
    "ExecuteTime": {
     "end_time": "2021-12-29T15:04:35.995701Z",
     "start_time": "2021-12-29T15:04:35.980740Z"
    }
   },
   "outputs": [
    {
     "data": {
      "text/plain": [
       "array([[[0, 0, 0, ..., 0, 0, 0],\n",
       "        [0, 0, 0, ..., 0, 0, 0],\n",
       "        [0, 0, 0, ..., 0, 0, 0],\n",
       "        ...,\n",
       "        [0, 0, 0, ..., 0, 0, 0],\n",
       "        [0, 0, 0, ..., 0, 0, 0],\n",
       "        [0, 0, 0, ..., 0, 0, 0]],\n",
       "\n",
       "       [[0, 0, 0, ..., 0, 0, 0],\n",
       "        [0, 0, 0, ..., 0, 0, 0],\n",
       "        [0, 0, 0, ..., 0, 0, 0],\n",
       "        ...,\n",
       "        [0, 0, 0, ..., 0, 0, 0],\n",
       "        [0, 0, 0, ..., 0, 0, 0],\n",
       "        [0, 0, 0, ..., 0, 0, 0]],\n",
       "\n",
       "       [[0, 0, 0, ..., 0, 0, 0],\n",
       "        [0, 0, 0, ..., 0, 0, 0],\n",
       "        [0, 0, 0, ..., 0, 0, 0],\n",
       "        ...,\n",
       "        [0, 0, 0, ..., 0, 0, 0],\n",
       "        [0, 0, 0, ..., 0, 0, 0],\n",
       "        [0, 0, 0, ..., 0, 0, 0]],\n",
       "\n",
       "       ...,\n",
       "\n",
       "       [[0, 0, 0, ..., 0, 0, 0],\n",
       "        [0, 0, 0, ..., 0, 0, 0],\n",
       "        [0, 0, 0, ..., 0, 0, 0],\n",
       "        ...,\n",
       "        [0, 0, 0, ..., 0, 0, 0],\n",
       "        [0, 0, 0, ..., 0, 0, 0],\n",
       "        [0, 0, 0, ..., 0, 0, 0]],\n",
       "\n",
       "       [[0, 0, 0, ..., 0, 0, 0],\n",
       "        [0, 0, 0, ..., 0, 0, 0],\n",
       "        [0, 0, 0, ..., 0, 0, 0],\n",
       "        ...,\n",
       "        [0, 0, 0, ..., 0, 0, 0],\n",
       "        [0, 0, 0, ..., 0, 0, 0],\n",
       "        [0, 0, 0, ..., 0, 0, 0]],\n",
       "\n",
       "       [[0, 0, 0, ..., 0, 0, 0],\n",
       "        [0, 0, 0, ..., 0, 0, 0],\n",
       "        [0, 0, 0, ..., 0, 0, 0],\n",
       "        ...,\n",
       "        [0, 0, 0, ..., 0, 0, 0],\n",
       "        [0, 0, 0, ..., 0, 0, 0],\n",
       "        [0, 0, 0, ..., 0, 0, 0]]], dtype=uint8)"
      ]
     },
     "execution_count": 25,
     "metadata": {},
     "output_type": "execute_result"
    }
   ],
   "source": [
    "x_test"
   ]
  },
  {
   "cell_type": "code",
   "execution_count": 26,
   "id": "b3bc1aca",
   "metadata": {
    "ExecuteTime": {
     "end_time": "2021-12-29T15:04:36.011676Z",
     "start_time": "2021-12-29T15:04:35.997695Z"
    }
   },
   "outputs": [
    {
     "data": {
      "text/plain": [
       "array([7, 2, 1, ..., 4, 5, 6], dtype=uint8)"
      ]
     },
     "execution_count": 26,
     "metadata": {},
     "output_type": "execute_result"
    }
   ],
   "source": [
    "y_test"
   ]
  },
  {
   "cell_type": "code",
   "execution_count": 27,
   "id": "e3ba0c0d",
   "metadata": {
    "ExecuteTime": {
     "end_time": "2021-12-29T15:04:36.027293Z",
     "start_time": "2021-12-29T15:04:36.012657Z"
    }
   },
   "outputs": [
    {
     "data": {
      "text/plain": [
       "array([[  0,   0,   0,   0,   0,   0,   0,   0,   0,   0,   0,   0,   0,\n",
       "          0,   0,   0,   0,   0,   0,   0,   0,   0,   0,   0,   0,   0,\n",
       "          0,   0],\n",
       "       [  0,   0,   0,   0,   0,   0,   0,   0,   0,   0,   0,   0,   0,\n",
       "          0,   0,   0,   0,   0,   0,   0,   0,   0,   0,   0,   0,   0,\n",
       "          0,   0],\n",
       "       [  0,   0,   0,   0,   0,   0,   0,   0,   0,   0,   0,   0,   0,\n",
       "          0,   0,   0,   0,   0,   0,   0,   0,   0,   0,   0,   0,   0,\n",
       "          0,   0],\n",
       "       [  0,   0,   0,   0,   0,   0,   0,   0,   0,   0,   0,   0,   0,\n",
       "          0,   0,   0,   0,   0,   0,   0,   0,   0,   0,   0,   0,   0,\n",
       "          0,   0],\n",
       "       [  0,   0,   0,   0,   0,   0,   0,   0,   0,   0,   0,   0,   0,\n",
       "          0,   0,   0,   0,   0,   0,   0,   0,   0,   0,   0,   0,   0,\n",
       "          0,   0],\n",
       "       [  0,   0,   0,   0,   0,   0,   0,   0,   0,   0,   0,   0,   0,\n",
       "          0,   0,   0,   0,   0,   0,   0,   0,   0,   0,   0,   0,   0,\n",
       "          0,   0],\n",
       "       [  0,   0,   0,   0,   0,   0,   0,   0,   0,   0,   0,   0,   0,\n",
       "          0,   0,   0,   0,   0,   0,   0,   0,   0,   0,   0,   0,   0,\n",
       "          0,   0],\n",
       "       [  0,   0,   0,   0,   0,   0,  84, 185, 159, 151,  60,  36,   0,\n",
       "          0,   0,   0,   0,   0,   0,   0,   0,   0,   0,   0,   0,   0,\n",
       "          0,   0],\n",
       "       [  0,   0,   0,   0,   0,   0, 222, 254, 254, 254, 254, 241, 198,\n",
       "        198, 198, 198, 198, 198, 198, 198, 170,  52,   0,   0,   0,   0,\n",
       "          0,   0],\n",
       "       [  0,   0,   0,   0,   0,   0,  67, 114,  72, 114, 163, 227, 254,\n",
       "        225, 254, 254, 254, 250, 229, 254, 254, 140,   0,   0,   0,   0,\n",
       "          0,   0],\n",
       "       [  0,   0,   0,   0,   0,   0,   0,   0,   0,   0,   0,  17,  66,\n",
       "         14,  67,  67,  67,  59,  21, 236, 254, 106,   0,   0,   0,   0,\n",
       "          0,   0],\n",
       "       [  0,   0,   0,   0,   0,   0,   0,   0,   0,   0,   0,   0,   0,\n",
       "          0,   0,   0,   0,   0,  83, 253, 209,  18,   0,   0,   0,   0,\n",
       "          0,   0],\n",
       "       [  0,   0,   0,   0,   0,   0,   0,   0,   0,   0,   0,   0,   0,\n",
       "          0,   0,   0,   0,  22, 233, 255,  83,   0,   0,   0,   0,   0,\n",
       "          0,   0],\n",
       "       [  0,   0,   0,   0,   0,   0,   0,   0,   0,   0,   0,   0,   0,\n",
       "          0,   0,   0,   0, 129, 254, 238,  44,   0,   0,   0,   0,   0,\n",
       "          0,   0],\n",
       "       [  0,   0,   0,   0,   0,   0,   0,   0,   0,   0,   0,   0,   0,\n",
       "          0,   0,   0,  59, 249, 254,  62,   0,   0,   0,   0,   0,   0,\n",
       "          0,   0],\n",
       "       [  0,   0,   0,   0,   0,   0,   0,   0,   0,   0,   0,   0,   0,\n",
       "          0,   0,   0, 133, 254, 187,   5,   0,   0,   0,   0,   0,   0,\n",
       "          0,   0],\n",
       "       [  0,   0,   0,   0,   0,   0,   0,   0,   0,   0,   0,   0,   0,\n",
       "          0,   0,   9, 205, 248,  58,   0,   0,   0,   0,   0,   0,   0,\n",
       "          0,   0],\n",
       "       [  0,   0,   0,   0,   0,   0,   0,   0,   0,   0,   0,   0,   0,\n",
       "          0,   0, 126, 254, 182,   0,   0,   0,   0,   0,   0,   0,   0,\n",
       "          0,   0],\n",
       "       [  0,   0,   0,   0,   0,   0,   0,   0,   0,   0,   0,   0,   0,\n",
       "          0,  75, 251, 240,  57,   0,   0,   0,   0,   0,   0,   0,   0,\n",
       "          0,   0],\n",
       "       [  0,   0,   0,   0,   0,   0,   0,   0,   0,   0,   0,   0,   0,\n",
       "         19, 221, 254, 166,   0,   0,   0,   0,   0,   0,   0,   0,   0,\n",
       "          0,   0],\n",
       "       [  0,   0,   0,   0,   0,   0,   0,   0,   0,   0,   0,   0,   3,\n",
       "        203, 254, 219,  35,   0,   0,   0,   0,   0,   0,   0,   0,   0,\n",
       "          0,   0],\n",
       "       [  0,   0,   0,   0,   0,   0,   0,   0,   0,   0,   0,   0,  38,\n",
       "        254, 254,  77,   0,   0,   0,   0,   0,   0,   0,   0,   0,   0,\n",
       "          0,   0],\n",
       "       [  0,   0,   0,   0,   0,   0,   0,   0,   0,   0,   0,  31, 224,\n",
       "        254, 115,   1,   0,   0,   0,   0,   0,   0,   0,   0,   0,   0,\n",
       "          0,   0],\n",
       "       [  0,   0,   0,   0,   0,   0,   0,   0,   0,   0,   0, 133, 254,\n",
       "        254,  52,   0,   0,   0,   0,   0,   0,   0,   0,   0,   0,   0,\n",
       "          0,   0],\n",
       "       [  0,   0,   0,   0,   0,   0,   0,   0,   0,   0,  61, 242, 254,\n",
       "        254,  52,   0,   0,   0,   0,   0,   0,   0,   0,   0,   0,   0,\n",
       "          0,   0],\n",
       "       [  0,   0,   0,   0,   0,   0,   0,   0,   0,   0, 121, 254, 254,\n",
       "        219,  40,   0,   0,   0,   0,   0,   0,   0,   0,   0,   0,   0,\n",
       "          0,   0],\n",
       "       [  0,   0,   0,   0,   0,   0,   0,   0,   0,   0, 121, 254, 207,\n",
       "         18,   0,   0,   0,   0,   0,   0,   0,   0,   0,   0,   0,   0,\n",
       "          0,   0],\n",
       "       [  0,   0,   0,   0,   0,   0,   0,   0,   0,   0,   0,   0,   0,\n",
       "          0,   0,   0,   0,   0,   0,   0,   0,   0,   0,   0,   0,   0,\n",
       "          0,   0]], dtype=uint8)"
      ]
     },
     "execution_count": 27,
     "metadata": {},
     "output_type": "execute_result"
    }
   ],
   "source": [
    "x_test[0]"
   ]
  },
  {
   "cell_type": "code",
   "execution_count": 28,
   "id": "127eaf94",
   "metadata": {
    "ExecuteTime": {
     "end_time": "2021-12-29T15:04:36.042252Z",
     "start_time": "2021-12-29T15:04:36.028289Z"
    }
   },
   "outputs": [
    {
     "data": {
      "text/plain": [
       "(28, 28)"
      ]
     },
     "execution_count": 28,
     "metadata": {},
     "output_type": "execute_result"
    }
   ],
   "source": [
    "x_test[0].shape"
   ]
  },
  {
   "cell_type": "code",
   "execution_count": 29,
   "id": "2acada60",
   "metadata": {
    "ExecuteTime": {
     "end_time": "2021-12-29T15:04:36.058212Z",
     "start_time": "2021-12-29T15:04:36.043249Z"
    }
   },
   "outputs": [
    {
     "data": {
      "text/plain": [
       "array([[ 0,  0,  0,  0,  0,  0,  8,  8,  8,  8,  8, 25,  9, 21,  9,  9,\n",
       "         9, 15, 13, 12,  9,  9,  0,  0,  0,  0,  0,  0]], dtype=int64)"
      ]
     },
     "execution_count": 29,
     "metadata": {},
     "output_type": "execute_result"
    }
   ],
   "source": [
    "x_test[0].reshape(1,28,28).argmax(axis=1)"
   ]
  },
  {
   "cell_type": "code",
   "execution_count": 30,
   "id": "67f9508d",
   "metadata": {
    "ExecuteTime": {
     "end_time": "2021-12-29T15:04:36.106214Z",
     "start_time": "2021-12-29T15:04:36.060222Z"
    }
   },
   "outputs": [
    {
     "data": {
      "text/plain": [
       "array([7], dtype=int64)"
      ]
     },
     "execution_count": 30,
     "metadata": {},
     "output_type": "execute_result"
    }
   ],
   "source": [
    "model.predict(x_test[0].reshape(1,28,28)).argmax(axis=1)"
   ]
  },
  {
   "cell_type": "code",
   "execution_count": 31,
   "id": "089fa645",
   "metadata": {
    "ExecuteTime": {
     "end_time": "2021-12-29T15:04:36.233521Z",
     "start_time": "2021-12-29T15:04:36.108171Z"
    }
   },
   "outputs": [
    {
     "data": {
      "text/plain": [
       "array([7, 2, 1, ..., 4, 5, 6], dtype=int64)"
      ]
     },
     "execution_count": 31,
     "metadata": {},
     "output_type": "execute_result"
    }
   ],
   "source": [
    "model.predict(x_test).argmax(axis=1) # => x 전체 예측값"
   ]
  },
  {
   "cell_type": "code",
   "execution_count": 32,
   "id": "97237a69",
   "metadata": {
    "ExecuteTime": {
     "end_time": "2021-12-29T15:04:36.485189Z",
     "start_time": "2021-12-29T15:04:36.234518Z"
    }
   },
   "outputs": [
    {
     "name": "stdout",
     "output_type": "stream",
     "text": [
      "313/313 [==============================] - 0s 475us/step - loss: 0.1651 - acc: 0.9596\n"
     ]
    },
    {
     "data": {
      "text/plain": [
       "[0.16505897045135498, 0.9595999717712402]"
      ]
     },
     "execution_count": 32,
     "metadata": {},
     "output_type": "execute_result"
    }
   ],
   "source": [
    "model.evaluate(x_test,y_test) # 손실, 정확도"
   ]
  },
  {
   "cell_type": "markdown",
   "id": "eb3259d3",
   "metadata": {},
   "source": [
    "# 텐서\n"
   ]
  },
  {
   "cell_type": "code",
   "execution_count": 33,
   "id": "9263a185",
   "metadata": {
    "ExecuteTime": {
     "end_time": "2021-12-29T15:04:36.706600Z",
     "start_time": "2021-12-29T15:04:36.486190Z"
    }
   },
   "outputs": [
    {
     "data": {
      "text/plain": [
       "(60000, 28, 28)"
      ]
     },
     "execution_count": 33,
     "metadata": {},
     "output_type": "execute_result"
    }
   ],
   "source": [
    "mnistData = load_data()\n",
    "\n",
    "(x_train,y_train),(x_test,y_test) = mnistData\n",
    "\n",
    "x_train.shape"
   ]
  },
  {
   "cell_type": "code",
   "execution_count": 34,
   "id": "10a31417",
   "metadata": {
    "ExecuteTime": {
     "end_time": "2021-12-29T15:04:36.722558Z",
     "start_time": "2021-12-29T15:04:36.707598Z"
    }
   },
   "outputs": [
    {
     "data": {
      "text/plain": [
       "(60000, 784)"
      ]
     },
     "execution_count": 34,
     "metadata": {},
     "output_type": "execute_result"
    }
   ],
   "source": [
    "x_trainM = x_train.reshape(60000, -1 )  \n",
    "x_trainM.shape"
   ]
  },
  {
   "cell_type": "code",
   "execution_count": 35,
   "id": "7cbebe04",
   "metadata": {
    "ExecuteTime": {
     "end_time": "2021-12-29T15:04:36.738515Z",
     "start_time": "2021-12-29T15:04:36.723555Z"
    },
    "scrolled": true
   },
   "outputs": [
    {
     "data": {
      "text/plain": [
       "array([[0., 0., 0., ..., 0., 0., 0.],\n",
       "       [1., 0., 0., ..., 0., 0., 0.],\n",
       "       [0., 0., 0., ..., 0., 0., 0.],\n",
       "       ...,\n",
       "       [0., 0., 0., ..., 0., 0., 0.],\n",
       "       [0., 0., 0., ..., 0., 0., 0.],\n",
       "       [0., 0., 0., ..., 0., 1., 0.]], dtype=float32)"
      ]
     },
     "execution_count": 35,
     "metadata": {},
     "output_type": "execute_result"
    }
   ],
   "source": [
    "y_trainOne = to_categorical(y_train)\n",
    "y_trainOne"
   ]
  },
  {
   "cell_type": "code",
   "execution_count": 36,
   "id": "8f2b20d1",
   "metadata": {
    "ExecuteTime": {
     "end_time": "2021-12-29T15:04:36.770431Z",
     "start_time": "2021-12-29T15:04:36.740511Z"
    }
   },
   "outputs": [],
   "source": [
    "x_trainM = tf.cast(x_trainM, dtype=tf.float32)"
   ]
  },
  {
   "cell_type": "code",
   "execution_count": 37,
   "id": "be7d3cb5",
   "metadata": {
    "ExecuteTime": {
     "end_time": "2021-12-29T15:04:36.786391Z",
     "start_time": "2021-12-29T15:04:36.771428Z"
    }
   },
   "outputs": [
    {
     "data": {
      "text/plain": [
       "(60000,)"
      ]
     },
     "execution_count": 37,
     "metadata": {},
     "output_type": "execute_result"
    }
   ],
   "source": [
    "y_train.shape"
   ]
  },
  {
   "cell_type": "code",
   "execution_count": 38,
   "id": "41ec2534",
   "metadata": {
    "ExecuteTime": {
     "end_time": "2021-12-29T15:04:36.801347Z",
     "start_time": "2021-12-29T15:04:36.788381Z"
    }
   },
   "outputs": [
    {
     "data": {
      "text/plain": [
       "(TensorShape([60000, 784]), (60000, 10))"
      ]
     },
     "execution_count": 38,
     "metadata": {},
     "output_type": "execute_result"
    }
   ],
   "source": [
    "x_trainM.shape, y_trainOne.shape"
   ]
  },
  {
   "cell_type": "code",
   "execution_count": 39,
   "id": "bdea3dc1",
   "metadata": {
    "ExecuteTime": {
     "end_time": "2021-12-29T15:04:36.816308Z",
     "start_time": "2021-12-29T15:04:36.802344Z"
    }
   },
   "outputs": [],
   "source": [
    "# x = tf.constant(x_trainM, tf.float32)\n",
    "# y= tf.constant(y_trainOne, tf.float32)"
   ]
  },
  {
   "cell_type": "code",
   "execution_count": 40,
   "id": "46036f0c",
   "metadata": {
    "ExecuteTime": {
     "end_time": "2021-12-29T15:04:36.831267Z",
     "start_time": "2021-12-29T15:04:36.817304Z"
    }
   },
   "outputs": [],
   "source": [
    "initX = tf.initializers.GlorotUniform()\n",
    "w1 = tf.Variable(initX(shape=[784,64]))\n",
    "b1 = tf.Variable(initX(shape = [64]))\n",
    "w2 = tf.Variable( initX( shape=[64,32] ) )\n",
    "b2 = tf.Variable( initX( shape=[32] ) )\n",
    "w3 = tf.Variable( initX( shape=[32,10] ) ) #1은 남겨야 한다.\n",
    "b3 = tf.Variable( initX( shape=[10] ) ) "
   ]
  },
  {
   "cell_type": "code",
   "execution_count": 41,
   "id": "51ebea24",
   "metadata": {
    "ExecuteTime": {
     "end_time": "2021-12-29T15:04:36.847251Z",
     "start_time": "2021-12-29T15:04:36.832265Z"
    }
   },
   "outputs": [],
   "source": [
    "def compute_loss():\n",
    "    z1 = tf.matmul( x_trainM, w1) + b1\n",
    "    hx1 = tf.nn.relu( z1 ) \n",
    "    z2 = tf.matmul( hx1, w2 ) + b2\n",
    "    hx2 = tf.nn.relu( z2 )\n",
    "    z = tf.matmul( hx2, w3 ) + b3\n",
    "    \n",
    "    cost_i = tf.nn.softmax_cross_entropy_with_logits( logits=z, labels = y_trainOne)\n",
    "    cost = tf.reduce_mean( cost_i)\n",
    "    return cost"
   ]
  },
  {
   "cell_type": "markdown",
   "id": "28fa81d3",
   "metadata": {},
   "source": [
    "# 1000번이라 오래걸림"
   ]
  },
  {
   "cell_type": "code",
   "execution_count": 42,
   "id": "3b353040",
   "metadata": {
    "ExecuteTime": {
     "end_time": "2021-12-29T15:06:28.537557Z",
     "start_time": "2021-12-29T15:04:36.848249Z"
    }
   },
   "outputs": [
    {
     "name": "stdout",
     "output_type": "stream",
     "text": [
      "0 106.50827\n",
      "1 61.398033\n",
      "2 33.679443\n",
      "3 31.595371\n",
      "4 16.891808\n",
      "5 7.3657374\n",
      "6 5.147398\n",
      "7 3.92007\n",
      "8 2.8514998\n",
      "9 2.3878224\n",
      "10 2.3266437\n",
      "11 2.346018\n",
      "12 2.3535948\n",
      "13 2.342696\n",
      "14 2.3280525\n",
      "15 2.3156304\n",
      "16 2.3075657\n",
      "17 2.3018641\n",
      "18 2.296574\n",
      "19 2.2903793\n",
      "20 2.2837245\n",
      "21 2.276526\n",
      "22 2.2686167\n",
      "23 2.2617488\n",
      "24 2.2558236\n",
      "25 2.2505722\n",
      "26 2.2458997\n",
      "27 2.2434938\n",
      "28 2.2438645\n",
      "29 2.245756\n",
      "30 2.246939\n",
      "31 2.2451448\n",
      "32 2.240079\n",
      "33 2.2337444\n",
      "34 2.2283614\n",
      "35 2.2251847\n",
      "36 2.2231362\n",
      "37 2.221751\n",
      "38 2.2203689\n",
      "39 2.2189114\n",
      "40 2.217225\n",
      "41 2.2152917\n",
      "42 2.2130876\n",
      "43 2.2105496\n",
      "44 2.2077239\n",
      "45 2.2047281\n",
      "46 2.2016797\n",
      "47 2.1986089\n",
      "48 2.1962588\n",
      "49 2.194289\n",
      "50 2.192801\n",
      "51 2.1914198\n",
      "52 2.1896555\n",
      "53 2.187193\n",
      "54 2.1844676\n",
      "55 2.1820314\n",
      "56 2.1800945\n",
      "57 2.1784258\n",
      "58 2.176825\n",
      "59 2.175181\n",
      "60 2.1733963\n",
      "61 2.1714437\n",
      "62 2.1694345\n",
      "63 2.1674254\n",
      "64 2.1654983\n",
      "65 2.1638262\n",
      "66 2.1623232\n",
      "67 2.1608248\n",
      "68 2.1591735\n",
      "69 2.1573584\n",
      "70 2.1555276\n",
      "71 2.1538525\n",
      "72 2.1523058\n",
      "73 2.1508658\n",
      "74 2.1493938\n",
      "75 2.1478672\n",
      "76 2.1463766\n",
      "77 2.144911\n",
      "78 2.1435564\n",
      "79 2.1422336\n",
      "80 2.1409109\n",
      "81 2.1395955\n",
      "82 2.1382515\n",
      "83 2.1369102\n",
      "84 2.135603\n",
      "85 2.1343198\n",
      "86 2.1330192\n",
      "87 2.131706\n",
      "88 2.1303377\n",
      "89 2.128975\n",
      "90 2.1276498\n",
      "91 2.126367\n",
      "92 2.1250412\n",
      "93 2.1237235\n",
      "94 2.122458\n",
      "95 2.1211574\n",
      "96 2.1198747\n",
      "97 2.1186252\n",
      "98 2.1174111\n",
      "99 2.1162145\n",
      "100 2.1150079\n",
      "101 2.1138062\n",
      "102 2.1125987\n",
      "103 2.111445\n",
      "104 2.1103349\n",
      "105 2.1092124\n",
      "106 2.1080809\n",
      "107 2.106972\n",
      "108 2.1058981\n",
      "109 2.1048567\n",
      "110 2.10383\n",
      "111 2.1028173\n",
      "112 2.101761\n",
      "113 2.1007082\n",
      "114 2.0997703\n",
      "115 2.098779\n",
      "116 2.0977783\n",
      "117 2.0967789\n",
      "118 2.095789\n",
      "119 2.0948057\n",
      "120 2.0938077\n",
      "121 2.0927818\n",
      "122 2.0917015\n",
      "123 2.0906503\n",
      "124 2.089591\n",
      "125 2.0885632\n",
      "126 2.087481\n",
      "127 2.0863822\n",
      "128 2.0852835\n",
      "129 2.0841827\n",
      "130 2.0830388\n",
      "131 2.0817916\n",
      "132 2.0804968\n",
      "133 2.0790992\n",
      "134 2.07765\n",
      "135 2.0762172\n",
      "136 2.074714\n",
      "137 2.0731387\n",
      "138 2.071911\n",
      "139 2.071051\n",
      "140 2.0704627\n",
      "141 2.0695846\n",
      "142 2.068004\n",
      "143 2.066332\n",
      "144 2.0649142\n",
      "145 2.063513\n",
      "146 2.0622907\n",
      "147 2.061154\n",
      "148 2.0599658\n",
      "149 2.0586293\n",
      "150 2.0572069\n",
      "151 2.0558753\n",
      "152 2.0546358\n",
      "153 2.0533242\n",
      "154 2.0519311\n",
      "155 2.0505972\n",
      "156 2.0492294\n",
      "157 2.0476816\n",
      "158 2.0461695\n",
      "159 2.04473\n",
      "160 2.0433524\n",
      "161 2.0418756\n",
      "162 2.0403645\n",
      "163 2.03881\n",
      "164 2.0373778\n",
      "165 2.035914\n",
      "166 2.0344574\n",
      "167 2.0330145\n",
      "168 2.0315533\n",
      "169 2.0301046\n",
      "170 2.0285797\n",
      "171 2.0271225\n",
      "172 2.0256817\n",
      "173 2.0242484\n",
      "174 2.0227923\n",
      "175 2.021367\n",
      "176 2.019933\n",
      "177 2.0184202\n",
      "178 2.0169725\n",
      "179 2.0155818\n",
      "180 2.0141962\n",
      "181 2.0127163\n",
      "182 2.011207\n",
      "183 2.0096912\n",
      "184 2.0081663\n",
      "185 2.0065577\n",
      "186 2.0049827\n",
      "187 2.003417\n",
      "188 2.0017705\n",
      "189 2.000096\n",
      "190 1.9983507\n",
      "191 1.9966427\n",
      "192 1.9949474\n",
      "193 1.9932052\n",
      "194 1.9914136\n",
      "195 1.9895226\n",
      "196 1.9876578\n",
      "197 1.9859055\n",
      "198 1.9848864\n",
      "199 1.9839166\n",
      "200 1.9858106\n",
      "201 1.977687\n",
      "202 1.9811404\n",
      "203 1.9907339\n",
      "204 1.9769924\n",
      "205 1.9883518\n",
      "206 1.9713604\n",
      "207 1.9806936\n",
      "208 1.9633722\n",
      "209 1.9778863\n",
      "210 1.9580736\n",
      "211 1.966948\n",
      "212 1.9542749\n",
      "213 1.9570882\n",
      "214 1.9487336\n",
      "215 1.9488727\n",
      "216 1.9443065\n",
      "217 1.939631\n",
      "218 1.9396297\n",
      "219 1.9318924\n",
      "220 1.9341173\n",
      "221 1.9251928\n",
      "222 1.9265333\n",
      "223 1.9189913\n",
      "224 1.9194149\n",
      "225 1.9121274\n",
      "226 1.9125041\n",
      "227 1.9052534\n",
      "228 1.9050483\n",
      "229 1.899471\n",
      "230 1.8976036\n",
      "231 1.8932469\n",
      "232 1.8912466\n",
      "233 1.8870231\n",
      "234 1.8854773\n",
      "235 1.8809794\n",
      "236 1.8795546\n",
      "237 1.8755372\n",
      "238 1.8733102\n",
      "239 1.8701963\n",
      "240 1.8673828\n",
      "241 1.8650963\n",
      "242 1.8616081\n",
      "243 1.859928\n",
      "244 1.856575\n",
      "245 1.8546984\n",
      "246 1.8516542\n",
      "247 1.8495747\n",
      "248 1.8470103\n",
      "249 1.8445916\n",
      "250 1.8424625\n",
      "251 1.8400365\n",
      "252 1.8380185\n",
      "253 1.836042\n",
      "254 1.8336221\n",
      "255 1.8319262\n",
      "256 1.8296126\n",
      "257 1.8277906\n",
      "258 1.8258393\n",
      "259 1.82373\n",
      "260 1.8219807\n",
      "261 1.8200281\n",
      "262 1.818201\n",
      "263 1.8164779\n",
      "264 1.8146045\n",
      "265 1.8129643\n",
      "266 1.8112229\n",
      "267 1.809513\n",
      "268 1.8078986\n",
      "269 1.806162\n",
      "270 1.8045382\n",
      "271 1.8028841\n",
      "272 1.8012285\n",
      "273 1.7996354\n",
      "274 1.7980714\n",
      "275 1.7964923\n",
      "276 1.7950025\n",
      "277 1.793511\n",
      "278 1.7920623\n",
      "279 1.7906544\n",
      "280 1.7893002\n",
      "281 1.7879206\n",
      "282 1.7865846\n",
      "283 1.785281\n",
      "284 1.7839706\n",
      "285 1.7827122\n",
      "286 1.7814838\n",
      "287 1.7802508\n",
      "288 1.7790526\n",
      "289 1.7778854\n",
      "290 1.776693\n",
      "291 1.7755079\n",
      "292 1.7743849\n",
      "293 1.7733017\n",
      "294 1.7721642\n",
      "295 1.7710339\n",
      "296 1.7699679\n",
      "297 1.768947\n",
      "298 1.7678987\n",
      "299 1.7668321\n",
      "300 1.7658122\n",
      "301 1.7648125\n",
      "302 1.7638271\n",
      "303 1.7628601\n",
      "304 1.7619169\n",
      "305 1.7610106\n",
      "306 1.7601231\n",
      "307 1.7592877\n",
      "308 1.758437\n",
      "309 1.7576214\n",
      "310 1.756898\n",
      "311 1.7561585\n",
      "312 1.7556474\n",
      "313 1.7553678\n",
      "314 1.7547524\n",
      "315 1.7547063\n",
      "316 1.7535845\n",
      "317 1.7525986\n",
      "318 1.7507219\n",
      "319 1.7491481\n",
      "320 1.7483268\n",
      "321 1.7478976\n",
      "322 1.7473885\n",
      "323 1.7464976\n",
      "324 1.745544\n",
      "325 1.7446429\n",
      "326 1.7438382\n",
      "327 1.7431939\n",
      "328 1.7426018\n",
      "329 1.7420691\n",
      "330 1.7415106\n",
      "331 1.7412894\n",
      "332 1.7410543\n",
      "333 1.7410177\n",
      "334 1.7403597\n",
      "335 1.7398875\n",
      "336 1.73861\n",
      "337 1.7375661\n",
      "338 1.7363492\n",
      "339 1.7354683\n",
      "340 1.7346841\n",
      "341 1.7340069\n",
      "342 1.7333848\n",
      "343 1.7328142\n",
      "344 1.7323062\n",
      "345 1.7320181\n",
      "346 1.7320316\n",
      "347 1.7327517\n",
      "348 1.736384\n",
      "349 1.7387338\n",
      "350 1.7518467\n",
      "351 1.7405483\n",
      "352 1.7348024\n",
      "353 1.7272141\n",
      "354 1.7345368\n",
      "355 1.7418404\n",
      "356 1.7267746\n",
      "357 1.7329922\n",
      "358 1.7410879\n",
      "359 1.7246146\n",
      "360 1.7356482\n",
      "361 1.7436091\n",
      "362 1.7229961\n",
      "363 1.7474979\n",
      "364 1.7645872\n",
      "365 1.7243873\n",
      "366 1.7762406\n",
      "367 1.7829477\n",
      "368 1.7495046\n",
      "369 1.7763644\n",
      "370 1.7218305\n",
      "371 1.7553624\n",
      "372 1.7237322\n",
      "373 1.7486941\n",
      "374 1.7216774\n",
      "375 1.7412654\n",
      "376 1.7223647\n",
      "377 1.7339014\n",
      "378 1.7227923\n",
      "379 1.726218\n",
      "380 1.7223554\n",
      "381 1.7211943\n",
      "382 1.7208161\n",
      "383 1.7181175\n",
      "384 1.7199928\n",
      "385 1.7149105\n",
      "386 1.7175742\n",
      "387 1.7148833\n",
      "388 1.7152275\n",
      "389 1.7130961\n",
      "390 1.7132541\n",
      "391 1.7122427\n",
      "392 1.7113994\n",
      "393 1.7114477\n",
      "394 1.708825\n",
      "395 1.7102956\n",
      "396 1.7075465\n",
      "397 1.7087961\n",
      "398 1.7066314\n",
      "399 1.7072029\n",
      "400 1.7056078\n",
      "401 1.706098\n",
      "402 1.7051823\n",
      "403 1.7046962\n",
      "404 1.704331\n",
      "405 1.7030135\n",
      "406 1.7032466\n",
      "407 1.7019957\n",
      "408 1.7021111\n",
      "409 1.701307\n",
      "410 1.7006891\n",
      "411 1.7005581\n",
      "412 1.6996303\n",
      "413 1.6994003\n",
      "414 1.6988931\n",
      "415 1.6981945\n",
      "416 1.697968\n",
      "417 1.6973336\n",
      "418 1.6968151\n",
      "419 1.6965246\n",
      "420 1.6958421\n",
      "421 1.695419\n",
      "422 1.6949964\n",
      "423 1.6943232\n",
      "424 1.6939526\n",
      "425 1.6934805\n",
      "426 1.692782\n",
      "427 1.6923625\n",
      "428 1.6918724\n",
      "429 1.691249\n",
      "430 1.6906735\n",
      "431 1.6902725\n",
      "432 1.6897576\n",
      "433 1.6890411\n",
      "434 1.6884221\n",
      "435 1.6879092\n",
      "436 1.6872663\n",
      "437 1.6865635\n",
      "438 1.6860276\n",
      "439 1.6856394\n",
      "440 1.6851419\n",
      "441 1.6853453\n",
      "442 1.6858705\n",
      "443 1.6900784\n",
      "444 1.6930325\n",
      "445 1.7260323\n",
      "446 1.685365\n",
      "447 1.6822042\n",
      "448 1.700105\n",
      "449 1.6828247\n",
      "450 1.6786458\n",
      "451 1.6828196\n",
      "452 1.6819435\n",
      "453 1.6840385\n",
      "454 1.6762487\n",
      "455 1.6730378\n",
      "456 1.6725315\n",
      "457 1.6752875\n",
      "458 1.6964422\n",
      "459 1.7024516\n",
      "460 1.8088435\n",
      "461 1.6955372\n",
      "462 2.203754\n",
      "463 2.2927723\n",
      "464 2.4150329\n",
      "465 2.4861407\n",
      "466 2.5371222\n",
      "467 2.558246\n",
      "468 2.551648\n",
      "469 2.5191188\n",
      "470 2.4655719\n",
      "471 2.3970506\n",
      "472 2.3284411\n",
      "473 2.2747188\n",
      "474 2.2783608\n",
      "475 2.333152\n",
      "476 2.2866454\n",
      "477 2.2027345\n",
      "478 2.2978094\n",
      "479 2.2144396\n",
      "480 2.187789\n",
      "481 2.194531\n",
      "482 2.2014704\n",
      "483 2.2058172\n",
      "484 2.205351\n",
      "485 2.1990438\n",
      "486 2.1887014\n",
      "487 2.1769698\n",
      "488 2.165744\n",
      "489 2.1548193\n",
      "490 2.1430695\n",
      "491 2.130545\n",
      "492 2.1200163\n",
      "493 2.1076033\n",
      "494 2.0974422\n",
      "495 2.090029\n",
      "496 2.0770826\n",
      "497 2.0706894\n",
      "498 2.0730014\n",
      "499 2.066702\n",
      "500 2.057784\n",
      "501 2.054475\n",
      "502 2.0543282\n",
      "503 2.0506911\n",
      "504 2.043461\n",
      "505 2.0372744\n",
      "506 2.032714\n",
      "507 2.02677\n",
      "508 2.018786\n",
      "509 2.0125866\n",
      "510 2.0095866\n",
      "511 2.004641\n",
      "512 2.0005124\n",
      "513 1.9987508\n",
      "514 1.9957808\n",
      "515 1.9928601\n",
      "516 1.9892297\n",
      "517 1.9839218\n",
      "518 1.9794219\n",
      "519 1.9785085\n",
      "520 1.9766742\n",
      "521 1.9731696\n",
      "522 1.9703432\n",
      "523 1.9672214\n",
      "524 1.9646646\n",
      "525 1.9630305\n",
      "526 1.9604762\n",
      "527 1.9582326\n",
      "528 1.9565997\n",
      "529 1.9539487\n",
      "530 1.9514208\n",
      "531 1.9494472\n",
      "532 1.9471604\n",
      "533 1.945051\n",
      "534 1.9429789\n",
      "535 1.9400731\n",
      "536 1.938019\n",
      "537 1.935926\n",
      "538 1.9339408\n",
      "539 1.9321737\n",
      "540 1.9299508\n",
      "541 1.9280365\n",
      "542 1.9260807\n",
      "543 1.9243174\n",
      "544 1.922588\n",
      "545 1.9205976\n",
      "546 1.9188336\n",
      "547 1.9168174\n",
      "548 1.9151156\n",
      "549 1.9132428\n",
      "550 1.9113945\n",
      "551 1.9095964\n",
      "552 1.9079003\n",
      "553 1.90629\n",
      "554 1.9047005\n",
      "555 1.9031059\n",
      "556 1.9015594\n",
      "557 1.9000797\n",
      "558 1.8986441\n",
      "559 1.8971672\n",
      "560 1.8956752\n",
      "561 1.8942333\n",
      "562 1.8928422\n",
      "563 1.8914871\n",
      "564 1.8900818\n",
      "565 1.8886797\n",
      "566 1.887299\n",
      "567 1.8859023\n",
      "568 1.8845419\n",
      "569 1.8831145\n",
      "570 1.8819932\n",
      "571 1.8807211\n",
      "572 1.879538\n",
      "573 1.8784916\n",
      "574 1.8773649\n",
      "575 1.8763833\n",
      "576 1.8753861\n",
      "577 1.8743477\n",
      "578 1.8735054\n",
      "579 1.872587\n",
      "580 1.8716496\n",
      "581 1.870865\n",
      "582 1.8699868\n",
      "583 1.8690833\n",
      "584 1.8682761\n",
      "585 1.8673831\n",
      "586 1.8665205\n",
      "587 1.865695\n",
      "588 1.8648684\n",
      "589 1.8640515\n",
      "590 1.8633049\n",
      "591 1.8625498\n",
      "592 1.8617604\n",
      "593 1.8610271\n",
      "594 1.8603197\n",
      "595 1.8595573\n",
      "596 1.8587917\n",
      "597 1.8580805\n",
      "598 1.8573388\n",
      "599 1.8566548\n",
      "600 1.8559343\n",
      "601 1.855226\n",
      "602 1.8545445\n"
     ]
    },
    {
     "name": "stdout",
     "output_type": "stream",
     "text": [
      "603 1.853857\n",
      "604 1.8531482\n",
      "605 1.8524542\n",
      "606 1.8517624\n",
      "607 1.8510513\n",
      "608 1.8503499\n",
      "609 1.8496474\n",
      "610 1.8489499\n",
      "611 1.8482485\n",
      "612 1.8475711\n",
      "613 1.846912\n",
      "614 1.8462687\n",
      "615 1.8456258\n",
      "616 1.8449461\n",
      "617 1.8442343\n",
      "618 1.8434949\n",
      "619 1.8427844\n",
      "620 1.8420497\n",
      "621 1.8413054\n",
      "622 1.8405573\n",
      "623 1.839842\n",
      "624 1.839195\n",
      "625 1.8385696\n",
      "626 1.8379623\n",
      "627 1.837339\n",
      "628 1.836718\n",
      "629 1.836077\n",
      "630 1.835476\n",
      "631 1.8348761\n",
      "632 1.8342707\n",
      "633 1.8336638\n",
      "634 1.8330457\n",
      "635 1.8324336\n",
      "636 1.8318253\n",
      "637 1.8312174\n",
      "638 1.8305982\n",
      "639 1.8299806\n",
      "640 1.8293611\n",
      "641 1.8287479\n",
      "642 1.8281604\n",
      "643 1.8275776\n",
      "644 1.8270093\n",
      "645 1.826403\n",
      "646 1.8257412\n",
      "647 1.8250996\n",
      "648 1.8244929\n",
      "649 1.8239028\n",
      "650 1.8233256\n",
      "651 1.8226831\n",
      "652 1.8220482\n",
      "653 1.8214626\n",
      "654 1.8209335\n",
      "655 1.8204223\n",
      "656 1.8198029\n",
      "657 1.8191224\n",
      "658 1.8184586\n",
      "659 1.817877\n",
      "660 1.817335\n",
      "661 1.8167692\n",
      "662 1.8161315\n",
      "663 1.8155186\n",
      "664 1.8148355\n",
      "665 1.814132\n",
      "666 1.8134966\n",
      "667 1.8129249\n",
      "668 1.812338\n",
      "669 1.8116951\n",
      "670 1.8110389\n",
      "671 1.8104166\n",
      "672 1.8098198\n",
      "673 1.8092153\n",
      "674 1.8085978\n",
      "675 1.8079646\n",
      "676 1.8073101\n",
      "677 1.8066336\n",
      "678 1.8059947\n",
      "679 1.8054259\n",
      "680 1.8048576\n",
      "681 1.804302\n",
      "682 1.803611\n",
      "683 1.8029329\n",
      "684 1.8022673\n",
      "685 1.8016398\n",
      "686 1.8010497\n",
      "687 1.800475\n",
      "688 1.7999572\n",
      "689 1.799392\n",
      "690 1.7988092\n",
      "691 1.7979816\n",
      "692 1.7971407\n",
      "693 1.7965281\n",
      "694 1.7958951\n",
      "695 1.7950847\n",
      "696 1.7942733\n",
      "697 1.7934722\n",
      "698 1.792681\n",
      "699 1.7918664\n",
      "700 1.7910503\n",
      "701 1.7902136\n",
      "702 1.7893606\n",
      "703 1.7885278\n",
      "704 1.7877016\n",
      "705 1.786661\n",
      "706 1.7855078\n",
      "707 1.7843238\n",
      "708 1.7831564\n",
      "709 1.7818639\n",
      "710 1.7803878\n",
      "711 1.7788073\n",
      "712 1.7770813\n",
      "713 1.7752033\n",
      "714 1.7731663\n",
      "715 1.770872\n",
      "716 1.7684406\n",
      "717 1.7659943\n",
      "718 1.7640316\n",
      "719 1.7638544\n",
      "720 1.76697\n",
      "721 1.7866323\n",
      "722 1.7778995\n",
      "723 1.797761\n",
      "724 1.7370799\n",
      "725 1.7469563\n",
      "726 1.7904539\n",
      "727 1.7135521\n",
      "728 1.7761841\n",
      "729 1.8072505\n",
      "730 1.7552102\n",
      "731 1.7731735\n",
      "732 1.700258\n",
      "733 1.7207898\n",
      "734 1.7069572\n",
      "735 1.6960814\n",
      "736 1.7139419\n",
      "737 1.6846075\n",
      "738 1.7015135\n",
      "739 1.688968\n",
      "740 1.6792974\n",
      "741 1.6907132\n",
      "742 1.6741405\n",
      "743 1.6755767\n",
      "744 1.6735771\n",
      "745 1.6630609\n",
      "746 1.6670331\n",
      "747 1.6603453\n",
      "748 1.6551859\n",
      "749 1.656239\n",
      "750 1.6493181\n",
      "751 1.6484934\n",
      "752 1.6466433\n",
      "753 1.6407424\n",
      "754 1.6419094\n",
      "755 1.6381649\n",
      "756 1.6343001\n",
      "757 1.6341052\n",
      "758 1.629516\n",
      "759 1.62876\n",
      "760 1.6259612\n",
      "761 1.6231189\n",
      "762 1.6216052\n",
      "763 1.6188905\n",
      "764 1.6179969\n",
      "765 1.6154445\n",
      "766 1.6131814\n",
      "767 1.6118968\n",
      "768 1.6091412\n",
      "769 1.6079224\n",
      "770 1.6054401\n",
      "771 1.6038411\n",
      "772 1.602044\n",
      "773 1.600095\n",
      "774 1.5986522\n",
      "775 1.5968926\n",
      "776 1.595366\n",
      "777 1.5939758\n",
      "778 1.5925899\n",
      "779 1.5913123\n",
      "780 1.5902362\n",
      "781 1.5890752\n",
      "782 1.5881513\n",
      "783 1.5869198\n",
      "784 1.585907\n",
      "785 1.5845783\n",
      "786 1.5834424\n",
      "787 1.582137\n",
      "788 1.5810592\n",
      "789 1.579893\n",
      "790 1.5788176\n",
      "791 1.5776732\n",
      "792 1.5765898\n",
      "793 1.5754771\n",
      "794 1.5743115\n",
      "795 1.5731914\n",
      "796 1.5720541\n",
      "797 1.5709435\n",
      "798 1.5697906\n",
      "799 1.568754\n",
      "800 1.5676464\n",
      "801 1.5665985\n",
      "802 1.5655391\n",
      "803 1.5645138\n",
      "804 1.5634943\n",
      "805 1.5624427\n",
      "806 1.5613959\n",
      "807 1.5603586\n",
      "808 1.5593265\n",
      "809 1.5583212\n",
      "810 1.5572884\n",
      "811 1.5562766\n",
      "812 1.5552464\n",
      "813 1.554167\n",
      "814 1.5530809\n",
      "815 1.552015\n",
      "816 1.5509434\n",
      "817 1.5498843\n",
      "818 1.5488558\n",
      "819 1.5478437\n",
      "820 1.5468297\n",
      "821 1.5458034\n",
      "822 1.5447909\n",
      "823 1.5437675\n",
      "824 1.5427594\n",
      "825 1.5417448\n",
      "826 1.5407507\n",
      "827 1.5398008\n",
      "828 1.5388635\n",
      "829 1.537921\n",
      "830 1.5369872\n",
      "831 1.5360647\n",
      "832 1.5351596\n",
      "833 1.5342771\n",
      "834 1.5333872\n",
      "835 1.5325009\n",
      "836 1.5316256\n",
      "837 1.5307505\n",
      "838 1.5298628\n",
      "839 1.5289556\n",
      "840 1.5280629\n",
      "841 1.5271683\n",
      "842 1.5262539\n",
      "843 1.5254263\n",
      "844 1.5248216\n",
      "845 1.5247487\n",
      "846 1.5278325\n",
      "847 1.5359823\n",
      "848 1.6041198\n",
      "849 1.6175522\n",
      "850 1.6093668\n",
      "851 1.6071906\n",
      "852 1.5865004\n",
      "853 1.5705758\n",
      "854 1.55147\n",
      "855 1.5695417\n",
      "856 1.5759575\n",
      "857 1.5768441\n",
      "858 1.5635031\n",
      "859 1.5470396\n",
      "860 1.5455828\n",
      "861 1.5489982\n",
      "862 1.5519851\n",
      "863 1.5471315\n",
      "864 1.547024\n",
      "865 1.5395794\n",
      "866 1.5297693\n",
      "867 1.533215\n",
      "868 1.5313507\n",
      "869 1.5258042\n",
      "870 1.5288844\n",
      "871 1.5193318\n",
      "872 1.5195208\n",
      "873 1.518255\n",
      "874 1.5104002\n",
      "875 1.5144714\n",
      "876 1.5089658\n",
      "877 1.5113535\n",
      "878 1.5083698\n",
      "879 1.5055593\n",
      "880 1.5056154\n",
      "881 1.501337\n",
      "882 1.5021157\n",
      "883 1.4954785\n",
      "884 1.4980972\n",
      "885 1.4972782\n",
      "886 1.4956735\n",
      "887 1.489941\n",
      "888 1.4854956\n",
      "889 1.4863954\n",
      "890 1.477101\n",
      "891 1.4801722\n",
      "892 1.486407\n",
      "893 1.4651862\n",
      "894 1.4836097\n",
      "895 1.552032\n",
      "896 1.487068\n",
      "897 1.5272325\n",
      "898 1.4848228\n",
      "899 1.5305741\n",
      "900 1.5023354\n",
      "901 1.5332501\n",
      "902 1.4885263\n",
      "903 1.4998784\n",
      "904 1.4853635\n",
      "905 1.479937\n",
      "906 1.4777734\n",
      "907 1.4494148\n",
      "908 1.4813865\n",
      "909 1.4389927\n",
      "910 1.4567391\n",
      "911 1.4326599\n",
      "912 1.4499515\n",
      "913 1.4186372\n",
      "914 1.4359485\n",
      "915 1.4072902\n",
      "916 1.4273282\n",
      "917 1.4054573\n",
      "918 1.4158386\n",
      "919 1.3901047\n",
      "920 1.4023635\n",
      "921 1.3874767\n",
      "922 1.3704897\n",
      "923 1.3737034\n",
      "924 1.355071\n",
      "925 1.372235\n",
      "926 1.3976899\n",
      "927 1.3509731\n",
      "928 1.3557737\n",
      "929 1.3225777\n",
      "930 1.3904644\n",
      "931 1.5293951\n",
      "932 1.4640701\n",
      "933 1.4516357\n",
      "934 1.4326184\n",
      "935 1.4689938\n",
      "936 1.5029732\n",
      "937 1.4725807\n",
      "938 1.3569813\n",
      "939 1.4731588\n",
      "940 1.3884602\n",
      "941 1.495567\n",
      "942 1.386268\n",
      "943 1.3712877\n",
      "944 1.6438453\n",
      "945 1.504959\n",
      "946 1.6806823\n",
      "947 1.6175008\n",
      "948 1.5589842\n",
      "949 1.5207916\n",
      "950 1.5622782\n",
      "951 1.4833101\n",
      "952 1.464435\n",
      "953 1.4897808\n",
      "954 1.4937704\n",
      "955 1.451869\n",
      "956 1.4490618\n",
      "957 1.4325422\n",
      "958 1.4099602\n",
      "959 1.4078399\n",
      "960 1.4048995\n",
      "961 1.4042029\n",
      "962 1.408593\n",
      "963 1.387826\n",
      "964 1.372479\n",
      "965 1.3610888\n",
      "966 1.3521073\n",
      "967 1.3531786\n",
      "968 1.3495696\n",
      "969 1.3387512\n",
      "970 1.3436521\n",
      "971 1.3318765\n",
      "972 1.3281406\n",
      "973 1.3213732\n",
      "974 1.3105987\n",
      "975 1.3097197\n",
      "976 1.3066006\n",
      "977 1.299527\n",
      "978 1.292459\n",
      "979 1.2893589\n",
      "980 1.2856781\n",
      "981 1.277107\n",
      "982 1.2760078\n",
      "983 1.2744944\n",
      "984 1.2665604\n",
      "985 1.2628255\n",
      "986 1.2610089\n",
      "987 1.2557554\n",
      "988 1.2488394\n",
      "989 1.2448574\n",
      "990 1.2427236\n",
      "991 1.2374256\n",
      "992 1.2359216\n",
      "993 1.2281086\n",
      "994 1.2218424\n",
      "995 1.2164329\n",
      "996 1.2127622\n",
      "997 1.2127771\n",
      "998 1.2028157\n",
      "999 1.1997193\n"
     ]
    }
   ],
   "source": [
    "optimizer = Adam( learning_rate=0.01)\n",
    "for i in range(1000):\n",
    "    optimizer.minimize( compute_loss, var_list=[w1,w2,w3, b1,b2,b3])\n",
    "    print( i, compute_loss().numpy() )"
   ]
  },
  {
   "cell_type": "code",
   "execution_count": 43,
   "id": "874b1ef0",
   "metadata": {
    "ExecuteTime": {
     "end_time": "2021-12-29T15:06:28.553515Z",
     "start_time": "2021-12-29T15:06:28.538554Z"
    }
   },
   "outputs": [],
   "source": [
    "def hxfn(xdata):\n",
    "    xd = tf.constant(xdata, tf.float32)\n",
    "    z1 = tf.matmul(xd, w1)+b1\n",
    "    hx1 = tf.nn.relu( z1 ) \n",
    "    z2 = tf.matmul( hx1, w2 ) + b2\n",
    "    hx2 = tf.nn.relu( z2 )\n",
    "    z = tf.matmul( hx2, w3 ) + b3\n",
    "    hx = tf.nn.softmax(z)\n",
    "    return(hx.numpy()>0.5) +0"
   ]
  },
  {
   "cell_type": "code",
   "execution_count": 44,
   "id": "55913e74",
   "metadata": {
    "ExecuteTime": {
     "end_time": "2021-12-29T15:06:28.600389Z",
     "start_time": "2021-12-29T15:06:28.554512Z"
    }
   },
   "outputs": [],
   "source": [
    "pred = hxfn(x_trainM).argmax(axis = 1)"
   ]
  },
  {
   "cell_type": "code",
   "execution_count": 45,
   "id": "91273f9d",
   "metadata": {
    "ExecuteTime": {
     "end_time": "2021-12-29T15:06:28.616348Z",
     "start_time": "2021-12-29T15:06:28.601388Z"
    }
   },
   "outputs": [
    {
     "data": {
      "text/plain": [
       "0.45243333333333335"
      ]
     },
     "execution_count": 45,
     "metadata": {},
     "output_type": "execute_result"
    }
   ],
   "source": [
    "(pred ==y_train).mean()"
   ]
  }
 ],
 "metadata": {
  "kernelspec": {
   "display_name": "Python 3",
   "language": "python",
   "name": "python3"
  },
  "language_info": {
   "codemirror_mode": {
    "name": "ipython",
    "version": 3
   },
   "file_extension": ".py",
   "mimetype": "text/x-python",
   "name": "python",
   "nbconvert_exporter": "python",
   "pygments_lexer": "ipython3",
   "version": "3.8.8"
  },
  "toc": {
   "base_numbering": 1,
   "nav_menu": {},
   "number_sections": true,
   "sideBar": true,
   "skip_h1_title": false,
   "title_cell": "Table of Contents",
   "title_sidebar": "Contents",
   "toc_cell": false,
   "toc_position": {
    "height": "calc(100% - 180px)",
    "left": "10px",
    "top": "150px",
    "width": "212.882px"
   },
   "toc_section_display": true,
   "toc_window_display": true
  }
 },
 "nbformat": 4,
 "nbformat_minor": 5
}
