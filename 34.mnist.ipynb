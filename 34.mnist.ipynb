{
 "cells": [
  {
   "cell_type": "code",
   "execution_count": 1,
   "id": "5aa1dd15",
   "metadata": {},
   "outputs": [],
   "source": [
    "import tensorflow as tf\n",
    "import numpy as np\n",
    "import matplotlib.pyplot as plt\n",
    "from tensorflow.keras.layers import Dense\n",
    "from tensorflow.keras import Sequential\n",
    "import tensorflow as tf\n",
    "import numpy as np\n",
    "import matplotlib.pyplot as plt\n",
    "from tensorflow.keras.layers import Dense,Flatten\n",
    "from tensorflow.keras import Sequential\n",
    "from tensorflow.keras.optimizers import Adam\n",
    "from tensorflow.keras.datasets.mnist import load_data\n",
    "from tensorflow.keras.utils import to_categorical\n",
    "plt.style.use(\"ggplot\")"
   ]
  },
  {
   "cell_type": "code",
   "execution_count": 2,
   "id": "9ec3cdfa",
   "metadata": {},
   "outputs": [
    {
     "name": "stdout",
     "output_type": "stream",
     "text": [
      "Downloading data from https://storage.googleapis.com/tensorflow/tf-keras-datasets/mnist.npz\n",
      "11493376/11490434 [==============================] - 11s 1us/step\n",
      "11501568/11490434 [==============================] - 11s 1us/step\n"
     ]
    }
   ],
   "source": [
    "mnistData = load_data()"
   ]
  },
  {
   "cell_type": "code",
   "execution_count": 3,
   "id": "095e3346",
   "metadata": {},
   "outputs": [
    {
     "data": {
      "text/plain": [
       "((array([[[0, 0, 0, ..., 0, 0, 0],\n",
       "          [0, 0, 0, ..., 0, 0, 0],\n",
       "          [0, 0, 0, ..., 0, 0, 0],\n",
       "          ...,\n",
       "          [0, 0, 0, ..., 0, 0, 0],\n",
       "          [0, 0, 0, ..., 0, 0, 0],\n",
       "          [0, 0, 0, ..., 0, 0, 0]],\n",
       "  \n",
       "         [[0, 0, 0, ..., 0, 0, 0],\n",
       "          [0, 0, 0, ..., 0, 0, 0],\n",
       "          [0, 0, 0, ..., 0, 0, 0],\n",
       "          ...,\n",
       "          [0, 0, 0, ..., 0, 0, 0],\n",
       "          [0, 0, 0, ..., 0, 0, 0],\n",
       "          [0, 0, 0, ..., 0, 0, 0]],\n",
       "  \n",
       "         [[0, 0, 0, ..., 0, 0, 0],\n",
       "          [0, 0, 0, ..., 0, 0, 0],\n",
       "          [0, 0, 0, ..., 0, 0, 0],\n",
       "          ...,\n",
       "          [0, 0, 0, ..., 0, 0, 0],\n",
       "          [0, 0, 0, ..., 0, 0, 0],\n",
       "          [0, 0, 0, ..., 0, 0, 0]],\n",
       "  \n",
       "         ...,\n",
       "  \n",
       "         [[0, 0, 0, ..., 0, 0, 0],\n",
       "          [0, 0, 0, ..., 0, 0, 0],\n",
       "          [0, 0, 0, ..., 0, 0, 0],\n",
       "          ...,\n",
       "          [0, 0, 0, ..., 0, 0, 0],\n",
       "          [0, 0, 0, ..., 0, 0, 0],\n",
       "          [0, 0, 0, ..., 0, 0, 0]],\n",
       "  \n",
       "         [[0, 0, 0, ..., 0, 0, 0],\n",
       "          [0, 0, 0, ..., 0, 0, 0],\n",
       "          [0, 0, 0, ..., 0, 0, 0],\n",
       "          ...,\n",
       "          [0, 0, 0, ..., 0, 0, 0],\n",
       "          [0, 0, 0, ..., 0, 0, 0],\n",
       "          [0, 0, 0, ..., 0, 0, 0]],\n",
       "  \n",
       "         [[0, 0, 0, ..., 0, 0, 0],\n",
       "          [0, 0, 0, ..., 0, 0, 0],\n",
       "          [0, 0, 0, ..., 0, 0, 0],\n",
       "          ...,\n",
       "          [0, 0, 0, ..., 0, 0, 0],\n",
       "          [0, 0, 0, ..., 0, 0, 0],\n",
       "          [0, 0, 0, ..., 0, 0, 0]]], dtype=uint8),\n",
       "  array([5, 0, 4, ..., 5, 6, 8], dtype=uint8)),\n",
       " (array([[[0, 0, 0, ..., 0, 0, 0],\n",
       "          [0, 0, 0, ..., 0, 0, 0],\n",
       "          [0, 0, 0, ..., 0, 0, 0],\n",
       "          ...,\n",
       "          [0, 0, 0, ..., 0, 0, 0],\n",
       "          [0, 0, 0, ..., 0, 0, 0],\n",
       "          [0, 0, 0, ..., 0, 0, 0]],\n",
       "  \n",
       "         [[0, 0, 0, ..., 0, 0, 0],\n",
       "          [0, 0, 0, ..., 0, 0, 0],\n",
       "          [0, 0, 0, ..., 0, 0, 0],\n",
       "          ...,\n",
       "          [0, 0, 0, ..., 0, 0, 0],\n",
       "          [0, 0, 0, ..., 0, 0, 0],\n",
       "          [0, 0, 0, ..., 0, 0, 0]],\n",
       "  \n",
       "         [[0, 0, 0, ..., 0, 0, 0],\n",
       "          [0, 0, 0, ..., 0, 0, 0],\n",
       "          [0, 0, 0, ..., 0, 0, 0],\n",
       "          ...,\n",
       "          [0, 0, 0, ..., 0, 0, 0],\n",
       "          [0, 0, 0, ..., 0, 0, 0],\n",
       "          [0, 0, 0, ..., 0, 0, 0]],\n",
       "  \n",
       "         ...,\n",
       "  \n",
       "         [[0, 0, 0, ..., 0, 0, 0],\n",
       "          [0, 0, 0, ..., 0, 0, 0],\n",
       "          [0, 0, 0, ..., 0, 0, 0],\n",
       "          ...,\n",
       "          [0, 0, 0, ..., 0, 0, 0],\n",
       "          [0, 0, 0, ..., 0, 0, 0],\n",
       "          [0, 0, 0, ..., 0, 0, 0]],\n",
       "  \n",
       "         [[0, 0, 0, ..., 0, 0, 0],\n",
       "          [0, 0, 0, ..., 0, 0, 0],\n",
       "          [0, 0, 0, ..., 0, 0, 0],\n",
       "          ...,\n",
       "          [0, 0, 0, ..., 0, 0, 0],\n",
       "          [0, 0, 0, ..., 0, 0, 0],\n",
       "          [0, 0, 0, ..., 0, 0, 0]],\n",
       "  \n",
       "         [[0, 0, 0, ..., 0, 0, 0],\n",
       "          [0, 0, 0, ..., 0, 0, 0],\n",
       "          [0, 0, 0, ..., 0, 0, 0],\n",
       "          ...,\n",
       "          [0, 0, 0, ..., 0, 0, 0],\n",
       "          [0, 0, 0, ..., 0, 0, 0],\n",
       "          [0, 0, 0, ..., 0, 0, 0]]], dtype=uint8),\n",
       "  array([7, 2, 1, ..., 4, 5, 6], dtype=uint8)))"
      ]
     },
     "execution_count": 3,
     "metadata": {},
     "output_type": "execute_result"
    }
   ],
   "source": [
    "mnistData"
   ]
  },
  {
   "cell_type": "code",
   "execution_count": 5,
   "id": "b69d31b6",
   "metadata": {},
   "outputs": [],
   "source": [
    "(x_train,y_train),(x_test,y_test) = mnistData"
   ]
  },
  {
   "cell_type": "code",
   "execution_count": 6,
   "id": "8ef0e7c3",
   "metadata": {},
   "outputs": [
    {
     "data": {
      "text/plain": [
       "((60000, 28, 28), (10000, 28, 28), (10000,), (10000,))"
      ]
     },
     "execution_count": 6,
     "metadata": {},
     "output_type": "execute_result"
    }
   ],
   "source": [
    "x_train.shape,x_test.shape,y_test.shape , y_test.shape"
   ]
  },
  {
   "cell_type": "code",
   "execution_count": 12,
   "id": "bcbcbc49",
   "metadata": {},
   "outputs": [
    {
     "data": {
      "image/png": "[encoded data removed]",
      "text/plain": [
       "<Figure size 432x288 with 1 Axes>"
      ]
     },
     "metadata": {},
     "output_type": "display_data"
    }
   ],
   "source": [
    "plt.imshow(x_train[0])   # [면, 행, 열]\n",
    "plt.show()"
   ]
  },
  {
   "cell_type": "code",
   "execution_count": 18,
   "id": "83e48120",
   "metadata": {},
   "outputs": [
    {
     "data": {
      "text/plain": [
       "5"
      ]
     },
     "execution_count": 18,
     "metadata": {},
     "output_type": "execute_result"
    }
   ],
   "source": [
    "y_train[0]"
   ]
  },
  {
   "cell_type": "code",
   "execution_count": 19,
   "id": "fb48dfcb",
   "metadata": {},
   "outputs": [
    {
     "data": {
      "text/plain": [
       "array([5, 0, 4, ..., 5, 6, 8], dtype=uint8)"
      ]
     },
     "execution_count": 19,
     "metadata": {},
     "output_type": "execute_result"
    }
   ],
   "source": [
    "y_train  # y값을 인코딩해야함."
   ]
  },
  {
   "cell_type": "code",
   "execution_count": 24,
   "id": "bf482398",
   "metadata": {
    "scrolled": true
   },
   "outputs": [
    {
     "data": {
      "text/plain": [
       "array([[0., 0., 0., ..., 0., 0., 0.],\n",
       "       [1., 0., 0., ..., 0., 0., 0.],\n",
       "       [0., 0., 0., ..., 0., 0., 0.],\n",
       "       ...,\n",
       "       [0., 0., 0., ..., 0., 0., 0.],\n",
       "       [0., 0., 0., ..., 0., 0., 0.],\n",
       "       [0., 0., 0., ..., 0., 1., 0.]], dtype=float32)"
      ]
     },
     "execution_count": 24,
     "metadata": {},
     "output_type": "execute_result"
    }
   ],
   "source": [
    "y_trainOne = to_categorical(y_train)\n",
    "y_trainOne"
   ]
  },
  {
   "cell_type": "code",
   "execution_count": 26,
   "id": "90ac22a0",
   "metadata": {
    "scrolled": true
   },
   "outputs": [
    {
     "data": {
      "text/plain": [
       "(60000, 28, 28)"
      ]
     },
     "execution_count": 26,
     "metadata": {},
     "output_type": "execute_result"
    }
   ],
   "source": [
    "x_train.shape"
   ]
  },
  {
   "cell_type": "code",
   "execution_count": 29,
   "id": "b1e69b2a",
   "metadata": {},
   "outputs": [
    {
     "data": {
      "text/plain": [
       "(60000, 784)"
      ]
     },
     "execution_count": 29,
     "metadata": {},
     "output_type": "execute_result"
    }
   ],
   "source": [
    "x_trainM = x_train.reshape(60000,-1, )  # 2차원으로 변경\n",
    "x_trainM.shape"
   ]
  },
  {
   "cell_type": "code",
   "execution_count": 35,
   "id": "31c77790",
   "metadata": {},
   "outputs": [
    {
     "name": "stdout",
     "output_type": "stream",
     "text": [
      "Epoch 1/10\n",
      "1875/1875 [==============================] - 2s 783us/step - loss: 1.5837 - acc: 0.7656\n",
      "Epoch 2/10\n",
      "1875/1875 [==============================] - 1s 780us/step - loss: 0.4468 - acc: 0.8950\n",
      "Epoch 3/10\n",
      "1875/1875 [==============================] - 1s 771us/step - loss: 0.3087 - acc: 0.9258\n",
      "Epoch 4/10\n",
      "1875/1875 [==============================] - 1s 776us/step - loss: 0.2249 - acc: 0.9430\n",
      "Epoch 5/10\n",
      "1875/1875 [==============================] - 1s 773us/step - loss: 0.1902 - acc: 0.9506\n",
      "Epoch 6/10\n",
      "1875/1875 [==============================] - 1s 777us/step - loss: 0.1609 - acc: 0.9577\n",
      "Epoch 7/10\n",
      "1875/1875 [==============================] - 1s 763us/step - loss: 0.1432 - acc: 0.9626\n",
      "Epoch 8/10\n",
      "1875/1875 [==============================] - 1s 777us/step - loss: 0.1261 - acc: 0.9666\n",
      "Epoch 9/10\n",
      "1875/1875 [==============================] - 1s 768us/step - loss: 0.1179 - acc: 0.9679\n",
      "Epoch 10/10\n",
      "1875/1875 [==============================] - 1s 768us/step - loss: 0.1105 - acc: 0.9706\n"
     ]
    },
    {
     "data": {
      "text/plain": [
       "<keras.callbacks.History at 0x18c14879f40>"
      ]
     },
     "execution_count": 35,
     "metadata": {},
     "output_type": "execute_result"
    }
   ],
   "source": [
    "model = Sequential()\n",
    "model.add(Dense(units=64, input_dim = 784, activation='relu' )  )\n",
    "model.add(Dense(units=32, input_dim = 64, activation='relu' )  )\n",
    "model.add(Dense(units=10, input_dim = 32, activation='softmax' )  )\n",
    "\n",
    "model.compile(loss = 'categorical_crossentropy',optimizer='adam',metrics=['acc'])\n",
    "model.fit(x_trainM, y_trainOne,epochs=10)"
   ]
  },
  {
   "cell_type": "code",
   "execution_count": 36,
   "id": "e428ba4d",
   "metadata": {},
   "outputs": [
    {
     "data": {
      "text/plain": [
       "<matplotlib.image.AxesImage at 0x18c15c065e0>"
      ]
     },
     "execution_count": 36,
     "metadata": {},
     "output_type": "execute_result"
    },
    {
     "data": {
      "image/png": "[encoded data removed]",
      "text/plain": [
       "<Figure size 432x288 with 1 Axes>"
      ]
     },
     "metadata": {},
     "output_type": "display_data"
    }
   ],
   "source": [
    "plt.imshow(x_test[0])"
   ]
  },
  {
   "cell_type": "code",
   "execution_count": 38,
   "id": "264356e7",
   "metadata": {
    "scrolled": true
   },
   "outputs": [
    {
     "data": {
      "text/plain": [
       "(28, 28)"
      ]
     },
     "execution_count": 38,
     "metadata": {},
     "output_type": "execute_result"
    }
   ],
   "source": [
    "x_test[0].shape"
   ]
  },
  {
   "cell_type": "code",
   "execution_count": 43,
   "id": "87ca9a0c",
   "metadata": {},
   "outputs": [
    {
     "data": {
      "text/plain": [
       "array([7], dtype=int64)"
      ]
     },
     "execution_count": 43,
     "metadata": {},
     "output_type": "execute_result"
    }
   ],
   "source": [
    "model.predict( x_test[0].reshape(1,-1)).argmax(axis=1) "
   ]
  },
  {
   "cell_type": "code",
   "execution_count": 47,
   "id": "81062ae9",
   "metadata": {
    "scrolled": true
   },
   "outputs": [
    {
     "data": {
      "text/plain": [
       "((10000, 28, 28), (10000,))"
      ]
     },
     "execution_count": 47,
     "metadata": {},
     "output_type": "execute_result"
    }
   ],
   "source": [
    "x_test.shape, y_test.shape     #  x_test를 수정해야함"
   ]
  },
  {
   "cell_type": "code",
   "execution_count": 55,
   "id": "5476414b",
   "metadata": {},
   "outputs": [
    {
     "data": {
      "text/plain": [
       "array([0., 0., 0., 0., 0., 0., 0., 1., 0., 0.], dtype=float32)"
      ]
     },
     "execution_count": 55,
     "metadata": {},
     "output_type": "execute_result"
    }
   ],
   "source": [
    "y_test[0]"
   ]
  },
  {
   "cell_type": "code",
   "execution_count": 49,
   "id": "9494ca29",
   "metadata": {
    "scrolled": true
   },
   "outputs": [
    {
     "data": {
      "text/plain": [
       "array([[0, 0, 0, ..., 0, 0, 0],\n",
       "       [0, 0, 0, ..., 0, 0, 0],\n",
       "       [0, 0, 0, ..., 0, 0, 0],\n",
       "       ...,\n",
       "       [0, 0, 0, ..., 0, 0, 0],\n",
       "       [0, 0, 0, ..., 0, 0, 0],\n",
       "       [0, 0, 0, ..., 0, 0, 0]], dtype=uint8)"
      ]
     },
     "execution_count": 49,
     "metadata": {},
     "output_type": "execute_result"
    }
   ],
   "source": [
    "x_test.reshape(-1,28*28)"
   ]
  },
  {
   "cell_type": "code",
   "execution_count": 53,
   "id": "c5a1edf3",
   "metadata": {},
   "outputs": [
    {
     "data": {
      "text/plain": [
       "array([355,  97, 406, ..., 711, 464,  75], dtype=int64)"
      ]
     },
     "execution_count": 53,
     "metadata": {},
     "output_type": "execute_result"
    }
   ],
   "source": [
    "x_test.reshape(-1,28*28).argmax(axis=1)"
   ]
  },
  {
   "cell_type": "code",
   "execution_count": 51,
   "id": "38c71bca",
   "metadata": {},
   "outputs": [],
   "source": [
    "y_test = to_categorical(y_test)"
   ]
  },
  {
   "cell_type": "code",
   "execution_count": 57,
   "id": "b5965695",
   "metadata": {
    "scrolled": false
   },
   "outputs": [
    {
     "name": "stdout",
     "output_type": "stream",
     "text": [
      "313/313 [==============================] - 0s 829us/step - loss: 0.2143 - acc: 0.9544\n"
     ]
    },
    {
     "data": {
      "text/plain": [
       "[0.2142833024263382, 0.9544000029563904]"
      ]
     },
     "execution_count": 57,
     "metadata": {},
     "output_type": "execute_result"
    }
   ],
   "source": [
    "model.evaluate(x_test.reshape(-1,28*28),y_test)"
   ]
  },
  {
   "cell_type": "code",
   "execution_count": 58,
   "id": "5ed4a81e",
   "metadata": {},
   "outputs": [],
   "source": [
    "mnistData = load_data()\n",
    "\n",
    "(x_train,y_train),(x_test,y_test) = mnistData\n",
    "\n",
    "x_train.shape"
   ]
  },
  {
   "cell_type": "markdown",
   "id": "d0efab7d",
   "metadata": {},
   "source": [
    "\n",
    " # onehot인코딩 안하는 방법\n",
    " ## Flatten -> 1차원\n",
    " ## sparse_categorical_crossentropy"
   ]
  },
  {
   "cell_type": "code",
   "execution_count": 63,
   "id": "31049370",
   "metadata": {
    "collapsed": true
   },
   "outputs": [
    {
     "name": "stdout",
     "output_type": "stream",
     "text": [
      "Epoch 1/10\n",
      "1875/1875 [==============================] - 2s 840us/step - loss: 1.8359 - acc: 0.8239\n",
      "Epoch 2/10\n",
      "1875/1875 [==============================] - 2s 806us/step - loss: 0.3319 - acc: 0.9162\n",
      "Epoch 3/10\n",
      "1875/1875 [==============================] - 1s 797us/step - loss: 0.2420 - acc: 0.9356\n",
      "Epoch 4/10\n",
      "1875/1875 [==============================] - 1s 799us/step - loss: 0.2030 - acc: 0.9459\n",
      "Epoch 5/10\n",
      "1875/1875 [==============================] - 2s 848us/step - loss: 0.1647 - acc: 0.9545\n",
      "Epoch 6/10\n",
      "1875/1875 [==============================] - 2s 855us/step - loss: 0.1478 - acc: 0.9586\n",
      "Epoch 7/10\n",
      "1875/1875 [==============================] - 2s 933us/step - loss: 0.1300 - acc: 0.9635\n",
      "Epoch 8/10\n",
      "1875/1875 [==============================] - 2s 854us/step - loss: 0.1200 - acc: 0.9663\n",
      "Epoch 9/10\n",
      "1875/1875 [==============================] - 2s 829us/step - loss: 0.1160 - acc: 0.9664\n",
      "Epoch 10/10\n",
      "1875/1875 [==============================] - 2s 900us/step - loss: 0.1058 - acc: 0.9698\n"
     ]
    },
    {
     "data": {
      "text/plain": [
       "<keras.callbacks.History at 0x18c17f4b970>"
      ]
     },
     "execution_count": 63,
     "metadata": {},
     "output_type": "execute_result"
    }
   ],
   "source": [
    "model = Sequential()\n",
    "model.add(Flatten(input_shape = (28,28)))\n",
    "model.add(Dense(units=64,  activation='relu' )  )\n",
    "model.add(Dense(units=32,  activation='relu' )  )\n",
    "model.add(Dense(units=10,  activation='softmax' )  )\n",
    "\n",
    "model.compile(loss = 'sparse_categorical_crossentropy',optimizer='adam',metrics=['acc'])\n",
    "model.fit(x_train, y_train,epochs=10)"
   ]
  },
  {
   "cell_type": "code",
   "execution_count": 64,
   "id": "ed76b26b",
   "metadata": {
    "collapsed": true
   },
   "outputs": [
    {
     "data": {
      "text/plain": [
       "array([[3.6136591e-10, 2.5305143e-04, 2.1982378e-05, ..., 9.9967086e-01,\n",
       "        7.2612233e-06, 3.9866485e-05],\n",
       "       [8.6652960e-08, 2.0300411e-06, 9.9996924e-01, ..., 1.7650628e-06,\n",
       "        2.4436080e-05, 1.4869826e-08],\n",
       "       [2.0660894e-16, 9.9999976e-01, 1.2505336e-10, ..., 2.8664218e-07,\n",
       "        1.9543605e-22, 2.1052074e-17],\n",
       "       ...,\n",
       "       [1.1005100e-15, 2.5031547e-06, 3.7858148e-14, ..., 1.2665504e-05,\n",
       "        9.5520569e-10, 2.0293912e-06],\n",
       "       [8.3457478e-18, 2.9258997e-20, 1.9324808e-25, ..., 1.0496674e-15,\n",
       "        3.5277484e-12, 2.6249088e-22],\n",
       "       [2.0152767e-10, 1.3639767e-17, 3.2471835e-14, ..., 2.6960184e-10,\n",
       "        2.5244856e-10, 8.0488123e-09]], dtype=float32)"
      ]
     },
     "execution_count": 64,
     "metadata": {},
     "output_type": "execute_result"
    }
   ],
   "source": [
    "model.predict( x_test )"
   ]
  },
  {
   "cell_type": "code",
   "execution_count": 71,
   "id": "2658d900",
   "metadata": {
    "collapsed": true
   },
   "outputs": [
    {
     "data": {
      "text/plain": [
       "array([[[0, 0, 0, ..., 0, 0, 0],\n",
       "        [0, 0, 0, ..., 0, 0, 0],\n",
       "        [0, 0, 0, ..., 0, 0, 0],\n",
       "        ...,\n",
       "        [0, 0, 0, ..., 0, 0, 0],\n",
       "        [0, 0, 0, ..., 0, 0, 0],\n",
       "        [0, 0, 0, ..., 0, 0, 0]],\n",
       "\n",
       "       [[0, 0, 0, ..., 0, 0, 0],\n",
       "        [0, 0, 0, ..., 0, 0, 0],\n",
       "        [0, 0, 0, ..., 0, 0, 0],\n",
       "        ...,\n",
       "        [0, 0, 0, ..., 0, 0, 0],\n",
       "        [0, 0, 0, ..., 0, 0, 0],\n",
       "        [0, 0, 0, ..., 0, 0, 0]],\n",
       "\n",
       "       [[0, 0, 0, ..., 0, 0, 0],\n",
       "        [0, 0, 0, ..., 0, 0, 0],\n",
       "        [0, 0, 0, ..., 0, 0, 0],\n",
       "        ...,\n",
       "        [0, 0, 0, ..., 0, 0, 0],\n",
       "        [0, 0, 0, ..., 0, 0, 0],\n",
       "        [0, 0, 0, ..., 0, 0, 0]],\n",
       "\n",
       "       ...,\n",
       "\n",
       "       [[0, 0, 0, ..., 0, 0, 0],\n",
       "        [0, 0, 0, ..., 0, 0, 0],\n",
       "        [0, 0, 0, ..., 0, 0, 0],\n",
       "        ...,\n",
       "        [0, 0, 0, ..., 0, 0, 0],\n",
       "        [0, 0, 0, ..., 0, 0, 0],\n",
       "        [0, 0, 0, ..., 0, 0, 0]],\n",
       "\n",
       "       [[0, 0, 0, ..., 0, 0, 0],\n",
       "        [0, 0, 0, ..., 0, 0, 0],\n",
       "        [0, 0, 0, ..., 0, 0, 0],\n",
       "        ...,\n",
       "        [0, 0, 0, ..., 0, 0, 0],\n",
       "        [0, 0, 0, ..., 0, 0, 0],\n",
       "        [0, 0, 0, ..., 0, 0, 0]],\n",
       "\n",
       "       [[0, 0, 0, ..., 0, 0, 0],\n",
       "        [0, 0, 0, ..., 0, 0, 0],\n",
       "        [0, 0, 0, ..., 0, 0, 0],\n",
       "        ...,\n",
       "        [0, 0, 0, ..., 0, 0, 0],\n",
       "        [0, 0, 0, ..., 0, 0, 0],\n",
       "        [0, 0, 0, ..., 0, 0, 0]]], dtype=uint8)"
      ]
     },
     "execution_count": 71,
     "metadata": {},
     "output_type": "execute_result"
    }
   ],
   "source": [
    "x_test"
   ]
  },
  {
   "cell_type": "code",
   "execution_count": 70,
   "id": "b3bc1aca",
   "metadata": {},
   "outputs": [
    {
     "data": {
      "text/plain": [
       "array([7, 2, 1, ..., 4, 5, 6], dtype=uint8)"
      ]
     },
     "execution_count": 70,
     "metadata": {},
     "output_type": "execute_result"
    }
   ],
   "source": [
    "y_test"
   ]
  },
  {
   "cell_type": "code",
   "execution_count": 73,
   "id": "e3ba0c0d",
   "metadata": {
    "collapsed": true
   },
   "outputs": [
    {
     "data": {
      "text/plain": [
       "array([[  0,   0,   0,   0,   0,   0,   0,   0,   0,   0,   0,   0,   0,\n",
       "          0,   0,   0,   0,   0,   0,   0,   0,   0,   0,   0,   0,   0,\n",
       "          0,   0],\n",
       "       [  0,   0,   0,   0,   0,   0,   0,   0,   0,   0,   0,   0,   0,\n",
       "          0,   0,   0,   0,   0,   0,   0,   0,   0,   0,   0,   0,   0,\n",
       "          0,   0],\n",
       "       [  0,   0,   0,   0,   0,   0,   0,   0,   0,   0,   0,   0,   0,\n",
       "          0,   0,   0,   0,   0,   0,   0,   0,   0,   0,   0,   0,   0,\n",
       "          0,   0],\n",
       "       [  0,   0,   0,   0,   0,   0,   0,   0,   0,   0,   0,   0,   0,\n",
       "          0,   0,   0,   0,   0,   0,   0,   0,   0,   0,   0,   0,   0,\n",
       "          0,   0],\n",
       "       [  0,   0,   0,   0,   0,   0,   0,   0,   0,   0,   0,   0,   0,\n",
       "          0,   0,   0,   0,   0,   0,   0,   0,   0,   0,   0,   0,   0,\n",
       "          0,   0],\n",
       "       [  0,   0,   0,   0,   0,   0,   0,   0,   0,   0,   0,   0,   0,\n",
       "          0,   0,   0,   0,   0,   0,   0,   0,   0,   0,   0,   0,   0,\n",
       "          0,   0],\n",
       "       [  0,   0,   0,   0,   0,   0,   0,   0,   0,   0,   0,   0,   0,\n",
       "          0,   0,   0,   0,   0,   0,   0,   0,   0,   0,   0,   0,   0,\n",
       "          0,   0],\n",
       "       [  0,   0,   0,   0,   0,   0,  84, 185, 159, 151,  60,  36,   0,\n",
       "          0,   0,   0,   0,   0,   0,   0,   0,   0,   0,   0,   0,   0,\n",
       "          0,   0],\n",
       "       [  0,   0,   0,   0,   0,   0, 222, 254, 254, 254, 254, 241, 198,\n",
       "        198, 198, 198, 198, 198, 198, 198, 170,  52,   0,   0,   0,   0,\n",
       "          0,   0],\n",
       "       [  0,   0,   0,   0,   0,   0,  67, 114,  72, 114, 163, 227, 254,\n",
       "        225, 254, 254, 254, 250, 229, 254, 254, 140,   0,   0,   0,   0,\n",
       "          0,   0],\n",
       "       [  0,   0,   0,   0,   0,   0,   0,   0,   0,   0,   0,  17,  66,\n",
       "         14,  67,  67,  67,  59,  21, 236, 254, 106,   0,   0,   0,   0,\n",
       "          0,   0],\n",
       "       [  0,   0,   0,   0,   0,   0,   0,   0,   0,   0,   0,   0,   0,\n",
       "          0,   0,   0,   0,   0,  83, 253, 209,  18,   0,   0,   0,   0,\n",
       "          0,   0],\n",
       "       [  0,   0,   0,   0,   0,   0,   0,   0,   0,   0,   0,   0,   0,\n",
       "          0,   0,   0,   0,  22, 233, 255,  83,   0,   0,   0,   0,   0,\n",
       "          0,   0],\n",
       "       [  0,   0,   0,   0,   0,   0,   0,   0,   0,   0,   0,   0,   0,\n",
       "          0,   0,   0,   0, 129, 254, 238,  44,   0,   0,   0,   0,   0,\n",
       "          0,   0],\n",
       "       [  0,   0,   0,   0,   0,   0,   0,   0,   0,   0,   0,   0,   0,\n",
       "          0,   0,   0,  59, 249, 254,  62,   0,   0,   0,   0,   0,   0,\n",
       "          0,   0],\n",
       "       [  0,   0,   0,   0,   0,   0,   0,   0,   0,   0,   0,   0,   0,\n",
       "          0,   0,   0, 133, 254, 187,   5,   0,   0,   0,   0,   0,   0,\n",
       "          0,   0],\n",
       "       [  0,   0,   0,   0,   0,   0,   0,   0,   0,   0,   0,   0,   0,\n",
       "          0,   0,   9, 205, 248,  58,   0,   0,   0,   0,   0,   0,   0,\n",
       "          0,   0],\n",
       "       [  0,   0,   0,   0,   0,   0,   0,   0,   0,   0,   0,   0,   0,\n",
       "          0,   0, 126, 254, 182,   0,   0,   0,   0,   0,   0,   0,   0,\n",
       "          0,   0],\n",
       "       [  0,   0,   0,   0,   0,   0,   0,   0,   0,   0,   0,   0,   0,\n",
       "          0,  75, 251, 240,  57,   0,   0,   0,   0,   0,   0,   0,   0,\n",
       "          0,   0],\n",
       "       [  0,   0,   0,   0,   0,   0,   0,   0,   0,   0,   0,   0,   0,\n",
       "         19, 221, 254, 166,   0,   0,   0,   0,   0,   0,   0,   0,   0,\n",
       "          0,   0],\n",
       "       [  0,   0,   0,   0,   0,   0,   0,   0,   0,   0,   0,   0,   3,\n",
       "        203, 254, 219,  35,   0,   0,   0,   0,   0,   0,   0,   0,   0,\n",
       "          0,   0],\n",
       "       [  0,   0,   0,   0,   0,   0,   0,   0,   0,   0,   0,   0,  38,\n",
       "        254, 254,  77,   0,   0,   0,   0,   0,   0,   0,   0,   0,   0,\n",
       "          0,   0],\n",
       "       [  0,   0,   0,   0,   0,   0,   0,   0,   0,   0,   0,  31, 224,\n",
       "        254, 115,   1,   0,   0,   0,   0,   0,   0,   0,   0,   0,   0,\n",
       "          0,   0],\n",
       "       [  0,   0,   0,   0,   0,   0,   0,   0,   0,   0,   0, 133, 254,\n",
       "        254,  52,   0,   0,   0,   0,   0,   0,   0,   0,   0,   0,   0,\n",
       "          0,   0],\n",
       "       [  0,   0,   0,   0,   0,   0,   0,   0,   0,   0,  61, 242, 254,\n",
       "        254,  52,   0,   0,   0,   0,   0,   0,   0,   0,   0,   0,   0,\n",
       "          0,   0],\n",
       "       [  0,   0,   0,   0,   0,   0,   0,   0,   0,   0, 121, 254, 254,\n",
       "        219,  40,   0,   0,   0,   0,   0,   0,   0,   0,   0,   0,   0,\n",
       "          0,   0],\n",
       "       [  0,   0,   0,   0,   0,   0,   0,   0,   0,   0, 121, 254, 207,\n",
       "         18,   0,   0,   0,   0,   0,   0,   0,   0,   0,   0,   0,   0,\n",
       "          0,   0],\n",
       "       [  0,   0,   0,   0,   0,   0,   0,   0,   0,   0,   0,   0,   0,\n",
       "          0,   0,   0,   0,   0,   0,   0,   0,   0,   0,   0,   0,   0,\n",
       "          0,   0]], dtype=uint8)"
      ]
     },
     "execution_count": 73,
     "metadata": {},
     "output_type": "execute_result"
    }
   ],
   "source": [
    "x_test[0]"
   ]
  },
  {
   "cell_type": "code",
   "execution_count": 75,
   "id": "127eaf94",
   "metadata": {},
   "outputs": [
    {
     "data": {
      "text/plain": [
       "(28, 28)"
      ]
     },
     "execution_count": 75,
     "metadata": {},
     "output_type": "execute_result"
    }
   ],
   "source": [
    "x_test[0].shape"
   ]
  },
  {
   "cell_type": "code",
   "execution_count": 77,
   "id": "2acada60",
   "metadata": {},
   "outputs": [
    {
     "data": {
      "text/plain": [
       "array([[ 0,  0,  0,  0,  0,  0,  8,  8,  8,  8,  8, 25,  9, 21,  9,  9,\n",
       "         9, 15, 13, 12,  9,  9,  0,  0,  0,  0,  0,  0]], dtype=int64)"
      ]
     },
     "execution_count": 77,
     "metadata": {},
     "output_type": "execute_result"
    }
   ],
   "source": [
    "x_test[0].reshape(1,28,28).argmax(axis=1)"
   ]
  },
  {
   "cell_type": "code",
   "execution_count": 80,
   "id": "67f9508d",
   "metadata": {
    "collapsed": true
   },
   "outputs": [
    {
     "data": {
      "text/plain": [
       "array([7], dtype=int64)"
      ]
     },
     "execution_count": 80,
     "metadata": {},
     "output_type": "execute_result"
    }
   ],
   "source": [
    "model.predict(x_test[0].reshape(1,28,28)).argmax(axis=1)"
   ]
  },
  {
   "cell_type": "code",
   "execution_count": 83,
   "id": "089fa645",
   "metadata": {},
   "outputs": [
    {
     "data": {
      "text/plain": [
       "array([7, 2, 1, ..., 4, 5, 6], dtype=int64)"
      ]
     },
     "execution_count": 83,
     "metadata": {},
     "output_type": "execute_result"
    }
   ],
   "source": [
    "model.predict(x_test).argmax(axis=1) # => x 전체 예측값"
   ]
  },
  {
   "cell_type": "code",
   "execution_count": 86,
   "id": "97237a69",
   "metadata": {},
   "outputs": [
    {
     "name": "stdout",
     "output_type": "stream",
     "text": [
      "313/313 [==============================] - 0s 844us/step - loss: 0.1540 - acc: 0.9627\n"
     ]
    },
    {
     "data": {
      "text/plain": [
       "[0.1539563238620758, 0.9627000093460083]"
      ]
     },
     "execution_count": 86,
     "metadata": {},
     "output_type": "execute_result"
    }
   ],
   "source": [
    "model.evaluate(x_test,y_test) # 손실, 정확도"
   ]
  },
  {
   "cell_type": "markdown",
   "id": "eb3259d3",
   "metadata": {},
   "source": [
    "# 텐서\n"
   ]
  },
  {
   "cell_type": "code",
   "execution_count": 22,
   "id": "9263a185",
   "metadata": {},
   "outputs": [
    {
     "data": {
      "text/plain": [
       "(60000, 28, 28)"
      ]
     },
     "execution_count": 22,
     "metadata": {},
     "output_type": "execute_result"
    }
   ],
   "source": [
    "mnistData = load_data()\n",
    "\n",
    "(x_train,y_train),(x_test,y_test) = mnistData\n",
    "\n",
    "x_train.shape"
   ]
  },
  {
   "cell_type": "code",
   "execution_count": 24,
   "id": "10a31417",
   "metadata": {},
   "outputs": [
    {
     "data": {
      "text/plain": [
       "(60000, 784)"
      ]
     },
     "execution_count": 24,
     "metadata": {},
     "output_type": "execute_result"
    }
   ],
   "source": [
    "x_trainM = x_train.reshape(60000, -1 )  \n",
    "x_trainM.shape"
   ]
  },
  {
   "cell_type": "code",
   "execution_count": 26,
   "id": "7cbebe04",
   "metadata": {
    "scrolled": true
   },
   "outputs": [
    {
     "data": {
      "text/plain": [
       "array([[0., 0., 0., ..., 0., 0., 0.],\n",
       "       [1., 0., 0., ..., 0., 0., 0.],\n",
       "       [0., 0., 0., ..., 0., 0., 0.],\n",
       "       ...,\n",
       "       [0., 0., 0., ..., 0., 0., 0.],\n",
       "       [0., 0., 0., ..., 0., 0., 0.],\n",
       "       [0., 0., 0., ..., 0., 1., 0.]], dtype=float32)"
      ]
     },
     "execution_count": 26,
     "metadata": {},
     "output_type": "execute_result"
    }
   ],
   "source": [
    "y_trainOne = to_categorical(y_train)\n",
    "y_trainOne"
   ]
  },
  {
   "cell_type": "code",
   "execution_count": 31,
   "id": "8f2b20d1",
   "metadata": {},
   "outputs": [],
   "source": [
    "x_trainM = tf.cast(x_trainM, dtype=tf.float32)"
   ]
  },
  {
   "cell_type": "code",
   "execution_count": 6,
   "id": "be7d3cb5",
   "metadata": {},
   "outputs": [
    {
     "data": {
      "text/plain": [
       "(60000,)"
      ]
     },
     "execution_count": 6,
     "metadata": {},
     "output_type": "execute_result"
    }
   ],
   "source": [
    "y_train.shape"
   ]
  },
  {
   "cell_type": "code",
   "execution_count": 27,
   "id": "41ec2534",
   "metadata": {},
   "outputs": [
    {
     "data": {
      "text/plain": [
       "((60000, 784), (60000, 10))"
      ]
     },
     "execution_count": 27,
     "metadata": {},
     "output_type": "execute_result"
    }
   ],
   "source": [
    "x_trainM.shape, y_trainOne.shape"
   ]
  },
  {
   "cell_type": "code",
   "execution_count": 8,
   "id": "bdea3dc1",
   "metadata": {},
   "outputs": [],
   "source": [
    "# x = tf.constant(x_trainM, tf.float32)\n",
    "# y= tf.constant(y_trainOne, tf.float32)"
   ]
  },
  {
   "cell_type": "code",
   "execution_count": 28,
   "id": "46036f0c",
   "metadata": {},
   "outputs": [],
   "source": [
    "initX = tf.initializers.GlorotUniform()\n",
    "w1 = tf.Variable(initX(shape=[784,64]))\n",
    "b1 = tf.Variable(initX(shape = [64]))\n",
    "w2 = tf.Variable( initX( shape=[64,32] ) )\n",
    "b2 = tf.Variable( initX( shape=[32] ) )\n",
    "w3 = tf.Variable( initX( shape=[32,10] ) ) #1은 남겨야 한다.\n",
    "b3 = tf.Variable( initX( shape=[10] ) ) "
   ]
  },
  {
   "cell_type": "code",
   "execution_count": 29,
   "id": "51ebea24",
   "metadata": {},
   "outputs": [],
   "source": [
    "def compute_loss():\n",
    "    z1 = tf.matmul( x_trainM, w1) + b1\n",
    "    hx1 = tf.nn.relu( z1 ) \n",
    "    z2 = tf.matmul( hx1, w2 ) + b2\n",
    "    hx2 = tf.nn.relu( z2 )\n",
    "    z = tf.matmul( hx2, w3 ) + b3\n",
    "    \n",
    "    cost_i = tf.nn.softmax_cross_entropy_with_logits( logits=z, labels = y_trainOne)\n",
    "    cost = tf.reduce_mean( cost_i)\n",
    "    return cost"
   ]
  },
  {
   "cell_type": "code",
   "execution_count": 32,
   "id": "3b353040",
   "metadata": {},
   "outputs": [
    {
     "name": "stdout",
     "output_type": "stream",
     "text": [
      "0 109.69725\n",
      "1 156.19449\n",
      "2 76.10342\n",
      "3 61.805832\n",
      "4 45.142532\n",
      "5 31.37004\n",
      "6 26.752617\n",
      "7 23.801325\n",
      "8 17.223595\n",
      "9 10.230279\n",
      "10 8.180403\n",
      "11 9.964474\n",
      "12 10.05165\n",
      "13 8.176628\n",
      "14 6.398304\n",
      "15 5.385572\n",
      "16 4.9647927\n",
      "17 4.7651052\n",
      "18 4.5242887\n",
      "19 4.144628\n",
      "20 3.692338\n",
      "21 3.275035\n",
      "22 2.9627032\n",
      "23 2.7440085\n",
      "24 2.5735304\n",
      "25 2.419759\n",
      "26 2.2754734\n",
      "27 2.1432493\n",
      "28 2.0356493\n",
      "29 1.9581227\n",
      "30 1.899077\n",
      "31 1.8474138\n",
      "32 1.7995292\n",
      "33 1.760014\n",
      "34 1.732246\n",
      "35 1.7120911\n",
      "36 1.6978949\n",
      "37 1.6864078\n",
      "38 1.6753902\n",
      "39 1.6647029\n",
      "40 1.6537969\n",
      "41 1.6429361\n",
      "42 1.6312532\n",
      "43 1.6191941\n",
      "44 1.607195\n",
      "45 1.5949703\n",
      "46 1.5826995\n",
      "47 1.5705706\n",
      "48 1.5584013\n",
      "49 1.5451972\n",
      "50 1.5315764\n",
      "51 1.5182425\n",
      "52 1.5059172\n",
      "53 1.4946398\n",
      "54 1.4840609\n",
      "55 1.4741507\n",
      "56 1.4646674\n",
      "57 1.4549778\n",
      "58 1.4456242\n",
      "59 1.4358196\n",
      "60 1.4260776\n",
      "61 1.4166074\n",
      "62 1.4075357\n",
      "63 1.3987954\n",
      "64 1.390283\n",
      "65 1.3817765\n",
      "66 1.3737974\n",
      "67 1.3665609\n",
      "68 1.3593247\n",
      "69 1.3521185\n",
      "70 1.3448235\n",
      "71 1.337463\n",
      "72 1.3300302\n",
      "73 1.3227463\n",
      "74 1.3156842\n",
      "75 1.3086545\n",
      "76 1.301746\n",
      "77 1.294936\n",
      "78 1.2882494\n",
      "79 1.2816169\n",
      "80 1.2751873\n",
      "81 1.2688987\n",
      "82 1.2627841\n",
      "83 1.2570721\n",
      "84 1.2514362\n",
      "85 1.2460911\n",
      "86 1.2407513\n",
      "87 1.2354714\n",
      "88 1.2301087\n",
      "89 1.2248363\n",
      "90 1.2196153\n",
      "91 1.2144907\n",
      "92 1.2094357\n",
      "93 1.2045249\n",
      "94 1.1997617\n",
      "95 1.1950744\n",
      "96 1.1903232\n",
      "97 1.185601\n",
      "98 1.1809072\n",
      "99 1.1761937\n",
      "100 1.1716443\n",
      "101 1.1672459\n",
      "102 1.1628698\n",
      "103 1.158435\n",
      "104 1.1540838\n",
      "105 1.1498086\n",
      "106 1.1455435\n",
      "107 1.1413988\n",
      "108 1.1372802\n",
      "109 1.1332021\n",
      "110 1.1291926\n",
      "111 1.1252002\n",
      "112 1.1212248\n",
      "113 1.1173004\n",
      "114 1.1133367\n",
      "115 1.1093585\n",
      "116 1.1054341\n",
      "117 1.1015359\n",
      "118 1.097656\n",
      "119 1.0937729\n",
      "120 1.0899322\n",
      "121 1.086088\n",
      "122 1.0822774\n",
      "123 1.0784565\n",
      "124 1.0745738\n",
      "125 1.0706643\n",
      "126 1.0667903\n",
      "127 1.0630175\n",
      "128 1.0593653\n",
      "129 1.0557536\n",
      "130 1.0522385\n",
      "131 1.0488026\n",
      "132 1.0453874\n",
      "133 1.0419432\n",
      "134 1.0385535\n",
      "135 1.0352736\n",
      "136 1.0320853\n",
      "137 1.0289241\n",
      "138 1.0258116\n",
      "139 1.022765\n",
      "140 1.0197769\n",
      "141 1.0168797\n",
      "142 1.013987\n",
      "143 1.0110723\n",
      "144 1.0081354\n",
      "145 1.0052402\n",
      "146 1.0023825\n",
      "147 0.99952275\n",
      "148 0.99669987\n",
      "149 0.99393296\n",
      "150 0.99121547\n",
      "151 0.9885365\n",
      "152 0.98587734\n",
      "153 0.98323697\n",
      "154 0.9806178\n",
      "155 0.9779926\n",
      "156 0.97537667\n",
      "157 0.972748\n",
      "158 0.97012484\n",
      "159 0.9675427\n",
      "160 0.96498203\n",
      "161 0.9624698\n",
      "162 0.9599884\n",
      "163 0.95751786\n",
      "164 0.9550554\n",
      "165 0.9526243\n",
      "166 0.9501988\n",
      "167 0.9477251\n",
      "168 0.9452957\n",
      "169 0.94293445\n",
      "170 0.9406013\n",
      "171 0.9382719\n",
      "172 0.9358928\n",
      "173 0.9334393\n",
      "174 0.93095547\n",
      "175 0.9284979\n",
      "176 0.92602134\n",
      "177 0.9235615\n",
      "178 0.9210841\n",
      "179 0.9185855\n",
      "180 0.91606915\n",
      "181 0.9135652\n",
      "182 0.9110967\n",
      "183 0.90866107\n",
      "184 0.9063021\n",
      "185 0.90391076\n",
      "186 0.9014329\n",
      "187 0.8989582\n",
      "188 0.89644074\n",
      "189 0.8939108\n",
      "190 0.8914175\n",
      "191 0.8889657\n",
      "192 0.8865318\n",
      "193 0.8840884\n",
      "194 0.8816088\n",
      "195 0.8791563\n",
      "196 0.87675345\n",
      "197 0.8743867\n",
      "198 0.87197447\n",
      "199 0.86947227\n",
      "200 0.86693573\n",
      "201 0.8644926\n",
      "202 0.8620408\n",
      "203 0.8595268\n",
      "204 0.8569392\n",
      "205 0.8543074\n",
      "206 0.85164714\n",
      "207 0.84906495\n",
      "208 0.8465138\n",
      "209 0.8439496\n",
      "210 0.84135306\n",
      "211 0.83876395\n",
      "212 0.83622587\n",
      "213 0.8336551\n",
      "214 0.83109725\n",
      "215 0.8285423\n",
      "216 0.8259719\n",
      "217 0.82336843\n",
      "218 0.82074535\n",
      "219 0.8181322\n",
      "220 0.8155591\n",
      "221 0.8130118\n",
      "222 0.8105109\n",
      "223 0.8080362\n",
      "224 0.8055799\n",
      "225 0.8031496\n",
      "226 0.80071497\n",
      "227 0.798284\n",
      "228 0.79583895\n",
      "229 0.7933563\n",
      "230 0.7908171\n",
      "231 0.78823954\n",
      "232 0.7856573\n",
      "233 0.78308296\n",
      "234 0.78054523\n",
      "235 0.7782858\n",
      "236 0.7769296\n",
      "237 0.7767866\n",
      "238 0.770972\n",
      "239 0.76799417\n",
      "240 0.76743376\n",
      "241 0.76216\n",
      "242 0.7609211\n",
      "243 0.75901014\n",
      "244 0.7542903\n",
      "245 0.7539566\n",
      "246 0.7506017\n",
      "247 0.7475638\n",
      "248 0.746584\n",
      "249 0.7421909\n",
      "250 0.74047107\n",
      "251 0.73781365\n",
      "252 0.7345281\n",
      "253 0.7332171\n",
      "254 0.72997975\n",
      "255 0.7278812\n",
      "256 0.72581905\n",
      "257 0.72271794\n",
      "258 0.7209009\n",
      "259 0.71802396\n",
      "260 0.7154992\n",
      "261 0.71354985\n",
      "262 0.7107379\n",
      "263 0.70858413\n",
      "264 0.70633346\n",
      "265 0.7034214\n",
      "266 0.7011463\n",
      "267 0.6988626\n",
      "268 0.69615734\n",
      "269 0.6938655\n",
      "270 0.69159937\n",
      "271 0.6889404\n",
      "272 0.68647003\n",
      "273 0.6842349\n",
      "274 0.68173254\n",
      "275 0.679109\n",
      "276 0.67664826\n",
      "277 0.67431223\n",
      "278 0.67191756\n",
      "279 0.66952413\n",
      "280 0.66744184\n",
      "281 0.665725\n",
      "282 0.6639829\n",
      "283 0.66175324\n",
      "284 0.65918946\n",
      "285 0.6567322\n",
      "286 0.6545716\n",
      "287 0.65268415\n",
      "288 0.65087473\n",
      "289 0.6489929\n",
      "290 0.6470163\n",
      "291 0.64500445\n",
      "292 0.64295727\n",
      "293 0.6408845\n",
      "294 0.63888115\n",
      "295 0.63699967\n",
      "296 0.6352157\n",
      "297 0.6334427\n",
      "298 0.63155663\n",
      "299 0.6295694\n",
      "300 0.62761146\n",
      "301 0.6257399\n",
      "302 0.6239424\n",
      "303 0.62213445\n",
      "304 0.6203026\n",
      "305 0.6184292\n",
      "306 0.6165473\n",
      "307 0.6147063\n",
      "308 0.6128978\n",
      "309 0.6110776\n",
      "310 0.6092128\n",
      "311 0.60736495\n",
      "312 0.6055497\n",
      "313 0.603762\n",
      "314 0.6019547\n",
      "315 0.6002069\n",
      "316 0.59848034\n",
      "317 0.5966961\n",
      "318 0.5949444\n",
      "319 0.59325475\n",
      "320 0.59154093\n",
      "321 0.589844\n",
      "322 0.5881864\n",
      "323 0.5864819\n",
      "324 0.5847485\n",
      "325 0.5830897\n",
      "326 0.5814497\n",
      "327 0.579835\n",
      "328 0.57828957\n",
      "329 0.57683367\n",
      "330 0.57540077\n",
      "331 0.57382315\n",
      "332 0.5718754\n",
      "333 0.5698106\n",
      "334 0.5677191\n",
      "335 0.56599927\n",
      "336 0.5645093\n",
      "337 0.5628536\n",
      "338 0.5610048\n",
      "339 0.5589551\n",
      "340 0.55706495\n",
      "341 0.55539477\n",
      "342 0.5537328\n",
      "343 0.5518978\n",
      "344 0.5498601\n",
      "345 0.5478606\n",
      "346 0.5460026\n",
      "347 0.54419225\n",
      "348 0.54234195\n",
      "349 0.540385\n",
      "350 0.53845173\n",
      "351 0.53665596\n",
      "352 0.5349727\n",
      "353 0.53333396\n",
      "354 0.5316425\n",
      "355 0.5299613\n",
      "356 0.5283067\n",
      "357 0.5266447\n",
      "358 0.52498907\n",
      "359 0.5233198\n",
      "360 0.5216542\n",
      "361 0.5199528\n",
      "362 0.51817065\n",
      "363 0.51636046\n",
      "364 0.5145269\n",
      "365 0.5127268\n",
      "366 0.5109306\n",
      "367 0.5092538\n",
      "368 0.50752205\n",
      "369 0.50582653\n",
      "370 0.5041163\n",
      "371 0.5024387\n",
      "372 0.5007358\n",
      "373 0.49905524\n",
      "374 0.49736232\n",
      "375 0.4957018\n",
      "376 0.49408004\n",
      "377 0.49244994\n",
      "378 0.49087104\n",
      "379 0.48925355\n",
      "380 0.48764914\n",
      "381 0.4860712\n",
      "382 0.4844633\n",
      "383 0.48293072\n",
      "384 0.48134863\n",
      "385 0.47982228\n",
      "386 0.4782667\n",
      "387 0.47674355\n",
      "388 0.4752031\n",
      "389 0.47370148\n",
      "390 0.47222427\n",
      "391 0.47075832\n",
      "392 0.4693222\n",
      "393 0.46790925\n",
      "394 0.4665091\n",
      "395 0.46513975\n",
      "396 0.46377605\n",
      "397 0.46247187\n",
      "398 0.46116102\n",
      "399 0.45984405\n",
      "400 0.4584052\n",
      "401 0.45693362\n",
      "402 0.4554609\n",
      "403 0.45409286\n",
      "404 0.45282513\n",
      "405 0.45158732\n",
      "406 0.45031595\n",
      "407 0.4489761\n",
      "408 0.44761673\n",
      "409 0.44628626\n",
      "410 0.4450358\n",
      "411 0.4438058\n",
      "412 0.44256783\n",
      "413 0.44130528\n",
      "414 0.44003412\n",
      "415 0.43878502\n",
      "416 0.4375674\n",
      "417 0.43635958\n",
      "418 0.4351321\n",
      "419 0.43390125\n",
      "420 0.4326809\n",
      "421 0.43147975\n",
      "422 0.43028808\n",
      "423 0.4291\n",
      "424 0.42791268\n",
      "425 0.4267455\n",
      "426 0.42558998\n",
      "427 0.42444474\n",
      "428 0.42331985\n",
      "429 0.42217475\n",
      "430 0.42105514\n",
      "431 0.41994718\n",
      "432 0.4188375\n",
      "433 0.4177513\n",
      "434 0.4166696\n",
      "435 0.4155806\n",
      "436 0.41450486\n",
      "437 0.41344413\n",
      "438 0.41240057\n",
      "439 0.4113675\n",
      "440 0.41034362\n",
      "441 0.40926474\n",
      "442 0.40827277\n",
      "443 0.4071972\n",
      "444 0.40620223\n",
      "445 0.4051728\n",
      "446 0.40415907\n",
      "447 0.40314355\n",
      "448 0.4021315\n",
      "449 0.40113473\n",
      "450 0.40012488\n",
      "451 0.3991778\n",
      "452 0.39817017\n",
      "453 0.39722082\n",
      "454 0.3962409\n",
      "455 0.39531708\n",
      "456 0.39433482\n",
      "457 0.3933847\n",
      "458 0.3924111\n",
      "459 0.39145488\n",
      "460 0.3905001\n",
      "461 0.3895615\n",
      "462 0.3886125\n",
      "463 0.38768563\n",
      "464 0.3867537\n",
      "465 0.38583565\n",
      "466 0.38492486\n",
      "467 0.38401505\n",
      "468 0.38309368\n",
      "469 0.38219976\n",
      "470 0.38129565\n",
      "471 0.3804056\n",
      "472 0.37953308\n",
      "473 0.3786747\n",
      "474 0.37780726\n",
      "475 0.37693352\n",
      "476 0.37606484\n",
      "477 0.37520424\n",
      "478 0.37435848\n",
      "479 0.3735097\n",
      "480 0.37267345\n",
      "481 0.37184992\n",
      "482 0.3710431\n",
      "483 0.37023678\n",
      "484 0.36943698\n",
      "485 0.3686474\n",
      "486 0.36786205\n",
      "487 0.36708832\n",
      "488 0.36631295\n",
      "489 0.36554092\n",
      "490 0.36477637\n",
      "491 0.36401275\n",
      "492 0.3632496\n",
      "493 0.36248794\n",
      "494 0.36173144\n",
      "495 0.36097884\n",
      "496 0.36022532\n",
      "497 0.3594767\n",
      "498 0.35873738\n",
      "499 0.35800314\n",
      "500 0.357278\n",
      "501 0.3565577\n",
      "502 0.35584447\n",
      "503 0.355135\n",
      "504 0.3544275\n",
      "505 0.35371616\n",
      "506 0.3530055\n",
      "507 0.3523004\n",
      "508 0.35160315\n",
      "509 0.3509118\n",
      "510 0.350225\n",
      "511 0.3495564\n",
      "512 0.34888256\n",
      "513 0.34821755\n",
      "514 0.34754464\n",
      "515 0.34689006\n",
      "516 0.3462225\n",
      "517 0.34556842\n",
      "518 0.34491983\n",
      "519 0.34427658\n",
      "520 0.34363583\n",
      "521 0.34299272\n",
      "522 0.34235948\n",
      "523 0.341716\n",
      "524 0.3410806\n",
      "525 0.3404489\n",
      "526 0.33982775\n",
      "527 0.33920202\n",
      "528 0.33859423\n",
      "529 0.33799675\n",
      "530 0.3374121\n",
      "531 0.3368105\n",
      "532 0.336226\n",
      "533 0.33561498\n",
      "534 0.33500394\n",
      "535 0.33438033\n",
      "536 0.33375666\n",
      "537 0.33316132\n",
      "538 0.33257154\n",
      "539 0.3319996\n",
      "540 0.33142215\n",
      "541 0.33084163\n",
      "542 0.33025876\n",
      "543 0.32967818\n",
      "544 0.32910264\n",
      "545 0.32852852\n",
      "546 0.32795706\n",
      "547 0.32737422\n",
      "548 0.3267889\n",
      "549 0.32620323\n",
      "550 0.32561773\n",
      "551 0.32504702\n",
      "552 0.32447016\n",
      "553 0.32391366\n",
      "554 0.32335007\n",
      "555 0.32279766\n",
      "556 0.3222394\n",
      "557 0.32168013\n",
      "558 0.32112136\n",
      "559 0.3205733\n",
      "560 0.32002234\n",
      "561 0.31947285\n",
      "562 0.3189151\n",
      "563 0.3183696\n",
      "564 0.31782424\n",
      "565 0.31726608\n",
      "566 0.31671634\n",
      "567 0.31617454\n",
      "568 0.3156309\n",
      "569 0.31509927\n",
      "570 0.31456482\n",
      "571 0.31404603\n",
      "572 0.31351954\n",
      "573 0.31300157\n",
      "574 0.31248868\n",
      "575 0.31198293\n",
      "576 0.31147897\n",
      "577 0.3109776\n",
      "578 0.3104799\n",
      "579 0.3099855\n",
      "580 0.30948046\n",
      "581 0.30897936\n",
      "582 0.30848354\n"
     ]
    },
    {
     "name": "stdout",
     "output_type": "stream",
     "text": [
      "583 0.3079978\n",
      "584 0.30751306\n",
      "585 0.30703926\n",
      "586 0.3065654\n",
      "587 0.30608475\n",
      "588 0.30559915\n",
      "589 0.30512443\n",
      "590 0.30465153\n",
      "591 0.3041757\n",
      "592 0.3037132\n",
      "593 0.30325136\n",
      "594 0.30279583\n",
      "595 0.30232725\n",
      "596 0.30187494\n",
      "597 0.30139413\n",
      "598 0.30091843\n",
      "599 0.30044037\n",
      "600 0.299966\n",
      "601 0.29950106\n",
      "602 0.2990362\n",
      "603 0.29857102\n",
      "604 0.29812256\n",
      "605 0.2976802\n",
      "606 0.29723775\n",
      "607 0.29678914\n",
      "608 0.29634506\n",
      "609 0.29589957\n",
      "610 0.29546985\n",
      "611 0.2950309\n",
      "612 0.2945679\n",
      "613 0.29415482\n",
      "614 0.2937032\n",
      "615 0.29331258\n",
      "616 0.2928875\n",
      "617 0.2924588\n",
      "618 0.2920753\n",
      "619 0.29163587\n",
      "620 0.29122576\n",
      "621 0.29083443\n",
      "622 0.29041398\n",
      "623 0.2900264\n",
      "624 0.2896126\n",
      "625 0.2892138\n",
      "626 0.28880528\n",
      "627 0.2884275\n",
      "628 0.28803855\n",
      "629 0.28765044\n",
      "630 0.28727037\n",
      "631 0.28688073\n",
      "632 0.28648973\n",
      "633 0.28609022\n",
      "634 0.28569606\n",
      "635 0.28530052\n",
      "636 0.28491348\n",
      "637 0.2845319\n",
      "638 0.28416023\n",
      "639 0.28378463\n",
      "640 0.28340274\n",
      "641 0.28301933\n",
      "642 0.28263217\n",
      "643 0.28223807\n",
      "644 0.2818539\n",
      "645 0.28147238\n",
      "646 0.28109038\n",
      "647 0.28072023\n",
      "648 0.28033412\n",
      "649 0.27993265\n",
      "650 0.2795396\n",
      "651 0.27913684\n",
      "652 0.27874643\n",
      "653 0.27835104\n",
      "654 0.27794692\n",
      "655 0.27750698\n",
      "656 0.27710664\n",
      "657 0.27671298\n",
      "658 0.27634072\n",
      "659 0.2759363\n",
      "660 0.2755466\n",
      "661 0.27515617\n",
      "662 0.27478018\n",
      "663 0.27439913\n",
      "664 0.27400294\n",
      "665 0.27361062\n",
      "666 0.2732282\n",
      "667 0.27284738\n",
      "668 0.2724725\n",
      "669 0.27210334\n",
      "670 0.27173507\n",
      "671 0.27136952\n",
      "672 0.2710094\n",
      "673 0.27065238\n",
      "674 0.27029827\n",
      "675 0.269942\n",
      "676 0.26958528\n",
      "677 0.26923573\n",
      "678 0.26888865\n",
      "679 0.2685445\n",
      "680 0.2682003\n",
      "681 0.26785693\n",
      "682 0.2675166\n",
      "683 0.26717302\n",
      "684 0.2668263\n",
      "685 0.26648906\n",
      "686 0.26615036\n",
      "687 0.26581657\n",
      "688 0.26548705\n",
      "689 0.2651643\n",
      "690 0.26483533\n",
      "691 0.2645137\n",
      "692 0.26418608\n",
      "693 0.26386213\n",
      "694 0.26354155\n",
      "695 0.2632166\n",
      "696 0.26287177\n",
      "697 0.26252496\n",
      "698 0.26220158\n",
      "699 0.26188993\n",
      "700 0.26157582\n",
      "701 0.26126948\n",
      "702 0.26096874\n",
      "703 0.26068106\n",
      "704 0.26037765\n",
      "705 0.26009414\n",
      "706 0.25979447\n",
      "707 0.25949752\n",
      "708 0.25921142\n",
      "709 0.25891086\n",
      "710 0.2586234\n",
      "711 0.25833198\n",
      "712 0.25803736\n",
      "713 0.25773814\n",
      "714 0.25744936\n",
      "715 0.25714782\n",
      "716 0.25685057\n",
      "717 0.25656423\n",
      "718 0.2562726\n",
      "719 0.2559823\n",
      "720 0.2556877\n",
      "721 0.25540334\n",
      "722 0.2551214\n",
      "723 0.25484145\n",
      "724 0.2545592\n",
      "725 0.25428203\n",
      "726 0.25400093\n",
      "727 0.25371683\n",
      "728 0.25344485\n",
      "729 0.2531516\n",
      "730 0.2528768\n",
      "731 0.25259683\n",
      "732 0.2523204\n",
      "733 0.2520511\n",
      "734 0.25178722\n",
      "735 0.2515123\n",
      "736 0.25125676\n",
      "737 0.2509867\n",
      "738 0.2507209\n",
      "739 0.2504607\n",
      "740 0.25019976\n",
      "741 0.24995749\n",
      "742 0.2497042\n",
      "743 0.24944134\n",
      "744 0.24919854\n",
      "745 0.24895515\n",
      "746 0.24871294\n",
      "747 0.24844694\n",
      "748 0.24824762\n",
      "749 0.24795625\n",
      "750 0.24772982\n",
      "751 0.24747002\n",
      "752 0.24724267\n",
      "753 0.24698554\n",
      "754 0.24676457\n",
      "755 0.24651407\n",
      "756 0.24629293\n",
      "757 0.24604769\n",
      "758 0.24582173\n",
      "759 0.24557906\n",
      "760 0.24535625\n",
      "761 0.24511772\n",
      "762 0.2448902\n",
      "763 0.24466081\n",
      "764 0.24442767\n",
      "765 0.2442062\n",
      "766 0.24396895\n",
      "767 0.24374685\n",
      "768 0.24350819\n",
      "769 0.24328113\n",
      "770 0.24304742\n",
      "771 0.24281703\n",
      "772 0.24258924\n",
      "773 0.24235208\n",
      "774 0.2421177\n",
      "775 0.24186422\n",
      "776 0.24162076\n",
      "777 0.24136804\n",
      "778 0.2411234\n",
      "779 0.24086595\n",
      "780 0.24062087\n",
      "781 0.24036647\n",
      "782 0.2401296\n",
      "783 0.2398884\n",
      "784 0.23965494\n",
      "785 0.23941961\n",
      "786 0.23917283\n",
      "787 0.23894209\n",
      "788 0.23869258\n",
      "789 0.23844872\n",
      "790 0.23820609\n",
      "791 0.23795892\n",
      "792 0.2377256\n",
      "793 0.23748054\n",
      "794 0.23724043\n",
      "795 0.2370115\n",
      "796 0.23676716\n",
      "797 0.23654407\n",
      "798 0.23631082\n",
      "799 0.23608206\n",
      "800 0.23585339\n",
      "801 0.23561001\n",
      "802 0.23538533\n",
      "803 0.2351684\n",
      "804 0.23491932\n",
      "805 0.2347068\n",
      "806 0.2344723\n",
      "807 0.23424496\n",
      "808 0.23401977\n",
      "809 0.23379545\n",
      "810 0.23356678\n",
      "811 0.23334682\n",
      "812 0.23312324\n",
      "813 0.2329014\n",
      "814 0.2326793\n",
      "815 0.23245111\n",
      "816 0.23223706\n",
      "817 0.23201147\n",
      "818 0.2318101\n",
      "819 0.23158613\n",
      "820 0.23137143\n",
      "821 0.23116434\n",
      "822 0.2309538\n",
      "823 0.23074323\n",
      "824 0.23054747\n",
      "825 0.23032953\n",
      "826 0.23011732\n",
      "827 0.22989088\n",
      "828 0.22967757\n",
      "829 0.22944564\n",
      "830 0.22922389\n",
      "831 0.22900227\n",
      "832 0.22877581\n",
      "833 0.22856878\n",
      "834 0.2283389\n",
      "835 0.22812517\n",
      "836 0.2279155\n",
      "837 0.2277108\n",
      "838 0.22751214\n",
      "839 0.22731006\n",
      "840 0.22710966\n",
      "841 0.22690141\n",
      "842 0.2267015\n",
      "843 0.22649042\n",
      "844 0.22628203\n",
      "845 0.22606432\n",
      "846 0.22586145\n",
      "847 0.22567841\n",
      "848 0.22546504\n",
      "849 0.22525759\n",
      "850 0.22504261\n",
      "851 0.22483124\n",
      "852 0.22461991\n",
      "853 0.22442208\n",
      "854 0.2241901\n",
      "855 0.22397263\n",
      "856 0.22376153\n",
      "857 0.22355026\n",
      "858 0.22332978\n",
      "859 0.22311337\n",
      "860 0.22290596\n",
      "861 0.22270127\n",
      "862 0.22248356\n",
      "863 0.2222819\n",
      "864 0.2220697\n",
      "865 0.22185332\n",
      "866 0.2216574\n",
      "867 0.2214463\n",
      "868 0.22122535\n",
      "869 0.22103198\n",
      "870 0.22081673\n",
      "871 0.22061114\n",
      "872 0.2204002\n",
      "873 0.22019887\n",
      "874 0.21998337\n",
      "875 0.21976869\n",
      "876 0.21956946\n",
      "877 0.21936129\n",
      "878 0.21915902\n",
      "879 0.21893834\n",
      "880 0.2187386\n",
      "881 0.2185295\n",
      "882 0.21829961\n",
      "883 0.2180838\n",
      "884 0.21786225\n",
      "885 0.21765447\n",
      "886 0.217439\n",
      "887 0.21721587\n",
      "888 0.21702561\n",
      "889 0.21681048\n",
      "890 0.21661416\n",
      "891 0.21642277\n",
      "892 0.21622236\n",
      "893 0.21601048\n",
      "894 0.21580712\n",
      "895 0.21560661\n",
      "896 0.21536674\n",
      "897 0.21521126\n",
      "898 0.21498446\n",
      "899 0.21478926\n",
      "900 0.21458046\n",
      "901 0.21436471\n",
      "902 0.21416478\n",
      "903 0.21395011\n",
      "904 0.21375337\n",
      "905 0.21357864\n",
      "906 0.21339232\n",
      "907 0.21320367\n",
      "908 0.21301334\n",
      "909 0.21284659\n",
      "910 0.21266025\n",
      "911 0.21247467\n",
      "912 0.2122873\n",
      "913 0.2121044\n",
      "914 0.21194136\n",
      "915 0.21175449\n",
      "916 0.21156569\n",
      "917 0.21139137\n",
      "918 0.21121097\n",
      "919 0.21103176\n",
      "920 0.2108633\n",
      "921 0.21068725\n",
      "922 0.21051115\n",
      "923 0.21033981\n",
      "924 0.21017613\n",
      "925 0.21000104\n",
      "926 0.20981601\n",
      "927 0.20964675\n",
      "928 0.20948729\n",
      "929 0.20931484\n",
      "930 0.20913717\n",
      "931 0.20896886\n",
      "932 0.20880817\n",
      "933 0.20865421\n",
      "934 0.20851184\n",
      "935 0.2083222\n",
      "936 0.20817053\n",
      "937 0.20801838\n",
      "938 0.2078545\n",
      "939 0.20770077\n",
      "940 0.20752177\n",
      "941 0.20738408\n",
      "942 0.20724986\n",
      "943 0.20703867\n",
      "944 0.2069019\n",
      "945 0.20677406\n",
      "946 0.20660257\n",
      "947 0.20643733\n",
      "948 0.20628577\n",
      "949 0.20615257\n",
      "950 0.20597103\n",
      "951 0.2058127\n",
      "952 0.20566481\n",
      "953 0.20550905\n",
      "954 0.20536038\n",
      "955 0.20517796\n",
      "956 0.20504908\n",
      "957 0.20488092\n",
      "958 0.20471804\n",
      "959 0.20455517\n",
      "960 0.20440046\n",
      "961 0.20425391\n",
      "962 0.20410986\n",
      "963 0.20395754\n",
      "964 0.20379923\n",
      "965 0.203651\n",
      "966 0.20350465\n",
      "967 0.20336911\n",
      "968 0.2032464\n",
      "969 0.2031262\n",
      "970 0.20296204\n",
      "971 0.20284007\n",
      "972 0.20265646\n",
      "973 0.20253451\n",
      "974 0.20237833\n",
      "975 0.2022588\n",
      "976 0.20208353\n",
      "977 0.20196009\n",
      "978 0.20181514\n",
      "979 0.20165452\n",
      "980 0.20153661\n",
      "981 0.20137408\n",
      "982 0.20127419\n",
      "983 0.20111293\n",
      "984 0.2009752\n",
      "985 0.20085931\n",
      "986 0.20068027\n",
      "987 0.20058131\n",
      "988 0.2003971\n",
      "989 0.20028456\n",
      "990 0.20013884\n",
      "991 0.19999325\n",
      "992 0.19988137\n",
      "993 0.19970277\n",
      "994 0.1995658\n",
      "995 0.19942105\n",
      "996 0.19930635\n",
      "997 0.19916339\n",
      "998 0.19900152\n",
      "999 0.19886239\n"
     ]
    }
   ],
   "source": [
    "optimizer = Adam( learning_rate=0.01)\n",
    "for i in range(1000):\n",
    "    optimizer.minimize( compute_loss, var_list=[w1,w2,w3, b1,b2,b3])\n",
    "    print( i, compute_loss().numpy() )"
   ]
  },
  {
   "cell_type": "code",
   "execution_count": 33,
   "id": "874b1ef0",
   "metadata": {},
   "outputs": [],
   "source": [
    "def hxfn(xdata):\n",
    "    xd = tf.constant(xdata, tf.float32)\n",
    "    z1 = tf.matmul(xd, w1)+b1\n",
    "    hx1 = tf.nn.relu( z1 ) \n",
    "    z2 = tf.matmul( hx1, w2 ) + b2\n",
    "    hx2 = tf.nn.relu( z2 )\n",
    "    z = tf.matmul( hx2, w3 ) + b3\n",
    "    hx = tf.nn.softmax(z)\n",
    "    return(hx.numpy()>0.5) +0"
   ]
  },
  {
   "cell_type": "code",
   "execution_count": 34,
   "id": "55913e74",
   "metadata": {},
   "outputs": [],
   "source": [
    "pred = hxfn(x_trainM).argmax(axis = 1)"
   ]
  },
  {
   "cell_type": "code",
   "execution_count": 35,
   "id": "91273f9d",
   "metadata": {},
   "outputs": [
    {
     "data": {
      "text/plain": [
       "0.9404666666666667"
      ]
     },
     "execution_count": 35,
     "metadata": {},
     "output_type": "execute_result"
    }
   ],
   "source": [
    "(pred ==y_train).mean()"
   ]
  }
 ],
 "metadata": {
  "kernelspec": {
   "display_name": "Python 3",
   "language": "python",
   "name": "python3"
  },
  "language_info": {
   "codemirror_mode": {
    "name": "ipython",
    "version": 3
   },
   "file_extension": ".py",
   "mimetype": "text/x-python",
   "name": "python",
   "nbconvert_exporter": "python",
   "pygments_lexer": "ipython3",
   "version": "3.8.8"
  },
  "toc": {
   "base_numbering": 1,
   "nav_menu": {},
   "number_sections": true,
   "sideBar": true,
   "skip_h1_title": false,
   "title_cell": "Table of Contents",
   "title_sidebar": "Contents",
   "toc_cell": false,
   "toc_position": {
    "height": "calc(100% - 180px)",
    "left": "10px",
    "top": "150px",
    "width": "212.882px"
   },
   "toc_section_display": true,
   "toc_window_display": true
  }
 },
 "nbformat": 4,
 "nbformat_minor": 5
}
