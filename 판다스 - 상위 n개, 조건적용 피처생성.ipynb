{
 "cells": [
  {
   "cell_type": "code",
   "execution_count": 2,
   "id": "9db9dd7d",
   "metadata": {},
   "outputs": [],
   "source": [
    "import tensorflow as tf\n",
    "import numpy as np\n",
    "import pandas as pd\n",
    "from tensorflow.keras.optimizers import Adam,Adagrad\n",
    "\n",
    "import matplotlib.pyplot as plt\n",
    "import seaborn as sns\n",
    "from sklearn.datasets import load_boston\n",
    "from tensorflow.keras import Sequential\n",
    "from tensorflow.keras.layers import Dense\n",
    "\n",
    "# 관련 라이브러리 임포트 \n",
    "import matplotlib.font_manager as fm\n",
    "plt.rcParams['font.family'] = 'Malgun Gothic'\n",
    "plt.style.use('ggplot')"
   ]
  },
  {
   "cell_type": "markdown",
   "id": "c4671347",
   "metadata": {},
   "source": [
    "# Pandas 기초??\n",
    "\n",
    "## 특정 컬럼을 기준으로 n개 출력\n",
    "df_test.nlargest(n, 컬럼 ,keep=)\n",
    "\n",
    "keep = all 은 동률일경우  모두 출력  \n",
    "keep = last 는 동률인 경우 하나만 출력"
   ]
  },
  {
   "cell_type": "code",
   "execution_count": null,
   "id": "06ada009",
   "metadata": {},
   "outputs": [],
   "source": [
    "data =  {'eng':[10,30,50,70],\n",
    "         'kor':[20,40,60,80],\n",
    "         'math':[90,50,50,70]}\n",
    "df_test = pd.DataFrame(data, index=['a','b','c','d'] )\n",
    "df_test"
   ]
  },
  {
   "cell_type": "code",
   "execution_count": null,
   "id": "0c89250c",
   "metadata": {},
   "outputs": [],
   "source": [
    "# 수학 기준으로 가장 높은 데이터\n",
    "df_test.nlargest(1, 'math')"
   ]
  },
  {
   "cell_type": "code",
   "execution_count": null,
   "id": "f5b273e8",
   "metadata": {},
   "outputs": [],
   "source": [
    "# 수학 기준으로 상위 2개\n",
    "df_test.nlargest(2, 'math')"
   ]
  },
  {
   "cell_type": "code",
   "execution_count": null,
   "id": "24bd7985",
   "metadata": {},
   "outputs": [],
   "source": [
    "# 수학 기준으로 상위 3개\n",
    "df_test.nlargest(3, 'math')"
   ]
  },
  {
   "cell_type": "code",
   "execution_count": null,
   "id": "0423f7c8",
   "metadata": {},
   "outputs": [],
   "source": [
    "# 수학 기준으로 상위 3개 동률인 경우 하나만 출력\n",
    "df_test.nlargest(3, 'math', keep='last')"
   ]
  },
  {
   "cell_type": "code",
   "execution_count": null,
   "id": "e177dfe8",
   "metadata": {},
   "outputs": [],
   "source": [
    "# 수학 기준으로 상위 3개, 동률인겨우 모두 출력\n",
    "df_test.nlargest(3, 'math', keep='all')"
   ]
  },
  {
   "cell_type": "code",
   "execution_count": null,
   "id": "d9306d39",
   "metadata": {},
   "outputs": [],
   "source": [
    "# 수학 기준으로 하위 1개\n",
    "df_test.nsmallest(1, 'math')"
   ]
  },
  {
   "cell_type": "code",
   "execution_count": null,
   "id": "76185301",
   "metadata": {},
   "outputs": [],
   "source": [
    "df.round(3)"
   ]
  },
  {
   "cell_type": "markdown",
   "id": "6132af6f",
   "metadata": {},
   "source": [
    "# 구간 나누기\n"
   ]
  },
  {
   "cell_type": "code",
   "execution_count": 5,
   "id": "c31f6796",
   "metadata": {},
   "outputs": [
    {
     "data": {
      "text/html": [
       "<div>\n",
       "<style scoped>\n",
       "    .dataframe tbody tr th:only-of-type {\n",
       "        vertical-align: middle;\n",
       "    }\n",
       "\n",
       "    .dataframe tbody tr th {\n",
       "        vertical-align: top;\n",
       "    }\n",
       "\n",
       "    .dataframe thead th {\n",
       "        text-align: right;\n",
       "    }\n",
       "</style>\n",
       "<table border=\"1\" class=\"dataframe\">\n",
       "  <thead>\n",
       "    <tr style=\"text-align: right;\">\n",
       "      <th></th>\n",
       "      <th>Girth</th>\n",
       "      <th>Height</th>\n",
       "      <th>Volume</th>\n",
       "    </tr>\n",
       "  </thead>\n",
       "  <tbody>\n",
       "    <tr>\n",
       "      <th>0</th>\n",
       "      <td>8.3</td>\n",
       "      <td>70</td>\n",
       "      <td>10.3</td>\n",
       "    </tr>\n",
       "    <tr>\n",
       "      <th>1</th>\n",
       "      <td>8.6</td>\n",
       "      <td>65</td>\n",
       "      <td>10.3</td>\n",
       "    </tr>\n",
       "    <tr>\n",
       "      <th>2</th>\n",
       "      <td>8.8</td>\n",
       "      <td>63</td>\n",
       "      <td>10.2</td>\n",
       "    </tr>\n",
       "  </tbody>\n",
       "</table>\n",
       "</div>"
      ],
      "text/plain": [
       "   Girth  Height  Volume\n",
       "0    8.3      70    10.3\n",
       "1    8.6      65    10.3\n",
       "2    8.8      63    10.2"
      ]
     },
     "execution_count": 5,
     "metadata": {},
     "output_type": "execute_result"
    }
   ],
   "source": [
    "df = pd.read_csv('tdata/trees.csv',encoding='euc-kr')\n",
    "df.head(3)"
   ]
  },
  {
   "cell_type": "markdown",
   "id": "3099f67f",
   "metadata": {},
   "source": [
    "## apply 적용"
   ]
  },
  {
   "cell_type": "code",
   "execution_count": 8,
   "id": "02e8b9c3",
   "metadata": {},
   "outputs": [],
   "source": [
    "def fn(v):\n",
    "    if v>=40:\n",
    "        return '크다'\n",
    "    elif v >=30 :\n",
    "        return '보통'\n",
    "    else : \n",
    "        return '적음'"
   ]
  },
  {
   "cell_type": "code",
   "execution_count": 10,
   "id": "e990ba3e",
   "metadata": {},
   "outputs": [],
   "source": [
    "df['정도'] = df['Volume'].apply(fn)"
   ]
  },
  {
   "cell_type": "code",
   "execution_count": 12,
   "id": "430c154b",
   "metadata": {
    "scrolled": true
   },
   "outputs": [
    {
     "data": {
      "text/html": [
       "<div>\n",
       "<style scoped>\n",
       "    .dataframe tbody tr th:only-of-type {\n",
       "        vertical-align: middle;\n",
       "    }\n",
       "\n",
       "    .dataframe tbody tr th {\n",
       "        vertical-align: top;\n",
       "    }\n",
       "\n",
       "    .dataframe thead th {\n",
       "        text-align: right;\n",
       "    }\n",
       "</style>\n",
       "<table border=\"1\" class=\"dataframe\">\n",
       "  <thead>\n",
       "    <tr style=\"text-align: right;\">\n",
       "      <th></th>\n",
       "      <th>Girth</th>\n",
       "      <th>Height</th>\n",
       "      <th>Volume</th>\n",
       "      <th>정도</th>\n",
       "    </tr>\n",
       "  </thead>\n",
       "  <tbody>\n",
       "    <tr>\n",
       "      <th>9</th>\n",
       "      <td>11.2</td>\n",
       "      <td>75</td>\n",
       "      <td>19.9</td>\n",
       "      <td>적음</td>\n",
       "    </tr>\n",
       "    <tr>\n",
       "      <th>10</th>\n",
       "      <td>11.3</td>\n",
       "      <td>79</td>\n",
       "      <td>24.2</td>\n",
       "      <td>적음</td>\n",
       "    </tr>\n",
       "    <tr>\n",
       "      <th>25</th>\n",
       "      <td>17.3</td>\n",
       "      <td>81</td>\n",
       "      <td>55.4</td>\n",
       "      <td>크다</td>\n",
       "    </tr>\n",
       "    <tr>\n",
       "      <th>24</th>\n",
       "      <td>16.3</td>\n",
       "      <td>77</td>\n",
       "      <td>42.6</td>\n",
       "      <td>크다</td>\n",
       "    </tr>\n",
       "    <tr>\n",
       "      <th>20</th>\n",
       "      <td>14.0</td>\n",
       "      <td>78</td>\n",
       "      <td>34.5</td>\n",
       "      <td>보통</td>\n",
       "    </tr>\n",
       "  </tbody>\n",
       "</table>\n",
       "</div>"
      ],
      "text/plain": [
       "    Girth  Height  Volume  정도\n",
       "9    11.2      75    19.9  적음\n",
       "10   11.3      79    24.2  적음\n",
       "25   17.3      81    55.4  크다\n",
       "24   16.3      77    42.6  크다\n",
       "20   14.0      78    34.5  보통"
      ]
     },
     "execution_count": 12,
     "metadata": {},
     "output_type": "execute_result"
    }
   ],
   "source": [
    "df.sample(5)"
   ]
  },
  {
   "cell_type": "markdown",
   "id": "1cc20b18",
   "metadata": {},
   "source": [
    "## pd.cut"
   ]
  },
  {
   "cell_type": "code",
   "execution_count": 13,
   "id": "fefcabe4",
   "metadata": {},
   "outputs": [
    {
     "data": {
      "text/html": [
       "<div>\n",
       "<style scoped>\n",
       "    .dataframe tbody tr th:only-of-type {\n",
       "        vertical-align: middle;\n",
       "    }\n",
       "\n",
       "    .dataframe tbody tr th {\n",
       "        vertical-align: top;\n",
       "    }\n",
       "\n",
       "    .dataframe thead th {\n",
       "        text-align: right;\n",
       "    }\n",
       "</style>\n",
       "<table border=\"1\" class=\"dataframe\">\n",
       "  <thead>\n",
       "    <tr style=\"text-align: right;\">\n",
       "      <th></th>\n",
       "      <th>Girth</th>\n",
       "      <th>Height</th>\n",
       "      <th>Volume</th>\n",
       "      <th>정도</th>\n",
       "      <th>정도2</th>\n",
       "    </tr>\n",
       "  </thead>\n",
       "  <tbody>\n",
       "    <tr>\n",
       "      <th>28</th>\n",
       "      <td>18.0</td>\n",
       "      <td>80</td>\n",
       "      <td>51.5</td>\n",
       "      <td>크다</td>\n",
       "      <td>큼</td>\n",
       "    </tr>\n",
       "    <tr>\n",
       "      <th>20</th>\n",
       "      <td>14.0</td>\n",
       "      <td>78</td>\n",
       "      <td>34.5</td>\n",
       "      <td>보통</td>\n",
       "      <td>보통</td>\n",
       "    </tr>\n",
       "    <tr>\n",
       "      <th>0</th>\n",
       "      <td>8.3</td>\n",
       "      <td>70</td>\n",
       "      <td>10.3</td>\n",
       "      <td>적음</td>\n",
       "      <td>적음</td>\n",
       "    </tr>\n",
       "    <tr>\n",
       "      <th>5</th>\n",
       "      <td>10.8</td>\n",
       "      <td>83</td>\n",
       "      <td>19.7</td>\n",
       "      <td>적음</td>\n",
       "      <td>적음</td>\n",
       "    </tr>\n",
       "    <tr>\n",
       "      <th>6</th>\n",
       "      <td>11.0</td>\n",
       "      <td>66</td>\n",
       "      <td>15.6</td>\n",
       "      <td>적음</td>\n",
       "      <td>적음</td>\n",
       "    </tr>\n",
       "    <tr>\n",
       "      <th>15</th>\n",
       "      <td>12.9</td>\n",
       "      <td>74</td>\n",
       "      <td>22.2</td>\n",
       "      <td>적음</td>\n",
       "      <td>적음</td>\n",
       "    </tr>\n",
       "    <tr>\n",
       "      <th>30</th>\n",
       "      <td>20.6</td>\n",
       "      <td>87</td>\n",
       "      <td>77.0</td>\n",
       "      <td>크다</td>\n",
       "      <td>큼</td>\n",
       "    </tr>\n",
       "  </tbody>\n",
       "</table>\n",
       "</div>"
      ],
      "text/plain": [
       "    Girth  Height  Volume  정도 정도2\n",
       "28   18.0      80    51.5  크다   큼\n",
       "20   14.0      78    34.5  보통  보통\n",
       "0     8.3      70    10.3  적음  적음\n",
       "5    10.8      83    19.7  적음  적음\n",
       "6    11.0      66    15.6  적음  적음\n",
       "15   12.9      74    22.2  적음  적음\n",
       "30   20.6      87    77.0  크다   큼"
      ]
     },
     "execution_count": 13,
     "metadata": {},
     "output_type": "execute_result"
    }
   ],
   "source": [
    "df['정도2'] = pd.cut(x= df['Volume'] , bins =[0,30,40,80], labels = ['적음','보통','큼'])\n",
    "df.sample(7)"
   ]
  },
  {
   "cell_type": "markdown",
   "id": "daeab5d3",
   "metadata": {},
   "source": [
    "## numpy 사용"
   ]
  },
  {
   "cell_type": "code",
   "execution_count": 15,
   "id": "b40517ab",
   "metadata": {},
   "outputs": [],
   "source": [
    "arr = df['Volume'].values"
   ]
  },
  {
   "cell_type": "code",
   "execution_count": null,
   "id": "70efae27",
   "metadata": {},
   "outputs": [],
   "source": [
    "# T / F 2가지 경우인 경우"
   ]
  },
  {
   "cell_type": "code",
   "execution_count": 18,
   "id": "0fe6cfa5",
   "metadata": {},
   "outputs": [],
   "source": [
    "# np.where(arr >=40, '크다','작다')"
   ]
  },
  {
   "cell_type": "code",
   "execution_count": 19,
   "id": "f1921f27",
   "metadata": {},
   "outputs": [
    {
     "data": {
      "text/plain": [
       "array(['적음', '적음', '적음', '적음', '적음', '적음', '적음', '적음', '적음', '적음', '적음',\n",
       "       '적음', '적음', '적음', '적음', '적음', '보통', '적음', '적음', '적음', '보통', '보통',\n",
       "       '보통', '보통', '크다', '크다', '크다', '크다', '크다', '크다', '크다'], dtype='<U11')"
      ]
     },
     "execution_count": 19,
     "metadata": {},
     "output_type": "execute_result"
    }
   ],
   "source": [
    "np.select( [arr >= 40, arr >= 30, arr < 30 ], ['크다','보통','적음']    )"
   ]
  }
 ],
 "metadata": {
  "kernelspec": {
   "display_name": "Python 3",
   "language": "python",
   "name": "python3"
  },
  "language_info": {
   "codemirror_mode": {
    "name": "ipython",
    "version": 3
   },
   "file_extension": ".py",
   "mimetype": "text/x-python",
   "name": "python",
   "nbconvert_exporter": "python",
   "pygments_lexer": "ipython3",
   "version": "3.8.8"
  },
  "toc": {
   "base_numbering": 1,
   "nav_menu": {},
   "number_sections": true,
   "sideBar": true,
   "skip_h1_title": false,
   "title_cell": "Table of Contents",
   "title_sidebar": "Contents",
   "toc_cell": false,
   "toc_position": {},
   "toc_section_display": true,
   "toc_window_display": false
  }
 },
 "nbformat": 4,
 "nbformat_minor": 5
}
